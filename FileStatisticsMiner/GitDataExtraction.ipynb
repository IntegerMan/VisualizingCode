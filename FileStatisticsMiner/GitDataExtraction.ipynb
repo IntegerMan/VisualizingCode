{
 "cells": [
  {
   "cell_type": "code",
   "execution_count": null,
   "metadata": {},
   "outputs": [],
   "source": [
    "# Install libraries not present in Anaconda\n",
    "%pip install pydriller"
   ]
  },
  {
   "cell_type": "code",
   "execution_count": null,
   "metadata": {},
   "outputs": [],
   "source": [
    "# Imports\n",
    "from pydriller import Repository\n",
    "\n",
    "import pandas as pd\n",
    "import plotly.express as px\n",
    "\n",
    "account = 'IntegerMan'\n",
    "repository = 'OpenRA'\n",
    "\n",
    "path = 'https://github.com/' + account + '/' + repository\n",
    "\n",
    "print('Using repository ' + path)"
   ]
  },
  {
   "cell_type": "code",
   "execution_count": null,
   "metadata": {},
   "outputs": [],
   "source": [
    "repo = Repository(path)\n",
    "\n",
    "commits = []\n",
    "\n",
    "for commit in repo.traverse_commits():\n",
    "    record = {\n",
    "        'hash': commit.hash,\n",
    "        'message': commit.msg,\n",
    "        'author_name': commit.author.name,\n",
    "        'author_email': commit.author.email,\n",
    "        'author_date': commit.author_date,\n",
    "        'author_tz': commit.author_timezone,\n",
    "        'committer_name': commit.committer.name,\n",
    "        'committer_email': commit.committer.email,\n",
    "        'committer_date': commit.committer_date,\n",
    "        'committer_tz': commit.committer_timezone,\n",
    "        'in_main': commit.in_main_branch,\n",
    "        'is_merge': commit.merge,\n",
    "        'num_deletes': commit.deletions,\n",
    "        'num_inserts': commit.insertions,\n",
    "        'lines': commit.lines,\n",
    "        'net_lines': commit.insertions - commit.deletions,\n",
    "        'num_files': commit.files,\n",
    "        'branches': ', '.join(commit.branches), # Comma separated list of branches the commit is found in\n",
    "        #'files': ', '.join(commit.modified_files), # Comma separated list of files the commit modifies\n",
    "        'parents': ', '.join(commit.parents), # Comma separated list of parents\n",
    "        # PyDriller Open Source Delta Maintainability Model (OS-DMM) stat. See https://pydriller.readthedocs.io/en/latest/deltamaintainability.html for metric definitions\n",
    "        'dmm_unit_size': commit.dmm_unit_size,\n",
    "        'dmm_unit_complexity': commit.dmm_unit_complexity,\n",
    "        'dmm_unit_interfacing': commit.dmm_unit_interfacing,\n",
    "    }\n",
    "    # Omitted: modified_files (list), project_path, project_name\n",
    "    commits.append(record)"
   ]
  },
  {
   "cell_type": "code",
   "execution_count": null,
   "metadata": {},
   "outputs": [],
   "source": [
    "\n",
    "# Translate this list of commits to a Pandas data frame, then export it to CSV for analysis\n",
    "df_commits = pd.DataFrame(commits)\n",
    "df_commits.to_csv('RawCommits.csv')\n",
    "df_commits.head()"
   ]
  }
 ],
 "metadata": {
  "language_info": {
   "name": "python"
  },
  "orig_nbformat": 4
 },
 "nbformat": 4,
 "nbformat_minor": 2
}
