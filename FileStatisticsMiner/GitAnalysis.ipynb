{
 "cells": [
  {
   "cell_type": "markdown",
   "metadata": {
    "collapsed": true,
    "pycharm": {
     "name": "#%% md\n"
    }
   },
   "source": [
    "# Git Analysis\n",
    "This notebook contains ways of visualizing git repositories in ways that are separate than the files in them. This is focused on visualizing the flow of commits, contributors, size of commits, etc. over time."
   ]
  },
  {
   "cell_type": "code",
   "execution_count": 13,
   "metadata": {
    "collapsed": false,
    "pycharm": {
     "name": "#%%\n"
    }
   },
   "outputs": [
    {
     "name": "stdout",
     "output_type": "stream",
     "text": [
      "Requirement already satisfied: pydriller in c:\\users\\admin\\anaconda3\\lib\\site-packages (2.0)\n",
      "Requirement already satisfied: lizard in c:\\users\\admin\\anaconda3\\lib\\site-packages (from pydriller) (1.17.9)\n",
      "Requirement already satisfied: pytz in c:\\users\\admin\\anaconda3\\lib\\site-packages (from pydriller) (2021.3)\n",
      "Requirement already satisfied: gitpython in c:\\users\\admin\\anaconda3\\lib\\site-packages (from pydriller) (3.1.24)\n",
      "Requirement already satisfied: typing-extensions>=3.7.4.3 in c:\\users\\admin\\anaconda3\\lib\\site-packages (from gitpython->pydriller) (3.10.0.2)\n",
      "Requirement already satisfied: gitdb<5,>=4.0.1 in c:\\users\\admin\\anaconda3\\lib\\site-packages (from gitpython->pydriller) (4.0.9)\n",
      "Requirement already satisfied: smmap<6,>=3.0.1 in c:\\users\\admin\\anaconda3\\lib\\site-packages (from gitdb<5,>=4.0.1->gitpython->pydriller) (5.0.0)\n",
      "Note: you may need to restart the kernel to use updated packages.\n"
     ]
    }
   ],
   "source": [
    "# Install libraries not present in Anaconda\n",
    "%pip install pydriller"
   ]
  },
  {
   "cell_type": "code",
   "execution_count": 14,
   "metadata": {
    "collapsed": false,
    "pycharm": {
     "name": "#%%\n"
    }
   },
   "outputs": [
    {
     "name": "stdout",
     "output_type": "stream",
     "text": [
      "Using repository https://github.com/IntegerMan/VisualizingCode\n"
     ]
    }
   ],
   "source": [
    "# Imports\n",
    "from pydriller import Repository\n",
    "\n",
    "import pandas as pd\n",
    "import plotly.express as px\n",
    "\n",
    "account = 'IntegerMan'\n",
    "repository = 'VisualizingCode'\n",
    "\n",
    "path = 'https://github.com/' + account + '/' + repository\n",
    "\n",
    "print('Using repository ' + path)"
   ]
  },
  {
   "cell_type": "code",
   "execution_count": 15,
   "metadata": {
    "collapsed": false,
    "pycharm": {
     "name": "#%%\n"
    }
   },
   "outputs": [
    {
     "data": {
      "text/html": [
       "<div>\n",
       "<style scoped>\n",
       "    .dataframe tbody tr th:only-of-type {\n",
       "        vertical-align: middle;\n",
       "    }\n",
       "\n",
       "    .dataframe tbody tr th {\n",
       "        vertical-align: top;\n",
       "    }\n",
       "\n",
       "    .dataframe thead th {\n",
       "        text-align: right;\n",
       "    }\n",
       "</style>\n",
       "<table border=\"1\" class=\"dataframe\">\n",
       "  <thead>\n",
       "    <tr style=\"text-align: right;\">\n",
       "      <th></th>\n",
       "      <th>hash</th>\n",
       "      <th>message</th>\n",
       "      <th>author_name</th>\n",
       "      <th>author_email</th>\n",
       "      <th>author_date</th>\n",
       "      <th>author_tz</th>\n",
       "      <th>committer_name</th>\n",
       "      <th>committer_email</th>\n",
       "      <th>committer_date</th>\n",
       "      <th>committer_tz</th>\n",
       "      <th>...</th>\n",
       "      <th>is_merge</th>\n",
       "      <th>num_deletes</th>\n",
       "      <th>num_inserts</th>\n",
       "      <th>net_lines</th>\n",
       "      <th>num_files</th>\n",
       "      <th>branches</th>\n",
       "      <th>parents</th>\n",
       "      <th>dmm_unit_size</th>\n",
       "      <th>dmm_unit_complexity</th>\n",
       "      <th>dmm_unit_interfacing</th>\n",
       "    </tr>\n",
       "  </thead>\n",
       "  <tbody>\n",
       "    <tr>\n",
       "      <th>0</th>\n",
       "      <td>262f4fbfa31cc7e1d9bb7b9871be1c9ac0242c57</td>\n",
       "      <td>Initial commit</td>\n",
       "      <td>Matt Eland</td>\n",
       "      <td>Matt.Eland@GMail.com</td>\n",
       "      <td>2021-10-07 00:50:53-04:00</td>\n",
       "      <td>14400</td>\n",
       "      <td>GitHub</td>\n",
       "      <td>noreply@github.com</td>\n",
       "      <td>2021-10-07 00:50:53-04:00</td>\n",
       "      <td>14400</td>\n",
       "      <td>...</td>\n",
       "      <td>False</td>\n",
       "      <td>0</td>\n",
       "      <td>131</td>\n",
       "      <td>131</td>\n",
       "      <td>2</td>\n",
       "      <td>main</td>\n",
       "      <td></td>\n",
       "      <td>NaN</td>\n",
       "      <td>NaN</td>\n",
       "      <td>NaN</td>\n",
       "    </tr>\n",
       "    <tr>\n",
       "      <th>1</th>\n",
       "      <td>436cece5340eb314fe5fe0eef94e423388755b23</td>\n",
       "      <td>Added code analysis export results from Visual...</td>\n",
       "      <td>Matt Eland</td>\n",
       "      <td>Matt.Eland@GMail.com</td>\n",
       "      <td>2021-10-07 00:53:05-04:00</td>\n",
       "      <td>14400</td>\n",
       "      <td>Matt Eland</td>\n",
       "      <td>Matt.Eland@GMail.com</td>\n",
       "      <td>2021-10-07 00:53:05-04:00</td>\n",
       "      <td>14400</td>\n",
       "      <td>...</td>\n",
       "      <td>False</td>\n",
       "      <td>0</td>\n",
       "      <td>0</td>\n",
       "      <td>0</td>\n",
       "      <td>1</td>\n",
       "      <td>main</td>\n",
       "      <td>262f4fbfa31cc7e1d9bb7b9871be1c9ac0242c57</td>\n",
       "      <td>NaN</td>\n",
       "      <td>NaN</td>\n",
       "      <td>NaN</td>\n",
       "    </tr>\n",
       "    <tr>\n",
       "      <th>2</th>\n",
       "      <td>1b7c69a77563a9845cee2e5a55affea4c590bf17</td>\n",
       "      <td>Early work on file mining</td>\n",
       "      <td>Matt Eland</td>\n",
       "      <td>Matt.Eland@GMail.com</td>\n",
       "      <td>2021-10-07 14:33:19-04:00</td>\n",
       "      <td>14400</td>\n",
       "      <td>Matt Eland</td>\n",
       "      <td>Matt.Eland@GMail.com</td>\n",
       "      <td>2021-10-07 14:33:19-04:00</td>\n",
       "      <td>14400</td>\n",
       "      <td>...</td>\n",
       "      <td>False</td>\n",
       "      <td>0</td>\n",
       "      <td>109</td>\n",
       "      <td>109</td>\n",
       "      <td>9</td>\n",
       "      <td>main</td>\n",
       "      <td>436cece5340eb314fe5fe0eef94e423388755b23</td>\n",
       "      <td>1.0</td>\n",
       "      <td>1.0</td>\n",
       "      <td>1.0</td>\n",
       "    </tr>\n",
       "    <tr>\n",
       "      <th>3</th>\n",
       "      <td>5d59ceb5390057755c3648307324e30d5ea0dc92</td>\n",
       "      <td>Mining Progress</td>\n",
       "      <td>Matt Eland</td>\n",
       "      <td>Matt.Eland@GMail.com</td>\n",
       "      <td>2021-10-07 17:39:49-04:00</td>\n",
       "      <td>14400</td>\n",
       "      <td>Matt Eland</td>\n",
       "      <td>Matt.Eland@GMail.com</td>\n",
       "      <td>2021-10-07 17:39:49-04:00</td>\n",
       "      <td>14400</td>\n",
       "      <td>...</td>\n",
       "      <td>False</td>\n",
       "      <td>32</td>\n",
       "      <td>217</td>\n",
       "      <td>249</td>\n",
       "      <td>3</td>\n",
       "      <td>main</td>\n",
       "      <td>1b7c69a77563a9845cee2e5a55affea4c590bf17</td>\n",
       "      <td>1.0</td>\n",
       "      <td>1.0</td>\n",
       "      <td>1.0</td>\n",
       "    </tr>\n",
       "    <tr>\n",
       "      <th>4</th>\n",
       "      <td>c745f4f151247070e3d5ee9c3467cd3dec763cfd</td>\n",
       "      <td>Additional Mining</td>\n",
       "      <td>Matt Eland</td>\n",
       "      <td>Matt.Eland@GMail.com</td>\n",
       "      <td>2021-10-07 19:05:52-04:00</td>\n",
       "      <td>14400</td>\n",
       "      <td>Matt Eland</td>\n",
       "      <td>Matt.Eland@GMail.com</td>\n",
       "      <td>2021-10-07 19:05:52-04:00</td>\n",
       "      <td>14400</td>\n",
       "      <td>...</td>\n",
       "      <td>False</td>\n",
       "      <td>3</td>\n",
       "      <td>3</td>\n",
       "      <td>6</td>\n",
       "      <td>1</td>\n",
       "      <td>main</td>\n",
       "      <td>5d59ceb5390057755c3648307324e30d5ea0dc92</td>\n",
       "      <td>NaN</td>\n",
       "      <td>NaN</td>\n",
       "      <td>NaN</td>\n",
       "    </tr>\n",
       "  </tbody>\n",
       "</table>\n",
       "<p>5 rows × 21 columns</p>\n",
       "</div>"
      ],
      "text/plain": [
       "                                       hash  \\\n",
       "0  262f4fbfa31cc7e1d9bb7b9871be1c9ac0242c57   \n",
       "1  436cece5340eb314fe5fe0eef94e423388755b23   \n",
       "2  1b7c69a77563a9845cee2e5a55affea4c590bf17   \n",
       "3  5d59ceb5390057755c3648307324e30d5ea0dc92   \n",
       "4  c745f4f151247070e3d5ee9c3467cd3dec763cfd   \n",
       "\n",
       "                                             message author_name  \\\n",
       "0                                     Initial commit  Matt Eland   \n",
       "1  Added code analysis export results from Visual...  Matt Eland   \n",
       "2                          Early work on file mining  Matt Eland   \n",
       "3                                    Mining Progress  Matt Eland   \n",
       "4                                  Additional Mining  Matt Eland   \n",
       "\n",
       "           author_email                author_date  author_tz committer_name  \\\n",
       "0  Matt.Eland@GMail.com  2021-10-07 00:50:53-04:00      14400         GitHub   \n",
       "1  Matt.Eland@GMail.com  2021-10-07 00:53:05-04:00      14400     Matt Eland   \n",
       "2  Matt.Eland@GMail.com  2021-10-07 14:33:19-04:00      14400     Matt Eland   \n",
       "3  Matt.Eland@GMail.com  2021-10-07 17:39:49-04:00      14400     Matt Eland   \n",
       "4  Matt.Eland@GMail.com  2021-10-07 19:05:52-04:00      14400     Matt Eland   \n",
       "\n",
       "        committer_email             committer_date  committer_tz  ...  \\\n",
       "0    noreply@github.com  2021-10-07 00:50:53-04:00         14400  ...   \n",
       "1  Matt.Eland@GMail.com  2021-10-07 00:53:05-04:00         14400  ...   \n",
       "2  Matt.Eland@GMail.com  2021-10-07 14:33:19-04:00         14400  ...   \n",
       "3  Matt.Eland@GMail.com  2021-10-07 17:39:49-04:00         14400  ...   \n",
       "4  Matt.Eland@GMail.com  2021-10-07 19:05:52-04:00         14400  ...   \n",
       "\n",
       "   is_merge  num_deletes  num_inserts  net_lines  num_files  branches  \\\n",
       "0     False            0          131        131          2      main   \n",
       "1     False            0            0          0          1      main   \n",
       "2     False            0          109        109          9      main   \n",
       "3     False           32          217        249          3      main   \n",
       "4     False            3            3          6          1      main   \n",
       "\n",
       "                                    parents dmm_unit_size  \\\n",
       "0                                                     NaN   \n",
       "1  262f4fbfa31cc7e1d9bb7b9871be1c9ac0242c57           NaN   \n",
       "2  436cece5340eb314fe5fe0eef94e423388755b23           1.0   \n",
       "3  1b7c69a77563a9845cee2e5a55affea4c590bf17           1.0   \n",
       "4  5d59ceb5390057755c3648307324e30d5ea0dc92           NaN   \n",
       "\n",
       "   dmm_unit_complexity  dmm_unit_interfacing  \n",
       "0                  NaN                   NaN  \n",
       "1                  NaN                   NaN  \n",
       "2                  1.0                   1.0  \n",
       "3                  1.0                   1.0  \n",
       "4                  NaN                   NaN  \n",
       "\n",
       "[5 rows x 21 columns]"
      ]
     },
     "execution_count": 15,
     "metadata": {},
     "output_type": "execute_result"
    }
   ],
   "source": [
    "repo = Repository(path)\n",
    "\n",
    "commits = []\n",
    "\n",
    "for commit in repo.traverse_commits():\n",
    "    record = {\n",
    "        'hash': commit.hash,\n",
    "        'message': commit.msg,\n",
    "        'author_name': commit.author.name,\n",
    "        'author_email': commit.author.email,\n",
    "        'author_date': commit.author_date,\n",
    "        'author_tz': commit.author_timezone,\n",
    "        'committer_name': commit.committer.name,\n",
    "        'committer_email': commit.committer.email,\n",
    "        'committer_date': commit.committer_date,\n",
    "        'committer_tz': commit.committer_timezone,\n",
    "        'in_main': commit.in_main_branch,\n",
    "        'is_merge': commit.merge,\n",
    "        'num_deletes': commit.deletions,\n",
    "        'num_inserts': commit.insertions,\n",
    "        'net_lines': commit.lines,\n",
    "        'num_files': commit.files,\n",
    "        'branches': ', '.join(commit.branches), # Comma separated list of branches the commit is found in\n",
    "        #'files': ', '.join(commit.modified_files), # Comma separated list of files the commit modifies\n",
    "        'parents': ', '.join(commit.parents), # Comma separated list of parents\n",
    "        # PyDriller Open Source Delta Maintainability Model (OS-DMM) stat. See https://pydriller.readthedocs.io/en/latest/deltamaintainability.html for metric definitions\n",
    "        'dmm_unit_size': commit.dmm_unit_size,\n",
    "        'dmm_unit_complexity': commit.dmm_unit_complexity,\n",
    "        'dmm_unit_interfacing': commit.dmm_unit_interfacing,\n",
    "    }\n",
    "    # Omitted: modified_files (list), project_path, project_name\n",
    "    commits.append(record)\n",
    "\n",
    "# Translate this list of commits to a Pandas data frame, then export it to CSV for analysis\n",
    "df_commits = pd.DataFrame(commits)\n",
    "df_commits.to_csv('RawCommits.csv')\n",
    "df_commits.head()"
   ]
  },
  {
   "cell_type": "code",
   "execution_count": 16,
   "metadata": {
    "collapsed": false,
    "pycharm": {
     "name": "#%%\n"
    }
   },
   "outputs": [
    {
     "data": {
      "text/html": [
       "<div>\n",
       "<style scoped>\n",
       "    .dataframe tbody tr th:only-of-type {\n",
       "        vertical-align: middle;\n",
       "    }\n",
       "\n",
       "    .dataframe tbody tr th {\n",
       "        vertical-align: top;\n",
       "    }\n",
       "\n",
       "    .dataframe thead th {\n",
       "        text-align: right;\n",
       "    }\n",
       "</style>\n",
       "<table border=\"1\" class=\"dataframe\">\n",
       "  <thead>\n",
       "    <tr style=\"text-align: right;\">\n",
       "      <th></th>\n",
       "      <th>author_tz</th>\n",
       "      <th>committer_tz</th>\n",
       "      <th>num_deletes</th>\n",
       "      <th>num_inserts</th>\n",
       "      <th>net_lines</th>\n",
       "      <th>num_files</th>\n",
       "      <th>dmm_unit_size</th>\n",
       "      <th>dmm_unit_complexity</th>\n",
       "      <th>dmm_unit_interfacing</th>\n",
       "    </tr>\n",
       "  </thead>\n",
       "  <tbody>\n",
       "    <tr>\n",
       "      <th>count</th>\n",
       "      <td>33.000000</td>\n",
       "      <td>33.000000</td>\n",
       "      <td>33.000000</td>\n",
       "      <td>33.000000</td>\n",
       "      <td>33.000000</td>\n",
       "      <td>33.000000</td>\n",
       "      <td>6.000000</td>\n",
       "      <td>6.000000</td>\n",
       "      <td>6.000000</td>\n",
       "    </tr>\n",
       "    <tr>\n",
       "      <th>mean</th>\n",
       "      <td>10581.818182</td>\n",
       "      <td>10581.818182</td>\n",
       "      <td>398.575758</td>\n",
       "      <td>2536.090909</td>\n",
       "      <td>2934.666667</td>\n",
       "      <td>2.121212</td>\n",
       "      <td>0.500000</td>\n",
       "      <td>0.725490</td>\n",
       "      <td>0.833333</td>\n",
       "    </tr>\n",
       "    <tr>\n",
       "      <th>std</th>\n",
       "      <td>6609.909915</td>\n",
       "      <td>6609.909915</td>\n",
       "      <td>1908.079958</td>\n",
       "      <td>7068.025137</td>\n",
       "      <td>7868.588762</td>\n",
       "      <td>2.088025</td>\n",
       "      <td>0.547723</td>\n",
       "      <td>0.439671</td>\n",
       "      <td>0.408248</td>\n",
       "    </tr>\n",
       "    <tr>\n",
       "      <th>min</th>\n",
       "      <td>0.000000</td>\n",
       "      <td>0.000000</td>\n",
       "      <td>0.000000</td>\n",
       "      <td>0.000000</td>\n",
       "      <td>0.000000</td>\n",
       "      <td>1.000000</td>\n",
       "      <td>0.000000</td>\n",
       "      <td>0.000000</td>\n",
       "      <td>0.000000</td>\n",
       "    </tr>\n",
       "    <tr>\n",
       "      <th>25%</th>\n",
       "      <td>0.000000</td>\n",
       "      <td>0.000000</td>\n",
       "      <td>1.000000</td>\n",
       "      <td>1.000000</td>\n",
       "      <td>2.000000</td>\n",
       "      <td>1.000000</td>\n",
       "      <td>0.000000</td>\n",
       "      <td>0.514706</td>\n",
       "      <td>1.000000</td>\n",
       "    </tr>\n",
       "    <tr>\n",
       "      <th>50%</th>\n",
       "      <td>14400.000000</td>\n",
       "      <td>14400.000000</td>\n",
       "      <td>1.000000</td>\n",
       "      <td>2.000000</td>\n",
       "      <td>6.000000</td>\n",
       "      <td>1.000000</td>\n",
       "      <td>0.500000</td>\n",
       "      <td>1.000000</td>\n",
       "      <td>1.000000</td>\n",
       "    </tr>\n",
       "    <tr>\n",
       "      <th>75%</th>\n",
       "      <td>14400.000000</td>\n",
       "      <td>14400.000000</td>\n",
       "      <td>25.000000</td>\n",
       "      <td>109.000000</td>\n",
       "      <td>109.000000</td>\n",
       "      <td>2.000000</td>\n",
       "      <td>1.000000</td>\n",
       "      <td>1.000000</td>\n",
       "      <td>1.000000</td>\n",
       "    </tr>\n",
       "    <tr>\n",
       "      <th>max</th>\n",
       "      <td>18000.000000</td>\n",
       "      <td>18000.000000</td>\n",
       "      <td>10902.000000</td>\n",
       "      <td>33703.000000</td>\n",
       "      <td>34060.000000</td>\n",
       "      <td>9.000000</td>\n",
       "      <td>1.000000</td>\n",
       "      <td>1.000000</td>\n",
       "      <td>1.000000</td>\n",
       "    </tr>\n",
       "  </tbody>\n",
       "</table>\n",
       "</div>"
      ],
      "text/plain": [
       "          author_tz  committer_tz   num_deletes   num_inserts     net_lines  \\\n",
       "count     33.000000     33.000000     33.000000     33.000000     33.000000   \n",
       "mean   10581.818182  10581.818182    398.575758   2536.090909   2934.666667   \n",
       "std     6609.909915   6609.909915   1908.079958   7068.025137   7868.588762   \n",
       "min        0.000000      0.000000      0.000000      0.000000      0.000000   \n",
       "25%        0.000000      0.000000      1.000000      1.000000      2.000000   \n",
       "50%    14400.000000  14400.000000      1.000000      2.000000      6.000000   \n",
       "75%    14400.000000  14400.000000     25.000000    109.000000    109.000000   \n",
       "max    18000.000000  18000.000000  10902.000000  33703.000000  34060.000000   \n",
       "\n",
       "       num_files  dmm_unit_size  dmm_unit_complexity  dmm_unit_interfacing  \n",
       "count  33.000000       6.000000             6.000000              6.000000  \n",
       "mean    2.121212       0.500000             0.725490              0.833333  \n",
       "std     2.088025       0.547723             0.439671              0.408248  \n",
       "min     1.000000       0.000000             0.000000              0.000000  \n",
       "25%     1.000000       0.000000             0.514706              1.000000  \n",
       "50%     1.000000       0.500000             1.000000              1.000000  \n",
       "75%     2.000000       1.000000             1.000000              1.000000  \n",
       "max     9.000000       1.000000             1.000000              1.000000  "
      ]
     },
     "execution_count": 16,
     "metadata": {},
     "output_type": "execute_result"
    }
   ],
   "source": [
    "df_commits.describe()"
   ]
  },
  {
   "cell_type": "code",
   "execution_count": 17,
   "metadata": {},
   "outputs": [],
   "source": [
    "# Define common variables for plotly\n",
    "from Theming import theme, template"
   ]
  },
  {
   "cell_type": "code",
   "execution_count": 18,
   "metadata": {
    "collapsed": false,
    "pycharm": {
     "name": "#%%\n"
    }
   },
   "outputs": [
    {
     "data": {
      "application/vnd.plotly.v1+json": {
       "config": {
        "plotlyServerURL": "https://plot.ly"
       },
       "data": [
        {
         "alignmentgroup": "True",
         "bingroup": "x",
         "hovertemplate": "Net Lines of Code=%{x}<br>count=%{y}<extra></extra>",
         "legendgroup": "",
         "marker": {
          "color": "rgb(95, 70, 144)",
          "pattern": {
           "shape": ""
          }
         },
         "name": "",
         "offsetgroup": "",
         "orientation": "v",
         "showlegend": false,
         "type": "histogram",
         "x": [
          131,
          0,
          109,
          249,
          6,
          69,
          97,
          1,
          12960,
          20693,
          18,
          1,
          3,
          2,
          8,
          2,
          2,
          2,
          2,
          48,
          2,
          2,
          3869,
          2,
          34060,
          2251,
          2,
          2,
          25,
          2,
          107,
          2,
          22115
         ],
         "xaxis": "x",
         "yaxis": "y"
        }
       ],
       "layout": {
        "barmode": "relative",
        "legend": {
         "tracegroupgap": 0
        },
        "template": {
         "data": {
          "bar": [
           {
            "error_x": {
             "color": "#f2f5fa"
            },
            "error_y": {
             "color": "#f2f5fa"
            },
            "marker": {
             "line": {
              "color": "rgb(17,17,17)",
              "width": 0.5
             },
             "pattern": {
              "fillmode": "overlay",
              "size": 10,
              "solidity": 0.2
             }
            },
            "type": "bar"
           }
          ],
          "barpolar": [
           {
            "marker": {
             "line": {
              "color": "rgb(17,17,17)",
              "width": 0.5
             },
             "pattern": {
              "fillmode": "overlay",
              "size": 10,
              "solidity": 0.2
             }
            },
            "type": "barpolar"
           }
          ],
          "carpet": [
           {
            "aaxis": {
             "endlinecolor": "#A2B1C6",
             "gridcolor": "#506784",
             "linecolor": "#506784",
             "minorgridcolor": "#506784",
             "startlinecolor": "#A2B1C6"
            },
            "baxis": {
             "endlinecolor": "#A2B1C6",
             "gridcolor": "#506784",
             "linecolor": "#506784",
             "minorgridcolor": "#506784",
             "startlinecolor": "#A2B1C6"
            },
            "type": "carpet"
           }
          ],
          "choropleth": [
           {
            "colorbar": {
             "outlinewidth": 0,
             "ticks": ""
            },
            "type": "choropleth"
           }
          ],
          "contour": [
           {
            "colorbar": {
             "outlinewidth": 0,
             "ticks": ""
            },
            "colorscale": [
             [
              0,
              "#0d0887"
             ],
             [
              0.1111111111111111,
              "#46039f"
             ],
             [
              0.2222222222222222,
              "#7201a8"
             ],
             [
              0.3333333333333333,
              "#9c179e"
             ],
             [
              0.4444444444444444,
              "#bd3786"
             ],
             [
              0.5555555555555556,
              "#d8576b"
             ],
             [
              0.6666666666666666,
              "#ed7953"
             ],
             [
              0.7777777777777778,
              "#fb9f3a"
             ],
             [
              0.8888888888888888,
              "#fdca26"
             ],
             [
              1,
              "#f0f921"
             ]
            ],
            "type": "contour"
           }
          ],
          "contourcarpet": [
           {
            "colorbar": {
             "outlinewidth": 0,
             "ticks": ""
            },
            "type": "contourcarpet"
           }
          ],
          "heatmap": [
           {
            "colorbar": {
             "outlinewidth": 0,
             "ticks": ""
            },
            "colorscale": [
             [
              0,
              "#0d0887"
             ],
             [
              0.1111111111111111,
              "#46039f"
             ],
             [
              0.2222222222222222,
              "#7201a8"
             ],
             [
              0.3333333333333333,
              "#9c179e"
             ],
             [
              0.4444444444444444,
              "#bd3786"
             ],
             [
              0.5555555555555556,
              "#d8576b"
             ],
             [
              0.6666666666666666,
              "#ed7953"
             ],
             [
              0.7777777777777778,
              "#fb9f3a"
             ],
             [
              0.8888888888888888,
              "#fdca26"
             ],
             [
              1,
              "#f0f921"
             ]
            ],
            "type": "heatmap"
           }
          ],
          "heatmapgl": [
           {
            "colorbar": {
             "outlinewidth": 0,
             "ticks": ""
            },
            "colorscale": [
             [
              0,
              "#0d0887"
             ],
             [
              0.1111111111111111,
              "#46039f"
             ],
             [
              0.2222222222222222,
              "#7201a8"
             ],
             [
              0.3333333333333333,
              "#9c179e"
             ],
             [
              0.4444444444444444,
              "#bd3786"
             ],
             [
              0.5555555555555556,
              "#d8576b"
             ],
             [
              0.6666666666666666,
              "#ed7953"
             ],
             [
              0.7777777777777778,
              "#fb9f3a"
             ],
             [
              0.8888888888888888,
              "#fdca26"
             ],
             [
              1,
              "#f0f921"
             ]
            ],
            "type": "heatmapgl"
           }
          ],
          "histogram": [
           {
            "marker": {
             "pattern": {
              "fillmode": "overlay",
              "size": 10,
              "solidity": 0.2
             }
            },
            "type": "histogram"
           }
          ],
          "histogram2d": [
           {
            "colorbar": {
             "outlinewidth": 0,
             "ticks": ""
            },
            "colorscale": [
             [
              0,
              "#0d0887"
             ],
             [
              0.1111111111111111,
              "#46039f"
             ],
             [
              0.2222222222222222,
              "#7201a8"
             ],
             [
              0.3333333333333333,
              "#9c179e"
             ],
             [
              0.4444444444444444,
              "#bd3786"
             ],
             [
              0.5555555555555556,
              "#d8576b"
             ],
             [
              0.6666666666666666,
              "#ed7953"
             ],
             [
              0.7777777777777778,
              "#fb9f3a"
             ],
             [
              0.8888888888888888,
              "#fdca26"
             ],
             [
              1,
              "#f0f921"
             ]
            ],
            "type": "histogram2d"
           }
          ],
          "histogram2dcontour": [
           {
            "colorbar": {
             "outlinewidth": 0,
             "ticks": ""
            },
            "colorscale": [
             [
              0,
              "#0d0887"
             ],
             [
              0.1111111111111111,
              "#46039f"
             ],
             [
              0.2222222222222222,
              "#7201a8"
             ],
             [
              0.3333333333333333,
              "#9c179e"
             ],
             [
              0.4444444444444444,
              "#bd3786"
             ],
             [
              0.5555555555555556,
              "#d8576b"
             ],
             [
              0.6666666666666666,
              "#ed7953"
             ],
             [
              0.7777777777777778,
              "#fb9f3a"
             ],
             [
              0.8888888888888888,
              "#fdca26"
             ],
             [
              1,
              "#f0f921"
             ]
            ],
            "type": "histogram2dcontour"
           }
          ],
          "mesh3d": [
           {
            "colorbar": {
             "outlinewidth": 0,
             "ticks": ""
            },
            "type": "mesh3d"
           }
          ],
          "parcoords": [
           {
            "line": {
             "colorbar": {
              "outlinewidth": 0,
              "ticks": ""
             }
            },
            "type": "parcoords"
           }
          ],
          "pie": [
           {
            "automargin": true,
            "type": "pie"
           }
          ],
          "scatter": [
           {
            "marker": {
             "line": {
              "color": "#283442"
             }
            },
            "type": "scatter"
           }
          ],
          "scatter3d": [
           {
            "line": {
             "colorbar": {
              "outlinewidth": 0,
              "ticks": ""
             }
            },
            "marker": {
             "colorbar": {
              "outlinewidth": 0,
              "ticks": ""
             }
            },
            "type": "scatter3d"
           }
          ],
          "scattercarpet": [
           {
            "marker": {
             "colorbar": {
              "outlinewidth": 0,
              "ticks": ""
             }
            },
            "type": "scattercarpet"
           }
          ],
          "scattergeo": [
           {
            "marker": {
             "colorbar": {
              "outlinewidth": 0,
              "ticks": ""
             }
            },
            "type": "scattergeo"
           }
          ],
          "scattergl": [
           {
            "marker": {
             "line": {
              "color": "#283442"
             }
            },
            "type": "scattergl"
           }
          ],
          "scattermapbox": [
           {
            "marker": {
             "colorbar": {
              "outlinewidth": 0,
              "ticks": ""
             }
            },
            "type": "scattermapbox"
           }
          ],
          "scatterpolar": [
           {
            "marker": {
             "colorbar": {
              "outlinewidth": 0,
              "ticks": ""
             }
            },
            "type": "scatterpolar"
           }
          ],
          "scatterpolargl": [
           {
            "marker": {
             "colorbar": {
              "outlinewidth": 0,
              "ticks": ""
             }
            },
            "type": "scatterpolargl"
           }
          ],
          "scatterternary": [
           {
            "marker": {
             "colorbar": {
              "outlinewidth": 0,
              "ticks": ""
             }
            },
            "type": "scatterternary"
           }
          ],
          "surface": [
           {
            "colorbar": {
             "outlinewidth": 0,
             "ticks": ""
            },
            "colorscale": [
             [
              0,
              "#0d0887"
             ],
             [
              0.1111111111111111,
              "#46039f"
             ],
             [
              0.2222222222222222,
              "#7201a8"
             ],
             [
              0.3333333333333333,
              "#9c179e"
             ],
             [
              0.4444444444444444,
              "#bd3786"
             ],
             [
              0.5555555555555556,
              "#d8576b"
             ],
             [
              0.6666666666666666,
              "#ed7953"
             ],
             [
              0.7777777777777778,
              "#fb9f3a"
             ],
             [
              0.8888888888888888,
              "#fdca26"
             ],
             [
              1,
              "#f0f921"
             ]
            ],
            "type": "surface"
           }
          ],
          "table": [
           {
            "cells": {
             "fill": {
              "color": "#506784"
             },
             "line": {
              "color": "rgb(17,17,17)"
             }
            },
            "header": {
             "fill": {
              "color": "#2a3f5f"
             },
             "line": {
              "color": "rgb(17,17,17)"
             }
            },
            "type": "table"
           }
          ]
         },
         "layout": {
          "annotationdefaults": {
           "arrowcolor": "#f2f5fa",
           "arrowhead": 0,
           "arrowwidth": 1
          },
          "autotypenumbers": "strict",
          "coloraxis": {
           "colorbar": {
            "outlinewidth": 0,
            "ticks": ""
           }
          },
          "colorscale": {
           "diverging": [
            [
             0,
             "#8e0152"
            ],
            [
             0.1,
             "#c51b7d"
            ],
            [
             0.2,
             "#de77ae"
            ],
            [
             0.3,
             "#f1b6da"
            ],
            [
             0.4,
             "#fde0ef"
            ],
            [
             0.5,
             "#f7f7f7"
            ],
            [
             0.6,
             "#e6f5d0"
            ],
            [
             0.7,
             "#b8e186"
            ],
            [
             0.8,
             "#7fbc41"
            ],
            [
             0.9,
             "#4d9221"
            ],
            [
             1,
             "#276419"
            ]
           ],
           "sequential": [
            [
             0,
             "#0d0887"
            ],
            [
             0.1111111111111111,
             "#46039f"
            ],
            [
             0.2222222222222222,
             "#7201a8"
            ],
            [
             0.3333333333333333,
             "#9c179e"
            ],
            [
             0.4444444444444444,
             "#bd3786"
            ],
            [
             0.5555555555555556,
             "#d8576b"
            ],
            [
             0.6666666666666666,
             "#ed7953"
            ],
            [
             0.7777777777777778,
             "#fb9f3a"
            ],
            [
             0.8888888888888888,
             "#fdca26"
            ],
            [
             1,
             "#f0f921"
            ]
           ],
           "sequentialminus": [
            [
             0,
             "#0d0887"
            ],
            [
             0.1111111111111111,
             "#46039f"
            ],
            [
             0.2222222222222222,
             "#7201a8"
            ],
            [
             0.3333333333333333,
             "#9c179e"
            ],
            [
             0.4444444444444444,
             "#bd3786"
            ],
            [
             0.5555555555555556,
             "#d8576b"
            ],
            [
             0.6666666666666666,
             "#ed7953"
            ],
            [
             0.7777777777777778,
             "#fb9f3a"
            ],
            [
             0.8888888888888888,
             "#fdca26"
            ],
            [
             1,
             "#f0f921"
            ]
           ]
          },
          "colorway": [
           "#636efa",
           "#EF553B",
           "#00cc96",
           "#ab63fa",
           "#FFA15A",
           "#19d3f3",
           "#FF6692",
           "#B6E880",
           "#FF97FF",
           "#FECB52"
          ],
          "font": {
           "color": "#f2f5fa"
          },
          "geo": {
           "bgcolor": "rgb(17,17,17)",
           "lakecolor": "rgb(17,17,17)",
           "landcolor": "rgb(17,17,17)",
           "showlakes": true,
           "showland": true,
           "subunitcolor": "#506784"
          },
          "hoverlabel": {
           "align": "left"
          },
          "hovermode": "closest",
          "mapbox": {
           "style": "dark"
          },
          "paper_bgcolor": "rgb(17,17,17)",
          "plot_bgcolor": "rgb(17,17,17)",
          "polar": {
           "angularaxis": {
            "gridcolor": "#506784",
            "linecolor": "#506784",
            "ticks": ""
           },
           "bgcolor": "rgb(17,17,17)",
           "radialaxis": {
            "gridcolor": "#506784",
            "linecolor": "#506784",
            "ticks": ""
           }
          },
          "scene": {
           "xaxis": {
            "backgroundcolor": "rgb(17,17,17)",
            "gridcolor": "#506784",
            "gridwidth": 2,
            "linecolor": "#506784",
            "showbackground": true,
            "ticks": "",
            "zerolinecolor": "#C8D4E3"
           },
           "yaxis": {
            "backgroundcolor": "rgb(17,17,17)",
            "gridcolor": "#506784",
            "gridwidth": 2,
            "linecolor": "#506784",
            "showbackground": true,
            "ticks": "",
            "zerolinecolor": "#C8D4E3"
           },
           "zaxis": {
            "backgroundcolor": "rgb(17,17,17)",
            "gridcolor": "#506784",
            "gridwidth": 2,
            "linecolor": "#506784",
            "showbackground": true,
            "ticks": "",
            "zerolinecolor": "#C8D4E3"
           }
          },
          "shapedefaults": {
           "line": {
            "color": "#f2f5fa"
           }
          },
          "sliderdefaults": {
           "bgcolor": "#C8D4E3",
           "bordercolor": "rgb(17,17,17)",
           "borderwidth": 1,
           "tickwidth": 0
          },
          "ternary": {
           "aaxis": {
            "gridcolor": "#506784",
            "linecolor": "#506784",
            "ticks": ""
           },
           "baxis": {
            "gridcolor": "#506784",
            "linecolor": "#506784",
            "ticks": ""
           },
           "bgcolor": "rgb(17,17,17)",
           "caxis": {
            "gridcolor": "#506784",
            "linecolor": "#506784",
            "ticks": ""
           }
          },
          "title": {
           "x": 0.05
          },
          "updatemenudefaults": {
           "bgcolor": "#506784",
           "borderwidth": 0
          },
          "xaxis": {
           "automargin": true,
           "gridcolor": "#283442",
           "linecolor": "#506784",
           "ticks": "",
           "title": {
            "standoff": 15
           },
           "zerolinecolor": "#283442",
           "zerolinewidth": 2
          },
          "yaxis": {
           "automargin": true,
           "gridcolor": "#283442",
           "linecolor": "#506784",
           "ticks": "",
           "title": {
            "standoff": 15
           },
           "zerolinecolor": "#283442",
           "zerolinewidth": 2
          }
         }
        },
        "title": {
         "text": "Net Lines of Code"
        },
        "xaxis": {
         "anchor": "y",
         "domain": [
          0,
          1
         ],
         "title": {
          "text": "Net Lines of Code"
         }
        },
        "yaxis": {
         "anchor": "x",
         "domain": [
          0,
          1
         ],
         "title": {
          "text": "count"
         }
        }
       }
      }
     },
     "metadata": {},
     "output_type": "display_data"
    }
   ],
   "source": [
    "# Histogram of net lines of code\n",
    "fig = px.histogram(df_commits,\n",
    "                   x=\"net_lines\",\n",
    "                   title='Net Lines of Code',\n",
    "                   labels={'net_lines': 'Net Lines of Code'},\n",
    "                   template=template,\n",
    "                   color_discrete_sequence=theme)\n",
    "fig.show()"
   ]
  },
  {
   "cell_type": "code",
   "execution_count": 19,
   "metadata": {
    "collapsed": false,
    "pycharm": {
     "name": "#%%\n"
    }
   },
   "outputs": [
    {
     "data": {
      "application/vnd.plotly.v1+json": {
       "config": {
        "plotlyServerURL": "https://plot.ly"
       },
       "data": [
        {
         "customdata": [
          [
           "Matt Eland",
           "2021-10-07T00:50:53-04:00",
           "262f4fbfa31cc7e1d9bb7b9871be1c9ac0242c57",
           "main"
          ],
          [
           "Matt Eland",
           "2021-10-07T00:53:05-04:00",
           "436cece5340eb314fe5fe0eef94e423388755b23",
           "main"
          ],
          [
           "Matt Eland",
           "2021-10-07T14:33:19-04:00",
           "1b7c69a77563a9845cee2e5a55affea4c590bf17",
           "main"
          ],
          [
           "Matt Eland",
           "2021-10-07T17:39:49-04:00",
           "5d59ceb5390057755c3648307324e30d5ea0dc92",
           "main"
          ],
          [
           "Matt Eland",
           "2021-10-07T19:05:52-04:00",
           "c745f4f151247070e3d5ee9c3467cd3dec763cfd",
           "main"
          ],
          [
           "Matt Eland",
           "2021-10-07T19:15:44-04:00",
           "ee5b5ce7d80cc88bf0ce64954c74d819947eb35f",
           "main"
          ],
          [
           "Matt Eland",
           "2021-10-07T20:19:50-04:00",
           "93b1df991e39ee919853d47752c56e883f3752d9",
           "main"
          ],
          [
           "Matt Eland",
           "2021-10-07T21:10:04-04:00",
           "5fc09b9af7a7819843886a5f1ab47090c3d9e42f",
           "main"
          ],
          [
           "Matt Eland",
           "2021-10-07T22:33:42-04:00",
           "76a5f689be78f4173f5219e661fbe0777275362e",
           "main"
          ],
          [
           "Matt Eland",
           "2021-10-08T00:31:06-04:00",
           "24337103c37db0990433f59c85069e332a5c3d34",
           "main"
          ],
          [
           "Matt Eland",
           "2021-10-08T00:35:10-04:00",
           "236831533b6dc24025b9de6177c3868d7be6b4f5",
           "main"
          ],
          [
           "repo-visualizer",
           "2021-10-08T04:35:28+00:00",
           "8af76dc9e44fd4708a76b8561cecc4cb594965a8",
           "main"
          ],
          [
           "Matt Eland",
           "2021-10-08T00:40:55-04:00",
           "1514ad1c11600145b375f8bd3e542fab2d9c64f8",
           "main"
          ],
          [
           "repo-visualizer",
           "2021-10-08T04:41:09+00:00",
           "cb27c66d48103f7d7dcb1a04958689c9e7527c37",
           "main"
          ],
          [
           "Matt Eland",
           "2021-10-08T00:41:58-04:00",
           "60d78d84760ecd540f3553d0c29eb4ec26829327",
           "main"
          ],
          [
           "Matt Eland",
           "2021-10-08T00:42:01-04:00",
           "3f29474b5c30f1450409b073a621cce204911ea7",
           "main"
          ],
          [
           "repo-visualizer",
           "2021-10-08T04:42:17+00:00",
           "005d7cf96a8688f1d6f6fcc6f9a3842e88a1c0aa",
           "main"
          ],
          [
           "Matt Eland",
           "2021-10-08T00:55:32-04:00",
           "87cbe07450e4d8e5dc10433c760a98025bb53256",
           "main"
          ],
          [
           "repo-visualizer",
           "2021-10-08T04:55:48+00:00",
           "0c54ad2e0eae77e19ed09c8f8912ddcb11aa145e",
           "main"
          ],
          [
           "Matt Eland",
           "2021-10-08T00:57:08-04:00",
           "3714050ae7e1a4d98577c583f3fdaa397654a02e",
           "main"
          ],
          [
           "Matt Eland",
           "2021-10-08T00:57:10-04:00",
           "cca85def0ba34c0aa7f137f9e2734382f7a87846",
           "main"
          ],
          [
           "repo-visualizer",
           "2021-10-08T04:57:24+00:00",
           "b3a3f2d709441b09c7760d42ea3c6681bfec3c66",
           "main"
          ],
          [
           "Matt Eland",
           "2021-10-08T01:18:44-04:00",
           "bf00d92c51f3c62861d197c681de3b3c023fe4c7",
           "main"
          ],
          [
           "repo-visualizer",
           "2021-10-08T05:18:59+00:00",
           "3945658788057ef0973ce8e5115bcac0c66367ff",
           "main"
          ],
          [
           "Matt Eland",
           "2021-10-08T17:37:45-04:00",
           "4b5c8f35b0225c67e0509088230b09b836ec12bc",
           "main"
          ],
          [
           "Matt Eland",
           "2021-10-08T17:38:16-04:00",
           "6ae42ba787ec01d6fc8518b1f30084af9e2ec084",
           "main"
          ],
          [
           "Matt Eland",
           "2021-10-08T17:38:40-04:00",
           "b0a4736c9102943380753ce7237af838c4b1ffd2",
           "main"
          ],
          [
           "repo-visualizer",
           "2021-10-08T21:39:05+00:00",
           "061b419110deb437be379fc6e8091ce1897b0e4e",
           "main"
          ],
          [
           "Matt Eland",
           "2021-10-08T17:40:38-04:00",
           "97f2e7b7059de1f16e763e0ae871c28eaa65c806",
           "main"
          ],
          [
           "repo-visualizer",
           "2021-10-08T21:40:53+00:00",
           "8ca249f917f1409d5c41f1cc0ca208ed519b3603",
           "main"
          ],
          [
           "Matt Eland",
           "2021-10-08T17:43:02-04:00",
           "ad6abc9bf333f4ebe193a96866a3390a297614ef",
           "main"
          ],
          [
           "repo-visualizer",
           "2021-10-08T21:43:17+00:00",
           "1e4b4690b90f793fca9806275ef8b0ed841d9255",
           "main"
          ],
          [
           "Matt Eland",
           "2021-12-21T11:02:44-05:00",
           "8c1a498630ca124691ec20b9a8447b1ec4821df9",
           "main"
          ]
         ],
         "hovertemplate": "<b>%{hovertext}</b><br><br>num_files=%{x}<br>net_lines=%{y}<br>author_name=%{customdata[0]}<br>author_date=%{customdata[1]}<br>hash=%{customdata[2]}<br>branches=%{customdata[3]}<extra></extra>",
         "hovertext": [
          "Initial commit",
          "Added code analysis export results from Visual Studio",
          "Early work on file mining",
          "Mining Progress",
          "Additional Mining",
          "Added GitAnalyzer",
          "Working on visualizations",
          "Added a sort",
          "Pretty good tree visualization",
          "Tree improvements, added tasks list",
          "Experimentation",
          "Repo visualizer: updated diagram",
          "Added link to Octo",
          "Repo visualizer: updated diagram",
          "Updated Tasks to remind me about Octo later",
          "Merge remote-tracking branch 'origin/main' into main",
          "Repo visualizer: updated diagram",
          "Ignore the .idea folder",
          "Repo visualizer: updated diagram",
          "Nuked a redundant .idea folder",
          "Merge remote-tracking branch 'origin/main' into main",
          "Repo visualizer: updated diagram",
          "Box plot improvements",
          "Repo visualizer: updated diagram",
          "Nice and shiny structural mining",
          "Early git visualization",
          "Adding file to ignore the .csv generated unless copied to a project",
          "Repo visualizer: updated diagram",
          "This file should be unversioned",
          "Repo visualizer: updated diagram",
          "Corrected documentation",
          "Repo visualizer: updated diagram",
          "Updated themes"
         ],
         "legendgroup": "",
         "marker": {
          "color": "rgb(95, 70, 144)",
          "symbol": "circle"
         },
         "mode": "markers",
         "name": "",
         "orientation": "v",
         "showlegend": false,
         "type": "scatter",
         "x": [
          2,
          1,
          9,
          3,
          1,
          7,
          3,
          1,
          2,
          3,
          2,
          1,
          1,
          1,
          1,
          1,
          1,
          1,
          1,
          7,
          1,
          1,
          2,
          1,
          6,
          3,
          1,
          1,
          1,
          1,
          1,
          1,
          1
         ],
         "xaxis": "x",
         "y": [
          131,
          0,
          109,
          249,
          6,
          69,
          97,
          1,
          12960,
          20693,
          18,
          1,
          3,
          2,
          8,
          2,
          2,
          2,
          2,
          48,
          2,
          2,
          3869,
          2,
          34060,
          2251,
          2,
          2,
          25,
          2,
          107,
          2,
          22115
         ],
         "yaxis": "y"
        }
       ],
       "layout": {
        "legend": {
         "tracegroupgap": 0
        },
        "margin": {
         "t": 60
        },
        "template": {
         "data": {
          "bar": [
           {
            "error_x": {
             "color": "#f2f5fa"
            },
            "error_y": {
             "color": "#f2f5fa"
            },
            "marker": {
             "line": {
              "color": "rgb(17,17,17)",
              "width": 0.5
             },
             "pattern": {
              "fillmode": "overlay",
              "size": 10,
              "solidity": 0.2
             }
            },
            "type": "bar"
           }
          ],
          "barpolar": [
           {
            "marker": {
             "line": {
              "color": "rgb(17,17,17)",
              "width": 0.5
             },
             "pattern": {
              "fillmode": "overlay",
              "size": 10,
              "solidity": 0.2
             }
            },
            "type": "barpolar"
           }
          ],
          "carpet": [
           {
            "aaxis": {
             "endlinecolor": "#A2B1C6",
             "gridcolor": "#506784",
             "linecolor": "#506784",
             "minorgridcolor": "#506784",
             "startlinecolor": "#A2B1C6"
            },
            "baxis": {
             "endlinecolor": "#A2B1C6",
             "gridcolor": "#506784",
             "linecolor": "#506784",
             "minorgridcolor": "#506784",
             "startlinecolor": "#A2B1C6"
            },
            "type": "carpet"
           }
          ],
          "choropleth": [
           {
            "colorbar": {
             "outlinewidth": 0,
             "ticks": ""
            },
            "type": "choropleth"
           }
          ],
          "contour": [
           {
            "colorbar": {
             "outlinewidth": 0,
             "ticks": ""
            },
            "colorscale": [
             [
              0,
              "#0d0887"
             ],
             [
              0.1111111111111111,
              "#46039f"
             ],
             [
              0.2222222222222222,
              "#7201a8"
             ],
             [
              0.3333333333333333,
              "#9c179e"
             ],
             [
              0.4444444444444444,
              "#bd3786"
             ],
             [
              0.5555555555555556,
              "#d8576b"
             ],
             [
              0.6666666666666666,
              "#ed7953"
             ],
             [
              0.7777777777777778,
              "#fb9f3a"
             ],
             [
              0.8888888888888888,
              "#fdca26"
             ],
             [
              1,
              "#f0f921"
             ]
            ],
            "type": "contour"
           }
          ],
          "contourcarpet": [
           {
            "colorbar": {
             "outlinewidth": 0,
             "ticks": ""
            },
            "type": "contourcarpet"
           }
          ],
          "heatmap": [
           {
            "colorbar": {
             "outlinewidth": 0,
             "ticks": ""
            },
            "colorscale": [
             [
              0,
              "#0d0887"
             ],
             [
              0.1111111111111111,
              "#46039f"
             ],
             [
              0.2222222222222222,
              "#7201a8"
             ],
             [
              0.3333333333333333,
              "#9c179e"
             ],
             [
              0.4444444444444444,
              "#bd3786"
             ],
             [
              0.5555555555555556,
              "#d8576b"
             ],
             [
              0.6666666666666666,
              "#ed7953"
             ],
             [
              0.7777777777777778,
              "#fb9f3a"
             ],
             [
              0.8888888888888888,
              "#fdca26"
             ],
             [
              1,
              "#f0f921"
             ]
            ],
            "type": "heatmap"
           }
          ],
          "heatmapgl": [
           {
            "colorbar": {
             "outlinewidth": 0,
             "ticks": ""
            },
            "colorscale": [
             [
              0,
              "#0d0887"
             ],
             [
              0.1111111111111111,
              "#46039f"
             ],
             [
              0.2222222222222222,
              "#7201a8"
             ],
             [
              0.3333333333333333,
              "#9c179e"
             ],
             [
              0.4444444444444444,
              "#bd3786"
             ],
             [
              0.5555555555555556,
              "#d8576b"
             ],
             [
              0.6666666666666666,
              "#ed7953"
             ],
             [
              0.7777777777777778,
              "#fb9f3a"
             ],
             [
              0.8888888888888888,
              "#fdca26"
             ],
             [
              1,
              "#f0f921"
             ]
            ],
            "type": "heatmapgl"
           }
          ],
          "histogram": [
           {
            "marker": {
             "pattern": {
              "fillmode": "overlay",
              "size": 10,
              "solidity": 0.2
             }
            },
            "type": "histogram"
           }
          ],
          "histogram2d": [
           {
            "colorbar": {
             "outlinewidth": 0,
             "ticks": ""
            },
            "colorscale": [
             [
              0,
              "#0d0887"
             ],
             [
              0.1111111111111111,
              "#46039f"
             ],
             [
              0.2222222222222222,
              "#7201a8"
             ],
             [
              0.3333333333333333,
              "#9c179e"
             ],
             [
              0.4444444444444444,
              "#bd3786"
             ],
             [
              0.5555555555555556,
              "#d8576b"
             ],
             [
              0.6666666666666666,
              "#ed7953"
             ],
             [
              0.7777777777777778,
              "#fb9f3a"
             ],
             [
              0.8888888888888888,
              "#fdca26"
             ],
             [
              1,
              "#f0f921"
             ]
            ],
            "type": "histogram2d"
           }
          ],
          "histogram2dcontour": [
           {
            "colorbar": {
             "outlinewidth": 0,
             "ticks": ""
            },
            "colorscale": [
             [
              0,
              "#0d0887"
             ],
             [
              0.1111111111111111,
              "#46039f"
             ],
             [
              0.2222222222222222,
              "#7201a8"
             ],
             [
              0.3333333333333333,
              "#9c179e"
             ],
             [
              0.4444444444444444,
              "#bd3786"
             ],
             [
              0.5555555555555556,
              "#d8576b"
             ],
             [
              0.6666666666666666,
              "#ed7953"
             ],
             [
              0.7777777777777778,
              "#fb9f3a"
             ],
             [
              0.8888888888888888,
              "#fdca26"
             ],
             [
              1,
              "#f0f921"
             ]
            ],
            "type": "histogram2dcontour"
           }
          ],
          "mesh3d": [
           {
            "colorbar": {
             "outlinewidth": 0,
             "ticks": ""
            },
            "type": "mesh3d"
           }
          ],
          "parcoords": [
           {
            "line": {
             "colorbar": {
              "outlinewidth": 0,
              "ticks": ""
             }
            },
            "type": "parcoords"
           }
          ],
          "pie": [
           {
            "automargin": true,
            "type": "pie"
           }
          ],
          "scatter": [
           {
            "marker": {
             "line": {
              "color": "#283442"
             }
            },
            "type": "scatter"
           }
          ],
          "scatter3d": [
           {
            "line": {
             "colorbar": {
              "outlinewidth": 0,
              "ticks": ""
             }
            },
            "marker": {
             "colorbar": {
              "outlinewidth": 0,
              "ticks": ""
             }
            },
            "type": "scatter3d"
           }
          ],
          "scattercarpet": [
           {
            "marker": {
             "colorbar": {
              "outlinewidth": 0,
              "ticks": ""
             }
            },
            "type": "scattercarpet"
           }
          ],
          "scattergeo": [
           {
            "marker": {
             "colorbar": {
              "outlinewidth": 0,
              "ticks": ""
             }
            },
            "type": "scattergeo"
           }
          ],
          "scattergl": [
           {
            "marker": {
             "line": {
              "color": "#283442"
             }
            },
            "type": "scattergl"
           }
          ],
          "scattermapbox": [
           {
            "marker": {
             "colorbar": {
              "outlinewidth": 0,
              "ticks": ""
             }
            },
            "type": "scattermapbox"
           }
          ],
          "scatterpolar": [
           {
            "marker": {
             "colorbar": {
              "outlinewidth": 0,
              "ticks": ""
             }
            },
            "type": "scatterpolar"
           }
          ],
          "scatterpolargl": [
           {
            "marker": {
             "colorbar": {
              "outlinewidth": 0,
              "ticks": ""
             }
            },
            "type": "scatterpolargl"
           }
          ],
          "scatterternary": [
           {
            "marker": {
             "colorbar": {
              "outlinewidth": 0,
              "ticks": ""
             }
            },
            "type": "scatterternary"
           }
          ],
          "surface": [
           {
            "colorbar": {
             "outlinewidth": 0,
             "ticks": ""
            },
            "colorscale": [
             [
              0,
              "#0d0887"
             ],
             [
              0.1111111111111111,
              "#46039f"
             ],
             [
              0.2222222222222222,
              "#7201a8"
             ],
             [
              0.3333333333333333,
              "#9c179e"
             ],
             [
              0.4444444444444444,
              "#bd3786"
             ],
             [
              0.5555555555555556,
              "#d8576b"
             ],
             [
              0.6666666666666666,
              "#ed7953"
             ],
             [
              0.7777777777777778,
              "#fb9f3a"
             ],
             [
              0.8888888888888888,
              "#fdca26"
             ],
             [
              1,
              "#f0f921"
             ]
            ],
            "type": "surface"
           }
          ],
          "table": [
           {
            "cells": {
             "fill": {
              "color": "#506784"
             },
             "line": {
              "color": "rgb(17,17,17)"
             }
            },
            "header": {
             "fill": {
              "color": "#2a3f5f"
             },
             "line": {
              "color": "rgb(17,17,17)"
             }
            },
            "type": "table"
           }
          ]
         },
         "layout": {
          "annotationdefaults": {
           "arrowcolor": "#f2f5fa",
           "arrowhead": 0,
           "arrowwidth": 1
          },
          "autotypenumbers": "strict",
          "coloraxis": {
           "colorbar": {
            "outlinewidth": 0,
            "ticks": ""
           }
          },
          "colorscale": {
           "diverging": [
            [
             0,
             "#8e0152"
            ],
            [
             0.1,
             "#c51b7d"
            ],
            [
             0.2,
             "#de77ae"
            ],
            [
             0.3,
             "#f1b6da"
            ],
            [
             0.4,
             "#fde0ef"
            ],
            [
             0.5,
             "#f7f7f7"
            ],
            [
             0.6,
             "#e6f5d0"
            ],
            [
             0.7,
             "#b8e186"
            ],
            [
             0.8,
             "#7fbc41"
            ],
            [
             0.9,
             "#4d9221"
            ],
            [
             1,
             "#276419"
            ]
           ],
           "sequential": [
            [
             0,
             "#0d0887"
            ],
            [
             0.1111111111111111,
             "#46039f"
            ],
            [
             0.2222222222222222,
             "#7201a8"
            ],
            [
             0.3333333333333333,
             "#9c179e"
            ],
            [
             0.4444444444444444,
             "#bd3786"
            ],
            [
             0.5555555555555556,
             "#d8576b"
            ],
            [
             0.6666666666666666,
             "#ed7953"
            ],
            [
             0.7777777777777778,
             "#fb9f3a"
            ],
            [
             0.8888888888888888,
             "#fdca26"
            ],
            [
             1,
             "#f0f921"
            ]
           ],
           "sequentialminus": [
            [
             0,
             "#0d0887"
            ],
            [
             0.1111111111111111,
             "#46039f"
            ],
            [
             0.2222222222222222,
             "#7201a8"
            ],
            [
             0.3333333333333333,
             "#9c179e"
            ],
            [
             0.4444444444444444,
             "#bd3786"
            ],
            [
             0.5555555555555556,
             "#d8576b"
            ],
            [
             0.6666666666666666,
             "#ed7953"
            ],
            [
             0.7777777777777778,
             "#fb9f3a"
            ],
            [
             0.8888888888888888,
             "#fdca26"
            ],
            [
             1,
             "#f0f921"
            ]
           ]
          },
          "colorway": [
           "#636efa",
           "#EF553B",
           "#00cc96",
           "#ab63fa",
           "#FFA15A",
           "#19d3f3",
           "#FF6692",
           "#B6E880",
           "#FF97FF",
           "#FECB52"
          ],
          "font": {
           "color": "#f2f5fa"
          },
          "geo": {
           "bgcolor": "rgb(17,17,17)",
           "lakecolor": "rgb(17,17,17)",
           "landcolor": "rgb(17,17,17)",
           "showlakes": true,
           "showland": true,
           "subunitcolor": "#506784"
          },
          "hoverlabel": {
           "align": "left"
          },
          "hovermode": "closest",
          "mapbox": {
           "style": "dark"
          },
          "paper_bgcolor": "rgb(17,17,17)",
          "plot_bgcolor": "rgb(17,17,17)",
          "polar": {
           "angularaxis": {
            "gridcolor": "#506784",
            "linecolor": "#506784",
            "ticks": ""
           },
           "bgcolor": "rgb(17,17,17)",
           "radialaxis": {
            "gridcolor": "#506784",
            "linecolor": "#506784",
            "ticks": ""
           }
          },
          "scene": {
           "xaxis": {
            "backgroundcolor": "rgb(17,17,17)",
            "gridcolor": "#506784",
            "gridwidth": 2,
            "linecolor": "#506784",
            "showbackground": true,
            "ticks": "",
            "zerolinecolor": "#C8D4E3"
           },
           "yaxis": {
            "backgroundcolor": "rgb(17,17,17)",
            "gridcolor": "#506784",
            "gridwidth": 2,
            "linecolor": "#506784",
            "showbackground": true,
            "ticks": "",
            "zerolinecolor": "#C8D4E3"
           },
           "zaxis": {
            "backgroundcolor": "rgb(17,17,17)",
            "gridcolor": "#506784",
            "gridwidth": 2,
            "linecolor": "#506784",
            "showbackground": true,
            "ticks": "",
            "zerolinecolor": "#C8D4E3"
           }
          },
          "shapedefaults": {
           "line": {
            "color": "#f2f5fa"
           }
          },
          "sliderdefaults": {
           "bgcolor": "#C8D4E3",
           "bordercolor": "rgb(17,17,17)",
           "borderwidth": 1,
           "tickwidth": 0
          },
          "ternary": {
           "aaxis": {
            "gridcolor": "#506784",
            "linecolor": "#506784",
            "ticks": ""
           },
           "baxis": {
            "gridcolor": "#506784",
            "linecolor": "#506784",
            "ticks": ""
           },
           "bgcolor": "rgb(17,17,17)",
           "caxis": {
            "gridcolor": "#506784",
            "linecolor": "#506784",
            "ticks": ""
           }
          },
          "title": {
           "x": 0.05
          },
          "updatemenudefaults": {
           "bgcolor": "#506784",
           "borderwidth": 0
          },
          "xaxis": {
           "automargin": true,
           "gridcolor": "#283442",
           "linecolor": "#506784",
           "ticks": "",
           "title": {
            "standoff": 15
           },
           "zerolinecolor": "#283442",
           "zerolinewidth": 2
          },
          "yaxis": {
           "automargin": true,
           "gridcolor": "#283442",
           "linecolor": "#506784",
           "ticks": "",
           "title": {
            "standoff": 15
           },
           "zerolinecolor": "#283442",
           "zerolinewidth": 2
          }
         }
        },
        "xaxis": {
         "anchor": "y",
         "domain": [
          0,
          1
         ],
         "title": {
          "text": "num_files"
         }
        },
        "yaxis": {
         "anchor": "x",
         "domain": [
          0,
          1
         ],
         "title": {
          "text": "net_lines"
         }
        }
       }
      }
     },
     "metadata": {},
     "output_type": "display_data"
    }
   ],
   "source": [
    "# Scatter of net lines of code by number of files modified\n",
    "fig = px.scatter(df_commits, \n",
    "                 x='num_files', \n",
    "                 y='net_lines', \n",
    "                 template=template,\n",
    "                 color_discrete_sequence=theme,\n",
    "                 hover_name='message', \n",
    "                 hover_data=['author_name', 'author_date', 'hash', 'branches'])\n",
    "fig.show()"
   ]
  }
 ],
 "metadata": {
  "kernelspec": {
   "display_name": "Python 3",
   "language": "python",
   "name": "python3"
  },
  "language_info": {
   "codemirror_mode": {
    "name": "ipython",
    "version": 3
   },
   "file_extension": ".py",
   "mimetype": "text/x-python",
   "name": "python",
   "nbconvert_exporter": "python",
   "pygments_lexer": "ipython3",
   "version": "3.9.7"
  }
 },
 "nbformat": 4,
 "nbformat_minor": 0
}
