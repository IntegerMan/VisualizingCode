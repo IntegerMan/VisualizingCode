{
 "cells": [
  {
   "cell_type": "code",
   "execution_count": 15,
   "metadata": {
    "collapsed": false,
    "pycharm": {
     "name": "#%%\n"
    }
   },
   "outputs": [
    {
     "data": {
      "text/html": [
       "<div>\n",
       "<style scoped>\n",
       "    .dataframe tbody tr th:only-of-type {\n",
       "        vertical-align: middle;\n",
       "    }\n",
       "\n",
       "    .dataframe tbody tr th {\n",
       "        vertical-align: top;\n",
       "    }\n",
       "\n",
       "    .dataframe thead th {\n",
       "        text-align: right;\n",
       "    }\n",
       "</style>\n",
       "<table border=\"1\" class=\"dataframe\">\n",
       "  <thead>\n",
       "    <tr style=\"text-align: right;\">\n",
       "      <th></th>\n",
       "      <th>hash</th>\n",
       "      <th>message</th>\n",
       "      <th>author_name</th>\n",
       "      <th>author_date</th>\n",
       "      <th>in_main</th>\n",
       "      <th>is_merge</th>\n",
       "      <th>num_deletes</th>\n",
       "      <th>num_inserts</th>\n",
       "      <th>net_lines</th>\n",
       "      <th>num_files</th>\n",
       "      <th>branches</th>\n",
       "      <th>filename</th>\n",
       "      <th>parents</th>\n",
       "      <th>fullpath</th>\n",
       "    </tr>\n",
       "  </thead>\n",
       "  <tbody>\n",
       "    <tr>\n",
       "      <th>0</th>\n",
       "      <td>b59ba43934a3a6837410db51cf60157cf854e52d</td>\n",
       "      <td>openra first commit!\\n\\ngit-svn-id: svn://svn....</td>\n",
       "      <td>chrisf</td>\n",
       "      <td>2007-06-19 08:51:17+00:00</td>\n",
       "      <td>True</td>\n",
       "      <td>False</td>\n",
       "      <td>0</td>\n",
       "      <td>1350</td>\n",
       "      <td>1350</td>\n",
       "      <td>11</td>\n",
       "      <td>bleed</td>\n",
       "      <td>Blowfish.cs</td>\n",
       "      <td>NaN</td>\n",
       "      <td>MixBrowser\\Blowfish.cs</td>\n",
       "    </tr>\n",
       "    <tr>\n",
       "      <th>1</th>\n",
       "      <td>b59ba43934a3a6837410db51cf60157cf854e52d</td>\n",
       "      <td>openra first commit!\\n\\ngit-svn-id: svn://svn....</td>\n",
       "      <td>chrisf</td>\n",
       "      <td>2007-06-19 08:51:17+00:00</td>\n",
       "      <td>True</td>\n",
       "      <td>False</td>\n",
       "      <td>0</td>\n",
       "      <td>1350</td>\n",
       "      <td>1350</td>\n",
       "      <td>11</td>\n",
       "      <td>bleed</td>\n",
       "      <td>MM.DAT</td>\n",
       "      <td>NaN</td>\n",
       "      <td>MixBrowser\\MM.DAT</td>\n",
       "    </tr>\n",
       "    <tr>\n",
       "      <th>2</th>\n",
       "      <td>b59ba43934a3a6837410db51cf60157cf854e52d</td>\n",
       "      <td>openra first commit!\\n\\ngit-svn-id: svn://svn....</td>\n",
       "      <td>chrisf</td>\n",
       "      <td>2007-06-19 08:51:17+00:00</td>\n",
       "      <td>True</td>\n",
       "      <td>False</td>\n",
       "      <td>0</td>\n",
       "      <td>1350</td>\n",
       "      <td>1350</td>\n",
       "      <td>11</td>\n",
       "      <td>bleed</td>\n",
       "      <td>MixBrowser.csproj</td>\n",
       "      <td>NaN</td>\n",
       "      <td>MixBrowser\\MixBrowser.csproj</td>\n",
       "    </tr>\n",
       "    <tr>\n",
       "      <th>3</th>\n",
       "      <td>b59ba43934a3a6837410db51cf60157cf854e52d</td>\n",
       "      <td>openra first commit!\\n\\ngit-svn-id: svn://svn....</td>\n",
       "      <td>chrisf</td>\n",
       "      <td>2007-06-19 08:51:17+00:00</td>\n",
       "      <td>True</td>\n",
       "      <td>False</td>\n",
       "      <td>0</td>\n",
       "      <td>1350</td>\n",
       "      <td>1350</td>\n",
       "      <td>11</td>\n",
       "      <td>bleed</td>\n",
       "      <td>MixEntry.cs</td>\n",
       "      <td>NaN</td>\n",
       "      <td>MixBrowser\\MixEntry.cs</td>\n",
       "    </tr>\n",
       "    <tr>\n",
       "      <th>4</th>\n",
       "      <td>b59ba43934a3a6837410db51cf60157cf854e52d</td>\n",
       "      <td>openra first commit!\\n\\ngit-svn-id: svn://svn....</td>\n",
       "      <td>chrisf</td>\n",
       "      <td>2007-06-19 08:51:17+00:00</td>\n",
       "      <td>True</td>\n",
       "      <td>False</td>\n",
       "      <td>0</td>\n",
       "      <td>1350</td>\n",
       "      <td>1350</td>\n",
       "      <td>11</td>\n",
       "      <td>bleed</td>\n",
       "      <td>Program.cs</td>\n",
       "      <td>NaN</td>\n",
       "      <td>MixBrowser\\Program.cs</td>\n",
       "    </tr>\n",
       "  </tbody>\n",
       "</table>\n",
       "</div>"
      ],
      "text/plain": [
       "                                       hash  \\\n",
       "0  b59ba43934a3a6837410db51cf60157cf854e52d   \n",
       "1  b59ba43934a3a6837410db51cf60157cf854e52d   \n",
       "2  b59ba43934a3a6837410db51cf60157cf854e52d   \n",
       "3  b59ba43934a3a6837410db51cf60157cf854e52d   \n",
       "4  b59ba43934a3a6837410db51cf60157cf854e52d   \n",
       "\n",
       "                                             message author_name  \\\n",
       "0  openra first commit!\\n\\ngit-svn-id: svn://svn....      chrisf   \n",
       "1  openra first commit!\\n\\ngit-svn-id: svn://svn....      chrisf   \n",
       "2  openra first commit!\\n\\ngit-svn-id: svn://svn....      chrisf   \n",
       "3  openra first commit!\\n\\ngit-svn-id: svn://svn....      chrisf   \n",
       "4  openra first commit!\\n\\ngit-svn-id: svn://svn....      chrisf   \n",
       "\n",
       "                 author_date  in_main  is_merge  num_deletes  num_inserts  \\\n",
       "0  2007-06-19 08:51:17+00:00     True     False            0         1350   \n",
       "1  2007-06-19 08:51:17+00:00     True     False            0         1350   \n",
       "2  2007-06-19 08:51:17+00:00     True     False            0         1350   \n",
       "3  2007-06-19 08:51:17+00:00     True     False            0         1350   \n",
       "4  2007-06-19 08:51:17+00:00     True     False            0         1350   \n",
       "\n",
       "   net_lines  num_files branches           filename parents  \\\n",
       "0       1350         11    bleed        Blowfish.cs     NaN   \n",
       "1       1350         11    bleed             MM.DAT     NaN   \n",
       "2       1350         11    bleed  MixBrowser.csproj     NaN   \n",
       "3       1350         11    bleed        MixEntry.cs     NaN   \n",
       "4       1350         11    bleed         Program.cs     NaN   \n",
       "\n",
       "                       fullpath  \n",
       "0        MixBrowser\\Blowfish.cs  \n",
       "1             MixBrowser\\MM.DAT  \n",
       "2  MixBrowser\\MixBrowser.csproj  \n",
       "3        MixBrowser\\MixEntry.cs  \n",
       "4         MixBrowser\\Program.cs  "
      ]
     },
     "execution_count": 15,
     "metadata": {},
     "output_type": "execute_result"
    }
   ],
   "source": [
    "import pandas as pd\n",
    "import plotly.express as px\n",
    "\n",
    "df = pd.read_csv('OpenRA_FileCommits.csv')\n",
    "\n",
    "df.drop('Unnamed: 0', axis=1, inplace=True)\n",
    "\n",
    "df['fullpath'] = df['new_path']\n",
    "df.drop('project_name', axis=1, inplace=True)\n",
    "df.drop('project_path', axis=1, inplace=True)\n",
    "df.drop('new_path', axis=1, inplace=True)\n",
    "df.drop('old_path', axis=1, inplace=True)\n",
    "\n",
    "df.head()"
   ]
  },
  {
   "cell_type": "code",
   "execution_count": 16,
   "metadata": {},
   "outputs": [
    {
     "data": {
      "text/html": [
       "<div>\n",
       "<style scoped>\n",
       "    .dataframe tbody tr th:only-of-type {\n",
       "        vertical-align: middle;\n",
       "    }\n",
       "\n",
       "    .dataframe tbody tr th {\n",
       "        vertical-align: top;\n",
       "    }\n",
       "\n",
       "    .dataframe thead th {\n",
       "        text-align: right;\n",
       "    }\n",
       "</style>\n",
       "<table border=\"1\" class=\"dataframe\">\n",
       "  <thead>\n",
       "    <tr style=\"text-align: right;\">\n",
       "      <th></th>\n",
       "      <th>fullpath</th>\n",
       "      <th>project</th>\n",
       "      <th>path</th>\n",
       "      <th>filename</th>\n",
       "      <th>ext</th>\n",
       "      <th>lines</th>\n",
       "    </tr>\n",
       "  </thead>\n",
       "  <tbody>\n",
       "    <tr>\n",
       "      <th>0</th>\n",
       "      <td>OpenRA.Game\\Activities\\Activity.cs</td>\n",
       "      <td>OpenRA.Game</td>\n",
       "      <td>Activities</td>\n",
       "      <td>Activity.cs</td>\n",
       "      <td>.cs</td>\n",
       "      <td>291</td>\n",
       "    </tr>\n",
       "    <tr>\n",
       "      <th>1</th>\n",
       "      <td>OpenRA.Game\\Activities\\CallFunc.cs</td>\n",
       "      <td>OpenRA.Game</td>\n",
       "      <td>Activities</td>\n",
       "      <td>CallFunc.cs</td>\n",
       "      <td>.cs</td>\n",
       "      <td>33</td>\n",
       "    </tr>\n",
       "    <tr>\n",
       "      <th>2</th>\n",
       "      <td>OpenRA.Game\\Actor.cs</td>\n",
       "      <td>OpenRA.Game</td>\n",
       "      <td>.</td>\n",
       "      <td>Actor.cs</td>\n",
       "      <td>.cs</td>\n",
       "      <td>645</td>\n",
       "    </tr>\n",
       "    <tr>\n",
       "      <th>3</th>\n",
       "      <td>OpenRA.Game\\CPos.cs</td>\n",
       "      <td>OpenRA.Game</td>\n",
       "      <td>.</td>\n",
       "      <td>CPos.cs</td>\n",
       "      <td>.cs</td>\n",
       "      <td>150</td>\n",
       "    </tr>\n",
       "    <tr>\n",
       "      <th>4</th>\n",
       "      <td>OpenRA.Game\\CryptoUtil.cs</td>\n",
       "      <td>OpenRA.Game</td>\n",
       "      <td>.</td>\n",
       "      <td>CryptoUtil.cs</td>\n",
       "      <td>.cs</td>\n",
       "      <td>261</td>\n",
       "    </tr>\n",
       "  </tbody>\n",
       "</table>\n",
       "</div>"
      ],
      "text/plain": [
       "                             fullpath      project        path       filename  \\\n",
       "0  OpenRA.Game\\Activities\\Activity.cs  OpenRA.Game  Activities    Activity.cs   \n",
       "1  OpenRA.Game\\Activities\\CallFunc.cs  OpenRA.Game  Activities    CallFunc.cs   \n",
       "2                OpenRA.Game\\Actor.cs  OpenRA.Game           .       Actor.cs   \n",
       "3                 OpenRA.Game\\CPos.cs  OpenRA.Game           .        CPos.cs   \n",
       "4           OpenRA.Game\\CryptoUtil.cs  OpenRA.Game           .  CryptoUtil.cs   \n",
       "\n",
       "   ext  lines  \n",
       "0  .cs    291  \n",
       "1  .cs     33  \n",
       "2  .cs    645  \n",
       "3  .cs    150  \n",
       "4  .cs    261  "
      ]
     },
     "execution_count": 16,
     "metadata": {},
     "output_type": "execute_result"
    }
   ],
   "source": [
    "df_files = pd.read_csv('filesizes.csv')\n",
    "\n",
    "df_files.drop('Unnamed: 0', axis=1, inplace=True)\n",
    "\n",
    "def fix_file_path(row):\n",
    "    if row['path'] == '.':\n",
    "        row['fullpath'] = row['project'] + '\\\\' + row['filename']\n",
    "    else:\n",
    "        row['fullpath'] = row['project'] + '\\\\' + row['path'] + '\\\\' + row['filename']\n",
    "    return row\n",
    "\n",
    "df_files = df_files.apply(fix_file_path, axis=1)\n",
    "\n",
    "df_files.head()"
   ]
  },
  {
   "cell_type": "code",
   "execution_count": 17,
   "metadata": {},
   "outputs": [
    {
     "data": {
      "text/html": [
       "<div>\n",
       "<style scoped>\n",
       "    .dataframe tbody tr th:only-of-type {\n",
       "        vertical-align: middle;\n",
       "    }\n",
       "\n",
       "    .dataframe tbody tr th {\n",
       "        vertical-align: top;\n",
       "    }\n",
       "\n",
       "    .dataframe thead th {\n",
       "        text-align: right;\n",
       "    }\n",
       "</style>\n",
       "<table border=\"1\" class=\"dataframe\">\n",
       "  <thead>\n",
       "    <tr style=\"text-align: right;\">\n",
       "      <th></th>\n",
       "      <th>hash</th>\n",
       "      <th>message</th>\n",
       "      <th>author_name</th>\n",
       "      <th>author_date</th>\n",
       "      <th>in_main</th>\n",
       "      <th>is_merge</th>\n",
       "      <th>num_deletes</th>\n",
       "      <th>num_inserts</th>\n",
       "      <th>net_lines</th>\n",
       "      <th>num_files</th>\n",
       "      <th>branches</th>\n",
       "      <th>filename_x</th>\n",
       "      <th>parents</th>\n",
       "      <th>fullpath</th>\n",
       "      <th>project</th>\n",
       "      <th>path</th>\n",
       "      <th>filename_y</th>\n",
       "      <th>ext</th>\n",
       "      <th>lines</th>\n",
       "    </tr>\n",
       "  </thead>\n",
       "  <tbody>\n",
       "    <tr>\n",
       "      <th>0</th>\n",
       "      <td>7881deca304e27f9cb20304c81731433954bec4f</td>\n",
       "      <td>Everything is now OpenRA, not OpenRa</td>\n",
       "      <td>alzeih</td>\n",
       "      <td>2010-02-27 21:10:22+13:00</td>\n",
       "      <td>True</td>\n",
       "      <td>False</td>\n",
       "      <td>21</td>\n",
       "      <td>26919</td>\n",
       "      <td>26898</td>\n",
       "      <td>299</td>\n",
       "      <td>bleed</td>\n",
       "      <td>Actor.cs</td>\n",
       "      <td>11b926a42295e232676383c8909a0a1bcb0a101d</td>\n",
       "      <td>OpenRA.Game\\Actor.cs</td>\n",
       "      <td>OpenRA.Game</td>\n",
       "      <td>.</td>\n",
       "      <td>Actor.cs</td>\n",
       "      <td>.cs</td>\n",
       "      <td>645</td>\n",
       "    </tr>\n",
       "    <tr>\n",
       "      <th>1</th>\n",
       "      <td>8e5a5552c4fc078a44672294ed14570375037f78</td>\n",
       "      <td>Killed a bunch of logging statements</td>\n",
       "      <td>alzeih</td>\n",
       "      <td>2010-03-18 19:50:11+13:00</td>\n",
       "      <td>True</td>\n",
       "      <td>False</td>\n",
       "      <td>17</td>\n",
       "      <td>1</td>\n",
       "      <td>-16</td>\n",
       "      <td>10</td>\n",
       "      <td>bleed</td>\n",
       "      <td>Actor.cs</td>\n",
       "      <td>ec544489945ed0e895cf618583e2190f4e72f386</td>\n",
       "      <td>OpenRA.Game\\Actor.cs</td>\n",
       "      <td>OpenRA.Game</td>\n",
       "      <td>.</td>\n",
       "      <td>Actor.cs</td>\n",
       "      <td>.cs</td>\n",
       "      <td>645</td>\n",
       "    </tr>\n",
       "    <tr>\n",
       "      <th>2</th>\n",
       "      <td>faa8f54e7cd71ef3dcc4c526baa8b6639e1a49ed</td>\n",
       "      <td>impose the hack on WALLs, not everything-else</td>\n",
       "      <td>Chris Forbes</td>\n",
       "      <td>2010-03-27 10:05:01+13:00</td>\n",
       "      <td>True</td>\n",
       "      <td>False</td>\n",
       "      <td>41</td>\n",
       "      <td>33</td>\n",
       "      <td>-8</td>\n",
       "      <td>6</td>\n",
       "      <td>bleed</td>\n",
       "      <td>Actor.cs</td>\n",
       "      <td>dd6f61a29f8cc3059231f3d22470c664c151d819</td>\n",
       "      <td>OpenRA.Game\\Actor.cs</td>\n",
       "      <td>OpenRA.Game</td>\n",
       "      <td>.</td>\n",
       "      <td>Actor.cs</td>\n",
       "      <td>.cs</td>\n",
       "      <td>645</td>\n",
       "    </tr>\n",
       "    <tr>\n",
       "      <th>3</th>\n",
       "      <td>13e6711a3b679a8522de76d2724c70798b3f40cb</td>\n",
       "      <td>further unhacking to localise extended damage ...</td>\n",
       "      <td>Chris Forbes</td>\n",
       "      <td>2010-03-27 10:11:24+13:00</td>\n",
       "      <td>True</td>\n",
       "      <td>False</td>\n",
       "      <td>27</td>\n",
       "      <td>27</td>\n",
       "      <td>0</td>\n",
       "      <td>4</td>\n",
       "      <td>bleed</td>\n",
       "      <td>Actor.cs</td>\n",
       "      <td>faa8f54e7cd71ef3dcc4c526baa8b6639e1a49ed</td>\n",
       "      <td>OpenRA.Game\\Actor.cs</td>\n",
       "      <td>OpenRA.Game</td>\n",
       "      <td>.</td>\n",
       "      <td>Actor.cs</td>\n",
       "      <td>.cs</td>\n",
       "      <td>645</td>\n",
       "    </tr>\n",
       "    <tr>\n",
       "      <th>4</th>\n",
       "      <td>d2ad90aa5b54e4bdb87b0f5215ba046bd0f2af2d</td>\n",
       "      <td>saner planes, part 1</td>\n",
       "      <td>Chris Forbes</td>\n",
       "      <td>2010-03-27 00:23:24+13:00</td>\n",
       "      <td>True</td>\n",
       "      <td>False</td>\n",
       "      <td>2</td>\n",
       "      <td>54</td>\n",
       "      <td>52</td>\n",
       "      <td>4</td>\n",
       "      <td>bleed</td>\n",
       "      <td>Actor.cs</td>\n",
       "      <td>092c9bede0e15099e6583c532fb1c536f15419e7</td>\n",
       "      <td>OpenRA.Game\\Actor.cs</td>\n",
       "      <td>OpenRA.Game</td>\n",
       "      <td>.</td>\n",
       "      <td>Actor.cs</td>\n",
       "      <td>.cs</td>\n",
       "      <td>645</td>\n",
       "    </tr>\n",
       "  </tbody>\n",
       "</table>\n",
       "</div>"
      ],
      "text/plain": [
       "                                       hash  \\\n",
       "0  7881deca304e27f9cb20304c81731433954bec4f   \n",
       "1  8e5a5552c4fc078a44672294ed14570375037f78   \n",
       "2  faa8f54e7cd71ef3dcc4c526baa8b6639e1a49ed   \n",
       "3  13e6711a3b679a8522de76d2724c70798b3f40cb   \n",
       "4  d2ad90aa5b54e4bdb87b0f5215ba046bd0f2af2d   \n",
       "\n",
       "                                             message   author_name  \\\n",
       "0               Everything is now OpenRA, not OpenRa        alzeih   \n",
       "1               Killed a bunch of logging statements        alzeih   \n",
       "2      impose the hack on WALLs, not everything-else  Chris Forbes   \n",
       "3  further unhacking to localise extended damage ...  Chris Forbes   \n",
       "4                               saner planes, part 1  Chris Forbes   \n",
       "\n",
       "                 author_date  in_main  is_merge  num_deletes  num_inserts  \\\n",
       "0  2010-02-27 21:10:22+13:00     True     False           21        26919   \n",
       "1  2010-03-18 19:50:11+13:00     True     False           17            1   \n",
       "2  2010-03-27 10:05:01+13:00     True     False           41           33   \n",
       "3  2010-03-27 10:11:24+13:00     True     False           27           27   \n",
       "4  2010-03-27 00:23:24+13:00     True     False            2           54   \n",
       "\n",
       "   net_lines  num_files branches filename_x  \\\n",
       "0      26898        299    bleed   Actor.cs   \n",
       "1        -16         10    bleed   Actor.cs   \n",
       "2         -8          6    bleed   Actor.cs   \n",
       "3          0          4    bleed   Actor.cs   \n",
       "4         52          4    bleed   Actor.cs   \n",
       "\n",
       "                                    parents              fullpath  \\\n",
       "0  11b926a42295e232676383c8909a0a1bcb0a101d  OpenRA.Game\\Actor.cs   \n",
       "1  ec544489945ed0e895cf618583e2190f4e72f386  OpenRA.Game\\Actor.cs   \n",
       "2  dd6f61a29f8cc3059231f3d22470c664c151d819  OpenRA.Game\\Actor.cs   \n",
       "3  faa8f54e7cd71ef3dcc4c526baa8b6639e1a49ed  OpenRA.Game\\Actor.cs   \n",
       "4  092c9bede0e15099e6583c532fb1c536f15419e7  OpenRA.Game\\Actor.cs   \n",
       "\n",
       "       project path filename_y  ext  lines  \n",
       "0  OpenRA.Game    .   Actor.cs  .cs    645  \n",
       "1  OpenRA.Game    .   Actor.cs  .cs    645  \n",
       "2  OpenRA.Game    .   Actor.cs  .cs    645  \n",
       "3  OpenRA.Game    .   Actor.cs  .cs    645  \n",
       "4  OpenRA.Game    .   Actor.cs  .cs    645  "
      ]
     },
     "execution_count": 17,
     "metadata": {},
     "output_type": "execute_result"
    }
   ],
   "source": [
    "df_merged = pd.merge(df, df_files, left_on='fullpath', right_on='fullpath')\n",
    "\n",
    "df_merged.head()"
   ]
  },
  {
   "cell_type": "code",
   "execution_count": 18,
   "metadata": {},
   "outputs": [],
   "source": [
    "# Define common variables for plotly\n",
    "from Theming import theme, template"
   ]
  },
  {
   "cell_type": "code",
   "execution_count": 21,
   "metadata": {},
   "outputs": [
    {
     "data": {
      "text/html": [
       "<div>\n",
       "<style scoped>\n",
       "    .dataframe tbody tr th:only-of-type {\n",
       "        vertical-align: middle;\n",
       "    }\n",
       "\n",
       "    .dataframe tbody tr th {\n",
       "        vertical-align: top;\n",
       "    }\n",
       "\n",
       "    .dataframe thead th {\n",
       "        text-align: right;\n",
       "    }\n",
       "</style>\n",
       "<table border=\"1\" class=\"dataframe\">\n",
       "  <thead>\n",
       "    <tr style=\"text-align: right;\">\n",
       "      <th></th>\n",
       "      <th></th>\n",
       "      <th>sum_net</th>\n",
       "    </tr>\n",
       "    <tr>\n",
       "      <th>fullpath</th>\n",
       "      <th>project</th>\n",
       "      <th></th>\n",
       "    </tr>\n",
       "  </thead>\n",
       "  <tbody>\n",
       "    <tr>\n",
       "      <th>OpenRA.Game\\Activities\\Activity.cs</th>\n",
       "      <th>OpenRA.Game</th>\n",
       "      <td>21.125000</td>\n",
       "    </tr>\n",
       "    <tr>\n",
       "      <th>OpenRA.Game\\Activities\\CallFunc.cs</th>\n",
       "      <th>OpenRA.Game</th>\n",
       "      <td>59.928571</td>\n",
       "    </tr>\n",
       "    <tr>\n",
       "      <th>OpenRA.Game\\Actor.cs</th>\n",
       "      <th>OpenRA.Game</th>\n",
       "      <td>133.613953</td>\n",
       "    </tr>\n",
       "    <tr>\n",
       "      <th>OpenRA.Game\\CPos.cs</th>\n",
       "      <th>OpenRA.Game</th>\n",
       "      <td>32.928571</td>\n",
       "    </tr>\n",
       "    <tr>\n",
       "      <th>OpenRA.Game\\CVec.cs</th>\n",
       "      <th>OpenRA.Game</th>\n",
       "      <td>64.678571</td>\n",
       "    </tr>\n",
       "  </tbody>\n",
       "</table>\n",
       "</div>"
      ],
      "text/plain": [
       "                                                   sum_net\n",
       "fullpath                           project                \n",
       "OpenRA.Game\\Activities\\Activity.cs OpenRA.Game   21.125000\n",
       "OpenRA.Game\\Activities\\CallFunc.cs OpenRA.Game   59.928571\n",
       "OpenRA.Game\\Actor.cs               OpenRA.Game  133.613953\n",
       "OpenRA.Game\\CPos.cs                OpenRA.Game   32.928571\n",
       "OpenRA.Game\\CVec.cs                OpenRA.Game   64.678571"
      ]
     },
     "execution_count": 21,
     "metadata": {},
     "output_type": "execute_result"
    }
   ],
   "source": [
    "df_grouped = df_merged.groupby(['fullpath', 'project']).agg(\n",
    "    sum_net=('net_lines','mean')\n",
    ")\n",
    "df_grouped.head()"
   ]
  },
  {
   "cell_type": "code",
   "execution_count": 22,
   "metadata": {
    "collapsed": false,
    "pycharm": {
     "name": "#%%\n"
    }
   },
   "outputs": [
    {
     "data": {
      "application/vnd.plotly.v1+json": {
       "config": {
        "plotlyServerURL": "https://plot.ly"
       },
       "data": [
        {
         "alignmentgroup": "True",
         "bingroup": "x",
         "hovertemplate": "color=OpenRA.Game<br>sum_net=%{x}<br>count=%{y}<extra></extra>",
         "legendgroup": "OpenRA.Game",
         "marker": {
          "color": "rgb(95, 70, 144)",
          "pattern": {
           "shape": ""
          }
         },
         "name": "OpenRA.Game",
         "offsetgroup": "OpenRA.Game",
         "orientation": "v",
         "showlegend": true,
         "type": "histogram",
         "x": [
          21.125,
          59.92857142857143,
          133.6139534883721,
          32.92857142857143,
          64.67857142857143,
          66.88888888888889,
          -70.33333333333333,
          144,
          1330.9444444444443,
          -25.875,
          1145.2857142857142,
          6.115384615384615,
          366.40579710144925,
          27.785714285714285,
          31.555555555555557,
          -6.5,
          86.68181818181819,
          -11.122448979591837,
          -16.75862068965517,
          66,
          -33.73809523809524,
          8.75,
          29.86571879936809,
          31.37142857142857,
          337.0135135135135,
          -82.6923076923077,
          16.78125,
          5.2272727272727275,
          242.5855855855856,
          37.61538461538461,
          447,
          42.38709677419355,
          518.8,
          -2.357142857142857,
          -18.31578947368421,
          754.3548387096774,
          517.9782608695652,
          20.53846153846154,
          -28.75,
          -0.85,
          -5.8,
          2.090909090909091,
          52.73809523809524,
          -17.565217391304348,
          35.65909090909091,
          74.83333333333333,
          -25.88888888888889,
          321.7073170731707,
          442.22222222222223,
          413.12280701754383,
          548.2888888888889,
          292.6463414634146,
          1.6545454545454545,
          39.793103448275865,
          322.37974683544303,
          27,
          55.23076923076923,
          25.692307692307693,
          346.8333333333333,
          35.904761904761905,
          20.333333333333332,
          76,
          151.1306818181818,
          114.8171206225681,
          17,
          -56.90909090909091,
          21,
          113.46153846153847,
          25.842105263157894,
          12.375,
          71.21428571428571,
          19.823529411764707,
          39.42857142857143,
          -37.04545454545455,
          -56.84615384615385,
          146.75,
          112.75,
          24.25925925925926,
          0.3235294117647059,
          38.583333333333336,
          34.15625,
          11.6,
          38.458333333333336,
          19.742616033755276,
          -2.973684210526316,
          -5.833333333333333,
          70.83333333333333,
          74.47058823529412,
          2.6666666666666665,
          55.73684210526316,
          -130.83333333333334,
          38.93333333333333,
          69,
          41.07142857142857,
          9.527272727272727,
          6.380116959064328,
          323.84722222222223,
          -17,
          79.81818181818181,
          -15.244444444444444,
          85.2,
          48.291666666666664,
          6,
          335.72115384615387,
          621.175,
          228.5321100917431,
          8.563636363636364,
          17.307692307692307,
          24.822033898305083,
          6.714285714285714,
          98,
          150.38728323699422,
          12,
          1041.625,
          185.0808823529412,
          200.22222222222223,
          172.9375,
          77.23076923076923,
          93.25,
          40.1764705882353,
          199,
          -101.44444444444444,
          -10,
          -70.66666666666667,
          14.666666666666666,
          39.333333333333336,
          41.916666666666664,
          19.5,
          -107.125,
          73.63636363636364,
          -7.25,
          -7.1875,
          43.3,
          -66.8,
          -135.25,
          60.625,
          -41.81818181818182,
          47.22222222222222,
          8.071428571428571,
          -34.142857142857146,
          30.90909090909091,
          6.333333333333333,
          38.666666666666664,
          -64.07142857142857,
          -0.9523809523809523,
          29.430555555555557,
          118.82352941176471,
          62.1578947368421,
          131.13333333333333,
          119.11764705882354,
          167.83333333333334,
          200.75,
          65.9,
          72.82608695652173,
          -63.52,
          -169.6,
          83,
          -63.857142857142854,
          4.489189189189189,
          72.27777777777777,
          4.045714285714285,
          15.275862068965518,
          81.33333333333333,
          31.565217391304348,
          16.72222222222222,
          147.66666666666666,
          12.75,
          33,
          -2.5714285714285716,
          21,
          21,
          61.4,
          24.88888888888889,
          82,
          809.0333333333333,
          97.18181818181819,
          63,
          14.5,
          19.043478260869566,
          443.44642857142856,
          -44.57142857142857,
          399.52542372881356,
          27,
          34.5,
          1.3061224489795917,
          42.529411764705884,
          30.6,
          -22.916666666666668,
          19.846153846153847,
          68.44902386117137,
          30.25,
          -83.85714285714286,
          -71.57142857142857,
          -95.16666666666667,
          40,
          -12.208333333333334,
          -23.565217391304348,
          44.96153846153846,
          17.208333333333332,
          39.58620689655172,
          8,
          1.6184971098265897,
          -65.23913043478261,
          91.73550724637681,
          166.57142857142858,
          4.4
         ],
         "xaxis": "x",
         "yaxis": "y"
        },
        {
         "alignmentgroup": "True",
         "bingroup": "x",
         "hovertemplate": "color=OpenRA.Launcher<br>sum_net=%{x}<br>count=%{y}<extra></extra>",
         "legendgroup": "OpenRA.Launcher",
         "marker": {
          "color": "rgb(29, 105, 150)",
          "pattern": {
           "shape": ""
          }
         },
         "name": "OpenRA.Launcher",
         "offsetgroup": "OpenRA.Launcher",
         "orientation": "v",
         "showlegend": true,
         "type": "histogram",
         "x": [
          726.5714285714286
         ],
         "xaxis": "x",
         "yaxis": "y"
        },
        {
         "alignmentgroup": "True",
         "bingroup": "x",
         "hovertemplate": "color=OpenRA.Mods.Cnc<br>sum_net=%{x}<br>count=%{y}<extra></extra>",
         "legendgroup": "OpenRA.Mods.Cnc",
         "marker": {
          "color": "rgb(56, 166, 165)",
          "pattern": {
           "shape": ""
          }
         },
         "name": "OpenRA.Mods.Cnc",
         "offsetgroup": "OpenRA.Mods.Cnc",
         "orientation": "v",
         "showlegend": true,
         "type": "histogram",
         "x": [
          22.6875,
          -12.2,
          -26.7,
          26.473684210526315,
          -32.5,
          -3.3076923076923075,
          -98.28571428571429,
          -186.66666666666666,
          11.558441558441558,
          6.666666666666667,
          -23.666666666666668,
          -16,
          -86.625,
          16,
          2.875,
          0.3333333333333333,
          -0.7777777777777778,
          -6.666666666666667,
          -6.666666666666667,
          -14.666666666666666,
          1.3333333333333333,
          -116.8,
          19.142857142857142,
          210,
          1.3333333333333333,
          2,
          1.2857142857142858,
          -98.57142857142857,
          69,
          -101.14285714285714,
          -52.888888888888886,
          -140.125,
          24.428571428571427,
          -62.25,
          -7.538461538461538,
          4.933333333333334,
          33.75,
          -40.111111111111114,
          136.66666666666666,
          -15.5,
          12.2,
          -74.125,
          -2.4,
          -92.4,
          -85.14285714285714,
          -85.14285714285714,
          -18.363636363636363,
          8.833333333333334,
          8.481481481481481,
          55.5,
          -68.57142857142857,
          28.476190476190474,
          -13.216216216216216,
          -79.4,
          59.25,
          -22.307692307692307,
          -11.4,
          27,
          67.55555555555556,
          -23.666666666666668,
          4.463414634146342,
          30.066666666666666,
          27.80392156862745,
          32.107142857142854,
          10.666666666666666,
          24.976190476190474,
          -122.14285714285714,
          26.833333333333332,
          44.8,
          -88.85714285714286,
          0,
          -64.08333333333333,
          77.88,
          -63.5,
          -110.22222222222223,
          -195.25,
          -58.38461538461539,
          -113.66666666666667,
          -54,
          76,
          106
         ],
         "xaxis": "x",
         "yaxis": "y"
        },
        {
         "alignmentgroup": "True",
         "bingroup": "x",
         "hovertemplate": "color=OpenRA.Mods.Common<br>sum_net=%{x}<br>count=%{y}<extra></extra>",
         "legendgroup": "OpenRA.Mods.Common",
         "marker": {
          "color": "rgb(15, 133, 84)",
          "pattern": {
           "shape": ""
          }
         },
         "name": "OpenRA.Mods.Common",
         "offsetgroup": "OpenRA.Mods.Common",
         "orientation": "v",
         "showlegend": true,
         "type": "histogram",
         "x": [
          23.2,
          33.53333333333333,
          25.26829268292683,
          52.42424242424242,
          -4.6,
          43.857142857142854,
          -4.666666666666667,
          14.6,
          78.36363636363636,
          28.209302325581394,
          5.153846153846154,
          32.91428571428571,
          38.42857142857143,
          35.88,
          73.38095238095238,
          15.82857142857143,
          76.28571428571429,
          101.33333333333333,
          42.53333333333333,
          -4.7,
          28.285714285714285,
          45.05,
          100.18181818181819,
          55.55,
          24.5,
          23.96,
          48.65714285714286,
          65.4,
          27.257142857142856,
          14.65,
          27,
          48,
          137,
          -58.36363636363637,
          81.46666666666667,
          42.22222222222222,
          13.944444444444445,
          54.53333333333333,
          81.93333333333334,
          10,
          152.12,
          109.38888888888889,
          135.82142857142858,
          132.53333333333333,
          157.42857142857142,
          40.34782608695652,
          109.55555555555556,
          -4.181818181818182,
          44.72727272727273,
          27.142857142857142,
          31.033333333333335,
          12.545454545454545,
          -32,
          -19.166666666666668,
          6.4,
          -17.25,
          5,
          -8.285714285714286,
          -1.3636363636363635,
          -34.142857142857146,
          -9.625,
          123,
          11.727272727272727,
          -129.66666666666666,
          52.93333333333333,
          57,
          -64.5,
          37.61538461538461,
          9.546875,
          -54.1,
          -39,
          -20.166666666666668,
          -64.5,
          74,
          8.48,
          -64.5,
          -20.75,
          -67.5,
          -87.625,
          -100.14285714285714,
          100.625,
          -111.5,
          29.416666666666668,
          -53.5,
          -28.714285714285715,
          83.72222222222223,
          47.64705882352941,
          107.41666666666667,
          79.7,
          63.4,
          69.3913043478261,
          42.07142857142857,
          -7.636363636363637,
          -61.785714285714285,
          16.642857142857142,
          5.9375,
          1.0909090909090908,
          83.4,
          50.666666666666664,
          28.9,
          45.27272727272727,
          18.692307692307693,
          35.11764705882353,
          -27,
          -2.3333333333333335,
          37,
          55.94117647058823,
          27.142857142857142,
          -9.666666666666666,
          46.26315789473684,
          16.333333333333332,
          -7.25,
          45.642857142857146,
          0.6363636363636364,
          50.333333333333336,
          57.9375,
          -0.2727272727272727,
          43.5,
          63.55555555555556,
          37.5,
          47.89473684210526,
          67.55555555555556,
          28.930232558139537,
          37.74074074074074,
          -9.8,
          -18.5,
          47.6875,
          21.8,
          73.94117647058823,
          49.31578947368421,
          68.82352941176471,
          -48.166666666666664,
          49.8,
          26.944444444444443,
          16.625,
          16.786666666666665,
          57.65217391304348,
          34.17391304347826,
          24.666666666666668,
          127.53846153846153,
          114.42857142857143,
          30.634146341463413,
          36.48148148148148,
          82.61538461538461,
          -7.46875,
          10.703703703703704,
          4.16,
          -6.791666666666667,
          3.6875,
          7.1454545454545455,
          -25.857142857142858,
          3.8333333333333335,
          21.88235294117647,
          -16.055555555555557,
          90.13333333333334,
          43.41463414634146,
          21.423728813559322,
          17.96969696969697,
          29.90909090909091,
          12.884615384615385,
          51.46153846153846,
          -107.33333333333333,
          -10.55,
          42.61904761904762,
          -73.57142857142857,
          -74.6,
          -74.22222222222223,
          -112.33333333333333,
          -126,
          41.61666666666667,
          -10.75,
          29.25,
          -165.16666666666666,
          24.857142857142858,
          68.92,
          -0.1,
          14.54320987654321,
          50.5,
          39.265306122448976,
          -5,
          -50.785714285714285,
          39.166666666666664,
          24.420454545454547,
          20.333333333333332,
          -18.916666666666668,
          29.34375,
          55.46666666666667,
          30.875,
          -7.111111111111111,
          12.5,
          1.7391304347826086,
          -34.666666666666664,
          71.55,
          31.558139534883722,
          -15.863636363636363,
          -45.1,
          37.674418604651166,
          49.38461538461539,
          23,
          72.22222222222223,
          26.92063492063492,
          19.674418604651162,
          6.666666666666667,
          33.869565217391305,
          49.0625,
          72.92857142857143,
          29,
          40.714285714285715,
          66.1304347826087,
          32.68421052631579,
          50.65384615384615,
          47.1,
          45.6,
          68.57894736842105,
          -23.5,
          124.28571428571429,
          -17.647058823529413,
          160.25,
          16.632653061224488,
          -10.235294117647058,
          21.166666666666668,
          15.4375,
          -61.142857142857146,
          37.291666666666664,
          66.30555555555556,
          95.3,
          47.93577981651376,
          35.351351351351354,
          -25.043478260869566,
          94.81818181818181,
          14.711538461538462,
          4.571428571428571,
          105.1,
          31.037037037037038,
          150.66666666666666,
          -39.5,
          18.176470588235293,
          30.17241379310345,
          8,
          9.5,
          29.666666666666668,
          96.18181818181819,
          21.5,
          78.6086956521739,
          45.285714285714285,
          38.666666666666664,
          68.27272727272727,
          -6.5,
          28.181818181818183,
          86.66666666666667,
          28.59016393442623,
          57.57142857142857,
          67.96666666666667,
          91.53846153846153,
          17.2,
          10.866666666666667,
          92.61538461538461,
          91.14285714285714,
          -78.07692307692308,
          61.166666666666664,
          59.4,
          50.5,
          104.41935483870968,
          23.555555555555557,
          -9.5,
          18.333333333333332,
          9.75,
          -19.583333333333332,
          10.8,
          -11.5,
          29.357142857142858,
          69.45454545454545,
          40.666666666666664,
          -214.25,
          29.09090909090909,
          66.6,
          57.041666666666664,
          71.88888888888889,
          45.541666666666664,
          5.722222222222222,
          44.375,
          161.66666666666666,
          55.32142857142857,
          54.28,
          23.64,
          -63.07692307692308,
          57.666666666666664,
          40,
          71.72,
          -99,
          15,
          23.421875,
          6.666666666666667,
          93.27272727272727,
          48.10526315789474,
          37.08,
          19.1484375,
          -132.1,
          -50.32142857142857,
          56.6,
          -130.6,
          35.75,
          -42.22222222222222,
          7.142857142857143,
          24.82857142857143,
          32.333333333333336,
          -124.85714285714286,
          -66.84615384615384,
          95.54545454545455,
          12.588235294117647,
          7.774193548387097,
          -59.375,
          -42.07142857142857,
          7.212121212121212,
          -78.75,
          -75.45454545454545,
          35.05,
          37.28333333333333,
          1.875,
          -47.3,
          -35.72727272727273,
          -64,
          -78.28571428571429,
          -78.28571428571429,
          -78.28571428571429,
          -73.2,
          -56.57142857142857,
          -108.83333333333333,
          30.307692307692307,
          -1.4090909090909092,
          6.833333333333333,
          -75.38461538461539,
          -108.66666666666667,
          13.5,
          11.625,
          23.895522388059703,
          35.19047619047619,
          40.46875,
          34.25,
          56.53846153846154,
          37.333333333333336,
          -1.2666666666666666,
          51.208333333333336,
          9.791666666666666,
          14.333333333333334,
          16.069767441860463,
          3,
          6.638888888888889,
          10,
          80.05882352941177,
          148.3,
          27,
          39.68421052631579,
          113.78571428571429,
          114.88888888888889,
          161.83333333333334,
          -0.2647058823529412,
          53.36842105263158,
          17.28125,
          242.76470588235293,
          75.28571428571429,
          30.333333333333332,
          113,
          116.76470588235294,
          102.46153846153847,
          75.55555555555556,
          -62.6,
          85.92857142857143,
          169.89473684210526,
          102.1,
          91.27272727272727,
          99.4,
          45.375,
          61.46153846153846,
          85.33333333333333,
          -62.5,
          149.2,
          122.91176470588235,
          150.2,
          118.22222222222223,
          117.6923076923077,
          20.985507246376812,
          35.724137931034484,
          64.91666666666667,
          61.583333333333336,
          113.22222222222223,
          37.72727272727273,
          84.35,
          22.666666666666668,
          105.7,
          31.571428571428573,
          107,
          130.16666666666666,
          213.15384615384616,
          94.8,
          34.5,
          38.486486486486484,
          36.4,
          47.535714285714285,
          29.666666666666668,
          75.38888888888889,
          -54.666666666666664,
          24.753846153846155,
          -43.705882352941174,
          69.66666666666667,
          27.673076923076923,
          69.66666666666667,
          61.1875
         ],
         "xaxis": "x",
         "yaxis": "y"
        },
        {
         "alignmentgroup": "True",
         "bingroup": "x",
         "hovertemplate": "color=OpenRA.Mods.D2k<br>sum_net=%{x}<br>count=%{y}<extra></extra>",
         "legendgroup": "OpenRA.Mods.D2k",
         "marker": {
          "color": "rgb(115, 175, 72)",
          "pattern": {
           "shape": ""
          }
         },
         "name": "OpenRA.Mods.D2k",
         "offsetgroup": "OpenRA.Mods.D2k",
         "orientation": "v",
         "showlegend": true,
         "type": "histogram",
         "x": [
          41.88636363636363,
          74.41666666666667,
          -122.88888888888889,
          19.45,
          60.515151515151516,
          -9.076923076923077,
          23.142857142857142,
          24.166666666666668,
          65.27777777777777,
          47.61904761904762,
          22
         ],
         "xaxis": "x",
         "yaxis": "y"
        },
        {
         "alignmentgroup": "True",
         "bingroup": "x",
         "hovertemplate": "color=OpenRA.Platforms.Default<br>sum_net=%{x}<br>count=%{y}<extra></extra>",
         "legendgroup": "OpenRA.Platforms.Default",
         "marker": {
          "color": "rgb(237, 173, 8)",
          "pattern": {
           "shape": ""
          }
         },
         "name": "OpenRA.Platforms.Default",
         "offsetgroup": "OpenRA.Platforms.Default",
         "orientation": "v",
         "showlegend": true,
         "type": "histogram",
         "x": [
          80.22727272727273,
          -95.83333333333333,
          120.16666666666667,
          38,
          310.2,
          95.45454545454545,
          -6,
          32.58974358974359,
          24.708333333333332,
          82.57142857142857,
          12.933333333333334,
          16.70212765957447,
          60.36363636363637,
          47.111111111111114,
          150.91666666666666,
          36.111111111111114,
          110.0909090909091
         ],
         "xaxis": "x",
         "yaxis": "y"
        },
        {
         "alignmentgroup": "True",
         "bingroup": "x",
         "hovertemplate": "color=OpenRA.Server<br>sum_net=%{x}<br>count=%{y}<extra></extra>",
         "legendgroup": "OpenRA.Server",
         "marker": {
          "color": "rgb(225, 124, 5)",
          "pattern": {
           "shape": ""
          }
         },
         "name": "OpenRA.Server",
         "offsetgroup": "OpenRA.Server",
         "orientation": "v",
         "showlegend": true,
         "type": "histogram",
         "x": [
          27.571428571428573
         ],
         "xaxis": "x",
         "yaxis": "y"
        },
        {
         "alignmentgroup": "True",
         "bingroup": "x",
         "hovertemplate": "color=OpenRA.Test<br>sum_net=%{x}<br>count=%{y}<extra></extra>",
         "legendgroup": "OpenRA.Test",
         "marker": {
          "color": "rgb(204, 80, 62)",
          "pattern": {
           "shape": ""
          }
         },
         "name": "OpenRA.Test",
         "offsetgroup": "OpenRA.Test",
         "orientation": "v",
         "showlegend": true,
         "type": "histogram",
         "x": [
          116.77777777777777,
          482.25,
          -38.857142857142854,
          84.58333333333333,
          447.44444444444446,
          886,
          877.9285714285714,
          8.5,
          153.7,
          123,
          -18.714285714285715,
          145.2
         ],
         "xaxis": "x",
         "yaxis": "y"
        },
        {
         "alignmentgroup": "True",
         "bingroup": "x",
         "hovertemplate": "color=OpenRA.Utility<br>sum_net=%{x}<br>count=%{y}<extra></extra>",
         "legendgroup": "OpenRA.Utility",
         "marker": {
          "color": "rgb(148, 52, 110)",
          "pattern": {
           "shape": ""
          }
         },
         "name": "OpenRA.Utility",
         "offsetgroup": "OpenRA.Utility",
         "orientation": "v",
         "showlegend": true,
         "type": "histogram",
         "x": [
          -19.389705882352942
         ],
         "xaxis": "x",
         "yaxis": "y"
        },
        {
         "alignmentgroup": "True",
         "bingroup": "x",
         "hovertemplate": "color=OpenRA.WindowsLauncher<br>sum_net=%{x}<br>count=%{y}<extra></extra>",
         "legendgroup": "OpenRA.WindowsLauncher",
         "marker": {
          "color": "rgb(111, 64, 112)",
          "pattern": {
           "shape": ""
          }
         },
         "name": "OpenRA.WindowsLauncher",
         "offsetgroup": "OpenRA.WindowsLauncher",
         "orientation": "v",
         "showlegend": true,
         "type": "histogram",
         "x": [
          13.333333333333334
         ],
         "xaxis": "x",
         "yaxis": "y"
        }
       ],
       "layout": {
        "barmode": "relative",
        "legend": {
         "title": {
          "text": "color"
         },
         "tracegroupgap": 0
        },
        "template": {
         "data": {
          "bar": [
           {
            "error_x": {
             "color": "#f2f5fa"
            },
            "error_y": {
             "color": "#f2f5fa"
            },
            "marker": {
             "line": {
              "color": "rgb(17,17,17)",
              "width": 0.5
             },
             "pattern": {
              "fillmode": "overlay",
              "size": 10,
              "solidity": 0.2
             }
            },
            "type": "bar"
           }
          ],
          "barpolar": [
           {
            "marker": {
             "line": {
              "color": "rgb(17,17,17)",
              "width": 0.5
             },
             "pattern": {
              "fillmode": "overlay",
              "size": 10,
              "solidity": 0.2
             }
            },
            "type": "barpolar"
           }
          ],
          "carpet": [
           {
            "aaxis": {
             "endlinecolor": "#A2B1C6",
             "gridcolor": "#506784",
             "linecolor": "#506784",
             "minorgridcolor": "#506784",
             "startlinecolor": "#A2B1C6"
            },
            "baxis": {
             "endlinecolor": "#A2B1C6",
             "gridcolor": "#506784",
             "linecolor": "#506784",
             "minorgridcolor": "#506784",
             "startlinecolor": "#A2B1C6"
            },
            "type": "carpet"
           }
          ],
          "choropleth": [
           {
            "colorbar": {
             "outlinewidth": 0,
             "ticks": ""
            },
            "type": "choropleth"
           }
          ],
          "contour": [
           {
            "colorbar": {
             "outlinewidth": 0,
             "ticks": ""
            },
            "colorscale": [
             [
              0,
              "#0d0887"
             ],
             [
              0.1111111111111111,
              "#46039f"
             ],
             [
              0.2222222222222222,
              "#7201a8"
             ],
             [
              0.3333333333333333,
              "#9c179e"
             ],
             [
              0.4444444444444444,
              "#bd3786"
             ],
             [
              0.5555555555555556,
              "#d8576b"
             ],
             [
              0.6666666666666666,
              "#ed7953"
             ],
             [
              0.7777777777777778,
              "#fb9f3a"
             ],
             [
              0.8888888888888888,
              "#fdca26"
             ],
             [
              1,
              "#f0f921"
             ]
            ],
            "type": "contour"
           }
          ],
          "contourcarpet": [
           {
            "colorbar": {
             "outlinewidth": 0,
             "ticks": ""
            },
            "type": "contourcarpet"
           }
          ],
          "heatmap": [
           {
            "colorbar": {
             "outlinewidth": 0,
             "ticks": ""
            },
            "colorscale": [
             [
              0,
              "#0d0887"
             ],
             [
              0.1111111111111111,
              "#46039f"
             ],
             [
              0.2222222222222222,
              "#7201a8"
             ],
             [
              0.3333333333333333,
              "#9c179e"
             ],
             [
              0.4444444444444444,
              "#bd3786"
             ],
             [
              0.5555555555555556,
              "#d8576b"
             ],
             [
              0.6666666666666666,
              "#ed7953"
             ],
             [
              0.7777777777777778,
              "#fb9f3a"
             ],
             [
              0.8888888888888888,
              "#fdca26"
             ],
             [
              1,
              "#f0f921"
             ]
            ],
            "type": "heatmap"
           }
          ],
          "heatmapgl": [
           {
            "colorbar": {
             "outlinewidth": 0,
             "ticks": ""
            },
            "colorscale": [
             [
              0,
              "#0d0887"
             ],
             [
              0.1111111111111111,
              "#46039f"
             ],
             [
              0.2222222222222222,
              "#7201a8"
             ],
             [
              0.3333333333333333,
              "#9c179e"
             ],
             [
              0.4444444444444444,
              "#bd3786"
             ],
             [
              0.5555555555555556,
              "#d8576b"
             ],
             [
              0.6666666666666666,
              "#ed7953"
             ],
             [
              0.7777777777777778,
              "#fb9f3a"
             ],
             [
              0.8888888888888888,
              "#fdca26"
             ],
             [
              1,
              "#f0f921"
             ]
            ],
            "type": "heatmapgl"
           }
          ],
          "histogram": [
           {
            "marker": {
             "pattern": {
              "fillmode": "overlay",
              "size": 10,
              "solidity": 0.2
             }
            },
            "type": "histogram"
           }
          ],
          "histogram2d": [
           {
            "colorbar": {
             "outlinewidth": 0,
             "ticks": ""
            },
            "colorscale": [
             [
              0,
              "#0d0887"
             ],
             [
              0.1111111111111111,
              "#46039f"
             ],
             [
              0.2222222222222222,
              "#7201a8"
             ],
             [
              0.3333333333333333,
              "#9c179e"
             ],
             [
              0.4444444444444444,
              "#bd3786"
             ],
             [
              0.5555555555555556,
              "#d8576b"
             ],
             [
              0.6666666666666666,
              "#ed7953"
             ],
             [
              0.7777777777777778,
              "#fb9f3a"
             ],
             [
              0.8888888888888888,
              "#fdca26"
             ],
             [
              1,
              "#f0f921"
             ]
            ],
            "type": "histogram2d"
           }
          ],
          "histogram2dcontour": [
           {
            "colorbar": {
             "outlinewidth": 0,
             "ticks": ""
            },
            "colorscale": [
             [
              0,
              "#0d0887"
             ],
             [
              0.1111111111111111,
              "#46039f"
             ],
             [
              0.2222222222222222,
              "#7201a8"
             ],
             [
              0.3333333333333333,
              "#9c179e"
             ],
             [
              0.4444444444444444,
              "#bd3786"
             ],
             [
              0.5555555555555556,
              "#d8576b"
             ],
             [
              0.6666666666666666,
              "#ed7953"
             ],
             [
              0.7777777777777778,
              "#fb9f3a"
             ],
             [
              0.8888888888888888,
              "#fdca26"
             ],
             [
              1,
              "#f0f921"
             ]
            ],
            "type": "histogram2dcontour"
           }
          ],
          "mesh3d": [
           {
            "colorbar": {
             "outlinewidth": 0,
             "ticks": ""
            },
            "type": "mesh3d"
           }
          ],
          "parcoords": [
           {
            "line": {
             "colorbar": {
              "outlinewidth": 0,
              "ticks": ""
             }
            },
            "type": "parcoords"
           }
          ],
          "pie": [
           {
            "automargin": true,
            "type": "pie"
           }
          ],
          "scatter": [
           {
            "marker": {
             "line": {
              "color": "#283442"
             }
            },
            "type": "scatter"
           }
          ],
          "scatter3d": [
           {
            "line": {
             "colorbar": {
              "outlinewidth": 0,
              "ticks": ""
             }
            },
            "marker": {
             "colorbar": {
              "outlinewidth": 0,
              "ticks": ""
             }
            },
            "type": "scatter3d"
           }
          ],
          "scattercarpet": [
           {
            "marker": {
             "colorbar": {
              "outlinewidth": 0,
              "ticks": ""
             }
            },
            "type": "scattercarpet"
           }
          ],
          "scattergeo": [
           {
            "marker": {
             "colorbar": {
              "outlinewidth": 0,
              "ticks": ""
             }
            },
            "type": "scattergeo"
           }
          ],
          "scattergl": [
           {
            "marker": {
             "line": {
              "color": "#283442"
             }
            },
            "type": "scattergl"
           }
          ],
          "scattermapbox": [
           {
            "marker": {
             "colorbar": {
              "outlinewidth": 0,
              "ticks": ""
             }
            },
            "type": "scattermapbox"
           }
          ],
          "scatterpolar": [
           {
            "marker": {
             "colorbar": {
              "outlinewidth": 0,
              "ticks": ""
             }
            },
            "type": "scatterpolar"
           }
          ],
          "scatterpolargl": [
           {
            "marker": {
             "colorbar": {
              "outlinewidth": 0,
              "ticks": ""
             }
            },
            "type": "scatterpolargl"
           }
          ],
          "scatterternary": [
           {
            "marker": {
             "colorbar": {
              "outlinewidth": 0,
              "ticks": ""
             }
            },
            "type": "scatterternary"
           }
          ],
          "surface": [
           {
            "colorbar": {
             "outlinewidth": 0,
             "ticks": ""
            },
            "colorscale": [
             [
              0,
              "#0d0887"
             ],
             [
              0.1111111111111111,
              "#46039f"
             ],
             [
              0.2222222222222222,
              "#7201a8"
             ],
             [
              0.3333333333333333,
              "#9c179e"
             ],
             [
              0.4444444444444444,
              "#bd3786"
             ],
             [
              0.5555555555555556,
              "#d8576b"
             ],
             [
              0.6666666666666666,
              "#ed7953"
             ],
             [
              0.7777777777777778,
              "#fb9f3a"
             ],
             [
              0.8888888888888888,
              "#fdca26"
             ],
             [
              1,
              "#f0f921"
             ]
            ],
            "type": "surface"
           }
          ],
          "table": [
           {
            "cells": {
             "fill": {
              "color": "#506784"
             },
             "line": {
              "color": "rgb(17,17,17)"
             }
            },
            "header": {
             "fill": {
              "color": "#2a3f5f"
             },
             "line": {
              "color": "rgb(17,17,17)"
             }
            },
            "type": "table"
           }
          ]
         },
         "layout": {
          "annotationdefaults": {
           "arrowcolor": "#f2f5fa",
           "arrowhead": 0,
           "arrowwidth": 1
          },
          "autotypenumbers": "strict",
          "coloraxis": {
           "colorbar": {
            "outlinewidth": 0,
            "ticks": ""
           }
          },
          "colorscale": {
           "diverging": [
            [
             0,
             "#8e0152"
            ],
            [
             0.1,
             "#c51b7d"
            ],
            [
             0.2,
             "#de77ae"
            ],
            [
             0.3,
             "#f1b6da"
            ],
            [
             0.4,
             "#fde0ef"
            ],
            [
             0.5,
             "#f7f7f7"
            ],
            [
             0.6,
             "#e6f5d0"
            ],
            [
             0.7,
             "#b8e186"
            ],
            [
             0.8,
             "#7fbc41"
            ],
            [
             0.9,
             "#4d9221"
            ],
            [
             1,
             "#276419"
            ]
           ],
           "sequential": [
            [
             0,
             "#0d0887"
            ],
            [
             0.1111111111111111,
             "#46039f"
            ],
            [
             0.2222222222222222,
             "#7201a8"
            ],
            [
             0.3333333333333333,
             "#9c179e"
            ],
            [
             0.4444444444444444,
             "#bd3786"
            ],
            [
             0.5555555555555556,
             "#d8576b"
            ],
            [
             0.6666666666666666,
             "#ed7953"
            ],
            [
             0.7777777777777778,
             "#fb9f3a"
            ],
            [
             0.8888888888888888,
             "#fdca26"
            ],
            [
             1,
             "#f0f921"
            ]
           ],
           "sequentialminus": [
            [
             0,
             "#0d0887"
            ],
            [
             0.1111111111111111,
             "#46039f"
            ],
            [
             0.2222222222222222,
             "#7201a8"
            ],
            [
             0.3333333333333333,
             "#9c179e"
            ],
            [
             0.4444444444444444,
             "#bd3786"
            ],
            [
             0.5555555555555556,
             "#d8576b"
            ],
            [
             0.6666666666666666,
             "#ed7953"
            ],
            [
             0.7777777777777778,
             "#fb9f3a"
            ],
            [
             0.8888888888888888,
             "#fdca26"
            ],
            [
             1,
             "#f0f921"
            ]
           ]
          },
          "colorway": [
           "#636efa",
           "#EF553B",
           "#00cc96",
           "#ab63fa",
           "#FFA15A",
           "#19d3f3",
           "#FF6692",
           "#B6E880",
           "#FF97FF",
           "#FECB52"
          ],
          "font": {
           "color": "#f2f5fa"
          },
          "geo": {
           "bgcolor": "rgb(17,17,17)",
           "lakecolor": "rgb(17,17,17)",
           "landcolor": "rgb(17,17,17)",
           "showlakes": true,
           "showland": true,
           "subunitcolor": "#506784"
          },
          "hoverlabel": {
           "align": "left"
          },
          "hovermode": "closest",
          "mapbox": {
           "style": "dark"
          },
          "paper_bgcolor": "rgb(17,17,17)",
          "plot_bgcolor": "rgb(17,17,17)",
          "polar": {
           "angularaxis": {
            "gridcolor": "#506784",
            "linecolor": "#506784",
            "ticks": ""
           },
           "bgcolor": "rgb(17,17,17)",
           "radialaxis": {
            "gridcolor": "#506784",
            "linecolor": "#506784",
            "ticks": ""
           }
          },
          "scene": {
           "xaxis": {
            "backgroundcolor": "rgb(17,17,17)",
            "gridcolor": "#506784",
            "gridwidth": 2,
            "linecolor": "#506784",
            "showbackground": true,
            "ticks": "",
            "zerolinecolor": "#C8D4E3"
           },
           "yaxis": {
            "backgroundcolor": "rgb(17,17,17)",
            "gridcolor": "#506784",
            "gridwidth": 2,
            "linecolor": "#506784",
            "showbackground": true,
            "ticks": "",
            "zerolinecolor": "#C8D4E3"
           },
           "zaxis": {
            "backgroundcolor": "rgb(17,17,17)",
            "gridcolor": "#506784",
            "gridwidth": 2,
            "linecolor": "#506784",
            "showbackground": true,
            "ticks": "",
            "zerolinecolor": "#C8D4E3"
           }
          },
          "shapedefaults": {
           "line": {
            "color": "#f2f5fa"
           }
          },
          "sliderdefaults": {
           "bgcolor": "#C8D4E3",
           "bordercolor": "rgb(17,17,17)",
           "borderwidth": 1,
           "tickwidth": 0
          },
          "ternary": {
           "aaxis": {
            "gridcolor": "#506784",
            "linecolor": "#506784",
            "ticks": ""
           },
           "baxis": {
            "gridcolor": "#506784",
            "linecolor": "#506784",
            "ticks": ""
           },
           "bgcolor": "rgb(17,17,17)",
           "caxis": {
            "gridcolor": "#506784",
            "linecolor": "#506784",
            "ticks": ""
           }
          },
          "title": {
           "x": 0.05
          },
          "updatemenudefaults": {
           "bgcolor": "#506784",
           "borderwidth": 0
          },
          "xaxis": {
           "automargin": true,
           "gridcolor": "#283442",
           "linecolor": "#506784",
           "ticks": "",
           "title": {
            "standoff": 15
           },
           "zerolinecolor": "#283442",
           "zerolinewidth": 2
          },
          "yaxis": {
           "automargin": true,
           "gridcolor": "#283442",
           "linecolor": "#506784",
           "ticks": "",
           "title": {
            "standoff": 15
           },
           "zerolinecolor": "#283442",
           "zerolinewidth": 2
          }
         }
        },
        "title": {
         "text": "Average Net Lines"
        },
        "xaxis": {
         "anchor": "y",
         "domain": [
          0,
          1
         ],
         "title": {
          "text": "sum_net"
         }
        },
        "yaxis": {
         "anchor": "x",
         "domain": [
          0,
          1
         ],
         "title": {
          "text": "count"
         }
        }
       }
      }
     },
     "metadata": {},
     "output_type": "display_data"
    }
   ],
   "source": [
    "# Histogram of lines of code\n",
    "fig = px.histogram(df_grouped,\n",
    "                   x=\"sum_net\",\n",
    "                   color=df_grouped.index.get_level_values(1),\n",
    "                   title='Average Net Lines',\n",
    "                   labels={'lines': 'Lines of Code'},\n",
    "                   template=template,\n",
    "                   color_discrete_sequence=theme)\n",
    "fig.show()"
   ]
  },
  {
   "cell_type": "code",
   "execution_count": 28,
   "metadata": {
    "collapsed": false,
    "pycharm": {
     "name": "#%%\n"
    }
   },
   "outputs": [
    {
     "data": {
      "application/vnd.plotly.v1+json": {
       "config": {
        "plotlyServerURL": "https://plot.ly"
       },
       "data": [
        {
         "alignmentgroup": "True",
         "boxpoints": "suspectedoutliers",
         "hovertemplate": "color=OpenRA.Game<br>sum_net=%{x}<extra></extra>",
         "jitter": 1,
         "legendgroup": "OpenRA.Game",
         "marker": {
          "color": "rgb(95, 70, 144)"
         },
         "name": "OpenRA.Game",
         "notched": false,
         "offsetgroup": "OpenRA.Game",
         "orientation": "h",
         "quartilemethod": "linear",
         "showlegend": true,
         "type": "box",
         "x": [
          21.125,
          59.92857142857143,
          133.6139534883721,
          32.92857142857143,
          64.67857142857143,
          66.88888888888889,
          -70.33333333333333,
          144,
          1330.9444444444443,
          -25.875,
          1145.2857142857142,
          6.115384615384615,
          366.40579710144925,
          27.785714285714285,
          31.555555555555557,
          -6.5,
          86.68181818181819,
          -11.122448979591837,
          -16.75862068965517,
          66,
          -33.73809523809524,
          8.75,
          29.86571879936809,
          31.37142857142857,
          337.0135135135135,
          -82.6923076923077,
          16.78125,
          5.2272727272727275,
          242.5855855855856,
          37.61538461538461,
          447,
          42.38709677419355,
          518.8,
          -2.357142857142857,
          -18.31578947368421,
          754.3548387096774,
          517.9782608695652,
          20.53846153846154,
          -28.75,
          -0.85,
          -5.8,
          2.090909090909091,
          52.73809523809524,
          -17.565217391304348,
          35.65909090909091,
          74.83333333333333,
          -25.88888888888889,
          321.7073170731707,
          442.22222222222223,
          413.12280701754383,
          548.2888888888889,
          292.6463414634146,
          1.6545454545454545,
          39.793103448275865,
          322.37974683544303,
          27,
          55.23076923076923,
          25.692307692307693,
          346.8333333333333,
          35.904761904761905,
          20.333333333333332,
          76,
          151.1306818181818,
          114.8171206225681,
          17,
          -56.90909090909091,
          21,
          113.46153846153847,
          25.842105263157894,
          12.375,
          71.21428571428571,
          19.823529411764707,
          39.42857142857143,
          -37.04545454545455,
          -56.84615384615385,
          146.75,
          112.75,
          24.25925925925926,
          0.3235294117647059,
          38.583333333333336,
          34.15625,
          11.6,
          38.458333333333336,
          19.742616033755276,
          -2.973684210526316,
          -5.833333333333333,
          70.83333333333333,
          74.47058823529412,
          2.6666666666666665,
          55.73684210526316,
          -130.83333333333334,
          38.93333333333333,
          69,
          41.07142857142857,
          9.527272727272727,
          6.380116959064328,
          323.84722222222223,
          -17,
          79.81818181818181,
          -15.244444444444444,
          85.2,
          48.291666666666664,
          6,
          335.72115384615387,
          621.175,
          228.5321100917431,
          8.563636363636364,
          17.307692307692307,
          24.822033898305083,
          6.714285714285714,
          98,
          150.38728323699422,
          12,
          1041.625,
          185.0808823529412,
          200.22222222222223,
          172.9375,
          77.23076923076923,
          93.25,
          40.1764705882353,
          199,
          -101.44444444444444,
          -10,
          -70.66666666666667,
          14.666666666666666,
          39.333333333333336,
          41.916666666666664,
          19.5,
          -107.125,
          73.63636363636364,
          -7.25,
          -7.1875,
          43.3,
          -66.8,
          -135.25,
          60.625,
          -41.81818181818182,
          47.22222222222222,
          8.071428571428571,
          -34.142857142857146,
          30.90909090909091,
          6.333333333333333,
          38.666666666666664,
          -64.07142857142857,
          -0.9523809523809523,
          29.430555555555557,
          118.82352941176471,
          62.1578947368421,
          131.13333333333333,
          119.11764705882354,
          167.83333333333334,
          200.75,
          65.9,
          72.82608695652173,
          -63.52,
          -169.6,
          83,
          -63.857142857142854,
          4.489189189189189,
          72.27777777777777,
          4.045714285714285,
          15.275862068965518,
          81.33333333333333,
          31.565217391304348,
          16.72222222222222,
          147.66666666666666,
          12.75,
          33,
          -2.5714285714285716,
          21,
          21,
          61.4,
          24.88888888888889,
          82,
          809.0333333333333,
          97.18181818181819,
          63,
          14.5,
          19.043478260869566,
          443.44642857142856,
          -44.57142857142857,
          399.52542372881356,
          27,
          34.5,
          1.3061224489795917,
          42.529411764705884,
          30.6,
          -22.916666666666668,
          19.846153846153847,
          68.44902386117137,
          30.25,
          -83.85714285714286,
          -71.57142857142857,
          -95.16666666666667,
          40,
          -12.208333333333334,
          -23.565217391304348,
          44.96153846153846,
          17.208333333333332,
          39.58620689655172,
          8,
          1.6184971098265897,
          -65.23913043478261,
          91.73550724637681,
          166.57142857142858,
          4.4
         ],
         "x0": " ",
         "xaxis": "x",
         "y0": " ",
         "yaxis": "y"
        },
        {
         "alignmentgroup": "True",
         "boxpoints": "suspectedoutliers",
         "hovertemplate": "color=OpenRA.Launcher<br>sum_net=%{x}<extra></extra>",
         "jitter": 1,
         "legendgroup": "OpenRA.Launcher",
         "marker": {
          "color": "rgb(29, 105, 150)"
         },
         "name": "OpenRA.Launcher",
         "notched": false,
         "offsetgroup": "OpenRA.Launcher",
         "orientation": "h",
         "quartilemethod": "linear",
         "showlegend": true,
         "type": "box",
         "x": [
          726.5714285714286
         ],
         "x0": " ",
         "xaxis": "x",
         "y0": " ",
         "yaxis": "y"
        },
        {
         "alignmentgroup": "True",
         "boxpoints": "suspectedoutliers",
         "hovertemplate": "color=OpenRA.Mods.Cnc<br>sum_net=%{x}<extra></extra>",
         "jitter": 1,
         "legendgroup": "OpenRA.Mods.Cnc",
         "marker": {
          "color": "rgb(56, 166, 165)"
         },
         "name": "OpenRA.Mods.Cnc",
         "notched": false,
         "offsetgroup": "OpenRA.Mods.Cnc",
         "orientation": "h",
         "quartilemethod": "linear",
         "showlegend": true,
         "type": "box",
         "x": [
          22.6875,
          -12.2,
          -26.7,
          26.473684210526315,
          -32.5,
          -3.3076923076923075,
          -98.28571428571429,
          -186.66666666666666,
          11.558441558441558,
          6.666666666666667,
          -23.666666666666668,
          -16,
          -86.625,
          16,
          2.875,
          0.3333333333333333,
          -0.7777777777777778,
          -6.666666666666667,
          -6.666666666666667,
          -14.666666666666666,
          1.3333333333333333,
          -116.8,
          19.142857142857142,
          210,
          1.3333333333333333,
          2,
          1.2857142857142858,
          -98.57142857142857,
          69,
          -101.14285714285714,
          -52.888888888888886,
          -140.125,
          24.428571428571427,
          -62.25,
          -7.538461538461538,
          4.933333333333334,
          33.75,
          -40.111111111111114,
          136.66666666666666,
          -15.5,
          12.2,
          -74.125,
          -2.4,
          -92.4,
          -85.14285714285714,
          -85.14285714285714,
          -18.363636363636363,
          8.833333333333334,
          8.481481481481481,
          55.5,
          -68.57142857142857,
          28.476190476190474,
          -13.216216216216216,
          -79.4,
          59.25,
          -22.307692307692307,
          -11.4,
          27,
          67.55555555555556,
          -23.666666666666668,
          4.463414634146342,
          30.066666666666666,
          27.80392156862745,
          32.107142857142854,
          10.666666666666666,
          24.976190476190474,
          -122.14285714285714,
          26.833333333333332,
          44.8,
          -88.85714285714286,
          0,
          -64.08333333333333,
          77.88,
          -63.5,
          -110.22222222222223,
          -195.25,
          -58.38461538461539,
          -113.66666666666667,
          -54,
          76,
          106
         ],
         "x0": " ",
         "xaxis": "x",
         "y0": " ",
         "yaxis": "y"
        },
        {
         "alignmentgroup": "True",
         "boxpoints": "suspectedoutliers",
         "hovertemplate": "color=OpenRA.Mods.Common<br>sum_net=%{x}<extra></extra>",
         "jitter": 1,
         "legendgroup": "OpenRA.Mods.Common",
         "marker": {
          "color": "rgb(15, 133, 84)"
         },
         "name": "OpenRA.Mods.Common",
         "notched": false,
         "offsetgroup": "OpenRA.Mods.Common",
         "orientation": "h",
         "quartilemethod": "linear",
         "showlegend": true,
         "type": "box",
         "x": [
          23.2,
          33.53333333333333,
          25.26829268292683,
          52.42424242424242,
          -4.6,
          43.857142857142854,
          -4.666666666666667,
          14.6,
          78.36363636363636,
          28.209302325581394,
          5.153846153846154,
          32.91428571428571,
          38.42857142857143,
          35.88,
          73.38095238095238,
          15.82857142857143,
          76.28571428571429,
          101.33333333333333,
          42.53333333333333,
          -4.7,
          28.285714285714285,
          45.05,
          100.18181818181819,
          55.55,
          24.5,
          23.96,
          48.65714285714286,
          65.4,
          27.257142857142856,
          14.65,
          27,
          48,
          137,
          -58.36363636363637,
          81.46666666666667,
          42.22222222222222,
          13.944444444444445,
          54.53333333333333,
          81.93333333333334,
          10,
          152.12,
          109.38888888888889,
          135.82142857142858,
          132.53333333333333,
          157.42857142857142,
          40.34782608695652,
          109.55555555555556,
          -4.181818181818182,
          44.72727272727273,
          27.142857142857142,
          31.033333333333335,
          12.545454545454545,
          -32,
          -19.166666666666668,
          6.4,
          -17.25,
          5,
          -8.285714285714286,
          -1.3636363636363635,
          -34.142857142857146,
          -9.625,
          123,
          11.727272727272727,
          -129.66666666666666,
          52.93333333333333,
          57,
          -64.5,
          37.61538461538461,
          9.546875,
          -54.1,
          -39,
          -20.166666666666668,
          -64.5,
          74,
          8.48,
          -64.5,
          -20.75,
          -67.5,
          -87.625,
          -100.14285714285714,
          100.625,
          -111.5,
          29.416666666666668,
          -53.5,
          -28.714285714285715,
          83.72222222222223,
          47.64705882352941,
          107.41666666666667,
          79.7,
          63.4,
          69.3913043478261,
          42.07142857142857,
          -7.636363636363637,
          -61.785714285714285,
          16.642857142857142,
          5.9375,
          1.0909090909090908,
          83.4,
          50.666666666666664,
          28.9,
          45.27272727272727,
          18.692307692307693,
          35.11764705882353,
          -27,
          -2.3333333333333335,
          37,
          55.94117647058823,
          27.142857142857142,
          -9.666666666666666,
          46.26315789473684,
          16.333333333333332,
          -7.25,
          45.642857142857146,
          0.6363636363636364,
          50.333333333333336,
          57.9375,
          -0.2727272727272727,
          43.5,
          63.55555555555556,
          37.5,
          47.89473684210526,
          67.55555555555556,
          28.930232558139537,
          37.74074074074074,
          -9.8,
          -18.5,
          47.6875,
          21.8,
          73.94117647058823,
          49.31578947368421,
          68.82352941176471,
          -48.166666666666664,
          49.8,
          26.944444444444443,
          16.625,
          16.786666666666665,
          57.65217391304348,
          34.17391304347826,
          24.666666666666668,
          127.53846153846153,
          114.42857142857143,
          30.634146341463413,
          36.48148148148148,
          82.61538461538461,
          -7.46875,
          10.703703703703704,
          4.16,
          -6.791666666666667,
          3.6875,
          7.1454545454545455,
          -25.857142857142858,
          3.8333333333333335,
          21.88235294117647,
          -16.055555555555557,
          90.13333333333334,
          43.41463414634146,
          21.423728813559322,
          17.96969696969697,
          29.90909090909091,
          12.884615384615385,
          51.46153846153846,
          -107.33333333333333,
          -10.55,
          42.61904761904762,
          -73.57142857142857,
          -74.6,
          -74.22222222222223,
          -112.33333333333333,
          -126,
          41.61666666666667,
          -10.75,
          29.25,
          -165.16666666666666,
          24.857142857142858,
          68.92,
          -0.1,
          14.54320987654321,
          50.5,
          39.265306122448976,
          -5,
          -50.785714285714285,
          39.166666666666664,
          24.420454545454547,
          20.333333333333332,
          -18.916666666666668,
          29.34375,
          55.46666666666667,
          30.875,
          -7.111111111111111,
          12.5,
          1.7391304347826086,
          -34.666666666666664,
          71.55,
          31.558139534883722,
          -15.863636363636363,
          -45.1,
          37.674418604651166,
          49.38461538461539,
          23,
          72.22222222222223,
          26.92063492063492,
          19.674418604651162,
          6.666666666666667,
          33.869565217391305,
          49.0625,
          72.92857142857143,
          29,
          40.714285714285715,
          66.1304347826087,
          32.68421052631579,
          50.65384615384615,
          47.1,
          45.6,
          68.57894736842105,
          -23.5,
          124.28571428571429,
          -17.647058823529413,
          160.25,
          16.632653061224488,
          -10.235294117647058,
          21.166666666666668,
          15.4375,
          -61.142857142857146,
          37.291666666666664,
          66.30555555555556,
          95.3,
          47.93577981651376,
          35.351351351351354,
          -25.043478260869566,
          94.81818181818181,
          14.711538461538462,
          4.571428571428571,
          105.1,
          31.037037037037038,
          150.66666666666666,
          -39.5,
          18.176470588235293,
          30.17241379310345,
          8,
          9.5,
          29.666666666666668,
          96.18181818181819,
          21.5,
          78.6086956521739,
          45.285714285714285,
          38.666666666666664,
          68.27272727272727,
          -6.5,
          28.181818181818183,
          86.66666666666667,
          28.59016393442623,
          57.57142857142857,
          67.96666666666667,
          91.53846153846153,
          17.2,
          10.866666666666667,
          92.61538461538461,
          91.14285714285714,
          -78.07692307692308,
          61.166666666666664,
          59.4,
          50.5,
          104.41935483870968,
          23.555555555555557,
          -9.5,
          18.333333333333332,
          9.75,
          -19.583333333333332,
          10.8,
          -11.5,
          29.357142857142858,
          69.45454545454545,
          40.666666666666664,
          -214.25,
          29.09090909090909,
          66.6,
          57.041666666666664,
          71.88888888888889,
          45.541666666666664,
          5.722222222222222,
          44.375,
          161.66666666666666,
          55.32142857142857,
          54.28,
          23.64,
          -63.07692307692308,
          57.666666666666664,
          40,
          71.72,
          -99,
          15,
          23.421875,
          6.666666666666667,
          93.27272727272727,
          48.10526315789474,
          37.08,
          19.1484375,
          -132.1,
          -50.32142857142857,
          56.6,
          -130.6,
          35.75,
          -42.22222222222222,
          7.142857142857143,
          24.82857142857143,
          32.333333333333336,
          -124.85714285714286,
          -66.84615384615384,
          95.54545454545455,
          12.588235294117647,
          7.774193548387097,
          -59.375,
          -42.07142857142857,
          7.212121212121212,
          -78.75,
          -75.45454545454545,
          35.05,
          37.28333333333333,
          1.875,
          -47.3,
          -35.72727272727273,
          -64,
          -78.28571428571429,
          -78.28571428571429,
          -78.28571428571429,
          -73.2,
          -56.57142857142857,
          -108.83333333333333,
          30.307692307692307,
          -1.4090909090909092,
          6.833333333333333,
          -75.38461538461539,
          -108.66666666666667,
          13.5,
          11.625,
          23.895522388059703,
          35.19047619047619,
          40.46875,
          34.25,
          56.53846153846154,
          37.333333333333336,
          -1.2666666666666666,
          51.208333333333336,
          9.791666666666666,
          14.333333333333334,
          16.069767441860463,
          3,
          6.638888888888889,
          10,
          80.05882352941177,
          148.3,
          27,
          39.68421052631579,
          113.78571428571429,
          114.88888888888889,
          161.83333333333334,
          -0.2647058823529412,
          53.36842105263158,
          17.28125,
          242.76470588235293,
          75.28571428571429,
          30.333333333333332,
          113,
          116.76470588235294,
          102.46153846153847,
          75.55555555555556,
          -62.6,
          85.92857142857143,
          169.89473684210526,
          102.1,
          91.27272727272727,
          99.4,
          45.375,
          61.46153846153846,
          85.33333333333333,
          -62.5,
          149.2,
          122.91176470588235,
          150.2,
          118.22222222222223,
          117.6923076923077,
          20.985507246376812,
          35.724137931034484,
          64.91666666666667,
          61.583333333333336,
          113.22222222222223,
          37.72727272727273,
          84.35,
          22.666666666666668,
          105.7,
          31.571428571428573,
          107,
          130.16666666666666,
          213.15384615384616,
          94.8,
          34.5,
          38.486486486486484,
          36.4,
          47.535714285714285,
          29.666666666666668,
          75.38888888888889,
          -54.666666666666664,
          24.753846153846155,
          -43.705882352941174,
          69.66666666666667,
          27.673076923076923,
          69.66666666666667,
          61.1875
         ],
         "x0": " ",
         "xaxis": "x",
         "y0": " ",
         "yaxis": "y"
        },
        {
         "alignmentgroup": "True",
         "boxpoints": "suspectedoutliers",
         "hovertemplate": "color=OpenRA.Mods.D2k<br>sum_net=%{x}<extra></extra>",
         "jitter": 1,
         "legendgroup": "OpenRA.Mods.D2k",
         "marker": {
          "color": "rgb(115, 175, 72)"
         },
         "name": "OpenRA.Mods.D2k",
         "notched": false,
         "offsetgroup": "OpenRA.Mods.D2k",
         "orientation": "h",
         "quartilemethod": "linear",
         "showlegend": true,
         "type": "box",
         "x": [
          41.88636363636363,
          74.41666666666667,
          -122.88888888888889,
          19.45,
          60.515151515151516,
          -9.076923076923077,
          23.142857142857142,
          24.166666666666668,
          65.27777777777777,
          47.61904761904762,
          22
         ],
         "x0": " ",
         "xaxis": "x",
         "y0": " ",
         "yaxis": "y"
        },
        {
         "alignmentgroup": "True",
         "boxpoints": "suspectedoutliers",
         "hovertemplate": "color=OpenRA.Platforms.Default<br>sum_net=%{x}<extra></extra>",
         "jitter": 1,
         "legendgroup": "OpenRA.Platforms.Default",
         "marker": {
          "color": "rgb(237, 173, 8)"
         },
         "name": "OpenRA.Platforms.Default",
         "notched": false,
         "offsetgroup": "OpenRA.Platforms.Default",
         "orientation": "h",
         "quartilemethod": "linear",
         "showlegend": true,
         "type": "box",
         "x": [
          80.22727272727273,
          -95.83333333333333,
          120.16666666666667,
          38,
          310.2,
          95.45454545454545,
          -6,
          32.58974358974359,
          24.708333333333332,
          82.57142857142857,
          12.933333333333334,
          16.70212765957447,
          60.36363636363637,
          47.111111111111114,
          150.91666666666666,
          36.111111111111114,
          110.0909090909091
         ],
         "x0": " ",
         "xaxis": "x",
         "y0": " ",
         "yaxis": "y"
        },
        {
         "alignmentgroup": "True",
         "boxpoints": "suspectedoutliers",
         "hovertemplate": "color=OpenRA.Server<br>sum_net=%{x}<extra></extra>",
         "jitter": 1,
         "legendgroup": "OpenRA.Server",
         "marker": {
          "color": "rgb(225, 124, 5)"
         },
         "name": "OpenRA.Server",
         "notched": false,
         "offsetgroup": "OpenRA.Server",
         "orientation": "h",
         "quartilemethod": "linear",
         "showlegend": true,
         "type": "box",
         "x": [
          27.571428571428573
         ],
         "x0": " ",
         "xaxis": "x",
         "y0": " ",
         "yaxis": "y"
        },
        {
         "alignmentgroup": "True",
         "boxpoints": "suspectedoutliers",
         "hovertemplate": "color=OpenRA.Test<br>sum_net=%{x}<extra></extra>",
         "jitter": 1,
         "legendgroup": "OpenRA.Test",
         "marker": {
          "color": "rgb(204, 80, 62)"
         },
         "name": "OpenRA.Test",
         "notched": false,
         "offsetgroup": "OpenRA.Test",
         "orientation": "h",
         "quartilemethod": "linear",
         "showlegend": true,
         "type": "box",
         "x": [
          116.77777777777777,
          482.25,
          -38.857142857142854,
          84.58333333333333,
          447.44444444444446,
          886,
          877.9285714285714,
          8.5,
          153.7,
          123,
          -18.714285714285715,
          145.2
         ],
         "x0": " ",
         "xaxis": "x",
         "y0": " ",
         "yaxis": "y"
        },
        {
         "alignmentgroup": "True",
         "boxpoints": "suspectedoutliers",
         "hovertemplate": "color=OpenRA.Utility<br>sum_net=%{x}<extra></extra>",
         "jitter": 1,
         "legendgroup": "OpenRA.Utility",
         "marker": {
          "color": "rgb(148, 52, 110)"
         },
         "name": "OpenRA.Utility",
         "notched": false,
         "offsetgroup": "OpenRA.Utility",
         "orientation": "h",
         "quartilemethod": "linear",
         "showlegend": true,
         "type": "box",
         "x": [
          -19.389705882352942
         ],
         "x0": " ",
         "xaxis": "x",
         "y0": " ",
         "yaxis": "y"
        },
        {
         "alignmentgroup": "True",
         "boxpoints": "suspectedoutliers",
         "hovertemplate": "color=OpenRA.WindowsLauncher<br>sum_net=%{x}<extra></extra>",
         "jitter": 1,
         "legendgroup": "OpenRA.WindowsLauncher",
         "marker": {
          "color": "rgb(111, 64, 112)"
         },
         "name": "OpenRA.WindowsLauncher",
         "notched": false,
         "offsetgroup": "OpenRA.WindowsLauncher",
         "orientation": "h",
         "quartilemethod": "linear",
         "showlegend": true,
         "type": "box",
         "x": [
          13.333333333333334
         ],
         "x0": " ",
         "xaxis": "x",
         "y0": " ",
         "yaxis": "y"
        }
       ],
       "layout": {
        "boxmode": "group",
        "height": 275,
        "legend": {
         "title": {
          "text": "color"
         },
         "tracegroupgap": 0
        },
        "template": {
         "data": {
          "bar": [
           {
            "error_x": {
             "color": "#f2f5fa"
            },
            "error_y": {
             "color": "#f2f5fa"
            },
            "marker": {
             "line": {
              "color": "rgb(17,17,17)",
              "width": 0.5
             },
             "pattern": {
              "fillmode": "overlay",
              "size": 10,
              "solidity": 0.2
             }
            },
            "type": "bar"
           }
          ],
          "barpolar": [
           {
            "marker": {
             "line": {
              "color": "rgb(17,17,17)",
              "width": 0.5
             },
             "pattern": {
              "fillmode": "overlay",
              "size": 10,
              "solidity": 0.2
             }
            },
            "type": "barpolar"
           }
          ],
          "carpet": [
           {
            "aaxis": {
             "endlinecolor": "#A2B1C6",
             "gridcolor": "#506784",
             "linecolor": "#506784",
             "minorgridcolor": "#506784",
             "startlinecolor": "#A2B1C6"
            },
            "baxis": {
             "endlinecolor": "#A2B1C6",
             "gridcolor": "#506784",
             "linecolor": "#506784",
             "minorgridcolor": "#506784",
             "startlinecolor": "#A2B1C6"
            },
            "type": "carpet"
           }
          ],
          "choropleth": [
           {
            "colorbar": {
             "outlinewidth": 0,
             "ticks": ""
            },
            "type": "choropleth"
           }
          ],
          "contour": [
           {
            "colorbar": {
             "outlinewidth": 0,
             "ticks": ""
            },
            "colorscale": [
             [
              0,
              "#0d0887"
             ],
             [
              0.1111111111111111,
              "#46039f"
             ],
             [
              0.2222222222222222,
              "#7201a8"
             ],
             [
              0.3333333333333333,
              "#9c179e"
             ],
             [
              0.4444444444444444,
              "#bd3786"
             ],
             [
              0.5555555555555556,
              "#d8576b"
             ],
             [
              0.6666666666666666,
              "#ed7953"
             ],
             [
              0.7777777777777778,
              "#fb9f3a"
             ],
             [
              0.8888888888888888,
              "#fdca26"
             ],
             [
              1,
              "#f0f921"
             ]
            ],
            "type": "contour"
           }
          ],
          "contourcarpet": [
           {
            "colorbar": {
             "outlinewidth": 0,
             "ticks": ""
            },
            "type": "contourcarpet"
           }
          ],
          "heatmap": [
           {
            "colorbar": {
             "outlinewidth": 0,
             "ticks": ""
            },
            "colorscale": [
             [
              0,
              "#0d0887"
             ],
             [
              0.1111111111111111,
              "#46039f"
             ],
             [
              0.2222222222222222,
              "#7201a8"
             ],
             [
              0.3333333333333333,
              "#9c179e"
             ],
             [
              0.4444444444444444,
              "#bd3786"
             ],
             [
              0.5555555555555556,
              "#d8576b"
             ],
             [
              0.6666666666666666,
              "#ed7953"
             ],
             [
              0.7777777777777778,
              "#fb9f3a"
             ],
             [
              0.8888888888888888,
              "#fdca26"
             ],
             [
              1,
              "#f0f921"
             ]
            ],
            "type": "heatmap"
           }
          ],
          "heatmapgl": [
           {
            "colorbar": {
             "outlinewidth": 0,
             "ticks": ""
            },
            "colorscale": [
             [
              0,
              "#0d0887"
             ],
             [
              0.1111111111111111,
              "#46039f"
             ],
             [
              0.2222222222222222,
              "#7201a8"
             ],
             [
              0.3333333333333333,
              "#9c179e"
             ],
             [
              0.4444444444444444,
              "#bd3786"
             ],
             [
              0.5555555555555556,
              "#d8576b"
             ],
             [
              0.6666666666666666,
              "#ed7953"
             ],
             [
              0.7777777777777778,
              "#fb9f3a"
             ],
             [
              0.8888888888888888,
              "#fdca26"
             ],
             [
              1,
              "#f0f921"
             ]
            ],
            "type": "heatmapgl"
           }
          ],
          "histogram": [
           {
            "marker": {
             "pattern": {
              "fillmode": "overlay",
              "size": 10,
              "solidity": 0.2
             }
            },
            "type": "histogram"
           }
          ],
          "histogram2d": [
           {
            "colorbar": {
             "outlinewidth": 0,
             "ticks": ""
            },
            "colorscale": [
             [
              0,
              "#0d0887"
             ],
             [
              0.1111111111111111,
              "#46039f"
             ],
             [
              0.2222222222222222,
              "#7201a8"
             ],
             [
              0.3333333333333333,
              "#9c179e"
             ],
             [
              0.4444444444444444,
              "#bd3786"
             ],
             [
              0.5555555555555556,
              "#d8576b"
             ],
             [
              0.6666666666666666,
              "#ed7953"
             ],
             [
              0.7777777777777778,
              "#fb9f3a"
             ],
             [
              0.8888888888888888,
              "#fdca26"
             ],
             [
              1,
              "#f0f921"
             ]
            ],
            "type": "histogram2d"
           }
          ],
          "histogram2dcontour": [
           {
            "colorbar": {
             "outlinewidth": 0,
             "ticks": ""
            },
            "colorscale": [
             [
              0,
              "#0d0887"
             ],
             [
              0.1111111111111111,
              "#46039f"
             ],
             [
              0.2222222222222222,
              "#7201a8"
             ],
             [
              0.3333333333333333,
              "#9c179e"
             ],
             [
              0.4444444444444444,
              "#bd3786"
             ],
             [
              0.5555555555555556,
              "#d8576b"
             ],
             [
              0.6666666666666666,
              "#ed7953"
             ],
             [
              0.7777777777777778,
              "#fb9f3a"
             ],
             [
              0.8888888888888888,
              "#fdca26"
             ],
             [
              1,
              "#f0f921"
             ]
            ],
            "type": "histogram2dcontour"
           }
          ],
          "mesh3d": [
           {
            "colorbar": {
             "outlinewidth": 0,
             "ticks": ""
            },
            "type": "mesh3d"
           }
          ],
          "parcoords": [
           {
            "line": {
             "colorbar": {
              "outlinewidth": 0,
              "ticks": ""
             }
            },
            "type": "parcoords"
           }
          ],
          "pie": [
           {
            "automargin": true,
            "type": "pie"
           }
          ],
          "scatter": [
           {
            "marker": {
             "line": {
              "color": "#283442"
             }
            },
            "type": "scatter"
           }
          ],
          "scatter3d": [
           {
            "line": {
             "colorbar": {
              "outlinewidth": 0,
              "ticks": ""
             }
            },
            "marker": {
             "colorbar": {
              "outlinewidth": 0,
              "ticks": ""
             }
            },
            "type": "scatter3d"
           }
          ],
          "scattercarpet": [
           {
            "marker": {
             "colorbar": {
              "outlinewidth": 0,
              "ticks": ""
             }
            },
            "type": "scattercarpet"
           }
          ],
          "scattergeo": [
           {
            "marker": {
             "colorbar": {
              "outlinewidth": 0,
              "ticks": ""
             }
            },
            "type": "scattergeo"
           }
          ],
          "scattergl": [
           {
            "marker": {
             "line": {
              "color": "#283442"
             }
            },
            "type": "scattergl"
           }
          ],
          "scattermapbox": [
           {
            "marker": {
             "colorbar": {
              "outlinewidth": 0,
              "ticks": ""
             }
            },
            "type": "scattermapbox"
           }
          ],
          "scatterpolar": [
           {
            "marker": {
             "colorbar": {
              "outlinewidth": 0,
              "ticks": ""
             }
            },
            "type": "scatterpolar"
           }
          ],
          "scatterpolargl": [
           {
            "marker": {
             "colorbar": {
              "outlinewidth": 0,
              "ticks": ""
             }
            },
            "type": "scatterpolargl"
           }
          ],
          "scatterternary": [
           {
            "marker": {
             "colorbar": {
              "outlinewidth": 0,
              "ticks": ""
             }
            },
            "type": "scatterternary"
           }
          ],
          "surface": [
           {
            "colorbar": {
             "outlinewidth": 0,
             "ticks": ""
            },
            "colorscale": [
             [
              0,
              "#0d0887"
             ],
             [
              0.1111111111111111,
              "#46039f"
             ],
             [
              0.2222222222222222,
              "#7201a8"
             ],
             [
              0.3333333333333333,
              "#9c179e"
             ],
             [
              0.4444444444444444,
              "#bd3786"
             ],
             [
              0.5555555555555556,
              "#d8576b"
             ],
             [
              0.6666666666666666,
              "#ed7953"
             ],
             [
              0.7777777777777778,
              "#fb9f3a"
             ],
             [
              0.8888888888888888,
              "#fdca26"
             ],
             [
              1,
              "#f0f921"
             ]
            ],
            "type": "surface"
           }
          ],
          "table": [
           {
            "cells": {
             "fill": {
              "color": "#506784"
             },
             "line": {
              "color": "rgb(17,17,17)"
             }
            },
            "header": {
             "fill": {
              "color": "#2a3f5f"
             },
             "line": {
              "color": "rgb(17,17,17)"
             }
            },
            "type": "table"
           }
          ]
         },
         "layout": {
          "annotationdefaults": {
           "arrowcolor": "#f2f5fa",
           "arrowhead": 0,
           "arrowwidth": 1
          },
          "autotypenumbers": "strict",
          "coloraxis": {
           "colorbar": {
            "outlinewidth": 0,
            "ticks": ""
           }
          },
          "colorscale": {
           "diverging": [
            [
             0,
             "#8e0152"
            ],
            [
             0.1,
             "#c51b7d"
            ],
            [
             0.2,
             "#de77ae"
            ],
            [
             0.3,
             "#f1b6da"
            ],
            [
             0.4,
             "#fde0ef"
            ],
            [
             0.5,
             "#f7f7f7"
            ],
            [
             0.6,
             "#e6f5d0"
            ],
            [
             0.7,
             "#b8e186"
            ],
            [
             0.8,
             "#7fbc41"
            ],
            [
             0.9,
             "#4d9221"
            ],
            [
             1,
             "#276419"
            ]
           ],
           "sequential": [
            [
             0,
             "#0d0887"
            ],
            [
             0.1111111111111111,
             "#46039f"
            ],
            [
             0.2222222222222222,
             "#7201a8"
            ],
            [
             0.3333333333333333,
             "#9c179e"
            ],
            [
             0.4444444444444444,
             "#bd3786"
            ],
            [
             0.5555555555555556,
             "#d8576b"
            ],
            [
             0.6666666666666666,
             "#ed7953"
            ],
            [
             0.7777777777777778,
             "#fb9f3a"
            ],
            [
             0.8888888888888888,
             "#fdca26"
            ],
            [
             1,
             "#f0f921"
            ]
           ],
           "sequentialminus": [
            [
             0,
             "#0d0887"
            ],
            [
             0.1111111111111111,
             "#46039f"
            ],
            [
             0.2222222222222222,
             "#7201a8"
            ],
            [
             0.3333333333333333,
             "#9c179e"
            ],
            [
             0.4444444444444444,
             "#bd3786"
            ],
            [
             0.5555555555555556,
             "#d8576b"
            ],
            [
             0.6666666666666666,
             "#ed7953"
            ],
            [
             0.7777777777777778,
             "#fb9f3a"
            ],
            [
             0.8888888888888888,
             "#fdca26"
            ],
            [
             1,
             "#f0f921"
            ]
           ]
          },
          "colorway": [
           "#636efa",
           "#EF553B",
           "#00cc96",
           "#ab63fa",
           "#FFA15A",
           "#19d3f3",
           "#FF6692",
           "#B6E880",
           "#FF97FF",
           "#FECB52"
          ],
          "font": {
           "color": "#f2f5fa"
          },
          "geo": {
           "bgcolor": "rgb(17,17,17)",
           "lakecolor": "rgb(17,17,17)",
           "landcolor": "rgb(17,17,17)",
           "showlakes": true,
           "showland": true,
           "subunitcolor": "#506784"
          },
          "hoverlabel": {
           "align": "left"
          },
          "hovermode": "closest",
          "mapbox": {
           "style": "dark"
          },
          "paper_bgcolor": "rgb(17,17,17)",
          "plot_bgcolor": "rgb(17,17,17)",
          "polar": {
           "angularaxis": {
            "gridcolor": "#506784",
            "linecolor": "#506784",
            "ticks": ""
           },
           "bgcolor": "rgb(17,17,17)",
           "radialaxis": {
            "gridcolor": "#506784",
            "linecolor": "#506784",
            "ticks": ""
           }
          },
          "scene": {
           "xaxis": {
            "backgroundcolor": "rgb(17,17,17)",
            "gridcolor": "#506784",
            "gridwidth": 2,
            "linecolor": "#506784",
            "showbackground": true,
            "ticks": "",
            "zerolinecolor": "#C8D4E3"
           },
           "yaxis": {
            "backgroundcolor": "rgb(17,17,17)",
            "gridcolor": "#506784",
            "gridwidth": 2,
            "linecolor": "#506784",
            "showbackground": true,
            "ticks": "",
            "zerolinecolor": "#C8D4E3"
           },
           "zaxis": {
            "backgroundcolor": "rgb(17,17,17)",
            "gridcolor": "#506784",
            "gridwidth": 2,
            "linecolor": "#506784",
            "showbackground": true,
            "ticks": "",
            "zerolinecolor": "#C8D4E3"
           }
          },
          "shapedefaults": {
           "line": {
            "color": "#f2f5fa"
           }
          },
          "sliderdefaults": {
           "bgcolor": "#C8D4E3",
           "bordercolor": "rgb(17,17,17)",
           "borderwidth": 1,
           "tickwidth": 0
          },
          "ternary": {
           "aaxis": {
            "gridcolor": "#506784",
            "linecolor": "#506784",
            "ticks": ""
           },
           "baxis": {
            "gridcolor": "#506784",
            "linecolor": "#506784",
            "ticks": ""
           },
           "bgcolor": "rgb(17,17,17)",
           "caxis": {
            "gridcolor": "#506784",
            "linecolor": "#506784",
            "ticks": ""
           }
          },
          "title": {
           "x": 0.05
          },
          "updatemenudefaults": {
           "bgcolor": "#506784",
           "borderwidth": 0
          },
          "xaxis": {
           "automargin": true,
           "gridcolor": "#283442",
           "linecolor": "#506784",
           "ticks": "",
           "title": {
            "standoff": 15
           },
           "zerolinecolor": "#283442",
           "zerolinewidth": 2
          },
          "yaxis": {
           "automargin": true,
           "gridcolor": "#283442",
           "linecolor": "#506784",
           "ticks": "",
           "title": {
            "standoff": 15
           },
           "zerolinecolor": "#283442",
           "zerolinewidth": 2
          }
         }
        },
        "title": {
         "text": "Distribution of Lines of Code"
        },
        "xaxis": {
         "anchor": "y",
         "domain": [
          0,
          1
         ],
         "title": {
          "text": "sum_net"
         }
        },
        "yaxis": {
         "anchor": "x",
         "domain": [
          0,
          1
         ]
        }
       }
      }
     },
     "metadata": {},
     "output_type": "display_data"
    }
   ],
   "source": [
    "# Overall box plot for all code\n",
    "fig = px.box(df_grouped,\n",
    "             title='Distribution of Lines of Code',\n",
    "             x='sum_net',\n",
    "             color=df_grouped.index.get_level_values(1),\n",
    "             height=275,\n",
    "             template=template,\n",
    "             color_discrete_sequence=theme,\n",
    "             #hover_data=['project','path','filename'],\n",
    "             labels={\n",
    "                 'project': 'Project',\n",
    "                 'lines': 'Lines of Code',\n",
    "             },\n",
    "             points='suspectedoutliers')\n",
    "fig.update_traces(quartilemethod='linear', jitter=1)\n",
    "fig.show()"
   ]
  },
  {
   "cell_type": "code",
   "execution_count": 29,
   "metadata": {
    "collapsed": false,
    "pycharm": {
     "name": "#%%\n"
    }
   },
   "outputs": [
    {
     "data": {
      "application/vnd.plotly.v1+json": {
       "config": {
        "plotlyServerURL": "https://plot.ly"
       },
       "data": [
        {
         "alignmentgroup": "True",
         "boxpoints": "suspectedoutliers",
         "hovertemplate": "color=OpenRA.Game<br>sum_net=%{x}<br>y=%{y}<extra></extra>",
         "jitter": 0.5,
         "legendgroup": "OpenRA.Game",
         "marker": {
          "color": "rgb(95, 70, 144)"
         },
         "name": "OpenRA.Game",
         "notched": false,
         "offsetgroup": "OpenRA.Game",
         "orientation": "h",
         "quartilemethod": "linear",
         "showlegend": true,
         "type": "box",
         "x": [
          21.125,
          59.92857142857143,
          133.6139534883721,
          32.92857142857143,
          64.67857142857143,
          66.88888888888889,
          -70.33333333333333,
          144,
          1330.9444444444443,
          -25.875,
          1145.2857142857142,
          6.115384615384615,
          366.40579710144925,
          27.785714285714285,
          31.555555555555557,
          -6.5,
          86.68181818181819,
          -11.122448979591837,
          -16.75862068965517,
          66,
          -33.73809523809524,
          8.75,
          29.86571879936809,
          31.37142857142857,
          337.0135135135135,
          -82.6923076923077,
          16.78125,
          5.2272727272727275,
          242.5855855855856,
          37.61538461538461,
          447,
          42.38709677419355,
          518.8,
          -2.357142857142857,
          -18.31578947368421,
          754.3548387096774,
          517.9782608695652,
          20.53846153846154,
          -28.75,
          -0.85,
          -5.8,
          2.090909090909091,
          52.73809523809524,
          -17.565217391304348,
          35.65909090909091,
          74.83333333333333,
          -25.88888888888889,
          321.7073170731707,
          442.22222222222223,
          413.12280701754383,
          548.2888888888889,
          292.6463414634146,
          1.6545454545454545,
          39.793103448275865,
          322.37974683544303,
          27,
          55.23076923076923,
          25.692307692307693,
          346.8333333333333,
          35.904761904761905,
          20.333333333333332,
          76,
          151.1306818181818,
          114.8171206225681,
          17,
          -56.90909090909091,
          21,
          113.46153846153847,
          25.842105263157894,
          12.375,
          71.21428571428571,
          19.823529411764707,
          39.42857142857143,
          -37.04545454545455,
          -56.84615384615385,
          146.75,
          112.75,
          24.25925925925926,
          0.3235294117647059,
          38.583333333333336,
          34.15625,
          11.6,
          38.458333333333336,
          19.742616033755276,
          -2.973684210526316,
          -5.833333333333333,
          70.83333333333333,
          74.47058823529412,
          2.6666666666666665,
          55.73684210526316,
          -130.83333333333334,
          38.93333333333333,
          69,
          41.07142857142857,
          9.527272727272727,
          6.380116959064328,
          323.84722222222223,
          -17,
          79.81818181818181,
          -15.244444444444444,
          85.2,
          48.291666666666664,
          6,
          335.72115384615387,
          621.175,
          228.5321100917431,
          8.563636363636364,
          17.307692307692307,
          24.822033898305083,
          6.714285714285714,
          98,
          150.38728323699422,
          12,
          1041.625,
          185.0808823529412,
          200.22222222222223,
          172.9375,
          77.23076923076923,
          93.25,
          40.1764705882353,
          199,
          -101.44444444444444,
          -10,
          -70.66666666666667,
          14.666666666666666,
          39.333333333333336,
          41.916666666666664,
          19.5,
          -107.125,
          73.63636363636364,
          -7.25,
          -7.1875,
          43.3,
          -66.8,
          -135.25,
          60.625,
          -41.81818181818182,
          47.22222222222222,
          8.071428571428571,
          -34.142857142857146,
          30.90909090909091,
          6.333333333333333,
          38.666666666666664,
          -64.07142857142857,
          -0.9523809523809523,
          29.430555555555557,
          118.82352941176471,
          62.1578947368421,
          131.13333333333333,
          119.11764705882354,
          167.83333333333334,
          200.75,
          65.9,
          72.82608695652173,
          -63.52,
          -169.6,
          83,
          -63.857142857142854,
          4.489189189189189,
          72.27777777777777,
          4.045714285714285,
          15.275862068965518,
          81.33333333333333,
          31.565217391304348,
          16.72222222222222,
          147.66666666666666,
          12.75,
          33,
          -2.5714285714285716,
          21,
          21,
          61.4,
          24.88888888888889,
          82,
          809.0333333333333,
          97.18181818181819,
          63,
          14.5,
          19.043478260869566,
          443.44642857142856,
          -44.57142857142857,
          399.52542372881356,
          27,
          34.5,
          1.3061224489795917,
          42.529411764705884,
          30.6,
          -22.916666666666668,
          19.846153846153847,
          68.44902386117137,
          30.25,
          -83.85714285714286,
          -71.57142857142857,
          -95.16666666666667,
          40,
          -12.208333333333334,
          -23.565217391304348,
          44.96153846153846,
          17.208333333333332,
          39.58620689655172,
          8,
          1.6184971098265897,
          -65.23913043478261,
          91.73550724637681,
          166.57142857142858,
          4.4
         ],
         "x0": " ",
         "xaxis": "x",
         "y": [
          "OpenRA.Game",
          "OpenRA.Game",
          "OpenRA.Game",
          "OpenRA.Game",
          "OpenRA.Game",
          "OpenRA.Game",
          "OpenRA.Game",
          "OpenRA.Game",
          "OpenRA.Game",
          "OpenRA.Game",
          "OpenRA.Game",
          "OpenRA.Game",
          "OpenRA.Game",
          "OpenRA.Game",
          "OpenRA.Game",
          "OpenRA.Game",
          "OpenRA.Game",
          "OpenRA.Game",
          "OpenRA.Game",
          "OpenRA.Game",
          "OpenRA.Game",
          "OpenRA.Game",
          "OpenRA.Game",
          "OpenRA.Game",
          "OpenRA.Game",
          "OpenRA.Game",
          "OpenRA.Game",
          "OpenRA.Game",
          "OpenRA.Game",
          "OpenRA.Game",
          "OpenRA.Game",
          "OpenRA.Game",
          "OpenRA.Game",
          "OpenRA.Game",
          "OpenRA.Game",
          "OpenRA.Game",
          "OpenRA.Game",
          "OpenRA.Game",
          "OpenRA.Game",
          "OpenRA.Game",
          "OpenRA.Game",
          "OpenRA.Game",
          "OpenRA.Game",
          "OpenRA.Game",
          "OpenRA.Game",
          "OpenRA.Game",
          "OpenRA.Game",
          "OpenRA.Game",
          "OpenRA.Game",
          "OpenRA.Game",
          "OpenRA.Game",
          "OpenRA.Game",
          "OpenRA.Game",
          "OpenRA.Game",
          "OpenRA.Game",
          "OpenRA.Game",
          "OpenRA.Game",
          "OpenRA.Game",
          "OpenRA.Game",
          "OpenRA.Game",
          "OpenRA.Game",
          "OpenRA.Game",
          "OpenRA.Game",
          "OpenRA.Game",
          "OpenRA.Game",
          "OpenRA.Game",
          "OpenRA.Game",
          "OpenRA.Game",
          "OpenRA.Game",
          "OpenRA.Game",
          "OpenRA.Game",
          "OpenRA.Game",
          "OpenRA.Game",
          "OpenRA.Game",
          "OpenRA.Game",
          "OpenRA.Game",
          "OpenRA.Game",
          "OpenRA.Game",
          "OpenRA.Game",
          "OpenRA.Game",
          "OpenRA.Game",
          "OpenRA.Game",
          "OpenRA.Game",
          "OpenRA.Game",
          "OpenRA.Game",
          "OpenRA.Game",
          "OpenRA.Game",
          "OpenRA.Game",
          "OpenRA.Game",
          "OpenRA.Game",
          "OpenRA.Game",
          "OpenRA.Game",
          "OpenRA.Game",
          "OpenRA.Game",
          "OpenRA.Game",
          "OpenRA.Game",
          "OpenRA.Game",
          "OpenRA.Game",
          "OpenRA.Game",
          "OpenRA.Game",
          "OpenRA.Game",
          "OpenRA.Game",
          "OpenRA.Game",
          "OpenRA.Game",
          "OpenRA.Game",
          "OpenRA.Game",
          "OpenRA.Game",
          "OpenRA.Game",
          "OpenRA.Game",
          "OpenRA.Game",
          "OpenRA.Game",
          "OpenRA.Game",
          "OpenRA.Game",
          "OpenRA.Game",
          "OpenRA.Game",
          "OpenRA.Game",
          "OpenRA.Game",
          "OpenRA.Game",
          "OpenRA.Game",
          "OpenRA.Game",
          "OpenRA.Game",
          "OpenRA.Game",
          "OpenRA.Game",
          "OpenRA.Game",
          "OpenRA.Game",
          "OpenRA.Game",
          "OpenRA.Game",
          "OpenRA.Game",
          "OpenRA.Game",
          "OpenRA.Game",
          "OpenRA.Game",
          "OpenRA.Game",
          "OpenRA.Game",
          "OpenRA.Game",
          "OpenRA.Game",
          "OpenRA.Game",
          "OpenRA.Game",
          "OpenRA.Game",
          "OpenRA.Game",
          "OpenRA.Game",
          "OpenRA.Game",
          "OpenRA.Game",
          "OpenRA.Game",
          "OpenRA.Game",
          "OpenRA.Game",
          "OpenRA.Game",
          "OpenRA.Game",
          "OpenRA.Game",
          "OpenRA.Game",
          "OpenRA.Game",
          "OpenRA.Game",
          "OpenRA.Game",
          "OpenRA.Game",
          "OpenRA.Game",
          "OpenRA.Game",
          "OpenRA.Game",
          "OpenRA.Game",
          "OpenRA.Game",
          "OpenRA.Game",
          "OpenRA.Game",
          "OpenRA.Game",
          "OpenRA.Game",
          "OpenRA.Game",
          "OpenRA.Game",
          "OpenRA.Game",
          "OpenRA.Game",
          "OpenRA.Game",
          "OpenRA.Game",
          "OpenRA.Game",
          "OpenRA.Game",
          "OpenRA.Game",
          "OpenRA.Game",
          "OpenRA.Game",
          "OpenRA.Game",
          "OpenRA.Game",
          "OpenRA.Game",
          "OpenRA.Game",
          "OpenRA.Game",
          "OpenRA.Game",
          "OpenRA.Game",
          "OpenRA.Game",
          "OpenRA.Game",
          "OpenRA.Game",
          "OpenRA.Game",
          "OpenRA.Game",
          "OpenRA.Game",
          "OpenRA.Game",
          "OpenRA.Game",
          "OpenRA.Game",
          "OpenRA.Game",
          "OpenRA.Game",
          "OpenRA.Game",
          "OpenRA.Game",
          "OpenRA.Game",
          "OpenRA.Game",
          "OpenRA.Game",
          "OpenRA.Game",
          "OpenRA.Game",
          "OpenRA.Game",
          "OpenRA.Game",
          "OpenRA.Game",
          "OpenRA.Game",
          "OpenRA.Game",
          "OpenRA.Game",
          "OpenRA.Game",
          "OpenRA.Game"
         ],
         "y0": " ",
         "yaxis": "y"
        },
        {
         "alignmentgroup": "True",
         "boxpoints": "suspectedoutliers",
         "hovertemplate": "color=OpenRA.Launcher<br>sum_net=%{x}<br>y=%{y}<extra></extra>",
         "jitter": 0.5,
         "legendgroup": "OpenRA.Launcher",
         "marker": {
          "color": "rgb(29, 105, 150)"
         },
         "name": "OpenRA.Launcher",
         "notched": false,
         "offsetgroup": "OpenRA.Launcher",
         "orientation": "h",
         "quartilemethod": "linear",
         "showlegend": true,
         "type": "box",
         "x": [
          726.5714285714286
         ],
         "x0": " ",
         "xaxis": "x",
         "y": [
          "OpenRA.Launcher"
         ],
         "y0": " ",
         "yaxis": "y"
        },
        {
         "alignmentgroup": "True",
         "boxpoints": "suspectedoutliers",
         "hovertemplate": "color=OpenRA.Mods.Cnc<br>sum_net=%{x}<br>y=%{y}<extra></extra>",
         "jitter": 0.5,
         "legendgroup": "OpenRA.Mods.Cnc",
         "marker": {
          "color": "rgb(56, 166, 165)"
         },
         "name": "OpenRA.Mods.Cnc",
         "notched": false,
         "offsetgroup": "OpenRA.Mods.Cnc",
         "orientation": "h",
         "quartilemethod": "linear",
         "showlegend": true,
         "type": "box",
         "x": [
          22.6875,
          -12.2,
          -26.7,
          26.473684210526315,
          -32.5,
          -3.3076923076923075,
          -98.28571428571429,
          -186.66666666666666,
          11.558441558441558,
          6.666666666666667,
          -23.666666666666668,
          -16,
          -86.625,
          16,
          2.875,
          0.3333333333333333,
          -0.7777777777777778,
          -6.666666666666667,
          -6.666666666666667,
          -14.666666666666666,
          1.3333333333333333,
          -116.8,
          19.142857142857142,
          210,
          1.3333333333333333,
          2,
          1.2857142857142858,
          -98.57142857142857,
          69,
          -101.14285714285714,
          -52.888888888888886,
          -140.125,
          24.428571428571427,
          -62.25,
          -7.538461538461538,
          4.933333333333334,
          33.75,
          -40.111111111111114,
          136.66666666666666,
          -15.5,
          12.2,
          -74.125,
          -2.4,
          -92.4,
          -85.14285714285714,
          -85.14285714285714,
          -18.363636363636363,
          8.833333333333334,
          8.481481481481481,
          55.5,
          -68.57142857142857,
          28.476190476190474,
          -13.216216216216216,
          -79.4,
          59.25,
          -22.307692307692307,
          -11.4,
          27,
          67.55555555555556,
          -23.666666666666668,
          4.463414634146342,
          30.066666666666666,
          27.80392156862745,
          32.107142857142854,
          10.666666666666666,
          24.976190476190474,
          -122.14285714285714,
          26.833333333333332,
          44.8,
          -88.85714285714286,
          0,
          -64.08333333333333,
          77.88,
          -63.5,
          -110.22222222222223,
          -195.25,
          -58.38461538461539,
          -113.66666666666667,
          -54,
          76,
          106
         ],
         "x0": " ",
         "xaxis": "x",
         "y": [
          "OpenRA.Mods.Cnc",
          "OpenRA.Mods.Cnc",
          "OpenRA.Mods.Cnc",
          "OpenRA.Mods.Cnc",
          "OpenRA.Mods.Cnc",
          "OpenRA.Mods.Cnc",
          "OpenRA.Mods.Cnc",
          "OpenRA.Mods.Cnc",
          "OpenRA.Mods.Cnc",
          "OpenRA.Mods.Cnc",
          "OpenRA.Mods.Cnc",
          "OpenRA.Mods.Cnc",
          "OpenRA.Mods.Cnc",
          "OpenRA.Mods.Cnc",
          "OpenRA.Mods.Cnc",
          "OpenRA.Mods.Cnc",
          "OpenRA.Mods.Cnc",
          "OpenRA.Mods.Cnc",
          "OpenRA.Mods.Cnc",
          "OpenRA.Mods.Cnc",
          "OpenRA.Mods.Cnc",
          "OpenRA.Mods.Cnc",
          "OpenRA.Mods.Cnc",
          "OpenRA.Mods.Cnc",
          "OpenRA.Mods.Cnc",
          "OpenRA.Mods.Cnc",
          "OpenRA.Mods.Cnc",
          "OpenRA.Mods.Cnc",
          "OpenRA.Mods.Cnc",
          "OpenRA.Mods.Cnc",
          "OpenRA.Mods.Cnc",
          "OpenRA.Mods.Cnc",
          "OpenRA.Mods.Cnc",
          "OpenRA.Mods.Cnc",
          "OpenRA.Mods.Cnc",
          "OpenRA.Mods.Cnc",
          "OpenRA.Mods.Cnc",
          "OpenRA.Mods.Cnc",
          "OpenRA.Mods.Cnc",
          "OpenRA.Mods.Cnc",
          "OpenRA.Mods.Cnc",
          "OpenRA.Mods.Cnc",
          "OpenRA.Mods.Cnc",
          "OpenRA.Mods.Cnc",
          "OpenRA.Mods.Cnc",
          "OpenRA.Mods.Cnc",
          "OpenRA.Mods.Cnc",
          "OpenRA.Mods.Cnc",
          "OpenRA.Mods.Cnc",
          "OpenRA.Mods.Cnc",
          "OpenRA.Mods.Cnc",
          "OpenRA.Mods.Cnc",
          "OpenRA.Mods.Cnc",
          "OpenRA.Mods.Cnc",
          "OpenRA.Mods.Cnc",
          "OpenRA.Mods.Cnc",
          "OpenRA.Mods.Cnc",
          "OpenRA.Mods.Cnc",
          "OpenRA.Mods.Cnc",
          "OpenRA.Mods.Cnc",
          "OpenRA.Mods.Cnc",
          "OpenRA.Mods.Cnc",
          "OpenRA.Mods.Cnc",
          "OpenRA.Mods.Cnc",
          "OpenRA.Mods.Cnc",
          "OpenRA.Mods.Cnc",
          "OpenRA.Mods.Cnc",
          "OpenRA.Mods.Cnc",
          "OpenRA.Mods.Cnc",
          "OpenRA.Mods.Cnc",
          "OpenRA.Mods.Cnc",
          "OpenRA.Mods.Cnc",
          "OpenRA.Mods.Cnc",
          "OpenRA.Mods.Cnc",
          "OpenRA.Mods.Cnc",
          "OpenRA.Mods.Cnc",
          "OpenRA.Mods.Cnc",
          "OpenRA.Mods.Cnc",
          "OpenRA.Mods.Cnc",
          "OpenRA.Mods.Cnc",
          "OpenRA.Mods.Cnc"
         ],
         "y0": " ",
         "yaxis": "y"
        },
        {
         "alignmentgroup": "True",
         "boxpoints": "suspectedoutliers",
         "hovertemplate": "color=OpenRA.Mods.Common<br>sum_net=%{x}<br>y=%{y}<extra></extra>",
         "jitter": 0.5,
         "legendgroup": "OpenRA.Mods.Common",
         "marker": {
          "color": "rgb(15, 133, 84)"
         },
         "name": "OpenRA.Mods.Common",
         "notched": false,
         "offsetgroup": "OpenRA.Mods.Common",
         "orientation": "h",
         "quartilemethod": "linear",
         "showlegend": true,
         "type": "box",
         "x": [
          23.2,
          33.53333333333333,
          25.26829268292683,
          52.42424242424242,
          -4.6,
          43.857142857142854,
          -4.666666666666667,
          14.6,
          78.36363636363636,
          28.209302325581394,
          5.153846153846154,
          32.91428571428571,
          38.42857142857143,
          35.88,
          73.38095238095238,
          15.82857142857143,
          76.28571428571429,
          101.33333333333333,
          42.53333333333333,
          -4.7,
          28.285714285714285,
          45.05,
          100.18181818181819,
          55.55,
          24.5,
          23.96,
          48.65714285714286,
          65.4,
          27.257142857142856,
          14.65,
          27,
          48,
          137,
          -58.36363636363637,
          81.46666666666667,
          42.22222222222222,
          13.944444444444445,
          54.53333333333333,
          81.93333333333334,
          10,
          152.12,
          109.38888888888889,
          135.82142857142858,
          132.53333333333333,
          157.42857142857142,
          40.34782608695652,
          109.55555555555556,
          -4.181818181818182,
          44.72727272727273,
          27.142857142857142,
          31.033333333333335,
          12.545454545454545,
          -32,
          -19.166666666666668,
          6.4,
          -17.25,
          5,
          -8.285714285714286,
          -1.3636363636363635,
          -34.142857142857146,
          -9.625,
          123,
          11.727272727272727,
          -129.66666666666666,
          52.93333333333333,
          57,
          -64.5,
          37.61538461538461,
          9.546875,
          -54.1,
          -39,
          -20.166666666666668,
          -64.5,
          74,
          8.48,
          -64.5,
          -20.75,
          -67.5,
          -87.625,
          -100.14285714285714,
          100.625,
          -111.5,
          29.416666666666668,
          -53.5,
          -28.714285714285715,
          83.72222222222223,
          47.64705882352941,
          107.41666666666667,
          79.7,
          63.4,
          69.3913043478261,
          42.07142857142857,
          -7.636363636363637,
          -61.785714285714285,
          16.642857142857142,
          5.9375,
          1.0909090909090908,
          83.4,
          50.666666666666664,
          28.9,
          45.27272727272727,
          18.692307692307693,
          35.11764705882353,
          -27,
          -2.3333333333333335,
          37,
          55.94117647058823,
          27.142857142857142,
          -9.666666666666666,
          46.26315789473684,
          16.333333333333332,
          -7.25,
          45.642857142857146,
          0.6363636363636364,
          50.333333333333336,
          57.9375,
          -0.2727272727272727,
          43.5,
          63.55555555555556,
          37.5,
          47.89473684210526,
          67.55555555555556,
          28.930232558139537,
          37.74074074074074,
          -9.8,
          -18.5,
          47.6875,
          21.8,
          73.94117647058823,
          49.31578947368421,
          68.82352941176471,
          -48.166666666666664,
          49.8,
          26.944444444444443,
          16.625,
          16.786666666666665,
          57.65217391304348,
          34.17391304347826,
          24.666666666666668,
          127.53846153846153,
          114.42857142857143,
          30.634146341463413,
          36.48148148148148,
          82.61538461538461,
          -7.46875,
          10.703703703703704,
          4.16,
          -6.791666666666667,
          3.6875,
          7.1454545454545455,
          -25.857142857142858,
          3.8333333333333335,
          21.88235294117647,
          -16.055555555555557,
          90.13333333333334,
          43.41463414634146,
          21.423728813559322,
          17.96969696969697,
          29.90909090909091,
          12.884615384615385,
          51.46153846153846,
          -107.33333333333333,
          -10.55,
          42.61904761904762,
          -73.57142857142857,
          -74.6,
          -74.22222222222223,
          -112.33333333333333,
          -126,
          41.61666666666667,
          -10.75,
          29.25,
          -165.16666666666666,
          24.857142857142858,
          68.92,
          -0.1,
          14.54320987654321,
          50.5,
          39.265306122448976,
          -5,
          -50.785714285714285,
          39.166666666666664,
          24.420454545454547,
          20.333333333333332,
          -18.916666666666668,
          29.34375,
          55.46666666666667,
          30.875,
          -7.111111111111111,
          12.5,
          1.7391304347826086,
          -34.666666666666664,
          71.55,
          31.558139534883722,
          -15.863636363636363,
          -45.1,
          37.674418604651166,
          49.38461538461539,
          23,
          72.22222222222223,
          26.92063492063492,
          19.674418604651162,
          6.666666666666667,
          33.869565217391305,
          49.0625,
          72.92857142857143,
          29,
          40.714285714285715,
          66.1304347826087,
          32.68421052631579,
          50.65384615384615,
          47.1,
          45.6,
          68.57894736842105,
          -23.5,
          124.28571428571429,
          -17.647058823529413,
          160.25,
          16.632653061224488,
          -10.235294117647058,
          21.166666666666668,
          15.4375,
          -61.142857142857146,
          37.291666666666664,
          66.30555555555556,
          95.3,
          47.93577981651376,
          35.351351351351354,
          -25.043478260869566,
          94.81818181818181,
          14.711538461538462,
          4.571428571428571,
          105.1,
          31.037037037037038,
          150.66666666666666,
          -39.5,
          18.176470588235293,
          30.17241379310345,
          8,
          9.5,
          29.666666666666668,
          96.18181818181819,
          21.5,
          78.6086956521739,
          45.285714285714285,
          38.666666666666664,
          68.27272727272727,
          -6.5,
          28.181818181818183,
          86.66666666666667,
          28.59016393442623,
          57.57142857142857,
          67.96666666666667,
          91.53846153846153,
          17.2,
          10.866666666666667,
          92.61538461538461,
          91.14285714285714,
          -78.07692307692308,
          61.166666666666664,
          59.4,
          50.5,
          104.41935483870968,
          23.555555555555557,
          -9.5,
          18.333333333333332,
          9.75,
          -19.583333333333332,
          10.8,
          -11.5,
          29.357142857142858,
          69.45454545454545,
          40.666666666666664,
          -214.25,
          29.09090909090909,
          66.6,
          57.041666666666664,
          71.88888888888889,
          45.541666666666664,
          5.722222222222222,
          44.375,
          161.66666666666666,
          55.32142857142857,
          54.28,
          23.64,
          -63.07692307692308,
          57.666666666666664,
          40,
          71.72,
          -99,
          15,
          23.421875,
          6.666666666666667,
          93.27272727272727,
          48.10526315789474,
          37.08,
          19.1484375,
          -132.1,
          -50.32142857142857,
          56.6,
          -130.6,
          35.75,
          -42.22222222222222,
          7.142857142857143,
          24.82857142857143,
          32.333333333333336,
          -124.85714285714286,
          -66.84615384615384,
          95.54545454545455,
          12.588235294117647,
          7.774193548387097,
          -59.375,
          -42.07142857142857,
          7.212121212121212,
          -78.75,
          -75.45454545454545,
          35.05,
          37.28333333333333,
          1.875,
          -47.3,
          -35.72727272727273,
          -64,
          -78.28571428571429,
          -78.28571428571429,
          -78.28571428571429,
          -73.2,
          -56.57142857142857,
          -108.83333333333333,
          30.307692307692307,
          -1.4090909090909092,
          6.833333333333333,
          -75.38461538461539,
          -108.66666666666667,
          13.5,
          11.625,
          23.895522388059703,
          35.19047619047619,
          40.46875,
          34.25,
          56.53846153846154,
          37.333333333333336,
          -1.2666666666666666,
          51.208333333333336,
          9.791666666666666,
          14.333333333333334,
          16.069767441860463,
          3,
          6.638888888888889,
          10,
          80.05882352941177,
          148.3,
          27,
          39.68421052631579,
          113.78571428571429,
          114.88888888888889,
          161.83333333333334,
          -0.2647058823529412,
          53.36842105263158,
          17.28125,
          242.76470588235293,
          75.28571428571429,
          30.333333333333332,
          113,
          116.76470588235294,
          102.46153846153847,
          75.55555555555556,
          -62.6,
          85.92857142857143,
          169.89473684210526,
          102.1,
          91.27272727272727,
          99.4,
          45.375,
          61.46153846153846,
          85.33333333333333,
          -62.5,
          149.2,
          122.91176470588235,
          150.2,
          118.22222222222223,
          117.6923076923077,
          20.985507246376812,
          35.724137931034484,
          64.91666666666667,
          61.583333333333336,
          113.22222222222223,
          37.72727272727273,
          84.35,
          22.666666666666668,
          105.7,
          31.571428571428573,
          107,
          130.16666666666666,
          213.15384615384616,
          94.8,
          34.5,
          38.486486486486484,
          36.4,
          47.535714285714285,
          29.666666666666668,
          75.38888888888889,
          -54.666666666666664,
          24.753846153846155,
          -43.705882352941174,
          69.66666666666667,
          27.673076923076923,
          69.66666666666667,
          61.1875
         ],
         "x0": " ",
         "xaxis": "x",
         "y": [
          "OpenRA.Mods.Common",
          "OpenRA.Mods.Common",
          "OpenRA.Mods.Common",
          "OpenRA.Mods.Common",
          "OpenRA.Mods.Common",
          "OpenRA.Mods.Common",
          "OpenRA.Mods.Common",
          "OpenRA.Mods.Common",
          "OpenRA.Mods.Common",
          "OpenRA.Mods.Common",
          "OpenRA.Mods.Common",
          "OpenRA.Mods.Common",
          "OpenRA.Mods.Common",
          "OpenRA.Mods.Common",
          "OpenRA.Mods.Common",
          "OpenRA.Mods.Common",
          "OpenRA.Mods.Common",
          "OpenRA.Mods.Common",
          "OpenRA.Mods.Common",
          "OpenRA.Mods.Common",
          "OpenRA.Mods.Common",
          "OpenRA.Mods.Common",
          "OpenRA.Mods.Common",
          "OpenRA.Mods.Common",
          "OpenRA.Mods.Common",
          "OpenRA.Mods.Common",
          "OpenRA.Mods.Common",
          "OpenRA.Mods.Common",
          "OpenRA.Mods.Common",
          "OpenRA.Mods.Common",
          "OpenRA.Mods.Common",
          "OpenRA.Mods.Common",
          "OpenRA.Mods.Common",
          "OpenRA.Mods.Common",
          "OpenRA.Mods.Common",
          "OpenRA.Mods.Common",
          "OpenRA.Mods.Common",
          "OpenRA.Mods.Common",
          "OpenRA.Mods.Common",
          "OpenRA.Mods.Common",
          "OpenRA.Mods.Common",
          "OpenRA.Mods.Common",
          "OpenRA.Mods.Common",
          "OpenRA.Mods.Common",
          "OpenRA.Mods.Common",
          "OpenRA.Mods.Common",
          "OpenRA.Mods.Common",
          "OpenRA.Mods.Common",
          "OpenRA.Mods.Common",
          "OpenRA.Mods.Common",
          "OpenRA.Mods.Common",
          "OpenRA.Mods.Common",
          "OpenRA.Mods.Common",
          "OpenRA.Mods.Common",
          "OpenRA.Mods.Common",
          "OpenRA.Mods.Common",
          "OpenRA.Mods.Common",
          "OpenRA.Mods.Common",
          "OpenRA.Mods.Common",
          "OpenRA.Mods.Common",
          "OpenRA.Mods.Common",
          "OpenRA.Mods.Common",
          "OpenRA.Mods.Common",
          "OpenRA.Mods.Common",
          "OpenRA.Mods.Common",
          "OpenRA.Mods.Common",
          "OpenRA.Mods.Common",
          "OpenRA.Mods.Common",
          "OpenRA.Mods.Common",
          "OpenRA.Mods.Common",
          "OpenRA.Mods.Common",
          "OpenRA.Mods.Common",
          "OpenRA.Mods.Common",
          "OpenRA.Mods.Common",
          "OpenRA.Mods.Common",
          "OpenRA.Mods.Common",
          "OpenRA.Mods.Common",
          "OpenRA.Mods.Common",
          "OpenRA.Mods.Common",
          "OpenRA.Mods.Common",
          "OpenRA.Mods.Common",
          "OpenRA.Mods.Common",
          "OpenRA.Mods.Common",
          "OpenRA.Mods.Common",
          "OpenRA.Mods.Common",
          "OpenRA.Mods.Common",
          "OpenRA.Mods.Common",
          "OpenRA.Mods.Common",
          "OpenRA.Mods.Common",
          "OpenRA.Mods.Common",
          "OpenRA.Mods.Common",
          "OpenRA.Mods.Common",
          "OpenRA.Mods.Common",
          "OpenRA.Mods.Common",
          "OpenRA.Mods.Common",
          "OpenRA.Mods.Common",
          "OpenRA.Mods.Common",
          "OpenRA.Mods.Common",
          "OpenRA.Mods.Common",
          "OpenRA.Mods.Common",
          "OpenRA.Mods.Common",
          "OpenRA.Mods.Common",
          "OpenRA.Mods.Common",
          "OpenRA.Mods.Common",
          "OpenRA.Mods.Common",
          "OpenRA.Mods.Common",
          "OpenRA.Mods.Common",
          "OpenRA.Mods.Common",
          "OpenRA.Mods.Common",
          "OpenRA.Mods.Common",
          "OpenRA.Mods.Common",
          "OpenRA.Mods.Common",
          "OpenRA.Mods.Common",
          "OpenRA.Mods.Common",
          "OpenRA.Mods.Common",
          "OpenRA.Mods.Common",
          "OpenRA.Mods.Common",
          "OpenRA.Mods.Common",
          "OpenRA.Mods.Common",
          "OpenRA.Mods.Common",
          "OpenRA.Mods.Common",
          "OpenRA.Mods.Common",
          "OpenRA.Mods.Common",
          "OpenRA.Mods.Common",
          "OpenRA.Mods.Common",
          "OpenRA.Mods.Common",
          "OpenRA.Mods.Common",
          "OpenRA.Mods.Common",
          "OpenRA.Mods.Common",
          "OpenRA.Mods.Common",
          "OpenRA.Mods.Common",
          "OpenRA.Mods.Common",
          "OpenRA.Mods.Common",
          "OpenRA.Mods.Common",
          "OpenRA.Mods.Common",
          "OpenRA.Mods.Common",
          "OpenRA.Mods.Common",
          "OpenRA.Mods.Common",
          "OpenRA.Mods.Common",
          "OpenRA.Mods.Common",
          "OpenRA.Mods.Common",
          "OpenRA.Mods.Common",
          "OpenRA.Mods.Common",
          "OpenRA.Mods.Common",
          "OpenRA.Mods.Common",
          "OpenRA.Mods.Common",
          "OpenRA.Mods.Common",
          "OpenRA.Mods.Common",
          "OpenRA.Mods.Common",
          "OpenRA.Mods.Common",
          "OpenRA.Mods.Common",
          "OpenRA.Mods.Common",
          "OpenRA.Mods.Common",
          "OpenRA.Mods.Common",
          "OpenRA.Mods.Common",
          "OpenRA.Mods.Common",
          "OpenRA.Mods.Common",
          "OpenRA.Mods.Common",
          "OpenRA.Mods.Common",
          "OpenRA.Mods.Common",
          "OpenRA.Mods.Common",
          "OpenRA.Mods.Common",
          "OpenRA.Mods.Common",
          "OpenRA.Mods.Common",
          "OpenRA.Mods.Common",
          "OpenRA.Mods.Common",
          "OpenRA.Mods.Common",
          "OpenRA.Mods.Common",
          "OpenRA.Mods.Common",
          "OpenRA.Mods.Common",
          "OpenRA.Mods.Common",
          "OpenRA.Mods.Common",
          "OpenRA.Mods.Common",
          "OpenRA.Mods.Common",
          "OpenRA.Mods.Common",
          "OpenRA.Mods.Common",
          "OpenRA.Mods.Common",
          "OpenRA.Mods.Common",
          "OpenRA.Mods.Common",
          "OpenRA.Mods.Common",
          "OpenRA.Mods.Common",
          "OpenRA.Mods.Common",
          "OpenRA.Mods.Common",
          "OpenRA.Mods.Common",
          "OpenRA.Mods.Common",
          "OpenRA.Mods.Common",
          "OpenRA.Mods.Common",
          "OpenRA.Mods.Common",
          "OpenRA.Mods.Common",
          "OpenRA.Mods.Common",
          "OpenRA.Mods.Common",
          "OpenRA.Mods.Common",
          "OpenRA.Mods.Common",
          "OpenRA.Mods.Common",
          "OpenRA.Mods.Common",
          "OpenRA.Mods.Common",
          "OpenRA.Mods.Common",
          "OpenRA.Mods.Common",
          "OpenRA.Mods.Common",
          "OpenRA.Mods.Common",
          "OpenRA.Mods.Common",
          "OpenRA.Mods.Common",
          "OpenRA.Mods.Common",
          "OpenRA.Mods.Common",
          "OpenRA.Mods.Common",
          "OpenRA.Mods.Common",
          "OpenRA.Mods.Common",
          "OpenRA.Mods.Common",
          "OpenRA.Mods.Common",
          "OpenRA.Mods.Common",
          "OpenRA.Mods.Common",
          "OpenRA.Mods.Common",
          "OpenRA.Mods.Common",
          "OpenRA.Mods.Common",
          "OpenRA.Mods.Common",
          "OpenRA.Mods.Common",
          "OpenRA.Mods.Common",
          "OpenRA.Mods.Common",
          "OpenRA.Mods.Common",
          "OpenRA.Mods.Common",
          "OpenRA.Mods.Common",
          "OpenRA.Mods.Common",
          "OpenRA.Mods.Common",
          "OpenRA.Mods.Common",
          "OpenRA.Mods.Common",
          "OpenRA.Mods.Common",
          "OpenRA.Mods.Common",
          "OpenRA.Mods.Common",
          "OpenRA.Mods.Common",
          "OpenRA.Mods.Common",
          "OpenRA.Mods.Common",
          "OpenRA.Mods.Common",
          "OpenRA.Mods.Common",
          "OpenRA.Mods.Common",
          "OpenRA.Mods.Common",
          "OpenRA.Mods.Common",
          "OpenRA.Mods.Common",
          "OpenRA.Mods.Common",
          "OpenRA.Mods.Common",
          "OpenRA.Mods.Common",
          "OpenRA.Mods.Common",
          "OpenRA.Mods.Common",
          "OpenRA.Mods.Common",
          "OpenRA.Mods.Common",
          "OpenRA.Mods.Common",
          "OpenRA.Mods.Common",
          "OpenRA.Mods.Common",
          "OpenRA.Mods.Common",
          "OpenRA.Mods.Common",
          "OpenRA.Mods.Common",
          "OpenRA.Mods.Common",
          "OpenRA.Mods.Common",
          "OpenRA.Mods.Common",
          "OpenRA.Mods.Common",
          "OpenRA.Mods.Common",
          "OpenRA.Mods.Common",
          "OpenRA.Mods.Common",
          "OpenRA.Mods.Common",
          "OpenRA.Mods.Common",
          "OpenRA.Mods.Common",
          "OpenRA.Mods.Common",
          "OpenRA.Mods.Common",
          "OpenRA.Mods.Common",
          "OpenRA.Mods.Common",
          "OpenRA.Mods.Common",
          "OpenRA.Mods.Common",
          "OpenRA.Mods.Common",
          "OpenRA.Mods.Common",
          "OpenRA.Mods.Common",
          "OpenRA.Mods.Common",
          "OpenRA.Mods.Common",
          "OpenRA.Mods.Common",
          "OpenRA.Mods.Common",
          "OpenRA.Mods.Common",
          "OpenRA.Mods.Common",
          "OpenRA.Mods.Common",
          "OpenRA.Mods.Common",
          "OpenRA.Mods.Common",
          "OpenRA.Mods.Common",
          "OpenRA.Mods.Common",
          "OpenRA.Mods.Common",
          "OpenRA.Mods.Common",
          "OpenRA.Mods.Common",
          "OpenRA.Mods.Common",
          "OpenRA.Mods.Common",
          "OpenRA.Mods.Common",
          "OpenRA.Mods.Common",
          "OpenRA.Mods.Common",
          "OpenRA.Mods.Common",
          "OpenRA.Mods.Common",
          "OpenRA.Mods.Common",
          "OpenRA.Mods.Common",
          "OpenRA.Mods.Common",
          "OpenRA.Mods.Common",
          "OpenRA.Mods.Common",
          "OpenRA.Mods.Common",
          "OpenRA.Mods.Common",
          "OpenRA.Mods.Common",
          "OpenRA.Mods.Common",
          "OpenRA.Mods.Common",
          "OpenRA.Mods.Common",
          "OpenRA.Mods.Common",
          "OpenRA.Mods.Common",
          "OpenRA.Mods.Common",
          "OpenRA.Mods.Common",
          "OpenRA.Mods.Common",
          "OpenRA.Mods.Common",
          "OpenRA.Mods.Common",
          "OpenRA.Mods.Common",
          "OpenRA.Mods.Common",
          "OpenRA.Mods.Common",
          "OpenRA.Mods.Common",
          "OpenRA.Mods.Common",
          "OpenRA.Mods.Common",
          "OpenRA.Mods.Common",
          "OpenRA.Mods.Common",
          "OpenRA.Mods.Common",
          "OpenRA.Mods.Common",
          "OpenRA.Mods.Common",
          "OpenRA.Mods.Common",
          "OpenRA.Mods.Common",
          "OpenRA.Mods.Common",
          "OpenRA.Mods.Common",
          "OpenRA.Mods.Common",
          "OpenRA.Mods.Common",
          "OpenRA.Mods.Common",
          "OpenRA.Mods.Common",
          "OpenRA.Mods.Common",
          "OpenRA.Mods.Common",
          "OpenRA.Mods.Common",
          "OpenRA.Mods.Common",
          "OpenRA.Mods.Common",
          "OpenRA.Mods.Common",
          "OpenRA.Mods.Common",
          "OpenRA.Mods.Common",
          "OpenRA.Mods.Common",
          "OpenRA.Mods.Common",
          "OpenRA.Mods.Common",
          "OpenRA.Mods.Common",
          "OpenRA.Mods.Common",
          "OpenRA.Mods.Common",
          "OpenRA.Mods.Common",
          "OpenRA.Mods.Common",
          "OpenRA.Mods.Common",
          "OpenRA.Mods.Common",
          "OpenRA.Mods.Common",
          "OpenRA.Mods.Common",
          "OpenRA.Mods.Common",
          "OpenRA.Mods.Common",
          "OpenRA.Mods.Common",
          "OpenRA.Mods.Common",
          "OpenRA.Mods.Common",
          "OpenRA.Mods.Common",
          "OpenRA.Mods.Common",
          "OpenRA.Mods.Common",
          "OpenRA.Mods.Common",
          "OpenRA.Mods.Common",
          "OpenRA.Mods.Common",
          "OpenRA.Mods.Common",
          "OpenRA.Mods.Common",
          "OpenRA.Mods.Common",
          "OpenRA.Mods.Common",
          "OpenRA.Mods.Common",
          "OpenRA.Mods.Common",
          "OpenRA.Mods.Common",
          "OpenRA.Mods.Common",
          "OpenRA.Mods.Common",
          "OpenRA.Mods.Common",
          "OpenRA.Mods.Common",
          "OpenRA.Mods.Common",
          "OpenRA.Mods.Common",
          "OpenRA.Mods.Common",
          "OpenRA.Mods.Common",
          "OpenRA.Mods.Common",
          "OpenRA.Mods.Common",
          "OpenRA.Mods.Common",
          "OpenRA.Mods.Common",
          "OpenRA.Mods.Common",
          "OpenRA.Mods.Common",
          "OpenRA.Mods.Common",
          "OpenRA.Mods.Common",
          "OpenRA.Mods.Common",
          "OpenRA.Mods.Common",
          "OpenRA.Mods.Common",
          "OpenRA.Mods.Common",
          "OpenRA.Mods.Common",
          "OpenRA.Mods.Common",
          "OpenRA.Mods.Common",
          "OpenRA.Mods.Common",
          "OpenRA.Mods.Common",
          "OpenRA.Mods.Common",
          "OpenRA.Mods.Common",
          "OpenRA.Mods.Common",
          "OpenRA.Mods.Common",
          "OpenRA.Mods.Common",
          "OpenRA.Mods.Common",
          "OpenRA.Mods.Common",
          "OpenRA.Mods.Common",
          "OpenRA.Mods.Common",
          "OpenRA.Mods.Common",
          "OpenRA.Mods.Common",
          "OpenRA.Mods.Common",
          "OpenRA.Mods.Common",
          "OpenRA.Mods.Common",
          "OpenRA.Mods.Common",
          "OpenRA.Mods.Common",
          "OpenRA.Mods.Common",
          "OpenRA.Mods.Common"
         ],
         "y0": " ",
         "yaxis": "y"
        },
        {
         "alignmentgroup": "True",
         "boxpoints": "suspectedoutliers",
         "hovertemplate": "color=OpenRA.Mods.D2k<br>sum_net=%{x}<br>y=%{y}<extra></extra>",
         "jitter": 0.5,
         "legendgroup": "OpenRA.Mods.D2k",
         "marker": {
          "color": "rgb(115, 175, 72)"
         },
         "name": "OpenRA.Mods.D2k",
         "notched": false,
         "offsetgroup": "OpenRA.Mods.D2k",
         "orientation": "h",
         "quartilemethod": "linear",
         "showlegend": true,
         "type": "box",
         "x": [
          41.88636363636363,
          74.41666666666667,
          -122.88888888888889,
          19.45,
          60.515151515151516,
          -9.076923076923077,
          23.142857142857142,
          24.166666666666668,
          65.27777777777777,
          47.61904761904762,
          22
         ],
         "x0": " ",
         "xaxis": "x",
         "y": [
          "OpenRA.Mods.D2k",
          "OpenRA.Mods.D2k",
          "OpenRA.Mods.D2k",
          "OpenRA.Mods.D2k",
          "OpenRA.Mods.D2k",
          "OpenRA.Mods.D2k",
          "OpenRA.Mods.D2k",
          "OpenRA.Mods.D2k",
          "OpenRA.Mods.D2k",
          "OpenRA.Mods.D2k",
          "OpenRA.Mods.D2k"
         ],
         "y0": " ",
         "yaxis": "y"
        },
        {
         "alignmentgroup": "True",
         "boxpoints": "suspectedoutliers",
         "hovertemplate": "color=OpenRA.Platforms.Default<br>sum_net=%{x}<br>y=%{y}<extra></extra>",
         "jitter": 0.5,
         "legendgroup": "OpenRA.Platforms.Default",
         "marker": {
          "color": "rgb(237, 173, 8)"
         },
         "name": "OpenRA.Platforms.Default",
         "notched": false,
         "offsetgroup": "OpenRA.Platforms.Default",
         "orientation": "h",
         "quartilemethod": "linear",
         "showlegend": true,
         "type": "box",
         "x": [
          80.22727272727273,
          -95.83333333333333,
          120.16666666666667,
          38,
          310.2,
          95.45454545454545,
          -6,
          32.58974358974359,
          24.708333333333332,
          82.57142857142857,
          12.933333333333334,
          16.70212765957447,
          60.36363636363637,
          47.111111111111114,
          150.91666666666666,
          36.111111111111114,
          110.0909090909091
         ],
         "x0": " ",
         "xaxis": "x",
         "y": [
          "OpenRA.Platforms.Default",
          "OpenRA.Platforms.Default",
          "OpenRA.Platforms.Default",
          "OpenRA.Platforms.Default",
          "OpenRA.Platforms.Default",
          "OpenRA.Platforms.Default",
          "OpenRA.Platforms.Default",
          "OpenRA.Platforms.Default",
          "OpenRA.Platforms.Default",
          "OpenRA.Platforms.Default",
          "OpenRA.Platforms.Default",
          "OpenRA.Platforms.Default",
          "OpenRA.Platforms.Default",
          "OpenRA.Platforms.Default",
          "OpenRA.Platforms.Default",
          "OpenRA.Platforms.Default",
          "OpenRA.Platforms.Default"
         ],
         "y0": " ",
         "yaxis": "y"
        },
        {
         "alignmentgroup": "True",
         "boxpoints": "suspectedoutliers",
         "hovertemplate": "color=OpenRA.Server<br>sum_net=%{x}<br>y=%{y}<extra></extra>",
         "jitter": 0.5,
         "legendgroup": "OpenRA.Server",
         "marker": {
          "color": "rgb(225, 124, 5)"
         },
         "name": "OpenRA.Server",
         "notched": false,
         "offsetgroup": "OpenRA.Server",
         "orientation": "h",
         "quartilemethod": "linear",
         "showlegend": true,
         "type": "box",
         "x": [
          27.571428571428573
         ],
         "x0": " ",
         "xaxis": "x",
         "y": [
          "OpenRA.Server"
         ],
         "y0": " ",
         "yaxis": "y"
        },
        {
         "alignmentgroup": "True",
         "boxpoints": "suspectedoutliers",
         "hovertemplate": "color=OpenRA.Test<br>sum_net=%{x}<br>y=%{y}<extra></extra>",
         "jitter": 0.5,
         "legendgroup": "OpenRA.Test",
         "marker": {
          "color": "rgb(204, 80, 62)"
         },
         "name": "OpenRA.Test",
         "notched": false,
         "offsetgroup": "OpenRA.Test",
         "orientation": "h",
         "quartilemethod": "linear",
         "showlegend": true,
         "type": "box",
         "x": [
          116.77777777777777,
          482.25,
          -38.857142857142854,
          84.58333333333333,
          447.44444444444446,
          886,
          877.9285714285714,
          8.5,
          153.7,
          123,
          -18.714285714285715,
          145.2
         ],
         "x0": " ",
         "xaxis": "x",
         "y": [
          "OpenRA.Test",
          "OpenRA.Test",
          "OpenRA.Test",
          "OpenRA.Test",
          "OpenRA.Test",
          "OpenRA.Test",
          "OpenRA.Test",
          "OpenRA.Test",
          "OpenRA.Test",
          "OpenRA.Test",
          "OpenRA.Test",
          "OpenRA.Test"
         ],
         "y0": " ",
         "yaxis": "y"
        },
        {
         "alignmentgroup": "True",
         "boxpoints": "suspectedoutliers",
         "hovertemplate": "color=OpenRA.Utility<br>sum_net=%{x}<br>y=%{y}<extra></extra>",
         "jitter": 0.5,
         "legendgroup": "OpenRA.Utility",
         "marker": {
          "color": "rgb(148, 52, 110)"
         },
         "name": "OpenRA.Utility",
         "notched": false,
         "offsetgroup": "OpenRA.Utility",
         "orientation": "h",
         "quartilemethod": "linear",
         "showlegend": true,
         "type": "box",
         "x": [
          -19.389705882352942
         ],
         "x0": " ",
         "xaxis": "x",
         "y": [
          "OpenRA.Utility"
         ],
         "y0": " ",
         "yaxis": "y"
        },
        {
         "alignmentgroup": "True",
         "boxpoints": "suspectedoutliers",
         "hovertemplate": "color=OpenRA.WindowsLauncher<br>sum_net=%{x}<br>y=%{y}<extra></extra>",
         "jitter": 0.5,
         "legendgroup": "OpenRA.WindowsLauncher",
         "marker": {
          "color": "rgb(111, 64, 112)"
         },
         "name": "OpenRA.WindowsLauncher",
         "notched": false,
         "offsetgroup": "OpenRA.WindowsLauncher",
         "orientation": "h",
         "quartilemethod": "linear",
         "showlegend": true,
         "type": "box",
         "x": [
          13.333333333333334
         ],
         "x0": " ",
         "xaxis": "x",
         "y": [
          "OpenRA.WindowsLauncher"
         ],
         "y0": " ",
         "yaxis": "y"
        }
       ],
       "layout": {
        "boxmode": "group",
        "legend": {
         "title": {
          "text": "color"
         },
         "tracegroupgap": 0
        },
        "showlegend": false,
        "template": {
         "data": {
          "bar": [
           {
            "error_x": {
             "color": "#f2f5fa"
            },
            "error_y": {
             "color": "#f2f5fa"
            },
            "marker": {
             "line": {
              "color": "rgb(17,17,17)",
              "width": 0.5
             },
             "pattern": {
              "fillmode": "overlay",
              "size": 10,
              "solidity": 0.2
             }
            },
            "type": "bar"
           }
          ],
          "barpolar": [
           {
            "marker": {
             "line": {
              "color": "rgb(17,17,17)",
              "width": 0.5
             },
             "pattern": {
              "fillmode": "overlay",
              "size": 10,
              "solidity": 0.2
             }
            },
            "type": "barpolar"
           }
          ],
          "carpet": [
           {
            "aaxis": {
             "endlinecolor": "#A2B1C6",
             "gridcolor": "#506784",
             "linecolor": "#506784",
             "minorgridcolor": "#506784",
             "startlinecolor": "#A2B1C6"
            },
            "baxis": {
             "endlinecolor": "#A2B1C6",
             "gridcolor": "#506784",
             "linecolor": "#506784",
             "minorgridcolor": "#506784",
             "startlinecolor": "#A2B1C6"
            },
            "type": "carpet"
           }
          ],
          "choropleth": [
           {
            "colorbar": {
             "outlinewidth": 0,
             "ticks": ""
            },
            "type": "choropleth"
           }
          ],
          "contour": [
           {
            "colorbar": {
             "outlinewidth": 0,
             "ticks": ""
            },
            "colorscale": [
             [
              0,
              "#0d0887"
             ],
             [
              0.1111111111111111,
              "#46039f"
             ],
             [
              0.2222222222222222,
              "#7201a8"
             ],
             [
              0.3333333333333333,
              "#9c179e"
             ],
             [
              0.4444444444444444,
              "#bd3786"
             ],
             [
              0.5555555555555556,
              "#d8576b"
             ],
             [
              0.6666666666666666,
              "#ed7953"
             ],
             [
              0.7777777777777778,
              "#fb9f3a"
             ],
             [
              0.8888888888888888,
              "#fdca26"
             ],
             [
              1,
              "#f0f921"
             ]
            ],
            "type": "contour"
           }
          ],
          "contourcarpet": [
           {
            "colorbar": {
             "outlinewidth": 0,
             "ticks": ""
            },
            "type": "contourcarpet"
           }
          ],
          "heatmap": [
           {
            "colorbar": {
             "outlinewidth": 0,
             "ticks": ""
            },
            "colorscale": [
             [
              0,
              "#0d0887"
             ],
             [
              0.1111111111111111,
              "#46039f"
             ],
             [
              0.2222222222222222,
              "#7201a8"
             ],
             [
              0.3333333333333333,
              "#9c179e"
             ],
             [
              0.4444444444444444,
              "#bd3786"
             ],
             [
              0.5555555555555556,
              "#d8576b"
             ],
             [
              0.6666666666666666,
              "#ed7953"
             ],
             [
              0.7777777777777778,
              "#fb9f3a"
             ],
             [
              0.8888888888888888,
              "#fdca26"
             ],
             [
              1,
              "#f0f921"
             ]
            ],
            "type": "heatmap"
           }
          ],
          "heatmapgl": [
           {
            "colorbar": {
             "outlinewidth": 0,
             "ticks": ""
            },
            "colorscale": [
             [
              0,
              "#0d0887"
             ],
             [
              0.1111111111111111,
              "#46039f"
             ],
             [
              0.2222222222222222,
              "#7201a8"
             ],
             [
              0.3333333333333333,
              "#9c179e"
             ],
             [
              0.4444444444444444,
              "#bd3786"
             ],
             [
              0.5555555555555556,
              "#d8576b"
             ],
             [
              0.6666666666666666,
              "#ed7953"
             ],
             [
              0.7777777777777778,
              "#fb9f3a"
             ],
             [
              0.8888888888888888,
              "#fdca26"
             ],
             [
              1,
              "#f0f921"
             ]
            ],
            "type": "heatmapgl"
           }
          ],
          "histogram": [
           {
            "marker": {
             "pattern": {
              "fillmode": "overlay",
              "size": 10,
              "solidity": 0.2
             }
            },
            "type": "histogram"
           }
          ],
          "histogram2d": [
           {
            "colorbar": {
             "outlinewidth": 0,
             "ticks": ""
            },
            "colorscale": [
             [
              0,
              "#0d0887"
             ],
             [
              0.1111111111111111,
              "#46039f"
             ],
             [
              0.2222222222222222,
              "#7201a8"
             ],
             [
              0.3333333333333333,
              "#9c179e"
             ],
             [
              0.4444444444444444,
              "#bd3786"
             ],
             [
              0.5555555555555556,
              "#d8576b"
             ],
             [
              0.6666666666666666,
              "#ed7953"
             ],
             [
              0.7777777777777778,
              "#fb9f3a"
             ],
             [
              0.8888888888888888,
              "#fdca26"
             ],
             [
              1,
              "#f0f921"
             ]
            ],
            "type": "histogram2d"
           }
          ],
          "histogram2dcontour": [
           {
            "colorbar": {
             "outlinewidth": 0,
             "ticks": ""
            },
            "colorscale": [
             [
              0,
              "#0d0887"
             ],
             [
              0.1111111111111111,
              "#46039f"
             ],
             [
              0.2222222222222222,
              "#7201a8"
             ],
             [
              0.3333333333333333,
              "#9c179e"
             ],
             [
              0.4444444444444444,
              "#bd3786"
             ],
             [
              0.5555555555555556,
              "#d8576b"
             ],
             [
              0.6666666666666666,
              "#ed7953"
             ],
             [
              0.7777777777777778,
              "#fb9f3a"
             ],
             [
              0.8888888888888888,
              "#fdca26"
             ],
             [
              1,
              "#f0f921"
             ]
            ],
            "type": "histogram2dcontour"
           }
          ],
          "mesh3d": [
           {
            "colorbar": {
             "outlinewidth": 0,
             "ticks": ""
            },
            "type": "mesh3d"
           }
          ],
          "parcoords": [
           {
            "line": {
             "colorbar": {
              "outlinewidth": 0,
              "ticks": ""
             }
            },
            "type": "parcoords"
           }
          ],
          "pie": [
           {
            "automargin": true,
            "type": "pie"
           }
          ],
          "scatter": [
           {
            "marker": {
             "line": {
              "color": "#283442"
             }
            },
            "type": "scatter"
           }
          ],
          "scatter3d": [
           {
            "line": {
             "colorbar": {
              "outlinewidth": 0,
              "ticks": ""
             }
            },
            "marker": {
             "colorbar": {
              "outlinewidth": 0,
              "ticks": ""
             }
            },
            "type": "scatter3d"
           }
          ],
          "scattercarpet": [
           {
            "marker": {
             "colorbar": {
              "outlinewidth": 0,
              "ticks": ""
             }
            },
            "type": "scattercarpet"
           }
          ],
          "scattergeo": [
           {
            "marker": {
             "colorbar": {
              "outlinewidth": 0,
              "ticks": ""
             }
            },
            "type": "scattergeo"
           }
          ],
          "scattergl": [
           {
            "marker": {
             "line": {
              "color": "#283442"
             }
            },
            "type": "scattergl"
           }
          ],
          "scattermapbox": [
           {
            "marker": {
             "colorbar": {
              "outlinewidth": 0,
              "ticks": ""
             }
            },
            "type": "scattermapbox"
           }
          ],
          "scatterpolar": [
           {
            "marker": {
             "colorbar": {
              "outlinewidth": 0,
              "ticks": ""
             }
            },
            "type": "scatterpolar"
           }
          ],
          "scatterpolargl": [
           {
            "marker": {
             "colorbar": {
              "outlinewidth": 0,
              "ticks": ""
             }
            },
            "type": "scatterpolargl"
           }
          ],
          "scatterternary": [
           {
            "marker": {
             "colorbar": {
              "outlinewidth": 0,
              "ticks": ""
             }
            },
            "type": "scatterternary"
           }
          ],
          "surface": [
           {
            "colorbar": {
             "outlinewidth": 0,
             "ticks": ""
            },
            "colorscale": [
             [
              0,
              "#0d0887"
             ],
             [
              0.1111111111111111,
              "#46039f"
             ],
             [
              0.2222222222222222,
              "#7201a8"
             ],
             [
              0.3333333333333333,
              "#9c179e"
             ],
             [
              0.4444444444444444,
              "#bd3786"
             ],
             [
              0.5555555555555556,
              "#d8576b"
             ],
             [
              0.6666666666666666,
              "#ed7953"
             ],
             [
              0.7777777777777778,
              "#fb9f3a"
             ],
             [
              0.8888888888888888,
              "#fdca26"
             ],
             [
              1,
              "#f0f921"
             ]
            ],
            "type": "surface"
           }
          ],
          "table": [
           {
            "cells": {
             "fill": {
              "color": "#506784"
             },
             "line": {
              "color": "rgb(17,17,17)"
             }
            },
            "header": {
             "fill": {
              "color": "#2a3f5f"
             },
             "line": {
              "color": "rgb(17,17,17)"
             }
            },
            "type": "table"
           }
          ]
         },
         "layout": {
          "annotationdefaults": {
           "arrowcolor": "#f2f5fa",
           "arrowhead": 0,
           "arrowwidth": 1
          },
          "autotypenumbers": "strict",
          "coloraxis": {
           "colorbar": {
            "outlinewidth": 0,
            "ticks": ""
           }
          },
          "colorscale": {
           "diverging": [
            [
             0,
             "#8e0152"
            ],
            [
             0.1,
             "#c51b7d"
            ],
            [
             0.2,
             "#de77ae"
            ],
            [
             0.3,
             "#f1b6da"
            ],
            [
             0.4,
             "#fde0ef"
            ],
            [
             0.5,
             "#f7f7f7"
            ],
            [
             0.6,
             "#e6f5d0"
            ],
            [
             0.7,
             "#b8e186"
            ],
            [
             0.8,
             "#7fbc41"
            ],
            [
             0.9,
             "#4d9221"
            ],
            [
             1,
             "#276419"
            ]
           ],
           "sequential": [
            [
             0,
             "#0d0887"
            ],
            [
             0.1111111111111111,
             "#46039f"
            ],
            [
             0.2222222222222222,
             "#7201a8"
            ],
            [
             0.3333333333333333,
             "#9c179e"
            ],
            [
             0.4444444444444444,
             "#bd3786"
            ],
            [
             0.5555555555555556,
             "#d8576b"
            ],
            [
             0.6666666666666666,
             "#ed7953"
            ],
            [
             0.7777777777777778,
             "#fb9f3a"
            ],
            [
             0.8888888888888888,
             "#fdca26"
            ],
            [
             1,
             "#f0f921"
            ]
           ],
           "sequentialminus": [
            [
             0,
             "#0d0887"
            ],
            [
             0.1111111111111111,
             "#46039f"
            ],
            [
             0.2222222222222222,
             "#7201a8"
            ],
            [
             0.3333333333333333,
             "#9c179e"
            ],
            [
             0.4444444444444444,
             "#bd3786"
            ],
            [
             0.5555555555555556,
             "#d8576b"
            ],
            [
             0.6666666666666666,
             "#ed7953"
            ],
            [
             0.7777777777777778,
             "#fb9f3a"
            ],
            [
             0.8888888888888888,
             "#fdca26"
            ],
            [
             1,
             "#f0f921"
            ]
           ]
          },
          "colorway": [
           "#636efa",
           "#EF553B",
           "#00cc96",
           "#ab63fa",
           "#FFA15A",
           "#19d3f3",
           "#FF6692",
           "#B6E880",
           "#FF97FF",
           "#FECB52"
          ],
          "font": {
           "color": "#f2f5fa"
          },
          "geo": {
           "bgcolor": "rgb(17,17,17)",
           "lakecolor": "rgb(17,17,17)",
           "landcolor": "rgb(17,17,17)",
           "showlakes": true,
           "showland": true,
           "subunitcolor": "#506784"
          },
          "hoverlabel": {
           "align": "left"
          },
          "hovermode": "closest",
          "mapbox": {
           "style": "dark"
          },
          "paper_bgcolor": "rgb(17,17,17)",
          "plot_bgcolor": "rgb(17,17,17)",
          "polar": {
           "angularaxis": {
            "gridcolor": "#506784",
            "linecolor": "#506784",
            "ticks": ""
           },
           "bgcolor": "rgb(17,17,17)",
           "radialaxis": {
            "gridcolor": "#506784",
            "linecolor": "#506784",
            "ticks": ""
           }
          },
          "scene": {
           "xaxis": {
            "backgroundcolor": "rgb(17,17,17)",
            "gridcolor": "#506784",
            "gridwidth": 2,
            "linecolor": "#506784",
            "showbackground": true,
            "ticks": "",
            "zerolinecolor": "#C8D4E3"
           },
           "yaxis": {
            "backgroundcolor": "rgb(17,17,17)",
            "gridcolor": "#506784",
            "gridwidth": 2,
            "linecolor": "#506784",
            "showbackground": true,
            "ticks": "",
            "zerolinecolor": "#C8D4E3"
           },
           "zaxis": {
            "backgroundcolor": "rgb(17,17,17)",
            "gridcolor": "#506784",
            "gridwidth": 2,
            "linecolor": "#506784",
            "showbackground": true,
            "ticks": "",
            "zerolinecolor": "#C8D4E3"
           }
          },
          "shapedefaults": {
           "line": {
            "color": "#f2f5fa"
           }
          },
          "sliderdefaults": {
           "bgcolor": "#C8D4E3",
           "bordercolor": "rgb(17,17,17)",
           "borderwidth": 1,
           "tickwidth": 0
          },
          "ternary": {
           "aaxis": {
            "gridcolor": "#506784",
            "linecolor": "#506784",
            "ticks": ""
           },
           "baxis": {
            "gridcolor": "#506784",
            "linecolor": "#506784",
            "ticks": ""
           },
           "bgcolor": "rgb(17,17,17)",
           "caxis": {
            "gridcolor": "#506784",
            "linecolor": "#506784",
            "ticks": ""
           }
          },
          "title": {
           "x": 0.05
          },
          "updatemenudefaults": {
           "bgcolor": "#506784",
           "borderwidth": 0
          },
          "xaxis": {
           "automargin": true,
           "gridcolor": "#283442",
           "linecolor": "#506784",
           "ticks": "",
           "title": {
            "standoff": 15
           },
           "zerolinecolor": "#283442",
           "zerolinewidth": 2
          },
          "yaxis": {
           "automargin": true,
           "gridcolor": "#283442",
           "linecolor": "#506784",
           "ticks": "",
           "title": {
            "standoff": 15
           },
           "zerolinecolor": "#283442",
           "zerolinewidth": 2
          }
         }
        },
        "title": {
         "text": "Distribution of Lines of Code by Project"
        },
        "xaxis": {
         "anchor": "y",
         "domain": [
          0,
          1
         ],
         "title": {
          "text": "sum_net"
         }
        },
        "yaxis": {
         "anchor": "x",
         "domain": [
          0,
          1
         ],
         "tickangle": 30,
         "tickfont": {
          "size": 10
         },
         "title": {
          "text": "y"
         }
        }
       }
      }
     },
     "metadata": {},
     "output_type": "display_data"
    }
   ],
   "source": [
    "# Box plot for distribution by projects\n",
    "fig = px.box(df_grouped,\n",
    "             x='sum_net',\n",
    "             y=df_grouped.index.get_level_values(1),\n",
    "#             hover_data=['path','filename'],\n",
    "             labels={\n",
    "               'project': 'Project',\n",
    "               'lines': 'Lines of Code',\n",
    "             },\n",
    "             title='Distribution of Lines of Code by Project',\n",
    "             points='suspectedoutliers',\n",
    "             template=template,\n",
    "             color_discrete_sequence=theme,\n",
    "             color=df_grouped.index.get_level_values(1))\n",
    "fig.update_traces(quartilemethod='linear', jitter=0.5)\n",
    "fig.update_layout(showlegend=False)\n",
    "fig.update_yaxes(tickangle=30, tickfont={'size': 10})\n",
    "fig.show()"
   ]
  },
  {
   "cell_type": "code",
   "execution_count": 32,
   "metadata": {
    "collapsed": false,
    "pycharm": {
     "name": "#%%\n"
    }
   },
   "outputs": [
    {
     "ename": "ValueError",
     "evalue": "Value of 'path_1' is not the name of a column in 'data_frame'. Expected one of ['sum_net'] but received: project",
     "output_type": "error",
     "traceback": [
      "\u001b[1;31m---------------------------------------------------------------------------\u001b[0m",
      "\u001b[1;31mValueError\u001b[0m                                Traceback (most recent call last)",
      "\u001b[1;32m<ipython-input-32-23df25b4fd94>\u001b[0m in \u001b[0;36m<module>\u001b[1;34m\u001b[0m\n\u001b[0;32m      3\u001b[0m \u001b[1;31m# TODO: Using Graph Objects here would allow for a more dynamic hierarchy\u001b[0m\u001b[1;33m\u001b[0m\u001b[1;33m\u001b[0m\u001b[1;33m\u001b[0m\u001b[0m\n\u001b[0;32m      4\u001b[0m \u001b[1;33m\u001b[0m\u001b[0m\n\u001b[1;32m----> 5\u001b[1;33m fig = px.treemap(df_grouped,\n\u001b[0m\u001b[0;32m      6\u001b[0m                  \u001b[0mpath\u001b[0m\u001b[1;33m=\u001b[0m\u001b[1;33m[\u001b[0m\u001b[0mpx\u001b[0m\u001b[1;33m.\u001b[0m\u001b[0mConstant\u001b[0m\u001b[1;33m(\u001b[0m\u001b[1;34m'All Code'\u001b[0m\u001b[1;33m)\u001b[0m\u001b[1;33m,\u001b[0m\u001b[1;34m'project'\u001b[0m\u001b[1;33m,\u001b[0m\u001b[1;34m'path'\u001b[0m\u001b[1;33m,\u001b[0m\u001b[1;34m'filename'\u001b[0m\u001b[1;33m]\u001b[0m\u001b[1;33m,\u001b[0m\u001b[1;33m\u001b[0m\u001b[1;33m\u001b[0m\u001b[0m\n\u001b[0;32m      7\u001b[0m                  \u001b[0mcolor\u001b[0m\u001b[1;33m=\u001b[0m\u001b[1;34m'lines'\u001b[0m\u001b[1;33m,\u001b[0m\u001b[1;33m\u001b[0m\u001b[1;33m\u001b[0m\u001b[0m\n",
      "\u001b[1;32m~\\anaconda3\\lib\\site-packages\\plotly\\express\\_chart_types.py\u001b[0m in \u001b[0;36mtreemap\u001b[1;34m(data_frame, names, values, parents, ids, path, color, color_continuous_scale, range_color, color_continuous_midpoint, color_discrete_sequence, color_discrete_map, hover_name, hover_data, custom_data, labels, title, template, width, height, branchvalues, maxdepth)\u001b[0m\n\u001b[0;32m   1565\u001b[0m     \u001b[1;32mif\u001b[0m \u001b[0mpath\u001b[0m \u001b[1;32mis\u001b[0m \u001b[1;32mnot\u001b[0m \u001b[1;32mNone\u001b[0m \u001b[1;32mand\u001b[0m \u001b[0mbranchvalues\u001b[0m \u001b[1;32mis\u001b[0m \u001b[1;32mNone\u001b[0m\u001b[1;33m:\u001b[0m\u001b[1;33m\u001b[0m\u001b[1;33m\u001b[0m\u001b[0m\n\u001b[0;32m   1566\u001b[0m         \u001b[0mbranchvalues\u001b[0m \u001b[1;33m=\u001b[0m \u001b[1;34m\"total\"\u001b[0m\u001b[1;33m\u001b[0m\u001b[1;33m\u001b[0m\u001b[0m\n\u001b[1;32m-> 1567\u001b[1;33m     return make_figure(\n\u001b[0m\u001b[0;32m   1568\u001b[0m         \u001b[0margs\u001b[0m\u001b[1;33m=\u001b[0m\u001b[0mlocals\u001b[0m\u001b[1;33m(\u001b[0m\u001b[1;33m)\u001b[0m\u001b[1;33m,\u001b[0m\u001b[1;33m\u001b[0m\u001b[1;33m\u001b[0m\u001b[0m\n\u001b[0;32m   1569\u001b[0m         \u001b[0mconstructor\u001b[0m\u001b[1;33m=\u001b[0m\u001b[0mgo\u001b[0m\u001b[1;33m.\u001b[0m\u001b[0mTreemap\u001b[0m\u001b[1;33m,\u001b[0m\u001b[1;33m\u001b[0m\u001b[1;33m\u001b[0m\u001b[0m\n",
      "\u001b[1;32m~\\anaconda3\\lib\\site-packages\\plotly\\express\\_core.py\u001b[0m in \u001b[0;36mmake_figure\u001b[1;34m(args, constructor, trace_patch, layout_patch)\u001b[0m\n\u001b[0;32m   1931\u001b[0m     \u001b[0mapply_default_cascade\u001b[0m\u001b[1;33m(\u001b[0m\u001b[0margs\u001b[0m\u001b[1;33m)\u001b[0m\u001b[1;33m\u001b[0m\u001b[1;33m\u001b[0m\u001b[0m\n\u001b[0;32m   1932\u001b[0m \u001b[1;33m\u001b[0m\u001b[0m\n\u001b[1;32m-> 1933\u001b[1;33m     \u001b[0margs\u001b[0m \u001b[1;33m=\u001b[0m \u001b[0mbuild_dataframe\u001b[0m\u001b[1;33m(\u001b[0m\u001b[0margs\u001b[0m\u001b[1;33m,\u001b[0m \u001b[0mconstructor\u001b[0m\u001b[1;33m)\u001b[0m\u001b[1;33m\u001b[0m\u001b[1;33m\u001b[0m\u001b[0m\n\u001b[0m\u001b[0;32m   1934\u001b[0m     \u001b[1;32mif\u001b[0m \u001b[0mconstructor\u001b[0m \u001b[1;32min\u001b[0m \u001b[1;33m[\u001b[0m\u001b[0mgo\u001b[0m\u001b[1;33m.\u001b[0m\u001b[0mTreemap\u001b[0m\u001b[1;33m,\u001b[0m \u001b[0mgo\u001b[0m\u001b[1;33m.\u001b[0m\u001b[0mSunburst\u001b[0m\u001b[1;33m,\u001b[0m \u001b[0mgo\u001b[0m\u001b[1;33m.\u001b[0m\u001b[0mIcicle\u001b[0m\u001b[1;33m]\u001b[0m \u001b[1;32mand\u001b[0m \u001b[0margs\u001b[0m\u001b[1;33m[\u001b[0m\u001b[1;34m\"path\"\u001b[0m\u001b[1;33m]\u001b[0m \u001b[1;32mis\u001b[0m \u001b[1;32mnot\u001b[0m \u001b[1;32mNone\u001b[0m\u001b[1;33m:\u001b[0m\u001b[1;33m\u001b[0m\u001b[1;33m\u001b[0m\u001b[0m\n\u001b[0;32m   1935\u001b[0m         \u001b[0margs\u001b[0m \u001b[1;33m=\u001b[0m \u001b[0mprocess_dataframe_hierarchy\u001b[0m\u001b[1;33m(\u001b[0m\u001b[0margs\u001b[0m\u001b[1;33m)\u001b[0m\u001b[1;33m\u001b[0m\u001b[1;33m\u001b[0m\u001b[0m\n",
      "\u001b[1;32m~\\anaconda3\\lib\\site-packages\\plotly\\express\\_core.py\u001b[0m in \u001b[0;36mbuild_dataframe\u001b[1;34m(args, constructor)\u001b[0m\n\u001b[0;32m   1403\u001b[0m     \u001b[1;31m# now that things have been prepped, we do the systematic rewriting of `args`\u001b[0m\u001b[1;33m\u001b[0m\u001b[1;33m\u001b[0m\u001b[1;33m\u001b[0m\u001b[0m\n\u001b[0;32m   1404\u001b[0m \u001b[1;33m\u001b[0m\u001b[0m\n\u001b[1;32m-> 1405\u001b[1;33m     df_output, wide_id_vars = process_args_into_dataframe(\n\u001b[0m\u001b[0;32m   1406\u001b[0m         \u001b[0margs\u001b[0m\u001b[1;33m,\u001b[0m \u001b[0mwide_mode\u001b[0m\u001b[1;33m,\u001b[0m \u001b[0mvar_name\u001b[0m\u001b[1;33m,\u001b[0m \u001b[0mvalue_name\u001b[0m\u001b[1;33m\u001b[0m\u001b[1;33m\u001b[0m\u001b[0m\n\u001b[0;32m   1407\u001b[0m     )\n",
      "\u001b[1;32m~\\anaconda3\\lib\\site-packages\\plotly\\express\\_core.py\u001b[0m in \u001b[0;36mprocess_args_into_dataframe\u001b[1;34m(args, wide_mode, var_name, value_name)\u001b[0m\n\u001b[0;32m   1205\u001b[0m                         \u001b[1;32mif\u001b[0m \u001b[0margument\u001b[0m \u001b[1;33m==\u001b[0m \u001b[1;34m\"index\"\u001b[0m\u001b[1;33m:\u001b[0m\u001b[1;33m\u001b[0m\u001b[1;33m\u001b[0m\u001b[0m\n\u001b[0;32m   1206\u001b[0m                             \u001b[0merr_msg\u001b[0m \u001b[1;33m+=\u001b[0m \u001b[1;34m\"\\n To use the index, pass it in directly as `df.index`.\"\u001b[0m\u001b[1;33m\u001b[0m\u001b[1;33m\u001b[0m\u001b[0m\n\u001b[1;32m-> 1207\u001b[1;33m                         \u001b[1;32mraise\u001b[0m \u001b[0mValueError\u001b[0m\u001b[1;33m(\u001b[0m\u001b[0merr_msg\u001b[0m\u001b[1;33m)\u001b[0m\u001b[1;33m\u001b[0m\u001b[1;33m\u001b[0m\u001b[0m\n\u001b[0m\u001b[0;32m   1208\u001b[0m                 \u001b[1;32melif\u001b[0m \u001b[0mlength\u001b[0m \u001b[1;32mand\u001b[0m \u001b[0mlen\u001b[0m\u001b[1;33m(\u001b[0m\u001b[0mdf_input\u001b[0m\u001b[1;33m[\u001b[0m\u001b[0margument\u001b[0m\u001b[1;33m]\u001b[0m\u001b[1;33m)\u001b[0m \u001b[1;33m!=\u001b[0m \u001b[0mlength\u001b[0m\u001b[1;33m:\u001b[0m\u001b[1;33m\u001b[0m\u001b[1;33m\u001b[0m\u001b[0m\n\u001b[0;32m   1209\u001b[0m                     raise ValueError(\n",
      "\u001b[1;31mValueError\u001b[0m: Value of 'path_1' is not the name of a column in 'data_frame'. Expected one of ['sum_net'] but received: project"
     ]
    }
   ],
   "source": [
    "# Cool color scales: matter, icefire, darkmint, picnic, temps, balance, tempo\n",
    "\n",
    "# TODO: Using Graph Objects here would allow for a more dynamic hierarchy\n",
    "\n",
    "fig = px.treemap(df_grouped,\n",
    "                 path=[px.Constant('All Code'),'project','path','filename'],\n",
    "                 color='sum_net',\n",
    "                 title='Size of Code Files by Project and Directory',\n",
    "                 #hover_name='filename',\n",
    "                 #hover_data=['fullpath'],\n",
    "                 color_continuous_scale='balance',\n",
    "                 template=template,\n",
    "                 height=800,\n",
    "                 values='sum_net')\n",
    "fig.update_layout(margin = dict(t=50, l=25, r=25, b=25))\n",
    "fig.show()"
   ]
  },
  {
   "cell_type": "code",
   "execution_count": 33,
   "metadata": {
    "collapsed": false,
    "pycharm": {
     "name": "#%%\n"
    }
   },
   "outputs": [
    {
     "data": {
      "application/vnd.plotly.v1+json": {
       "config": {
        "plotlyServerURL": "https://plot.ly"
       },
       "data": [
        {
         "branchvalues": "total",
         "customdata": [
          [
           "OpenRA.Mods.Common/./AIUtils.cs",
           83
          ],
          [
           "OpenRA.Mods.Common/Traits/AcceptsDeliveredCash.cs",
           50
          ],
          [
           "OpenRA.Mods.Common/Traits/AcceptsDeliveredExperience.cs",
           33
          ],
          [
           "OpenRA.Game/Primitives/ActionQueue.cs",
           89
          ],
          [
           "OpenRA.Test/OpenRA.Game/ActionQueueTest.cs",
           43
          ],
          [
           "OpenRA.Game/Activities/Activity.cs",
           291
          ],
          [
           "OpenRA.Game/Traits/ActivityUtils.cs",
           41
          ],
          [
           "OpenRA.Game/./Actor.cs",
           645
          ],
          [
           "OpenRA.Mods.Common/Widgets/Logic/Editor/ActorEditLogic.cs",
           554
          ],
          [
           "OpenRA.Mods.Common/./ActorExts.cs",
           83
          ],
          [
           "OpenRA.Mods.Common/Scripting/Global/ActorGlobal.cs",
           201
          ],
          [
           "OpenRA.Game/GameRules/ActorInfo.cs",
           178
          ],
          [
           "OpenRA.Game/Primitives/ActorInfoDictionary.cs",
           48
          ],
          [
           "OpenRA.Test/OpenRA.Game/ActorInfoTest.cs",
           73
          ],
          [
           "OpenRA.Mods.Common/./ActorInitializer.cs",
           157
          ],
          [
           "OpenRA.Game/Map/ActorInitializer.cs",
           274
          ],
          [
           "OpenRA.Mods.Common/Traits/Sound/ActorLostNotification.cs",
           40
          ],
          [
           "OpenRA.Mods.Common/Traits/World/ActorMap.cs",
           677
          ],
          [
           "OpenRA.Mods.Common/Graphics/ActorPreview.cs",
           130
          ],
          [
           "OpenRA.Mods.Common/Traits/Buildings/ActorPreviewPlaceBuildingPreview.cs",
           96
          ],
          [
           "OpenRA.Mods.Common/Widgets/ActorPreviewWidget.cs",
           90
          ],
          [
           "OpenRA.Game/Map/ActorReference.cs",
           206
          ],
          [
           "OpenRA.Mods.Common/Widgets/Logic/Editor/ActorSelectorLogic.cs",
           226
          ],
          [
           "OpenRA.Mods.Common/Traits/World/ActorSpawnManager.cs",
           134
          ],
          [
           "OpenRA.Mods.Common/Traits/ActorSpawner.cs",
           32
          ],
          [
           "OpenRA.Mods.Common/Widgets/Logic/Ingame/AddFactionSuffixLogic.cs",
           53
          ],
          [
           "OpenRA.Mods.Common/UpdateRules/Rules/20200503/AddPipDecorationTraits.cs",
           266
          ],
          [
           "OpenRA.Mods.Common/UpdateRules/Rules/20200202/AddResourceRenderer.cs",
           59
          ],
          [
           "OpenRA.Mods.Common/Widgets/Logic/Settings/AdvancedSettingsLogic.cs",
           87
          ],
          [
           "OpenRA.Mods.Common/Traits/Power/AffectedByPowerOutage.cs",
           83
          ],
          [
           "OpenRA.Mods.Common/Traits/AffectsShroud.cs",
           175
          ],
          [
           "OpenRA.Mods.Common/Traits/BotModules/Squads/States/AirStates.cs",
           228
          ],
          [
           "OpenRA.Mods.Common/Traits/Air/Aircraft.cs",
           1314
          ],
          [
           "OpenRA.Mods.Common/Scripting/Properties/AircraftProperties.cs",
           61
          ],
          [
           "OpenRA.Mods.Common/Traits/SupportPowers/AirstrikePower.cs",
           239
          ],
          [
           "OpenRA.Mods.Common/Scripting/Properties/AirstrikeProperties.cs",
           53
          ],
          [
           "OpenRA.Mods.Common/Traits/Player/AllyRepair.cs",
           34
          ],
          [
           "OpenRA.Mods.Common/Traits/Modifiers/AlwaysVisible.cs",
           25
          ],
          [
           "OpenRA.Mods.Common/Traits/Sound/AmbientSound.cs",
           109
          ],
          [
           "OpenRA.Mods.Common/Traits/AmmoPool.cs",
           119
          ],
          [
           "OpenRA.Mods.Common/Scripting/Properties/AmmoPoolProperties.cs",
           67
          ],
          [
           "OpenRA.Mods.Common/Scripting/Global/AngleGlobal.cs",
           34
          ],
          [
           "OpenRA.Game/Graphics/Animation.cs",
           247
          ],
          [
           "OpenRA.Game/Graphics/AnimationWithOffset.cs",
           60
          ],
          [
           "OpenRA.Mods.Common/Traits/Sound/AnnounceOnKill.cs",
           53
          ],
          [
           "OpenRA.Mods.Common/Traits/Sound/AnnounceOnSeen.cs",
           64
          ],
          [
           "OpenRA.Mods.Common/Traits/AppearsOnMapPreview.cs",
           57
          ],
          [
           "OpenRA.Mods.Common/Traits/Radar/AppearsOnRadar.cs",
           62
          ],
          [
           "OpenRA.Mods.Common/Projectiles/AreaBeam.cs",
           275
          ],
          [
           "OpenRA.Game/Support/Arguments.cs",
           40
          ],
          [
           "OpenRA.Mods.Common/Traits/Armament.cs",
           405
          ],
          [
           "OpenRA.Mods.Common/Traits/Armor.cs",
           30
          ],
          [
           "OpenRA.Mods.Common/Widgets/Logic/Ingame/ArmyTooltipLogic.cs",
           66
          ],
          [
           "OpenRA.Game/Support/AssemblyLoader.cs",
           363
          ],
          [
           "OpenRA.Mods.Common/./AssetBrowser.cs",
           21
          ],
          [
           "OpenRA.Mods.Common/Widgets/Logic/AssetBrowserLogic.cs",
           544
          ],
          [
           "OpenRA.Game/Effects/AsyncAction.cs",
           39
          ],
          [
           "OpenRA.Mods.Common/Activities/Attack.cs",
           259
          ],
          [
           "OpenRA.Mods.Common/Traits/Air/AttackAircraft.cs",
           69
          ],
          [
           "OpenRA.Mods.Common/Traits/Attack/AttackBase.cs",
           525
          ],
          [
           "OpenRA.Mods.Common/Traits/Air/AttackBomber.cs",
           97
          ],
          [
           "OpenRA.Mods.Common/Traits/Attack/AttackCharges.cs",
           77
          ],
          [
           "OpenRA.Mods.Common/Traits/Attack/AttackFollow.cs",
           380
          ],
          [
           "OpenRA.Mods.Common/Traits/Attack/AttackFrontal.cs",
           50
          ],
          [
           "OpenRA.Mods.Common/Traits/Attack/AttackGarrisoned.cs",
           215
          ],
          [
           "OpenRA.Mods.Cnc/Traits/Attack/AttackLeap.cs",
           72
          ],
          [
           "OpenRA.Mods.Common/Traits/AttackMove.cs",
           187
          ],
          [
           "OpenRA.Mods.Common/Activities/Move/AttackMoveActivity.cs",
           110
          ],
          [
           "OpenRA.Mods.Common/Traits/Attack/AttackOmni.cs",
           91
          ],
          [
           "OpenRA.Mods.Common/Traits/BotModules/Squads/AttackOrFleeFuzzy.cs",
           275
          ],
          [
           "OpenRA.Mods.Cnc/Traits/SupportPowers/AttackOrderPower.cs",
           160
          ],
          [
           "OpenRA.Mods.Cnc/Traits/Attack/AttackPopupTurreted.cs",
           135
          ],
          [
           "OpenRA.Mods.Common/Traits/Sound/AttackSounds.cs",
           81
          ],
          [
           "OpenRA.Mods.D2k/Traits/AttackSwallow.cs",
           96
          ],
          [
           "OpenRA.Mods.Cnc/Traits/Attack/AttackTDGunboatTurreted.cs",
           83
          ],
          [
           "OpenRA.Mods.Cnc/Traits/Attack/AttackTesla.cs",
           173
          ],
          [
           "OpenRA.Mods.Common/Traits/Attack/AttackTurreted.cs",
           50
          ],
          [
           "OpenRA.Mods.Common/Traits/AttackWander.cs",
           38
          ],
          [
           "OpenRA.Mods.D2k/Traits/AttractsWorms.cs",
           80
          ],
          [
           "OpenRA.Mods.Cnc/AudioLoaders/AudLoader.cs",
           73
          ],
          [
           "OpenRA.Mods.Cnc/FileFormats/AudReader.cs",
           137
          ],
          [
           "OpenRA.Mods.Common/Widgets/Logic/Settings/AudioSettingsLogic.cs",
           166
          ],
          [
           "OpenRA.Mods.Common/Traits/AutoCarryable.cs",
           121
          ],
          [
           "OpenRA.Mods.Common/Traits/AutoCarryall.cs",
           134
          ],
          [
           "OpenRA.Mods.Common/Traits/AutoTarget.cs",
           455
          ],
          [
           "OpenRA.Mods.Common/Traits/AutoTargetPriority.cs",
           40
          ],
          [
           "OpenRA.Mods.Common/Widgets/BackgroundWidget.cs",
           74
          ],
          [
           "OpenRA.Mods.Common/Widgets/BadgeWidget.cs",
           46
          ],
          [
           "OpenRA.Mods.Common/Traits/Player/BaseAttackNotifier.cs",
           90
          ],
          [
           "OpenRA.Mods.Common/Traits/BotModules/BaseBuilderBotModule.cs",
           291
          ],
          [
           "OpenRA.Mods.Common/Traits/BotModules/BotModuleLogic/BaseBuilderQueueManager.cs",
           445
          ],
          [
           "OpenRA.Mods.Common/Traits/Buildings/BaseBuilding.cs",
           19
          ],
          [
           "OpenRA.Mods.Common/Pathfinder/BasePathSearch.cs",
           182
          ],
          [
           "OpenRA.Mods.Common/Traits/Buildings/BaseProvider.cs",
           135
          ],
          [
           "OpenRA.Mods.Common/Effects/Beacon.cs",
           143
          ],
          [
           "OpenRA.Mods.Common/Scripting/Global/BeaconGlobal.cs",
           54
          ],
          [
           "OpenRA.Mods.Common/Orders/BeaconOrderGenerator.cs",
           36
          ],
          [
           "OpenRA.Mods.Common/Graphics/BeamRenderable.cs",
           74
          ],
          [
           "OpenRA.Game/Support/Benchmark.cs",
           62
          ],
          [
           "OpenRA.Mods.Cnc/FileSystem/BigFile.cs",
           123
          ],
          [
           "OpenRA.Game/Primitives/BitSet.cs",
           171
          ],
          [
           "OpenRA.Mods.Common/LoadScreens/BlankLoadScreen.cs",
           146
          ],
          [
           "OpenRA.Mods.Common/FileFormats/Blast.cs",
           298
          ],
          [
           "OpenRA.Mods.Common/Traits/BlocksProjectiles.cs",
           74
          ],
          [
           "OpenRA.Mods.Cnc/FileFormats/Blowfish.cs",
           410
          ],
          [
           "OpenRA.Mods.Cnc/FileFormats/BlowfishKeyProvider.cs",
           494
          ],
          [
           "OpenRA.Mods.Common/Traits/BodyOrientation.cs",
           119
          ],
          [
           "OpenRA.Mods.Common/Traits/Buildings/Bridge.cs",
           422
          ],
          [
           "OpenRA.Mods.Common/Traits/Buildings/BridgeHut.cs",
           242
          ],
          [
           "OpenRA.Mods.Common/Traits/World/BridgeLayer.cs",
           61
          ],
          [
           "OpenRA.Mods.Common/Traits/Buildings/BridgePlaceholder.cs",
           85
          ],
          [
           "OpenRA.Mods.Common/Traits/Buildable.cs",
           68
          ],
          [
           "OpenRA.Mods.D2k/Traits/World/BuildableTerrainLayer.cs",
           154
          ],
          [
           "OpenRA.Mods.Common/Traits/World/BuildableTerrainOverlay.cs",
           106
          ],
          [
           "OpenRA.Mods.Common/Traits/Buildings/Building.cs",
           357
          ],
          [
           "OpenRA.Mods.Common/Traits/Buildings/BuildingInfluence.cs",
           92
          ],
          [
           "OpenRA.Mods.Common/Traits/BotModules/BuildingRepairBotModule.cs",
           47
          ],
          [
           "OpenRA.Mods.Common/Traits/Buildings/BuildingUtils.cs",
           135
          ],
          [
           "OpenRA.Mods.Common/Projectiles/Bullet.cs",
           345
          ],
          [
           "OpenRA.Mods.Common/Widgets/Logic/ButtonTooltipLogic.cs",
           68
          ],
          [
           "OpenRA.Mods.Common/Widgets/ButtonWidget.cs",
           297
          ],
          [
           "OpenRA.Game/./CPos.cs",
           150
          ],
          [
           "OpenRA.Test/OpenRA.Game/CPosTest.cs",
           41
          ],
          [
           "OpenRA.Mods.Cnc/FileFormats/CRC32.cs",
           122
          ],
          [
           "OpenRA.Game/./CVec.cs",
           122
          ],
          [
           "OpenRA.Game/Primitives/Cache.cs",
           51
          ],
          [
           "OpenRA.Game/Activities/CallFunc.cs",
           33
          ],
          [
           "OpenRA.Mods.Common/Scripting/CallLuaFunc.cs",
           61
          ],
          [
           "OpenRA.Mods.Common/Scripting/Global/CameraGlobal.cs",
           29
          ],
          [
           "OpenRA.Mods.Common/HitShapes/Capsule.cs",
           121
          ],
          [
           "OpenRA.Mods.Common/Traits/Capturable.cs",
           53
          ],
          [
           "OpenRA.Mods.Common/Traits/CapturableProgressBar.cs",
           56
          ],
          [
           "OpenRA.Mods.Common/Traits/CapturableProgressBlink.cs",
           77
          ],
          [
           "OpenRA.Mods.Common/Activities/CaptureActor.cs",
           158
          ],
          [
           "OpenRA.Mods.Common/Traits/CaptureManager.cs",
           300
          ],
          [
           "OpenRA.Mods.Common/Traits/BotModules/CaptureManagerBotModule.cs",
           172
          ],
          [
           "OpenRA.Mods.Common/Traits/Sound/CaptureNotification.cs",
           53
          ],
          [
           "OpenRA.Mods.Common/Traits/CaptureProgressBar.cs",
           53
          ],
          [
           "OpenRA.Mods.Common/Scripting/Properties/CaptureProperties.cs",
           42
          ],
          [
           "OpenRA.Mods.Common/Traits/Captures.cs",
           171
          ],
          [
           "OpenRA.Mods.Common/Traits/Cargo.cs",
           489
          ],
          [
           "OpenRA.Mods.Common/Traits/Carryable.cs",
           151
          ],
          [
           "OpenRA.Mods.Common/Traits/CarryableHarvester.cs",
           55
          ],
          [
           "OpenRA.Mods.Common/Traits/Carryall.cs",
           446
          ],
          [
           "OpenRA.Mods.Common/Traits/CashTrickler.cs",
           112
          ],
          [
           "OpenRA.Mods.Common/Traits/Render/CashTricklerBar.cs",
           56
          ],
          [
           "OpenRA.Mods.Common/Traits/Multipliers/CashTricklerMultiplier.cs",
           36
          ],
          [
           "OpenRA.Mods.Common/Pathfinder/CellInfo.cs",
           76
          ],
          [
           "OpenRA.Mods.Common/Pathfinder/CellInfoLayerPool.cs",
           86
          ],
          [
           "OpenRA.Game/Map/CellLayer.cs",
           146
          ],
          [
           "OpenRA.Game/Map/CellLayerBase.cs",
           68
          ],
          [
           "OpenRA.Game/Map/CellRegion.cs",
           171
          ],
          [
           "OpenRA.Mods.Common/Warheads/ChangeOwnerWarhead.cs",
           57
          ],
          [
           "OpenRA.Mods.Common/UpdateRules/Rules/20200503/ChangeTargetLineDelayToMilliseconds.cs",
           39
          ],
          [
           "OpenRA.Mods.Common/Traits/ChangesHealth.cs",
           90
          ],
          [
           "OpenRA.Mods.Common/Traits/ChangesTerrain.cs",
           51
          ],
          [
           "OpenRA.Mods.Common/Commands/ChatCommands.cs",
           61
          ],
          [
           "OpenRA.Mods.Common/Lint/CheckActorReferences.cs",
           110
          ],
          [
           "OpenRA.Mods.Common/Lint/CheckActors.cs",
           27
          ],
          [
           "OpenRA.Mods.Common/Lint/CheckAngle.cs",
           76
          ],
          [
           "OpenRA.Mods.Common/Lint/CheckChromeHotkeys.cs",
           121
          ],
          [
           "OpenRA.Mods.Common/Lint/CheckChromeLogic.cs",
           51
          ],
          [
           "OpenRA.Mods.Common/UtilityCommands/CheckConditionalTraitInterfaceOverrides.cs",
           77
          ],
          [
           "OpenRA.Mods.Common/Lint/CheckConditions.cs",
           76
          ],
          [
           "OpenRA.Mods.Common/Lint/CheckConflictingMouseBounds.cs",
           31
          ],
          [
           "OpenRA.Mods.Common/Lint/CheckCursors.cs",
           66
          ],
          [
           "OpenRA.Mods.Common/Lint/CheckDefaultVisibility.cs",
           57
          ],
          [
           "OpenRA.Mods.Common/UtilityCommands/CheckExplicitInterfacesCommand.cs",
           123
          ],
          [
           "OpenRA.Mods.Common/Lint/CheckHitShapes.cs",
           46
          ],
          [
           "OpenRA.Mods.D2k/Lint/CheckImportActors.cs",
           29
          ],
          [
           "OpenRA.Mods.Common/Lint/CheckLocomotorReferences.cs",
           67
          ],
          [
           "OpenRA.Mods.Common/Lint/CheckMapCordon.cs",
           27
          ],
          [
           "OpenRA.Mods.Common/Lint/CheckMapMetadata.cs",
           45
          ],
          [
           "OpenRA.Mods.Common/Lint/CheckMapTiles.cs",
           24
          ],
          [
           "OpenRA.Mods.Common/UtilityCommands/CheckMissingSprites.cs",
           93
          ],
          [
           "OpenRA.Mods.Common/Lint/CheckNotifications.cs",
           66
          ],
          [
           "OpenRA.Mods.Common/Lint/CheckOwners.cs",
           50
          ],
          [
           "OpenRA.Mods.Common/Lint/CheckPalettes.cs",
           147
          ],
          [
           "OpenRA.Mods.Common/Lint/CheckPlayers.cs",
           93
          ],
          [
           "OpenRA.Mods.Common/Lint/CheckRangeLimit.cs",
           41
          ],
          [
           "OpenRA.Mods.Common/Lint/CheckRevealFootprint.cs",
           50
          ],
          [
           "OpenRA.Mods.Common/Lint/CheckSequences.cs",
           149
          ],
          [
           "OpenRA.Mods.Common/Lint/CheckSpriteBodies.cs",
           42
          ],
          [
           "OpenRA.Mods.Common/Lint/CheckSyncAnnotations.cs",
           62
          ],
          [
           "OpenRA.Mods.Common/Lint/CheckTooltips.cs",
           45
          ],
          [
           "OpenRA.Mods.Common/Lint/CheckTraitLocation.cs",
           42
          ],
          [
           "OpenRA.Mods.Common/Lint/CheckTraitPrerequisites.cs",
           47
          ],
          [
           "OpenRA.Mods.Common/Lint/CheckUnknownTraitFields.cs",
           98
          ],
          [
           "OpenRA.Mods.Common/Lint/CheckUnknownWeaponFields.cs",
           115
          ],
          [
           "OpenRA.Mods.Common/Lint/CheckVoiceReferences.cs",
           76
          ],
          [
           "OpenRA.Mods.Common/Lint/CheckWorldAndPlayerInherits.cs",
           96
          ],
          [
           "OpenRA.Mods.Common/UtilityCommands/CheckYaml.cs",
           156
          ],
          [
           "OpenRA.Mods.Common/Widgets/CheckboxWidget.cs",
           84
          ],
          [
           "OpenRA.Game/Widgets/ChromeMetrics.cs",
           48
          ],
          [
           "OpenRA.Game/Graphics/ChromeProvider.cs",
           283
          ],
          [
           "OpenRA.Mods.Cnc/Traits/PaletteEffects/ChronoshiftPaletteEffect.cs",
           69
          ],
          [
           "OpenRA.Mods.Cnc/Traits/SupportPowers/ChronoshiftPower.cs",
           395
          ],
          [
           "OpenRA.Mods.Cnc/Traits/Chronoshiftable.cs",
           200
          ],
          [
           "OpenRA.Mods.Cnc/Scripting/Properties/ChronosphereProperties.cs",
           47
          ],
          [
           "OpenRA.Mods.Common/HitShapes/Circle.cs",
           67
          ],
          [
           "OpenRA.Mods.Common/Graphics/CircleAnnotationRenderable.cs",
           73
          ],
          [
           "OpenRA.Mods.Cnc/Traits/ClassicFacingBodyOrientation.cs",
           32
          ],
          [
           "OpenRA.Mods.Common/Traits/Player/ClassicParallelProductionQueue.cs",
           226
          ],
          [
           "OpenRA.Mods.Common/Widgets/Logic/Ingame/ClassicProductionLogic.cs",
           188
          ],
          [
           "OpenRA.Mods.Common/Traits/Player/ClassicProductionQueue.cs",
           161
          ],
          [
           "OpenRA.Mods.Cnc/Graphics/ClassicSpriteSequence.cs",
           49
          ],
          [
           "OpenRA.Mods.Cnc/Graphics/ClassicTilesetSpecificSpriteSequence.cs",
           86
          ],
          [
           "OpenRA.Game/UtilityCommands/ClearInvalidModRegistrationsCommand.cs",
           38
          ],
          [
           "OpenRA.Mods.Common/Widgets/ClientTooltipRegionWidget.cs",
           76
          ],
          [
           "OpenRA.Mods.Common/Traits/World/CliffBackImpassabilityLayer.cs",
           59
          ],
          [
           "OpenRA.Mods.Common/Traits/Cloak.cs",
           266
          ],
          [
           "OpenRA.Mods.Common/Traits/PaletteEffects/CloakPaletteEffect.cs",
           53
          ],
          [
           "OpenRA.Mods.Common/Scripting/Properties/CloakProperties.cs",
           39
          ],
          [
           "OpenRA.Mods.Cnc/Traits/Cloneable.cs",
           29
          ],
          [
           "OpenRA.Mods.Cnc/Traits/Buildings/ClonesProducedUnits.cs",
           76
          ],
          [
           "OpenRA.Mods.Cnc/./CncLoadScreen.cs",
           112
          ],
          [
           "OpenRA.Game/Primitives/Color.cs",
           374
          ],
          [
           "OpenRA.Mods.Common/Widgets/ColorBlockWidget.cs",
           80
          ],
          [
           "OpenRA.Mods.Common/Scripting/Global/ColorGlobal.cs",
           91
          ],
          [
           "OpenRA.Mods.Common/Widgets/ColorMixerWidget.cs",
           171
          ],
          [
           "OpenRA.Mods.Common/Widgets/Logic/ColorPickerLogic.cs",
           214
          ],
          [
           "OpenRA.Mods.Common/Traits/World/ColorPickerManager.cs",
           178
          ],
          [
           "OpenRA.Mods.Common/Traits/Palettes/ColorPickerPalette.cs",
           78
          ],
          [
           "OpenRA.Mods.Common/Traits/CombatDebugOverlay.cs",
           138
          ],
          [
           "OpenRA.Mods.Common/Scripting/Properties/CombatProperties.cs",
           109
          ],
          [
           "OpenRA.Mods.Common/Traits/CommandBarBlacklist.cs",
           27
          ],
          [
           "OpenRA.Mods.Common/Widgets/Logic/Ingame/CommandBarLogic.cs",
           339
          ],
          [
           "OpenRA.Mods.Common/Widgets/Logic/Editor/CommonSelectorLogic.cs",
           138
          ],
          [
           "OpenRA.Game/Primitives/ConcurrentCache.cs",
           46
          ],
          [
           "OpenRA.Mods.Common/Scripting/Properties/ConditionProperties.cs",
           60
          ],
          [
           "OpenRA.Mods.Common/Traits/Conditions/ConditionalTrait.cs",
           93
          ],
          [
           "OpenRA.Mods.Common/Widgets/ConfirmationDialogs.cs",
           180
          ],
          [
           "OpenRA.Game/Network/Connection.cs",
           387
          ],
          [
           "OpenRA.Game/Server/Connection.cs",
           211
          ],
          [
           "OpenRA.Mods.Common/Widgets/Logic/ConnectionLogic.cs",
           247
          ],
          [
           "OpenRA.Game/Network/ConnectionTarget.cs",
           63
          ],
          [
           "OpenRA.Mods.Common/Traits/Player/ConquestVictoryConditions.cs",
           123
          ],
          [
           "OpenRA.Mods.Common/Traits/Render/Contrail.cs",
           92
          ],
          [
           "OpenRA.Mods.Common/Effects/ContrailFader.cs",
           44
          ],
          [
           "OpenRA.Mods.Common/Graphics/ContrailRenderable.cs",
           134
          ],
          [
           "OpenRA.Mods.Common/Widgets/Logic/Ingame/ControlGroupLogic.cs",
           36
          ],
          [
           "OpenRA.Mods.Common/UpdateRules/Rules/20201213/ConvertBoundsToWDist.cs",
           54
          ],
          [
           "OpenRA.Mods.Cnc/UtilityCommands/ConvertPngToShpCommand.cs",
           59
          ],
          [
           "OpenRA.Mods.Common/UtilityCommands/ConvertSpriteToPngCommand.cs",
           88
          ],
          [
           "OpenRA.Mods.Common/UpdateRules/Rules/20200503/ConvertSupportPowerRangesToFootprint.cs",
           97
          ],
          [
           "OpenRA.Mods.Cnc/Traits/ConyardChronoReturn.cs",
           259
          ],
          [
           "OpenRA.Mods.Common/Scripting/Global/CoordinateGlobals.cs",
           79
          ],
          [
           "OpenRA.Test/OpenRA.Game/CoordinateTest.cs",
           42
          ],
          [
           "OpenRA.Mods.Common/UpdateRules/Rules/CopyIsometricSelectableHeight.cs",
           79
          ],
          [
           "OpenRA.Mods.Common/Traits/Crates/Crate.cs",
           260
          ],
          [
           "OpenRA.Mods.Common/Traits/Crates/CrateAction.cs",
           99
          ],
          [
           "OpenRA.Mods.Common/Traits/World/CrateSpawner.cs",
           217
          ],
          [
           "OpenRA.Mods.Common/Warheads/CreateEffectWarhead.cs",
           148
          ],
          [
           "OpenRA.Mods.Common/UpdateRules/Rules/20200503/CreateFlashPaletteEffectWarhead.cs",
           55
          ],
          [
           "OpenRA.Mods.Common/UtilityCommands/CreateManPage.cs",
           74
          ],
          [
           "OpenRA.Mods.Common/Traits/World/CreateMapPlayers.cs",
           180
          ],
          [
           "OpenRA.Mods.Common/Warheads/CreateResourceWarhead.cs",
           57
          ],
          [
           "OpenRA.Mods.Common/UpdateRules/Rules/20200202/CreateScreenShakeWarhead.cs",
           68
          ],
          [
           "OpenRA.Mods.Common/Traits/CreatesShroud.cs",
           66
          ],
          [
           "OpenRA.Mods.Common/Traits/Multipliers/CreatesShroudMultiplier.cs",
           34
          ],
          [
           "OpenRA.Mods.Common/Widgets/Logic/CreditsLogic.cs",
           95
          ],
          [
           "OpenRA.Mods.Common/Traits/Crushable.cs",
           101
          ],
          [
           "OpenRA.Game/./CryptoUtil.cs",
           261
          ],
          [
           "OpenRA.Game/Graphics/CursorManager.cs",
           294
          ],
          [
           "OpenRA.Game/Graphics/CursorProvider.cs",
           66
          ],
          [
           "OpenRA.Game/Graphics/CursorSequence.cs",
           60
          ],
          [
           "OpenRA.Mods.Common/Traits/CustomSellValue.cs",
           38
          ],
          [
           "OpenRA.Mods.Common/Traits/Render/CustomTerrainDebugOverlay.cs",
           84
          ],
          [
           "OpenRA.Mods.Common/Widgets/Logic/Ingame/Hotkeys/CycleBasesHotkeyLogic.cs",
           75
          ],
          [
           "OpenRA.Mods.Common/Widgets/Logic/Ingame/Hotkeys/CycleHarvestersHotkeyLogic.cs",
           63
          ],
          [
           "OpenRA.Mods.Common/Widgets/Logic/Ingame/Hotkeys/CycleProductionActorsHotkeyLogic.cs",
           72
          ],
          [
           "OpenRA.Mods.Common/Widgets/Logic/Ingame/Hotkeys/CycleStatusBarsHotkeyLogic.cs",
           34
          ],
          [
           "OpenRA.Mods.D2k/Traits/Buildings/D2kActorPreviewPlaceBuildingPreview.cs",
           119
          ],
          [
           "OpenRA.Mods.D2k/Traits/Buildings/D2kBuilding.cs",
           162
          ],
          [
           "OpenRA.Mods.D2k/Traits/World/D2kFogPalette.cs",
           57
          ],
          [
           "OpenRA.Mods.D2k/UtilityCommands/D2kMapImporter.cs",
           501
          ],
          [
           "OpenRA.Mods.D2k/Traits/World/D2kResourceRenderer.cs",
           169
          ],
          [
           "OpenRA.Mods.D2k/PackageLoaders/D2kSoundResources.cs",
           102
          ],
          [
           "OpenRA.Mods.Common/Traits/Multipliers/DamageMultiplier.cs",
           37
          ],
          [
           "OpenRA.Mods.Common/Warheads/DamageWarhead.cs",
           88
          ],
          [
           "OpenRA.Mods.Common/Traits/DamagedByTerrain.cs",
           63
          ],
          [
           "OpenRA.Mods.D2k/Warheads/DamagesConcreteWarhead.cs",
           38
          ],
          [
           "OpenRA.Mods.Common/Scripting/Global/DateTimeGlobal.cs",
           80
          ],
          [
           "OpenRA.Mods.Common/SpriteLoaders/DdsLoader.cs",
           81
          ],
          [
           "OpenRA.Mods.Common/Traits/Sound/DeathSounds.cs",
           48
          ],
          [
           "OpenRA.Mods.Common/UtilityCommands/DebugChromeRegions.cs",
           139
          ],
          [
           "OpenRA.Mods.Common/Widgets/Logic/Ingame/DebugLogic.cs",
           43
          ],
          [
           "OpenRA.Mods.Common/Widgets/Logic/Ingame/DebugMenuLogic.cs",
           161
          ],
          [
           "OpenRA.Game/Traits/DebugPauseState.cs",
           29
          ],
          [
           "OpenRA.Mods.Common/Commands/DebugVisualizationCommands.cs",
           94
          ],
          [
           "OpenRA.Game/Traits/World/DebugVisualizations.cs",
           70
          ],
          [
           "OpenRA.Platforms.Default/./DefaultPlatform.cs",
           42
          ],
          [
           "OpenRA.Game/./DefaultPlayer.cs",
           20
          ],
          [
           "OpenRA.Mods.Common/Graphics/DefaultSpriteSequence.cs",
           454
          ],
          [
           "OpenRA.Mods.Common/Terrain/DefaultTerrain.cs",
           188
          ],
          [
           "OpenRA.Mods.Common/Terrain/DefaultTileCache.cs",
           187
          ],
          [
           "OpenRA.Game/Effects/DelayedAction.cs",
           37
          ],
          [
           "OpenRA.Game/Effects/DelayedImpact.cs",
           43
          ],
          [
           "OpenRA.Mods.Common/Activities/DeliverResources.cs",
           95
          ],
          [
           "OpenRA.Mods.Common/Activities/DeliverUnit.cs",
           112
          ],
          [
           "OpenRA.Mods.Common/Traits/DeliversCash.cs",
           128
          ],
          [
           "OpenRA.Mods.Common/Traits/DeliversExperience.cs",
           144
          ],
          [
           "OpenRA.Mods.Common/Scripting/Properties/DeliveryProperties.cs",
           73
          ],
          [
           "OpenRA.Mods.Common/Activities/Demolish.cs",
           89
          ],
          [
           "OpenRA.Mods.Common/Traits/Demolishable.cs",
           99
          ],
          [
           "OpenRA.Mods.Common/Traits/Demolition.cs",
           144
          ],
          [
           "OpenRA.Mods.Common/Scripting/Properties/DemolitionProperties.cs",
           39
          ],
          [
           "OpenRA.Mods.Common/Activities/DeployForGrantedCondition.cs",
           79
          ],
          [
           "OpenRA.Mods.Common/Orders/DeployOrderTargeter.cs",
           46
          ],
          [
           "OpenRA.Mods.Common/Widgets/Logic/DepthPreviewHotkeysLogic.cs",
           92
          ],
          [
           "OpenRA.Mods.Common/Warheads/DestroyResourceWarhead.cs",
           64
          ],
          [
           "OpenRA.Mods.Common/Traits/DetectCloaked.cs",
           54
          ],
          [
           "OpenRA.Mods.Common/Traits/Multipliers/DetectCloakedMultiplier.cs",
           34
          ],
          [
           "OpenRA.Mods.Common/Graphics/DetectionCircleAnnotationRenderable.cs",
           85
          ],
          [
           "OpenRA.Mods.Common/Commands/DevCommands.cs",
           202
          ],
          [
           "OpenRA.Mods.Common/Traits/Player/DeveloperMode.cs",
           281
          ],
          [
           "OpenRA.Mods.Common/Scripting/Properties/DiplomacyProperties.cs",
           28
          ],
          [
           "OpenRA.Mods.Common/Widgets/Logic/DirectConnectLogic.cs",
           67
          ],
          [
           "OpenRA.Mods.Common/Widgets/Logic/DisconnectWatcherLogic.cs",
           44
          ],
          [
           "OpenRA.Mods.Common/./DiscordService.cs",
           231
          ],
          [
           "OpenRA.Mods.Cnc/Traits/Disguise.cs",
           312
          ],
          [
           "OpenRA.Mods.Cnc/Scripting/Properties/DisguiseProperties.cs",
           42
          ],
          [
           "OpenRA.Mods.Common/Widgets/Logic/Settings/DisplaySettingsLogic.cs",
           464
          ],
          [
           "OpenRA.Game/Primitives/DisposableAction.cs",
           42
          ],
          [
           "OpenRA.Mods.Common/Traits/World/DomainIndex.cs",
           254
          ],
          [
           "OpenRA.Mods.Common/Activities/DonateCash.cs",
           52
          ],
          [
           "OpenRA.Mods.Common/Activities/DonateExperience.cs",
           66
          ],
          [
           "OpenRA.Mods.Common/Widgets/Logic/Installation/DownloadPackageLogic.cs",
           259
          ],
          [
           "OpenRA.Mods.Common/Activities/Move/Drag.cs",
           72
          ],
          [
           "OpenRA.Mods.Cnc/Traits/DrainPrerequisitePowerOnDamage.cs",
           62
          ],
          [
           "OpenRA.Mods.Common/Traits/Render/DrawLineToTarget.cs",
           151
          ],
          [
           "OpenRA.Mods.Common/Widgets/DropDownButtonWidget.cs",
           223
          ],
          [
           "OpenRA.Mods.Cnc/Projectiles/DropPodImpact.cs",
           78
          ],
          [
           "OpenRA.Mods.Cnc/Traits/SupportPowers/DropPodsPower.cs",
           158
          ],
          [
           "OpenRA.Mods.Common/Traits/Player/DummyBot.cs",
           56
          ],
          [
           "OpenRA.Platforms.Default/./DummySoundEngine.cs",
           76
          ],
          [
           "OpenRA.Mods.Common/UtilityCommands/DumpSequenceSheetsCommand.cs",
           63
          ],
          [
           "OpenRA.Mods.Common/Traits/Crates/DuplicateUnitCrateAction.cs",
           114
          ],
          [
           "OpenRA.Mods.Cnc/Traits/EdibleByLeap.cs",
           37
          ],
          [
           "OpenRA.Mods.Common/Traits/World/EditorActionManager.cs",
           182
          ],
          [
           "OpenRA.Mods.Common/EditorBrushes/EditorActorBrush.cs",
           113
          ],
          [
           "OpenRA.Mods.Common/Traits/World/EditorActorLayer.cs",
           334
          ],
          [
           "OpenRA.Mods.Common/Traits/World/EditorActorPreview.cs",
           298
          ],
          [
           "OpenRA.Mods.Common/EditorBrushes/EditorCopyPasteBrush.cs",
           286
          ],
          [
           "OpenRA.Mods.Common/Traits/World/EditorCursorLayer.cs",
           227
          ],
          [
           "OpenRA.Mods.Common/EditorBrushes/EditorDefaultBrush.cs",
           176
          ],
          [
           "OpenRA.Mods.Common/EditorBrushes/EditorResourceBrush.cs",
           155
          ],
          [
           "OpenRA.Mods.Common/Traits/World/EditorResourceLayer.cs",
           296
          ],
          [
           "OpenRA.Mods.Common/Traits/World/EditorSelectionLayer.cs",
           112
          ],
          [
           "OpenRA.Mods.Common/EditorBrushes/EditorTileBrush.cs",
           371
          ],
          [
           "OpenRA.Mods.Common/Widgets/EditorViewportControllerWidget.cs",
           116
          ],
          [
           "OpenRA.Mods.Common/Traits/EjectOnDeath.cs",
           99
          ],
          [
           "OpenRA.Mods.Common/Traits/World/ElevatedBridgeLayer.cs",
           99
          ],
          [
           "OpenRA.Mods.Common/Traits/World/ElevatedBridgePlaceholder.cs",
           75
          ],
          [
           "OpenRA.Mods.Common/Traits/Player/EnemyWatcher.cs",
           122
          ],
          [
           "OpenRA.Mods.Cnc/Traits/EnergyWall.cs",
           111
          ],
          [
           "OpenRA.Mods.Common/Traits/EngineerRepair.cs",
           154
          ],
          [
           "OpenRA.Mods.Common/Traits/EngineerRepairable.cs",
           32
          ],
          [
           "OpenRA.Mods.Common/Activities/Enter.cs",
           155
          ],
          [
           "OpenRA.Mods.Common/Orders/EnterAlliedActorTargeter.cs",
           49
          ],
          [
           "OpenRA.Mods.Common/Traits/EntersTunnels.cs",
           163
          ],
          [
           "OpenRA.Game/Support/Evaluator.cs",
           108
          ],
          [
           "OpenRA.Game/Support/ExceptionHandler.cs",
           102
          ],
          [
           "OpenRA.Mods.Common/Traits/Buildings/Exit.cs",
           100
          ],
          [
           "OpenRA.Mods.Common/Traits/ExitsDebugOverlay.cs",
           106
          ],
          [
           "OpenRA.Mods.Common/Traits/World/ExitsDebugOverlayManager.cs",
           66
          ],
          [
           "OpenRA.Mods.Common/Traits/ExperienceTrickler.cs",
           62
          ],
          [
           "OpenRA.Mods.Common/Traits/Crates/ExplodeCrateAction.cs",
           45
          ],
          [
           "OpenRA.Mods.Common/Traits/Explodes.cs",
           165
          ],
          [
           "OpenRA.Mods.Common/Traits/ExplosionOnDamageTransition.cs",
           80
          ],
          [
           "OpenRA.Mods.Common/Widgets/ExponentialSliderWidget.cs",
           51
          ],
          [
           "OpenRA.Mods.Common/UtilityCommands/Extensions.cs",
           29
          ],
          [
           "OpenRA.Mods.Common/Traits/Conditions/ExternalCondition.cs",
           230
          ],
          [
           "OpenRA.Game/./ExternalMods.cs",
           290
          ],
          [
           "OpenRA.Mods.Common/UtilityCommands/ExtractFilesCommand.cs",
           43
          ],
          [
           "OpenRA.Mods.Common/UtilityCommands/ExtractLuaDocsCommand.cs",
           201
          ],
          [
           "OpenRA.Mods.Common/UtilityCommands/ExtractMapRules.cs",
           65
          ],
          [
           "OpenRA.Mods.Common/UtilityCommands/ExtractSettingsDocsCommand.cs",
           96
          ],
          [
           "OpenRA.Mods.Common/UtilityCommands/ExtractTraitDocsCommand.cs",
           118
          ],
          [
           "OpenRA.Mods.Common/UtilityCommands/ExtractWeaponDocsCommand.cs",
           101
          ],
          [
           "OpenRA.Mods.Common/UtilityCommands/ExtractZeroBraneStudioLuaAPI.cs",
           153
          ],
          [
           "OpenRA.Game/./Exts.cs",
           614
          ],
          [
           "OpenRA.Game/Server/Exts.cs",
           24
          ],
          [
           "OpenRA.Mods.Common/Scripting/Global/FacingGlobal.cs",
           36
          ],
          [
           "OpenRA.Game/Traits/World/Faction.cs",
           38
          ],
          [
           "OpenRA.Mods.Common/Activities/Air/FallToEarth.cs",
           67
          ],
          [
           "OpenRA.Mods.Common/Traits/Air/FallsToEarth.cs",
           71
          ],
          [
           "OpenRA.Mods.Common/FileFormats/FastByteReader.cs",
           43
          ],
          [
           "OpenRA.Game/./FieldLoader.cs",
           815
          ],
          [
           "OpenRA.Game/./FieldSaver.cs",
           127
          ],
          [
           "OpenRA.Game/FileSystem/FileSystem.cs",
           330
          ],
          [
           "OpenRA.Mods.Common/Activities/FindAndDeliverResources.cs",
           258
          ],
          [
           "OpenRA.Mods.Common/Warheads/FireClusterWarhead.cs",
           117
          ],
          [
           "OpenRA.Mods.Common/Traits/Multipliers/FirepowerMultiplier.cs",
           31
          ],
          [
           "OpenRA.Mods.Common/Traits/Palettes/FixedColorPalette.cs",
           60
          ],
          [
           "OpenRA.Mods.Common/Traits/PaletteEffects/FlashPaletteEffect.cs",
           83
          ],
          [
           "OpenRA.Mods.Common/Warheads/FlashPaletteEffectWarhead.cs",
           35
          ],
          [
           "OpenRA.Mods.Common/Effects/FlashTarget.cs",
           85
          ],
          [
           "OpenRA.Mods.Common/Effects/FloatingText.cs",
           63
          ],
          [
           "OpenRA.Mods.Common/Activities/Air/Fly.cs",
           284
          ],
          [
           "OpenRA.Mods.Common/Activities/Air/FlyAttack.cs",
           312
          ],
          [
           "OpenRA.Mods.Common/Activities/Air/FlyFollow.cs",
           99
          ],
          [
           "OpenRA.Mods.Common/Activities/Air/FlyForward.cs",
           64
          ],
          [
           "OpenRA.Mods.Common/Activities/Air/FlyIdle.cs",
           66
          ],
          [
           "OpenRA.Mods.Common/Activities/Air/FlyOffMap.cs",
           70
          ],
          [
           "OpenRA.Game/FileSystem/Folder.cs",
           108
          ],
          [
           "OpenRA.Mods.Common/Activities/Move/Follow.cs",
           91
          ],
          [
           "OpenRA.Game/./Fonts.cs",
           37
          ],
          [
           "OpenRA.Mods.Common/Traits/Buildings/FootprintPlaceBuildingPreview.cs",
           134
          ],
          [
           "OpenRA.Mods.Common/Orders/ForceModifiersOrderGenerator.cs",
           44
          ],
          [
           "OpenRA.Platforms.Default/./FrameBuffer.cs",
           157
          ],
          [
           "OpenRA.Mods.Common/Traits/Buildings/FreeActor.cs",
           100
          ],
          [
           "OpenRA.Mods.Common/Traits/Buildings/FreeActorWithDelivery.cs",
           108
          ],
          [
           "OpenRA.Platforms.Default/./FreeTypeFont.cs",
           148
          ],
          [
           "OpenRA.Game/Traits/Player/FrozenActorLayer.cs",
           367
          ],
          [
           "OpenRA.Mods.Common/Traits/Modifiers/FrozenUnderFog.cs",
           198
          ],
          [
           "OpenRA.Mods.Cnc/Traits/FrozenUnderFogUpdatedByGps.cs",
           114
          ],
          [
           "OpenRA.Mods.Common/Traits/GainsExperience.cs",
           154
          ],
          [
           "OpenRA.Mods.Common/Traits/Multipliers/GainsExperienceMultiplier.cs",
           34
          ],
          [
           "OpenRA.Mods.Common/Scripting/Properties/GainsExperienceProperties.cs",
           53
          ],
          [
           "OpenRA.Game/./Game.cs",
           979
          ],
          [
           "OpenRA.Mods.Common/Widgets/Logic/Ingame/GameInfoBriefingLogic.cs",
           40
          ],
          [
           "OpenRA.Mods.Common/Widgets/Logic/Ingame/GameInfoLogic.cs",
           177
          ],
          [
           "OpenRA.Mods.Common/Widgets/Logic/Ingame/GameInfoObjectivesLogic.cs",
           80
          ],
          [
           "OpenRA.Mods.Common/Widgets/Logic/Ingame/GameInfoStatsLogic.cs",
           168
          ],
          [
           "OpenRA.Game/./GameInformation.cs",
           198
          ],
          [
           "OpenRA.Game/Network/GameSave.cs",
           322
          ],
          [
           "OpenRA.Mods.Common/Widgets/Logic/GameSaveBrowserLogic.cs",
           361
          ],
          [
           "OpenRA.Mods.Common/Widgets/Logic/Ingame/GameSaveLoadingLogic.cs",
           49
          ],
          [
           "OpenRA.Mods.Common/Traits/Player/GameSaveViewportManager.cs",
           66
          ],
          [
           "OpenRA.Game/Network/GameServer.cs",
           265
          ],
          [
           "OpenRA.Game/./GameSpeed.cs",
           60
          ],
          [
           "OpenRA.Mods.Common/Widgets/Logic/Ingame/GameTimerLogic.cs",
           75
          ],
          [
           "OpenRA.Mods.Common/Traits/Buildings/Gate.cs",
           146
          ],
          [
           "OpenRA.Mods.Common/Scripting/Properties/GeneralProperties.cs",
           215
          ],
          [
           "OpenRA.Game/Network/GeoIP.cs",
           152
          ],
          [
           "OpenRA.Mods.Common/UtilityCommands/GetMapHashCommand.cs",
           33
          ],
          [
           "OpenRA.Mods.Common/Traits/Crates/GiveCashCrateAction.cs",
           59
          ],
          [
           "OpenRA.Mods.Common/Traits/Crates/GiveMcvCrateAction.cs",
           46
          ],
          [
           "OpenRA.Mods.Common/Traits/Crates/GiveUnitCrateAction.cs",
           119
          ],
          [
           "OpenRA.Mods.Common/Traits/GivesBounty.cs",
           90
          ],
          [
           "OpenRA.Mods.Common/Traits/Buildings/GivesBuildableArea.cs",
           35
          ],
          [
           "OpenRA.Mods.Common/Traits/GivesCashOnCapture.cs",
           62
          ],
          [
           "OpenRA.Mods.Common/Traits/GivesExperience.cs",
           79
          ],
          [
           "OpenRA.Mods.Common/Traits/Multipliers/GivesExperienceMultiplier.cs",
           34
          ],
          [
           "OpenRA.Mods.Cnc/UtilityCommands/Glob.cs",
           127
          ],
          [
           "OpenRA.Mods.Common/Orders/GlobalButtonOrderGenerator.cs",
           106
          ],
          [
           "OpenRA.Mods.Common/Traits/PaletteEffects/GlobalLightingPaletteEffect.cs",
           111
          ],
          [
           "OpenRA.Mods.Cnc/Traits/GpsDot.cs",
           58
          ],
          [
           "OpenRA.Mods.Cnc/Effects/GpsDotEffect.cs",
           113
          ],
          [
           "OpenRA.Mods.Cnc/Traits/SupportPowers/GpsPower.cs",
           123
          ],
          [
           "OpenRA.Mods.Cnc/Effects/GpsSatellite.cs",
           60
          ],
          [
           "OpenRA.Mods.Cnc/Traits/GpsWatcher.cs",
           115
          ],
          [
           "OpenRA.Mods.Common/Widgets/GradientColorBlockWidget.cs",
           57
          ],
          [
           "OpenRA.Mods.Common/Traits/Conditions/GrantCondition.cs",
           51
          ],
          [
           "OpenRA.Mods.Common/Traits/Conditions/GrantConditionOnAttack.cs",
           167
          ],
          [
           "OpenRA.Mods.Common/Traits/Conditions/GrantConditionOnBotOwner.cs",
           59
          ],
          [
           "OpenRA.Mods.Common/Traits/Conditions/GrantConditionOnCombatantOwner.cs",
           53
          ],
          [
           "OpenRA.Mods.Common/Traits/Conditions/GrantConditionOnDamageState.cs",
           86
          ],
          [
           "OpenRA.Mods.Common/Traits/Conditions/GrantConditionOnDeploy.cs",
           341
          ],
          [
           "OpenRA.Mods.Common/Traits/Conditions/GrantConditionOnFaction.cs",
           70
          ],
          [
           "OpenRA.Mods.Common/Traits/Conditions/GrantConditionOnHealth.cs",
           99
          ],
          [
           "OpenRA.Mods.Common/Traits/Conditions/GrantConditionOnJumpjetLayer.cs",
           57
          ],
          [
           "OpenRA.Mods.Common/Traits/Conditions/GrantConditionOnLayer.cs",
           62
          ],
          [
           "OpenRA.Mods.Common/Traits/Conditions/GrantConditionOnLineBuildDirection.cs",
           47
          ],
          [
           "OpenRA.Mods.Common/Traits/Conditions/GrantConditionOnMovement.cs",
           65
          ],
          [
           "OpenRA.Mods.Common/Traits/Conditions/GrantConditionOnPlayerResources.cs",
           64
          ],
          [
           "OpenRA.Mods.Common/Traits/Conditions/GrantConditionOnPowerState.cs",
           82
          ],
          [
           "OpenRA.Mods.Common/Traits/Conditions/GrantConditionOnPrerequisite.cs",
           81
          ],
          [
           "OpenRA.Mods.Common/Traits/Player/GrantConditionOnPrerequisiteManager.cs",
           91
          ],
          [
           "OpenRA.Mods.Common/Traits/Conditions/GrantConditionOnProduction.cs",
           84
          ],
          [
           "OpenRA.Mods.Common/Traits/Conditions/GrantConditionOnSubterraneanLayer.cs",
           93
          ],
          [
           "OpenRA.Mods.Common/Traits/Conditions/GrantConditionOnTerrain.cs",
           68
          ],
          [
           "OpenRA.Mods.Common/Traits/Conditions/GrantConditionOnTileSet.cs",
           47
          ],
          [
           "OpenRA.Mods.Common/Traits/Conditions/GrantConditionOnTunnelLayer.cs",
           24
          ],
          [
           "OpenRA.Mods.Common/Traits/Conditions/GrantConditionWhileAiming.cs",
           49
          ],
          [
           "OpenRA.Mods.Common/Traits/Crates/GrantExternalConditionCrateAction.cs",
           97
          ],
          [
           "OpenRA.Mods.Common/Traits/SupportPowers/GrantExternalConditionPower.cs",
           178
          ],
          [
           "OpenRA.Mods.Common/Traits/Conditions/GrantExternalConditionToCrusher.cs",
           59
          ],
          [
           "OpenRA.Mods.Common/Traits/Conditions/GrantExternalConditionToProduced.cs",
           44
          ],
          [
           "OpenRA.Mods.Common/Warheads/GrantExternalConditionWarhead.cs",
           51
          ],
          [
           "OpenRA.Mods.Cnc/Traits/SupportPowers/GrantPrerequisiteChargeDrainPower.cs",
           203
          ],
          [
           "OpenRA.Mods.Common/Traits/Conditions/GrantRandomCondition.cs",
           46
          ],
          [
           "OpenRA.Mods.Common/Projectiles/GravityBomb.cs",
           139
          ],
          [
           "OpenRA.Mods.Common/Widgets/GridLayout.cs",
           48
          ],
          [
           "OpenRA.Mods.Common/Traits/Buildings/GroundLevelBridge.cs",
           127
          ],
          [
           "OpenRA.Mods.Common/Traits/BotModules/Squads/States/GroundStates.cs",
           224
          ],
          [
           "OpenRA.Mods.Common/Traits/Guard.cs",
           66
          ],
          [
           "OpenRA.Mods.Common/Orders/GuardOrderGenerator.cs",
           93
          ],
          [
           "OpenRA.Mods.Common/Scripting/Properties/GuardProperties.cs",
           36
          ],
          [
           "OpenRA.Mods.Common/Traits/Guardable.cs",
           24
          ],
          [
           "OpenRA.Mods.Common/Traits/Multipliers/HandicapDamageMultiplier.cs",
           40
          ],
          [
           "OpenRA.Mods.Common/Traits/Multipliers/HandicapFirepowerMultiplier.cs",
           40
          ],
          [
           "OpenRA.Mods.Common/Traits/Multipliers/HandicapProductionTimeMultiplier.cs",
           30
          ],
          [
           "OpenRA.Game/Network/Handshake.cs",
           87
          ],
          [
           "OpenRA.Game/Graphics/HardwarePalette.cs",
           155
          ],
          [
           "OpenRA.Mods.Common/Activities/HarvestResource.cs",
           117
          ],
          [
           "OpenRA.Mods.Common/Traits/Harvester.cs",
           422
          ],
          [
           "OpenRA.Mods.Common/Traits/Player/HarvesterAttackNotifier.cs",
           70
          ],
          [
           "OpenRA.Mods.Common/Traits/BotModules/HarvesterBotModule.cs",
           165
          ],
          [
           "OpenRA.Mods.Common/Activities/HarvesterDockSequence.cs",
           115
          ],
          [
           "OpenRA.Mods.Cnc/Traits/HarvesterHuskModifier.cs",
           39
          ],
          [
           "OpenRA.Mods.D2k/Traits/Player/HarvesterInsurance.cs",
           49
          ],
          [
           "OpenRA.Mods.Common/Scripting/Properties/HarvesterProperties.cs",
           33
          ],
          [
           "OpenRA.Mods.Common/Traits/Crates/HealActorsCrateAction.cs",
           46
          ],
          [
           "OpenRA.Mods.Common/Traits/Health.cs",
           262
          ],
          [
           "OpenRA.Mods.Common/Warheads/HealthPercentageDamageWarhead.cs",
           27
          ],
          [
           "OpenRA.Mods.Common/Scripting/Properties/HealthProperties.cs",
           53
          ],
          [
           "OpenRA.Mods.Common/Commands/HelpCommand.cs",
           61
          ],
          [
           "OpenRA.Mods.Common/Traits/Modifiers/HiddenUnderFog.cs",
           41
          ],
          [
           "OpenRA.Mods.Common/Traits/Modifiers/HiddenUnderShroud.cs",
           72
          ],
          [
           "OpenRA.Mods.Common/Traits/Crates/HideMapCrateAction.cs",
           60
          ],
          [
           "OpenRA.Mods.Common/Widgets/Logic/Editor/HistoryLogLogic.cs",
           70
          ],
          [
           "OpenRA.Mods.Common/Traits/HitShape.cs",
           154
          ],
          [
           "OpenRA.Game/Input/Hotkey.cs",
           108
          ],
          [
           "OpenRA.Game/./HotkeyDefinition.cs",
           41
          ],
          [
           "OpenRA.Mods.Common/Widgets/HotkeyEntryWidget.cs",
           168
          ],
          [
           "OpenRA.Game/./HotkeyManager.cs",
           103
          ],
          [
           "OpenRA.Game/Input/HotkeyReference.cs",
           46
          ],
          [
           "OpenRA.Mods.Common/Widgets/Logic/Settings/HotkeysSettingsLogic.cs",
           244
          ],
          [
           "OpenRA.Mods.Common/Traits/Render/Hovers.cs",
           121
          ],
          [
           "OpenRA.Game/Support/HttpClientFactory.cs",
           48
          ],
          [
           "OpenRA.Game/./HttpExtension.cs",
           63
          ],
          [
           "OpenRA.Game/Support/HttpQueryBuilder.cs",
           61
          ],
          [
           "OpenRA.Mods.Common/Activities/Hunt.cs",
           48
          ],
          [
           "OpenRA.Mods.Common/Traits/Huntable.cs",
           19
          ],
          [
           "OpenRA.Mods.Common/Traits/Husk.cs",
           186
          ],
          [
           "OpenRA.Mods.Cnc/FileFormats/HvaReader.cs",
           63
          ],
          [
           "OpenRA.Game/Effects/IEffect.cs",
           28
          ],
          [
           "OpenRA.Mods.Common/HitShapes/IHitShape.cs",
           28
          ],
          [
           "OpenRA.Game/Input/IInputHandler.cs",
           74
          ],
          [
           "OpenRA.Game/Primitives/IObservableCollection.cs",
           26
          ],
          [
           "OpenRA.Game/Orders/IOrderGenerator.cs",
           29
          ],
          [
           "OpenRA.Game/FileSystem/IPackage.cs",
           42
          ],
          [
           "OpenRA.Platforms.Default/./ITextureInternal.cs",
           19
          ],
          [
           "OpenRA.Game/./IUtilityCommand.cs",
           40
          ],
          [
           "OpenRA.Mods.Cnc/FileFormats/IdxEntry.cs",
           45
          ],
          [
           "OpenRA.Mods.Cnc/FileFormats/IdxReader.cs",
           44
          ],
          [
           "OpenRA.Mods.Common/Traits/IgnoresCloak.cs",
           19
          ],
          [
           "OpenRA.Mods.Common/Traits/IgnoresDisguise.cs",
           20
          ],
          [
           "OpenRA.Mods.Common/FileFormats/ImaAdpcmReader.cs",
           108
          ],
          [
           "OpenRA.Mods.Common/Widgets/ImageWidget.cs",
           94
          ],
          [
           "OpenRA.Mods.Common/Traits/Immobile.cs",
           66
          ],
          [
           "OpenRA.Mods.D2k/UtilityCommands/ImportD2kMapCommand.cs",
           44
          ],
          [
           "OpenRA.Mods.Common/UtilityCommands/ImportLegacyMapCommand.cs",
           460
          ],
          [
           "OpenRA.Mods.Cnc/UtilityCommands/ImportRedAlertLegacyMapCommand.cs",
           253
          ],
          [
           "OpenRA.Mods.Cnc/UtilityCommands/ImportTSMapCommand.cs",
           687
          ],
          [
           "OpenRA.Mods.Cnc/UtilityCommands/ImportTiberianDawnLegacyMapCommand.cs",
           186
          ],
          [
           "OpenRA.Mods.Common/Traits/Multipliers/InaccuracyMultiplier.cs",
           31
          ],
          [
           "OpenRA.Mods.Common/Traits/Palettes/IndexedPalette.cs",
           92
          ],
          [
           "OpenRA.Mods.Common/Traits/Palettes/IndexedPlayerPalette.cs",
           72
          ],
          [
           "OpenRA.Mods.Cnc/Activities/Infiltrate.cs",
           80
          ],
          [
           "OpenRA.Mods.Cnc/Traits/Infiltration/InfiltrateForCash.cs",
           81
          ],
          [
           "OpenRA.Mods.Cnc/Traits/Infiltration/InfiltrateForDecoration.cs",
           54
          ],
          [
           "OpenRA.Mods.Cnc/Traits/Infiltration/InfiltrateForExploration.cs",
           63
          ],
          [
           "OpenRA.Mods.Cnc/Traits/Infiltration/InfiltrateForPowerOutage.cs",
           67
          ],
          [
           "OpenRA.Mods.Cnc/Traits/Infiltration/InfiltrateForSupportPower.cs",
           64
          ],
          [
           "OpenRA.Mods.Cnc/Traits/Infiltration/InfiltrateForSupportPowerReset.cs",
           61
          ],
          [
           "OpenRA.Mods.Cnc/Traits/Infiltration/InfiltrateForTransform.cs",
           67
          ],
          [
           "OpenRA.Mods.Cnc/Scripting/Properties/InfiltrateProperties.cs",
           44
          ],
          [
           "OpenRA.Mods.Cnc/Traits/Infiltration/Infiltrates.cs",
           155
          ],
          [
           "OpenRA.Mods.Common/Widgets/Logic/Ingame/IngameCashCounterLogic.cs",
           79
          ],
          [
           "OpenRA.Mods.Common/Widgets/Logic/Ingame/IngameChatLogic.cs",
           329
          ],
          [
           "OpenRA.Mods.Common/Widgets/Logic/Ingame/IngameMenuLogic.cs",
           405
          ],
          [
           "OpenRA.Mods.Common/Widgets/Logic/Ingame/IngamePowerBarLogic.cs",
           39
          ],
          [
           "OpenRA.Mods.Common/Widgets/Logic/Ingame/IngamePowerCounterLogic.cs",
           34
          ],
          [
           "OpenRA.Mods.Common/Widgets/Logic/Ingame/IngameRadarDisplayLogic.cs",
           52
          ],
          [
           "OpenRA.Mods.Common/Widgets/Logic/Ingame/IngameSiloBarLogic.cs",
           41
          ],
          [
           "OpenRA.Mods.Common/Widgets/Logic/Ingame/IngameTransientNotificationsLogic.cs",
           98
          ],
          [
           "OpenRA.Mods.Common/FileFormats/IniFile.cs",
           146
          ],
          [
           "OpenRA.Game/Input/InputHandler.cs",
           60
          ],
          [
           "OpenRA.Mods.Common/Widgets/Logic/Settings/InputSettingsLogic.cs",
           194
          ],
          [
           "OpenRA.Mods.Common/Widgets/Logic/Installation/InstallFromDiscLogic.cs",
           656
          ],
          [
           "OpenRA.Mods.Common/FileFormats/InstallShieldCABCompression.cs",
           437
          ],
          [
           "OpenRA.Mods.Common/FileSystem/InstallShieldPackage.cs",
           160
          ],
          [
           "OpenRA.Game/./InstalledMods.cs",
           110
          ],
          [
           "OpenRA.Mods.Common/Projectiles/InstantHit.cs",
           93
          ],
          [
           "OpenRA.Game/Primitives/Int32Matrix4x4.cs",
           72
          ],
          [
           "OpenRA.Mods.Common/Traits/Interactable.cs",
           81
          ],
          [
           "OpenRA.Mods.Common/Widgets/Logic/IntroductionPromptLogic.cs",
           144
          ],
          [
           "OpenRA.Mods.Cnc/Projectiles/IonCannon.cs",
           74
          ],
          [
           "OpenRA.Mods.Cnc/Traits/SupportPowers/IonCannonPower.cs",
           105
          ],
          [
           "OpenRA.Mods.Cnc/Scripting/Properties/IonCannonProperties.cs",
           36
          ],
          [
           "OpenRA.Mods.Common/Traits/IsometricSelectable.cs",
           142
          ],
          [
           "OpenRA.Mods.Common/Graphics/IsometricSelectionBarsAnnotationRenderable.cs",
           164
          ],
          [
           "OpenRA.Mods.Common/Graphics/IsometricSelectionBoxAnnotationRenderable.cs",
           81
          ],
          [
           "OpenRA.Mods.Common/Traits/Render/IsometricSelectionDecorations.cs",
           92
          ],
          [
           "OpenRA.Mods.Common/Traits/JamsMissiles.cs",
           40
          ],
          [
           "OpenRA.Mods.Common/Widgets/Logic/Ingame/Hotkeys/JumpToLastEventHotkeyLogic.cs",
           44
          ],
          [
           "OpenRA.Mods.Common/Widgets/Logic/Ingame/Hotkeys/JumpToSelectedActorsHotkeyLogic.cs",
           41
          ],
          [
           "OpenRA.Mods.Common/Traits/World/JumpjetActorLayer.cs",
           108
          ],
          [
           "OpenRA.Mods.Common/Traits/World/JumpjetLocomotor.cs",
           40
          ],
          [
           "OpenRA.Game/Input/Keycode.cs",
           507
          ],
          [
           "OpenRA.Mods.Common/Widgets/Logic/Lobby/KickClientLogic.cs",
           42
          ],
          [
           "OpenRA.Mods.Common/Widgets/Logic/Lobby/KickSpectatorsLogic.cs",
           37
          ],
          [
           "OpenRA.Mods.Common/Traits/KillsSelf.cs",
           84
          ],
          [
           "OpenRA.Mods.Cnc/FileFormats/LCWCompression.cs",
           167
          ],
          [
           "OpenRA.Mods.Cnc/FileFormats/LZOCompression.cs",
           289
          ],
          [
           "OpenRA.Mods.Common/Widgets/LabelWidget.cs",
           116
          ],
          [
           "OpenRA.Mods.Common/Widgets/LabelWithHighlightWidget.cs",
           86
          ],
          [
           "OpenRA.Mods.Common/Widgets/LabelWithTooltipWidget.cs",
           64
          ],
          [
           "OpenRA.Mods.Common/Activities/Air/Land.cs",
           267
          ],
          [
           "OpenRA.Mods.Common/Projectiles/LaserZap.cs",
           214
          ],
          [
           "OpenRA.Mods.Common/Widgets/Logic/Lobby/LatencyTooltipLogic.cs",
           41
          ],
          [
           "OpenRA.Game/Support/LaunchArguments.cs",
           68
          ],
          [
           "OpenRA.Mods.Cnc/Activities/LayMines.cs",
           160
          ],
          [
           "OpenRA.Mods.Common/Widgets/Logic/Editor/LayerSelectorLogic.cs",
           72
          ],
          [
           "OpenRA.Mods.Cnc/Activities/Leap.cs",
           126
          ],
          [
           "OpenRA.Mods.Cnc/Activities/LeapAttack.cs",
           169
          ],
          [
           "OpenRA.Mods.Common/Warheads/LeaveSmudgeWarhead.cs",
           73
          ],
          [
           "OpenRA.Mods.Common/Traits/Render/LeavesTrails.cs",
           148
          ],
          [
           "OpenRA.Mods.Common/Traits/Buildings/LegacyBridgeHut.cs",
           74
          ],
          [
           "OpenRA.Mods.Common/Traits/World/LegacyBridgeLayer.cs",
           123
          ],
          [
           "OpenRA.Mods.Cnc/UtilityCommands/LegacyRulesImporter.cs",
           209
          ],
          [
           "OpenRA.Mods.Cnc/UtilityCommands/LegacySequenceImporter.cs",
           275
          ],
          [
           "OpenRA.Mods.Cnc/UtilityCommands/LegacyTilesetImporter.cs",
           190
          ],
          [
           "OpenRA.Mods.Common/Traits/Crates/LevelUpCrateAction.cs",
           82
          ],
          [
           "OpenRA.Mods.Cnc/Traits/PaletteEffects/LightPaletteRotator.cs",
           64
          ],
          [
           "OpenRA.Mods.Common/Scripting/Global/LightingGlobal.cs",
           65
          ],
          [
           "OpenRA.Mods.Common/Graphics/LineAnnotationRenderable.cs",
           62
          ],
          [
           "OpenRA.Mods.Common/Traits/Buildings/LineBuild.cs",
           124
          ],
          [
           "OpenRA.Mods.Common/Traits/Buildings/LineBuildNode.cs",
           28
          ],
          [
           "OpenRA.Mods.Common/Traits/Conditions/LineBuildSegmentExternalCondition.cs",
           88
          ],
          [
           "OpenRA.Mods.Common/Widgets/LineGraphWidget.cs",
           234
          ],
          [
           "OpenRA.Game/Traits/LintAttributes.cs",
           119
          ],
          [
           "OpenRA.Mods.Common/Traits/LintAttributes.cs",
           37
          ],
          [
           "OpenRA.Mods.Common/Lint/LintBuildablePrerequisites.cs",
           47
          ],
          [
           "OpenRA.Mods.Common/Lint/LintExts.cs",
           114
          ],
          [
           "OpenRA.Mods.Common/UtilityCommands/LintInterfaces.cs",
           19
          ],
          [
           "OpenRA.Mods.Common/UtilityCommands/ListInstallShieldCabContentsCommand.cs",
           43
          ],
          [
           "OpenRA.Mods.Common/UtilityCommands/ListInstallShieldContentsCommand.cs",
           39
          ],
          [
           "OpenRA.Mods.Common/Widgets/ListLayout.cs",
           47
          ],
          [
           "OpenRA.Mods.Common/UtilityCommands/ListMSCabContentsCommand.cs",
           35
          ],
          [
           "OpenRA.Mods.Cnc/UtilityCommands/ListMixContentsCommand.cs",
           47
          ],
          [
           "OpenRA.Mods.Common/Widgets/Logic/Ingame/LoadIngameChatLogic.cs",
           25
          ],
          [
           "OpenRA.Mods.Common/Widgets/Logic/Ingame/LoadIngamePerfLogic.cs",
           25
          ],
          [
           "OpenRA.Mods.Common/Widgets/Logic/Ingame/LoadIngamePlayerOrObserverUILogic.cs",
           82
          ],
          [
           "OpenRA.Mods.Common/Widgets/Logic/Ingame/LoadMapEditorLogic.cs",
           25
          ],
          [
           "OpenRA.Mods.Common/Traits/World/LoadWidgetAtGameStart.cs",
           92
          ],
          [
           "OpenRA.Mods.Common/ServerTraits/LobbyCommands.cs",
           1149
          ],
          [
           "OpenRA.Mods.Common/Widgets/Logic/Lobby/LobbyLogic.cs",
           841
          ],
          [
           "OpenRA.Mods.Common/Widgets/Logic/Lobby/LobbyOptionsLogic.cs",
           175
          ],
          [
           "OpenRA.Mods.Common/Traits/Player/LobbyPrerequisiteCheckbox.cs",
           78
          ],
          [
           "OpenRA.Mods.Common/ServerTraits/LobbySettingsNotification.cs",
           42
          ],
          [
           "OpenRA.Mods.Common/Widgets/Logic/Lobby/LobbyUtils.cs",
           671
          ],
          [
           "OpenRA.Mods.Common/Activities/Move/LocalMoveIntoTarget.cs",
           89
          ],
          [
           "OpenRA.Game/./LocalPlayerProfile.cs",
           185
          ],
          [
           "OpenRA.Mods.Common/Traits/World/Locomotor.cs",
           516
          ],
          [
           "OpenRA.Game/Support/Log.cs",
           186
          ],
          [
           "OpenRA.Game/./LogProxy.cs",
           26
          ],
          [
           "OpenRA.Mods.Common/Widgets/LogicKeyListenerWidget.cs",
           36
          ],
          [
           "OpenRA.Mods.Common/Widgets/LogicTickerWidget.cs",
           22
          ],
          [
           "OpenRA.Mods.Common/LoadScreens/LogoStripeLoadScreen.cs",
           70
          ],
          [
           "OpenRA.Game/Primitives/LongBitSet.cs",
           194
          ],
          [
           "OpenRA.Mods.Common/Scripting/LuaScript.cs",
           64
          ],
          [
           "OpenRA.Game/./MPos.cs",
           95
          ],
          [
           "OpenRA.Mods.Common/FileFormats/MSCabCompression.cs",
           132
          ],
          [
           "OpenRA.Mods.Cnc/Traits/MadTank.cs",
           256
          ],
          [
           "OpenRA.Mods.Common/Widgets/Logic/MainMenuLogic.cs",
           538
          ],
          [
           "OpenRA.Game/./Manifest.cs",
           286
          ],
          [
           "OpenRA.Game/Map/Map.cs",
           1378
          ],
          [
           "OpenRA.Mods.Common/Traits/World/MapBuildRadius.cs",
           88
          ],
          [
           "OpenRA.Game/Map/MapCache.cs",
           381
          ],
          [
           "OpenRA.Mods.Common/Widgets/Logic/MapChooserLogic.cs",
           354
          ],
          [
           "OpenRA.Game/Map/MapCoordsRegion.cs",
           93
          ],
          [
           "OpenRA.Mods.Common/Traits/World/MapCreeps.cs",
           63
          ],
          [
           "OpenRA.Mods.Common/Traits/MapEditorData.cs",
           25
          ],
          [
           "OpenRA.Mods.Common/Widgets/Logic/Editor/MapEditorLogic.cs",
           126
          ],
          [
           "OpenRA.Mods.Common/Widgets/Logic/Editor/MapEditorTabsLogic.cs",
           47
          ],
          [
           "OpenRA.Mods.Common/Scripting/Global/MapGlobal.cs",
           151
          ],
          [
           "OpenRA.Game/Map/MapGrid.cs",
           245
          ],
          [
           "OpenRA.Mods.Common/Effects/MapNotificationEffect.cs",
           64
          ],
          [
           "OpenRA.Mods.Common/Traits/World/MapOptions.cs",
           127
          ],
          [
           "OpenRA.Game/Map/MapPlayers.cs",
           81
          ],
          [
           "OpenRA.Game/Map/MapPreview.cs",
           608
          ],
          [
           "OpenRA.Mods.Common/Widgets/Logic/Lobby/MapPreviewLogic.cs",
           243
          ],
          [
           "OpenRA.Mods.Common/Widgets/MapPreviewWidget.cs",
           229
          ],
          [
           "OpenRA.Mods.Common/Traits/World/MapStartingLocations.cs",
           189
          ],
          [
           "OpenRA.Mods.Common/Traits/World/MapStartingUnits.cs",
           56
          ],
          [
           "OpenRA.Game/Server/MapStatusCache.cs",
           106
          ],
          [
           "OpenRA.Mods.Common/ServerTraits/MasterServerPinger.cs",
           180
          ],
          [
           "OpenRA.Mods.Common/Traits/BotModules/McvManagerBotModule.cs",
           228
          ],
          [
           "OpenRA.Mods.Common/Scripting/Media.cs",
           86
          ],
          [
           "OpenRA.Mods.Common/Scripting/Global/MediaGlobal.cs",
           233
          ],
          [
           "OpenRA.Mods.Cnc/FileSystem/MegFile.cs",
           138
          ],
          [
           "OpenRA.Mods.Common/Widgets/MenuButtonWidget.cs",
           33
          ],
          [
           "OpenRA.Mods.Common/Widgets/Logic/Ingame/MenuButtonsChromeLogic.cs",
           125
          ],
          [
           "OpenRA.Mods.Common/Traits/PaletteEffects/MenuPaletteEffect.cs",
           131
          ],
          [
           "OpenRA.Game/Primitives/MergedStream.cs",
           125
          ],
          [
           "OpenRA.Game/Support/MersenneTwister.cs",
           87
          ],
          [
           "OpenRA.Mods.Cnc/Traits/Mine.cs",
           75
          ],
          [
           "OpenRA.Mods.Cnc/Traits/Minelayer.cs",
           382
          ],
          [
           "OpenRA.Game/./MiniYaml.cs",
           488
          ],
          [
           "OpenRA.Test/OpenRA.Game/MiniYamlTest.cs",
           295
          ],
          [
           "OpenRA.Mods.Common/Projectiles/Missile.cs",
           940
          ],
          [
           "OpenRA.Mods.Common/Widgets/Logic/MissionBrowserLogic.cs",
           400
          ],
          [
           "OpenRA.Mods.Common/Traits/World/MissionData.cs",
           40
          ],
          [
           "OpenRA.Mods.Common/Scripting/Properties/MissionObjectiveProperties.cs",
           128
          ],
          [
           "OpenRA.Mods.Common/Traits/Player/MissionObjectives.cs",
           284
          ],
          [
           "OpenRA.Mods.Cnc/FileSystem/MixFile.cs",
           245
          ],
          [
           "OpenRA.Mods.Common/Traits/Mobile.cs",
           1027
          ],
          [
           "OpenRA.Mods.Common/Scripting/Properties/MobileProperties.cs",
           72
          ],
          [
           "OpenRA.Mods.Common/./ModContent.cs",
           127
          ],
          [
           "OpenRA.Mods.Common/Widgets/Logic/Installation/ModContentDiscTooltipLogic.cs",
           51
          ],
          [
           "OpenRA.Mods.Common/LoadScreens/ModContentLoadScreen.cs",
           95
          ],
          [
           "OpenRA.Mods.Common/Widgets/Logic/Installation/ModContentLogic.cs",
           149
          ],
          [
           "OpenRA.Mods.Common/Widgets/Logic/Installation/ModContentPromptLogic.cs",
           106
          ],
          [
           "OpenRA.Mods.Common/./ModCredits.cs",
           22
          ],
          [
           "OpenRA.Game/./ModData.cs",
           204
          ],
          [
           "OpenRA.Game/Graphics/Model.cs",
           94
          ],
          [
           "OpenRA.Mods.Common/Graphics/ModelActorPreview.cs",
           74
          ],
          [
           "OpenRA.Game/Graphics/ModelAnimation.cs",
           51
          ],
          [
           "OpenRA.Mods.Common/Graphics/ModelRenderable.cs",
           297
          ],
          [
           "OpenRA.Game/Graphics/ModelRenderer.cs",
           377
          ],
          [
           "OpenRA.Mods.Common/Widgets/ModelWidget.cs",
           216
          ],
          [
           "OpenRA.Mods.Common/UpdateRules/Rules/20200503/ModernizeDecorationTraits.cs",
           117
          ],
          [
           "OpenRA.Mods.Common/Traits/Player/ModularBot.cs",
           120
          ],
          [
           "OpenRA.Mods.Common/Widgets/MouseAttachmentWidget.cs",
           62
          ],
          [
           "OpenRA.Mods.Common/Activities/Move/Move.cs",
           563
          ],
          [
           "OpenRA.Mods.Common/Activities/Move/MoveAdjacentTo.cs",
           154
          ],
          [
           "OpenRA.Mods.Common/UpdateRules/Rules/20200503/MoveClassicFacingFudge.cs",
           75
          ],
          [
           "OpenRA.Mods.Common/Activities/Move/MoveWithinRange.cs",
           62
          ],
          [
           "OpenRA.Mods.Common/AudioLoaders/Mp3Loader.cs",
           88
          ],
          [
           "OpenRA.Platforms.Default/./MultiTapDetection.cs",
           84
          ],
          [
           "OpenRA.Mods.Common/Widgets/Logic/MultiplayerLogic.cs",
           133
          ],
          [
           "OpenRA.Mods.Common/Widgets/Logic/MusicHotkeyLogic.cs",
           84
          ],
          [
           "OpenRA.Game/GameRules/MusicInfo.cs",
           65
          ],
          [
           "OpenRA.Mods.Common/Widgets/Logic/MusicPlayerLogic.cs",
           163
          ],
          [
           "OpenRA.Mods.Common/Traits/World/MusicPlaylist.cs",
           256
          ],
          [
           "OpenRA.Mods.Common/Traits/MustBeDestroyed.cs",
           34
          ],
          [
           "OpenRA.Mods.Common/Widgets/Logic/MuteHotkeyLogic.cs",
           43
          ],
          [
           "OpenRA.Mods.Common/Widgets/Logic/MuteIndicatorLogic.cs",
           25
          ],
          [
           "OpenRA.Game/Network/Nat.cs",
           101
          ],
          [
           "OpenRA.Mods.Common/Traits/BotModules/Squads/States/NavyStates.cs",
           249
          ],
          [
           "OpenRA.Mods.Common/Widgets/Logic/Editor/NewMapLogic.cs",
           90
          ],
          [
           "OpenRA.Mods.Common/Projectiles/NukeLaunch.cs",
           164
          ],
          [
           "OpenRA.Mods.Common/Traits/SupportPowers/NukePower.cs",
           246
          ],
          [
           "OpenRA.Mods.Common/Scripting/Properties/NukeProperties.cs",
           36
          ],
          [
           "OpenRA.Game/./ObjectCreator.cs",
           208
          ],
          [
           "OpenRA.Game/Primitives/ObservableCollection.cs",
           62
          ],
          [
           "OpenRA.Game/Primitives/ObservableDictionary.cs",
           133
          ],
          [
           "OpenRA.Game/Primitives/ObservableList.cs",
           110
          ],
          [
           "OpenRA.Mods.Common/Widgets/ObserverArmyIconsWidget.cs",
           210
          ],
          [
           "OpenRA.Mods.Common/Widgets/ObserverProductionIconsWidget.cs",
           275
          ],
          [
           "OpenRA.Mods.Common/Widgets/Logic/Ingame/ObserverShroudSelectorLogic.cs",
           225
          ],
          [
           "OpenRA.Mods.Common/Widgets/Logic/Ingame/ObserverStatsLogic.cs",
           557
          ],
          [
           "OpenRA.Mods.Common/Widgets/ObserverSupportPowerIconsWidget.cs",
           196
          ],
          [
           "OpenRA.Mods.Common/AudioLoaders/OggLoader.cs",
           133
          ],
          [
           "OpenRA.Platforms.Default/./OpenAlSoundEngine.cs",
           657
          ],
          [
           "OpenRA.Platforms.Default/./OpenGL.cs",
           800
          ],
          [
           "OpenRA.Game/Network/Order.cs",
           430
          ],
          [
           "OpenRA.Mods.Common/Widgets/Logic/Ingame/OrderButtonsChromeLogic.cs",
           69
          ],
          [
           "OpenRA.Mods.Common/Traits/World/OrderEffects.cs",
           107
          ],
          [
           "OpenRA.Mods.Common/Orders/OrderGenerator.cs",
           45
          ],
          [
           "OpenRA.Game/Network/OrderIO.cs",
           216
          ],
          [
           "OpenRA.Game/Network/OrderManager.cs",
           323
          ],
          [
           "OpenRA.Test/OpenRA.Game/OrderTest.cs",
           74
          ],
          [
           "OpenRA.Mods.Common/UtilityCommands/OutputResolvedRulesCommand.cs",
           46
          ],
          [
           "OpenRA.Mods.Common/UtilityCommands/OutputResolvedSequencesCommand.cs",
           46
          ],
          [
           "OpenRA.Mods.Common/UtilityCommands/OutputResolvedWeaponsCommand.cs",
           46
          ],
          [
           "OpenRA.Mods.Common/Traits/OwnerLostAction.cs",
           55
          ],
          [
           "OpenRA.Mods.Cnc/FileSystem/PackageEntry.cs",
           118
          ],
          [
           "OpenRA.Mods.Cnc/FileSystem/Pak.cs",
           104
          ],
          [
           "OpenRA.Game/Graphics/Palette.cs",
           159
          ],
          [
           "OpenRA.Mods.Common/Traits/Palettes/PaletteFromEmbeddedSpritePalette.cs",
           67
          ],
          [
           "OpenRA.Mods.Common/Traits/Palettes/PaletteFromFile.cs",
           83
          ],
          [
           "OpenRA.Mods.Common/Traits/Palettes/PaletteFromGimpOrJascFile.cs",
           140
          ],
          [
           "OpenRA.Mods.Common/Traits/Palettes/PaletteFromPaletteWithAlpha.cs",
           81
          ],
          [
           "OpenRA.Mods.Common/Traits/Palettes/PaletteFromPlayerPaletteWithAlpha.cs",
           57
          ],
          [
           "OpenRA.Mods.Common/Traits/Palettes/PaletteFromPng.cs",
           93
          ],
          [
           "OpenRA.Mods.Common/Traits/Palettes/PaletteFromRGBA.cs",
           75
          ],
          [
           "OpenRA.Mods.D2k/Traits/World/PaletteFromScaledPalette.cs",
           79
          ],
          [
           "OpenRA.Game/Graphics/PaletteReference.cs",
           34
          ],
          [
           "OpenRA.Mods.Common/Traits/ParaDrop.cs",
           121
          ],
          [
           "OpenRA.Mods.Common/Traits/Parachutable.cs",
           117
          ],
          [
           "OpenRA.Mods.Common/Activities/Parachute.cs",
           60
          ],
          [
           "OpenRA.Mods.Common/Scripting/Properties/ParadropProperties.cs",
           40
          ],
          [
           "OpenRA.Mods.Common/Traits/Player/ParallelProductionQueue.cs",
           68
          ],
          [
           "OpenRA.Mods.Common/Traits/SupportPowers/ParatroopersPower.cs",
           285
          ],
          [
           "OpenRA.Mods.Common/Scripting/Properties/ParatroopersProperties.cs",
           45
          ],
          [
           "OpenRA.Mods.Common/Traits/Passenger.cs",
           231
          ],
          [
           "OpenRA.Mods.Common/Widgets/PasswordFieldWidget.cs",
           25
          ],
          [
           "OpenRA.Mods.Common/Traits/World/PathFinder.cs",
           240
          ],
          [
           "OpenRA.Mods.Common/Pathfinder/PathGraph.cs",
           271
          ],
          [
           "OpenRA.Mods.Common/Pathfinder/PathSearch.cs",
           135
          ],
          [
           "OpenRA.Mods.Common/Traits/Conditions/PausableConditionalTrait.cs",
           85
          ],
          [
           "OpenRA.Mods.Common/Widgets/Logic/Ingame/Hotkeys/PauseHotkeyLogic.cs",
           41
          ],
          [
           "OpenRA.Mods.Common/Widgets/Logic/PerfDebugLogic.cs",
           54
          ],
          [
           "OpenRA.Mods.Common/Widgets/PerfGraphWidget.cs",
           66
          ],
          [
           "OpenRA.Game/Support/PerfHistory.cs",
           49
          ],
          [
           "OpenRA.Game/Support/PerfItem.cs",
           76
          ],
          [
           "OpenRA.Game/Support/PerfSample.cs",
           33
          ],
          [
           "OpenRA.Game/Support/PerfTickLogger.cs",
           48
          ],
          [
           "OpenRA.Game/Support/PerfTimer.cs",
           117
          ],
          [
           "OpenRA.Mods.Common/Activities/PickupUnit.cs",
           149
          ],
          [
           "OpenRA.Mods.Common/Traits/Player/PlaceBeacon.cs",
           94
          ],
          [
           "OpenRA.Mods.Common/Traits/Player/PlaceBuilding.cs",
           231
          ],
          [
           "OpenRA.Mods.Common/Orders/PlaceBuildingOrderGenerator.cs",
           348
          ],
          [
           "OpenRA.Mods.Common/Traits/Buildings/PlaceBuildingVariants.cs",
           28
          ],
          [
           "OpenRA.Game/./Platform.cs",
           253
          ],
          [
           "OpenRA.Game/Graphics/PlatformInterfaces.cs",
           176
          ],
          [
           "OpenRA.Test/OpenRA.Game/PlatformTest.cs",
           43
          ],
          [
           "OpenRA.Game/./Player.cs",
           322
          ],
          [
           "OpenRA.Mods.Common/Traits/Palettes/PlayerColorPalette.cs",
           58
          ],
          [
           "OpenRA.Game/Graphics/PlayerColorRemap.cs",
           51
          ],
          [
           "OpenRA.Mods.Common/Commands/PlayerCommands.cs",
           54
          ],
          [
           "OpenRA.Mods.Common/Scripting/Properties/PlayerConditionProperties.cs",
           59
          ],
          [
           "OpenRA.Game/./PlayerDatabase.cs",
           118
          ],
          [
           "OpenRA.Game/Primitives/PlayerDictionary.cs",
           67
          ],
          [
           "OpenRA.Mods.Common/Traits/Player/PlayerExperience.cs",
           35
          ],
          [
           "OpenRA.Mods.Common/Scripting/Properties/PlayerExperienceProperties.cs",
           36
          ],
          [
           "OpenRA.Mods.Common/./PlayerExtensions.cs",
           26
          ],
          [
           "OpenRA.Mods.Common/Scripting/Global/PlayerGlobal.cs",
           36
          ],
          [
           "OpenRA.Mods.Common/ServerTraits/PlayerPinger.cs",
           89
          ],
          [
           "OpenRA.Game/./PlayerProfile.cs",
           73
          ],
          [
           "OpenRA.Mods.Common/Widgets/Logic/PlayerProfileLogic.cs",
           350
          ],
          [
           "OpenRA.Mods.Common/Scripting/Properties/PlayerProperties.cs",
           127
          ],
          [
           "OpenRA.Mods.Common/Traits/Player/PlayerRadarTerrain.cs",
           97
          ],
          [
           "OpenRA.Game/Map/PlayerReference.cs",
           65
          ],
          [
           "OpenRA.Mods.Common/Traits/Player/PlayerResources.cs",
           217
          ],
          [
           "OpenRA.Mods.Common/Traits/Player/PlayerStatistics.cs",
           303
          ],
          [
           "OpenRA.Mods.Common/Scripting/Properties/PlayerStatsProperties.cs",
           47
          ],
          [
           "OpenRA.Mods.Common/Traits/Plug.cs",
           24
          ],
          [
           "OpenRA.Mods.Common/Traits/Pluggable.cs",
           158
          ],
          [
           "OpenRA.Game/FileFormats/Png.cs",
           379
          ],
          [
           "OpenRA.Mods.Common/UtilityCommands/PngSheetExportMetadataCommand.cs",
           39
          ],
          [
           "OpenRA.Mods.Common/UtilityCommands/PngSheetImportMetadataCommand.cs",
           57
          ],
          [
           "OpenRA.Mods.Common/SpriteLoaders/PngSheetLoader.cs",
           164
          ],
          [
           "OpenRA.Mods.Common/HitShapes/Polygon.cs",
           129
          ],
          [
           "OpenRA.Game/Primitives/Polygon.cs",
           115
          ],
          [
           "OpenRA.Mods.Common/Graphics/PolygonAnnotationRenderable.cs",
           58
          ],
          [
           "OpenRA.Mods.Cnc/Traits/PortableChrono.cs",
           266
          ],
          [
           "OpenRA.Mods.Common/Traits/Power/Power.cs",
           57
          ],
          [
           "OpenRA.Mods.Common/Traits/Power/Player/PowerManager.cs",
           215
          ],
          [
           "OpenRA.Mods.Common/Traits/Multipliers/PowerMultiplier.cs",
           46
          ],
          [
           "OpenRA.Mods.Common/Scripting/Properties/PowerProperties.cs",
           65
          ],
          [
           "OpenRA.Mods.Common/Traits/PowerTooltip.cs",
           48
          ],
          [
           "OpenRA.Mods.Cnc/Widgets/Logic/PreReleaseWarningPrompt.cs",
           37
          ],
          [
           "OpenRA.Mods.Common/Traits/Buildings/PrimaryBuilding.cs",
           129
          ],
          [
           "OpenRA.Game/Primitives/PriorityQueue.cs",
           119
          ],
          [
           "OpenRA.Test/OpenRA.Game/PriorityQueueTest.cs",
           48
          ],
          [
           "OpenRA.Mods.Common/Traits/SupportPowers/ProduceActorPower.cs",
           99
          ],
          [
           "OpenRA.Mods.Common/Traits/ProducibleWithLevel.cs",
           54
          ],
          [
           "OpenRA.Mods.Common/Traits/Production.cs",
           146
          ],
          [
           "OpenRA.Mods.Common/Traits/Buildings/ProductionAirdrop.cs",
           124
          ],
          [
           "OpenRA.Mods.Common/Traits/Render/ProductionBar.cs",
           104
          ],
          [
           "OpenRA.Mods.Common/Traits/Multipliers/ProductionCostMultiplier.cs",
           41
          ],
          [
           "OpenRA.Mods.Common/Traits/ProductionFromMapEdge.cs",
           119
          ],
          [
           "OpenRA.Mods.Common/Widgets/ProductionPaletteWidget.cs",
           570
          ],
          [
           "OpenRA.Mods.Common/Traits/ProductionParadrop.cs",
           163
          ],
          [
           "OpenRA.Mods.Common/Scripting/Properties/ProductionProperties.cs",
           312
          ],
          [
           "OpenRA.Mods.Common/Traits/Player/ProductionQueue.cs",
           680
          ],
          [
           "OpenRA.Mods.Common/Traits/ProductionQueueFromSelection.cs",
           75
          ],
          [
           "OpenRA.Mods.Common/Widgets/Logic/Ingame/ProductionTabsLogic.cs",
           98
          ],
          [
           "OpenRA.Mods.Common/Widgets/ProductionTabsWidget.cs",
           333
          ],
          [
           "OpenRA.Mods.Common/Traits/Multipliers/ProductionTimeMultiplier.cs",
           41
          ],
          [
           "OpenRA.Mods.Common/Widgets/Logic/Ingame/ProductionTooltipLogic.cs",
           176
          ],
          [
           "OpenRA.Mods.Common/Widgets/ProductionTypeButtonWidget.cs",
           28
          ],
          [
           "OpenRA.Launcher/./Program.cs",
           46
          ],
          [
           "OpenRA.Server/./Program.cs",
           110
          ],
          [
           "OpenRA.Utility/./Program.cs",
           173
          ],
          [
           "OpenRA.WindowsLauncher/./Program.cs",
           201
          ],
          [
           "OpenRA.Game/Support/Program.cs",
           20
          ],
          [
           "OpenRA.Mods.Common/Widgets/ProgressBarWidget.cs",
           85
          ],
          [
           "OpenRA.Game/Map/ProjectedCellLayer.cs",
           57
          ],
          [
           "OpenRA.Game/Map/ProjectedCellRegion.cs",
           127
          ],
          [
           "OpenRA.Mods.Common/Traits/BotModules/Squads/States/ProtectionStates.cs",
           79
          ],
          [
           "OpenRA.Game/Server/ProtocolVersion.cs",
           82
          ],
          [
           "OpenRA.Mods.Common/Traits/Player/ProvidesPrerequisite.cs",
           115
          ],
          [
           "OpenRA.Mods.Common/Traits/Radar/ProvidesRadar.cs",
           25
          ],
          [
           "OpenRA.Mods.Common/Traits/Player/ProvidesTechPrerequisite.cs",
           53
          ],
          [
           "OpenRA.Mods.Common/Traits/ProximityCaptor.cs",
           25
          ],
          [
           "OpenRA.Mods.Common/Traits/ProximityCapturable.cs",
           195
          ],
          [
           "OpenRA.Mods.Common/Traits/Conditions/ProximityExternalCondition.cs",
           163
          ],
          [
           "OpenRA.Mods.Common/Traits/QuantizeFacingsFromSequence.cs",
           43
          ],
          [
           "OpenRA.Mods.D2k/SpriteLoaders/R8Loader.cs",
           130
          ],
          [
           "OpenRA.Mods.Common/Widgets/RGBASpriteWidget.cs",
           39
          ],
          [
           "OpenRA.Mods.Common/FileFormats/RLEZerosCompression.cs",
           35
          ],
          [
           "OpenRA.Mods.Common/Traits/Radar/RadarColorFromTerrain.cs",
           43
          ],
          [
           "OpenRA.Mods.Common/Scripting/Global/RadarGlobal.cs",
           35
          ],
          [
           "OpenRA.Mods.Common/Traits/World/RadarPings.cs",
           115
          ],
          [
           "OpenRA.Mods.Common/Widgets/RadarWidget.cs",
           493
          ],
          [
           "OpenRA.Mods.Common/Projectiles/Railgun.cs",
           254
          ],
          [
           "OpenRA.Mods.Common/Graphics/RailgunRenderable.cs",
           84
          ],
          [
           "OpenRA.Mods.Common/Traits/Buildings/RallyPoint.cs",
           177
          ],
          [
           "OpenRA.Mods.Common/Effects/RallyPointIndicator.cs",
           130
          ],
          [
           "OpenRA.Mods.Common/Graphics/RangeCircleAnnotationRenderable.cs",
           77
          ],
          [
           "OpenRA.Mods.Common/Traits/Multipliers/RangeMultiplier.cs",
           33
          ],
          [
           "OpenRA.Game/Primitives/ReadOnlyAdapterStream.cs",
           107
          ],
          [
           "OpenRA.Mods.Common/Traits/Rearmable.cs",
           60
          ],
          [
           "OpenRA.Mods.Common/HitShapes/Rectangle.cs",
           147
          ],
          [
           "OpenRA.Game/Primitives/Rectangle.cs",
           132
          ],
          [
           "OpenRA.Mods.Common/Traits/Buildings/Refinery.cs",
           207
          ],
          [
           "OpenRA.Mods.Common/UpdateRules/Rules/20200202/ReformatChromeProvider.cs",
           208
          ],
          [
           "OpenRA.Mods.Common/UtilityCommands/RefreshMapCommand.cs",
           35
          ],
          [
           "OpenRA.Game/UtilityCommands/RegisterModCommand.cs",
           38
          ],
          [
           "OpenRA.Mods.Common/Scripting/Global/ReinforcementsGlobal.cs",
           195
          ],
          [
           "OpenRA.Mods.Common/Traits/RejectsOrders.cs",
           53
          ],
          [
           "OpenRA.Mods.Common/Traits/Multipliers/ReloadAmmoDelayMultiplier.cs",
           31
          ],
          [
           "OpenRA.Mods.Common/Traits/ReloadAmmoPool.cs",
           97
          ],
          [
           "OpenRA.Mods.Common/Traits/Render/ReloadArmamentsBar.cs",
           59
          ],
          [
           "OpenRA.Mods.Common/Traits/Multipliers/ReloadDelayMultiplier.cs",
           31
          ],
          [
           "OpenRA.Mods.Cnc/UtilityCommands/RemapShpCommand.cs",
           88
          ],
          [
           "OpenRA.Mods.Common/UpdateRules/Rules/20200202/RemoveAirdropActorTypeDefault.cs",
           51
          ],
          [
           "OpenRA.Mods.Common/UpdateRules/Rules/20200503/RemoveConditionManager.cs",
           28
          ],
          [
           "OpenRA.Mods.Common/Widgets/Logic/Ingame/Hotkeys/RemoveFromControlGroupHotkeyLogic.cs",
           46
          ],
          [
           "OpenRA.Mods.Common/UpdateRules/Rules/20200202/RemoveInitialFacingHardcoding.cs",
           60
          ],
          [
           "OpenRA.Mods.Common/UpdateRules/Rules/20200503/RemoveLaysTerrain.cs",
           30
          ],
          [
           "OpenRA.Mods.Common/UpdateRules/Rules/20200503/RemoveMuzzleSplitFacings.cs",
           48
          ],
          [
           "OpenRA.Mods.Common/UpdateRules/Rules/20201213/RemovePlaceBuildingPalette.cs",
           72
          ],
          [
           "OpenRA.Mods.Common/UpdateRules/Rules/20201213/RemovePlayerHighlightPalette.cs",
           28
          ],
          [
           "OpenRA.Mods.Common/UpdateRules/Rules/20201213/RemoveRenderSpritesScale.cs",
           30
          ],
          [
           "OpenRA.Mods.Common/UpdateRules/Rules/20201213/RemoveResourceType.cs",
           125
          ],
          [
           "OpenRA.Mods.Common/Activities/RemoveSelf.cs",
           26
          ],
          [
           "OpenRA.Mods.Common/UpdateRules/Rules/20201213/RemoveSmokeTrailWhenDamaged.cs",
           105
          ],
          [
           "OpenRA.Mods.Common/UpdateRules/Rules/RemoveTurnToDock.cs",
           57
          ],
          [
           "OpenRA.Mods.Common/UpdateRules/Rules/20200202/RemoveWithPermanentInjury.cs",
           48
          ],
          [
           "OpenRA.Mods.Common/UpdateRules/Rules/20200202/RemoveYesNo.cs",
           56
          ],
          [
           "OpenRA.Mods.Common/UpdateRules/Rules/20200503/RenameCircleOutline.cs",
           33
          ],
          [
           "OpenRA.Mods.Common/UpdateRules/Rules/20200503/RenameHealCrateAction.cs",
           30
          ],
          [
           "OpenRA.Mods.Common/UpdateRules/Rules/20200503/RenameInfiltrationNotifications.cs",
           30
          ],
          [
           "OpenRA.Mods.Common/UpdateRules/Rules/20201213/RenameMPTraits.cs",
           33
          ],
          [
           "OpenRA.Mods.Common/UpdateRules/Rules/20200202/RenameProneTime.cs",
           30
          ],
          [
           "OpenRA.Mods.Common/UpdateRules/Rules/20200202/RenameRallyPointPath.cs",
           30
          ],
          [
           "OpenRA.Mods.Common/UpdateRules/Rules/20200503/RenameSelfHealing.cs",
           37
          ],
          [
           "OpenRA.Mods.Common/UpdateRules/Rules/RenameSmudgeSmokeFields.cs",
           50
          ],
          [
           "OpenRA.Mods.Common/UpdateRules/Rules/20200202/RenameSpins.cs",
           55
          ],
          [
           "OpenRA.Mods.Common/UpdateRules/Rules/20200503/RenameStances.cs",
           100
          ],
          [
           "OpenRA.Mods.Common/UpdateRules/Rules/20201213/RenameSupportPowerDescription.cs",
           32
          ],
          [
           "OpenRA.Mods.Common/UpdateRules/Rules/20200503/RenameWithNukeLaunch.cs",
           30
          ],
          [
           "OpenRA.Mods.Common/Traits/Render/RenderDebugState.cs",
           103
          ],
          [
           "OpenRA.Mods.Common/Traits/Render/RenderDetectionCircle.cs",
           86
          ],
          [
           "OpenRA.Mods.Common/Traits/Render/RenderJammerCircle.cs",
           89
          ],
          [
           "OpenRA.Mods.Common/Traits/Render/RenderRangeCircle.cs",
           128
          ],
          [
           "OpenRA.Mods.Common/Traits/Render/RenderShroudCircle.cs",
           101
          ],
          [
           "OpenRA.Mods.Common/Traits/Render/RenderSprites.cs",
           284
          ],
          [
           "OpenRA.Mods.Common/Traits/Render/RenderSpritesEditorOnly.cs",
           30
          ],
          [
           "OpenRA.Mods.Common/Traits/Render/RenderUtils.cs",
           22
          ],
          [
           "OpenRA.Mods.Common/Traits/Render/RenderVoxels.cs",
           181
          ],
          [
           "OpenRA.Game/Graphics/Renderable.cs",
           60
          ],
          [
           "OpenRA.Game/./Renderer.cs",
           536
          ],
          [
           "OpenRA.Mods.Common/Activities/RepairBridge.cs",
           86
          ],
          [
           "OpenRA.Mods.Common/Activities/RepairBuilding.cs",
           79
          ],
          [
           "OpenRA.Mods.Common/Orders/RepairOrderGenerator.cs",
           94
          ],
          [
           "OpenRA.Mods.Common/Traits/Repairable.cs",
           166
          ],
          [
           "OpenRA.Mods.Common/Traits/Buildings/RepairableBuilding.cs",
           190
          ],
          [
           "OpenRA.Mods.Common/Scripting/Properties/RepairableBuildingProperties.cs",
           47
          ],
          [
           "OpenRA.Mods.Common/Traits/RepairableNear.cs",
           142
          ],
          [
           "OpenRA.Mods.Common/Traits/RepairsBridges.cs",
           168
          ],
          [
           "OpenRA.Mods.Common/Traits/RepairsUnits.cs",
           49
          ],
          [
           "OpenRA.Mods.Common/UpdateRules/Rules/20191117/ReplaceAttackTypeStrafe.cs",
           44
          ],
          [
           "OpenRA.Mods.Common/UpdateRules/Rules/20200503/ReplaceBurns.cs",
           58
          ],
          [
           "OpenRA.Mods.Common/UpdateRules/Rules/20201213/ReplaceCrateSecondsWithTicks.cs",
           45
          ],
          [
           "OpenRA.Mods.Common/UpdateRules/Rules/20200503/ReplaceFacingAngles.cs",
           116
          ],
          [
           "OpenRA.Mods.Common/UpdateRules/Rules/20201213/ReplaceResourceValueModifiers.cs",
           34
          ],
          [
           "OpenRA.Mods.Common/UpdateRules/Rules/20201213/ReplaceShadowPalette.cs",
           59
          ],
          [
           "OpenRA.Mods.Common/UpdateRules/Rules/20201213/ReplaceWithColoredOverlayPalette.cs",
           43
          ],
          [
           "OpenRA.Mods.Common/Traits/Replaceable.cs",
           30
          ],
          [
           "OpenRA.Mods.Common/Traits/Replacement.cs",
           25
          ],
          [
           "OpenRA.Mods.Common/Widgets/Logic/ReplayBrowserLogic.cs",
           787
          ],
          [
           "OpenRA.Game/Network/ReplayConnection.cs",
           170
          ],
          [
           "OpenRA.Mods.Common/Widgets/Logic/Ingame/ReplayControlBarLogic.cs",
           99
          ],
          [
           "OpenRA.Game/FileFormats/ReplayMetadata.cs",
           110
          ],
          [
           "OpenRA.Mods.Common/UtilityCommands/ReplayMetadataCommand.cs",
           50
          ],
          [
           "OpenRA.Game/Network/ReplayRecorder.cs",
           119
          ],
          [
           "OpenRA.Mods.Common/Widgets/Logic/ReplayUtils.cs",
           62
          ],
          [
           "OpenRA.Mods.Common/Traits/Buildings/RequiresBuildableArea.cs",
           29
          ],
          [
           "OpenRA.Mods.Common/Traits/RequiresSpecificOwners.cs",
           26
          ],
          [
           "OpenRA.Mods.Common/Traits/Buildings/Reservable.cs",
           106
          ],
          [
           "OpenRA.Mods.Common/Widgets/Logic/Ingame/Hotkeys/ResetZoomHotkey.cs",
           38
          ],
          [
           "OpenRA.Mods.Common/UtilityCommands/ResizeMapCommand.cs",
           77
          ],
          [
           "OpenRA.Mods.Common/Widgets/ResourceBarWidget.cs",
           107
          ],
          [
           "OpenRA.Mods.Common/Traits/World/ResourceClaimLayer.cs",
           70
          ],
          [
           "OpenRA.Mods.Common/Traits/World/ResourceLayer.cs",
           304
          ],
          [
           "OpenRA.Mods.Common/Widgets/ResourcePreviewWidget.cs",
           78
          ],
          [
           "OpenRA.Mods.Common/Scripting/Properties/ResourceProperties.cs",
           47
          ],
          [
           "OpenRA.Mods.Cnc/Traits/ResourcePurifier.cs",
           91
          ],
          [
           "OpenRA.Mods.Common/Traits/World/ResourceRenderer.cs",
           369
          ],
          [
           "OpenRA.Mods.Common/Traits/Player/ResourceStorageWarning.cs",
           59
          ],
          [
           "OpenRA.Mods.Common/Traits/Multipliers/ResourceValueMultiplier.cs",
           31
          ],
          [
           "OpenRA.Mods.Common/Activities/Resupply.cs",
           321
          ],
          [
           "OpenRA.Mods.Common/Activities/Air/ReturnToBase.cs",
           140
          ],
          [
           "OpenRA.Mods.Common/Traits/Crates/RevealMapCrateAction.cs",
           47
          ],
          [
           "OpenRA.Mods.Common/Traits/RevealOnDeath.cs",
           74
          ],
          [
           "OpenRA.Mods.Common/Traits/RevealOnFire.cs",
           79
          ],
          [
           "OpenRA.Mods.Common/Effects/RevealShroudEffect.cs",
           85
          ],
          [
           "OpenRA.Mods.Common/Traits/RevealsMap.cs",
           75
          ],
          [
           "OpenRA.Mods.Common/Traits/RevealsShroud.cs",
           72
          ],
          [
           "OpenRA.Mods.Common/Traits/Multipliers/RevealsShroudMultiplier.cs",
           34
          ],
          [
           "OpenRA.Mods.Common/UtilityCommands/Rgba2Hex.cs",
           208
          ],
          [
           "OpenRA.Game/Graphics/RgbaColorRenderer.cs",
           279
          ],
          [
           "OpenRA.Game/Graphics/RgbaSpriteRenderer.cs",
           57
          ],
          [
           "OpenRA.Mods.Common/Activities/RideTransport.cs",
           84
          ],
          [
           "OpenRA.Mods.Common/Traits/PaletteEffects/RotationPaletteEffect.cs",
           119
          ],
          [
           "OpenRA.Game/GameRules/Ruleset.cs",
           289
          ],
          [
           "OpenRA.Mods.D2k/Traits/Sandworm.cs",
           148
          ],
          [
           "OpenRA.Mods.Cnc/Effects/SatelliteLaunch.cs",
           58
          ],
          [
           "OpenRA.Mods.Common/Widgets/Logic/Editor/SaveMapLogic.cs",
           216
          ],
          [
           "OpenRA.Mods.Common/Traits/Power/ScalePowerWithHealth.cs",
           46
          ],
          [
           "OpenRA.Mods.Common/Scripting/Properties/ScaredCatProperties.cs",
           36
          ],
          [
           "OpenRA.Mods.Common/Traits/Infantry/ScaredyCat.cs",
           116
          ],
          [
           "OpenRA.Game/Traits/World/ScreenMap.cs",
           310
          ],
          [
           "OpenRA.Game/Traits/World/ScreenShaker.cs",
           93
          ],
          [
           "OpenRA.Mods.Common/Widgets/Logic/ScreenshotHotkeyLogic.cs",
           31
          ],
          [
           "OpenRA.Game/Scripting/ScriptActorInterface.cs",
           63
          ],
          [
           "OpenRA.Game/Scripting/ScriptContext.cs",
           298
          ],
          [
           "OpenRA.Mods.Common/Traits/World/ScriptLobbyDropdown.cs",
           74
          ],
          [
           "OpenRA.Game/Scripting/ScriptMemberExts.cs",
           73
          ],
          [
           "OpenRA.Game/Scripting/ScriptMemberWrapper.cs",
           145
          ],
          [
           "OpenRA.Game/Scripting/ScriptObjectWrapper.cs",
           70
          ],
          [
           "OpenRA.Game/Scripting/ScriptPlayerInterface.cs",
           39
          ],
          [
           "OpenRA.Mods.Common/Traits/ScriptTags.cs",
           57
          ],
          [
           "OpenRA.Mods.Common/Scripting/ScriptTriggers.cs",
           538
          ],
          [
           "OpenRA.Game/Scripting/ScriptTypes.cs",
           192
          ],
          [
           "OpenRA.Mods.Common/Widgets/ScrollItemWidget.cs",
           93
          ],
          [
           "OpenRA.Mods.Common/Widgets/ScrollPanelWidget.cs",
           528
          ],
          [
           "OpenRA.Platforms.Default/./Sdl2GraphicsContext.cs",
           279
          ],
          [
           "OpenRA.Platforms.Default/./Sdl2HardwareCursor.cs",
           62
          ],
          [
           "OpenRA.Platforms.Default/./Sdl2Input.cs",
           230
          ],
          [
           "OpenRA.Platforms.Default/./Sdl2PlatformWindow.cs",
           557
          ],
          [
           "OpenRA.Mods.Common/Traits/SeedsResource.cs",
           64
          ],
          [
           "OpenRA.Game/Primitives/SegmentStream.cs",
           167
          ],
          [
           "OpenRA.Mods.Common/Widgets/Logic/Ingame/Hotkeys/SelectAllUnitsHotkeyLogic.cs",
           66
          ],
          [
           "OpenRA.Mods.Common/Traits/SupportPowers/SelectDirectionalTarget.cs",
           192
          ],
          [
           "OpenRA.Mods.Common/Widgets/Logic/Ingame/Hotkeys/SelectUnitsByTypeHotkeyLogic.cs",
           88
          ],
          [
           "OpenRA.Mods.Common/Traits/Selectable.cs",
           55
          ],
          [
           "OpenRA.Game/./SelectableExts.cs",
           104
          ],
          [
           "OpenRA.Mods.Common/Traits/World/Selection.cs",
           273
          ],
          [
           "OpenRA.Mods.Common/Graphics/SelectionBarsAnnotationRenderable.cs",
           161
          ],
          [
           "OpenRA.Mods.Common/Graphics/SelectionBoxAnnotationRenderable.cs",
           62
          ],
          [
           "OpenRA.Mods.Common/Traits/Render/SelectionDecorations.cs",
           93
          ],
          [
           "OpenRA.Mods.Common/Traits/Render/SelectionDecorationsBase.cs",
           124
          ],
          [
           "OpenRA.Mods.Common/Widgets/SelectionUtils.cs",
           83
          ],
          [
           "OpenRA.Mods.Common/Activities/Sell.cs",
           57
          ],
          [
           "OpenRA.Mods.Common/Traits/Sellable.cs",
           117
          ],
          [
           "OpenRA.Mods.Common/Scripting/Properties/SellableProperties.cs",
           31
          ],
          [
           "OpenRA.Mods.Common/Traits/Buildings/SequencePlaceBuildingPreview.cs",
           94
          ],
          [
           "OpenRA.Game/Graphics/SequenceProvider.cs",
           150
          ],
          [
           "OpenRA.Game/Server/Server.cs",
           1411
          ],
          [
           "OpenRA.Mods.Common/Widgets/Logic/ServerCreationLogic.cs",
           227
          ],
          [
           "OpenRA.Mods.Common/Widgets/Logic/ServerListLogic.cs",
           771
          ],
          [
           "OpenRA.Game/Network/Session.cs",
           281
          ],
          [
           "OpenRA.Game/./Settings.cs",
           449
          ],
          [
           "OpenRA.Mods.Common/Widgets/Logic/Settings/SettingsLogic.cs",
           161
          ],
          [
           "OpenRA.Mods.Common/Widgets/Logic/Settings/SettingsUtils.cs",
           52
          ],
          [
           "OpenRA.Platforms.Default/./Shader.cs",
           280
          ],
          [
           "OpenRA.Mods.Common/Traits/ShakeOnDeath.cs",
           44
          ],
          [
           "OpenRA.Mods.Common/Warheads/ShakeScreenWarhead.cs",
           34
          ],
          [
           "OpenRA.Test/OpenRA.Mods.Common/ShapeTest.cs",
           247
          ],
          [
           "OpenRA.Game/Graphics/Sheet.cs",
           148
          ],
          [
           "OpenRA.Game/Graphics/SheetBuilder.cs",
           161
          ],
          [
           "OpenRA.Mods.Common/LoadScreens/SheetLoadScreen.cs",
           102
          ],
          [
           "OpenRA.Mods.Cnc/SpriteLoaders/ShpD2Loader.cs",
           171
          ],
          [
           "OpenRA.Mods.Cnc/SpriteLoaders/ShpRemasteredLoader.cs",
           118
          ],
          [
           "OpenRA.Mods.Cnc/SpriteLoaders/ShpTDLoader.cs",
           243
          ],
          [
           "OpenRA.Mods.Common/SpriteLoaders/ShpTSLoader.cs",
           162
          ],
          [
           "OpenRA.Game/Traits/Player/Shroud.cs",
           427
          ],
          [
           "OpenRA.Mods.Common/./ShroudExts.cs",
           48
          ],
          [
           "OpenRA.Mods.Cnc/Traits/World/ShroudPalette.cs",
           70
          ],
          [
           "OpenRA.Mods.Common/Traits/World/ShroudRenderer.cs",
           343
          ],
          [
           "OpenRA.Mods.Common/Activities/SimpleTeleport.cs",
           30
          ],
          [
           "OpenRA.Mods.Common/Widgets/Logic/SimpleTooltipLogic.cs",
           61
          ],
          [
           "OpenRA.Mods.Common/Widgets/Logic/SingleHotkeyBaseLogic.cs",
           38
          ],
          [
           "OpenRA.Game/Primitives/Size.cs",
           72
          ],
          [
           "OpenRA.Mods.Common/Widgets/SliderWidget.cs",
           146
          ],
          [
           "OpenRA.Mods.Common/Traits/World/SmudgeLayer.cs",
           232
          ],
          [
           "OpenRA.Game/Sound/Sound.cs",
           449
          ],
          [
           "OpenRA.Game/Sound/SoundDevice.cs",
           55
          ],
          [
           "OpenRA.Game/GameRules/SoundInfo.cs",
           94
          ],
          [
           "OpenRA.Mods.Common/Traits/Sound/SoundOnDamageTransition.cs",
           60
          ],
          [
           "OpenRA.Game/Primitives/SpatiallyPartitioned.cs",
           142
          ],
          [
           "OpenRA.Test/OpenRA.Game/SpatiallyPartitionedTest.cs",
           92
          ],
          [
           "OpenRA.Mods.Common/Effects/SpawnActorEffect.cs",
           61
          ],
          [
           "OpenRA.Mods.Common/Traits/SpawnActorOnDeath.cs",
           146
          ],
          [
           "OpenRA.Mods.Common/Traits/SupportPowers/SpawnActorPower.cs",
           166
          ],
          [
           "OpenRA.Mods.Common/UpdateRules/Rules/20200503/SpawnActorPowerDefaultEffect.cs",
           34
          ],
          [
           "OpenRA.Mods.Common/Traits/SpawnActorsOnSell.cs",
           103
          ],
          [
           "OpenRA.Mods.Common/Traits/World/SpawnMapActors.cs",
           71
          ],
          [
           "OpenRA.Mods.Common/Widgets/Logic/Lobby/SpawnSelectorTooltipLogic.cs",
           82
          ],
          [
           "OpenRA.Mods.Common/Traits/World/SpawnStartingUnits.cs",
           128
          ],
          [
           "OpenRA.Mods.Common/Traits/Multipliers/SpeedMultiplier.cs",
           31
          ],
          [
           "OpenRA.Mods.D2k/Traits/SpiceBloom.cs",
           177
          ],
          [
           "OpenRA.Mods.Common/UpdateRules/Rules/20200503/SplitDamagedByTerrain.cs",
           35
          ],
          [
           "OpenRA.Mods.Common/Warheads/SpreadDamageWarhead.cs",
           125
          ],
          [
           "OpenRA.Game/Graphics/Sprite.cs",
           81
          ],
          [
           "OpenRA.Mods.Common/Graphics/SpriteActorPreview.cs",
           51
          ],
          [
           "OpenRA.Mods.Common/Effects/SpriteAnnotation.cs",
           47
          ],
          [
           "OpenRA.Mods.Common/Effects/SpriteEffect.cs",
           86
          ],
          [
           "OpenRA.Game/Graphics/SpriteFont.cs",
           436
          ],
          [
           "OpenRA.Mods.Common/Activities/SpriteHarvesterDockSequence.cs",
           65
          ],
          [
           "OpenRA.Game/Graphics/SpriteLoader.cs",
           195
          ],
          [
           "OpenRA.Game/Graphics/SpriteRenderable.cs",
           113
          ],
          [
           "OpenRA.Game/Graphics/SpriteRenderer.cs",
           250
          ],
          [
           "OpenRA.Mods.Common/Widgets/SpriteWidget.cs",
           85
          ],
          [
           "OpenRA.Mods.Common/Traits/BotModules/Squads/Squad.cs",
           122
          ],
          [
           "OpenRA.Mods.Common/Traits/BotModules/SquadManagerBotModule.cs",
           458
          ],
          [
           "OpenRA.Mods.Common/Widgets/Logic/Ingame/StanceSelectorLogic.cs",
           83
          ],
          [
           "OpenRA.Mods.Common/Traits/World/StartGameNotification.cs",
           58
          ],
          [
           "OpenRA.Mods.Common/Traits/BotModules/Squads/States/StateBase.cs",
           154
          ],
          [
           "OpenRA.Mods.Common/Traits/BotModules/Squads/StateMachine.cs",
           49
          ],
          [
           "OpenRA.Mods.Common/Traits/StoresResources.cs",
           70
          ],
          [
           "OpenRA.Mods.Common/Widgets/StrategicProgressWidget.cs",
           106
          ],
          [
           "OpenRA.Mods.Common/Traits/Player/StrategicVictoryConditions.cs",
           160
          ],
          [
           "OpenRA.Game/./StreamExts.cs",
           240
          ],
          [
           "OpenRA.Test/OpenRA.Game/StreamExtsTests.cs",
           73
          ],
          [
           "OpenRA.Mods.Common/Traits/World/SubterraneanActorLayer.cs",
           106
          ],
          [
           "OpenRA.Mods.Common/Traits/World/SubterraneanLocomotor.cs",
           43
          ],
          [
           "OpenRA.Mods.Common/Traits/SupportPowers/SupportPower.cs",
           222
          ],
          [
           "OpenRA.Mods.Common/Widgets/Logic/Ingame/SupportPowerBinLogic.cs",
           80
          ],
          [
           "OpenRA.Mods.Common/Traits/BotModules/SupportPowerBotModule.cs",
           240
          ],
          [
           "OpenRA.Mods.Common/Traits/Render/SupportPowerChargeBar.cs",
           65
          ],
          [
           "OpenRA.Mods.Common/Traits/Crates/SupportPowerCrateAction.cs",
           49
          ],
          [
           "OpenRA.Mods.Common/Traits/BotModules/BotModuleLogic/SupportPowerDecision.cs",
           206
          ],
          [
           "OpenRA.Mods.Common/Traits/SupportPowers/SupportPowerManager.cs",
           320
          ],
          [
           "OpenRA.Mods.Common/Widgets/SupportPowerTimerWidget.cs",
           94
          ],
          [
           "OpenRA.Mods.Common/Widgets/Logic/Ingame/SupportPowerTooltipLogic.cs",
           99
          ],
          [
           "OpenRA.Mods.Common/Widgets/SupportPowersWidget.cs",
           291
          ],
          [
           "OpenRA.Mods.D2k/Activities/SwallowActor.cs",
           169
          ],
          [
           "OpenRA.Game/./Sync.cs",
           213
          ],
          [
           "OpenRA.Game/Network/SyncReport.cs",
           326
          ],
          [
           "OpenRA.Mods.Common/Widgets/Logic/SystemInfoPromptLogic.cs",
           91
          ],
          [
           "OpenRA.Mods.Cnc/Traits/TDGunboat.cs",
           235
          ],
          [
           "OpenRA.Mods.Cnc/Traits/World/TSEditorResourceLayer.cs",
           114
          ],
          [
           "OpenRA.Mods.Cnc/Traits/World/TSResourceLayer.cs",
           126
          ],
          [
           "OpenRA.Mods.Cnc/Traits/World/TSShroudPalette.cs",
           53
          ],
          [
           "OpenRA.Mods.Cnc/Traits/World/TSTiberiumRenderer.cs",
           94
          ],
          [
           "OpenRA.Mods.Cnc/Traits/World/TSVeinsRenderer.cs",
           428
          ],
          [
           "OpenRA.Mods.Common/Widgets/Logic/TabCompletionLogic.cs",
           80
          ],
          [
           "OpenRA.Mods.Common/Traits/Infantry/TakeCover.cs",
           132
          ],
          [
           "OpenRA.Mods.Common/Activities/Air/TakeOff.cs",
           69
          ],
          [
           "OpenRA.Game/Traits/Target.cs",
           234
          ],
          [
           "OpenRA.Mods.Common/Warheads/TargetDamageWarhead.cs",
           55
          ],
          [
           "OpenRA.Mods.Common/./TargetExtensions.cs",
           90
          ],
          [
           "OpenRA.Game/Graphics/TargetLineRenderable.cs",
           77
          ],
          [
           "OpenRA.Mods.Common/Traits/Targetable.cs",
           60
          ],
          [
           "OpenRA.Mods.Common/Traits/Player/TechTree.cs",
           196
          ],
          [
           "OpenRA.Mods.Cnc/Activities/Teleport.cs",
           144
          ],
          [
           "OpenRA.Mods.Common/Traits/TemporaryOwnerManager.cs",
           86
          ],
          [
           "OpenRA.Mods.Common/Traits/World/TerrainGeometryOverlay.cs",
           101
          ],
          [
           "OpenRA.Game/Map/TerrainInfo.cs",
           76
          ],
          [
           "OpenRA.Mods.Common/Terrain/TerrainInfo.cs",
           102
          ],
          [
           "OpenRA.Mods.Common/Traits/TerrainLightSource.cs",
           67
          ],
          [
           "OpenRA.Mods.Common/Traits/World/TerrainLighting.cs",
           141
          ],
          [
           "OpenRA.Mods.Common/Traits/Infantry/TerrainModifiesDamage.cs",
           60
          ],
          [
           "OpenRA.Mods.Common/Traits/World/TerrainRenderer.cs",
           211
          ],
          [
           "OpenRA.Game/Graphics/TerrainSpriteLayer.cs",
           232
          ],
          [
           "OpenRA.Mods.Common/Widgets/TerrainTemplatePreviewWidget.cs",
           77
          ],
          [
           "OpenRA.Mods.Common/Traits/World/TerrainTunnel.cs",
           63
          ],
          [
           "OpenRA.Mods.Common/Traits/World/TerrainTunnelLayer.cs",
           98
          ],
          [
           "OpenRA.Mods.Cnc/Projectiles/TeslaZap.cs",
           86
          ],
          [
           "OpenRA.Mods.Cnc/Graphics/TeslaZapRenderable.cs",
           164
          ],
          [
           "OpenRA.Mods.Common/Graphics/TextAnnotationRenderable.cs",
           69
          ],
          [
           "OpenRA.Mods.Common/Widgets/TextFieldWidget.cs",
           612
          ],
          [
           "OpenRA.Game/./TextNotification.cs",
           56
          ],
          [
           "OpenRA.Mods.Common/Widgets/TextNotificationsDisplayWidget.cs",
           136
          ],
          [
           "OpenRA.Game/./TextNotificationsManager.cs",
           75
          ],
          [
           "OpenRA.Platforms.Default/./Texture.cs",
           216
          ],
          [
           "OpenRA.Mods.Common/SpriteLoaders/TgaLoader.cs",
           115
          ],
          [
           "OpenRA.Platforms.Default/./ThreadAffine.cs",
           36
          ],
          [
           "OpenRA.Platforms.Default/./ThreadedGraphicsContext.cs",
           720
          ],
          [
           "OpenRA.Mods.Common/Traits/ThrowsParticle.cs",
           104
          ],
          [
           "OpenRA.Mods.Common/Traits/ThrowsShrapnel.cs",
           105
          ],
          [
           "OpenRA.Mods.Cnc/Traits/Buildings/TiberianSunRefinery.cs",
           33
          ],
          [
           "OpenRA.Game/Network/TickTime.cs",
           57
          ],
          [
           "OpenRA.Game/Map/TileReference.cs",
           43
          ],
          [
           "OpenRA.Mods.Common/Widgets/Logic/Editor/TileSelectorLogic.cs",
           140
          ],
          [
           "OpenRA.Mods.Common/Graphics/TilesetSpecificSpriteSequence.cs",
           86
          ],
          [
           "OpenRA.Mods.Common/Traits/World/TimeLimitManager.cs",
           178
          ],
          [
           "OpenRA.Mods.Common/Traits/Render/TimedConditionBar.cs",
           59
          ],
          [
           "OpenRA.Mods.Cnc/SpriteLoaders/TmpRALoader.cs",
           101
          ],
          [
           "OpenRA.Mods.Cnc/SpriteLoaders/TmpTDLoader.cs",
           98
          ],
          [
           "OpenRA.Mods.Cnc/SpriteLoaders/TmpTSLoader.cs",
           200
          ],
          [
           "OpenRA.Mods.Common/Traits/Conditions/ToggleConditionOnOrder.cs",
           107
          ],
          [
           "OpenRA.Mods.Common/Widgets/Logic/Ingame/Hotkeys/TogglePlayerStanceColorHotkeyLogic.cs",
           32
          ],
          [
           "OpenRA.Mods.Common/Traits/Tooltip.cs",
           90
          ],
          [
           "OpenRA.Mods.Common/Widgets/TooltipContainerWidget.cs",
           89
          ],
          [
           "OpenRA.Mods.Common/Traits/TooltipDescription.cs",
           54
          ],
          [
           "OpenRA.Game/./TraitDictionary.cs",
           320
          ],
          [
           "OpenRA.Game/Server/TraitInterfaces.cs",
           63
          ],
          [
           "OpenRA.Mods.Cnc/./TraitsInterfaces.cs",
           18
          ],
          [
           "OpenRA.Mods.Common/./TraitsInterfaces.cs",
           718
          ],
          [
           "OpenRA.Game/Traits/TraitsInterfaces.cs",
           614
          ],
          [
           "OpenRA.Mods.Cnc/Traits/TransferTimedExternalConditionOnTransform.cs",
           63
          ],
          [
           "OpenRA.Mods.Common/Activities/Transform.cs",
           173
          ],
          [
           "OpenRA.Mods.Common/Traits/TransformCrusherOnCrush.cs",
           59
          ],
          [
           "OpenRA.Mods.Common/Traits/TransformOnCapture.cs",
           58
          ],
          [
           "OpenRA.Mods.Common/Scripting/Properties/TransformProperties.cs",
           36
          ],
          [
           "OpenRA.Mods.Common/Traits/Transforms.cs",
           152
          ],
          [
           "OpenRA.Mods.Common/Traits/Buildings/TransformsIntoAircraft.cs",
           222
          ],
          [
           "OpenRA.Mods.Common/Traits/Buildings/TransformsIntoEntersTunnels.cs",
           119
          ],
          [
           "OpenRA.Mods.Common/Traits/Buildings/TransformsIntoMobile.cs",
           221
          ],
          [
           "OpenRA.Mods.Common/Traits/Buildings/TransformsIntoPassenger.cs",
           162
          ],
          [
           "OpenRA.Mods.Common/Traits/Buildings/TransformsIntoRepairable.cs",
           147
          ],
          [
           "OpenRA.Mods.Common/Traits/Buildings/TransformsIntoTransforms.cs",
           65
          ],
          [
           "OpenRA.Mods.Cnc/Traits/TransformsNearResources.cs",
           101
          ],
          [
           "OpenRA.Game/./Translation.cs",
           121
          ],
          [
           "OpenRA.Mods.Common/Scripting/Properties/TransportProperties.cs",
           66
          ],
          [
           "OpenRA.Mods.Common/Scripting/Global/TriggerGlobal.cs",
           498
          ],
          [
           "OpenRA.Mods.Common/Traits/TunnelEntrance.cs",
           73
          ],
          [
           "OpenRA.Mods.Common/Activities/Turn.cs",
           47
          ],
          [
           "OpenRA.Mods.Common/Traits/TurnOnIdle.cs",
           62
          ],
          [
           "OpenRA.Mods.Common/Traits/Turreted.cs",
           323
          ],
          [
           "OpenRA.Game/Primitives/TypeDictionary.cs",
           125
          ],
          [
           "OpenRA.Mods.Common/Graphics/UIModelRenderable.cs",
           154
          ],
          [
           "OpenRA.Game/Graphics/UISpriteRenderable.cs",
           74
          ],
          [
           "OpenRA.Mods.Common/Graphics/UITextRenderable.cs",
           69
          ],
          [
           "OpenRA.Mods.Common/UpdateRules/Rules/UnhardcodeSquadManager.cs",
           43
          ],
          [
           "OpenRA.Mods.Common/Traits/BotModules/UnitBuilderBotModule.cs",
           241
          ],
          [
           "OpenRA.Game/Orders/UnitOrderGenerator.cs",
           219
          ],
          [
           "OpenRA.Mods.Common/Orders/UnitOrderTargeter.cs",
           88
          ],
          [
           "OpenRA.Game/Network/UnitOrders.cs",
           352
          ],
          [
           "OpenRA.Mods.Common/Activities/UnloadCargo.cs",
           145
          ],
          [
           "OpenRA.Game/UtilityCommands/UnregisterModCommand.cs",
           38
          ],
          [
           "OpenRA.Mods.Common/UtilityCommands/UpdateMapCommand.cs",
           155
          ],
          [
           "OpenRA.Mods.Common/UpdateRules/Rules/20200503/UpdateMapInits.cs",
           73
          ],
          [
           "OpenRA.Mods.Common/UtilityCommands/UpdateModCommand.cs",
           262
          ],
          [
           "OpenRA.Mods.Common/UpdateRules/UpdatePath.cs",
           143
          ],
          [
           "OpenRA.Mods.Common/UpdateRules/UpdateRule.cs",
           40
          ],
          [
           "OpenRA.Mods.Common/UpdateRules/Rules/20200503/UpdateTilesetColors.cs",
           44
          ],
          [
           "OpenRA.Mods.Common/UpdateRules/UpdateUtils.cs",
           387
          ],
          [
           "OpenRA.Mods.Common/Traits/UpdatesDerrickCount.cs",
           20
          ],
          [
           "OpenRA.Mods.Common/UpdateRules/Rules/20201213/UseMillisecondsForSounds.cs",
           92
          ],
          [
           "OpenRA.Mods.Common/Scripting/Global/UserInterfaceGlobal.cs",
           40
          ],
          [
           "OpenRA.Mods.Cnc/./Util.cs",
           69
          ],
          [
           "OpenRA.Mods.Common/./Util.cs",
           294
          ],
          [
           "OpenRA.Game/Graphics/Util.cs",
           448
          ],
          [
           "OpenRA.Mods.Common/UtilityCommands/Utilities.cs",
           54
          ],
          [
           "OpenRA.Mods.Common/Scripting/Global/UtilsGlobal.cs",
           121
          ],
          [
           "OpenRA.Mods.Common/Traits/World/ValidateOrder.cs",
           48
          ],
          [
           "OpenRA.Mods.Common/Traits/Valued.cs",
           25
          ],
          [
           "OpenRA.Game/Support/VariableExpression.cs",
           978
          ],
          [
           "OpenRA.Test/OpenRA.Game/VariableExpressionTest.cs",
           470
          ],
          [
           "OpenRA.Game/Graphics/Vertex.cs",
           49
          ],
          [
           "OpenRA.Platforms.Default/./VertexBuffer.cs",
           107
          ],
          [
           "OpenRA.Mods.Common/Traits/Render/VeteranProductionIconOverlay.cs",
           116
          ],
          [
           "OpenRA.Game/Graphics/Video.cs",
           33
          ],
          [
           "OpenRA.Game/Graphics/VideoLoader.cs",
           32
          ],
          [
           "OpenRA.Mods.Common/Widgets/VideoPlayerWidget.cs",
           229
          ],
          [
           "OpenRA.Game/Graphics/Viewport.cs",
           417
          ],
          [
           "OpenRA.Mods.Common/Widgets/ViewportControllerWidget.cs",
           500
          ],
          [
           "OpenRA.Mods.Cnc/AudioLoaders/VocLoader.cs",
           391
          ],
          [
           "OpenRA.Mods.Common/Traits/Sound/VoiceAnnouncement.cs",
           62
          ],
          [
           "OpenRA.Game/./VoiceExts.cs",
           90
          ],
          [
           "OpenRA.Mods.Common/Traits/Voiced.cs",
           75
          ],
          [
           "OpenRA.Mods.Cnc/Graphics/Voxel.cs",
           161
          ],
          [
           "OpenRA.Mods.Cnc/Activities/VoxelHarvesterDockSequence.cs",
           88
          ],
          [
           "OpenRA.Mods.Cnc/Graphics/VoxelLoader.cs",
           241
          ],
          [
           "OpenRA.Mods.Cnc/Graphics/VoxelModelSequenceLoader.cs",
           124
          ],
          [
           "OpenRA.Mods.Cnc/Traits/World/VoxelNormalsPalette.cs",
           351
          ],
          [
           "OpenRA.Mods.Cnc/VideoLoaders/VqaLoader.cs",
           58
          ],
          [
           "OpenRA.Mods.Cnc/FileFormats/VqaReader.cs",
           614
          ],
          [
           "OpenRA.Mods.Cnc/FileFormats/VxlReader.cs",
           159
          ],
          [
           "OpenRA.Game/./WAngle.cs",
           266
          ],
          [
           "OpenRA.Game/./WDist.cs",
           155
          ],
          [
           "OpenRA.Game/./WPos.cs",
           163
          ],
          [
           "OpenRA.Game/./WRot.cs",
           224
          ],
          [
           "OpenRA.Game/./WVec.cs",
           159
          ],
          [
           "OpenRA.Mods.Common/Activities/Wait.cs",
           56
          ],
          [
           "OpenRA.Mods.Common/Traits/Wanders.cs",
           124
          ],
          [
           "OpenRA.Mods.Common/Warheads/Warhead.cs",
           95
          ],
          [
           "OpenRA.Mods.Common/Traits/World/WarheadDebugOverlay.cs",
           86
          ],
          [
           "OpenRA.Mods.Common/AudioLoaders/WavLoader.cs",
           74
          ],
          [
           "OpenRA.Mods.Common/FileFormats/WavReader.cs",
           306
          ],
          [
           "OpenRA.Game/GameRules/WeaponInfo.cs",
           256
          ],
          [
           "OpenRA.Mods.Common/Traits/World/WeatherOverlay.cs",
           256
          ],
          [
           "OpenRA.Mods.Common/./WebServices.cs",
           60
          ],
          [
           "OpenRA.Game/Widgets/Widget.cs",
           616
          ],
          [
           "OpenRA.Game/Widgets/WidgetLoader.cs",
           86
          ],
          [
           "OpenRA.Mods.Common/Widgets/WidgetUtils.cs",
           450
          ],
          [
           "OpenRA.Mods.Common/Traits/Render/WithAcceptDeliveredCashAnimation.cs",
           52
          ],
          [
           "OpenRA.Mods.Common/Traits/Render/WithAimAnimation.cs",
           65
          ],
          [
           "OpenRA.Mods.Common/Traits/Render/WithAmmoPipsDecoration.cs",
           93
          ],
          [
           "OpenRA.Mods.Common/Traits/Render/WithAttackAnimation.cs",
           96
          ],
          [
           "OpenRA.Mods.Common/Traits/Render/WithAttackOverlay.cs",
           96
          ],
          [
           "OpenRA.Mods.Common/Traits/Render/WithBridgeSpriteBody.cs",
           135
          ],
          [
           "OpenRA.Mods.Cnc/Traits/Render/WithBuildingBib.cs",
           137
          ],
          [
           "OpenRA.Mods.Common/Traits/Render/WithBuildingPlacedAnimation.cs",
           51
          ],
          [
           "OpenRA.Mods.Common/Traits/Render/WithBuildingPlacedOverlay.cs",
           69
          ],
          [
           "OpenRA.Mods.Common/Traits/Render/WithBuildingRepairDecoration.cs",
           64
          ],
          [
           "OpenRA.Mods.Cnc/Traits/Render/WithCargo.cs",
           141
          ],
          [
           "OpenRA.Mods.Common/Traits/Render/WithCargoPipsDecoration.cs",
           100
          ],
          [
           "OpenRA.Mods.Common/Traits/Render/WithChargeOverlay.cs",
           60
          ],
          [
           "OpenRA.Mods.Common/Traits/Render/WithChargeSpriteBody.cs",
           64
          ],
          [
           "OpenRA.Mods.Common/Traits/Modifiers/WithColoredOverlay.cs",
           64
          ],
          [
           "OpenRA.Mods.Common/Traits/Render/WithCrateBody.cs",
           97
          ],
          [
           "OpenRA.Mods.D2k/Traits/Render/WithCrumbleOverlay.cs",
           68
          ],
          [
           "OpenRA.Mods.Common/Traits/Render/WithDamageOverlay.cs",
           85
          ],
          [
           "OpenRA.Mods.Common/Traits/Render/WithDeadBridgeSpriteBody.cs",
           106
          ],
          [
           "OpenRA.Mods.Common/Traits/Render/WithDeathAnimation.cs",
           126
          ],
          [
           "OpenRA.Mods.Common/Traits/Render/WithDecoration.cs",
           71
          ],
          [
           "OpenRA.Mods.Common/Traits/Render/WithDecorationBase.cs",
           144
          ],
          [
           "OpenRA.Mods.Common/Traits/Render/WithDeliveryAnimation.cs",
           57
          ],
          [
           "OpenRA.Mods.D2k/Traits/Render/WithDeliveryOverlay.cs",
           72
          ],
          [
           "OpenRA.Mods.Cnc/Traits/Render/WithDisguisingInfantryBody.cs",
           78
          ],
          [
           "OpenRA.Mods.Common/Traits/Render/WithDockedOverlay.cs",
           67
          ],
          [
           "OpenRA.Mods.Common/Traits/Render/WithDockingAnimation.cs",
           28
          ],
          [
           "OpenRA.Mods.Cnc/Traits/Render/WithDockingOverlay.cs",
           61
          ],
          [
           "OpenRA.Mods.Cnc/Traits/Render/WithEmbeddedTurretSpriteBody.cs",
           78
          ],
          [
           "OpenRA.Mods.Common/Traits/Render/WithFacingSpriteBody.cs",
           40
          ],
          [
           "OpenRA.Mods.Common/Traits/Render/WithGateSpriteBody.cs",
           130
          ],
          [
           "OpenRA.Mods.Cnc/Traits/Render/WithGunboatBody.cs",
           99
          ],
          [
           "OpenRA.Mods.Common/Traits/Render/WithHarvestAnimation.cs",
           53
          ],
          [
           "OpenRA.Mods.Common/Traits/Render/WithHarvestOverlay.cs",
           75
          ],
          [
           "OpenRA.Mods.Common/Traits/Render/WithHarvesterPipsDecoration.cs",
           98
          ],
          [
           "OpenRA.Mods.Cnc/Traits/Render/WithHarvesterSpriteBody.cs",
           50
          ],
          [
           "OpenRA.Mods.Common/Traits/Render/WithIdleAnimation.cs",
           62
          ],
          [
           "OpenRA.Mods.Common/Traits/Render/WithIdleOverlay.cs",
           118
          ],
          [
           "OpenRA.Mods.Common/Traits/Render/WithInfantryBody.cs",
           226
          ],
          [
           "OpenRA.Mods.Cnc/Traits/Render/WithLandingCraftAnimation.cs",
           96
          ],
          [
           "OpenRA.Mods.Common/Traits/Render/WithMakeAnimation.cs",
           203
          ],
          [
           "OpenRA.Mods.Common/Traits/Render/WithMakeOverlay.cs",
           65
          ],
          [
           "OpenRA.Mods.Common/Traits/Render/WithMoveAnimation.cs",
           85
          ],
          [
           "OpenRA.Mods.Common/Traits/Render/WithMuzzleOverlay.cs",
           114
          ],
          [
           "OpenRA.Mods.Common/Traits/Render/WithNameTagDecoration.cs",
           84
          ],
          [
           "OpenRA.Mods.Common/Traits/Render/WithParachute.cs",
           204
          ],
          [
           "OpenRA.Mods.Common/Traits/Render/WithProductionDoorOverlay.cs",
           84
          ],
          [
           "OpenRA.Mods.Common/Traits/Render/WithProductionOverlay.cs",
           108
          ],
          [
           "OpenRA.Mods.Common/Traits/Render/WithRangeCircle.cs",
           125
          ],
          [
           "OpenRA.Mods.Common/Traits/Render/WithRepairOverlay.cs",
           106
          ],
          [
           "OpenRA.Mods.Cnc/Traits/World/WithResourceAnimation.cs",
           106
          ],
          [
           "OpenRA.Mods.Common/Traits/Render/WithResourceLevelOverlay.cs",
           70
          ],
          [
           "OpenRA.Mods.Common/Traits/Render/WithResourceLevelSpriteBody.cs",
           75
          ],
          [
           "OpenRA.Mods.Common/Traits/Render/WithResourceStoragePipsDecoration.cs",
           79
          ],
          [
           "OpenRA.Mods.Common/Traits/Render/WithResupplyAnimation.cs",
           92
          ],
          [
           "OpenRA.Mods.Common/Traits/Render/WithShadow.cs",
           79
          ],
          [
           "OpenRA.Mods.Cnc/Traits/Render/WithSplitAttackPaletteInfantryBody.cs",
           58
          ],
          [
           "OpenRA.Mods.Common/Traits/Render/WithSpriteBarrel.cs",
           107
          ],
          [
           "OpenRA.Mods.Common/Traits/Render/WithSpriteBody.cs",
           151
          ],
          [
           "OpenRA.Mods.Common/Traits/Render/WithSpriteControlGroupDecoration.cs",
           72
          ],
          [
           "OpenRA.Mods.Common/Traits/Render/WithSpriteTurret.cs",
           146
          ],
          [
           "OpenRA.Mods.Common/Traits/Render/WithSupportPowerActivationAnimation.cs",
           53
          ],
          [
           "OpenRA.Mods.Common/Traits/Render/WithSupportPowerActivationOverlay.cs",
           67
          ],
          [
           "OpenRA.Mods.Cnc/Traits/Render/WithTeslaChargeAnimation.cs",
           47
          ],
          [
           "OpenRA.Mods.Cnc/Traits/Render/WithTeslaChargeOverlay.cs",
           73
          ],
          [
           "OpenRA.Mods.Common/Traits/Render/WithTextControlGroupDecoration.cs",
           88
          ],
          [
           "OpenRA.Mods.Common/Traits/Render/WithTextDecoration.cs",
           76
          ],
          [
           "OpenRA.Mods.Common/Traits/Render/WithTurretAimAnimation.cs",
           66
          ],
          [
           "OpenRA.Mods.Common/Traits/Render/WithTurretAttackAnimation.cs",
           85
          ],
          [
           "OpenRA.Mods.Common/Traits/Render/WithVoxelBarrel.cs",
           103
          ],
          [
           "OpenRA.Mods.Common/Traits/Render/WithVoxelBody.cs",
           66
          ],
          [
           "OpenRA.Mods.Common/Traits/Render/WithVoxelTurret.cs",
           70
          ],
          [
           "OpenRA.Mods.Cnc/Traits/Render/WithVoxelUnloadBody.cs",
           80
          ],
          [
           "OpenRA.Mods.Cnc/Traits/Render/WithVoxelWalkerBody.cs",
           103
          ],
          [
           "OpenRA.Mods.Common/Traits/Render/WithWallSpriteBody.cs",
           175
          ],
          [
           "OpenRA.Game/./World.cs",
           613
          ],
          [
           "OpenRA.Mods.Common/Widgets/WorldButtonWidget.cs",
           44
          ],
          [
           "OpenRA.Mods.Common/./WorldExtensions.cs",
           117
          ],
          [
           "OpenRA.Mods.Common/Widgets/WorldInteractionControllerWidget.cs",
           230
          ],
          [
           "OpenRA.Mods.Common/Widgets/WorldLabelWithTooltipWidget.cs",
           44
          ],
          [
           "OpenRA.Game/Graphics/WorldRenderer.cs",
           429
          ],
          [
           "OpenRA.Mods.Common/Widgets/Logic/Ingame/WorldTooltipLogic.cs",
           134
          ],
          [
           "OpenRA.Game/./WorldUtils.cs",
           81
          ],
          [
           "OpenRA.Game/./WorldViewportSizes.cs",
           35
          ],
          [
           "OpenRA.Mods.Cnc/VideoLoaders/WsaLoader.cs",
           68
          ],
          [
           "OpenRA.Mods.Cnc/FileFormats/WsaReader.cs",
           136
          ],
          [
           "OpenRA.Mods.Cnc/FileFormats/XORDeltaCompression.cs",
           82
          ],
          [
           "OpenRA.Mods.Cnc/FileFormats/XccGlobalDatabase.cs",
           60
          ],
          [
           "OpenRA.Mods.Cnc/FileFormats/XccLocalDatabase.cs",
           69
          ],
          [
           "OpenRA.Game/FileSystem/ZipFile.cs",
           236
          ],
          [
           "OpenRA.Game/Primitives/float2.cs",
           113
          ],
          [
           "OpenRA.Game/Primitives/float3.cs",
           66
          ],
          [
           "OpenRA.Game/Primitives/int2.cs",
           89
          ],
          [
           "(?)",
           429.1139111972676
          ],
          [
           "OpenRA.Launcher/./Program.cs",
           46
          ],
          [
           "(?)",
           88.58793969849246
          ],
          [
           "(?)",
           355.8839672604718
          ],
          [
           "(?)",
           499.81968680089483
          ],
          [
           "OpenRA.Server/./Program.cs",
           110
          ],
          [
           "OpenRA.Utility/./Program.cs",
           173
          ],
          [
           "OpenRA.WindowsLauncher/./Program.cs",
           201
          ],
          [
           "(?)",
           264.72222222222223
          ],
          [
           "(?)",
           136.78878748370275
          ],
          [
           "(?)",
           157.50654142905066
          ],
          [
           "OpenRA.Mods.D2k/Activities/SwallowActor.cs",
           169
          ],
          [
           "(?)",
           209.52155771905424
          ],
          [
           "(?)",
           331.3014899211218
          ],
          [
           "(?)",
           340.9698275862069
          ],
          [
           "(?)",
           104.77627118644068
          ],
          [
           "(?)",
           127.11440677966101
          ],
          [
           "(?)",
           260.8601271571299
          ],
          [
           "(?)",
           37.57142857142857
          ],
          [
           "(?)",
           85.42424242424242
          ],
          [
           "(?)",
           92.97772277227723
          ],
          [
           "(?)",
           318.4887525562372
          ],
          [
           "(?)",
           346.24247665167763
          ],
          [
           "(?)",
           283.6458471760797
          ],
          [
           "(?)",
           248.6368715083799
          ],
          [
           "(?)",
           163.37637362637363
          ],
          [
           "OpenRA.Mods.Common/FileSystem/InstallShieldPackage.cs",
           160
          ],
          [
           "(?)",
           219.73015873015873
          ],
          [
           "(?)",
           269.39567604667127
          ],
          [
           "(?)",
           164.93454545454546
          ],
          [
           "(?)",
           191.81152460984393
          ],
          [
           "(?)",
           118.21951219512195
          ],
          [
           "(?)",
           352.0817610062893
          ],
          [
           "(?)",
           85.41379310344827
          ],
          [
           "OpenRA.Mods.D2k/Lint/CheckImportActors.cs",
           29
          ],
          [
           "(?)",
           110.52058111380146
          ],
          [
           "(?)",
           670.0335904453844
          ],
          [
           "(?)",
           290.29224869898655
          ],
          [
           "(?)",
           264.27357032457496
          ],
          [
           "OpenRA.Test/OpenRA.Mods.Common/ShapeTest.cs",
           247
          ],
          [
           "(?)",
           196.78225806451613
          ],
          [
           "(?)",
           176.33614330874605
          ],
          [
           "OpenRA.Mods.D2k/PackageLoaders/D2kSoundResources.cs",
           102
          ],
          [
           "(?)",
           183.94933333333333
          ],
          [
           "(?)",
           151.63913195659782
          ],
          [
           "(?)",
           79.6470588235294
          ],
          [
           "(?)",
           512.9653465346535
          ],
          [
           "(?)",
           184.5590909090909
          ],
          [
           "(?)",
           406.7516688918558
          ],
          [
           "(?)",
           229.3417593528817
          ],
          [
           "(?)",
           42.633136094674555
          ],
          [
           "(?)",
           116.45230488361479
          ],
          [
           "(?)",
           1084.84290985767
          ],
          [
           "(?)",
           933.072602739726
          ],
          [
           "(?)",
           406.00396825396825
          ],
          [
           "(?)",
           174.0268528464017
          ],
          [
           "(?)",
           139.70498084291188
          ],
          [
           "OpenRA.Mods.D2k/SpriteLoaders/R8Loader.cs",
           130
          ],
          [
           "(?)",
           488.2412101390025
          ],
          [
           "(?)",
           169.2180293501048
          ],
          [
           "(?)",
           432.43490838958536
          ],
          [
           "(?)",
           218.698272823405
          ],
          [
           "(?)",
           244.05227938101214
          ],
          [
           "(?)",
           137.42315369261476
          ],
          [
           "(?)",
           1125.6009026434558
          ],
          [
           "(?)",
           130.07991360691145
          ],
          [
           "(?)",
           349.7550432276657
          ],
          [
           "(?)",
           282.914223669924
          ],
          [
           "(?)",
           369.37173579109066
          ],
          [
           "(?)",
           208.31838565022423
          ],
          [
           "(?)",
           207.83511777301928
          ],
          [
           "(?)",
           62.981651376146786
          ],
          [
           "(?)",
           188.7082332386984
          ],
          [
           "(?)",
           143.7900355871886
          ],
          [
           "(?)",
           132.7515015015015
          ],
          [
           "(?)",
           123.45414069456812
          ],
          [
           "(?)",
           111.94805194805195
          ],
          [
           "(?)",
           88.66993464052288
          ],
          [
           "(?)",
           126.975
          ],
          [
           "(?)",
           35.54
          ],
          [
           "(?)",
           66.59398496240601
          ],
          [
           "(?)",
           107.32595573440643
          ],
          [
           "(?)",
           85.52092050209205
          ],
          [
           "(?)",
           399.2670025188917
          ],
          [
           "(?)",
           262.60924574209247
          ],
          [
           "OpenRA.Mods.D2k/Traits/Player/HarvesterInsurance.cs",
           49
          ],
          [
           "(?)",
           65.88172043010752
          ],
          [
           "OpenRA.Mods.Common/Traits/Power/Player/PowerManager.cs",
           215
          ],
          [
           "(?)",
           48.6
          ],
          [
           "(?)",
           94.42960944595822
          ],
          [
           "(?)",
           116.8538520604044
          ],
          [
           "(?)",
           70.05714285714286
          ],
          [
           "(?)",
           69.30526315789474
          ],
          [
           "(?)",
           239.46853146853147
          ],
          [
           "(?)",
           234.43810991268617
          ],
          [
           "(?)",
           217.40313111545987
          ],
          [
           "(?)",
           270.52011922503726
          ],
          [
           "(?)",
           257.8628456735058
          ],
          [
           "(?)",
           134.5686274509804
          ],
          [
           "(?)",
           301.4350877192982
          ],
          [
           "(?)",
           60.43231441048035
          ],
          [
           "OpenRA.Mods.Common/UpdateRules/Rules/20191117/ReplaceAttackTypeStrafe.cs",
           44
          ],
          [
           "(?)",
           102.00751879699249
          ],
          [
           "(?)",
           108.8269090909091
          ],
          [
           "(?)",
           73.83244680851064
          ],
          [
           "(?)",
           38
          ],
          [
           "(?)",
           356.2201791607732
          ],
          [
           "(?)",
           172.09900692145652
          ],
          [
           "(?)",
           464.1045871559633
          ],
          [
           "(?)",
           63.3968253968254
          ],
          [
           "(?)",
           90.29824561403508
          ],
          [
           "OpenRA.Mods.D2k/Warheads/DamagesConcreteWarhead.cs",
           38
          ],
          [
           "(?)",
           518.8746666666667
          ],
          [
           "(?)",
           293.95611218154573
          ],
          [
           "OpenRA.Mods.Cnc/Widgets/Logic/PreReleaseWarningPrompt.cs",
           37
          ],
          [
           "(?)",
           425.7928015564202
          ],
          [
           "(?)",
           285.62298987492557
          ],
          [
           "(?)",
           233.16883700044903
          ],
          [
           "(?)",
           59.24375
          ],
          [
           "(?)",
           436.9000819000819
          ],
          [
           "(?)",
           590.4005628517824
          ],
          [
           "(?)",
           275.0131578947368
          ],
          [
           "(?)",
           408.87689441619256
          ],
          [
           "OpenRA.Launcher/./Program.cs",
           46
          ],
          [
           "(?)",
           229.05793450881612
          ],
          [
           "(?)",
           258.42052674856103
          ],
          [
           "(?)",
           202.34015554645927
          ],
          [
           "(?)",
           499.81968680089483
          ],
          [
           "OpenRA.Server/./Program.cs",
           110
          ],
          [
           "(?)",
           261.5048669695003
          ],
          [
           "OpenRA.Utility/./Program.cs",
           173
          ],
          [
           "OpenRA.WindowsLauncher/./Program.cs",
           201
          ]
         ],
         "domain": {
          "x": [
           0,
           1
          ],
          "y": [
           0,
           1
          ]
         },
         "hovertemplate": "labels=%{label}<br>lines_sum=%{value}<br>parent=%{parent}<br>id=%{id}<br>fullpath=%{customdata[0]}<br>lines=%{color}<extra></extra>",
         "ids": [
          "OpenRA.Mods.Common/./AIUtils.cs",
          "OpenRA.Mods.Common/Traits/AcceptsDeliveredCash.cs",
          "OpenRA.Mods.Common/Traits/AcceptsDeliveredExperience.cs",
          "OpenRA.Game/Primitives/ActionQueue.cs",
          "OpenRA.Test/OpenRA.Game/ActionQueueTest.cs",
          "OpenRA.Game/Activities/Activity.cs",
          "OpenRA.Game/Traits/ActivityUtils.cs",
          "OpenRA.Game/./Actor.cs",
          "OpenRA.Mods.Common/Widgets/Logic/Editor/ActorEditLogic.cs",
          "OpenRA.Mods.Common/./ActorExts.cs",
          "OpenRA.Mods.Common/Scripting/Global/ActorGlobal.cs",
          "OpenRA.Game/GameRules/ActorInfo.cs",
          "OpenRA.Game/Primitives/ActorInfoDictionary.cs",
          "OpenRA.Test/OpenRA.Game/ActorInfoTest.cs",
          "OpenRA.Mods.Common/./ActorInitializer.cs",
          "OpenRA.Game/Map/ActorInitializer.cs",
          "OpenRA.Mods.Common/Traits/Sound/ActorLostNotification.cs",
          "OpenRA.Mods.Common/Traits/World/ActorMap.cs",
          "OpenRA.Mods.Common/Graphics/ActorPreview.cs",
          "OpenRA.Mods.Common/Traits/Buildings/ActorPreviewPlaceBuildingPreview.cs",
          "OpenRA.Mods.Common/Widgets/ActorPreviewWidget.cs",
          "OpenRA.Game/Map/ActorReference.cs",
          "OpenRA.Mods.Common/Widgets/Logic/Editor/ActorSelectorLogic.cs",
          "OpenRA.Mods.Common/Traits/World/ActorSpawnManager.cs",
          "OpenRA.Mods.Common/Traits/ActorSpawner.cs",
          "OpenRA.Mods.Common/Widgets/Logic/Ingame/AddFactionSuffixLogic.cs",
          "OpenRA.Mods.Common/UpdateRules/Rules/20200503/AddPipDecorationTraits.cs",
          "OpenRA.Mods.Common/UpdateRules/Rules/20200202/AddResourceRenderer.cs",
          "OpenRA.Mods.Common/Widgets/Logic/Settings/AdvancedSettingsLogic.cs",
          "OpenRA.Mods.Common/Traits/Power/AffectedByPowerOutage.cs",
          "OpenRA.Mods.Common/Traits/AffectsShroud.cs",
          "OpenRA.Mods.Common/Traits/BotModules/Squads/States/AirStates.cs",
          "OpenRA.Mods.Common/Traits/Air/Aircraft.cs",
          "OpenRA.Mods.Common/Scripting/Properties/AircraftProperties.cs",
          "OpenRA.Mods.Common/Traits/SupportPowers/AirstrikePower.cs",
          "OpenRA.Mods.Common/Scripting/Properties/AirstrikeProperties.cs",
          "OpenRA.Mods.Common/Traits/Player/AllyRepair.cs",
          "OpenRA.Mods.Common/Traits/Modifiers/AlwaysVisible.cs",
          "OpenRA.Mods.Common/Traits/Sound/AmbientSound.cs",
          "OpenRA.Mods.Common/Traits/AmmoPool.cs",
          "OpenRA.Mods.Common/Scripting/Properties/AmmoPoolProperties.cs",
          "OpenRA.Mods.Common/Scripting/Global/AngleGlobal.cs",
          "OpenRA.Game/Graphics/Animation.cs",
          "OpenRA.Game/Graphics/AnimationWithOffset.cs",
          "OpenRA.Mods.Common/Traits/Sound/AnnounceOnKill.cs",
          "OpenRA.Mods.Common/Traits/Sound/AnnounceOnSeen.cs",
          "OpenRA.Mods.Common/Traits/AppearsOnMapPreview.cs",
          "OpenRA.Mods.Common/Traits/Radar/AppearsOnRadar.cs",
          "OpenRA.Mods.Common/Projectiles/AreaBeam.cs",
          "OpenRA.Game/Support/Arguments.cs",
          "OpenRA.Mods.Common/Traits/Armament.cs",
          "OpenRA.Mods.Common/Traits/Armor.cs",
          "OpenRA.Mods.Common/Widgets/Logic/Ingame/ArmyTooltipLogic.cs",
          "OpenRA.Game/Support/AssemblyLoader.cs",
          "OpenRA.Mods.Common/./AssetBrowser.cs",
          "OpenRA.Mods.Common/Widgets/Logic/AssetBrowserLogic.cs",
          "OpenRA.Game/Effects/AsyncAction.cs",
          "OpenRA.Mods.Common/Activities/Attack.cs",
          "OpenRA.Mods.Common/Traits/Air/AttackAircraft.cs",
          "OpenRA.Mods.Common/Traits/Attack/AttackBase.cs",
          "OpenRA.Mods.Common/Traits/Air/AttackBomber.cs",
          "OpenRA.Mods.Common/Traits/Attack/AttackCharges.cs",
          "OpenRA.Mods.Common/Traits/Attack/AttackFollow.cs",
          "OpenRA.Mods.Common/Traits/Attack/AttackFrontal.cs",
          "OpenRA.Mods.Common/Traits/Attack/AttackGarrisoned.cs",
          "OpenRA.Mods.Cnc/Traits/Attack/AttackLeap.cs",
          "OpenRA.Mods.Common/Traits/AttackMove.cs",
          "OpenRA.Mods.Common/Activities/Move/AttackMoveActivity.cs",
          "OpenRA.Mods.Common/Traits/Attack/AttackOmni.cs",
          "OpenRA.Mods.Common/Traits/BotModules/Squads/AttackOrFleeFuzzy.cs",
          "OpenRA.Mods.Cnc/Traits/SupportPowers/AttackOrderPower.cs",
          "OpenRA.Mods.Cnc/Traits/Attack/AttackPopupTurreted.cs",
          "OpenRA.Mods.Common/Traits/Sound/AttackSounds.cs",
          "OpenRA.Mods.D2k/Traits/AttackSwallow.cs",
          "OpenRA.Mods.Cnc/Traits/Attack/AttackTDGunboatTurreted.cs",
          "OpenRA.Mods.Cnc/Traits/Attack/AttackTesla.cs",
          "OpenRA.Mods.Common/Traits/Attack/AttackTurreted.cs",
          "OpenRA.Mods.Common/Traits/AttackWander.cs",
          "OpenRA.Mods.D2k/Traits/AttractsWorms.cs",
          "OpenRA.Mods.Cnc/AudioLoaders/AudLoader.cs",
          "OpenRA.Mods.Cnc/FileFormats/AudReader.cs",
          "OpenRA.Mods.Common/Widgets/Logic/Settings/AudioSettingsLogic.cs",
          "OpenRA.Mods.Common/Traits/AutoCarryable.cs",
          "OpenRA.Mods.Common/Traits/AutoCarryall.cs",
          "OpenRA.Mods.Common/Traits/AutoTarget.cs",
          "OpenRA.Mods.Common/Traits/AutoTargetPriority.cs",
          "OpenRA.Mods.Common/Widgets/BackgroundWidget.cs",
          "OpenRA.Mods.Common/Widgets/BadgeWidget.cs",
          "OpenRA.Mods.Common/Traits/Player/BaseAttackNotifier.cs",
          "OpenRA.Mods.Common/Traits/BotModules/BaseBuilderBotModule.cs",
          "OpenRA.Mods.Common/Traits/BotModules/BotModuleLogic/BaseBuilderQueueManager.cs",
          "OpenRA.Mods.Common/Traits/Buildings/BaseBuilding.cs",
          "OpenRA.Mods.Common/Pathfinder/BasePathSearch.cs",
          "OpenRA.Mods.Common/Traits/Buildings/BaseProvider.cs",
          "OpenRA.Mods.Common/Effects/Beacon.cs",
          "OpenRA.Mods.Common/Scripting/Global/BeaconGlobal.cs",
          "OpenRA.Mods.Common/Orders/BeaconOrderGenerator.cs",
          "OpenRA.Mods.Common/Graphics/BeamRenderable.cs",
          "OpenRA.Game/Support/Benchmark.cs",
          "OpenRA.Mods.Cnc/FileSystem/BigFile.cs",
          "OpenRA.Game/Primitives/BitSet.cs",
          "OpenRA.Mods.Common/LoadScreens/BlankLoadScreen.cs",
          "OpenRA.Mods.Common/FileFormats/Blast.cs",
          "OpenRA.Mods.Common/Traits/BlocksProjectiles.cs",
          "OpenRA.Mods.Cnc/FileFormats/Blowfish.cs",
          "OpenRA.Mods.Cnc/FileFormats/BlowfishKeyProvider.cs",
          "OpenRA.Mods.Common/Traits/BodyOrientation.cs",
          "OpenRA.Mods.Common/Traits/Buildings/Bridge.cs",
          "OpenRA.Mods.Common/Traits/Buildings/BridgeHut.cs",
          "OpenRA.Mods.Common/Traits/World/BridgeLayer.cs",
          "OpenRA.Mods.Common/Traits/Buildings/BridgePlaceholder.cs",
          "OpenRA.Mods.Common/Traits/Buildable.cs",
          "OpenRA.Mods.D2k/Traits/World/BuildableTerrainLayer.cs",
          "OpenRA.Mods.Common/Traits/World/BuildableTerrainOverlay.cs",
          "OpenRA.Mods.Common/Traits/Buildings/Building.cs",
          "OpenRA.Mods.Common/Traits/Buildings/BuildingInfluence.cs",
          "OpenRA.Mods.Common/Traits/BotModules/BuildingRepairBotModule.cs",
          "OpenRA.Mods.Common/Traits/Buildings/BuildingUtils.cs",
          "OpenRA.Mods.Common/Projectiles/Bullet.cs",
          "OpenRA.Mods.Common/Widgets/Logic/ButtonTooltipLogic.cs",
          "OpenRA.Mods.Common/Widgets/ButtonWidget.cs",
          "OpenRA.Game/./CPos.cs",
          "OpenRA.Test/OpenRA.Game/CPosTest.cs",
          "OpenRA.Mods.Cnc/FileFormats/CRC32.cs",
          "OpenRA.Game/./CVec.cs",
          "OpenRA.Game/Primitives/Cache.cs",
          "OpenRA.Game/Activities/CallFunc.cs",
          "OpenRA.Mods.Common/Scripting/CallLuaFunc.cs",
          "OpenRA.Mods.Common/Scripting/Global/CameraGlobal.cs",
          "OpenRA.Mods.Common/HitShapes/Capsule.cs",
          "OpenRA.Mods.Common/Traits/Capturable.cs",
          "OpenRA.Mods.Common/Traits/CapturableProgressBar.cs",
          "OpenRA.Mods.Common/Traits/CapturableProgressBlink.cs",
          "OpenRA.Mods.Common/Activities/CaptureActor.cs",
          "OpenRA.Mods.Common/Traits/CaptureManager.cs",
          "OpenRA.Mods.Common/Traits/BotModules/CaptureManagerBotModule.cs",
          "OpenRA.Mods.Common/Traits/Sound/CaptureNotification.cs",
          "OpenRA.Mods.Common/Traits/CaptureProgressBar.cs",
          "OpenRA.Mods.Common/Scripting/Properties/CaptureProperties.cs",
          "OpenRA.Mods.Common/Traits/Captures.cs",
          "OpenRA.Mods.Common/Traits/Cargo.cs",
          "OpenRA.Mods.Common/Traits/Carryable.cs",
          "OpenRA.Mods.Common/Traits/CarryableHarvester.cs",
          "OpenRA.Mods.Common/Traits/Carryall.cs",
          "OpenRA.Mods.Common/Traits/CashTrickler.cs",
          "OpenRA.Mods.Common/Traits/Render/CashTricklerBar.cs",
          "OpenRA.Mods.Common/Traits/Multipliers/CashTricklerMultiplier.cs",
          "OpenRA.Mods.Common/Pathfinder/CellInfo.cs",
          "OpenRA.Mods.Common/Pathfinder/CellInfoLayerPool.cs",
          "OpenRA.Game/Map/CellLayer.cs",
          "OpenRA.Game/Map/CellLayerBase.cs",
          "OpenRA.Game/Map/CellRegion.cs",
          "OpenRA.Mods.Common/Warheads/ChangeOwnerWarhead.cs",
          "OpenRA.Mods.Common/UpdateRules/Rules/20200503/ChangeTargetLineDelayToMilliseconds.cs",
          "OpenRA.Mods.Common/Traits/ChangesHealth.cs",
          "OpenRA.Mods.Common/Traits/ChangesTerrain.cs",
          "OpenRA.Mods.Common/Commands/ChatCommands.cs",
          "OpenRA.Mods.Common/Lint/CheckActorReferences.cs",
          "OpenRA.Mods.Common/Lint/CheckActors.cs",
          "OpenRA.Mods.Common/Lint/CheckAngle.cs",
          "OpenRA.Mods.Common/Lint/CheckChromeHotkeys.cs",
          "OpenRA.Mods.Common/Lint/CheckChromeLogic.cs",
          "OpenRA.Mods.Common/UtilityCommands/CheckConditionalTraitInterfaceOverrides.cs",
          "OpenRA.Mods.Common/Lint/CheckConditions.cs",
          "OpenRA.Mods.Common/Lint/CheckConflictingMouseBounds.cs",
          "OpenRA.Mods.Common/Lint/CheckCursors.cs",
          "OpenRA.Mods.Common/Lint/CheckDefaultVisibility.cs",
          "OpenRA.Mods.Common/UtilityCommands/CheckExplicitInterfacesCommand.cs",
          "OpenRA.Mods.Common/Lint/CheckHitShapes.cs",
          "OpenRA.Mods.D2k/Lint/CheckImportActors.cs",
          "OpenRA.Mods.Common/Lint/CheckLocomotorReferences.cs",
          "OpenRA.Mods.Common/Lint/CheckMapCordon.cs",
          "OpenRA.Mods.Common/Lint/CheckMapMetadata.cs",
          "OpenRA.Mods.Common/Lint/CheckMapTiles.cs",
          "OpenRA.Mods.Common/UtilityCommands/CheckMissingSprites.cs",
          "OpenRA.Mods.Common/Lint/CheckNotifications.cs",
          "OpenRA.Mods.Common/Lint/CheckOwners.cs",
          "OpenRA.Mods.Common/Lint/CheckPalettes.cs",
          "OpenRA.Mods.Common/Lint/CheckPlayers.cs",
          "OpenRA.Mods.Common/Lint/CheckRangeLimit.cs",
          "OpenRA.Mods.Common/Lint/CheckRevealFootprint.cs",
          "OpenRA.Mods.Common/Lint/CheckSequences.cs",
          "OpenRA.Mods.Common/Lint/CheckSpriteBodies.cs",
          "OpenRA.Mods.Common/Lint/CheckSyncAnnotations.cs",
          "OpenRA.Mods.Common/Lint/CheckTooltips.cs",
          "OpenRA.Mods.Common/Lint/CheckTraitLocation.cs",
          "OpenRA.Mods.Common/Lint/CheckTraitPrerequisites.cs",
          "OpenRA.Mods.Common/Lint/CheckUnknownTraitFields.cs",
          "OpenRA.Mods.Common/Lint/CheckUnknownWeaponFields.cs",
          "OpenRA.Mods.Common/Lint/CheckVoiceReferences.cs",
          "OpenRA.Mods.Common/Lint/CheckWorldAndPlayerInherits.cs",
          "OpenRA.Mods.Common/UtilityCommands/CheckYaml.cs",
          "OpenRA.Mods.Common/Widgets/CheckboxWidget.cs",
          "OpenRA.Game/Widgets/ChromeMetrics.cs",
          "OpenRA.Game/Graphics/ChromeProvider.cs",
          "OpenRA.Mods.Cnc/Traits/PaletteEffects/ChronoshiftPaletteEffect.cs",
          "OpenRA.Mods.Cnc/Traits/SupportPowers/ChronoshiftPower.cs",
          "OpenRA.Mods.Cnc/Traits/Chronoshiftable.cs",
          "OpenRA.Mods.Cnc/Scripting/Properties/ChronosphereProperties.cs",
          "OpenRA.Mods.Common/HitShapes/Circle.cs",
          "OpenRA.Mods.Common/Graphics/CircleAnnotationRenderable.cs",
          "OpenRA.Mods.Cnc/Traits/ClassicFacingBodyOrientation.cs",
          "OpenRA.Mods.Common/Traits/Player/ClassicParallelProductionQueue.cs",
          "OpenRA.Mods.Common/Widgets/Logic/Ingame/ClassicProductionLogic.cs",
          "OpenRA.Mods.Common/Traits/Player/ClassicProductionQueue.cs",
          "OpenRA.Mods.Cnc/Graphics/ClassicSpriteSequence.cs",
          "OpenRA.Mods.Cnc/Graphics/ClassicTilesetSpecificSpriteSequence.cs",
          "OpenRA.Game/UtilityCommands/ClearInvalidModRegistrationsCommand.cs",
          "OpenRA.Mods.Common/Widgets/ClientTooltipRegionWidget.cs",
          "OpenRA.Mods.Common/Traits/World/CliffBackImpassabilityLayer.cs",
          "OpenRA.Mods.Common/Traits/Cloak.cs",
          "OpenRA.Mods.Common/Traits/PaletteEffects/CloakPaletteEffect.cs",
          "OpenRA.Mods.Common/Scripting/Properties/CloakProperties.cs",
          "OpenRA.Mods.Cnc/Traits/Cloneable.cs",
          "OpenRA.Mods.Cnc/Traits/Buildings/ClonesProducedUnits.cs",
          "OpenRA.Mods.Cnc/./CncLoadScreen.cs",
          "OpenRA.Game/Primitives/Color.cs",
          "OpenRA.Mods.Common/Widgets/ColorBlockWidget.cs",
          "OpenRA.Mods.Common/Scripting/Global/ColorGlobal.cs",
          "OpenRA.Mods.Common/Widgets/ColorMixerWidget.cs",
          "OpenRA.Mods.Common/Widgets/Logic/ColorPickerLogic.cs",
          "OpenRA.Mods.Common/Traits/World/ColorPickerManager.cs",
          "OpenRA.Mods.Common/Traits/Palettes/ColorPickerPalette.cs",
          "OpenRA.Mods.Common/Traits/CombatDebugOverlay.cs",
          "OpenRA.Mods.Common/Scripting/Properties/CombatProperties.cs",
          "OpenRA.Mods.Common/Traits/CommandBarBlacklist.cs",
          "OpenRA.Mods.Common/Widgets/Logic/Ingame/CommandBarLogic.cs",
          "OpenRA.Mods.Common/Widgets/Logic/Editor/CommonSelectorLogic.cs",
          "OpenRA.Game/Primitives/ConcurrentCache.cs",
          "OpenRA.Mods.Common/Scripting/Properties/ConditionProperties.cs",
          "OpenRA.Mods.Common/Traits/Conditions/ConditionalTrait.cs",
          "OpenRA.Mods.Common/Widgets/ConfirmationDialogs.cs",
          "OpenRA.Game/Network/Connection.cs",
          "OpenRA.Game/Server/Connection.cs",
          "OpenRA.Mods.Common/Widgets/Logic/ConnectionLogic.cs",
          "OpenRA.Game/Network/ConnectionTarget.cs",
          "OpenRA.Mods.Common/Traits/Player/ConquestVictoryConditions.cs",
          "OpenRA.Mods.Common/Traits/Render/Contrail.cs",
          "OpenRA.Mods.Common/Effects/ContrailFader.cs",
          "OpenRA.Mods.Common/Graphics/ContrailRenderable.cs",
          "OpenRA.Mods.Common/Widgets/Logic/Ingame/ControlGroupLogic.cs",
          "OpenRA.Mods.Common/UpdateRules/Rules/20201213/ConvertBoundsToWDist.cs",
          "OpenRA.Mods.Cnc/UtilityCommands/ConvertPngToShpCommand.cs",
          "OpenRA.Mods.Common/UtilityCommands/ConvertSpriteToPngCommand.cs",
          "OpenRA.Mods.Common/UpdateRules/Rules/20200503/ConvertSupportPowerRangesToFootprint.cs",
          "OpenRA.Mods.Cnc/Traits/ConyardChronoReturn.cs",
          "OpenRA.Mods.Common/Scripting/Global/CoordinateGlobals.cs",
          "OpenRA.Test/OpenRA.Game/CoordinateTest.cs",
          "OpenRA.Mods.Common/UpdateRules/Rules/CopyIsometricSelectableHeight.cs",
          "OpenRA.Mods.Common/Traits/Crates/Crate.cs",
          "OpenRA.Mods.Common/Traits/Crates/CrateAction.cs",
          "OpenRA.Mods.Common/Traits/World/CrateSpawner.cs",
          "OpenRA.Mods.Common/Warheads/CreateEffectWarhead.cs",
          "OpenRA.Mods.Common/UpdateRules/Rules/20200503/CreateFlashPaletteEffectWarhead.cs",
          "OpenRA.Mods.Common/UtilityCommands/CreateManPage.cs",
          "OpenRA.Mods.Common/Traits/World/CreateMapPlayers.cs",
          "OpenRA.Mods.Common/Warheads/CreateResourceWarhead.cs",
          "OpenRA.Mods.Common/UpdateRules/Rules/20200202/CreateScreenShakeWarhead.cs",
          "OpenRA.Mods.Common/Traits/CreatesShroud.cs",
          "OpenRA.Mods.Common/Traits/Multipliers/CreatesShroudMultiplier.cs",
          "OpenRA.Mods.Common/Widgets/Logic/CreditsLogic.cs",
          "OpenRA.Mods.Common/Traits/Crushable.cs",
          "OpenRA.Game/./CryptoUtil.cs",
          "OpenRA.Game/Graphics/CursorManager.cs",
          "OpenRA.Game/Graphics/CursorProvider.cs",
          "OpenRA.Game/Graphics/CursorSequence.cs",
          "OpenRA.Mods.Common/Traits/CustomSellValue.cs",
          "OpenRA.Mods.Common/Traits/Render/CustomTerrainDebugOverlay.cs",
          "OpenRA.Mods.Common/Widgets/Logic/Ingame/Hotkeys/CycleBasesHotkeyLogic.cs",
          "OpenRA.Mods.Common/Widgets/Logic/Ingame/Hotkeys/CycleHarvestersHotkeyLogic.cs",
          "OpenRA.Mods.Common/Widgets/Logic/Ingame/Hotkeys/CycleProductionActorsHotkeyLogic.cs",
          "OpenRA.Mods.Common/Widgets/Logic/Ingame/Hotkeys/CycleStatusBarsHotkeyLogic.cs",
          "OpenRA.Mods.D2k/Traits/Buildings/D2kActorPreviewPlaceBuildingPreview.cs",
          "OpenRA.Mods.D2k/Traits/Buildings/D2kBuilding.cs",
          "OpenRA.Mods.D2k/Traits/World/D2kFogPalette.cs",
          "OpenRA.Mods.D2k/UtilityCommands/D2kMapImporter.cs",
          "OpenRA.Mods.D2k/Traits/World/D2kResourceRenderer.cs",
          "OpenRA.Mods.D2k/PackageLoaders/D2kSoundResources.cs",
          "OpenRA.Mods.Common/Traits/Multipliers/DamageMultiplier.cs",
          "OpenRA.Mods.Common/Warheads/DamageWarhead.cs",
          "OpenRA.Mods.Common/Traits/DamagedByTerrain.cs",
          "OpenRA.Mods.D2k/Warheads/DamagesConcreteWarhead.cs",
          "OpenRA.Mods.Common/Scripting/Global/DateTimeGlobal.cs",
          "OpenRA.Mods.Common/SpriteLoaders/DdsLoader.cs",
          "OpenRA.Mods.Common/Traits/Sound/DeathSounds.cs",
          "OpenRA.Mods.Common/UtilityCommands/DebugChromeRegions.cs",
          "OpenRA.Mods.Common/Widgets/Logic/Ingame/DebugLogic.cs",
          "OpenRA.Mods.Common/Widgets/Logic/Ingame/DebugMenuLogic.cs",
          "OpenRA.Game/Traits/DebugPauseState.cs",
          "OpenRA.Mods.Common/Commands/DebugVisualizationCommands.cs",
          "OpenRA.Game/Traits/World/DebugVisualizations.cs",
          "OpenRA.Platforms.Default/./DefaultPlatform.cs",
          "OpenRA.Game/./DefaultPlayer.cs",
          "OpenRA.Mods.Common/Graphics/DefaultSpriteSequence.cs",
          "OpenRA.Mods.Common/Terrain/DefaultTerrain.cs",
          "OpenRA.Mods.Common/Terrain/DefaultTileCache.cs",
          "OpenRA.Game/Effects/DelayedAction.cs",
          "OpenRA.Game/Effects/DelayedImpact.cs",
          "OpenRA.Mods.Common/Activities/DeliverResources.cs",
          "OpenRA.Mods.Common/Activities/DeliverUnit.cs",
          "OpenRA.Mods.Common/Traits/DeliversCash.cs",
          "OpenRA.Mods.Common/Traits/DeliversExperience.cs",
          "OpenRA.Mods.Common/Scripting/Properties/DeliveryProperties.cs",
          "OpenRA.Mods.Common/Activities/Demolish.cs",
          "OpenRA.Mods.Common/Traits/Demolishable.cs",
          "OpenRA.Mods.Common/Traits/Demolition.cs",
          "OpenRA.Mods.Common/Scripting/Properties/DemolitionProperties.cs",
          "OpenRA.Mods.Common/Activities/DeployForGrantedCondition.cs",
          "OpenRA.Mods.Common/Orders/DeployOrderTargeter.cs",
          "OpenRA.Mods.Common/Widgets/Logic/DepthPreviewHotkeysLogic.cs",
          "OpenRA.Mods.Common/Warheads/DestroyResourceWarhead.cs",
          "OpenRA.Mods.Common/Traits/DetectCloaked.cs",
          "OpenRA.Mods.Common/Traits/Multipliers/DetectCloakedMultiplier.cs",
          "OpenRA.Mods.Common/Graphics/DetectionCircleAnnotationRenderable.cs",
          "OpenRA.Mods.Common/Commands/DevCommands.cs",
          "OpenRA.Mods.Common/Traits/Player/DeveloperMode.cs",
          "OpenRA.Mods.Common/Scripting/Properties/DiplomacyProperties.cs",
          "OpenRA.Mods.Common/Widgets/Logic/DirectConnectLogic.cs",
          "OpenRA.Mods.Common/Widgets/Logic/DisconnectWatcherLogic.cs",
          "OpenRA.Mods.Common/./DiscordService.cs",
          "OpenRA.Mods.Cnc/Traits/Disguise.cs",
          "OpenRA.Mods.Cnc/Scripting/Properties/DisguiseProperties.cs",
          "OpenRA.Mods.Common/Widgets/Logic/Settings/DisplaySettingsLogic.cs",
          "OpenRA.Game/Primitives/DisposableAction.cs",
          "OpenRA.Mods.Common/Traits/World/DomainIndex.cs",
          "OpenRA.Mods.Common/Activities/DonateCash.cs",
          "OpenRA.Mods.Common/Activities/DonateExperience.cs",
          "OpenRA.Mods.Common/Widgets/Logic/Installation/DownloadPackageLogic.cs",
          "OpenRA.Mods.Common/Activities/Move/Drag.cs",
          "OpenRA.Mods.Cnc/Traits/DrainPrerequisitePowerOnDamage.cs",
          "OpenRA.Mods.Common/Traits/Render/DrawLineToTarget.cs",
          "OpenRA.Mods.Common/Widgets/DropDownButtonWidget.cs",
          "OpenRA.Mods.Cnc/Projectiles/DropPodImpact.cs",
          "OpenRA.Mods.Cnc/Traits/SupportPowers/DropPodsPower.cs",
          "OpenRA.Mods.Common/Traits/Player/DummyBot.cs",
          "OpenRA.Platforms.Default/./DummySoundEngine.cs",
          "OpenRA.Mods.Common/UtilityCommands/DumpSequenceSheetsCommand.cs",
          "OpenRA.Mods.Common/Traits/Crates/DuplicateUnitCrateAction.cs",
          "OpenRA.Mods.Cnc/Traits/EdibleByLeap.cs",
          "OpenRA.Mods.Common/Traits/World/EditorActionManager.cs",
          "OpenRA.Mods.Common/EditorBrushes/EditorActorBrush.cs",
          "OpenRA.Mods.Common/Traits/World/EditorActorLayer.cs",
          "OpenRA.Mods.Common/Traits/World/EditorActorPreview.cs",
          "OpenRA.Mods.Common/EditorBrushes/EditorCopyPasteBrush.cs",
          "OpenRA.Mods.Common/Traits/World/EditorCursorLayer.cs",
          "OpenRA.Mods.Common/EditorBrushes/EditorDefaultBrush.cs",
          "OpenRA.Mods.Common/EditorBrushes/EditorResourceBrush.cs",
          "OpenRA.Mods.Common/Traits/World/EditorResourceLayer.cs",
          "OpenRA.Mods.Common/Traits/World/EditorSelectionLayer.cs",
          "OpenRA.Mods.Common/EditorBrushes/EditorTileBrush.cs",
          "OpenRA.Mods.Common/Widgets/EditorViewportControllerWidget.cs",
          "OpenRA.Mods.Common/Traits/EjectOnDeath.cs",
          "OpenRA.Mods.Common/Traits/World/ElevatedBridgeLayer.cs",
          "OpenRA.Mods.Common/Traits/World/ElevatedBridgePlaceholder.cs",
          "OpenRA.Mods.Common/Traits/Player/EnemyWatcher.cs",
          "OpenRA.Mods.Cnc/Traits/EnergyWall.cs",
          "OpenRA.Mods.Common/Traits/EngineerRepair.cs",
          "OpenRA.Mods.Common/Traits/EngineerRepairable.cs",
          "OpenRA.Mods.Common/Activities/Enter.cs",
          "OpenRA.Mods.Common/Orders/EnterAlliedActorTargeter.cs",
          "OpenRA.Mods.Common/Traits/EntersTunnels.cs",
          "OpenRA.Game/Support/Evaluator.cs",
          "OpenRA.Game/Support/ExceptionHandler.cs",
          "OpenRA.Mods.Common/Traits/Buildings/Exit.cs",
          "OpenRA.Mods.Common/Traits/ExitsDebugOverlay.cs",
          "OpenRA.Mods.Common/Traits/World/ExitsDebugOverlayManager.cs",
          "OpenRA.Mods.Common/Traits/ExperienceTrickler.cs",
          "OpenRA.Mods.Common/Traits/Crates/ExplodeCrateAction.cs",
          "OpenRA.Mods.Common/Traits/Explodes.cs",
          "OpenRA.Mods.Common/Traits/ExplosionOnDamageTransition.cs",
          "OpenRA.Mods.Common/Widgets/ExponentialSliderWidget.cs",
          "OpenRA.Mods.Common/UtilityCommands/Extensions.cs",
          "OpenRA.Mods.Common/Traits/Conditions/ExternalCondition.cs",
          "OpenRA.Game/./ExternalMods.cs",
          "OpenRA.Mods.Common/UtilityCommands/ExtractFilesCommand.cs",
          "OpenRA.Mods.Common/UtilityCommands/ExtractLuaDocsCommand.cs",
          "OpenRA.Mods.Common/UtilityCommands/ExtractMapRules.cs",
          "OpenRA.Mods.Common/UtilityCommands/ExtractSettingsDocsCommand.cs",
          "OpenRA.Mods.Common/UtilityCommands/ExtractTraitDocsCommand.cs",
          "OpenRA.Mods.Common/UtilityCommands/ExtractWeaponDocsCommand.cs",
          "OpenRA.Mods.Common/UtilityCommands/ExtractZeroBraneStudioLuaAPI.cs",
          "OpenRA.Game/./Exts.cs",
          "OpenRA.Game/Server/Exts.cs",
          "OpenRA.Mods.Common/Scripting/Global/FacingGlobal.cs",
          "OpenRA.Game/Traits/World/Faction.cs",
          "OpenRA.Mods.Common/Activities/Air/FallToEarth.cs",
          "OpenRA.Mods.Common/Traits/Air/FallsToEarth.cs",
          "OpenRA.Mods.Common/FileFormats/FastByteReader.cs",
          "OpenRA.Game/./FieldLoader.cs",
          "OpenRA.Game/./FieldSaver.cs",
          "OpenRA.Game/FileSystem/FileSystem.cs",
          "OpenRA.Mods.Common/Activities/FindAndDeliverResources.cs",
          "OpenRA.Mods.Common/Warheads/FireClusterWarhead.cs",
          "OpenRA.Mods.Common/Traits/Multipliers/FirepowerMultiplier.cs",
          "OpenRA.Mods.Common/Traits/Palettes/FixedColorPalette.cs",
          "OpenRA.Mods.Common/Traits/PaletteEffects/FlashPaletteEffect.cs",
          "OpenRA.Mods.Common/Warheads/FlashPaletteEffectWarhead.cs",
          "OpenRA.Mods.Common/Effects/FlashTarget.cs",
          "OpenRA.Mods.Common/Effects/FloatingText.cs",
          "OpenRA.Mods.Common/Activities/Air/Fly.cs",
          "OpenRA.Mods.Common/Activities/Air/FlyAttack.cs",
          "OpenRA.Mods.Common/Activities/Air/FlyFollow.cs",
          "OpenRA.Mods.Common/Activities/Air/FlyForward.cs",
          "OpenRA.Mods.Common/Activities/Air/FlyIdle.cs",
          "OpenRA.Mods.Common/Activities/Air/FlyOffMap.cs",
          "OpenRA.Game/FileSystem/Folder.cs",
          "OpenRA.Mods.Common/Activities/Move/Follow.cs",
          "OpenRA.Game/./Fonts.cs",
          "OpenRA.Mods.Common/Traits/Buildings/FootprintPlaceBuildingPreview.cs",
          "OpenRA.Mods.Common/Orders/ForceModifiersOrderGenerator.cs",
          "OpenRA.Platforms.Default/./FrameBuffer.cs",
          "OpenRA.Mods.Common/Traits/Buildings/FreeActor.cs",
          "OpenRA.Mods.Common/Traits/Buildings/FreeActorWithDelivery.cs",
          "OpenRA.Platforms.Default/./FreeTypeFont.cs",
          "OpenRA.Game/Traits/Player/FrozenActorLayer.cs",
          "OpenRA.Mods.Common/Traits/Modifiers/FrozenUnderFog.cs",
          "OpenRA.Mods.Cnc/Traits/FrozenUnderFogUpdatedByGps.cs",
          "OpenRA.Mods.Common/Traits/GainsExperience.cs",
          "OpenRA.Mods.Common/Traits/Multipliers/GainsExperienceMultiplier.cs",
          "OpenRA.Mods.Common/Scripting/Properties/GainsExperienceProperties.cs",
          "OpenRA.Game/./Game.cs",
          "OpenRA.Mods.Common/Widgets/Logic/Ingame/GameInfoBriefingLogic.cs",
          "OpenRA.Mods.Common/Widgets/Logic/Ingame/GameInfoLogic.cs",
          "OpenRA.Mods.Common/Widgets/Logic/Ingame/GameInfoObjectivesLogic.cs",
          "OpenRA.Mods.Common/Widgets/Logic/Ingame/GameInfoStatsLogic.cs",
          "OpenRA.Game/./GameInformation.cs",
          "OpenRA.Game/Network/GameSave.cs",
          "OpenRA.Mods.Common/Widgets/Logic/GameSaveBrowserLogic.cs",
          "OpenRA.Mods.Common/Widgets/Logic/Ingame/GameSaveLoadingLogic.cs",
          "OpenRA.Mods.Common/Traits/Player/GameSaveViewportManager.cs",
          "OpenRA.Game/Network/GameServer.cs",
          "OpenRA.Game/./GameSpeed.cs",
          "OpenRA.Mods.Common/Widgets/Logic/Ingame/GameTimerLogic.cs",
          "OpenRA.Mods.Common/Traits/Buildings/Gate.cs",
          "OpenRA.Mods.Common/Scripting/Properties/GeneralProperties.cs",
          "OpenRA.Game/Network/GeoIP.cs",
          "OpenRA.Mods.Common/UtilityCommands/GetMapHashCommand.cs",
          "OpenRA.Mods.Common/Traits/Crates/GiveCashCrateAction.cs",
          "OpenRA.Mods.Common/Traits/Crates/GiveMcvCrateAction.cs",
          "OpenRA.Mods.Common/Traits/Crates/GiveUnitCrateAction.cs",
          "OpenRA.Mods.Common/Traits/GivesBounty.cs",
          "OpenRA.Mods.Common/Traits/Buildings/GivesBuildableArea.cs",
          "OpenRA.Mods.Common/Traits/GivesCashOnCapture.cs",
          "OpenRA.Mods.Common/Traits/GivesExperience.cs",
          "OpenRA.Mods.Common/Traits/Multipliers/GivesExperienceMultiplier.cs",
          "OpenRA.Mods.Cnc/UtilityCommands/Glob.cs",
          "OpenRA.Mods.Common/Orders/GlobalButtonOrderGenerator.cs",
          "OpenRA.Mods.Common/Traits/PaletteEffects/GlobalLightingPaletteEffect.cs",
          "OpenRA.Mods.Cnc/Traits/GpsDot.cs",
          "OpenRA.Mods.Cnc/Effects/GpsDotEffect.cs",
          "OpenRA.Mods.Cnc/Traits/SupportPowers/GpsPower.cs",
          "OpenRA.Mods.Cnc/Effects/GpsSatellite.cs",
          "OpenRA.Mods.Cnc/Traits/GpsWatcher.cs",
          "OpenRA.Mods.Common/Widgets/GradientColorBlockWidget.cs",
          "OpenRA.Mods.Common/Traits/Conditions/GrantCondition.cs",
          "OpenRA.Mods.Common/Traits/Conditions/GrantConditionOnAttack.cs",
          "OpenRA.Mods.Common/Traits/Conditions/GrantConditionOnBotOwner.cs",
          "OpenRA.Mods.Common/Traits/Conditions/GrantConditionOnCombatantOwner.cs",
          "OpenRA.Mods.Common/Traits/Conditions/GrantConditionOnDamageState.cs",
          "OpenRA.Mods.Common/Traits/Conditions/GrantConditionOnDeploy.cs",
          "OpenRA.Mods.Common/Traits/Conditions/GrantConditionOnFaction.cs",
          "OpenRA.Mods.Common/Traits/Conditions/GrantConditionOnHealth.cs",
          "OpenRA.Mods.Common/Traits/Conditions/GrantConditionOnJumpjetLayer.cs",
          "OpenRA.Mods.Common/Traits/Conditions/GrantConditionOnLayer.cs",
          "OpenRA.Mods.Common/Traits/Conditions/GrantConditionOnLineBuildDirection.cs",
          "OpenRA.Mods.Common/Traits/Conditions/GrantConditionOnMovement.cs",
          "OpenRA.Mods.Common/Traits/Conditions/GrantConditionOnPlayerResources.cs",
          "OpenRA.Mods.Common/Traits/Conditions/GrantConditionOnPowerState.cs",
          "OpenRA.Mods.Common/Traits/Conditions/GrantConditionOnPrerequisite.cs",
          "OpenRA.Mods.Common/Traits/Player/GrantConditionOnPrerequisiteManager.cs",
          "OpenRA.Mods.Common/Traits/Conditions/GrantConditionOnProduction.cs",
          "OpenRA.Mods.Common/Traits/Conditions/GrantConditionOnSubterraneanLayer.cs",
          "OpenRA.Mods.Common/Traits/Conditions/GrantConditionOnTerrain.cs",
          "OpenRA.Mods.Common/Traits/Conditions/GrantConditionOnTileSet.cs",
          "OpenRA.Mods.Common/Traits/Conditions/GrantConditionOnTunnelLayer.cs",
          "OpenRA.Mods.Common/Traits/Conditions/GrantConditionWhileAiming.cs",
          "OpenRA.Mods.Common/Traits/Crates/GrantExternalConditionCrateAction.cs",
          "OpenRA.Mods.Common/Traits/SupportPowers/GrantExternalConditionPower.cs",
          "OpenRA.Mods.Common/Traits/Conditions/GrantExternalConditionToCrusher.cs",
          "OpenRA.Mods.Common/Traits/Conditions/GrantExternalConditionToProduced.cs",
          "OpenRA.Mods.Common/Warheads/GrantExternalConditionWarhead.cs",
          "OpenRA.Mods.Cnc/Traits/SupportPowers/GrantPrerequisiteChargeDrainPower.cs",
          "OpenRA.Mods.Common/Traits/Conditions/GrantRandomCondition.cs",
          "OpenRA.Mods.Common/Projectiles/GravityBomb.cs",
          "OpenRA.Mods.Common/Widgets/GridLayout.cs",
          "OpenRA.Mods.Common/Traits/Buildings/GroundLevelBridge.cs",
          "OpenRA.Mods.Common/Traits/BotModules/Squads/States/GroundStates.cs",
          "OpenRA.Mods.Common/Traits/Guard.cs",
          "OpenRA.Mods.Common/Orders/GuardOrderGenerator.cs",
          "OpenRA.Mods.Common/Scripting/Properties/GuardProperties.cs",
          "OpenRA.Mods.Common/Traits/Guardable.cs",
          "OpenRA.Mods.Common/Traits/Multipliers/HandicapDamageMultiplier.cs",
          "OpenRA.Mods.Common/Traits/Multipliers/HandicapFirepowerMultiplier.cs",
          "OpenRA.Mods.Common/Traits/Multipliers/HandicapProductionTimeMultiplier.cs",
          "OpenRA.Game/Network/Handshake.cs",
          "OpenRA.Game/Graphics/HardwarePalette.cs",
          "OpenRA.Mods.Common/Activities/HarvestResource.cs",
          "OpenRA.Mods.Common/Traits/Harvester.cs",
          "OpenRA.Mods.Common/Traits/Player/HarvesterAttackNotifier.cs",
          "OpenRA.Mods.Common/Traits/BotModules/HarvesterBotModule.cs",
          "OpenRA.Mods.Common/Activities/HarvesterDockSequence.cs",
          "OpenRA.Mods.Cnc/Traits/HarvesterHuskModifier.cs",
          "OpenRA.Mods.D2k/Traits/Player/HarvesterInsurance.cs",
          "OpenRA.Mods.Common/Scripting/Properties/HarvesterProperties.cs",
          "OpenRA.Mods.Common/Traits/Crates/HealActorsCrateAction.cs",
          "OpenRA.Mods.Common/Traits/Health.cs",
          "OpenRA.Mods.Common/Warheads/HealthPercentageDamageWarhead.cs",
          "OpenRA.Mods.Common/Scripting/Properties/HealthProperties.cs",
          "OpenRA.Mods.Common/Commands/HelpCommand.cs",
          "OpenRA.Mods.Common/Traits/Modifiers/HiddenUnderFog.cs",
          "OpenRA.Mods.Common/Traits/Modifiers/HiddenUnderShroud.cs",
          "OpenRA.Mods.Common/Traits/Crates/HideMapCrateAction.cs",
          "OpenRA.Mods.Common/Widgets/Logic/Editor/HistoryLogLogic.cs",
          "OpenRA.Mods.Common/Traits/HitShape.cs",
          "OpenRA.Game/Input/Hotkey.cs",
          "OpenRA.Game/./HotkeyDefinition.cs",
          "OpenRA.Mods.Common/Widgets/HotkeyEntryWidget.cs",
          "OpenRA.Game/./HotkeyManager.cs",
          "OpenRA.Game/Input/HotkeyReference.cs",
          "OpenRA.Mods.Common/Widgets/Logic/Settings/HotkeysSettingsLogic.cs",
          "OpenRA.Mods.Common/Traits/Render/Hovers.cs",
          "OpenRA.Game/Support/HttpClientFactory.cs",
          "OpenRA.Game/./HttpExtension.cs",
          "OpenRA.Game/Support/HttpQueryBuilder.cs",
          "OpenRA.Mods.Common/Activities/Hunt.cs",
          "OpenRA.Mods.Common/Traits/Huntable.cs",
          "OpenRA.Mods.Common/Traits/Husk.cs",
          "OpenRA.Mods.Cnc/FileFormats/HvaReader.cs",
          "OpenRA.Game/Effects/IEffect.cs",
          "OpenRA.Mods.Common/HitShapes/IHitShape.cs",
          "OpenRA.Game/Input/IInputHandler.cs",
          "OpenRA.Game/Primitives/IObservableCollection.cs",
          "OpenRA.Game/Orders/IOrderGenerator.cs",
          "OpenRA.Game/FileSystem/IPackage.cs",
          "OpenRA.Platforms.Default/./ITextureInternal.cs",
          "OpenRA.Game/./IUtilityCommand.cs",
          "OpenRA.Mods.Cnc/FileFormats/IdxEntry.cs",
          "OpenRA.Mods.Cnc/FileFormats/IdxReader.cs",
          "OpenRA.Mods.Common/Traits/IgnoresCloak.cs",
          "OpenRA.Mods.Common/Traits/IgnoresDisguise.cs",
          "OpenRA.Mods.Common/FileFormats/ImaAdpcmReader.cs",
          "OpenRA.Mods.Common/Widgets/ImageWidget.cs",
          "OpenRA.Mods.Common/Traits/Immobile.cs",
          "OpenRA.Mods.D2k/UtilityCommands/ImportD2kMapCommand.cs",
          "OpenRA.Mods.Common/UtilityCommands/ImportLegacyMapCommand.cs",
          "OpenRA.Mods.Cnc/UtilityCommands/ImportRedAlertLegacyMapCommand.cs",
          "OpenRA.Mods.Cnc/UtilityCommands/ImportTSMapCommand.cs",
          "OpenRA.Mods.Cnc/UtilityCommands/ImportTiberianDawnLegacyMapCommand.cs",
          "OpenRA.Mods.Common/Traits/Multipliers/InaccuracyMultiplier.cs",
          "OpenRA.Mods.Common/Traits/Palettes/IndexedPalette.cs",
          "OpenRA.Mods.Common/Traits/Palettes/IndexedPlayerPalette.cs",
          "OpenRA.Mods.Cnc/Activities/Infiltrate.cs",
          "OpenRA.Mods.Cnc/Traits/Infiltration/InfiltrateForCash.cs",
          "OpenRA.Mods.Cnc/Traits/Infiltration/InfiltrateForDecoration.cs",
          "OpenRA.Mods.Cnc/Traits/Infiltration/InfiltrateForExploration.cs",
          "OpenRA.Mods.Cnc/Traits/Infiltration/InfiltrateForPowerOutage.cs",
          "OpenRA.Mods.Cnc/Traits/Infiltration/InfiltrateForSupportPower.cs",
          "OpenRA.Mods.Cnc/Traits/Infiltration/InfiltrateForSupportPowerReset.cs",
          "OpenRA.Mods.Cnc/Traits/Infiltration/InfiltrateForTransform.cs",
          "OpenRA.Mods.Cnc/Scripting/Properties/InfiltrateProperties.cs",
          "OpenRA.Mods.Cnc/Traits/Infiltration/Infiltrates.cs",
          "OpenRA.Mods.Common/Widgets/Logic/Ingame/IngameCashCounterLogic.cs",
          "OpenRA.Mods.Common/Widgets/Logic/Ingame/IngameChatLogic.cs",
          "OpenRA.Mods.Common/Widgets/Logic/Ingame/IngameMenuLogic.cs",
          "OpenRA.Mods.Common/Widgets/Logic/Ingame/IngamePowerBarLogic.cs",
          "OpenRA.Mods.Common/Widgets/Logic/Ingame/IngamePowerCounterLogic.cs",
          "OpenRA.Mods.Common/Widgets/Logic/Ingame/IngameRadarDisplayLogic.cs",
          "OpenRA.Mods.Common/Widgets/Logic/Ingame/IngameSiloBarLogic.cs",
          "OpenRA.Mods.Common/Widgets/Logic/Ingame/IngameTransientNotificationsLogic.cs",
          "OpenRA.Mods.Common/FileFormats/IniFile.cs",
          "OpenRA.Game/Input/InputHandler.cs",
          "OpenRA.Mods.Common/Widgets/Logic/Settings/InputSettingsLogic.cs",
          "OpenRA.Mods.Common/Widgets/Logic/Installation/InstallFromDiscLogic.cs",
          "OpenRA.Mods.Common/FileFormats/InstallShieldCABCompression.cs",
          "OpenRA.Mods.Common/FileSystem/InstallShieldPackage.cs",
          "OpenRA.Game/./InstalledMods.cs",
          "OpenRA.Mods.Common/Projectiles/InstantHit.cs",
          "OpenRA.Game/Primitives/Int32Matrix4x4.cs",
          "OpenRA.Mods.Common/Traits/Interactable.cs",
          "OpenRA.Mods.Common/Widgets/Logic/IntroductionPromptLogic.cs",
          "OpenRA.Mods.Cnc/Projectiles/IonCannon.cs",
          "OpenRA.Mods.Cnc/Traits/SupportPowers/IonCannonPower.cs",
          "OpenRA.Mods.Cnc/Scripting/Properties/IonCannonProperties.cs",
          "OpenRA.Mods.Common/Traits/IsometricSelectable.cs",
          "OpenRA.Mods.Common/Graphics/IsometricSelectionBarsAnnotationRenderable.cs",
          "OpenRA.Mods.Common/Graphics/IsometricSelectionBoxAnnotationRenderable.cs",
          "OpenRA.Mods.Common/Traits/Render/IsometricSelectionDecorations.cs",
          "OpenRA.Mods.Common/Traits/JamsMissiles.cs",
          "OpenRA.Mods.Common/Widgets/Logic/Ingame/Hotkeys/JumpToLastEventHotkeyLogic.cs",
          "OpenRA.Mods.Common/Widgets/Logic/Ingame/Hotkeys/JumpToSelectedActorsHotkeyLogic.cs",
          "OpenRA.Mods.Common/Traits/World/JumpjetActorLayer.cs",
          "OpenRA.Mods.Common/Traits/World/JumpjetLocomotor.cs",
          "OpenRA.Game/Input/Keycode.cs",
          "OpenRA.Mods.Common/Widgets/Logic/Lobby/KickClientLogic.cs",
          "OpenRA.Mods.Common/Widgets/Logic/Lobby/KickSpectatorsLogic.cs",
          "OpenRA.Mods.Common/Traits/KillsSelf.cs",
          "OpenRA.Mods.Cnc/FileFormats/LCWCompression.cs",
          "OpenRA.Mods.Cnc/FileFormats/LZOCompression.cs",
          "OpenRA.Mods.Common/Widgets/LabelWidget.cs",
          "OpenRA.Mods.Common/Widgets/LabelWithHighlightWidget.cs",
          "OpenRA.Mods.Common/Widgets/LabelWithTooltipWidget.cs",
          "OpenRA.Mods.Common/Activities/Air/Land.cs",
          "OpenRA.Mods.Common/Projectiles/LaserZap.cs",
          "OpenRA.Mods.Common/Widgets/Logic/Lobby/LatencyTooltipLogic.cs",
          "OpenRA.Game/Support/LaunchArguments.cs",
          "OpenRA.Mods.Cnc/Activities/LayMines.cs",
          "OpenRA.Mods.Common/Widgets/Logic/Editor/LayerSelectorLogic.cs",
          "OpenRA.Mods.Cnc/Activities/Leap.cs",
          "OpenRA.Mods.Cnc/Activities/LeapAttack.cs",
          "OpenRA.Mods.Common/Warheads/LeaveSmudgeWarhead.cs",
          "OpenRA.Mods.Common/Traits/Render/LeavesTrails.cs",
          "OpenRA.Mods.Common/Traits/Buildings/LegacyBridgeHut.cs",
          "OpenRA.Mods.Common/Traits/World/LegacyBridgeLayer.cs",
          "OpenRA.Mods.Cnc/UtilityCommands/LegacyRulesImporter.cs",
          "OpenRA.Mods.Cnc/UtilityCommands/LegacySequenceImporter.cs",
          "OpenRA.Mods.Cnc/UtilityCommands/LegacyTilesetImporter.cs",
          "OpenRA.Mods.Common/Traits/Crates/LevelUpCrateAction.cs",
          "OpenRA.Mods.Cnc/Traits/PaletteEffects/LightPaletteRotator.cs",
          "OpenRA.Mods.Common/Scripting/Global/LightingGlobal.cs",
          "OpenRA.Mods.Common/Graphics/LineAnnotationRenderable.cs",
          "OpenRA.Mods.Common/Traits/Buildings/LineBuild.cs",
          "OpenRA.Mods.Common/Traits/Buildings/LineBuildNode.cs",
          "OpenRA.Mods.Common/Traits/Conditions/LineBuildSegmentExternalCondition.cs",
          "OpenRA.Mods.Common/Widgets/LineGraphWidget.cs",
          "OpenRA.Game/Traits/LintAttributes.cs",
          "OpenRA.Mods.Common/Traits/LintAttributes.cs",
          "OpenRA.Mods.Common/Lint/LintBuildablePrerequisites.cs",
          "OpenRA.Mods.Common/Lint/LintExts.cs",
          "OpenRA.Mods.Common/UtilityCommands/LintInterfaces.cs",
          "OpenRA.Mods.Common/UtilityCommands/ListInstallShieldCabContentsCommand.cs",
          "OpenRA.Mods.Common/UtilityCommands/ListInstallShieldContentsCommand.cs",
          "OpenRA.Mods.Common/Widgets/ListLayout.cs",
          "OpenRA.Mods.Common/UtilityCommands/ListMSCabContentsCommand.cs",
          "OpenRA.Mods.Cnc/UtilityCommands/ListMixContentsCommand.cs",
          "OpenRA.Mods.Common/Widgets/Logic/Ingame/LoadIngameChatLogic.cs",
          "OpenRA.Mods.Common/Widgets/Logic/Ingame/LoadIngamePerfLogic.cs",
          "OpenRA.Mods.Common/Widgets/Logic/Ingame/LoadIngamePlayerOrObserverUILogic.cs",
          "OpenRA.Mods.Common/Widgets/Logic/Ingame/LoadMapEditorLogic.cs",
          "OpenRA.Mods.Common/Traits/World/LoadWidgetAtGameStart.cs",
          "OpenRA.Mods.Common/ServerTraits/LobbyCommands.cs",
          "OpenRA.Mods.Common/Widgets/Logic/Lobby/LobbyLogic.cs",
          "OpenRA.Mods.Common/Widgets/Logic/Lobby/LobbyOptionsLogic.cs",
          "OpenRA.Mods.Common/Traits/Player/LobbyPrerequisiteCheckbox.cs",
          "OpenRA.Mods.Common/ServerTraits/LobbySettingsNotification.cs",
          "OpenRA.Mods.Common/Widgets/Logic/Lobby/LobbyUtils.cs",
          "OpenRA.Mods.Common/Activities/Move/LocalMoveIntoTarget.cs",
          "OpenRA.Game/./LocalPlayerProfile.cs",
          "OpenRA.Mods.Common/Traits/World/Locomotor.cs",
          "OpenRA.Game/Support/Log.cs",
          "OpenRA.Game/./LogProxy.cs",
          "OpenRA.Mods.Common/Widgets/LogicKeyListenerWidget.cs",
          "OpenRA.Mods.Common/Widgets/LogicTickerWidget.cs",
          "OpenRA.Mods.Common/LoadScreens/LogoStripeLoadScreen.cs",
          "OpenRA.Game/Primitives/LongBitSet.cs",
          "OpenRA.Mods.Common/Scripting/LuaScript.cs",
          "OpenRA.Game/./MPos.cs",
          "OpenRA.Mods.Common/FileFormats/MSCabCompression.cs",
          "OpenRA.Mods.Cnc/Traits/MadTank.cs",
          "OpenRA.Mods.Common/Widgets/Logic/MainMenuLogic.cs",
          "OpenRA.Game/./Manifest.cs",
          "OpenRA.Game/Map/Map.cs",
          "OpenRA.Mods.Common/Traits/World/MapBuildRadius.cs",
          "OpenRA.Game/Map/MapCache.cs",
          "OpenRA.Mods.Common/Widgets/Logic/MapChooserLogic.cs",
          "OpenRA.Game/Map/MapCoordsRegion.cs",
          "OpenRA.Mods.Common/Traits/World/MapCreeps.cs",
          "OpenRA.Mods.Common/Traits/MapEditorData.cs",
          "OpenRA.Mods.Common/Widgets/Logic/Editor/MapEditorLogic.cs",
          "OpenRA.Mods.Common/Widgets/Logic/Editor/MapEditorTabsLogic.cs",
          "OpenRA.Mods.Common/Scripting/Global/MapGlobal.cs",
          "OpenRA.Game/Map/MapGrid.cs",
          "OpenRA.Mods.Common/Effects/MapNotificationEffect.cs",
          "OpenRA.Mods.Common/Traits/World/MapOptions.cs",
          "OpenRA.Game/Map/MapPlayers.cs",
          "OpenRA.Game/Map/MapPreview.cs",
          "OpenRA.Mods.Common/Widgets/Logic/Lobby/MapPreviewLogic.cs",
          "OpenRA.Mods.Common/Widgets/MapPreviewWidget.cs",
          "OpenRA.Mods.Common/Traits/World/MapStartingLocations.cs",
          "OpenRA.Mods.Common/Traits/World/MapStartingUnits.cs",
          "OpenRA.Game/Server/MapStatusCache.cs",
          "OpenRA.Mods.Common/ServerTraits/MasterServerPinger.cs",
          "OpenRA.Mods.Common/Traits/BotModules/McvManagerBotModule.cs",
          "OpenRA.Mods.Common/Scripting/Media.cs",
          "OpenRA.Mods.Common/Scripting/Global/MediaGlobal.cs",
          "OpenRA.Mods.Cnc/FileSystem/MegFile.cs",
          "OpenRA.Mods.Common/Widgets/MenuButtonWidget.cs",
          "OpenRA.Mods.Common/Widgets/Logic/Ingame/MenuButtonsChromeLogic.cs",
          "OpenRA.Mods.Common/Traits/PaletteEffects/MenuPaletteEffect.cs",
          "OpenRA.Game/Primitives/MergedStream.cs",
          "OpenRA.Game/Support/MersenneTwister.cs",
          "OpenRA.Mods.Cnc/Traits/Mine.cs",
          "OpenRA.Mods.Cnc/Traits/Minelayer.cs",
          "OpenRA.Game/./MiniYaml.cs",
          "OpenRA.Test/OpenRA.Game/MiniYamlTest.cs",
          "OpenRA.Mods.Common/Projectiles/Missile.cs",
          "OpenRA.Mods.Common/Widgets/Logic/MissionBrowserLogic.cs",
          "OpenRA.Mods.Common/Traits/World/MissionData.cs",
          "OpenRA.Mods.Common/Scripting/Properties/MissionObjectiveProperties.cs",
          "OpenRA.Mods.Common/Traits/Player/MissionObjectives.cs",
          "OpenRA.Mods.Cnc/FileSystem/MixFile.cs",
          "OpenRA.Mods.Common/Traits/Mobile.cs",
          "OpenRA.Mods.Common/Scripting/Properties/MobileProperties.cs",
          "OpenRA.Mods.Common/./ModContent.cs",
          "OpenRA.Mods.Common/Widgets/Logic/Installation/ModContentDiscTooltipLogic.cs",
          "OpenRA.Mods.Common/LoadScreens/ModContentLoadScreen.cs",
          "OpenRA.Mods.Common/Widgets/Logic/Installation/ModContentLogic.cs",
          "OpenRA.Mods.Common/Widgets/Logic/Installation/ModContentPromptLogic.cs",
          "OpenRA.Mods.Common/./ModCredits.cs",
          "OpenRA.Game/./ModData.cs",
          "OpenRA.Game/Graphics/Model.cs",
          "OpenRA.Mods.Common/Graphics/ModelActorPreview.cs",
          "OpenRA.Game/Graphics/ModelAnimation.cs",
          "OpenRA.Mods.Common/Graphics/ModelRenderable.cs",
          "OpenRA.Game/Graphics/ModelRenderer.cs",
          "OpenRA.Mods.Common/Widgets/ModelWidget.cs",
          "OpenRA.Mods.Common/UpdateRules/Rules/20200503/ModernizeDecorationTraits.cs",
          "OpenRA.Mods.Common/Traits/Player/ModularBot.cs",
          "OpenRA.Mods.Common/Widgets/MouseAttachmentWidget.cs",
          "OpenRA.Mods.Common/Activities/Move/Move.cs",
          "OpenRA.Mods.Common/Activities/Move/MoveAdjacentTo.cs",
          "OpenRA.Mods.Common/UpdateRules/Rules/20200503/MoveClassicFacingFudge.cs",
          "OpenRA.Mods.Common/Activities/Move/MoveWithinRange.cs",
          "OpenRA.Mods.Common/AudioLoaders/Mp3Loader.cs",
          "OpenRA.Platforms.Default/./MultiTapDetection.cs",
          "OpenRA.Mods.Common/Widgets/Logic/MultiplayerLogic.cs",
          "OpenRA.Mods.Common/Widgets/Logic/MusicHotkeyLogic.cs",
          "OpenRA.Game/GameRules/MusicInfo.cs",
          "OpenRA.Mods.Common/Widgets/Logic/MusicPlayerLogic.cs",
          "OpenRA.Mods.Common/Traits/World/MusicPlaylist.cs",
          "OpenRA.Mods.Common/Traits/MustBeDestroyed.cs",
          "OpenRA.Mods.Common/Widgets/Logic/MuteHotkeyLogic.cs",
          "OpenRA.Mods.Common/Widgets/Logic/MuteIndicatorLogic.cs",
          "OpenRA.Game/Network/Nat.cs",
          "OpenRA.Mods.Common/Traits/BotModules/Squads/States/NavyStates.cs",
          "OpenRA.Mods.Common/Widgets/Logic/Editor/NewMapLogic.cs",
          "OpenRA.Mods.Common/Projectiles/NukeLaunch.cs",
          "OpenRA.Mods.Common/Traits/SupportPowers/NukePower.cs",
          "OpenRA.Mods.Common/Scripting/Properties/NukeProperties.cs",
          "OpenRA.Game/./ObjectCreator.cs",
          "OpenRA.Game/Primitives/ObservableCollection.cs",
          "OpenRA.Game/Primitives/ObservableDictionary.cs",
          "OpenRA.Game/Primitives/ObservableList.cs",
          "OpenRA.Mods.Common/Widgets/ObserverArmyIconsWidget.cs",
          "OpenRA.Mods.Common/Widgets/ObserverProductionIconsWidget.cs",
          "OpenRA.Mods.Common/Widgets/Logic/Ingame/ObserverShroudSelectorLogic.cs",
          "OpenRA.Mods.Common/Widgets/Logic/Ingame/ObserverStatsLogic.cs",
          "OpenRA.Mods.Common/Widgets/ObserverSupportPowerIconsWidget.cs",
          "OpenRA.Mods.Common/AudioLoaders/OggLoader.cs",
          "OpenRA.Platforms.Default/./OpenAlSoundEngine.cs",
          "OpenRA.Platforms.Default/./OpenGL.cs",
          "OpenRA.Game/Network/Order.cs",
          "OpenRA.Mods.Common/Widgets/Logic/Ingame/OrderButtonsChromeLogic.cs",
          "OpenRA.Mods.Common/Traits/World/OrderEffects.cs",
          "OpenRA.Mods.Common/Orders/OrderGenerator.cs",
          "OpenRA.Game/Network/OrderIO.cs",
          "OpenRA.Game/Network/OrderManager.cs",
          "OpenRA.Test/OpenRA.Game/OrderTest.cs",
          "OpenRA.Mods.Common/UtilityCommands/OutputResolvedRulesCommand.cs",
          "OpenRA.Mods.Common/UtilityCommands/OutputResolvedSequencesCommand.cs",
          "OpenRA.Mods.Common/UtilityCommands/OutputResolvedWeaponsCommand.cs",
          "OpenRA.Mods.Common/Traits/OwnerLostAction.cs",
          "OpenRA.Mods.Cnc/FileSystem/PackageEntry.cs",
          "OpenRA.Mods.Cnc/FileSystem/Pak.cs",
          "OpenRA.Game/Graphics/Palette.cs",
          "OpenRA.Mods.Common/Traits/Palettes/PaletteFromEmbeddedSpritePalette.cs",
          "OpenRA.Mods.Common/Traits/Palettes/PaletteFromFile.cs",
          "OpenRA.Mods.Common/Traits/Palettes/PaletteFromGimpOrJascFile.cs",
          "OpenRA.Mods.Common/Traits/Palettes/PaletteFromPaletteWithAlpha.cs",
          "OpenRA.Mods.Common/Traits/Palettes/PaletteFromPlayerPaletteWithAlpha.cs",
          "OpenRA.Mods.Common/Traits/Palettes/PaletteFromPng.cs",
          "OpenRA.Mods.Common/Traits/Palettes/PaletteFromRGBA.cs",
          "OpenRA.Mods.D2k/Traits/World/PaletteFromScaledPalette.cs",
          "OpenRA.Game/Graphics/PaletteReference.cs",
          "OpenRA.Mods.Common/Traits/ParaDrop.cs",
          "OpenRA.Mods.Common/Traits/Parachutable.cs",
          "OpenRA.Mods.Common/Activities/Parachute.cs",
          "OpenRA.Mods.Common/Scripting/Properties/ParadropProperties.cs",
          "OpenRA.Mods.Common/Traits/Player/ParallelProductionQueue.cs",
          "OpenRA.Mods.Common/Traits/SupportPowers/ParatroopersPower.cs",
          "OpenRA.Mods.Common/Scripting/Properties/ParatroopersProperties.cs",
          "OpenRA.Mods.Common/Traits/Passenger.cs",
          "OpenRA.Mods.Common/Widgets/PasswordFieldWidget.cs",
          "OpenRA.Mods.Common/Traits/World/PathFinder.cs",
          "OpenRA.Mods.Common/Pathfinder/PathGraph.cs",
          "OpenRA.Mods.Common/Pathfinder/PathSearch.cs",
          "OpenRA.Mods.Common/Traits/Conditions/PausableConditionalTrait.cs",
          "OpenRA.Mods.Common/Widgets/Logic/Ingame/Hotkeys/PauseHotkeyLogic.cs",
          "OpenRA.Mods.Common/Widgets/Logic/PerfDebugLogic.cs",
          "OpenRA.Mods.Common/Widgets/PerfGraphWidget.cs",
          "OpenRA.Game/Support/PerfHistory.cs",
          "OpenRA.Game/Support/PerfItem.cs",
          "OpenRA.Game/Support/PerfSample.cs",
          "OpenRA.Game/Support/PerfTickLogger.cs",
          "OpenRA.Game/Support/PerfTimer.cs",
          "OpenRA.Mods.Common/Activities/PickupUnit.cs",
          "OpenRA.Mods.Common/Traits/Player/PlaceBeacon.cs",
          "OpenRA.Mods.Common/Traits/Player/PlaceBuilding.cs",
          "OpenRA.Mods.Common/Orders/PlaceBuildingOrderGenerator.cs",
          "OpenRA.Mods.Common/Traits/Buildings/PlaceBuildingVariants.cs",
          "OpenRA.Game/./Platform.cs",
          "OpenRA.Game/Graphics/PlatformInterfaces.cs",
          "OpenRA.Test/OpenRA.Game/PlatformTest.cs",
          "OpenRA.Game/./Player.cs",
          "OpenRA.Mods.Common/Traits/Palettes/PlayerColorPalette.cs",
          "OpenRA.Game/Graphics/PlayerColorRemap.cs",
          "OpenRA.Mods.Common/Commands/PlayerCommands.cs",
          "OpenRA.Mods.Common/Scripting/Properties/PlayerConditionProperties.cs",
          "OpenRA.Game/./PlayerDatabase.cs",
          "OpenRA.Game/Primitives/PlayerDictionary.cs",
          "OpenRA.Mods.Common/Traits/Player/PlayerExperience.cs",
          "OpenRA.Mods.Common/Scripting/Properties/PlayerExperienceProperties.cs",
          "OpenRA.Mods.Common/./PlayerExtensions.cs",
          "OpenRA.Mods.Common/Scripting/Global/PlayerGlobal.cs",
          "OpenRA.Mods.Common/ServerTraits/PlayerPinger.cs",
          "OpenRA.Game/./PlayerProfile.cs",
          "OpenRA.Mods.Common/Widgets/Logic/PlayerProfileLogic.cs",
          "OpenRA.Mods.Common/Scripting/Properties/PlayerProperties.cs",
          "OpenRA.Mods.Common/Traits/Player/PlayerRadarTerrain.cs",
          "OpenRA.Game/Map/PlayerReference.cs",
          "OpenRA.Mods.Common/Traits/Player/PlayerResources.cs",
          "OpenRA.Mods.Common/Traits/Player/PlayerStatistics.cs",
          "OpenRA.Mods.Common/Scripting/Properties/PlayerStatsProperties.cs",
          "OpenRA.Mods.Common/Traits/Plug.cs",
          "OpenRA.Mods.Common/Traits/Pluggable.cs",
          "OpenRA.Game/FileFormats/Png.cs",
          "OpenRA.Mods.Common/UtilityCommands/PngSheetExportMetadataCommand.cs",
          "OpenRA.Mods.Common/UtilityCommands/PngSheetImportMetadataCommand.cs",
          "OpenRA.Mods.Common/SpriteLoaders/PngSheetLoader.cs",
          "OpenRA.Mods.Common/HitShapes/Polygon.cs",
          "OpenRA.Game/Primitives/Polygon.cs",
          "OpenRA.Mods.Common/Graphics/PolygonAnnotationRenderable.cs",
          "OpenRA.Mods.Cnc/Traits/PortableChrono.cs",
          "OpenRA.Mods.Common/Traits/Power/Power.cs",
          "OpenRA.Mods.Common/Traits/Power/Player/PowerManager.cs",
          "OpenRA.Mods.Common/Traits/Multipliers/PowerMultiplier.cs",
          "OpenRA.Mods.Common/Scripting/Properties/PowerProperties.cs",
          "OpenRA.Mods.Common/Traits/PowerTooltip.cs",
          "OpenRA.Mods.Cnc/Widgets/Logic/PreReleaseWarningPrompt.cs",
          "OpenRA.Mods.Common/Traits/Buildings/PrimaryBuilding.cs",
          "OpenRA.Game/Primitives/PriorityQueue.cs",
          "OpenRA.Test/OpenRA.Game/PriorityQueueTest.cs",
          "OpenRA.Mods.Common/Traits/SupportPowers/ProduceActorPower.cs",
          "OpenRA.Mods.Common/Traits/ProducibleWithLevel.cs",
          "OpenRA.Mods.Common/Traits/Production.cs",
          "OpenRA.Mods.Common/Traits/Buildings/ProductionAirdrop.cs",
          "OpenRA.Mods.Common/Traits/Render/ProductionBar.cs",
          "OpenRA.Mods.Common/Traits/Multipliers/ProductionCostMultiplier.cs",
          "OpenRA.Mods.Common/Traits/ProductionFromMapEdge.cs",
          "OpenRA.Mods.Common/Widgets/ProductionPaletteWidget.cs",
          "OpenRA.Mods.Common/Traits/ProductionParadrop.cs",
          "OpenRA.Mods.Common/Scripting/Properties/ProductionProperties.cs",
          "OpenRA.Mods.Common/Traits/Player/ProductionQueue.cs",
          "OpenRA.Mods.Common/Traits/ProductionQueueFromSelection.cs",
          "OpenRA.Mods.Common/Widgets/Logic/Ingame/ProductionTabsLogic.cs",
          "OpenRA.Mods.Common/Widgets/ProductionTabsWidget.cs",
          "OpenRA.Mods.Common/Traits/Multipliers/ProductionTimeMultiplier.cs",
          "OpenRA.Mods.Common/Widgets/Logic/Ingame/ProductionTooltipLogic.cs",
          "OpenRA.Mods.Common/Widgets/ProductionTypeButtonWidget.cs",
          "OpenRA.Launcher/./Program.cs",
          "OpenRA.Server/./Program.cs",
          "OpenRA.Utility/./Program.cs",
          "OpenRA.WindowsLauncher/./Program.cs",
          "OpenRA.Game/Support/Program.cs",
          "OpenRA.Mods.Common/Widgets/ProgressBarWidget.cs",
          "OpenRA.Game/Map/ProjectedCellLayer.cs",
          "OpenRA.Game/Map/ProjectedCellRegion.cs",
          "OpenRA.Mods.Common/Traits/BotModules/Squads/States/ProtectionStates.cs",
          "OpenRA.Game/Server/ProtocolVersion.cs",
          "OpenRA.Mods.Common/Traits/Player/ProvidesPrerequisite.cs",
          "OpenRA.Mods.Common/Traits/Radar/ProvidesRadar.cs",
          "OpenRA.Mods.Common/Traits/Player/ProvidesTechPrerequisite.cs",
          "OpenRA.Mods.Common/Traits/ProximityCaptor.cs",
          "OpenRA.Mods.Common/Traits/ProximityCapturable.cs",
          "OpenRA.Mods.Common/Traits/Conditions/ProximityExternalCondition.cs",
          "OpenRA.Mods.Common/Traits/QuantizeFacingsFromSequence.cs",
          "OpenRA.Mods.D2k/SpriteLoaders/R8Loader.cs",
          "OpenRA.Mods.Common/Widgets/RGBASpriteWidget.cs",
          "OpenRA.Mods.Common/FileFormats/RLEZerosCompression.cs",
          "OpenRA.Mods.Common/Traits/Radar/RadarColorFromTerrain.cs",
          "OpenRA.Mods.Common/Scripting/Global/RadarGlobal.cs",
          "OpenRA.Mods.Common/Traits/World/RadarPings.cs",
          "OpenRA.Mods.Common/Widgets/RadarWidget.cs",
          "OpenRA.Mods.Common/Projectiles/Railgun.cs",
          "OpenRA.Mods.Common/Graphics/RailgunRenderable.cs",
          "OpenRA.Mods.Common/Traits/Buildings/RallyPoint.cs",
          "OpenRA.Mods.Common/Effects/RallyPointIndicator.cs",
          "OpenRA.Mods.Common/Graphics/RangeCircleAnnotationRenderable.cs",
          "OpenRA.Mods.Common/Traits/Multipliers/RangeMultiplier.cs",
          "OpenRA.Game/Primitives/ReadOnlyAdapterStream.cs",
          "OpenRA.Mods.Common/Traits/Rearmable.cs",
          "OpenRA.Mods.Common/HitShapes/Rectangle.cs",
          "OpenRA.Game/Primitives/Rectangle.cs",
          "OpenRA.Mods.Common/Traits/Buildings/Refinery.cs",
          "OpenRA.Mods.Common/UpdateRules/Rules/20200202/ReformatChromeProvider.cs",
          "OpenRA.Mods.Common/UtilityCommands/RefreshMapCommand.cs",
          "OpenRA.Game/UtilityCommands/RegisterModCommand.cs",
          "OpenRA.Mods.Common/Scripting/Global/ReinforcementsGlobal.cs",
          "OpenRA.Mods.Common/Traits/RejectsOrders.cs",
          "OpenRA.Mods.Common/Traits/Multipliers/ReloadAmmoDelayMultiplier.cs",
          "OpenRA.Mods.Common/Traits/ReloadAmmoPool.cs",
          "OpenRA.Mods.Common/Traits/Render/ReloadArmamentsBar.cs",
          "OpenRA.Mods.Common/Traits/Multipliers/ReloadDelayMultiplier.cs",
          "OpenRA.Mods.Cnc/UtilityCommands/RemapShpCommand.cs",
          "OpenRA.Mods.Common/UpdateRules/Rules/20200202/RemoveAirdropActorTypeDefault.cs",
          "OpenRA.Mods.Common/UpdateRules/Rules/20200503/RemoveConditionManager.cs",
          "OpenRA.Mods.Common/Widgets/Logic/Ingame/Hotkeys/RemoveFromControlGroupHotkeyLogic.cs",
          "OpenRA.Mods.Common/UpdateRules/Rules/20200202/RemoveInitialFacingHardcoding.cs",
          "OpenRA.Mods.Common/UpdateRules/Rules/20200503/RemoveLaysTerrain.cs",
          "OpenRA.Mods.Common/UpdateRules/Rules/20200503/RemoveMuzzleSplitFacings.cs",
          "OpenRA.Mods.Common/UpdateRules/Rules/20201213/RemovePlaceBuildingPalette.cs",
          "OpenRA.Mods.Common/UpdateRules/Rules/20201213/RemovePlayerHighlightPalette.cs",
          "OpenRA.Mods.Common/UpdateRules/Rules/20201213/RemoveRenderSpritesScale.cs",
          "OpenRA.Mods.Common/UpdateRules/Rules/20201213/RemoveResourceType.cs",
          "OpenRA.Mods.Common/Activities/RemoveSelf.cs",
          "OpenRA.Mods.Common/UpdateRules/Rules/20201213/RemoveSmokeTrailWhenDamaged.cs",
          "OpenRA.Mods.Common/UpdateRules/Rules/RemoveTurnToDock.cs",
          "OpenRA.Mods.Common/UpdateRules/Rules/20200202/RemoveWithPermanentInjury.cs",
          "OpenRA.Mods.Common/UpdateRules/Rules/20200202/RemoveYesNo.cs",
          "OpenRA.Mods.Common/UpdateRules/Rules/20200503/RenameCircleOutline.cs",
          "OpenRA.Mods.Common/UpdateRules/Rules/20200503/RenameHealCrateAction.cs",
          "OpenRA.Mods.Common/UpdateRules/Rules/20200503/RenameInfiltrationNotifications.cs",
          "OpenRA.Mods.Common/UpdateRules/Rules/20201213/RenameMPTraits.cs",
          "OpenRA.Mods.Common/UpdateRules/Rules/20200202/RenameProneTime.cs",
          "OpenRA.Mods.Common/UpdateRules/Rules/20200202/RenameRallyPointPath.cs",
          "OpenRA.Mods.Common/UpdateRules/Rules/20200503/RenameSelfHealing.cs",
          "OpenRA.Mods.Common/UpdateRules/Rules/RenameSmudgeSmokeFields.cs",
          "OpenRA.Mods.Common/UpdateRules/Rules/20200202/RenameSpins.cs",
          "OpenRA.Mods.Common/UpdateRules/Rules/20200503/RenameStances.cs",
          "OpenRA.Mods.Common/UpdateRules/Rules/20201213/RenameSupportPowerDescription.cs",
          "OpenRA.Mods.Common/UpdateRules/Rules/20200503/RenameWithNukeLaunch.cs",
          "OpenRA.Mods.Common/Traits/Render/RenderDebugState.cs",
          "OpenRA.Mods.Common/Traits/Render/RenderDetectionCircle.cs",
          "OpenRA.Mods.Common/Traits/Render/RenderJammerCircle.cs",
          "OpenRA.Mods.Common/Traits/Render/RenderRangeCircle.cs",
          "OpenRA.Mods.Common/Traits/Render/RenderShroudCircle.cs",
          "OpenRA.Mods.Common/Traits/Render/RenderSprites.cs",
          "OpenRA.Mods.Common/Traits/Render/RenderSpritesEditorOnly.cs",
          "OpenRA.Mods.Common/Traits/Render/RenderUtils.cs",
          "OpenRA.Mods.Common/Traits/Render/RenderVoxels.cs",
          "OpenRA.Game/Graphics/Renderable.cs",
          "OpenRA.Game/./Renderer.cs",
          "OpenRA.Mods.Common/Activities/RepairBridge.cs",
          "OpenRA.Mods.Common/Activities/RepairBuilding.cs",
          "OpenRA.Mods.Common/Orders/RepairOrderGenerator.cs",
          "OpenRA.Mods.Common/Traits/Repairable.cs",
          "OpenRA.Mods.Common/Traits/Buildings/RepairableBuilding.cs",
          "OpenRA.Mods.Common/Scripting/Properties/RepairableBuildingProperties.cs",
          "OpenRA.Mods.Common/Traits/RepairableNear.cs",
          "OpenRA.Mods.Common/Traits/RepairsBridges.cs",
          "OpenRA.Mods.Common/Traits/RepairsUnits.cs",
          "OpenRA.Mods.Common/UpdateRules/Rules/20191117/ReplaceAttackTypeStrafe.cs",
          "OpenRA.Mods.Common/UpdateRules/Rules/20200503/ReplaceBurns.cs",
          "OpenRA.Mods.Common/UpdateRules/Rules/20201213/ReplaceCrateSecondsWithTicks.cs",
          "OpenRA.Mods.Common/UpdateRules/Rules/20200503/ReplaceFacingAngles.cs",
          "OpenRA.Mods.Common/UpdateRules/Rules/20201213/ReplaceResourceValueModifiers.cs",
          "OpenRA.Mods.Common/UpdateRules/Rules/20201213/ReplaceShadowPalette.cs",
          "OpenRA.Mods.Common/UpdateRules/Rules/20201213/ReplaceWithColoredOverlayPalette.cs",
          "OpenRA.Mods.Common/Traits/Replaceable.cs",
          "OpenRA.Mods.Common/Traits/Replacement.cs",
          "OpenRA.Mods.Common/Widgets/Logic/ReplayBrowserLogic.cs",
          "OpenRA.Game/Network/ReplayConnection.cs",
          "OpenRA.Mods.Common/Widgets/Logic/Ingame/ReplayControlBarLogic.cs",
          "OpenRA.Game/FileFormats/ReplayMetadata.cs",
          "OpenRA.Mods.Common/UtilityCommands/ReplayMetadataCommand.cs",
          "OpenRA.Game/Network/ReplayRecorder.cs",
          "OpenRA.Mods.Common/Widgets/Logic/ReplayUtils.cs",
          "OpenRA.Mods.Common/Traits/Buildings/RequiresBuildableArea.cs",
          "OpenRA.Mods.Common/Traits/RequiresSpecificOwners.cs",
          "OpenRA.Mods.Common/Traits/Buildings/Reservable.cs",
          "OpenRA.Mods.Common/Widgets/Logic/Ingame/Hotkeys/ResetZoomHotkey.cs",
          "OpenRA.Mods.Common/UtilityCommands/ResizeMapCommand.cs",
          "OpenRA.Mods.Common/Widgets/ResourceBarWidget.cs",
          "OpenRA.Mods.Common/Traits/World/ResourceClaimLayer.cs",
          "OpenRA.Mods.Common/Traits/World/ResourceLayer.cs",
          "OpenRA.Mods.Common/Widgets/ResourcePreviewWidget.cs",
          "OpenRA.Mods.Common/Scripting/Properties/ResourceProperties.cs",
          "OpenRA.Mods.Cnc/Traits/ResourcePurifier.cs",
          "OpenRA.Mods.Common/Traits/World/ResourceRenderer.cs",
          "OpenRA.Mods.Common/Traits/Player/ResourceStorageWarning.cs",
          "OpenRA.Mods.Common/Traits/Multipliers/ResourceValueMultiplier.cs",
          "OpenRA.Mods.Common/Activities/Resupply.cs",
          "OpenRA.Mods.Common/Activities/Air/ReturnToBase.cs",
          "OpenRA.Mods.Common/Traits/Crates/RevealMapCrateAction.cs",
          "OpenRA.Mods.Common/Traits/RevealOnDeath.cs",
          "OpenRA.Mods.Common/Traits/RevealOnFire.cs",
          "OpenRA.Mods.Common/Effects/RevealShroudEffect.cs",
          "OpenRA.Mods.Common/Traits/RevealsMap.cs",
          "OpenRA.Mods.Common/Traits/RevealsShroud.cs",
          "OpenRA.Mods.Common/Traits/Multipliers/RevealsShroudMultiplier.cs",
          "OpenRA.Mods.Common/UtilityCommands/Rgba2Hex.cs",
          "OpenRA.Game/Graphics/RgbaColorRenderer.cs",
          "OpenRA.Game/Graphics/RgbaSpriteRenderer.cs",
          "OpenRA.Mods.Common/Activities/RideTransport.cs",
          "OpenRA.Mods.Common/Traits/PaletteEffects/RotationPaletteEffect.cs",
          "OpenRA.Game/GameRules/Ruleset.cs",
          "OpenRA.Mods.D2k/Traits/Sandworm.cs",
          "OpenRA.Mods.Cnc/Effects/SatelliteLaunch.cs",
          "OpenRA.Mods.Common/Widgets/Logic/Editor/SaveMapLogic.cs",
          "OpenRA.Mods.Common/Traits/Power/ScalePowerWithHealth.cs",
          "OpenRA.Mods.Common/Scripting/Properties/ScaredCatProperties.cs",
          "OpenRA.Mods.Common/Traits/Infantry/ScaredyCat.cs",
          "OpenRA.Game/Traits/World/ScreenMap.cs",
          "OpenRA.Game/Traits/World/ScreenShaker.cs",
          "OpenRA.Mods.Common/Widgets/Logic/ScreenshotHotkeyLogic.cs",
          "OpenRA.Game/Scripting/ScriptActorInterface.cs",
          "OpenRA.Game/Scripting/ScriptContext.cs",
          "OpenRA.Mods.Common/Traits/World/ScriptLobbyDropdown.cs",
          "OpenRA.Game/Scripting/ScriptMemberExts.cs",
          "OpenRA.Game/Scripting/ScriptMemberWrapper.cs",
          "OpenRA.Game/Scripting/ScriptObjectWrapper.cs",
          "OpenRA.Game/Scripting/ScriptPlayerInterface.cs",
          "OpenRA.Mods.Common/Traits/ScriptTags.cs",
          "OpenRA.Mods.Common/Scripting/ScriptTriggers.cs",
          "OpenRA.Game/Scripting/ScriptTypes.cs",
          "OpenRA.Mods.Common/Widgets/ScrollItemWidget.cs",
          "OpenRA.Mods.Common/Widgets/ScrollPanelWidget.cs",
          "OpenRA.Platforms.Default/./Sdl2GraphicsContext.cs",
          "OpenRA.Platforms.Default/./Sdl2HardwareCursor.cs",
          "OpenRA.Platforms.Default/./Sdl2Input.cs",
          "OpenRA.Platforms.Default/./Sdl2PlatformWindow.cs",
          "OpenRA.Mods.Common/Traits/SeedsResource.cs",
          "OpenRA.Game/Primitives/SegmentStream.cs",
          "OpenRA.Mods.Common/Widgets/Logic/Ingame/Hotkeys/SelectAllUnitsHotkeyLogic.cs",
          "OpenRA.Mods.Common/Traits/SupportPowers/SelectDirectionalTarget.cs",
          "OpenRA.Mods.Common/Widgets/Logic/Ingame/Hotkeys/SelectUnitsByTypeHotkeyLogic.cs",
          "OpenRA.Mods.Common/Traits/Selectable.cs",
          "OpenRA.Game/./SelectableExts.cs",
          "OpenRA.Mods.Common/Traits/World/Selection.cs",
          "OpenRA.Mods.Common/Graphics/SelectionBarsAnnotationRenderable.cs",
          "OpenRA.Mods.Common/Graphics/SelectionBoxAnnotationRenderable.cs",
          "OpenRA.Mods.Common/Traits/Render/SelectionDecorations.cs",
          "OpenRA.Mods.Common/Traits/Render/SelectionDecorationsBase.cs",
          "OpenRA.Mods.Common/Widgets/SelectionUtils.cs",
          "OpenRA.Mods.Common/Activities/Sell.cs",
          "OpenRA.Mods.Common/Traits/Sellable.cs",
          "OpenRA.Mods.Common/Scripting/Properties/SellableProperties.cs",
          "OpenRA.Mods.Common/Traits/Buildings/SequencePlaceBuildingPreview.cs",
          "OpenRA.Game/Graphics/SequenceProvider.cs",
          "OpenRA.Game/Server/Server.cs",
          "OpenRA.Mods.Common/Widgets/Logic/ServerCreationLogic.cs",
          "OpenRA.Mods.Common/Widgets/Logic/ServerListLogic.cs",
          "OpenRA.Game/Network/Session.cs",
          "OpenRA.Game/./Settings.cs",
          "OpenRA.Mods.Common/Widgets/Logic/Settings/SettingsLogic.cs",
          "OpenRA.Mods.Common/Widgets/Logic/Settings/SettingsUtils.cs",
          "OpenRA.Platforms.Default/./Shader.cs",
          "OpenRA.Mods.Common/Traits/ShakeOnDeath.cs",
          "OpenRA.Mods.Common/Warheads/ShakeScreenWarhead.cs",
          "OpenRA.Test/OpenRA.Mods.Common/ShapeTest.cs",
          "OpenRA.Game/Graphics/Sheet.cs",
          "OpenRA.Game/Graphics/SheetBuilder.cs",
          "OpenRA.Mods.Common/LoadScreens/SheetLoadScreen.cs",
          "OpenRA.Mods.Cnc/SpriteLoaders/ShpD2Loader.cs",
          "OpenRA.Mods.Cnc/SpriteLoaders/ShpRemasteredLoader.cs",
          "OpenRA.Mods.Cnc/SpriteLoaders/ShpTDLoader.cs",
          "OpenRA.Mods.Common/SpriteLoaders/ShpTSLoader.cs",
          "OpenRA.Game/Traits/Player/Shroud.cs",
          "OpenRA.Mods.Common/./ShroudExts.cs",
          "OpenRA.Mods.Cnc/Traits/World/ShroudPalette.cs",
          "OpenRA.Mods.Common/Traits/World/ShroudRenderer.cs",
          "OpenRA.Mods.Common/Activities/SimpleTeleport.cs",
          "OpenRA.Mods.Common/Widgets/Logic/SimpleTooltipLogic.cs",
          "OpenRA.Mods.Common/Widgets/Logic/SingleHotkeyBaseLogic.cs",
          "OpenRA.Game/Primitives/Size.cs",
          "OpenRA.Mods.Common/Widgets/SliderWidget.cs",
          "OpenRA.Mods.Common/Traits/World/SmudgeLayer.cs",
          "OpenRA.Game/Sound/Sound.cs",
          "OpenRA.Game/Sound/SoundDevice.cs",
          "OpenRA.Game/GameRules/SoundInfo.cs",
          "OpenRA.Mods.Common/Traits/Sound/SoundOnDamageTransition.cs",
          "OpenRA.Game/Primitives/SpatiallyPartitioned.cs",
          "OpenRA.Test/OpenRA.Game/SpatiallyPartitionedTest.cs",
          "OpenRA.Mods.Common/Effects/SpawnActorEffect.cs",
          "OpenRA.Mods.Common/Traits/SpawnActorOnDeath.cs",
          "OpenRA.Mods.Common/Traits/SupportPowers/SpawnActorPower.cs",
          "OpenRA.Mods.Common/UpdateRules/Rules/20200503/SpawnActorPowerDefaultEffect.cs",
          "OpenRA.Mods.Common/Traits/SpawnActorsOnSell.cs",
          "OpenRA.Mods.Common/Traits/World/SpawnMapActors.cs",
          "OpenRA.Mods.Common/Widgets/Logic/Lobby/SpawnSelectorTooltipLogic.cs",
          "OpenRA.Mods.Common/Traits/World/SpawnStartingUnits.cs",
          "OpenRA.Mods.Common/Traits/Multipliers/SpeedMultiplier.cs",
          "OpenRA.Mods.D2k/Traits/SpiceBloom.cs",
          "OpenRA.Mods.Common/UpdateRules/Rules/20200503/SplitDamagedByTerrain.cs",
          "OpenRA.Mods.Common/Warheads/SpreadDamageWarhead.cs",
          "OpenRA.Game/Graphics/Sprite.cs",
          "OpenRA.Mods.Common/Graphics/SpriteActorPreview.cs",
          "OpenRA.Mods.Common/Effects/SpriteAnnotation.cs",
          "OpenRA.Mods.Common/Effects/SpriteEffect.cs",
          "OpenRA.Game/Graphics/SpriteFont.cs",
          "OpenRA.Mods.Common/Activities/SpriteHarvesterDockSequence.cs",
          "OpenRA.Game/Graphics/SpriteLoader.cs",
          "OpenRA.Game/Graphics/SpriteRenderable.cs",
          "OpenRA.Game/Graphics/SpriteRenderer.cs",
          "OpenRA.Mods.Common/Widgets/SpriteWidget.cs",
          "OpenRA.Mods.Common/Traits/BotModules/Squads/Squad.cs",
          "OpenRA.Mods.Common/Traits/BotModules/SquadManagerBotModule.cs",
          "OpenRA.Mods.Common/Widgets/Logic/Ingame/StanceSelectorLogic.cs",
          "OpenRA.Mods.Common/Traits/World/StartGameNotification.cs",
          "OpenRA.Mods.Common/Traits/BotModules/Squads/States/StateBase.cs",
          "OpenRA.Mods.Common/Traits/BotModules/Squads/StateMachine.cs",
          "OpenRA.Mods.Common/Traits/StoresResources.cs",
          "OpenRA.Mods.Common/Widgets/StrategicProgressWidget.cs",
          "OpenRA.Mods.Common/Traits/Player/StrategicVictoryConditions.cs",
          "OpenRA.Game/./StreamExts.cs",
          "OpenRA.Test/OpenRA.Game/StreamExtsTests.cs",
          "OpenRA.Mods.Common/Traits/World/SubterraneanActorLayer.cs",
          "OpenRA.Mods.Common/Traits/World/SubterraneanLocomotor.cs",
          "OpenRA.Mods.Common/Traits/SupportPowers/SupportPower.cs",
          "OpenRA.Mods.Common/Widgets/Logic/Ingame/SupportPowerBinLogic.cs",
          "OpenRA.Mods.Common/Traits/BotModules/SupportPowerBotModule.cs",
          "OpenRA.Mods.Common/Traits/Render/SupportPowerChargeBar.cs",
          "OpenRA.Mods.Common/Traits/Crates/SupportPowerCrateAction.cs",
          "OpenRA.Mods.Common/Traits/BotModules/BotModuleLogic/SupportPowerDecision.cs",
          "OpenRA.Mods.Common/Traits/SupportPowers/SupportPowerManager.cs",
          "OpenRA.Mods.Common/Widgets/SupportPowerTimerWidget.cs",
          "OpenRA.Mods.Common/Widgets/Logic/Ingame/SupportPowerTooltipLogic.cs",
          "OpenRA.Mods.Common/Widgets/SupportPowersWidget.cs",
          "OpenRA.Mods.D2k/Activities/SwallowActor.cs",
          "OpenRA.Game/./Sync.cs",
          "OpenRA.Game/Network/SyncReport.cs",
          "OpenRA.Mods.Common/Widgets/Logic/SystemInfoPromptLogic.cs",
          "OpenRA.Mods.Cnc/Traits/TDGunboat.cs",
          "OpenRA.Mods.Cnc/Traits/World/TSEditorResourceLayer.cs",
          "OpenRA.Mods.Cnc/Traits/World/TSResourceLayer.cs",
          "OpenRA.Mods.Cnc/Traits/World/TSShroudPalette.cs",
          "OpenRA.Mods.Cnc/Traits/World/TSTiberiumRenderer.cs",
          "OpenRA.Mods.Cnc/Traits/World/TSVeinsRenderer.cs",
          "OpenRA.Mods.Common/Widgets/Logic/TabCompletionLogic.cs",
          "OpenRA.Mods.Common/Traits/Infantry/TakeCover.cs",
          "OpenRA.Mods.Common/Activities/Air/TakeOff.cs",
          "OpenRA.Game/Traits/Target.cs",
          "OpenRA.Mods.Common/Warheads/TargetDamageWarhead.cs",
          "OpenRA.Mods.Common/./TargetExtensions.cs",
          "OpenRA.Game/Graphics/TargetLineRenderable.cs",
          "OpenRA.Mods.Common/Traits/Targetable.cs",
          "OpenRA.Mods.Common/Traits/Player/TechTree.cs",
          "OpenRA.Mods.Cnc/Activities/Teleport.cs",
          "OpenRA.Mods.Common/Traits/TemporaryOwnerManager.cs",
          "OpenRA.Mods.Common/Traits/World/TerrainGeometryOverlay.cs",
          "OpenRA.Game/Map/TerrainInfo.cs",
          "OpenRA.Mods.Common/Terrain/TerrainInfo.cs",
          "OpenRA.Mods.Common/Traits/TerrainLightSource.cs",
          "OpenRA.Mods.Common/Traits/World/TerrainLighting.cs",
          "OpenRA.Mods.Common/Traits/Infantry/TerrainModifiesDamage.cs",
          "OpenRA.Mods.Common/Traits/World/TerrainRenderer.cs",
          "OpenRA.Game/Graphics/TerrainSpriteLayer.cs",
          "OpenRA.Mods.Common/Widgets/TerrainTemplatePreviewWidget.cs",
          "OpenRA.Mods.Common/Traits/World/TerrainTunnel.cs",
          "OpenRA.Mods.Common/Traits/World/TerrainTunnelLayer.cs",
          "OpenRA.Mods.Cnc/Projectiles/TeslaZap.cs",
          "OpenRA.Mods.Cnc/Graphics/TeslaZapRenderable.cs",
          "OpenRA.Mods.Common/Graphics/TextAnnotationRenderable.cs",
          "OpenRA.Mods.Common/Widgets/TextFieldWidget.cs",
          "OpenRA.Game/./TextNotification.cs",
          "OpenRA.Mods.Common/Widgets/TextNotificationsDisplayWidget.cs",
          "OpenRA.Game/./TextNotificationsManager.cs",
          "OpenRA.Platforms.Default/./Texture.cs",
          "OpenRA.Mods.Common/SpriteLoaders/TgaLoader.cs",
          "OpenRA.Platforms.Default/./ThreadAffine.cs",
          "OpenRA.Platforms.Default/./ThreadedGraphicsContext.cs",
          "OpenRA.Mods.Common/Traits/ThrowsParticle.cs",
          "OpenRA.Mods.Common/Traits/ThrowsShrapnel.cs",
          "OpenRA.Mods.Cnc/Traits/Buildings/TiberianSunRefinery.cs",
          "OpenRA.Game/Network/TickTime.cs",
          "OpenRA.Game/Map/TileReference.cs",
          "OpenRA.Mods.Common/Widgets/Logic/Editor/TileSelectorLogic.cs",
          "OpenRA.Mods.Common/Graphics/TilesetSpecificSpriteSequence.cs",
          "OpenRA.Mods.Common/Traits/World/TimeLimitManager.cs",
          "OpenRA.Mods.Common/Traits/Render/TimedConditionBar.cs",
          "OpenRA.Mods.Cnc/SpriteLoaders/TmpRALoader.cs",
          "OpenRA.Mods.Cnc/SpriteLoaders/TmpTDLoader.cs",
          "OpenRA.Mods.Cnc/SpriteLoaders/TmpTSLoader.cs",
          "OpenRA.Mods.Common/Traits/Conditions/ToggleConditionOnOrder.cs",
          "OpenRA.Mods.Common/Widgets/Logic/Ingame/Hotkeys/TogglePlayerStanceColorHotkeyLogic.cs",
          "OpenRA.Mods.Common/Traits/Tooltip.cs",
          "OpenRA.Mods.Common/Widgets/TooltipContainerWidget.cs",
          "OpenRA.Mods.Common/Traits/TooltipDescription.cs",
          "OpenRA.Game/./TraitDictionary.cs",
          "OpenRA.Game/Server/TraitInterfaces.cs",
          "OpenRA.Mods.Cnc/./TraitsInterfaces.cs",
          "OpenRA.Mods.Common/./TraitsInterfaces.cs",
          "OpenRA.Game/Traits/TraitsInterfaces.cs",
          "OpenRA.Mods.Cnc/Traits/TransferTimedExternalConditionOnTransform.cs",
          "OpenRA.Mods.Common/Activities/Transform.cs",
          "OpenRA.Mods.Common/Traits/TransformCrusherOnCrush.cs",
          "OpenRA.Mods.Common/Traits/TransformOnCapture.cs",
          "OpenRA.Mods.Common/Scripting/Properties/TransformProperties.cs",
          "OpenRA.Mods.Common/Traits/Transforms.cs",
          "OpenRA.Mods.Common/Traits/Buildings/TransformsIntoAircraft.cs",
          "OpenRA.Mods.Common/Traits/Buildings/TransformsIntoEntersTunnels.cs",
          "OpenRA.Mods.Common/Traits/Buildings/TransformsIntoMobile.cs",
          "OpenRA.Mods.Common/Traits/Buildings/TransformsIntoPassenger.cs",
          "OpenRA.Mods.Common/Traits/Buildings/TransformsIntoRepairable.cs",
          "OpenRA.Mods.Common/Traits/Buildings/TransformsIntoTransforms.cs",
          "OpenRA.Mods.Cnc/Traits/TransformsNearResources.cs",
          "OpenRA.Game/./Translation.cs",
          "OpenRA.Mods.Common/Scripting/Properties/TransportProperties.cs",
          "OpenRA.Mods.Common/Scripting/Global/TriggerGlobal.cs",
          "OpenRA.Mods.Common/Traits/TunnelEntrance.cs",
          "OpenRA.Mods.Common/Activities/Turn.cs",
          "OpenRA.Mods.Common/Traits/TurnOnIdle.cs",
          "OpenRA.Mods.Common/Traits/Turreted.cs",
          "OpenRA.Game/Primitives/TypeDictionary.cs",
          "OpenRA.Mods.Common/Graphics/UIModelRenderable.cs",
          "OpenRA.Game/Graphics/UISpriteRenderable.cs",
          "OpenRA.Mods.Common/Graphics/UITextRenderable.cs",
          "OpenRA.Mods.Common/UpdateRules/Rules/UnhardcodeSquadManager.cs",
          "OpenRA.Mods.Common/Traits/BotModules/UnitBuilderBotModule.cs",
          "OpenRA.Game/Orders/UnitOrderGenerator.cs",
          "OpenRA.Mods.Common/Orders/UnitOrderTargeter.cs",
          "OpenRA.Game/Network/UnitOrders.cs",
          "OpenRA.Mods.Common/Activities/UnloadCargo.cs",
          "OpenRA.Game/UtilityCommands/UnregisterModCommand.cs",
          "OpenRA.Mods.Common/UtilityCommands/UpdateMapCommand.cs",
          "OpenRA.Mods.Common/UpdateRules/Rules/20200503/UpdateMapInits.cs",
          "OpenRA.Mods.Common/UtilityCommands/UpdateModCommand.cs",
          "OpenRA.Mods.Common/UpdateRules/UpdatePath.cs",
          "OpenRA.Mods.Common/UpdateRules/UpdateRule.cs",
          "OpenRA.Mods.Common/UpdateRules/Rules/20200503/UpdateTilesetColors.cs",
          "OpenRA.Mods.Common/UpdateRules/UpdateUtils.cs",
          "OpenRA.Mods.Common/Traits/UpdatesDerrickCount.cs",
          "OpenRA.Mods.Common/UpdateRules/Rules/20201213/UseMillisecondsForSounds.cs",
          "OpenRA.Mods.Common/Scripting/Global/UserInterfaceGlobal.cs",
          "OpenRA.Mods.Cnc/./Util.cs",
          "OpenRA.Mods.Common/./Util.cs",
          "OpenRA.Game/Graphics/Util.cs",
          "OpenRA.Mods.Common/UtilityCommands/Utilities.cs",
          "OpenRA.Mods.Common/Scripting/Global/UtilsGlobal.cs",
          "OpenRA.Mods.Common/Traits/World/ValidateOrder.cs",
          "OpenRA.Mods.Common/Traits/Valued.cs",
          "OpenRA.Game/Support/VariableExpression.cs",
          "OpenRA.Test/OpenRA.Game/VariableExpressionTest.cs",
          "OpenRA.Game/Graphics/Vertex.cs",
          "OpenRA.Platforms.Default/./VertexBuffer.cs",
          "OpenRA.Mods.Common/Traits/Render/VeteranProductionIconOverlay.cs",
          "OpenRA.Game/Graphics/Video.cs",
          "OpenRA.Game/Graphics/VideoLoader.cs",
          "OpenRA.Mods.Common/Widgets/VideoPlayerWidget.cs",
          "OpenRA.Game/Graphics/Viewport.cs",
          "OpenRA.Mods.Common/Widgets/ViewportControllerWidget.cs",
          "OpenRA.Mods.Cnc/AudioLoaders/VocLoader.cs",
          "OpenRA.Mods.Common/Traits/Sound/VoiceAnnouncement.cs",
          "OpenRA.Game/./VoiceExts.cs",
          "OpenRA.Mods.Common/Traits/Voiced.cs",
          "OpenRA.Mods.Cnc/Graphics/Voxel.cs",
          "OpenRA.Mods.Cnc/Activities/VoxelHarvesterDockSequence.cs",
          "OpenRA.Mods.Cnc/Graphics/VoxelLoader.cs",
          "OpenRA.Mods.Cnc/Graphics/VoxelModelSequenceLoader.cs",
          "OpenRA.Mods.Cnc/Traits/World/VoxelNormalsPalette.cs",
          "OpenRA.Mods.Cnc/VideoLoaders/VqaLoader.cs",
          "OpenRA.Mods.Cnc/FileFormats/VqaReader.cs",
          "OpenRA.Mods.Cnc/FileFormats/VxlReader.cs",
          "OpenRA.Game/./WAngle.cs",
          "OpenRA.Game/./WDist.cs",
          "OpenRA.Game/./WPos.cs",
          "OpenRA.Game/./WRot.cs",
          "OpenRA.Game/./WVec.cs",
          "OpenRA.Mods.Common/Activities/Wait.cs",
          "OpenRA.Mods.Common/Traits/Wanders.cs",
          "OpenRA.Mods.Common/Warheads/Warhead.cs",
          "OpenRA.Mods.Common/Traits/World/WarheadDebugOverlay.cs",
          "OpenRA.Mods.Common/AudioLoaders/WavLoader.cs",
          "OpenRA.Mods.Common/FileFormats/WavReader.cs",
          "OpenRA.Game/GameRules/WeaponInfo.cs",
          "OpenRA.Mods.Common/Traits/World/WeatherOverlay.cs",
          "OpenRA.Mods.Common/./WebServices.cs",
          "OpenRA.Game/Widgets/Widget.cs",
          "OpenRA.Game/Widgets/WidgetLoader.cs",
          "OpenRA.Mods.Common/Widgets/WidgetUtils.cs",
          "OpenRA.Mods.Common/Traits/Render/WithAcceptDeliveredCashAnimation.cs",
          "OpenRA.Mods.Common/Traits/Render/WithAimAnimation.cs",
          "OpenRA.Mods.Common/Traits/Render/WithAmmoPipsDecoration.cs",
          "OpenRA.Mods.Common/Traits/Render/WithAttackAnimation.cs",
          "OpenRA.Mods.Common/Traits/Render/WithAttackOverlay.cs",
          "OpenRA.Mods.Common/Traits/Render/WithBridgeSpriteBody.cs",
          "OpenRA.Mods.Cnc/Traits/Render/WithBuildingBib.cs",
          "OpenRA.Mods.Common/Traits/Render/WithBuildingPlacedAnimation.cs",
          "OpenRA.Mods.Common/Traits/Render/WithBuildingPlacedOverlay.cs",
          "OpenRA.Mods.Common/Traits/Render/WithBuildingRepairDecoration.cs",
          "OpenRA.Mods.Cnc/Traits/Render/WithCargo.cs",
          "OpenRA.Mods.Common/Traits/Render/WithCargoPipsDecoration.cs",
          "OpenRA.Mods.Common/Traits/Render/WithChargeOverlay.cs",
          "OpenRA.Mods.Common/Traits/Render/WithChargeSpriteBody.cs",
          "OpenRA.Mods.Common/Traits/Modifiers/WithColoredOverlay.cs",
          "OpenRA.Mods.Common/Traits/Render/WithCrateBody.cs",
          "OpenRA.Mods.D2k/Traits/Render/WithCrumbleOverlay.cs",
          "OpenRA.Mods.Common/Traits/Render/WithDamageOverlay.cs",
          "OpenRA.Mods.Common/Traits/Render/WithDeadBridgeSpriteBody.cs",
          "OpenRA.Mods.Common/Traits/Render/WithDeathAnimation.cs",
          "OpenRA.Mods.Common/Traits/Render/WithDecoration.cs",
          "OpenRA.Mods.Common/Traits/Render/WithDecorationBase.cs",
          "OpenRA.Mods.Common/Traits/Render/WithDeliveryAnimation.cs",
          "OpenRA.Mods.D2k/Traits/Render/WithDeliveryOverlay.cs",
          "OpenRA.Mods.Cnc/Traits/Render/WithDisguisingInfantryBody.cs",
          "OpenRA.Mods.Common/Traits/Render/WithDockedOverlay.cs",
          "OpenRA.Mods.Common/Traits/Render/WithDockingAnimation.cs",
          "OpenRA.Mods.Cnc/Traits/Render/WithDockingOverlay.cs",
          "OpenRA.Mods.Cnc/Traits/Render/WithEmbeddedTurretSpriteBody.cs",
          "OpenRA.Mods.Common/Traits/Render/WithFacingSpriteBody.cs",
          "OpenRA.Mods.Common/Traits/Render/WithGateSpriteBody.cs",
          "OpenRA.Mods.Cnc/Traits/Render/WithGunboatBody.cs",
          "OpenRA.Mods.Common/Traits/Render/WithHarvestAnimation.cs",
          "OpenRA.Mods.Common/Traits/Render/WithHarvestOverlay.cs",
          "OpenRA.Mods.Common/Traits/Render/WithHarvesterPipsDecoration.cs",
          "OpenRA.Mods.Cnc/Traits/Render/WithHarvesterSpriteBody.cs",
          "OpenRA.Mods.Common/Traits/Render/WithIdleAnimation.cs",
          "OpenRA.Mods.Common/Traits/Render/WithIdleOverlay.cs",
          "OpenRA.Mods.Common/Traits/Render/WithInfantryBody.cs",
          "OpenRA.Mods.Cnc/Traits/Render/WithLandingCraftAnimation.cs",
          "OpenRA.Mods.Common/Traits/Render/WithMakeAnimation.cs",
          "OpenRA.Mods.Common/Traits/Render/WithMakeOverlay.cs",
          "OpenRA.Mods.Common/Traits/Render/WithMoveAnimation.cs",
          "OpenRA.Mods.Common/Traits/Render/WithMuzzleOverlay.cs",
          "OpenRA.Mods.Common/Traits/Render/WithNameTagDecoration.cs",
          "OpenRA.Mods.Common/Traits/Render/WithParachute.cs",
          "OpenRA.Mods.Common/Traits/Render/WithProductionDoorOverlay.cs",
          "OpenRA.Mods.Common/Traits/Render/WithProductionOverlay.cs",
          "OpenRA.Mods.Common/Traits/Render/WithRangeCircle.cs",
          "OpenRA.Mods.Common/Traits/Render/WithRepairOverlay.cs",
          "OpenRA.Mods.Cnc/Traits/World/WithResourceAnimation.cs",
          "OpenRA.Mods.Common/Traits/Render/WithResourceLevelOverlay.cs",
          "OpenRA.Mods.Common/Traits/Render/WithResourceLevelSpriteBody.cs",
          "OpenRA.Mods.Common/Traits/Render/WithResourceStoragePipsDecoration.cs",
          "OpenRA.Mods.Common/Traits/Render/WithResupplyAnimation.cs",
          "OpenRA.Mods.Common/Traits/Render/WithShadow.cs",
          "OpenRA.Mods.Cnc/Traits/Render/WithSplitAttackPaletteInfantryBody.cs",
          "OpenRA.Mods.Common/Traits/Render/WithSpriteBarrel.cs",
          "OpenRA.Mods.Common/Traits/Render/WithSpriteBody.cs",
          "OpenRA.Mods.Common/Traits/Render/WithSpriteControlGroupDecoration.cs",
          "OpenRA.Mods.Common/Traits/Render/WithSpriteTurret.cs",
          "OpenRA.Mods.Common/Traits/Render/WithSupportPowerActivationAnimation.cs",
          "OpenRA.Mods.Common/Traits/Render/WithSupportPowerActivationOverlay.cs",
          "OpenRA.Mods.Cnc/Traits/Render/WithTeslaChargeAnimation.cs",
          "OpenRA.Mods.Cnc/Traits/Render/WithTeslaChargeOverlay.cs",
          "OpenRA.Mods.Common/Traits/Render/WithTextControlGroupDecoration.cs",
          "OpenRA.Mods.Common/Traits/Render/WithTextDecoration.cs",
          "OpenRA.Mods.Common/Traits/Render/WithTurretAimAnimation.cs",
          "OpenRA.Mods.Common/Traits/Render/WithTurretAttackAnimation.cs",
          "OpenRA.Mods.Common/Traits/Render/WithVoxelBarrel.cs",
          "OpenRA.Mods.Common/Traits/Render/WithVoxelBody.cs",
          "OpenRA.Mods.Common/Traits/Render/WithVoxelTurret.cs",
          "OpenRA.Mods.Cnc/Traits/Render/WithVoxelUnloadBody.cs",
          "OpenRA.Mods.Cnc/Traits/Render/WithVoxelWalkerBody.cs",
          "OpenRA.Mods.Common/Traits/Render/WithWallSpriteBody.cs",
          "OpenRA.Game/./World.cs",
          "OpenRA.Mods.Common/Widgets/WorldButtonWidget.cs",
          "OpenRA.Mods.Common/./WorldExtensions.cs",
          "OpenRA.Mods.Common/Widgets/WorldInteractionControllerWidget.cs",
          "OpenRA.Mods.Common/Widgets/WorldLabelWithTooltipWidget.cs",
          "OpenRA.Game/Graphics/WorldRenderer.cs",
          "OpenRA.Mods.Common/Widgets/Logic/Ingame/WorldTooltipLogic.cs",
          "OpenRA.Game/./WorldUtils.cs",
          "OpenRA.Game/./WorldViewportSizes.cs",
          "OpenRA.Mods.Cnc/VideoLoaders/WsaLoader.cs",
          "OpenRA.Mods.Cnc/FileFormats/WsaReader.cs",
          "OpenRA.Mods.Cnc/FileFormats/XORDeltaCompression.cs",
          "OpenRA.Mods.Cnc/FileFormats/XccGlobalDatabase.cs",
          "OpenRA.Mods.Cnc/FileFormats/XccLocalDatabase.cs",
          "OpenRA.Game/FileSystem/ZipFile.cs",
          "OpenRA.Game/Primitives/float2.cs",
          "OpenRA.Game/Primitives/float3.cs",
          "OpenRA.Game/Primitives/int2.cs",
          "OpenRA.Game/.",
          "OpenRA.Launcher/.",
          "OpenRA.Mods.Cnc/.",
          "OpenRA.Mods.Common/.",
          "OpenRA.Platforms.Default/.",
          "OpenRA.Server/.",
          "OpenRA.Utility/.",
          "OpenRA.WindowsLauncher/.",
          "OpenRA.Game/Activities",
          "OpenRA.Mods.Cnc/Activities",
          "OpenRA.Mods.Common/Activities",
          "OpenRA.Mods.D2k/Activities",
          "OpenRA.Mods.Common/Activities/Air",
          "OpenRA.Mods.Common/Activities/Move",
          "OpenRA.Mods.Cnc/AudioLoaders",
          "OpenRA.Mods.Common/AudioLoaders",
          "OpenRA.Mods.Common/Commands",
          "OpenRA.Mods.Common/EditorBrushes",
          "OpenRA.Game/Effects",
          "OpenRA.Mods.Cnc/Effects",
          "OpenRA.Mods.Common/Effects",
          "OpenRA.Game/FileFormats",
          "OpenRA.Mods.Cnc/FileFormats",
          "OpenRA.Mods.Common/FileFormats",
          "OpenRA.Game/FileSystem",
          "OpenRA.Mods.Cnc/FileSystem",
          "OpenRA.Mods.Common/FileSystem",
          "OpenRA.Game/GameRules",
          "OpenRA.Game/Graphics",
          "OpenRA.Mods.Cnc/Graphics",
          "OpenRA.Mods.Common/Graphics",
          "OpenRA.Mods.Common/HitShapes",
          "OpenRA.Game/Input",
          "OpenRA.Mods.Common/Lint",
          "OpenRA.Mods.D2k/Lint",
          "OpenRA.Mods.Common/LoadScreens",
          "OpenRA.Game/Map",
          "OpenRA.Game/Network",
          "OpenRA.Test/OpenRA.Game",
          "OpenRA.Test/OpenRA.Mods.Common",
          "OpenRA.Game/Orders",
          "OpenRA.Mods.Common/Orders",
          "OpenRA.Mods.D2k/PackageLoaders",
          "OpenRA.Mods.Common/Pathfinder",
          "OpenRA.Game/Primitives",
          "OpenRA.Mods.Cnc/Projectiles",
          "OpenRA.Mods.Common/Projectiles",
          "OpenRA.Game/Scripting",
          "OpenRA.Mods.Common/Scripting",
          "OpenRA.Mods.Common/Scripting/Global",
          "OpenRA.Mods.Cnc/Scripting/Properties",
          "OpenRA.Mods.Common/Scripting/Properties",
          "OpenRA.Game/Server",
          "OpenRA.Mods.Common/ServerTraits",
          "OpenRA.Game/Sound",
          "OpenRA.Mods.Cnc/SpriteLoaders",
          "OpenRA.Mods.Common/SpriteLoaders",
          "OpenRA.Mods.D2k/SpriteLoaders",
          "OpenRA.Game/Support",
          "OpenRA.Mods.Common/Terrain",
          "OpenRA.Game/Traits",
          "OpenRA.Mods.Cnc/Traits",
          "OpenRA.Mods.Common/Traits",
          "OpenRA.Mods.D2k/Traits",
          "OpenRA.Mods.Common/Traits/Air",
          "OpenRA.Mods.Cnc/Traits/Attack",
          "OpenRA.Mods.Common/Traits/Attack",
          "OpenRA.Mods.Common/Traits/BotModules",
          "OpenRA.Mods.Common/Traits/BotModules/BotModuleLogic",
          "OpenRA.Mods.Common/Traits/BotModules/Squads",
          "OpenRA.Mods.Common/Traits/BotModules/Squads/States",
          "OpenRA.Mods.Cnc/Traits/Buildings",
          "OpenRA.Mods.Common/Traits/Buildings",
          "OpenRA.Mods.D2k/Traits/Buildings",
          "OpenRA.Mods.Common/Traits/Conditions",
          "OpenRA.Mods.Common/Traits/Crates",
          "OpenRA.Mods.Common/Traits/Infantry",
          "OpenRA.Mods.Cnc/Traits/Infiltration",
          "OpenRA.Mods.Common/Traits/Modifiers",
          "OpenRA.Mods.Common/Traits/Multipliers",
          "OpenRA.Mods.Cnc/Traits/PaletteEffects",
          "OpenRA.Mods.Common/Traits/PaletteEffects",
          "OpenRA.Mods.Common/Traits/Palettes",
          "OpenRA.Game/Traits/Player",
          "OpenRA.Mods.Common/Traits/Player",
          "OpenRA.Mods.D2k/Traits/Player",
          "OpenRA.Mods.Common/Traits/Power",
          "OpenRA.Mods.Common/Traits/Power/Player",
          "OpenRA.Mods.Common/Traits/Radar",
          "OpenRA.Mods.Cnc/Traits/Render",
          "OpenRA.Mods.Common/Traits/Render",
          "OpenRA.Mods.D2k/Traits/Render",
          "OpenRA.Mods.Common/Traits/Sound",
          "OpenRA.Mods.Cnc/Traits/SupportPowers",
          "OpenRA.Mods.Common/Traits/SupportPowers",
          "OpenRA.Game/Traits/World",
          "OpenRA.Mods.Cnc/Traits/World",
          "OpenRA.Mods.Common/Traits/World",
          "OpenRA.Mods.D2k/Traits/World",
          "OpenRA.Mods.Common/UpdateRules",
          "OpenRA.Mods.Common/UpdateRules/Rules",
          "OpenRA.Mods.Common/UpdateRules/Rules/20191117",
          "OpenRA.Mods.Common/UpdateRules/Rules/20200202",
          "OpenRA.Mods.Common/UpdateRules/Rules/20200503",
          "OpenRA.Mods.Common/UpdateRules/Rules/20201213",
          "OpenRA.Game/UtilityCommands",
          "OpenRA.Mods.Cnc/UtilityCommands",
          "OpenRA.Mods.Common/UtilityCommands",
          "OpenRA.Mods.D2k/UtilityCommands",
          "OpenRA.Mods.Cnc/VideoLoaders",
          "OpenRA.Mods.Common/Warheads",
          "OpenRA.Mods.D2k/Warheads",
          "OpenRA.Game/Widgets",
          "OpenRA.Mods.Common/Widgets",
          "OpenRA.Mods.Cnc/Widgets/Logic",
          "OpenRA.Mods.Common/Widgets/Logic",
          "OpenRA.Mods.Common/Widgets/Logic/Editor",
          "OpenRA.Mods.Common/Widgets/Logic/Ingame",
          "OpenRA.Mods.Common/Widgets/Logic/Ingame/Hotkeys",
          "OpenRA.Mods.Common/Widgets/Logic/Installation",
          "OpenRA.Mods.Common/Widgets/Logic/Lobby",
          "OpenRA.Mods.Common/Widgets/Logic/Settings",
          "OpenRA.Game",
          "OpenRA.Launcher",
          "OpenRA.Mods.Cnc",
          "OpenRA.Mods.Common",
          "OpenRA.Mods.D2k",
          "OpenRA.Platforms.Default",
          "OpenRA.Server",
          "OpenRA.Test",
          "OpenRA.Utility",
          "OpenRA.WindowsLauncher"
         ],
         "labels": [
          "AIUtils.cs",
          "AcceptsDeliveredCash.cs",
          "AcceptsDeliveredExperience.cs",
          "ActionQueue.cs",
          "ActionQueueTest.cs",
          "Activity.cs",
          "ActivityUtils.cs",
          "Actor.cs",
          "ActorEditLogic.cs",
          "ActorExts.cs",
          "ActorGlobal.cs",
          "ActorInfo.cs",
          "ActorInfoDictionary.cs",
          "ActorInfoTest.cs",
          "ActorInitializer.cs",
          "ActorInitializer.cs",
          "ActorLostNotification.cs",
          "ActorMap.cs",
          "ActorPreview.cs",
          "ActorPreviewPlaceBuildingPreview.cs",
          "ActorPreviewWidget.cs",
          "ActorReference.cs",
          "ActorSelectorLogic.cs",
          "ActorSpawnManager.cs",
          "ActorSpawner.cs",
          "AddFactionSuffixLogic.cs",
          "AddPipDecorationTraits.cs",
          "AddResourceRenderer.cs",
          "AdvancedSettingsLogic.cs",
          "AffectedByPowerOutage.cs",
          "AffectsShroud.cs",
          "AirStates.cs",
          "Aircraft.cs",
          "AircraftProperties.cs",
          "AirstrikePower.cs",
          "AirstrikeProperties.cs",
          "AllyRepair.cs",
          "AlwaysVisible.cs",
          "AmbientSound.cs",
          "AmmoPool.cs",
          "AmmoPoolProperties.cs",
          "AngleGlobal.cs",
          "Animation.cs",
          "AnimationWithOffset.cs",
          "AnnounceOnKill.cs",
          "AnnounceOnSeen.cs",
          "AppearsOnMapPreview.cs",
          "AppearsOnRadar.cs",
          "AreaBeam.cs",
          "Arguments.cs",
          "Armament.cs",
          "Armor.cs",
          "ArmyTooltipLogic.cs",
          "AssemblyLoader.cs",
          "AssetBrowser.cs",
          "AssetBrowserLogic.cs",
          "AsyncAction.cs",
          "Attack.cs",
          "AttackAircraft.cs",
          "AttackBase.cs",
          "AttackBomber.cs",
          "AttackCharges.cs",
          "AttackFollow.cs",
          "AttackFrontal.cs",
          "AttackGarrisoned.cs",
          "AttackLeap.cs",
          "AttackMove.cs",
          "AttackMoveActivity.cs",
          "AttackOmni.cs",
          "AttackOrFleeFuzzy.cs",
          "AttackOrderPower.cs",
          "AttackPopupTurreted.cs",
          "AttackSounds.cs",
          "AttackSwallow.cs",
          "AttackTDGunboatTurreted.cs",
          "AttackTesla.cs",
          "AttackTurreted.cs",
          "AttackWander.cs",
          "AttractsWorms.cs",
          "AudLoader.cs",
          "AudReader.cs",
          "AudioSettingsLogic.cs",
          "AutoCarryable.cs",
          "AutoCarryall.cs",
          "AutoTarget.cs",
          "AutoTargetPriority.cs",
          "BackgroundWidget.cs",
          "BadgeWidget.cs",
          "BaseAttackNotifier.cs",
          "BaseBuilderBotModule.cs",
          "BaseBuilderQueueManager.cs",
          "BaseBuilding.cs",
          "BasePathSearch.cs",
          "BaseProvider.cs",
          "Beacon.cs",
          "BeaconGlobal.cs",
          "BeaconOrderGenerator.cs",
          "BeamRenderable.cs",
          "Benchmark.cs",
          "BigFile.cs",
          "BitSet.cs",
          "BlankLoadScreen.cs",
          "Blast.cs",
          "BlocksProjectiles.cs",
          "Blowfish.cs",
          "BlowfishKeyProvider.cs",
          "BodyOrientation.cs",
          "Bridge.cs",
          "BridgeHut.cs",
          "BridgeLayer.cs",
          "BridgePlaceholder.cs",
          "Buildable.cs",
          "BuildableTerrainLayer.cs",
          "BuildableTerrainOverlay.cs",
          "Building.cs",
          "BuildingInfluence.cs",
          "BuildingRepairBotModule.cs",
          "BuildingUtils.cs",
          "Bullet.cs",
          "ButtonTooltipLogic.cs",
          "ButtonWidget.cs",
          "CPos.cs",
          "CPosTest.cs",
          "CRC32.cs",
          "CVec.cs",
          "Cache.cs",
          "CallFunc.cs",
          "CallLuaFunc.cs",
          "CameraGlobal.cs",
          "Capsule.cs",
          "Capturable.cs",
          "CapturableProgressBar.cs",
          "CapturableProgressBlink.cs",
          "CaptureActor.cs",
          "CaptureManager.cs",
          "CaptureManagerBotModule.cs",
          "CaptureNotification.cs",
          "CaptureProgressBar.cs",
          "CaptureProperties.cs",
          "Captures.cs",
          "Cargo.cs",
          "Carryable.cs",
          "CarryableHarvester.cs",
          "Carryall.cs",
          "CashTrickler.cs",
          "CashTricklerBar.cs",
          "CashTricklerMultiplier.cs",
          "CellInfo.cs",
          "CellInfoLayerPool.cs",
          "CellLayer.cs",
          "CellLayerBase.cs",
          "CellRegion.cs",
          "ChangeOwnerWarhead.cs",
          "ChangeTargetLineDelayToMilliseconds.cs",
          "ChangesHealth.cs",
          "ChangesTerrain.cs",
          "ChatCommands.cs",
          "CheckActorReferences.cs",
          "CheckActors.cs",
          "CheckAngle.cs",
          "CheckChromeHotkeys.cs",
          "CheckChromeLogic.cs",
          "CheckConditionalTraitInterfaceOverrides.cs",
          "CheckConditions.cs",
          "CheckConflictingMouseBounds.cs",
          "CheckCursors.cs",
          "CheckDefaultVisibility.cs",
          "CheckExplicitInterfacesCommand.cs",
          "CheckHitShapes.cs",
          "CheckImportActors.cs",
          "CheckLocomotorReferences.cs",
          "CheckMapCordon.cs",
          "CheckMapMetadata.cs",
          "CheckMapTiles.cs",
          "CheckMissingSprites.cs",
          "CheckNotifications.cs",
          "CheckOwners.cs",
          "CheckPalettes.cs",
          "CheckPlayers.cs",
          "CheckRangeLimit.cs",
          "CheckRevealFootprint.cs",
          "CheckSequences.cs",
          "CheckSpriteBodies.cs",
          "CheckSyncAnnotations.cs",
          "CheckTooltips.cs",
          "CheckTraitLocation.cs",
          "CheckTraitPrerequisites.cs",
          "CheckUnknownTraitFields.cs",
          "CheckUnknownWeaponFields.cs",
          "CheckVoiceReferences.cs",
          "CheckWorldAndPlayerInherits.cs",
          "CheckYaml.cs",
          "CheckboxWidget.cs",
          "ChromeMetrics.cs",
          "ChromeProvider.cs",
          "ChronoshiftPaletteEffect.cs",
          "ChronoshiftPower.cs",
          "Chronoshiftable.cs",
          "ChronosphereProperties.cs",
          "Circle.cs",
          "CircleAnnotationRenderable.cs",
          "ClassicFacingBodyOrientation.cs",
          "ClassicParallelProductionQueue.cs",
          "ClassicProductionLogic.cs",
          "ClassicProductionQueue.cs",
          "ClassicSpriteSequence.cs",
          "ClassicTilesetSpecificSpriteSequence.cs",
          "ClearInvalidModRegistrationsCommand.cs",
          "ClientTooltipRegionWidget.cs",
          "CliffBackImpassabilityLayer.cs",
          "Cloak.cs",
          "CloakPaletteEffect.cs",
          "CloakProperties.cs",
          "Cloneable.cs",
          "ClonesProducedUnits.cs",
          "CncLoadScreen.cs",
          "Color.cs",
          "ColorBlockWidget.cs",
          "ColorGlobal.cs",
          "ColorMixerWidget.cs",
          "ColorPickerLogic.cs",
          "ColorPickerManager.cs",
          "ColorPickerPalette.cs",
          "CombatDebugOverlay.cs",
          "CombatProperties.cs",
          "CommandBarBlacklist.cs",
          "CommandBarLogic.cs",
          "CommonSelectorLogic.cs",
          "ConcurrentCache.cs",
          "ConditionProperties.cs",
          "ConditionalTrait.cs",
          "ConfirmationDialogs.cs",
          "Connection.cs",
          "Connection.cs",
          "ConnectionLogic.cs",
          "ConnectionTarget.cs",
          "ConquestVictoryConditions.cs",
          "Contrail.cs",
          "ContrailFader.cs",
          "ContrailRenderable.cs",
          "ControlGroupLogic.cs",
          "ConvertBoundsToWDist.cs",
          "ConvertPngToShpCommand.cs",
          "ConvertSpriteToPngCommand.cs",
          "ConvertSupportPowerRangesToFootprint.cs",
          "ConyardChronoReturn.cs",
          "CoordinateGlobals.cs",
          "CoordinateTest.cs",
          "CopyIsometricSelectableHeight.cs",
          "Crate.cs",
          "CrateAction.cs",
          "CrateSpawner.cs",
          "CreateEffectWarhead.cs",
          "CreateFlashPaletteEffectWarhead.cs",
          "CreateManPage.cs",
          "CreateMapPlayers.cs",
          "CreateResourceWarhead.cs",
          "CreateScreenShakeWarhead.cs",
          "CreatesShroud.cs",
          "CreatesShroudMultiplier.cs",
          "CreditsLogic.cs",
          "Crushable.cs",
          "CryptoUtil.cs",
          "CursorManager.cs",
          "CursorProvider.cs",
          "CursorSequence.cs",
          "CustomSellValue.cs",
          "CustomTerrainDebugOverlay.cs",
          "CycleBasesHotkeyLogic.cs",
          "CycleHarvestersHotkeyLogic.cs",
          "CycleProductionActorsHotkeyLogic.cs",
          "CycleStatusBarsHotkeyLogic.cs",
          "D2kActorPreviewPlaceBuildingPreview.cs",
          "D2kBuilding.cs",
          "D2kFogPalette.cs",
          "D2kMapImporter.cs",
          "D2kResourceRenderer.cs",
          "D2kSoundResources.cs",
          "DamageMultiplier.cs",
          "DamageWarhead.cs",
          "DamagedByTerrain.cs",
          "DamagesConcreteWarhead.cs",
          "DateTimeGlobal.cs",
          "DdsLoader.cs",
          "DeathSounds.cs",
          "DebugChromeRegions.cs",
          "DebugLogic.cs",
          "DebugMenuLogic.cs",
          "DebugPauseState.cs",
          "DebugVisualizationCommands.cs",
          "DebugVisualizations.cs",
          "DefaultPlatform.cs",
          "DefaultPlayer.cs",
          "DefaultSpriteSequence.cs",
          "DefaultTerrain.cs",
          "DefaultTileCache.cs",
          "DelayedAction.cs",
          "DelayedImpact.cs",
          "DeliverResources.cs",
          "DeliverUnit.cs",
          "DeliversCash.cs",
          "DeliversExperience.cs",
          "DeliveryProperties.cs",
          "Demolish.cs",
          "Demolishable.cs",
          "Demolition.cs",
          "DemolitionProperties.cs",
          "DeployForGrantedCondition.cs",
          "DeployOrderTargeter.cs",
          "DepthPreviewHotkeysLogic.cs",
          "DestroyResourceWarhead.cs",
          "DetectCloaked.cs",
          "DetectCloakedMultiplier.cs",
          "DetectionCircleAnnotationRenderable.cs",
          "DevCommands.cs",
          "DeveloperMode.cs",
          "DiplomacyProperties.cs",
          "DirectConnectLogic.cs",
          "DisconnectWatcherLogic.cs",
          "DiscordService.cs",
          "Disguise.cs",
          "DisguiseProperties.cs",
          "DisplaySettingsLogic.cs",
          "DisposableAction.cs",
          "DomainIndex.cs",
          "DonateCash.cs",
          "DonateExperience.cs",
          "DownloadPackageLogic.cs",
          "Drag.cs",
          "DrainPrerequisitePowerOnDamage.cs",
          "DrawLineToTarget.cs",
          "DropDownButtonWidget.cs",
          "DropPodImpact.cs",
          "DropPodsPower.cs",
          "DummyBot.cs",
          "DummySoundEngine.cs",
          "DumpSequenceSheetsCommand.cs",
          "DuplicateUnitCrateAction.cs",
          "EdibleByLeap.cs",
          "EditorActionManager.cs",
          "EditorActorBrush.cs",
          "EditorActorLayer.cs",
          "EditorActorPreview.cs",
          "EditorCopyPasteBrush.cs",
          "EditorCursorLayer.cs",
          "EditorDefaultBrush.cs",
          "EditorResourceBrush.cs",
          "EditorResourceLayer.cs",
          "EditorSelectionLayer.cs",
          "EditorTileBrush.cs",
          "EditorViewportControllerWidget.cs",
          "EjectOnDeath.cs",
          "ElevatedBridgeLayer.cs",
          "ElevatedBridgePlaceholder.cs",
          "EnemyWatcher.cs",
          "EnergyWall.cs",
          "EngineerRepair.cs",
          "EngineerRepairable.cs",
          "Enter.cs",
          "EnterAlliedActorTargeter.cs",
          "EntersTunnels.cs",
          "Evaluator.cs",
          "ExceptionHandler.cs",
          "Exit.cs",
          "ExitsDebugOverlay.cs",
          "ExitsDebugOverlayManager.cs",
          "ExperienceTrickler.cs",
          "ExplodeCrateAction.cs",
          "Explodes.cs",
          "ExplosionOnDamageTransition.cs",
          "ExponentialSliderWidget.cs",
          "Extensions.cs",
          "ExternalCondition.cs",
          "ExternalMods.cs",
          "ExtractFilesCommand.cs",
          "ExtractLuaDocsCommand.cs",
          "ExtractMapRules.cs",
          "ExtractSettingsDocsCommand.cs",
          "ExtractTraitDocsCommand.cs",
          "ExtractWeaponDocsCommand.cs",
          "ExtractZeroBraneStudioLuaAPI.cs",
          "Exts.cs",
          "Exts.cs",
          "FacingGlobal.cs",
          "Faction.cs",
          "FallToEarth.cs",
          "FallsToEarth.cs",
          "FastByteReader.cs",
          "FieldLoader.cs",
          "FieldSaver.cs",
          "FileSystem.cs",
          "FindAndDeliverResources.cs",
          "FireClusterWarhead.cs",
          "FirepowerMultiplier.cs",
          "FixedColorPalette.cs",
          "FlashPaletteEffect.cs",
          "FlashPaletteEffectWarhead.cs",
          "FlashTarget.cs",
          "FloatingText.cs",
          "Fly.cs",
          "FlyAttack.cs",
          "FlyFollow.cs",
          "FlyForward.cs",
          "FlyIdle.cs",
          "FlyOffMap.cs",
          "Folder.cs",
          "Follow.cs",
          "Fonts.cs",
          "FootprintPlaceBuildingPreview.cs",
          "ForceModifiersOrderGenerator.cs",
          "FrameBuffer.cs",
          "FreeActor.cs",
          "FreeActorWithDelivery.cs",
          "FreeTypeFont.cs",
          "FrozenActorLayer.cs",
          "FrozenUnderFog.cs",
          "FrozenUnderFogUpdatedByGps.cs",
          "GainsExperience.cs",
          "GainsExperienceMultiplier.cs",
          "GainsExperienceProperties.cs",
          "Game.cs",
          "GameInfoBriefingLogic.cs",
          "GameInfoLogic.cs",
          "GameInfoObjectivesLogic.cs",
          "GameInfoStatsLogic.cs",
          "GameInformation.cs",
          "GameSave.cs",
          "GameSaveBrowserLogic.cs",
          "GameSaveLoadingLogic.cs",
          "GameSaveViewportManager.cs",
          "GameServer.cs",
          "GameSpeed.cs",
          "GameTimerLogic.cs",
          "Gate.cs",
          "GeneralProperties.cs",
          "GeoIP.cs",
          "GetMapHashCommand.cs",
          "GiveCashCrateAction.cs",
          "GiveMcvCrateAction.cs",
          "GiveUnitCrateAction.cs",
          "GivesBounty.cs",
          "GivesBuildableArea.cs",
          "GivesCashOnCapture.cs",
          "GivesExperience.cs",
          "GivesExperienceMultiplier.cs",
          "Glob.cs",
          "GlobalButtonOrderGenerator.cs",
          "GlobalLightingPaletteEffect.cs",
          "GpsDot.cs",
          "GpsDotEffect.cs",
          "GpsPower.cs",
          "GpsSatellite.cs",
          "GpsWatcher.cs",
          "GradientColorBlockWidget.cs",
          "GrantCondition.cs",
          "GrantConditionOnAttack.cs",
          "GrantConditionOnBotOwner.cs",
          "GrantConditionOnCombatantOwner.cs",
          "GrantConditionOnDamageState.cs",
          "GrantConditionOnDeploy.cs",
          "GrantConditionOnFaction.cs",
          "GrantConditionOnHealth.cs",
          "GrantConditionOnJumpjetLayer.cs",
          "GrantConditionOnLayer.cs",
          "GrantConditionOnLineBuildDirection.cs",
          "GrantConditionOnMovement.cs",
          "GrantConditionOnPlayerResources.cs",
          "GrantConditionOnPowerState.cs",
          "GrantConditionOnPrerequisite.cs",
          "GrantConditionOnPrerequisiteManager.cs",
          "GrantConditionOnProduction.cs",
          "GrantConditionOnSubterraneanLayer.cs",
          "GrantConditionOnTerrain.cs",
          "GrantConditionOnTileSet.cs",
          "GrantConditionOnTunnelLayer.cs",
          "GrantConditionWhileAiming.cs",
          "GrantExternalConditionCrateAction.cs",
          "GrantExternalConditionPower.cs",
          "GrantExternalConditionToCrusher.cs",
          "GrantExternalConditionToProduced.cs",
          "GrantExternalConditionWarhead.cs",
          "GrantPrerequisiteChargeDrainPower.cs",
          "GrantRandomCondition.cs",
          "GravityBomb.cs",
          "GridLayout.cs",
          "GroundLevelBridge.cs",
          "GroundStates.cs",
          "Guard.cs",
          "GuardOrderGenerator.cs",
          "GuardProperties.cs",
          "Guardable.cs",
          "HandicapDamageMultiplier.cs",
          "HandicapFirepowerMultiplier.cs",
          "HandicapProductionTimeMultiplier.cs",
          "Handshake.cs",
          "HardwarePalette.cs",
          "HarvestResource.cs",
          "Harvester.cs",
          "HarvesterAttackNotifier.cs",
          "HarvesterBotModule.cs",
          "HarvesterDockSequence.cs",
          "HarvesterHuskModifier.cs",
          "HarvesterInsurance.cs",
          "HarvesterProperties.cs",
          "HealActorsCrateAction.cs",
          "Health.cs",
          "HealthPercentageDamageWarhead.cs",
          "HealthProperties.cs",
          "HelpCommand.cs",
          "HiddenUnderFog.cs",
          "HiddenUnderShroud.cs",
          "HideMapCrateAction.cs",
          "HistoryLogLogic.cs",
          "HitShape.cs",
          "Hotkey.cs",
          "HotkeyDefinition.cs",
          "HotkeyEntryWidget.cs",
          "HotkeyManager.cs",
          "HotkeyReference.cs",
          "HotkeysSettingsLogic.cs",
          "Hovers.cs",
          "HttpClientFactory.cs",
          "HttpExtension.cs",
          "HttpQueryBuilder.cs",
          "Hunt.cs",
          "Huntable.cs",
          "Husk.cs",
          "HvaReader.cs",
          "IEffect.cs",
          "IHitShape.cs",
          "IInputHandler.cs",
          "IObservableCollection.cs",
          "IOrderGenerator.cs",
          "IPackage.cs",
          "ITextureInternal.cs",
          "IUtilityCommand.cs",
          "IdxEntry.cs",
          "IdxReader.cs",
          "IgnoresCloak.cs",
          "IgnoresDisguise.cs",
          "ImaAdpcmReader.cs",
          "ImageWidget.cs",
          "Immobile.cs",
          "ImportD2kMapCommand.cs",
          "ImportLegacyMapCommand.cs",
          "ImportRedAlertLegacyMapCommand.cs",
          "ImportTSMapCommand.cs",
          "ImportTiberianDawnLegacyMapCommand.cs",
          "InaccuracyMultiplier.cs",
          "IndexedPalette.cs",
          "IndexedPlayerPalette.cs",
          "Infiltrate.cs",
          "InfiltrateForCash.cs",
          "InfiltrateForDecoration.cs",
          "InfiltrateForExploration.cs",
          "InfiltrateForPowerOutage.cs",
          "InfiltrateForSupportPower.cs",
          "InfiltrateForSupportPowerReset.cs",
          "InfiltrateForTransform.cs",
          "InfiltrateProperties.cs",
          "Infiltrates.cs",
          "IngameCashCounterLogic.cs",
          "IngameChatLogic.cs",
          "IngameMenuLogic.cs",
          "IngamePowerBarLogic.cs",
          "IngamePowerCounterLogic.cs",
          "IngameRadarDisplayLogic.cs",
          "IngameSiloBarLogic.cs",
          "IngameTransientNotificationsLogic.cs",
          "IniFile.cs",
          "InputHandler.cs",
          "InputSettingsLogic.cs",
          "InstallFromDiscLogic.cs",
          "InstallShieldCABCompression.cs",
          "InstallShieldPackage.cs",
          "InstalledMods.cs",
          "InstantHit.cs",
          "Int32Matrix4x4.cs",
          "Interactable.cs",
          "IntroductionPromptLogic.cs",
          "IonCannon.cs",
          "IonCannonPower.cs",
          "IonCannonProperties.cs",
          "IsometricSelectable.cs",
          "IsometricSelectionBarsAnnotationRenderable.cs",
          "IsometricSelectionBoxAnnotationRenderable.cs",
          "IsometricSelectionDecorations.cs",
          "JamsMissiles.cs",
          "JumpToLastEventHotkeyLogic.cs",
          "JumpToSelectedActorsHotkeyLogic.cs",
          "JumpjetActorLayer.cs",
          "JumpjetLocomotor.cs",
          "Keycode.cs",
          "KickClientLogic.cs",
          "KickSpectatorsLogic.cs",
          "KillsSelf.cs",
          "LCWCompression.cs",
          "LZOCompression.cs",
          "LabelWidget.cs",
          "LabelWithHighlightWidget.cs",
          "LabelWithTooltipWidget.cs",
          "Land.cs",
          "LaserZap.cs",
          "LatencyTooltipLogic.cs",
          "LaunchArguments.cs",
          "LayMines.cs",
          "LayerSelectorLogic.cs",
          "Leap.cs",
          "LeapAttack.cs",
          "LeaveSmudgeWarhead.cs",
          "LeavesTrails.cs",
          "LegacyBridgeHut.cs",
          "LegacyBridgeLayer.cs",
          "LegacyRulesImporter.cs",
          "LegacySequenceImporter.cs",
          "LegacyTilesetImporter.cs",
          "LevelUpCrateAction.cs",
          "LightPaletteRotator.cs",
          "LightingGlobal.cs",
          "LineAnnotationRenderable.cs",
          "LineBuild.cs",
          "LineBuildNode.cs",
          "LineBuildSegmentExternalCondition.cs",
          "LineGraphWidget.cs",
          "LintAttributes.cs",
          "LintAttributes.cs",
          "LintBuildablePrerequisites.cs",
          "LintExts.cs",
          "LintInterfaces.cs",
          "ListInstallShieldCabContentsCommand.cs",
          "ListInstallShieldContentsCommand.cs",
          "ListLayout.cs",
          "ListMSCabContentsCommand.cs",
          "ListMixContentsCommand.cs",
          "LoadIngameChatLogic.cs",
          "LoadIngamePerfLogic.cs",
          "LoadIngamePlayerOrObserverUILogic.cs",
          "LoadMapEditorLogic.cs",
          "LoadWidgetAtGameStart.cs",
          "LobbyCommands.cs",
          "LobbyLogic.cs",
          "LobbyOptionsLogic.cs",
          "LobbyPrerequisiteCheckbox.cs",
          "LobbySettingsNotification.cs",
          "LobbyUtils.cs",
          "LocalMoveIntoTarget.cs",
          "LocalPlayerProfile.cs",
          "Locomotor.cs",
          "Log.cs",
          "LogProxy.cs",
          "LogicKeyListenerWidget.cs",
          "LogicTickerWidget.cs",
          "LogoStripeLoadScreen.cs",
          "LongBitSet.cs",
          "LuaScript.cs",
          "MPos.cs",
          "MSCabCompression.cs",
          "MadTank.cs",
          "MainMenuLogic.cs",
          "Manifest.cs",
          "Map.cs",
          "MapBuildRadius.cs",
          "MapCache.cs",
          "MapChooserLogic.cs",
          "MapCoordsRegion.cs",
          "MapCreeps.cs",
          "MapEditorData.cs",
          "MapEditorLogic.cs",
          "MapEditorTabsLogic.cs",
          "MapGlobal.cs",
          "MapGrid.cs",
          "MapNotificationEffect.cs",
          "MapOptions.cs",
          "MapPlayers.cs",
          "MapPreview.cs",
          "MapPreviewLogic.cs",
          "MapPreviewWidget.cs",
          "MapStartingLocations.cs",
          "MapStartingUnits.cs",
          "MapStatusCache.cs",
          "MasterServerPinger.cs",
          "McvManagerBotModule.cs",
          "Media.cs",
          "MediaGlobal.cs",
          "MegFile.cs",
          "MenuButtonWidget.cs",
          "MenuButtonsChromeLogic.cs",
          "MenuPaletteEffect.cs",
          "MergedStream.cs",
          "MersenneTwister.cs",
          "Mine.cs",
          "Minelayer.cs",
          "MiniYaml.cs",
          "MiniYamlTest.cs",
          "Missile.cs",
          "MissionBrowserLogic.cs",
          "MissionData.cs",
          "MissionObjectiveProperties.cs",
          "MissionObjectives.cs",
          "MixFile.cs",
          "Mobile.cs",
          "MobileProperties.cs",
          "ModContent.cs",
          "ModContentDiscTooltipLogic.cs",
          "ModContentLoadScreen.cs",
          "ModContentLogic.cs",
          "ModContentPromptLogic.cs",
          "ModCredits.cs",
          "ModData.cs",
          "Model.cs",
          "ModelActorPreview.cs",
          "ModelAnimation.cs",
          "ModelRenderable.cs",
          "ModelRenderer.cs",
          "ModelWidget.cs",
          "ModernizeDecorationTraits.cs",
          "ModularBot.cs",
          "MouseAttachmentWidget.cs",
          "Move.cs",
          "MoveAdjacentTo.cs",
          "MoveClassicFacingFudge.cs",
          "MoveWithinRange.cs",
          "Mp3Loader.cs",
          "MultiTapDetection.cs",
          "MultiplayerLogic.cs",
          "MusicHotkeyLogic.cs",
          "MusicInfo.cs",
          "MusicPlayerLogic.cs",
          "MusicPlaylist.cs",
          "MustBeDestroyed.cs",
          "MuteHotkeyLogic.cs",
          "MuteIndicatorLogic.cs",
          "Nat.cs",
          "NavyStates.cs",
          "NewMapLogic.cs",
          "NukeLaunch.cs",
          "NukePower.cs",
          "NukeProperties.cs",
          "ObjectCreator.cs",
          "ObservableCollection.cs",
          "ObservableDictionary.cs",
          "ObservableList.cs",
          "ObserverArmyIconsWidget.cs",
          "ObserverProductionIconsWidget.cs",
          "ObserverShroudSelectorLogic.cs",
          "ObserverStatsLogic.cs",
          "ObserverSupportPowerIconsWidget.cs",
          "OggLoader.cs",
          "OpenAlSoundEngine.cs",
          "OpenGL.cs",
          "Order.cs",
          "OrderButtonsChromeLogic.cs",
          "OrderEffects.cs",
          "OrderGenerator.cs",
          "OrderIO.cs",
          "OrderManager.cs",
          "OrderTest.cs",
          "OutputResolvedRulesCommand.cs",
          "OutputResolvedSequencesCommand.cs",
          "OutputResolvedWeaponsCommand.cs",
          "OwnerLostAction.cs",
          "PackageEntry.cs",
          "Pak.cs",
          "Palette.cs",
          "PaletteFromEmbeddedSpritePalette.cs",
          "PaletteFromFile.cs",
          "PaletteFromGimpOrJascFile.cs",
          "PaletteFromPaletteWithAlpha.cs",
          "PaletteFromPlayerPaletteWithAlpha.cs",
          "PaletteFromPng.cs",
          "PaletteFromRGBA.cs",
          "PaletteFromScaledPalette.cs",
          "PaletteReference.cs",
          "ParaDrop.cs",
          "Parachutable.cs",
          "Parachute.cs",
          "ParadropProperties.cs",
          "ParallelProductionQueue.cs",
          "ParatroopersPower.cs",
          "ParatroopersProperties.cs",
          "Passenger.cs",
          "PasswordFieldWidget.cs",
          "PathFinder.cs",
          "PathGraph.cs",
          "PathSearch.cs",
          "PausableConditionalTrait.cs",
          "PauseHotkeyLogic.cs",
          "PerfDebugLogic.cs",
          "PerfGraphWidget.cs",
          "PerfHistory.cs",
          "PerfItem.cs",
          "PerfSample.cs",
          "PerfTickLogger.cs",
          "PerfTimer.cs",
          "PickupUnit.cs",
          "PlaceBeacon.cs",
          "PlaceBuilding.cs",
          "PlaceBuildingOrderGenerator.cs",
          "PlaceBuildingVariants.cs",
          "Platform.cs",
          "PlatformInterfaces.cs",
          "PlatformTest.cs",
          "Player.cs",
          "PlayerColorPalette.cs",
          "PlayerColorRemap.cs",
          "PlayerCommands.cs",
          "PlayerConditionProperties.cs",
          "PlayerDatabase.cs",
          "PlayerDictionary.cs",
          "PlayerExperience.cs",
          "PlayerExperienceProperties.cs",
          "PlayerExtensions.cs",
          "PlayerGlobal.cs",
          "PlayerPinger.cs",
          "PlayerProfile.cs",
          "PlayerProfileLogic.cs",
          "PlayerProperties.cs",
          "PlayerRadarTerrain.cs",
          "PlayerReference.cs",
          "PlayerResources.cs",
          "PlayerStatistics.cs",
          "PlayerStatsProperties.cs",
          "Plug.cs",
          "Pluggable.cs",
          "Png.cs",
          "PngSheetExportMetadataCommand.cs",
          "PngSheetImportMetadataCommand.cs",
          "PngSheetLoader.cs",
          "Polygon.cs",
          "Polygon.cs",
          "PolygonAnnotationRenderable.cs",
          "PortableChrono.cs",
          "Power.cs",
          "PowerManager.cs",
          "PowerMultiplier.cs",
          "PowerProperties.cs",
          "PowerTooltip.cs",
          "PreReleaseWarningPrompt.cs",
          "PrimaryBuilding.cs",
          "PriorityQueue.cs",
          "PriorityQueueTest.cs",
          "ProduceActorPower.cs",
          "ProducibleWithLevel.cs",
          "Production.cs",
          "ProductionAirdrop.cs",
          "ProductionBar.cs",
          "ProductionCostMultiplier.cs",
          "ProductionFromMapEdge.cs",
          "ProductionPaletteWidget.cs",
          "ProductionParadrop.cs",
          "ProductionProperties.cs",
          "ProductionQueue.cs",
          "ProductionQueueFromSelection.cs",
          "ProductionTabsLogic.cs",
          "ProductionTabsWidget.cs",
          "ProductionTimeMultiplier.cs",
          "ProductionTooltipLogic.cs",
          "ProductionTypeButtonWidget.cs",
          "Program.cs",
          "Program.cs",
          "Program.cs",
          "Program.cs",
          "Program.cs",
          "ProgressBarWidget.cs",
          "ProjectedCellLayer.cs",
          "ProjectedCellRegion.cs",
          "ProtectionStates.cs",
          "ProtocolVersion.cs",
          "ProvidesPrerequisite.cs",
          "ProvidesRadar.cs",
          "ProvidesTechPrerequisite.cs",
          "ProximityCaptor.cs",
          "ProximityCapturable.cs",
          "ProximityExternalCondition.cs",
          "QuantizeFacingsFromSequence.cs",
          "R8Loader.cs",
          "RGBASpriteWidget.cs",
          "RLEZerosCompression.cs",
          "RadarColorFromTerrain.cs",
          "RadarGlobal.cs",
          "RadarPings.cs",
          "RadarWidget.cs",
          "Railgun.cs",
          "RailgunRenderable.cs",
          "RallyPoint.cs",
          "RallyPointIndicator.cs",
          "RangeCircleAnnotationRenderable.cs",
          "RangeMultiplier.cs",
          "ReadOnlyAdapterStream.cs",
          "Rearmable.cs",
          "Rectangle.cs",
          "Rectangle.cs",
          "Refinery.cs",
          "ReformatChromeProvider.cs",
          "RefreshMapCommand.cs",
          "RegisterModCommand.cs",
          "ReinforcementsGlobal.cs",
          "RejectsOrders.cs",
          "ReloadAmmoDelayMultiplier.cs",
          "ReloadAmmoPool.cs",
          "ReloadArmamentsBar.cs",
          "ReloadDelayMultiplier.cs",
          "RemapShpCommand.cs",
          "RemoveAirdropActorTypeDefault.cs",
          "RemoveConditionManager.cs",
          "RemoveFromControlGroupHotkeyLogic.cs",
          "RemoveInitialFacingHardcoding.cs",
          "RemoveLaysTerrain.cs",
          "RemoveMuzzleSplitFacings.cs",
          "RemovePlaceBuildingPalette.cs",
          "RemovePlayerHighlightPalette.cs",
          "RemoveRenderSpritesScale.cs",
          "RemoveResourceType.cs",
          "RemoveSelf.cs",
          "RemoveSmokeTrailWhenDamaged.cs",
          "RemoveTurnToDock.cs",
          "RemoveWithPermanentInjury.cs",
          "RemoveYesNo.cs",
          "RenameCircleOutline.cs",
          "RenameHealCrateAction.cs",
          "RenameInfiltrationNotifications.cs",
          "RenameMPTraits.cs",
          "RenameProneTime.cs",
          "RenameRallyPointPath.cs",
          "RenameSelfHealing.cs",
          "RenameSmudgeSmokeFields.cs",
          "RenameSpins.cs",
          "RenameStances.cs",
          "RenameSupportPowerDescription.cs",
          "RenameWithNukeLaunch.cs",
          "RenderDebugState.cs",
          "RenderDetectionCircle.cs",
          "RenderJammerCircle.cs",
          "RenderRangeCircle.cs",
          "RenderShroudCircle.cs",
          "RenderSprites.cs",
          "RenderSpritesEditorOnly.cs",
          "RenderUtils.cs",
          "RenderVoxels.cs",
          "Renderable.cs",
          "Renderer.cs",
          "RepairBridge.cs",
          "RepairBuilding.cs",
          "RepairOrderGenerator.cs",
          "Repairable.cs",
          "RepairableBuilding.cs",
          "RepairableBuildingProperties.cs",
          "RepairableNear.cs",
          "RepairsBridges.cs",
          "RepairsUnits.cs",
          "ReplaceAttackTypeStrafe.cs",
          "ReplaceBurns.cs",
          "ReplaceCrateSecondsWithTicks.cs",
          "ReplaceFacingAngles.cs",
          "ReplaceResourceValueModifiers.cs",
          "ReplaceShadowPalette.cs",
          "ReplaceWithColoredOverlayPalette.cs",
          "Replaceable.cs",
          "Replacement.cs",
          "ReplayBrowserLogic.cs",
          "ReplayConnection.cs",
          "ReplayControlBarLogic.cs",
          "ReplayMetadata.cs",
          "ReplayMetadataCommand.cs",
          "ReplayRecorder.cs",
          "ReplayUtils.cs",
          "RequiresBuildableArea.cs",
          "RequiresSpecificOwners.cs",
          "Reservable.cs",
          "ResetZoomHotkey.cs",
          "ResizeMapCommand.cs",
          "ResourceBarWidget.cs",
          "ResourceClaimLayer.cs",
          "ResourceLayer.cs",
          "ResourcePreviewWidget.cs",
          "ResourceProperties.cs",
          "ResourcePurifier.cs",
          "ResourceRenderer.cs",
          "ResourceStorageWarning.cs",
          "ResourceValueMultiplier.cs",
          "Resupply.cs",
          "ReturnToBase.cs",
          "RevealMapCrateAction.cs",
          "RevealOnDeath.cs",
          "RevealOnFire.cs",
          "RevealShroudEffect.cs",
          "RevealsMap.cs",
          "RevealsShroud.cs",
          "RevealsShroudMultiplier.cs",
          "Rgba2Hex.cs",
          "RgbaColorRenderer.cs",
          "RgbaSpriteRenderer.cs",
          "RideTransport.cs",
          "RotationPaletteEffect.cs",
          "Ruleset.cs",
          "Sandworm.cs",
          "SatelliteLaunch.cs",
          "SaveMapLogic.cs",
          "ScalePowerWithHealth.cs",
          "ScaredCatProperties.cs",
          "ScaredyCat.cs",
          "ScreenMap.cs",
          "ScreenShaker.cs",
          "ScreenshotHotkeyLogic.cs",
          "ScriptActorInterface.cs",
          "ScriptContext.cs",
          "ScriptLobbyDropdown.cs",
          "ScriptMemberExts.cs",
          "ScriptMemberWrapper.cs",
          "ScriptObjectWrapper.cs",
          "ScriptPlayerInterface.cs",
          "ScriptTags.cs",
          "ScriptTriggers.cs",
          "ScriptTypes.cs",
          "ScrollItemWidget.cs",
          "ScrollPanelWidget.cs",
          "Sdl2GraphicsContext.cs",
          "Sdl2HardwareCursor.cs",
          "Sdl2Input.cs",
          "Sdl2PlatformWindow.cs",
          "SeedsResource.cs",
          "SegmentStream.cs",
          "SelectAllUnitsHotkeyLogic.cs",
          "SelectDirectionalTarget.cs",
          "SelectUnitsByTypeHotkeyLogic.cs",
          "Selectable.cs",
          "SelectableExts.cs",
          "Selection.cs",
          "SelectionBarsAnnotationRenderable.cs",
          "SelectionBoxAnnotationRenderable.cs",
          "SelectionDecorations.cs",
          "SelectionDecorationsBase.cs",
          "SelectionUtils.cs",
          "Sell.cs",
          "Sellable.cs",
          "SellableProperties.cs",
          "SequencePlaceBuildingPreview.cs",
          "SequenceProvider.cs",
          "Server.cs",
          "ServerCreationLogic.cs",
          "ServerListLogic.cs",
          "Session.cs",
          "Settings.cs",
          "SettingsLogic.cs",
          "SettingsUtils.cs",
          "Shader.cs",
          "ShakeOnDeath.cs",
          "ShakeScreenWarhead.cs",
          "ShapeTest.cs",
          "Sheet.cs",
          "SheetBuilder.cs",
          "SheetLoadScreen.cs",
          "ShpD2Loader.cs",
          "ShpRemasteredLoader.cs",
          "ShpTDLoader.cs",
          "ShpTSLoader.cs",
          "Shroud.cs",
          "ShroudExts.cs",
          "ShroudPalette.cs",
          "ShroudRenderer.cs",
          "SimpleTeleport.cs",
          "SimpleTooltipLogic.cs",
          "SingleHotkeyBaseLogic.cs",
          "Size.cs",
          "SliderWidget.cs",
          "SmudgeLayer.cs",
          "Sound.cs",
          "SoundDevice.cs",
          "SoundInfo.cs",
          "SoundOnDamageTransition.cs",
          "SpatiallyPartitioned.cs",
          "SpatiallyPartitionedTest.cs",
          "SpawnActorEffect.cs",
          "SpawnActorOnDeath.cs",
          "SpawnActorPower.cs",
          "SpawnActorPowerDefaultEffect.cs",
          "SpawnActorsOnSell.cs",
          "SpawnMapActors.cs",
          "SpawnSelectorTooltipLogic.cs",
          "SpawnStartingUnits.cs",
          "SpeedMultiplier.cs",
          "SpiceBloom.cs",
          "SplitDamagedByTerrain.cs",
          "SpreadDamageWarhead.cs",
          "Sprite.cs",
          "SpriteActorPreview.cs",
          "SpriteAnnotation.cs",
          "SpriteEffect.cs",
          "SpriteFont.cs",
          "SpriteHarvesterDockSequence.cs",
          "SpriteLoader.cs",
          "SpriteRenderable.cs",
          "SpriteRenderer.cs",
          "SpriteWidget.cs",
          "Squad.cs",
          "SquadManagerBotModule.cs",
          "StanceSelectorLogic.cs",
          "StartGameNotification.cs",
          "StateBase.cs",
          "StateMachine.cs",
          "StoresResources.cs",
          "StrategicProgressWidget.cs",
          "StrategicVictoryConditions.cs",
          "StreamExts.cs",
          "StreamExtsTests.cs",
          "SubterraneanActorLayer.cs",
          "SubterraneanLocomotor.cs",
          "SupportPower.cs",
          "SupportPowerBinLogic.cs",
          "SupportPowerBotModule.cs",
          "SupportPowerChargeBar.cs",
          "SupportPowerCrateAction.cs",
          "SupportPowerDecision.cs",
          "SupportPowerManager.cs",
          "SupportPowerTimerWidget.cs",
          "SupportPowerTooltipLogic.cs",
          "SupportPowersWidget.cs",
          "SwallowActor.cs",
          "Sync.cs",
          "SyncReport.cs",
          "SystemInfoPromptLogic.cs",
          "TDGunboat.cs",
          "TSEditorResourceLayer.cs",
          "TSResourceLayer.cs",
          "TSShroudPalette.cs",
          "TSTiberiumRenderer.cs",
          "TSVeinsRenderer.cs",
          "TabCompletionLogic.cs",
          "TakeCover.cs",
          "TakeOff.cs",
          "Target.cs",
          "TargetDamageWarhead.cs",
          "TargetExtensions.cs",
          "TargetLineRenderable.cs",
          "Targetable.cs",
          "TechTree.cs",
          "Teleport.cs",
          "TemporaryOwnerManager.cs",
          "TerrainGeometryOverlay.cs",
          "TerrainInfo.cs",
          "TerrainInfo.cs",
          "TerrainLightSource.cs",
          "TerrainLighting.cs",
          "TerrainModifiesDamage.cs",
          "TerrainRenderer.cs",
          "TerrainSpriteLayer.cs",
          "TerrainTemplatePreviewWidget.cs",
          "TerrainTunnel.cs",
          "TerrainTunnelLayer.cs",
          "TeslaZap.cs",
          "TeslaZapRenderable.cs",
          "TextAnnotationRenderable.cs",
          "TextFieldWidget.cs",
          "TextNotification.cs",
          "TextNotificationsDisplayWidget.cs",
          "TextNotificationsManager.cs",
          "Texture.cs",
          "TgaLoader.cs",
          "ThreadAffine.cs",
          "ThreadedGraphicsContext.cs",
          "ThrowsParticle.cs",
          "ThrowsShrapnel.cs",
          "TiberianSunRefinery.cs",
          "TickTime.cs",
          "TileReference.cs",
          "TileSelectorLogic.cs",
          "TilesetSpecificSpriteSequence.cs",
          "TimeLimitManager.cs",
          "TimedConditionBar.cs",
          "TmpRALoader.cs",
          "TmpTDLoader.cs",
          "TmpTSLoader.cs",
          "ToggleConditionOnOrder.cs",
          "TogglePlayerStanceColorHotkeyLogic.cs",
          "Tooltip.cs",
          "TooltipContainerWidget.cs",
          "TooltipDescription.cs",
          "TraitDictionary.cs",
          "TraitInterfaces.cs",
          "TraitsInterfaces.cs",
          "TraitsInterfaces.cs",
          "TraitsInterfaces.cs",
          "TransferTimedExternalConditionOnTransform.cs",
          "Transform.cs",
          "TransformCrusherOnCrush.cs",
          "TransformOnCapture.cs",
          "TransformProperties.cs",
          "Transforms.cs",
          "TransformsIntoAircraft.cs",
          "TransformsIntoEntersTunnels.cs",
          "TransformsIntoMobile.cs",
          "TransformsIntoPassenger.cs",
          "TransformsIntoRepairable.cs",
          "TransformsIntoTransforms.cs",
          "TransformsNearResources.cs",
          "Translation.cs",
          "TransportProperties.cs",
          "TriggerGlobal.cs",
          "TunnelEntrance.cs",
          "Turn.cs",
          "TurnOnIdle.cs",
          "Turreted.cs",
          "TypeDictionary.cs",
          "UIModelRenderable.cs",
          "UISpriteRenderable.cs",
          "UITextRenderable.cs",
          "UnhardcodeSquadManager.cs",
          "UnitBuilderBotModule.cs",
          "UnitOrderGenerator.cs",
          "UnitOrderTargeter.cs",
          "UnitOrders.cs",
          "UnloadCargo.cs",
          "UnregisterModCommand.cs",
          "UpdateMapCommand.cs",
          "UpdateMapInits.cs",
          "UpdateModCommand.cs",
          "UpdatePath.cs",
          "UpdateRule.cs",
          "UpdateTilesetColors.cs",
          "UpdateUtils.cs",
          "UpdatesDerrickCount.cs",
          "UseMillisecondsForSounds.cs",
          "UserInterfaceGlobal.cs",
          "Util.cs",
          "Util.cs",
          "Util.cs",
          "Utilities.cs",
          "UtilsGlobal.cs",
          "ValidateOrder.cs",
          "Valued.cs",
          "VariableExpression.cs",
          "VariableExpressionTest.cs",
          "Vertex.cs",
          "VertexBuffer.cs",
          "VeteranProductionIconOverlay.cs",
          "Video.cs",
          "VideoLoader.cs",
          "VideoPlayerWidget.cs",
          "Viewport.cs",
          "ViewportControllerWidget.cs",
          "VocLoader.cs",
          "VoiceAnnouncement.cs",
          "VoiceExts.cs",
          "Voiced.cs",
          "Voxel.cs",
          "VoxelHarvesterDockSequence.cs",
          "VoxelLoader.cs",
          "VoxelModelSequenceLoader.cs",
          "VoxelNormalsPalette.cs",
          "VqaLoader.cs",
          "VqaReader.cs",
          "VxlReader.cs",
          "WAngle.cs",
          "WDist.cs",
          "WPos.cs",
          "WRot.cs",
          "WVec.cs",
          "Wait.cs",
          "Wanders.cs",
          "Warhead.cs",
          "WarheadDebugOverlay.cs",
          "WavLoader.cs",
          "WavReader.cs",
          "WeaponInfo.cs",
          "WeatherOverlay.cs",
          "WebServices.cs",
          "Widget.cs",
          "WidgetLoader.cs",
          "WidgetUtils.cs",
          "WithAcceptDeliveredCashAnimation.cs",
          "WithAimAnimation.cs",
          "WithAmmoPipsDecoration.cs",
          "WithAttackAnimation.cs",
          "WithAttackOverlay.cs",
          "WithBridgeSpriteBody.cs",
          "WithBuildingBib.cs",
          "WithBuildingPlacedAnimation.cs",
          "WithBuildingPlacedOverlay.cs",
          "WithBuildingRepairDecoration.cs",
          "WithCargo.cs",
          "WithCargoPipsDecoration.cs",
          "WithChargeOverlay.cs",
          "WithChargeSpriteBody.cs",
          "WithColoredOverlay.cs",
          "WithCrateBody.cs",
          "WithCrumbleOverlay.cs",
          "WithDamageOverlay.cs",
          "WithDeadBridgeSpriteBody.cs",
          "WithDeathAnimation.cs",
          "WithDecoration.cs",
          "WithDecorationBase.cs",
          "WithDeliveryAnimation.cs",
          "WithDeliveryOverlay.cs",
          "WithDisguisingInfantryBody.cs",
          "WithDockedOverlay.cs",
          "WithDockingAnimation.cs",
          "WithDockingOverlay.cs",
          "WithEmbeddedTurretSpriteBody.cs",
          "WithFacingSpriteBody.cs",
          "WithGateSpriteBody.cs",
          "WithGunboatBody.cs",
          "WithHarvestAnimation.cs",
          "WithHarvestOverlay.cs",
          "WithHarvesterPipsDecoration.cs",
          "WithHarvesterSpriteBody.cs",
          "WithIdleAnimation.cs",
          "WithIdleOverlay.cs",
          "WithInfantryBody.cs",
          "WithLandingCraftAnimation.cs",
          "WithMakeAnimation.cs",
          "WithMakeOverlay.cs",
          "WithMoveAnimation.cs",
          "WithMuzzleOverlay.cs",
          "WithNameTagDecoration.cs",
          "WithParachute.cs",
          "WithProductionDoorOverlay.cs",
          "WithProductionOverlay.cs",
          "WithRangeCircle.cs",
          "WithRepairOverlay.cs",
          "WithResourceAnimation.cs",
          "WithResourceLevelOverlay.cs",
          "WithResourceLevelSpriteBody.cs",
          "WithResourceStoragePipsDecoration.cs",
          "WithResupplyAnimation.cs",
          "WithShadow.cs",
          "WithSplitAttackPaletteInfantryBody.cs",
          "WithSpriteBarrel.cs",
          "WithSpriteBody.cs",
          "WithSpriteControlGroupDecoration.cs",
          "WithSpriteTurret.cs",
          "WithSupportPowerActivationAnimation.cs",
          "WithSupportPowerActivationOverlay.cs",
          "WithTeslaChargeAnimation.cs",
          "WithTeslaChargeOverlay.cs",
          "WithTextControlGroupDecoration.cs",
          "WithTextDecoration.cs",
          "WithTurretAimAnimation.cs",
          "WithTurretAttackAnimation.cs",
          "WithVoxelBarrel.cs",
          "WithVoxelBody.cs",
          "WithVoxelTurret.cs",
          "WithVoxelUnloadBody.cs",
          "WithVoxelWalkerBody.cs",
          "WithWallSpriteBody.cs",
          "World.cs",
          "WorldButtonWidget.cs",
          "WorldExtensions.cs",
          "WorldInteractionControllerWidget.cs",
          "WorldLabelWithTooltipWidget.cs",
          "WorldRenderer.cs",
          "WorldTooltipLogic.cs",
          "WorldUtils.cs",
          "WorldViewportSizes.cs",
          "WsaLoader.cs",
          "WsaReader.cs",
          "XORDeltaCompression.cs",
          "XccGlobalDatabase.cs",
          "XccLocalDatabase.cs",
          "ZipFile.cs",
          "float2.cs",
          "float3.cs",
          "int2.cs",
          ".",
          ".",
          ".",
          ".",
          ".",
          ".",
          ".",
          ".",
          "Activities",
          "Activities",
          "Activities",
          "Activities",
          "Activities/Air",
          "Activities/Move",
          "AudioLoaders",
          "AudioLoaders",
          "Commands",
          "EditorBrushes",
          "Effects",
          "Effects",
          "Effects",
          "FileFormats",
          "FileFormats",
          "FileFormats",
          "FileSystem",
          "FileSystem",
          "FileSystem",
          "GameRules",
          "Graphics",
          "Graphics",
          "Graphics",
          "HitShapes",
          "Input",
          "Lint",
          "Lint",
          "LoadScreens",
          "Map",
          "Network",
          "OpenRA.Game",
          "OpenRA.Mods.Common",
          "Orders",
          "Orders",
          "PackageLoaders",
          "Pathfinder",
          "Primitives",
          "Projectiles",
          "Projectiles",
          "Scripting",
          "Scripting",
          "Scripting/Global",
          "Scripting/Properties",
          "Scripting/Properties",
          "Server",
          "ServerTraits",
          "Sound",
          "SpriteLoaders",
          "SpriteLoaders",
          "SpriteLoaders",
          "Support",
          "Terrain",
          "Traits",
          "Traits",
          "Traits",
          "Traits",
          "Traits/Air",
          "Traits/Attack",
          "Traits/Attack",
          "Traits/BotModules",
          "Traits/BotModules/BotModuleLogic",
          "Traits/BotModules/Squads",
          "Traits/BotModules/Squads/States",
          "Traits/Buildings",
          "Traits/Buildings",
          "Traits/Buildings",
          "Traits/Conditions",
          "Traits/Crates",
          "Traits/Infantry",
          "Traits/Infiltration",
          "Traits/Modifiers",
          "Traits/Multipliers",
          "Traits/PaletteEffects",
          "Traits/PaletteEffects",
          "Traits/Palettes",
          "Traits/Player",
          "Traits/Player",
          "Traits/Player",
          "Traits/Power",
          "Traits/Power/Player",
          "Traits/Radar",
          "Traits/Render",
          "Traits/Render",
          "Traits/Render",
          "Traits/Sound",
          "Traits/SupportPowers",
          "Traits/SupportPowers",
          "Traits/World",
          "Traits/World",
          "Traits/World",
          "Traits/World",
          "UpdateRules",
          "UpdateRules/Rules",
          "UpdateRules/Rules/20191117",
          "UpdateRules/Rules/20200202",
          "UpdateRules/Rules/20200503",
          "UpdateRules/Rules/20201213",
          "UtilityCommands",
          "UtilityCommands",
          "UtilityCommands",
          "UtilityCommands",
          "VideoLoaders",
          "Warheads",
          "Warheads",
          "Widgets",
          "Widgets",
          "Widgets/Logic",
          "Widgets/Logic",
          "Widgets/Logic/Editor",
          "Widgets/Logic/Ingame",
          "Widgets/Logic/Ingame/Hotkeys",
          "Widgets/Logic/Installation",
          "Widgets/Logic/Lobby",
          "Widgets/Logic/Settings",
          "OpenRA.Game",
          "OpenRA.Launcher",
          "OpenRA.Mods.Cnc",
          "OpenRA.Mods.Common",
          "OpenRA.Mods.D2k",
          "OpenRA.Platforms.Default",
          "OpenRA.Server",
          "OpenRA.Test",
          "OpenRA.Utility",
          "OpenRA.WindowsLauncher"
         ],
         "marker": {
          "coloraxis": "coloraxis",
          "colors": [
           83,
           50,
           33,
           89,
           43,
           291,
           41,
           645,
           554,
           83,
           201,
           178,
           48,
           73,
           157,
           274,
           40,
           677,
           130,
           96,
           90,
           206,
           226,
           134,
           32,
           53,
           266,
           59,
           87,
           83,
           175,
           228,
           1314,
           61,
           239,
           53,
           34,
           25,
           109,
           119,
           67,
           34,
           247,
           60,
           53,
           64,
           57,
           62,
           275,
           40,
           405,
           30,
           66,
           363,
           21,
           544,
           39,
           259,
           69,
           525,
           97,
           77,
           380,
           50,
           215,
           72,
           187,
           110,
           91,
           275,
           160,
           135,
           81,
           96,
           83,
           173,
           50,
           38,
           80,
           73,
           137,
           166,
           121,
           134,
           455,
           40,
           74,
           46,
           90,
           291,
           445,
           19,
           182,
           135,
           143,
           54,
           36,
           74,
           62,
           123,
           171,
           146,
           298,
           74,
           410,
           494,
           119,
           422,
           242,
           61,
           85,
           68,
           154,
           106,
           357,
           92,
           47,
           135,
           345,
           68,
           297,
           150,
           41,
           122,
           122,
           51,
           33,
           61,
           29,
           121,
           53,
           56,
           77,
           158,
           300,
           172,
           53,
           53,
           42,
           171,
           489,
           151,
           55,
           446,
           112,
           56,
           36,
           76,
           86,
           146,
           68,
           171,
           57,
           39,
           90,
           51,
           61,
           110,
           27,
           76,
           121,
           51,
           77,
           76,
           31,
           66,
           57,
           123,
           46,
           29,
           67,
           27,
           45,
           24,
           93,
           66,
           50,
           147,
           93,
           41,
           50,
           149,
           42,
           62,
           45,
           42,
           47,
           98,
           115,
           76,
           96,
           156,
           84,
           48,
           283,
           69,
           395,
           200,
           47,
           67,
           73,
           32,
           226,
           188,
           161,
           49,
           86,
           38,
           76,
           59,
           266,
           53,
           39,
           29,
           76,
           112,
           374,
           80,
           91,
           171,
           214,
           178,
           78,
           138,
           109,
           27,
           339,
           138,
           46,
           60,
           93,
           180,
           387,
           211,
           247,
           63,
           123,
           92,
           44,
           134,
           36,
           54,
           59,
           88,
           97,
           259,
           79,
           42,
           79,
           260,
           99,
           217,
           148,
           55,
           74,
           180,
           57,
           68,
           66,
           34,
           95,
           101,
           261,
           294,
           66,
           60,
           38,
           84,
           75,
           63,
           72,
           34,
           119,
           162,
           57,
           501,
           169,
           102,
           37,
           88,
           63,
           38,
           80,
           81,
           48,
           139,
           43,
           161,
           29,
           94,
           70,
           42,
           20,
           454,
           188,
           187,
           37,
           43,
           95,
           112,
           128,
           144,
           73,
           89,
           99,
           144,
           39,
           79,
           46,
           92,
           64,
           54,
           34,
           85,
           202,
           281,
           28,
           67,
           44,
           231,
           312,
           42,
           464,
           42,
           254,
           52,
           66,
           259,
           72,
           62,
           151,
           223,
           78,
           158,
           56,
           76,
           63,
           114,
           37,
           182,
           113,
           334,
           298,
           286,
           227,
           176,
           155,
           296,
           112,
           371,
           116,
           99,
           99,
           75,
           122,
           111,
           154,
           32,
           155,
           49,
           163,
           108,
           102,
           100,
           106,
           66,
           62,
           45,
           165,
           80,
           51,
           29,
           230,
           290,
           43,
           201,
           65,
           96,
           118,
           101,
           153,
           614,
           24,
           36,
           38,
           67,
           71,
           43,
           815,
           127,
           330,
           258,
           117,
           31,
           60,
           83,
           35,
           85,
           63,
           284,
           312,
           99,
           64,
           66,
           70,
           108,
           91,
           37,
           134,
           44,
           157,
           100,
           108,
           148,
           367,
           198,
           114,
           154,
           34,
           53,
           979,
           40,
           177,
           80,
           168,
           198,
           322,
           361,
           49,
           66,
           265,
           60,
           75,
           146,
           215,
           152,
           33,
           59,
           46,
           119,
           90,
           35,
           62,
           79,
           34,
           127,
           106,
           111,
           58,
           113,
           123,
           60,
           115,
           57,
           51,
           167,
           59,
           53,
           86,
           341,
           70,
           99,
           57,
           62,
           47,
           65,
           64,
           82,
           81,
           91,
           84,
           93,
           68,
           47,
           24,
           49,
           97,
           178,
           59,
           44,
           51,
           203,
           46,
           139,
           48,
           127,
           224,
           66,
           93,
           36,
           24,
           40,
           40,
           30,
           87,
           155,
           117,
           422,
           70,
           165,
           115,
           39,
           49,
           33,
           46,
           262,
           27,
           53,
           61,
           41,
           72,
           60,
           70,
           154,
           108,
           41,
           168,
           103,
           46,
           244,
           121,
           48,
           63,
           61,
           48,
           19,
           186,
           63,
           28,
           28,
           74,
           26,
           29,
           42,
           19,
           40,
           45,
           44,
           19,
           20,
           108,
           94,
           66,
           44,
           460,
           253,
           687,
           186,
           31,
           92,
           72,
           80,
           81,
           54,
           63,
           67,
           64,
           61,
           67,
           44,
           155,
           79,
           329,
           405,
           39,
           34,
           52,
           41,
           98,
           146,
           60,
           194,
           656,
           437,
           160,
           110,
           93,
           72,
           81,
           144,
           74,
           105,
           36,
           142,
           164,
           81,
           92,
           40,
           44,
           41,
           108,
           40,
           507,
           42,
           37,
           84,
           167,
           289,
           116,
           86,
           64,
           267,
           214,
           41,
           68,
           160,
           72,
           126,
           169,
           73,
           148,
           74,
           123,
           209,
           275,
           190,
           82,
           64,
           65,
           62,
           124,
           28,
           88,
           234,
           119,
           37,
           47,
           114,
           19,
           43,
           39,
           47,
           35,
           47,
           25,
           25,
           82,
           25,
           92,
           1149,
           841,
           175,
           78,
           42,
           671,
           89,
           185,
           516,
           186,
           26,
           36,
           22,
           70,
           194,
           64,
           95,
           132,
           256,
           538,
           286,
           1378,
           88,
           381,
           354,
           93,
           63,
           25,
           126,
           47,
           151,
           245,
           64,
           127,
           81,
           608,
           243,
           229,
           189,
           56,
           106,
           180,
           228,
           86,
           233,
           138,
           33,
           125,
           131,
           125,
           87,
           75,
           382,
           488,
           295,
           940,
           400,
           40,
           128,
           284,
           245,
           1027,
           72,
           127,
           51,
           95,
           149,
           106,
           22,
           204,
           94,
           74,
           51,
           297,
           377,
           216,
           117,
           120,
           62,
           563,
           154,
           75,
           62,
           88,
           84,
           133,
           84,
           65,
           163,
           256,
           34,
           43,
           25,
           101,
           249,
           90,
           164,
           246,
           36,
           208,
           62,
           133,
           110,
           210,
           275,
           225,
           557,
           196,
           133,
           657,
           800,
           430,
           69,
           107,
           45,
           216,
           323,
           74,
           46,
           46,
           46,
           55,
           118,
           104,
           159,
           67,
           83,
           140,
           81,
           57,
           93,
           75,
           79,
           34,
           121,
           117,
           60,
           40,
           68,
           285,
           45,
           231,
           25,
           240,
           271,
           135,
           85,
           41,
           54,
           66,
           49,
           76,
           33,
           48,
           117,
           149,
           94,
           231,
           348,
           28,
           253,
           176,
           43,
           322,
           58,
           51,
           54,
           59,
           118,
           67,
           35,
           36,
           26,
           36,
           89,
           73,
           350,
           127,
           97,
           65,
           217,
           303,
           47,
           24,
           158,
           379,
           39,
           57,
           164,
           129,
           115,
           58,
           266,
           57,
           215,
           46,
           65,
           48,
           37,
           129,
           119,
           48,
           99,
           54,
           146,
           124,
           104,
           41,
           119,
           570,
           163,
           312,
           680,
           75,
           98,
           333,
           41,
           176,
           28,
           46,
           110,
           173,
           201,
           20,
           85,
           57,
           127,
           79,
           82,
           115,
           25,
           53,
           25,
           195,
           163,
           43,
           130,
           39,
           35,
           43,
           35,
           115,
           493,
           254,
           84,
           177,
           130,
           77,
           33,
           107,
           60,
           147,
           132,
           207,
           208,
           35,
           38,
           195,
           53,
           31,
           97,
           59,
           31,
           88,
           51,
           28,
           46,
           60,
           30,
           48,
           72,
           28,
           30,
           125,
           26,
           105,
           57,
           48,
           56,
           33,
           30,
           30,
           33,
           30,
           30,
           37,
           50,
           55,
           100,
           32,
           30,
           103,
           86,
           89,
           128,
           101,
           284,
           30,
           22,
           181,
           60,
           536,
           86,
           79,
           94,
           166,
           190,
           47,
           142,
           168,
           49,
           44,
           58,
           45,
           116,
           34,
           59,
           43,
           30,
           25,
           787,
           170,
           99,
           110,
           50,
           119,
           62,
           29,
           26,
           106,
           38,
           77,
           107,
           70,
           304,
           78,
           47,
           91,
           369,
           59,
           31,
           321,
           140,
           47,
           74,
           79,
           85,
           75,
           72,
           34,
           208,
           279,
           57,
           84,
           119,
           289,
           148,
           58,
           216,
           46,
           36,
           116,
           310,
           93,
           31,
           63,
           298,
           74,
           73,
           145,
           70,
           39,
           57,
           538,
           192,
           93,
           528,
           279,
           62,
           230,
           557,
           64,
           167,
           66,
           192,
           88,
           55,
           104,
           273,
           161,
           62,
           93,
           124,
           83,
           57,
           117,
           31,
           94,
           150,
           1411,
           227,
           771,
           281,
           449,
           161,
           52,
           280,
           44,
           34,
           247,
           148,
           161,
           102,
           171,
           118,
           243,
           162,
           427,
           48,
           70,
           343,
           30,
           61,
           38,
           72,
           146,
           232,
           449,
           55,
           94,
           60,
           142,
           92,
           61,
           146,
           166,
           34,
           103,
           71,
           82,
           128,
           31,
           177,
           35,
           125,
           81,
           51,
           47,
           86,
           436,
           65,
           195,
           113,
           250,
           85,
           122,
           458,
           83,
           58,
           154,
           49,
           70,
           106,
           160,
           240,
           73,
           106,
           43,
           222,
           80,
           240,
           65,
           49,
           206,
           320,
           94,
           99,
           291,
           169,
           213,
           326,
           91,
           235,
           114,
           126,
           53,
           94,
           428,
           80,
           132,
           69,
           234,
           55,
           90,
           77,
           60,
           196,
           144,
           86,
           101,
           76,
           102,
           67,
           141,
           60,
           211,
           232,
           77,
           63,
           98,
           86,
           164,
           69,
           612,
           56,
           136,
           75,
           216,
           115,
           36,
           720,
           104,
           105,
           33,
           57,
           43,
           140,
           86,
           178,
           59,
           101,
           98,
           200,
           107,
           32,
           90,
           89,
           54,
           320,
           63,
           18,
           718,
           614,
           63,
           173,
           59,
           58,
           36,
           152,
           222,
           119,
           221,
           162,
           147,
           65,
           101,
           121,
           66,
           498,
           73,
           47,
           62,
           323,
           125,
           154,
           74,
           69,
           43,
           241,
           219,
           88,
           352,
           145,
           38,
           155,
           73,
           262,
           143,
           40,
           44,
           387,
           20,
           92,
           40,
           69,
           294,
           448,
           54,
           121,
           48,
           25,
           978,
           470,
           49,
           107,
           116,
           33,
           32,
           229,
           417,
           500,
           391,
           62,
           90,
           75,
           161,
           88,
           241,
           124,
           351,
           58,
           614,
           159,
           266,
           155,
           163,
           224,
           159,
           56,
           124,
           95,
           86,
           74,
           306,
           256,
           256,
           60,
           616,
           86,
           450,
           52,
           65,
           93,
           96,
           96,
           135,
           137,
           51,
           69,
           64,
           141,
           100,
           60,
           64,
           64,
           97,
           68,
           85,
           106,
           126,
           71,
           144,
           57,
           72,
           78,
           67,
           28,
           61,
           78,
           40,
           130,
           99,
           53,
           75,
           98,
           50,
           62,
           118,
           226,
           96,
           203,
           65,
           85,
           114,
           84,
           204,
           84,
           108,
           125,
           106,
           106,
           70,
           75,
           79,
           92,
           79,
           58,
           107,
           151,
           72,
           146,
           53,
           67,
           47,
           73,
           88,
           76,
           66,
           85,
           103,
           66,
           70,
           80,
           103,
           175,
           613,
           44,
           117,
           230,
           44,
           429,
           134,
           81,
           35,
           68,
           136,
           82,
           60,
           69,
           236,
           113,
           66,
           89,
           429.1139111972676,
           46,
           88.58793969849246,
           355.8839672604718,
           499.81968680089483,
           110,
           173,
           201,
           264.72222222222223,
           136.78878748370275,
           157.50654142905066,
           169,
           209.52155771905424,
           331.3014899211218,
           340.9698275862069,
           104.77627118644068,
           127.11440677966101,
           260.8601271571299,
           37.57142857142857,
           85.42424242424242,
           92.97772277227723,
           318.4887525562372,
           346.24247665167763,
           283.6458471760797,
           248.6368715083799,
           163.37637362637363,
           160,
           219.73015873015873,
           269.39567604667127,
           164.93454545454546,
           191.81152460984393,
           118.21951219512195,
           352.0817610062893,
           85.41379310344827,
           29,
           110.52058111380146,
           670.0335904453844,
           290.29224869898655,
           264.27357032457496,
           247,
           196.78225806451613,
           176.33614330874605,
           102,
           183.94933333333333,
           151.63913195659782,
           79.6470588235294,
           512.9653465346535,
           184.5590909090909,
           406.7516688918558,
           229.3417593528817,
           42.633136094674555,
           116.45230488361479,
           1084.84290985767,
           933.072602739726,
           406.00396825396825,
           174.0268528464017,
           139.70498084291188,
           130,
           488.2412101390025,
           169.2180293501048,
           432.43490838958536,
           218.698272823405,
           244.05227938101214,
           137.42315369261476,
           1125.6009026434558,
           130.07991360691145,
           349.7550432276657,
           282.914223669924,
           369.37173579109066,
           208.31838565022423,
           207.83511777301928,
           62.981651376146786,
           188.7082332386984,
           143.7900355871886,
           132.7515015015015,
           123.45414069456812,
           111.94805194805195,
           88.66993464052288,
           126.975,
           35.54,
           66.59398496240601,
           107.32595573440643,
           85.52092050209205,
           399.2670025188917,
           262.60924574209247,
           49,
           65.88172043010752,
           215,
           48.6,
           94.42960944595822,
           116.8538520604044,
           70.05714285714286,
           69.30526315789474,
           239.46853146853147,
           234.43810991268617,
           217.40313111545987,
           270.52011922503726,
           257.8628456735058,
           134.5686274509804,
           301.4350877192982,
           60.43231441048035,
           44,
           102.00751879699249,
           108.8269090909091,
           73.83244680851064,
           38,
           356.2201791607732,
           172.09900692145652,
           464.1045871559633,
           63.3968253968254,
           90.29824561403508,
           38,
           518.8746666666667,
           293.95611218154573,
           37,
           425.7928015564202,
           285.62298987492557,
           233.16883700044903,
           59.24375,
           436.9000819000819,
           590.4005628517824,
           275.0131578947368,
           408.87689441619256,
           46,
           229.05793450881612,
           258.42052674856103,
           202.34015554645927,
           499.81968680089483,
           110,
           261.5048669695003,
           173,
           201
          ]
         },
         "name": "",
         "parents": [
          "OpenRA.Mods.Common/.",
          "OpenRA.Mods.Common/Traits",
          "OpenRA.Mods.Common/Traits",
          "OpenRA.Game/Primitives",
          "OpenRA.Test/OpenRA.Game",
          "OpenRA.Game/Activities",
          "OpenRA.Game/Traits",
          "OpenRA.Game/.",
          "OpenRA.Mods.Common/Widgets/Logic/Editor",
          "OpenRA.Mods.Common/.",
          "OpenRA.Mods.Common/Scripting/Global",
          "OpenRA.Game/GameRules",
          "OpenRA.Game/Primitives",
          "OpenRA.Test/OpenRA.Game",
          "OpenRA.Mods.Common/.",
          "OpenRA.Game/Map",
          "OpenRA.Mods.Common/Traits/Sound",
          "OpenRA.Mods.Common/Traits/World",
          "OpenRA.Mods.Common/Graphics",
          "OpenRA.Mods.Common/Traits/Buildings",
          "OpenRA.Mods.Common/Widgets",
          "OpenRA.Game/Map",
          "OpenRA.Mods.Common/Widgets/Logic/Editor",
          "OpenRA.Mods.Common/Traits/World",
          "OpenRA.Mods.Common/Traits",
          "OpenRA.Mods.Common/Widgets/Logic/Ingame",
          "OpenRA.Mods.Common/UpdateRules/Rules/20200503",
          "OpenRA.Mods.Common/UpdateRules/Rules/20200202",
          "OpenRA.Mods.Common/Widgets/Logic/Settings",
          "OpenRA.Mods.Common/Traits/Power",
          "OpenRA.Mods.Common/Traits",
          "OpenRA.Mods.Common/Traits/BotModules/Squads/States",
          "OpenRA.Mods.Common/Traits/Air",
          "OpenRA.Mods.Common/Scripting/Properties",
          "OpenRA.Mods.Common/Traits/SupportPowers",
          "OpenRA.Mods.Common/Scripting/Properties",
          "OpenRA.Mods.Common/Traits/Player",
          "OpenRA.Mods.Common/Traits/Modifiers",
          "OpenRA.Mods.Common/Traits/Sound",
          "OpenRA.Mods.Common/Traits",
          "OpenRA.Mods.Common/Scripting/Properties",
          "OpenRA.Mods.Common/Scripting/Global",
          "OpenRA.Game/Graphics",
          "OpenRA.Game/Graphics",
          "OpenRA.Mods.Common/Traits/Sound",
          "OpenRA.Mods.Common/Traits/Sound",
          "OpenRA.Mods.Common/Traits",
          "OpenRA.Mods.Common/Traits/Radar",
          "OpenRA.Mods.Common/Projectiles",
          "OpenRA.Game/Support",
          "OpenRA.Mods.Common/Traits",
          "OpenRA.Mods.Common/Traits",
          "OpenRA.Mods.Common/Widgets/Logic/Ingame",
          "OpenRA.Game/Support",
          "OpenRA.Mods.Common/.",
          "OpenRA.Mods.Common/Widgets/Logic",
          "OpenRA.Game/Effects",
          "OpenRA.Mods.Common/Activities",
          "OpenRA.Mods.Common/Traits/Air",
          "OpenRA.Mods.Common/Traits/Attack",
          "OpenRA.Mods.Common/Traits/Air",
          "OpenRA.Mods.Common/Traits/Attack",
          "OpenRA.Mods.Common/Traits/Attack",
          "OpenRA.Mods.Common/Traits/Attack",
          "OpenRA.Mods.Common/Traits/Attack",
          "OpenRA.Mods.Cnc/Traits/Attack",
          "OpenRA.Mods.Common/Traits",
          "OpenRA.Mods.Common/Activities/Move",
          "OpenRA.Mods.Common/Traits/Attack",
          "OpenRA.Mods.Common/Traits/BotModules/Squads",
          "OpenRA.Mods.Cnc/Traits/SupportPowers",
          "OpenRA.Mods.Cnc/Traits/Attack",
          "OpenRA.Mods.Common/Traits/Sound",
          "OpenRA.Mods.D2k/Traits",
          "OpenRA.Mods.Cnc/Traits/Attack",
          "OpenRA.Mods.Cnc/Traits/Attack",
          "OpenRA.Mods.Common/Traits/Attack",
          "OpenRA.Mods.Common/Traits",
          "OpenRA.Mods.D2k/Traits",
          "OpenRA.Mods.Cnc/AudioLoaders",
          "OpenRA.Mods.Cnc/FileFormats",
          "OpenRA.Mods.Common/Widgets/Logic/Settings",
          "OpenRA.Mods.Common/Traits",
          "OpenRA.Mods.Common/Traits",
          "OpenRA.Mods.Common/Traits",
          "OpenRA.Mods.Common/Traits",
          "OpenRA.Mods.Common/Widgets",
          "OpenRA.Mods.Common/Widgets",
          "OpenRA.Mods.Common/Traits/Player",
          "OpenRA.Mods.Common/Traits/BotModules",
          "OpenRA.Mods.Common/Traits/BotModules/BotModuleLogic",
          "OpenRA.Mods.Common/Traits/Buildings",
          "OpenRA.Mods.Common/Pathfinder",
          "OpenRA.Mods.Common/Traits/Buildings",
          "OpenRA.Mods.Common/Effects",
          "OpenRA.Mods.Common/Scripting/Global",
          "OpenRA.Mods.Common/Orders",
          "OpenRA.Mods.Common/Graphics",
          "OpenRA.Game/Support",
          "OpenRA.Mods.Cnc/FileSystem",
          "OpenRA.Game/Primitives",
          "OpenRA.Mods.Common/LoadScreens",
          "OpenRA.Mods.Common/FileFormats",
          "OpenRA.Mods.Common/Traits",
          "OpenRA.Mods.Cnc/FileFormats",
          "OpenRA.Mods.Cnc/FileFormats",
          "OpenRA.Mods.Common/Traits",
          "OpenRA.Mods.Common/Traits/Buildings",
          "OpenRA.Mods.Common/Traits/Buildings",
          "OpenRA.Mods.Common/Traits/World",
          "OpenRA.Mods.Common/Traits/Buildings",
          "OpenRA.Mods.Common/Traits",
          "OpenRA.Mods.D2k/Traits/World",
          "OpenRA.Mods.Common/Traits/World",
          "OpenRA.Mods.Common/Traits/Buildings",
          "OpenRA.Mods.Common/Traits/Buildings",
          "OpenRA.Mods.Common/Traits/BotModules",
          "OpenRA.Mods.Common/Traits/Buildings",
          "OpenRA.Mods.Common/Projectiles",
          "OpenRA.Mods.Common/Widgets/Logic",
          "OpenRA.Mods.Common/Widgets",
          "OpenRA.Game/.",
          "OpenRA.Test/OpenRA.Game",
          "OpenRA.Mods.Cnc/FileFormats",
          "OpenRA.Game/.",
          "OpenRA.Game/Primitives",
          "OpenRA.Game/Activities",
          "OpenRA.Mods.Common/Scripting",
          "OpenRA.Mods.Common/Scripting/Global",
          "OpenRA.Mods.Common/HitShapes",
          "OpenRA.Mods.Common/Traits",
          "OpenRA.Mods.Common/Traits",
          "OpenRA.Mods.Common/Traits",
          "OpenRA.Mods.Common/Activities",
          "OpenRA.Mods.Common/Traits",
          "OpenRA.Mods.Common/Traits/BotModules",
          "OpenRA.Mods.Common/Traits/Sound",
          "OpenRA.Mods.Common/Traits",
          "OpenRA.Mods.Common/Scripting/Properties",
          "OpenRA.Mods.Common/Traits",
          "OpenRA.Mods.Common/Traits",
          "OpenRA.Mods.Common/Traits",
          "OpenRA.Mods.Common/Traits",
          "OpenRA.Mods.Common/Traits",
          "OpenRA.Mods.Common/Traits",
          "OpenRA.Mods.Common/Traits/Render",
          "OpenRA.Mods.Common/Traits/Multipliers",
          "OpenRA.Mods.Common/Pathfinder",
          "OpenRA.Mods.Common/Pathfinder",
          "OpenRA.Game/Map",
          "OpenRA.Game/Map",
          "OpenRA.Game/Map",
          "OpenRA.Mods.Common/Warheads",
          "OpenRA.Mods.Common/UpdateRules/Rules/20200503",
          "OpenRA.Mods.Common/Traits",
          "OpenRA.Mods.Common/Traits",
          "OpenRA.Mods.Common/Commands",
          "OpenRA.Mods.Common/Lint",
          "OpenRA.Mods.Common/Lint",
          "OpenRA.Mods.Common/Lint",
          "OpenRA.Mods.Common/Lint",
          "OpenRA.Mods.Common/Lint",
          "OpenRA.Mods.Common/UtilityCommands",
          "OpenRA.Mods.Common/Lint",
          "OpenRA.Mods.Common/Lint",
          "OpenRA.Mods.Common/Lint",
          "OpenRA.Mods.Common/Lint",
          "OpenRA.Mods.Common/UtilityCommands",
          "OpenRA.Mods.Common/Lint",
          "OpenRA.Mods.D2k/Lint",
          "OpenRA.Mods.Common/Lint",
          "OpenRA.Mods.Common/Lint",
          "OpenRA.Mods.Common/Lint",
          "OpenRA.Mods.Common/Lint",
          "OpenRA.Mods.Common/UtilityCommands",
          "OpenRA.Mods.Common/Lint",
          "OpenRA.Mods.Common/Lint",
          "OpenRA.Mods.Common/Lint",
          "OpenRA.Mods.Common/Lint",
          "OpenRA.Mods.Common/Lint",
          "OpenRA.Mods.Common/Lint",
          "OpenRA.Mods.Common/Lint",
          "OpenRA.Mods.Common/Lint",
          "OpenRA.Mods.Common/Lint",
          "OpenRA.Mods.Common/Lint",
          "OpenRA.Mods.Common/Lint",
          "OpenRA.Mods.Common/Lint",
          "OpenRA.Mods.Common/Lint",
          "OpenRA.Mods.Common/Lint",
          "OpenRA.Mods.Common/Lint",
          "OpenRA.Mods.Common/Lint",
          "OpenRA.Mods.Common/UtilityCommands",
          "OpenRA.Mods.Common/Widgets",
          "OpenRA.Game/Widgets",
          "OpenRA.Game/Graphics",
          "OpenRA.Mods.Cnc/Traits/PaletteEffects",
          "OpenRA.Mods.Cnc/Traits/SupportPowers",
          "OpenRA.Mods.Cnc/Traits",
          "OpenRA.Mods.Cnc/Scripting/Properties",
          "OpenRA.Mods.Common/HitShapes",
          "OpenRA.Mods.Common/Graphics",
          "OpenRA.Mods.Cnc/Traits",
          "OpenRA.Mods.Common/Traits/Player",
          "OpenRA.Mods.Common/Widgets/Logic/Ingame",
          "OpenRA.Mods.Common/Traits/Player",
          "OpenRA.Mods.Cnc/Graphics",
          "OpenRA.Mods.Cnc/Graphics",
          "OpenRA.Game/UtilityCommands",
          "OpenRA.Mods.Common/Widgets",
          "OpenRA.Mods.Common/Traits/World",
          "OpenRA.Mods.Common/Traits",
          "OpenRA.Mods.Common/Traits/PaletteEffects",
          "OpenRA.Mods.Common/Scripting/Properties",
          "OpenRA.Mods.Cnc/Traits",
          "OpenRA.Mods.Cnc/Traits/Buildings",
          "OpenRA.Mods.Cnc/.",
          "OpenRA.Game/Primitives",
          "OpenRA.Mods.Common/Widgets",
          "OpenRA.Mods.Common/Scripting/Global",
          "OpenRA.Mods.Common/Widgets",
          "OpenRA.Mods.Common/Widgets/Logic",
          "OpenRA.Mods.Common/Traits/World",
          "OpenRA.Mods.Common/Traits/Palettes",
          "OpenRA.Mods.Common/Traits",
          "OpenRA.Mods.Common/Scripting/Properties",
          "OpenRA.Mods.Common/Traits",
          "OpenRA.Mods.Common/Widgets/Logic/Ingame",
          "OpenRA.Mods.Common/Widgets/Logic/Editor",
          "OpenRA.Game/Primitives",
          "OpenRA.Mods.Common/Scripting/Properties",
          "OpenRA.Mods.Common/Traits/Conditions",
          "OpenRA.Mods.Common/Widgets",
          "OpenRA.Game/Network",
          "OpenRA.Game/Server",
          "OpenRA.Mods.Common/Widgets/Logic",
          "OpenRA.Game/Network",
          "OpenRA.Mods.Common/Traits/Player",
          "OpenRA.Mods.Common/Traits/Render",
          "OpenRA.Mods.Common/Effects",
          "OpenRA.Mods.Common/Graphics",
          "OpenRA.Mods.Common/Widgets/Logic/Ingame",
          "OpenRA.Mods.Common/UpdateRules/Rules/20201213",
          "OpenRA.Mods.Cnc/UtilityCommands",
          "OpenRA.Mods.Common/UtilityCommands",
          "OpenRA.Mods.Common/UpdateRules/Rules/20200503",
          "OpenRA.Mods.Cnc/Traits",
          "OpenRA.Mods.Common/Scripting/Global",
          "OpenRA.Test/OpenRA.Game",
          "OpenRA.Mods.Common/UpdateRules/Rules",
          "OpenRA.Mods.Common/Traits/Crates",
          "OpenRA.Mods.Common/Traits/Crates",
          "OpenRA.Mods.Common/Traits/World",
          "OpenRA.Mods.Common/Warheads",
          "OpenRA.Mods.Common/UpdateRules/Rules/20200503",
          "OpenRA.Mods.Common/UtilityCommands",
          "OpenRA.Mods.Common/Traits/World",
          "OpenRA.Mods.Common/Warheads",
          "OpenRA.Mods.Common/UpdateRules/Rules/20200202",
          "OpenRA.Mods.Common/Traits",
          "OpenRA.Mods.Common/Traits/Multipliers",
          "OpenRA.Mods.Common/Widgets/Logic",
          "OpenRA.Mods.Common/Traits",
          "OpenRA.Game/.",
          "OpenRA.Game/Graphics",
          "OpenRA.Game/Graphics",
          "OpenRA.Game/Graphics",
          "OpenRA.Mods.Common/Traits",
          "OpenRA.Mods.Common/Traits/Render",
          "OpenRA.Mods.Common/Widgets/Logic/Ingame/Hotkeys",
          "OpenRA.Mods.Common/Widgets/Logic/Ingame/Hotkeys",
          "OpenRA.Mods.Common/Widgets/Logic/Ingame/Hotkeys",
          "OpenRA.Mods.Common/Widgets/Logic/Ingame/Hotkeys",
          "OpenRA.Mods.D2k/Traits/Buildings",
          "OpenRA.Mods.D2k/Traits/Buildings",
          "OpenRA.Mods.D2k/Traits/World",
          "OpenRA.Mods.D2k/UtilityCommands",
          "OpenRA.Mods.D2k/Traits/World",
          "OpenRA.Mods.D2k/PackageLoaders",
          "OpenRA.Mods.Common/Traits/Multipliers",
          "OpenRA.Mods.Common/Warheads",
          "OpenRA.Mods.Common/Traits",
          "OpenRA.Mods.D2k/Warheads",
          "OpenRA.Mods.Common/Scripting/Global",
          "OpenRA.Mods.Common/SpriteLoaders",
          "OpenRA.Mods.Common/Traits/Sound",
          "OpenRA.Mods.Common/UtilityCommands",
          "OpenRA.Mods.Common/Widgets/Logic/Ingame",
          "OpenRA.Mods.Common/Widgets/Logic/Ingame",
          "OpenRA.Game/Traits",
          "OpenRA.Mods.Common/Commands",
          "OpenRA.Game/Traits/World",
          "OpenRA.Platforms.Default/.",
          "OpenRA.Game/.",
          "OpenRA.Mods.Common/Graphics",
          "OpenRA.Mods.Common/Terrain",
          "OpenRA.Mods.Common/Terrain",
          "OpenRA.Game/Effects",
          "OpenRA.Game/Effects",
          "OpenRA.Mods.Common/Activities",
          "OpenRA.Mods.Common/Activities",
          "OpenRA.Mods.Common/Traits",
          "OpenRA.Mods.Common/Traits",
          "OpenRA.Mods.Common/Scripting/Properties",
          "OpenRA.Mods.Common/Activities",
          "OpenRA.Mods.Common/Traits",
          "OpenRA.Mods.Common/Traits",
          "OpenRA.Mods.Common/Scripting/Properties",
          "OpenRA.Mods.Common/Activities",
          "OpenRA.Mods.Common/Orders",
          "OpenRA.Mods.Common/Widgets/Logic",
          "OpenRA.Mods.Common/Warheads",
          "OpenRA.Mods.Common/Traits",
          "OpenRA.Mods.Common/Traits/Multipliers",
          "OpenRA.Mods.Common/Graphics",
          "OpenRA.Mods.Common/Commands",
          "OpenRA.Mods.Common/Traits/Player",
          "OpenRA.Mods.Common/Scripting/Properties",
          "OpenRA.Mods.Common/Widgets/Logic",
          "OpenRA.Mods.Common/Widgets/Logic",
          "OpenRA.Mods.Common/.",
          "OpenRA.Mods.Cnc/Traits",
          "OpenRA.Mods.Cnc/Scripting/Properties",
          "OpenRA.Mods.Common/Widgets/Logic/Settings",
          "OpenRA.Game/Primitives",
          "OpenRA.Mods.Common/Traits/World",
          "OpenRA.Mods.Common/Activities",
          "OpenRA.Mods.Common/Activities",
          "OpenRA.Mods.Common/Widgets/Logic/Installation",
          "OpenRA.Mods.Common/Activities/Move",
          "OpenRA.Mods.Cnc/Traits",
          "OpenRA.Mods.Common/Traits/Render",
          "OpenRA.Mods.Common/Widgets",
          "OpenRA.Mods.Cnc/Projectiles",
          "OpenRA.Mods.Cnc/Traits/SupportPowers",
          "OpenRA.Mods.Common/Traits/Player",
          "OpenRA.Platforms.Default/.",
          "OpenRA.Mods.Common/UtilityCommands",
          "OpenRA.Mods.Common/Traits/Crates",
          "OpenRA.Mods.Cnc/Traits",
          "OpenRA.Mods.Common/Traits/World",
          "OpenRA.Mods.Common/EditorBrushes",
          "OpenRA.Mods.Common/Traits/World",
          "OpenRA.Mods.Common/Traits/World",
          "OpenRA.Mods.Common/EditorBrushes",
          "OpenRA.Mods.Common/Traits/World",
          "OpenRA.Mods.Common/EditorBrushes",
          "OpenRA.Mods.Common/EditorBrushes",
          "OpenRA.Mods.Common/Traits/World",
          "OpenRA.Mods.Common/Traits/World",
          "OpenRA.Mods.Common/EditorBrushes",
          "OpenRA.Mods.Common/Widgets",
          "OpenRA.Mods.Common/Traits",
          "OpenRA.Mods.Common/Traits/World",
          "OpenRA.Mods.Common/Traits/World",
          "OpenRA.Mods.Common/Traits/Player",
          "OpenRA.Mods.Cnc/Traits",
          "OpenRA.Mods.Common/Traits",
          "OpenRA.Mods.Common/Traits",
          "OpenRA.Mods.Common/Activities",
          "OpenRA.Mods.Common/Orders",
          "OpenRA.Mods.Common/Traits",
          "OpenRA.Game/Support",
          "OpenRA.Game/Support",
          "OpenRA.Mods.Common/Traits/Buildings",
          "OpenRA.Mods.Common/Traits",
          "OpenRA.Mods.Common/Traits/World",
          "OpenRA.Mods.Common/Traits",
          "OpenRA.Mods.Common/Traits/Crates",
          "OpenRA.Mods.Common/Traits",
          "OpenRA.Mods.Common/Traits",
          "OpenRA.Mods.Common/Widgets",
          "OpenRA.Mods.Common/UtilityCommands",
          "OpenRA.Mods.Common/Traits/Conditions",
          "OpenRA.Game/.",
          "OpenRA.Mods.Common/UtilityCommands",
          "OpenRA.Mods.Common/UtilityCommands",
          "OpenRA.Mods.Common/UtilityCommands",
          "OpenRA.Mods.Common/UtilityCommands",
          "OpenRA.Mods.Common/UtilityCommands",
          "OpenRA.Mods.Common/UtilityCommands",
          "OpenRA.Mods.Common/UtilityCommands",
          "OpenRA.Game/.",
          "OpenRA.Game/Server",
          "OpenRA.Mods.Common/Scripting/Global",
          "OpenRA.Game/Traits/World",
          "OpenRA.Mods.Common/Activities/Air",
          "OpenRA.Mods.Common/Traits/Air",
          "OpenRA.Mods.Common/FileFormats",
          "OpenRA.Game/.",
          "OpenRA.Game/.",
          "OpenRA.Game/FileSystem",
          "OpenRA.Mods.Common/Activities",
          "OpenRA.Mods.Common/Warheads",
          "OpenRA.Mods.Common/Traits/Multipliers",
          "OpenRA.Mods.Common/Traits/Palettes",
          "OpenRA.Mods.Common/Traits/PaletteEffects",
          "OpenRA.Mods.Common/Warheads",
          "OpenRA.Mods.Common/Effects",
          "OpenRA.Mods.Common/Effects",
          "OpenRA.Mods.Common/Activities/Air",
          "OpenRA.Mods.Common/Activities/Air",
          "OpenRA.Mods.Common/Activities/Air",
          "OpenRA.Mods.Common/Activities/Air",
          "OpenRA.Mods.Common/Activities/Air",
          "OpenRA.Mods.Common/Activities/Air",
          "OpenRA.Game/FileSystem",
          "OpenRA.Mods.Common/Activities/Move",
          "OpenRA.Game/.",
          "OpenRA.Mods.Common/Traits/Buildings",
          "OpenRA.Mods.Common/Orders",
          "OpenRA.Platforms.Default/.",
          "OpenRA.Mods.Common/Traits/Buildings",
          "OpenRA.Mods.Common/Traits/Buildings",
          "OpenRA.Platforms.Default/.",
          "OpenRA.Game/Traits/Player",
          "OpenRA.Mods.Common/Traits/Modifiers",
          "OpenRA.Mods.Cnc/Traits",
          "OpenRA.Mods.Common/Traits",
          "OpenRA.Mods.Common/Traits/Multipliers",
          "OpenRA.Mods.Common/Scripting/Properties",
          "OpenRA.Game/.",
          "OpenRA.Mods.Common/Widgets/Logic/Ingame",
          "OpenRA.Mods.Common/Widgets/Logic/Ingame",
          "OpenRA.Mods.Common/Widgets/Logic/Ingame",
          "OpenRA.Mods.Common/Widgets/Logic/Ingame",
          "OpenRA.Game/.",
          "OpenRA.Game/Network",
          "OpenRA.Mods.Common/Widgets/Logic",
          "OpenRA.Mods.Common/Widgets/Logic/Ingame",
          "OpenRA.Mods.Common/Traits/Player",
          "OpenRA.Game/Network",
          "OpenRA.Game/.",
          "OpenRA.Mods.Common/Widgets/Logic/Ingame",
          "OpenRA.Mods.Common/Traits/Buildings",
          "OpenRA.Mods.Common/Scripting/Properties",
          "OpenRA.Game/Network",
          "OpenRA.Mods.Common/UtilityCommands",
          "OpenRA.Mods.Common/Traits/Crates",
          "OpenRA.Mods.Common/Traits/Crates",
          "OpenRA.Mods.Common/Traits/Crates",
          "OpenRA.Mods.Common/Traits",
          "OpenRA.Mods.Common/Traits/Buildings",
          "OpenRA.Mods.Common/Traits",
          "OpenRA.Mods.Common/Traits",
          "OpenRA.Mods.Common/Traits/Multipliers",
          "OpenRA.Mods.Cnc/UtilityCommands",
          "OpenRA.Mods.Common/Orders",
          "OpenRA.Mods.Common/Traits/PaletteEffects",
          "OpenRA.Mods.Cnc/Traits",
          "OpenRA.Mods.Cnc/Effects",
          "OpenRA.Mods.Cnc/Traits/SupportPowers",
          "OpenRA.Mods.Cnc/Effects",
          "OpenRA.Mods.Cnc/Traits",
          "OpenRA.Mods.Common/Widgets",
          "OpenRA.Mods.Common/Traits/Conditions",
          "OpenRA.Mods.Common/Traits/Conditions",
          "OpenRA.Mods.Common/Traits/Conditions",
          "OpenRA.Mods.Common/Traits/Conditions",
          "OpenRA.Mods.Common/Traits/Conditions",
          "OpenRA.Mods.Common/Traits/Conditions",
          "OpenRA.Mods.Common/Traits/Conditions",
          "OpenRA.Mods.Common/Traits/Conditions",
          "OpenRA.Mods.Common/Traits/Conditions",
          "OpenRA.Mods.Common/Traits/Conditions",
          "OpenRA.Mods.Common/Traits/Conditions",
          "OpenRA.Mods.Common/Traits/Conditions",
          "OpenRA.Mods.Common/Traits/Conditions",
          "OpenRA.Mods.Common/Traits/Conditions",
          "OpenRA.Mods.Common/Traits/Conditions",
          "OpenRA.Mods.Common/Traits/Player",
          "OpenRA.Mods.Common/Traits/Conditions",
          "OpenRA.Mods.Common/Traits/Conditions",
          "OpenRA.Mods.Common/Traits/Conditions",
          "OpenRA.Mods.Common/Traits/Conditions",
          "OpenRA.Mods.Common/Traits/Conditions",
          "OpenRA.Mods.Common/Traits/Conditions",
          "OpenRA.Mods.Common/Traits/Crates",
          "OpenRA.Mods.Common/Traits/SupportPowers",
          "OpenRA.Mods.Common/Traits/Conditions",
          "OpenRA.Mods.Common/Traits/Conditions",
          "OpenRA.Mods.Common/Warheads",
          "OpenRA.Mods.Cnc/Traits/SupportPowers",
          "OpenRA.Mods.Common/Traits/Conditions",
          "OpenRA.Mods.Common/Projectiles",
          "OpenRA.Mods.Common/Widgets",
          "OpenRA.Mods.Common/Traits/Buildings",
          "OpenRA.Mods.Common/Traits/BotModules/Squads/States",
          "OpenRA.Mods.Common/Traits",
          "OpenRA.Mods.Common/Orders",
          "OpenRA.Mods.Common/Scripting/Properties",
          "OpenRA.Mods.Common/Traits",
          "OpenRA.Mods.Common/Traits/Multipliers",
          "OpenRA.Mods.Common/Traits/Multipliers",
          "OpenRA.Mods.Common/Traits/Multipliers",
          "OpenRA.Game/Network",
          "OpenRA.Game/Graphics",
          "OpenRA.Mods.Common/Activities",
          "OpenRA.Mods.Common/Traits",
          "OpenRA.Mods.Common/Traits/Player",
          "OpenRA.Mods.Common/Traits/BotModules",
          "OpenRA.Mods.Common/Activities",
          "OpenRA.Mods.Cnc/Traits",
          "OpenRA.Mods.D2k/Traits/Player",
          "OpenRA.Mods.Common/Scripting/Properties",
          "OpenRA.Mods.Common/Traits/Crates",
          "OpenRA.Mods.Common/Traits",
          "OpenRA.Mods.Common/Warheads",
          "OpenRA.Mods.Common/Scripting/Properties",
          "OpenRA.Mods.Common/Commands",
          "OpenRA.Mods.Common/Traits/Modifiers",
          "OpenRA.Mods.Common/Traits/Modifiers",
          "OpenRA.Mods.Common/Traits/Crates",
          "OpenRA.Mods.Common/Widgets/Logic/Editor",
          "OpenRA.Mods.Common/Traits",
          "OpenRA.Game/Input",
          "OpenRA.Game/.",
          "OpenRA.Mods.Common/Widgets",
          "OpenRA.Game/.",
          "OpenRA.Game/Input",
          "OpenRA.Mods.Common/Widgets/Logic/Settings",
          "OpenRA.Mods.Common/Traits/Render",
          "OpenRA.Game/Support",
          "OpenRA.Game/.",
          "OpenRA.Game/Support",
          "OpenRA.Mods.Common/Activities",
          "OpenRA.Mods.Common/Traits",
          "OpenRA.Mods.Common/Traits",
          "OpenRA.Mods.Cnc/FileFormats",
          "OpenRA.Game/Effects",
          "OpenRA.Mods.Common/HitShapes",
          "OpenRA.Game/Input",
          "OpenRA.Game/Primitives",
          "OpenRA.Game/Orders",
          "OpenRA.Game/FileSystem",
          "OpenRA.Platforms.Default/.",
          "OpenRA.Game/.",
          "OpenRA.Mods.Cnc/FileFormats",
          "OpenRA.Mods.Cnc/FileFormats",
          "OpenRA.Mods.Common/Traits",
          "OpenRA.Mods.Common/Traits",
          "OpenRA.Mods.Common/FileFormats",
          "OpenRA.Mods.Common/Widgets",
          "OpenRA.Mods.Common/Traits",
          "OpenRA.Mods.D2k/UtilityCommands",
          "OpenRA.Mods.Common/UtilityCommands",
          "OpenRA.Mods.Cnc/UtilityCommands",
          "OpenRA.Mods.Cnc/UtilityCommands",
          "OpenRA.Mods.Cnc/UtilityCommands",
          "OpenRA.Mods.Common/Traits/Multipliers",
          "OpenRA.Mods.Common/Traits/Palettes",
          "OpenRA.Mods.Common/Traits/Palettes",
          "OpenRA.Mods.Cnc/Activities",
          "OpenRA.Mods.Cnc/Traits/Infiltration",
          "OpenRA.Mods.Cnc/Traits/Infiltration",
          "OpenRA.Mods.Cnc/Traits/Infiltration",
          "OpenRA.Mods.Cnc/Traits/Infiltration",
          "OpenRA.Mods.Cnc/Traits/Infiltration",
          "OpenRA.Mods.Cnc/Traits/Infiltration",
          "OpenRA.Mods.Cnc/Traits/Infiltration",
          "OpenRA.Mods.Cnc/Scripting/Properties",
          "OpenRA.Mods.Cnc/Traits/Infiltration",
          "OpenRA.Mods.Common/Widgets/Logic/Ingame",
          "OpenRA.Mods.Common/Widgets/Logic/Ingame",
          "OpenRA.Mods.Common/Widgets/Logic/Ingame",
          "OpenRA.Mods.Common/Widgets/Logic/Ingame",
          "OpenRA.Mods.Common/Widgets/Logic/Ingame",
          "OpenRA.Mods.Common/Widgets/Logic/Ingame",
          "OpenRA.Mods.Common/Widgets/Logic/Ingame",
          "OpenRA.Mods.Common/Widgets/Logic/Ingame",
          "OpenRA.Mods.Common/FileFormats",
          "OpenRA.Game/Input",
          "OpenRA.Mods.Common/Widgets/Logic/Settings",
          "OpenRA.Mods.Common/Widgets/Logic/Installation",
          "OpenRA.Mods.Common/FileFormats",
          "OpenRA.Mods.Common/FileSystem",
          "OpenRA.Game/.",
          "OpenRA.Mods.Common/Projectiles",
          "OpenRA.Game/Primitives",
          "OpenRA.Mods.Common/Traits",
          "OpenRA.Mods.Common/Widgets/Logic",
          "OpenRA.Mods.Cnc/Projectiles",
          "OpenRA.Mods.Cnc/Traits/SupportPowers",
          "OpenRA.Mods.Cnc/Scripting/Properties",
          "OpenRA.Mods.Common/Traits",
          "OpenRA.Mods.Common/Graphics",
          "OpenRA.Mods.Common/Graphics",
          "OpenRA.Mods.Common/Traits/Render",
          "OpenRA.Mods.Common/Traits",
          "OpenRA.Mods.Common/Widgets/Logic/Ingame/Hotkeys",
          "OpenRA.Mods.Common/Widgets/Logic/Ingame/Hotkeys",
          "OpenRA.Mods.Common/Traits/World",
          "OpenRA.Mods.Common/Traits/World",
          "OpenRA.Game/Input",
          "OpenRA.Mods.Common/Widgets/Logic/Lobby",
          "OpenRA.Mods.Common/Widgets/Logic/Lobby",
          "OpenRA.Mods.Common/Traits",
          "OpenRA.Mods.Cnc/FileFormats",
          "OpenRA.Mods.Cnc/FileFormats",
          "OpenRA.Mods.Common/Widgets",
          "OpenRA.Mods.Common/Widgets",
          "OpenRA.Mods.Common/Widgets",
          "OpenRA.Mods.Common/Activities/Air",
          "OpenRA.Mods.Common/Projectiles",
          "OpenRA.Mods.Common/Widgets/Logic/Lobby",
          "OpenRA.Game/Support",
          "OpenRA.Mods.Cnc/Activities",
          "OpenRA.Mods.Common/Widgets/Logic/Editor",
          "OpenRA.Mods.Cnc/Activities",
          "OpenRA.Mods.Cnc/Activities",
          "OpenRA.Mods.Common/Warheads",
          "OpenRA.Mods.Common/Traits/Render",
          "OpenRA.Mods.Common/Traits/Buildings",
          "OpenRA.Mods.Common/Traits/World",
          "OpenRA.Mods.Cnc/UtilityCommands",
          "OpenRA.Mods.Cnc/UtilityCommands",
          "OpenRA.Mods.Cnc/UtilityCommands",
          "OpenRA.Mods.Common/Traits/Crates",
          "OpenRA.Mods.Cnc/Traits/PaletteEffects",
          "OpenRA.Mods.Common/Scripting/Global",
          "OpenRA.Mods.Common/Graphics",
          "OpenRA.Mods.Common/Traits/Buildings",
          "OpenRA.Mods.Common/Traits/Buildings",
          "OpenRA.Mods.Common/Traits/Conditions",
          "OpenRA.Mods.Common/Widgets",
          "OpenRA.Game/Traits",
          "OpenRA.Mods.Common/Traits",
          "OpenRA.Mods.Common/Lint",
          "OpenRA.Mods.Common/Lint",
          "OpenRA.Mods.Common/UtilityCommands",
          "OpenRA.Mods.Common/UtilityCommands",
          "OpenRA.Mods.Common/UtilityCommands",
          "OpenRA.Mods.Common/Widgets",
          "OpenRA.Mods.Common/UtilityCommands",
          "OpenRA.Mods.Cnc/UtilityCommands",
          "OpenRA.Mods.Common/Widgets/Logic/Ingame",
          "OpenRA.Mods.Common/Widgets/Logic/Ingame",
          "OpenRA.Mods.Common/Widgets/Logic/Ingame",
          "OpenRA.Mods.Common/Widgets/Logic/Ingame",
          "OpenRA.Mods.Common/Traits/World",
          "OpenRA.Mods.Common/ServerTraits",
          "OpenRA.Mods.Common/Widgets/Logic/Lobby",
          "OpenRA.Mods.Common/Widgets/Logic/Lobby",
          "OpenRA.Mods.Common/Traits/Player",
          "OpenRA.Mods.Common/ServerTraits",
          "OpenRA.Mods.Common/Widgets/Logic/Lobby",
          "OpenRA.Mods.Common/Activities/Move",
          "OpenRA.Game/.",
          "OpenRA.Mods.Common/Traits/World",
          "OpenRA.Game/Support",
          "OpenRA.Game/.",
          "OpenRA.Mods.Common/Widgets",
          "OpenRA.Mods.Common/Widgets",
          "OpenRA.Mods.Common/LoadScreens",
          "OpenRA.Game/Primitives",
          "OpenRA.Mods.Common/Scripting",
          "OpenRA.Game/.",
          "OpenRA.Mods.Common/FileFormats",
          "OpenRA.Mods.Cnc/Traits",
          "OpenRA.Mods.Common/Widgets/Logic",
          "OpenRA.Game/.",
          "OpenRA.Game/Map",
          "OpenRA.Mods.Common/Traits/World",
          "OpenRA.Game/Map",
          "OpenRA.Mods.Common/Widgets/Logic",
          "OpenRA.Game/Map",
          "OpenRA.Mods.Common/Traits/World",
          "OpenRA.Mods.Common/Traits",
          "OpenRA.Mods.Common/Widgets/Logic/Editor",
          "OpenRA.Mods.Common/Widgets/Logic/Editor",
          "OpenRA.Mods.Common/Scripting/Global",
          "OpenRA.Game/Map",
          "OpenRA.Mods.Common/Effects",
          "OpenRA.Mods.Common/Traits/World",
          "OpenRA.Game/Map",
          "OpenRA.Game/Map",
          "OpenRA.Mods.Common/Widgets/Logic/Lobby",
          "OpenRA.Mods.Common/Widgets",
          "OpenRA.Mods.Common/Traits/World",
          "OpenRA.Mods.Common/Traits/World",
          "OpenRA.Game/Server",
          "OpenRA.Mods.Common/ServerTraits",
          "OpenRA.Mods.Common/Traits/BotModules",
          "OpenRA.Mods.Common/Scripting",
          "OpenRA.Mods.Common/Scripting/Global",
          "OpenRA.Mods.Cnc/FileSystem",
          "OpenRA.Mods.Common/Widgets",
          "OpenRA.Mods.Common/Widgets/Logic/Ingame",
          "OpenRA.Mods.Common/Traits/PaletteEffects",
          "OpenRA.Game/Primitives",
          "OpenRA.Game/Support",
          "OpenRA.Mods.Cnc/Traits",
          "OpenRA.Mods.Cnc/Traits",
          "OpenRA.Game/.",
          "OpenRA.Test/OpenRA.Game",
          "OpenRA.Mods.Common/Projectiles",
          "OpenRA.Mods.Common/Widgets/Logic",
          "OpenRA.Mods.Common/Traits/World",
          "OpenRA.Mods.Common/Scripting/Properties",
          "OpenRA.Mods.Common/Traits/Player",
          "OpenRA.Mods.Cnc/FileSystem",
          "OpenRA.Mods.Common/Traits",
          "OpenRA.Mods.Common/Scripting/Properties",
          "OpenRA.Mods.Common/.",
          "OpenRA.Mods.Common/Widgets/Logic/Installation",
          "OpenRA.Mods.Common/LoadScreens",
          "OpenRA.Mods.Common/Widgets/Logic/Installation",
          "OpenRA.Mods.Common/Widgets/Logic/Installation",
          "OpenRA.Mods.Common/.",
          "OpenRA.Game/.",
          "OpenRA.Game/Graphics",
          "OpenRA.Mods.Common/Graphics",
          "OpenRA.Game/Graphics",
          "OpenRA.Mods.Common/Graphics",
          "OpenRA.Game/Graphics",
          "OpenRA.Mods.Common/Widgets",
          "OpenRA.Mods.Common/UpdateRules/Rules/20200503",
          "OpenRA.Mods.Common/Traits/Player",
          "OpenRA.Mods.Common/Widgets",
          "OpenRA.Mods.Common/Activities/Move",
          "OpenRA.Mods.Common/Activities/Move",
          "OpenRA.Mods.Common/UpdateRules/Rules/20200503",
          "OpenRA.Mods.Common/Activities/Move",
          "OpenRA.Mods.Common/AudioLoaders",
          "OpenRA.Platforms.Default/.",
          "OpenRA.Mods.Common/Widgets/Logic",
          "OpenRA.Mods.Common/Widgets/Logic",
          "OpenRA.Game/GameRules",
          "OpenRA.Mods.Common/Widgets/Logic",
          "OpenRA.Mods.Common/Traits/World",
          "OpenRA.Mods.Common/Traits",
          "OpenRA.Mods.Common/Widgets/Logic",
          "OpenRA.Mods.Common/Widgets/Logic",
          "OpenRA.Game/Network",
          "OpenRA.Mods.Common/Traits/BotModules/Squads/States",
          "OpenRA.Mods.Common/Widgets/Logic/Editor",
          "OpenRA.Mods.Common/Projectiles",
          "OpenRA.Mods.Common/Traits/SupportPowers",
          "OpenRA.Mods.Common/Scripting/Properties",
          "OpenRA.Game/.",
          "OpenRA.Game/Primitives",
          "OpenRA.Game/Primitives",
          "OpenRA.Game/Primitives",
          "OpenRA.Mods.Common/Widgets",
          "OpenRA.Mods.Common/Widgets",
          "OpenRA.Mods.Common/Widgets/Logic/Ingame",
          "OpenRA.Mods.Common/Widgets/Logic/Ingame",
          "OpenRA.Mods.Common/Widgets",
          "OpenRA.Mods.Common/AudioLoaders",
          "OpenRA.Platforms.Default/.",
          "OpenRA.Platforms.Default/.",
          "OpenRA.Game/Network",
          "OpenRA.Mods.Common/Widgets/Logic/Ingame",
          "OpenRA.Mods.Common/Traits/World",
          "OpenRA.Mods.Common/Orders",
          "OpenRA.Game/Network",
          "OpenRA.Game/Network",
          "OpenRA.Test/OpenRA.Game",
          "OpenRA.Mods.Common/UtilityCommands",
          "OpenRA.Mods.Common/UtilityCommands",
          "OpenRA.Mods.Common/UtilityCommands",
          "OpenRA.Mods.Common/Traits",
          "OpenRA.Mods.Cnc/FileSystem",
          "OpenRA.Mods.Cnc/FileSystem",
          "OpenRA.Game/Graphics",
          "OpenRA.Mods.Common/Traits/Palettes",
          "OpenRA.Mods.Common/Traits/Palettes",
          "OpenRA.Mods.Common/Traits/Palettes",
          "OpenRA.Mods.Common/Traits/Palettes",
          "OpenRA.Mods.Common/Traits/Palettes",
          "OpenRA.Mods.Common/Traits/Palettes",
          "OpenRA.Mods.Common/Traits/Palettes",
          "OpenRA.Mods.D2k/Traits/World",
          "OpenRA.Game/Graphics",
          "OpenRA.Mods.Common/Traits",
          "OpenRA.Mods.Common/Traits",
          "OpenRA.Mods.Common/Activities",
          "OpenRA.Mods.Common/Scripting/Properties",
          "OpenRA.Mods.Common/Traits/Player",
          "OpenRA.Mods.Common/Traits/SupportPowers",
          "OpenRA.Mods.Common/Scripting/Properties",
          "OpenRA.Mods.Common/Traits",
          "OpenRA.Mods.Common/Widgets",
          "OpenRA.Mods.Common/Traits/World",
          "OpenRA.Mods.Common/Pathfinder",
          "OpenRA.Mods.Common/Pathfinder",
          "OpenRA.Mods.Common/Traits/Conditions",
          "OpenRA.Mods.Common/Widgets/Logic/Ingame/Hotkeys",
          "OpenRA.Mods.Common/Widgets/Logic",
          "OpenRA.Mods.Common/Widgets",
          "OpenRA.Game/Support",
          "OpenRA.Game/Support",
          "OpenRA.Game/Support",
          "OpenRA.Game/Support",
          "OpenRA.Game/Support",
          "OpenRA.Mods.Common/Activities",
          "OpenRA.Mods.Common/Traits/Player",
          "OpenRA.Mods.Common/Traits/Player",
          "OpenRA.Mods.Common/Orders",
          "OpenRA.Mods.Common/Traits/Buildings",
          "OpenRA.Game/.",
          "OpenRA.Game/Graphics",
          "OpenRA.Test/OpenRA.Game",
          "OpenRA.Game/.",
          "OpenRA.Mods.Common/Traits/Palettes",
          "OpenRA.Game/Graphics",
          "OpenRA.Mods.Common/Commands",
          "OpenRA.Mods.Common/Scripting/Properties",
          "OpenRA.Game/.",
          "OpenRA.Game/Primitives",
          "OpenRA.Mods.Common/Traits/Player",
          "OpenRA.Mods.Common/Scripting/Properties",
          "OpenRA.Mods.Common/.",
          "OpenRA.Mods.Common/Scripting/Global",
          "OpenRA.Mods.Common/ServerTraits",
          "OpenRA.Game/.",
          "OpenRA.Mods.Common/Widgets/Logic",
          "OpenRA.Mods.Common/Scripting/Properties",
          "OpenRA.Mods.Common/Traits/Player",
          "OpenRA.Game/Map",
          "OpenRA.Mods.Common/Traits/Player",
          "OpenRA.Mods.Common/Traits/Player",
          "OpenRA.Mods.Common/Scripting/Properties",
          "OpenRA.Mods.Common/Traits",
          "OpenRA.Mods.Common/Traits",
          "OpenRA.Game/FileFormats",
          "OpenRA.Mods.Common/UtilityCommands",
          "OpenRA.Mods.Common/UtilityCommands",
          "OpenRA.Mods.Common/SpriteLoaders",
          "OpenRA.Mods.Common/HitShapes",
          "OpenRA.Game/Primitives",
          "OpenRA.Mods.Common/Graphics",
          "OpenRA.Mods.Cnc/Traits",
          "OpenRA.Mods.Common/Traits/Power",
          "OpenRA.Mods.Common/Traits/Power/Player",
          "OpenRA.Mods.Common/Traits/Multipliers",
          "OpenRA.Mods.Common/Scripting/Properties",
          "OpenRA.Mods.Common/Traits",
          "OpenRA.Mods.Cnc/Widgets/Logic",
          "OpenRA.Mods.Common/Traits/Buildings",
          "OpenRA.Game/Primitives",
          "OpenRA.Test/OpenRA.Game",
          "OpenRA.Mods.Common/Traits/SupportPowers",
          "OpenRA.Mods.Common/Traits",
          "OpenRA.Mods.Common/Traits",
          "OpenRA.Mods.Common/Traits/Buildings",
          "OpenRA.Mods.Common/Traits/Render",
          "OpenRA.Mods.Common/Traits/Multipliers",
          "OpenRA.Mods.Common/Traits",
          "OpenRA.Mods.Common/Widgets",
          "OpenRA.Mods.Common/Traits",
          "OpenRA.Mods.Common/Scripting/Properties",
          "OpenRA.Mods.Common/Traits/Player",
          "OpenRA.Mods.Common/Traits",
          "OpenRA.Mods.Common/Widgets/Logic/Ingame",
          "OpenRA.Mods.Common/Widgets",
          "OpenRA.Mods.Common/Traits/Multipliers",
          "OpenRA.Mods.Common/Widgets/Logic/Ingame",
          "OpenRA.Mods.Common/Widgets",
          "OpenRA.Launcher/.",
          "OpenRA.Server/.",
          "OpenRA.Utility/.",
          "OpenRA.WindowsLauncher/.",
          "OpenRA.Game/Support",
          "OpenRA.Mods.Common/Widgets",
          "OpenRA.Game/Map",
          "OpenRA.Game/Map",
          "OpenRA.Mods.Common/Traits/BotModules/Squads/States",
          "OpenRA.Game/Server",
          "OpenRA.Mods.Common/Traits/Player",
          "OpenRA.Mods.Common/Traits/Radar",
          "OpenRA.Mods.Common/Traits/Player",
          "OpenRA.Mods.Common/Traits",
          "OpenRA.Mods.Common/Traits",
          "OpenRA.Mods.Common/Traits/Conditions",
          "OpenRA.Mods.Common/Traits",
          "OpenRA.Mods.D2k/SpriteLoaders",
          "OpenRA.Mods.Common/Widgets",
          "OpenRA.Mods.Common/FileFormats",
          "OpenRA.Mods.Common/Traits/Radar",
          "OpenRA.Mods.Common/Scripting/Global",
          "OpenRA.Mods.Common/Traits/World",
          "OpenRA.Mods.Common/Widgets",
          "OpenRA.Mods.Common/Projectiles",
          "OpenRA.Mods.Common/Graphics",
          "OpenRA.Mods.Common/Traits/Buildings",
          "OpenRA.Mods.Common/Effects",
          "OpenRA.Mods.Common/Graphics",
          "OpenRA.Mods.Common/Traits/Multipliers",
          "OpenRA.Game/Primitives",
          "OpenRA.Mods.Common/Traits",
          "OpenRA.Mods.Common/HitShapes",
          "OpenRA.Game/Primitives",
          "OpenRA.Mods.Common/Traits/Buildings",
          "OpenRA.Mods.Common/UpdateRules/Rules/20200202",
          "OpenRA.Mods.Common/UtilityCommands",
          "OpenRA.Game/UtilityCommands",
          "OpenRA.Mods.Common/Scripting/Global",
          "OpenRA.Mods.Common/Traits",
          "OpenRA.Mods.Common/Traits/Multipliers",
          "OpenRA.Mods.Common/Traits",
          "OpenRA.Mods.Common/Traits/Render",
          "OpenRA.Mods.Common/Traits/Multipliers",
          "OpenRA.Mods.Cnc/UtilityCommands",
          "OpenRA.Mods.Common/UpdateRules/Rules/20200202",
          "OpenRA.Mods.Common/UpdateRules/Rules/20200503",
          "OpenRA.Mods.Common/Widgets/Logic/Ingame/Hotkeys",
          "OpenRA.Mods.Common/UpdateRules/Rules/20200202",
          "OpenRA.Mods.Common/UpdateRules/Rules/20200503",
          "OpenRA.Mods.Common/UpdateRules/Rules/20200503",
          "OpenRA.Mods.Common/UpdateRules/Rules/20201213",
          "OpenRA.Mods.Common/UpdateRules/Rules/20201213",
          "OpenRA.Mods.Common/UpdateRules/Rules/20201213",
          "OpenRA.Mods.Common/UpdateRules/Rules/20201213",
          "OpenRA.Mods.Common/Activities",
          "OpenRA.Mods.Common/UpdateRules/Rules/20201213",
          "OpenRA.Mods.Common/UpdateRules/Rules",
          "OpenRA.Mods.Common/UpdateRules/Rules/20200202",
          "OpenRA.Mods.Common/UpdateRules/Rules/20200202",
          "OpenRA.Mods.Common/UpdateRules/Rules/20200503",
          "OpenRA.Mods.Common/UpdateRules/Rules/20200503",
          "OpenRA.Mods.Common/UpdateRules/Rules/20200503",
          "OpenRA.Mods.Common/UpdateRules/Rules/20201213",
          "OpenRA.Mods.Common/UpdateRules/Rules/20200202",
          "OpenRA.Mods.Common/UpdateRules/Rules/20200202",
          "OpenRA.Mods.Common/UpdateRules/Rules/20200503",
          "OpenRA.Mods.Common/UpdateRules/Rules",
          "OpenRA.Mods.Common/UpdateRules/Rules/20200202",
          "OpenRA.Mods.Common/UpdateRules/Rules/20200503",
          "OpenRA.Mods.Common/UpdateRules/Rules/20201213",
          "OpenRA.Mods.Common/UpdateRules/Rules/20200503",
          "OpenRA.Mods.Common/Traits/Render",
          "OpenRA.Mods.Common/Traits/Render",
          "OpenRA.Mods.Common/Traits/Render",
          "OpenRA.Mods.Common/Traits/Render",
          "OpenRA.Mods.Common/Traits/Render",
          "OpenRA.Mods.Common/Traits/Render",
          "OpenRA.Mods.Common/Traits/Render",
          "OpenRA.Mods.Common/Traits/Render",
          "OpenRA.Mods.Common/Traits/Render",
          "OpenRA.Game/Graphics",
          "OpenRA.Game/.",
          "OpenRA.Mods.Common/Activities",
          "OpenRA.Mods.Common/Activities",
          "OpenRA.Mods.Common/Orders",
          "OpenRA.Mods.Common/Traits",
          "OpenRA.Mods.Common/Traits/Buildings",
          "OpenRA.Mods.Common/Scripting/Properties",
          "OpenRA.Mods.Common/Traits",
          "OpenRA.Mods.Common/Traits",
          "OpenRA.Mods.Common/Traits",
          "OpenRA.Mods.Common/UpdateRules/Rules/20191117",
          "OpenRA.Mods.Common/UpdateRules/Rules/20200503",
          "OpenRA.Mods.Common/UpdateRules/Rules/20201213",
          "OpenRA.Mods.Common/UpdateRules/Rules/20200503",
          "OpenRA.Mods.Common/UpdateRules/Rules/20201213",
          "OpenRA.Mods.Common/UpdateRules/Rules/20201213",
          "OpenRA.Mods.Common/UpdateRules/Rules/20201213",
          "OpenRA.Mods.Common/Traits",
          "OpenRA.Mods.Common/Traits",
          "OpenRA.Mods.Common/Widgets/Logic",
          "OpenRA.Game/Network",
          "OpenRA.Mods.Common/Widgets/Logic/Ingame",
          "OpenRA.Game/FileFormats",
          "OpenRA.Mods.Common/UtilityCommands",
          "OpenRA.Game/Network",
          "OpenRA.Mods.Common/Widgets/Logic",
          "OpenRA.Mods.Common/Traits/Buildings",
          "OpenRA.Mods.Common/Traits",
          "OpenRA.Mods.Common/Traits/Buildings",
          "OpenRA.Mods.Common/Widgets/Logic/Ingame/Hotkeys",
          "OpenRA.Mods.Common/UtilityCommands",
          "OpenRA.Mods.Common/Widgets",
          "OpenRA.Mods.Common/Traits/World",
          "OpenRA.Mods.Common/Traits/World",
          "OpenRA.Mods.Common/Widgets",
          "OpenRA.Mods.Common/Scripting/Properties",
          "OpenRA.Mods.Cnc/Traits",
          "OpenRA.Mods.Common/Traits/World",
          "OpenRA.Mods.Common/Traits/Player",
          "OpenRA.Mods.Common/Traits/Multipliers",
          "OpenRA.Mods.Common/Activities",
          "OpenRA.Mods.Common/Activities/Air",
          "OpenRA.Mods.Common/Traits/Crates",
          "OpenRA.Mods.Common/Traits",
          "OpenRA.Mods.Common/Traits",
          "OpenRA.Mods.Common/Effects",
          "OpenRA.Mods.Common/Traits",
          "OpenRA.Mods.Common/Traits",
          "OpenRA.Mods.Common/Traits/Multipliers",
          "OpenRA.Mods.Common/UtilityCommands",
          "OpenRA.Game/Graphics",
          "OpenRA.Game/Graphics",
          "OpenRA.Mods.Common/Activities",
          "OpenRA.Mods.Common/Traits/PaletteEffects",
          "OpenRA.Game/GameRules",
          "OpenRA.Mods.D2k/Traits",
          "OpenRA.Mods.Cnc/Effects",
          "OpenRA.Mods.Common/Widgets/Logic/Editor",
          "OpenRA.Mods.Common/Traits/Power",
          "OpenRA.Mods.Common/Scripting/Properties",
          "OpenRA.Mods.Common/Traits/Infantry",
          "OpenRA.Game/Traits/World",
          "OpenRA.Game/Traits/World",
          "OpenRA.Mods.Common/Widgets/Logic",
          "OpenRA.Game/Scripting",
          "OpenRA.Game/Scripting",
          "OpenRA.Mods.Common/Traits/World",
          "OpenRA.Game/Scripting",
          "OpenRA.Game/Scripting",
          "OpenRA.Game/Scripting",
          "OpenRA.Game/Scripting",
          "OpenRA.Mods.Common/Traits",
          "OpenRA.Mods.Common/Scripting",
          "OpenRA.Game/Scripting",
          "OpenRA.Mods.Common/Widgets",
          "OpenRA.Mods.Common/Widgets",
          "OpenRA.Platforms.Default/.",
          "OpenRA.Platforms.Default/.",
          "OpenRA.Platforms.Default/.",
          "OpenRA.Platforms.Default/.",
          "OpenRA.Mods.Common/Traits",
          "OpenRA.Game/Primitives",
          "OpenRA.Mods.Common/Widgets/Logic/Ingame/Hotkeys",
          "OpenRA.Mods.Common/Traits/SupportPowers",
          "OpenRA.Mods.Common/Widgets/Logic/Ingame/Hotkeys",
          "OpenRA.Mods.Common/Traits",
          "OpenRA.Game/.",
          "OpenRA.Mods.Common/Traits/World",
          "OpenRA.Mods.Common/Graphics",
          "OpenRA.Mods.Common/Graphics",
          "OpenRA.Mods.Common/Traits/Render",
          "OpenRA.Mods.Common/Traits/Render",
          "OpenRA.Mods.Common/Widgets",
          "OpenRA.Mods.Common/Activities",
          "OpenRA.Mods.Common/Traits",
          "OpenRA.Mods.Common/Scripting/Properties",
          "OpenRA.Mods.Common/Traits/Buildings",
          "OpenRA.Game/Graphics",
          "OpenRA.Game/Server",
          "OpenRA.Mods.Common/Widgets/Logic",
          "OpenRA.Mods.Common/Widgets/Logic",
          "OpenRA.Game/Network",
          "OpenRA.Game/.",
          "OpenRA.Mods.Common/Widgets/Logic/Settings",
          "OpenRA.Mods.Common/Widgets/Logic/Settings",
          "OpenRA.Platforms.Default/.",
          "OpenRA.Mods.Common/Traits",
          "OpenRA.Mods.Common/Warheads",
          "OpenRA.Test/OpenRA.Mods.Common",
          "OpenRA.Game/Graphics",
          "OpenRA.Game/Graphics",
          "OpenRA.Mods.Common/LoadScreens",
          "OpenRA.Mods.Cnc/SpriteLoaders",
          "OpenRA.Mods.Cnc/SpriteLoaders",
          "OpenRA.Mods.Cnc/SpriteLoaders",
          "OpenRA.Mods.Common/SpriteLoaders",
          "OpenRA.Game/Traits/Player",
          "OpenRA.Mods.Common/.",
          "OpenRA.Mods.Cnc/Traits/World",
          "OpenRA.Mods.Common/Traits/World",
          "OpenRA.Mods.Common/Activities",
          "OpenRA.Mods.Common/Widgets/Logic",
          "OpenRA.Mods.Common/Widgets/Logic",
          "OpenRA.Game/Primitives",
          "OpenRA.Mods.Common/Widgets",
          "OpenRA.Mods.Common/Traits/World",
          "OpenRA.Game/Sound",
          "OpenRA.Game/Sound",
          "OpenRA.Game/GameRules",
          "OpenRA.Mods.Common/Traits/Sound",
          "OpenRA.Game/Primitives",
          "OpenRA.Test/OpenRA.Game",
          "OpenRA.Mods.Common/Effects",
          "OpenRA.Mods.Common/Traits",
          "OpenRA.Mods.Common/Traits/SupportPowers",
          "OpenRA.Mods.Common/UpdateRules/Rules/20200503",
          "OpenRA.Mods.Common/Traits",
          "OpenRA.Mods.Common/Traits/World",
          "OpenRA.Mods.Common/Widgets/Logic/Lobby",
          "OpenRA.Mods.Common/Traits/World",
          "OpenRA.Mods.Common/Traits/Multipliers",
          "OpenRA.Mods.D2k/Traits",
          "OpenRA.Mods.Common/UpdateRules/Rules/20200503",
          "OpenRA.Mods.Common/Warheads",
          "OpenRA.Game/Graphics",
          "OpenRA.Mods.Common/Graphics",
          "OpenRA.Mods.Common/Effects",
          "OpenRA.Mods.Common/Effects",
          "OpenRA.Game/Graphics",
          "OpenRA.Mods.Common/Activities",
          "OpenRA.Game/Graphics",
          "OpenRA.Game/Graphics",
          "OpenRA.Game/Graphics",
          "OpenRA.Mods.Common/Widgets",
          "OpenRA.Mods.Common/Traits/BotModules/Squads",
          "OpenRA.Mods.Common/Traits/BotModules",
          "OpenRA.Mods.Common/Widgets/Logic/Ingame",
          "OpenRA.Mods.Common/Traits/World",
          "OpenRA.Mods.Common/Traits/BotModules/Squads/States",
          "OpenRA.Mods.Common/Traits/BotModules/Squads",
          "OpenRA.Mods.Common/Traits",
          "OpenRA.Mods.Common/Widgets",
          "OpenRA.Mods.Common/Traits/Player",
          "OpenRA.Game/.",
          "OpenRA.Test/OpenRA.Game",
          "OpenRA.Mods.Common/Traits/World",
          "OpenRA.Mods.Common/Traits/World",
          "OpenRA.Mods.Common/Traits/SupportPowers",
          "OpenRA.Mods.Common/Widgets/Logic/Ingame",
          "OpenRA.Mods.Common/Traits/BotModules",
          "OpenRA.Mods.Common/Traits/Render",
          "OpenRA.Mods.Common/Traits/Crates",
          "OpenRA.Mods.Common/Traits/BotModules/BotModuleLogic",
          "OpenRA.Mods.Common/Traits/SupportPowers",
          "OpenRA.Mods.Common/Widgets",
          "OpenRA.Mods.Common/Widgets/Logic/Ingame",
          "OpenRA.Mods.Common/Widgets",
          "OpenRA.Mods.D2k/Activities",
          "OpenRA.Game/.",
          "OpenRA.Game/Network",
          "OpenRA.Mods.Common/Widgets/Logic",
          "OpenRA.Mods.Cnc/Traits",
          "OpenRA.Mods.Cnc/Traits/World",
          "OpenRA.Mods.Cnc/Traits/World",
          "OpenRA.Mods.Cnc/Traits/World",
          "OpenRA.Mods.Cnc/Traits/World",
          "OpenRA.Mods.Cnc/Traits/World",
          "OpenRA.Mods.Common/Widgets/Logic",
          "OpenRA.Mods.Common/Traits/Infantry",
          "OpenRA.Mods.Common/Activities/Air",
          "OpenRA.Game/Traits",
          "OpenRA.Mods.Common/Warheads",
          "OpenRA.Mods.Common/.",
          "OpenRA.Game/Graphics",
          "OpenRA.Mods.Common/Traits",
          "OpenRA.Mods.Common/Traits/Player",
          "OpenRA.Mods.Cnc/Activities",
          "OpenRA.Mods.Common/Traits",
          "OpenRA.Mods.Common/Traits/World",
          "OpenRA.Game/Map",
          "OpenRA.Mods.Common/Terrain",
          "OpenRA.Mods.Common/Traits",
          "OpenRA.Mods.Common/Traits/World",
          "OpenRA.Mods.Common/Traits/Infantry",
          "OpenRA.Mods.Common/Traits/World",
          "OpenRA.Game/Graphics",
          "OpenRA.Mods.Common/Widgets",
          "OpenRA.Mods.Common/Traits/World",
          "OpenRA.Mods.Common/Traits/World",
          "OpenRA.Mods.Cnc/Projectiles",
          "OpenRA.Mods.Cnc/Graphics",
          "OpenRA.Mods.Common/Graphics",
          "OpenRA.Mods.Common/Widgets",
          "OpenRA.Game/.",
          "OpenRA.Mods.Common/Widgets",
          "OpenRA.Game/.",
          "OpenRA.Platforms.Default/.",
          "OpenRA.Mods.Common/SpriteLoaders",
          "OpenRA.Platforms.Default/.",
          "OpenRA.Platforms.Default/.",
          "OpenRA.Mods.Common/Traits",
          "OpenRA.Mods.Common/Traits",
          "OpenRA.Mods.Cnc/Traits/Buildings",
          "OpenRA.Game/Network",
          "OpenRA.Game/Map",
          "OpenRA.Mods.Common/Widgets/Logic/Editor",
          "OpenRA.Mods.Common/Graphics",
          "OpenRA.Mods.Common/Traits/World",
          "OpenRA.Mods.Common/Traits/Render",
          "OpenRA.Mods.Cnc/SpriteLoaders",
          "OpenRA.Mods.Cnc/SpriteLoaders",
          "OpenRA.Mods.Cnc/SpriteLoaders",
          "OpenRA.Mods.Common/Traits/Conditions",
          "OpenRA.Mods.Common/Widgets/Logic/Ingame/Hotkeys",
          "OpenRA.Mods.Common/Traits",
          "OpenRA.Mods.Common/Widgets",
          "OpenRA.Mods.Common/Traits",
          "OpenRA.Game/.",
          "OpenRA.Game/Server",
          "OpenRA.Mods.Cnc/.",
          "OpenRA.Mods.Common/.",
          "OpenRA.Game/Traits",
          "OpenRA.Mods.Cnc/Traits",
          "OpenRA.Mods.Common/Activities",
          "OpenRA.Mods.Common/Traits",
          "OpenRA.Mods.Common/Traits",
          "OpenRA.Mods.Common/Scripting/Properties",
          "OpenRA.Mods.Common/Traits",
          "OpenRA.Mods.Common/Traits/Buildings",
          "OpenRA.Mods.Common/Traits/Buildings",
          "OpenRA.Mods.Common/Traits/Buildings",
          "OpenRA.Mods.Common/Traits/Buildings",
          "OpenRA.Mods.Common/Traits/Buildings",
          "OpenRA.Mods.Common/Traits/Buildings",
          "OpenRA.Mods.Cnc/Traits",
          "OpenRA.Game/.",
          "OpenRA.Mods.Common/Scripting/Properties",
          "OpenRA.Mods.Common/Scripting/Global",
          "OpenRA.Mods.Common/Traits",
          "OpenRA.Mods.Common/Activities",
          "OpenRA.Mods.Common/Traits",
          "OpenRA.Mods.Common/Traits",
          "OpenRA.Game/Primitives",
          "OpenRA.Mods.Common/Graphics",
          "OpenRA.Game/Graphics",
          "OpenRA.Mods.Common/Graphics",
          "OpenRA.Mods.Common/UpdateRules/Rules",
          "OpenRA.Mods.Common/Traits/BotModules",
          "OpenRA.Game/Orders",
          "OpenRA.Mods.Common/Orders",
          "OpenRA.Game/Network",
          "OpenRA.Mods.Common/Activities",
          "OpenRA.Game/UtilityCommands",
          "OpenRA.Mods.Common/UtilityCommands",
          "OpenRA.Mods.Common/UpdateRules/Rules/20200503",
          "OpenRA.Mods.Common/UtilityCommands",
          "OpenRA.Mods.Common/UpdateRules",
          "OpenRA.Mods.Common/UpdateRules",
          "OpenRA.Mods.Common/UpdateRules/Rules/20200503",
          "OpenRA.Mods.Common/UpdateRules",
          "OpenRA.Mods.Common/Traits",
          "OpenRA.Mods.Common/UpdateRules/Rules/20201213",
          "OpenRA.Mods.Common/Scripting/Global",
          "OpenRA.Mods.Cnc/.",
          "OpenRA.Mods.Common/.",
          "OpenRA.Game/Graphics",
          "OpenRA.Mods.Common/UtilityCommands",
          "OpenRA.Mods.Common/Scripting/Global",
          "OpenRA.Mods.Common/Traits/World",
          "OpenRA.Mods.Common/Traits",
          "OpenRA.Game/Support",
          "OpenRA.Test/OpenRA.Game",
          "OpenRA.Game/Graphics",
          "OpenRA.Platforms.Default/.",
          "OpenRA.Mods.Common/Traits/Render",
          "OpenRA.Game/Graphics",
          "OpenRA.Game/Graphics",
          "OpenRA.Mods.Common/Widgets",
          "OpenRA.Game/Graphics",
          "OpenRA.Mods.Common/Widgets",
          "OpenRA.Mods.Cnc/AudioLoaders",
          "OpenRA.Mods.Common/Traits/Sound",
          "OpenRA.Game/.",
          "OpenRA.Mods.Common/Traits",
          "OpenRA.Mods.Cnc/Graphics",
          "OpenRA.Mods.Cnc/Activities",
          "OpenRA.Mods.Cnc/Graphics",
          "OpenRA.Mods.Cnc/Graphics",
          "OpenRA.Mods.Cnc/Traits/World",
          "OpenRA.Mods.Cnc/VideoLoaders",
          "OpenRA.Mods.Cnc/FileFormats",
          "OpenRA.Mods.Cnc/FileFormats",
          "OpenRA.Game/.",
          "OpenRA.Game/.",
          "OpenRA.Game/.",
          "OpenRA.Game/.",
          "OpenRA.Game/.",
          "OpenRA.Mods.Common/Activities",
          "OpenRA.Mods.Common/Traits",
          "OpenRA.Mods.Common/Warheads",
          "OpenRA.Mods.Common/Traits/World",
          "OpenRA.Mods.Common/AudioLoaders",
          "OpenRA.Mods.Common/FileFormats",
          "OpenRA.Game/GameRules",
          "OpenRA.Mods.Common/Traits/World",
          "OpenRA.Mods.Common/.",
          "OpenRA.Game/Widgets",
          "OpenRA.Game/Widgets",
          "OpenRA.Mods.Common/Widgets",
          "OpenRA.Mods.Common/Traits/Render",
          "OpenRA.Mods.Common/Traits/Render",
          "OpenRA.Mods.Common/Traits/Render",
          "OpenRA.Mods.Common/Traits/Render",
          "OpenRA.Mods.Common/Traits/Render",
          "OpenRA.Mods.Common/Traits/Render",
          "OpenRA.Mods.Cnc/Traits/Render",
          "OpenRA.Mods.Common/Traits/Render",
          "OpenRA.Mods.Common/Traits/Render",
          "OpenRA.Mods.Common/Traits/Render",
          "OpenRA.Mods.Cnc/Traits/Render",
          "OpenRA.Mods.Common/Traits/Render",
          "OpenRA.Mods.Common/Traits/Render",
          "OpenRA.Mods.Common/Traits/Render",
          "OpenRA.Mods.Common/Traits/Modifiers",
          "OpenRA.Mods.Common/Traits/Render",
          "OpenRA.Mods.D2k/Traits/Render",
          "OpenRA.Mods.Common/Traits/Render",
          "OpenRA.Mods.Common/Traits/Render",
          "OpenRA.Mods.Common/Traits/Render",
          "OpenRA.Mods.Common/Traits/Render",
          "OpenRA.Mods.Common/Traits/Render",
          "OpenRA.Mods.Common/Traits/Render",
          "OpenRA.Mods.D2k/Traits/Render",
          "OpenRA.Mods.Cnc/Traits/Render",
          "OpenRA.Mods.Common/Traits/Render",
          "OpenRA.Mods.Common/Traits/Render",
          "OpenRA.Mods.Cnc/Traits/Render",
          "OpenRA.Mods.Cnc/Traits/Render",
          "OpenRA.Mods.Common/Traits/Render",
          "OpenRA.Mods.Common/Traits/Render",
          "OpenRA.Mods.Cnc/Traits/Render",
          "OpenRA.Mods.Common/Traits/Render",
          "OpenRA.Mods.Common/Traits/Render",
          "OpenRA.Mods.Common/Traits/Render",
          "OpenRA.Mods.Cnc/Traits/Render",
          "OpenRA.Mods.Common/Traits/Render",
          "OpenRA.Mods.Common/Traits/Render",
          "OpenRA.Mods.Common/Traits/Render",
          "OpenRA.Mods.Cnc/Traits/Render",
          "OpenRA.Mods.Common/Traits/Render",
          "OpenRA.Mods.Common/Traits/Render",
          "OpenRA.Mods.Common/Traits/Render",
          "OpenRA.Mods.Common/Traits/Render",
          "OpenRA.Mods.Common/Traits/Render",
          "OpenRA.Mods.Common/Traits/Render",
          "OpenRA.Mods.Common/Traits/Render",
          "OpenRA.Mods.Common/Traits/Render",
          "OpenRA.Mods.Common/Traits/Render",
          "OpenRA.Mods.Common/Traits/Render",
          "OpenRA.Mods.Cnc/Traits/World",
          "OpenRA.Mods.Common/Traits/Render",
          "OpenRA.Mods.Common/Traits/Render",
          "OpenRA.Mods.Common/Traits/Render",
          "OpenRA.Mods.Common/Traits/Render",
          "OpenRA.Mods.Common/Traits/Render",
          "OpenRA.Mods.Cnc/Traits/Render",
          "OpenRA.Mods.Common/Traits/Render",
          "OpenRA.Mods.Common/Traits/Render",
          "OpenRA.Mods.Common/Traits/Render",
          "OpenRA.Mods.Common/Traits/Render",
          "OpenRA.Mods.Common/Traits/Render",
          "OpenRA.Mods.Common/Traits/Render",
          "OpenRA.Mods.Cnc/Traits/Render",
          "OpenRA.Mods.Cnc/Traits/Render",
          "OpenRA.Mods.Common/Traits/Render",
          "OpenRA.Mods.Common/Traits/Render",
          "OpenRA.Mods.Common/Traits/Render",
          "OpenRA.Mods.Common/Traits/Render",
          "OpenRA.Mods.Common/Traits/Render",
          "OpenRA.Mods.Common/Traits/Render",
          "OpenRA.Mods.Common/Traits/Render",
          "OpenRA.Mods.Cnc/Traits/Render",
          "OpenRA.Mods.Cnc/Traits/Render",
          "OpenRA.Mods.Common/Traits/Render",
          "OpenRA.Game/.",
          "OpenRA.Mods.Common/Widgets",
          "OpenRA.Mods.Common/.",
          "OpenRA.Mods.Common/Widgets",
          "OpenRA.Mods.Common/Widgets",
          "OpenRA.Game/Graphics",
          "OpenRA.Mods.Common/Widgets/Logic/Ingame",
          "OpenRA.Game/.",
          "OpenRA.Game/.",
          "OpenRA.Mods.Cnc/VideoLoaders",
          "OpenRA.Mods.Cnc/FileFormats",
          "OpenRA.Mods.Cnc/FileFormats",
          "OpenRA.Mods.Cnc/FileFormats",
          "OpenRA.Mods.Cnc/FileFormats",
          "OpenRA.Game/FileSystem",
          "OpenRA.Game/Primitives",
          "OpenRA.Game/Primitives",
          "OpenRA.Game/Primitives",
          "OpenRA.Game",
          "OpenRA.Launcher",
          "OpenRA.Mods.Cnc",
          "OpenRA.Mods.Common",
          "OpenRA.Platforms.Default",
          "OpenRA.Server",
          "OpenRA.Utility",
          "OpenRA.WindowsLauncher",
          "OpenRA.Game",
          "OpenRA.Mods.Cnc",
          "OpenRA.Mods.Common",
          "OpenRA.Mods.D2k",
          "OpenRA.Mods.Common",
          "OpenRA.Mods.Common",
          "OpenRA.Mods.Cnc",
          "OpenRA.Mods.Common",
          "OpenRA.Mods.Common",
          "OpenRA.Mods.Common",
          "OpenRA.Game",
          "OpenRA.Mods.Cnc",
          "OpenRA.Mods.Common",
          "OpenRA.Game",
          "OpenRA.Mods.Cnc",
          "OpenRA.Mods.Common",
          "OpenRA.Game",
          "OpenRA.Mods.Cnc",
          "OpenRA.Mods.Common",
          "OpenRA.Game",
          "OpenRA.Game",
          "OpenRA.Mods.Cnc",
          "OpenRA.Mods.Common",
          "OpenRA.Mods.Common",
          "OpenRA.Game",
          "OpenRA.Mods.Common",
          "OpenRA.Mods.D2k",
          "OpenRA.Mods.Common",
          "OpenRA.Game",
          "OpenRA.Game",
          "OpenRA.Test",
          "OpenRA.Test",
          "OpenRA.Game",
          "OpenRA.Mods.Common",
          "OpenRA.Mods.D2k",
          "OpenRA.Mods.Common",
          "OpenRA.Game",
          "OpenRA.Mods.Cnc",
          "OpenRA.Mods.Common",
          "OpenRA.Game",
          "OpenRA.Mods.Common",
          "OpenRA.Mods.Common",
          "OpenRA.Mods.Cnc",
          "OpenRA.Mods.Common",
          "OpenRA.Game",
          "OpenRA.Mods.Common",
          "OpenRA.Game",
          "OpenRA.Mods.Cnc",
          "OpenRA.Mods.Common",
          "OpenRA.Mods.D2k",
          "OpenRA.Game",
          "OpenRA.Mods.Common",
          "OpenRA.Game",
          "OpenRA.Mods.Cnc",
          "OpenRA.Mods.Common",
          "OpenRA.Mods.D2k",
          "OpenRA.Mods.Common",
          "OpenRA.Mods.Cnc",
          "OpenRA.Mods.Common",
          "OpenRA.Mods.Common",
          "OpenRA.Mods.Common",
          "OpenRA.Mods.Common",
          "OpenRA.Mods.Common",
          "OpenRA.Mods.Cnc",
          "OpenRA.Mods.Common",
          "OpenRA.Mods.D2k",
          "OpenRA.Mods.Common",
          "OpenRA.Mods.Common",
          "OpenRA.Mods.Common",
          "OpenRA.Mods.Cnc",
          "OpenRA.Mods.Common",
          "OpenRA.Mods.Common",
          "OpenRA.Mods.Cnc",
          "OpenRA.Mods.Common",
          "OpenRA.Mods.Common",
          "OpenRA.Game",
          "OpenRA.Mods.Common",
          "OpenRA.Mods.D2k",
          "OpenRA.Mods.Common",
          "OpenRA.Mods.Common",
          "OpenRA.Mods.Common",
          "OpenRA.Mods.Cnc",
          "OpenRA.Mods.Common",
          "OpenRA.Mods.D2k",
          "OpenRA.Mods.Common",
          "OpenRA.Mods.Cnc",
          "OpenRA.Mods.Common",
          "OpenRA.Game",
          "OpenRA.Mods.Cnc",
          "OpenRA.Mods.Common",
          "OpenRA.Mods.D2k",
          "OpenRA.Mods.Common",
          "OpenRA.Mods.Common",
          "OpenRA.Mods.Common",
          "OpenRA.Mods.Common",
          "OpenRA.Mods.Common",
          "OpenRA.Mods.Common",
          "OpenRA.Game",
          "OpenRA.Mods.Cnc",
          "OpenRA.Mods.Common",
          "OpenRA.Mods.D2k",
          "OpenRA.Mods.Cnc",
          "OpenRA.Mods.Common",
          "OpenRA.Mods.D2k",
          "OpenRA.Game",
          "OpenRA.Mods.Common",
          "OpenRA.Mods.Cnc",
          "OpenRA.Mods.Common",
          "OpenRA.Mods.Common",
          "OpenRA.Mods.Common",
          "OpenRA.Mods.Common",
          "OpenRA.Mods.Common",
          "OpenRA.Mods.Common",
          "OpenRA.Mods.Common",
          "",
          "",
          "",
          "",
          "",
          "",
          "",
          "",
          "",
          ""
         ],
         "type": "sunburst",
         "values": [
          83,
          50,
          33,
          89,
          43,
          291,
          41,
          645,
          554,
          83,
          201,
          178,
          48,
          73,
          157,
          274,
          40,
          677,
          130,
          96,
          90,
          206,
          226,
          134,
          32,
          53,
          266,
          59,
          87,
          83,
          175,
          228,
          1314,
          61,
          239,
          53,
          34,
          25,
          109,
          119,
          67,
          34,
          247,
          60,
          53,
          64,
          57,
          62,
          275,
          40,
          405,
          30,
          66,
          363,
          21,
          544,
          39,
          259,
          69,
          525,
          97,
          77,
          380,
          50,
          215,
          72,
          187,
          110,
          91,
          275,
          160,
          135,
          81,
          96,
          83,
          173,
          50,
          38,
          80,
          73,
          137,
          166,
          121,
          134,
          455,
          40,
          74,
          46,
          90,
          291,
          445,
          19,
          182,
          135,
          143,
          54,
          36,
          74,
          62,
          123,
          171,
          146,
          298,
          74,
          410,
          494,
          119,
          422,
          242,
          61,
          85,
          68,
          154,
          106,
          357,
          92,
          47,
          135,
          345,
          68,
          297,
          150,
          41,
          122,
          122,
          51,
          33,
          61,
          29,
          121,
          53,
          56,
          77,
          158,
          300,
          172,
          53,
          53,
          42,
          171,
          489,
          151,
          55,
          446,
          112,
          56,
          36,
          76,
          86,
          146,
          68,
          171,
          57,
          39,
          90,
          51,
          61,
          110,
          27,
          76,
          121,
          51,
          77,
          76,
          31,
          66,
          57,
          123,
          46,
          29,
          67,
          27,
          45,
          24,
          93,
          66,
          50,
          147,
          93,
          41,
          50,
          149,
          42,
          62,
          45,
          42,
          47,
          98,
          115,
          76,
          96,
          156,
          84,
          48,
          283,
          69,
          395,
          200,
          47,
          67,
          73,
          32,
          226,
          188,
          161,
          49,
          86,
          38,
          76,
          59,
          266,
          53,
          39,
          29,
          76,
          112,
          374,
          80,
          91,
          171,
          214,
          178,
          78,
          138,
          109,
          27,
          339,
          138,
          46,
          60,
          93,
          180,
          387,
          211,
          247,
          63,
          123,
          92,
          44,
          134,
          36,
          54,
          59,
          88,
          97,
          259,
          79,
          42,
          79,
          260,
          99,
          217,
          148,
          55,
          74,
          180,
          57,
          68,
          66,
          34,
          95,
          101,
          261,
          294,
          66,
          60,
          38,
          84,
          75,
          63,
          72,
          34,
          119,
          162,
          57,
          501,
          169,
          102,
          37,
          88,
          63,
          38,
          80,
          81,
          48,
          139,
          43,
          161,
          29,
          94,
          70,
          42,
          20,
          454,
          188,
          187,
          37,
          43,
          95,
          112,
          128,
          144,
          73,
          89,
          99,
          144,
          39,
          79,
          46,
          92,
          64,
          54,
          34,
          85,
          202,
          281,
          28,
          67,
          44,
          231,
          312,
          42,
          464,
          42,
          254,
          52,
          66,
          259,
          72,
          62,
          151,
          223,
          78,
          158,
          56,
          76,
          63,
          114,
          37,
          182,
          113,
          334,
          298,
          286,
          227,
          176,
          155,
          296,
          112,
          371,
          116,
          99,
          99,
          75,
          122,
          111,
          154,
          32,
          155,
          49,
          163,
          108,
          102,
          100,
          106,
          66,
          62,
          45,
          165,
          80,
          51,
          29,
          230,
          290,
          43,
          201,
          65,
          96,
          118,
          101,
          153,
          614,
          24,
          36,
          38,
          67,
          71,
          43,
          815,
          127,
          330,
          258,
          117,
          31,
          60,
          83,
          35,
          85,
          63,
          284,
          312,
          99,
          64,
          66,
          70,
          108,
          91,
          37,
          134,
          44,
          157,
          100,
          108,
          148,
          367,
          198,
          114,
          154,
          34,
          53,
          979,
          40,
          177,
          80,
          168,
          198,
          322,
          361,
          49,
          66,
          265,
          60,
          75,
          146,
          215,
          152,
          33,
          59,
          46,
          119,
          90,
          35,
          62,
          79,
          34,
          127,
          106,
          111,
          58,
          113,
          123,
          60,
          115,
          57,
          51,
          167,
          59,
          53,
          86,
          341,
          70,
          99,
          57,
          62,
          47,
          65,
          64,
          82,
          81,
          91,
          84,
          93,
          68,
          47,
          24,
          49,
          97,
          178,
          59,
          44,
          51,
          203,
          46,
          139,
          48,
          127,
          224,
          66,
          93,
          36,
          24,
          40,
          40,
          30,
          87,
          155,
          117,
          422,
          70,
          165,
          115,
          39,
          49,
          33,
          46,
          262,
          27,
          53,
          61,
          41,
          72,
          60,
          70,
          154,
          108,
          41,
          168,
          103,
          46,
          244,
          121,
          48,
          63,
          61,
          48,
          19,
          186,
          63,
          28,
          28,
          74,
          26,
          29,
          42,
          19,
          40,
          45,
          44,
          19,
          20,
          108,
          94,
          66,
          44,
          460,
          253,
          687,
          186,
          31,
          92,
          72,
          80,
          81,
          54,
          63,
          67,
          64,
          61,
          67,
          44,
          155,
          79,
          329,
          405,
          39,
          34,
          52,
          41,
          98,
          146,
          60,
          194,
          656,
          437,
          160,
          110,
          93,
          72,
          81,
          144,
          74,
          105,
          36,
          142,
          164,
          81,
          92,
          40,
          44,
          41,
          108,
          40,
          507,
          42,
          37,
          84,
          167,
          289,
          116,
          86,
          64,
          267,
          214,
          41,
          68,
          160,
          72,
          126,
          169,
          73,
          148,
          74,
          123,
          209,
          275,
          190,
          82,
          64,
          65,
          62,
          124,
          28,
          88,
          234,
          119,
          37,
          47,
          114,
          19,
          43,
          39,
          47,
          35,
          47,
          25,
          25,
          82,
          25,
          92,
          1149,
          841,
          175,
          78,
          42,
          671,
          89,
          185,
          516,
          186,
          26,
          36,
          22,
          70,
          194,
          64,
          95,
          132,
          256,
          538,
          286,
          1378,
          88,
          381,
          354,
          93,
          63,
          25,
          126,
          47,
          151,
          245,
          64,
          127,
          81,
          608,
          243,
          229,
          189,
          56,
          106,
          180,
          228,
          86,
          233,
          138,
          33,
          125,
          131,
          125,
          87,
          75,
          382,
          488,
          295,
          940,
          400,
          40,
          128,
          284,
          245,
          1027,
          72,
          127,
          51,
          95,
          149,
          106,
          22,
          204,
          94,
          74,
          51,
          297,
          377,
          216,
          117,
          120,
          62,
          563,
          154,
          75,
          62,
          88,
          84,
          133,
          84,
          65,
          163,
          256,
          34,
          43,
          25,
          101,
          249,
          90,
          164,
          246,
          36,
          208,
          62,
          133,
          110,
          210,
          275,
          225,
          557,
          196,
          133,
          657,
          800,
          430,
          69,
          107,
          45,
          216,
          323,
          74,
          46,
          46,
          46,
          55,
          118,
          104,
          159,
          67,
          83,
          140,
          81,
          57,
          93,
          75,
          79,
          34,
          121,
          117,
          60,
          40,
          68,
          285,
          45,
          231,
          25,
          240,
          271,
          135,
          85,
          41,
          54,
          66,
          49,
          76,
          33,
          48,
          117,
          149,
          94,
          231,
          348,
          28,
          253,
          176,
          43,
          322,
          58,
          51,
          54,
          59,
          118,
          67,
          35,
          36,
          26,
          36,
          89,
          73,
          350,
          127,
          97,
          65,
          217,
          303,
          47,
          24,
          158,
          379,
          39,
          57,
          164,
          129,
          115,
          58,
          266,
          57,
          215,
          46,
          65,
          48,
          37,
          129,
          119,
          48,
          99,
          54,
          146,
          124,
          104,
          41,
          119,
          570,
          163,
          312,
          680,
          75,
          98,
          333,
          41,
          176,
          28,
          46,
          110,
          173,
          201,
          20,
          85,
          57,
          127,
          79,
          82,
          115,
          25,
          53,
          25,
          195,
          163,
          43,
          130,
          39,
          35,
          43,
          35,
          115,
          493,
          254,
          84,
          177,
          130,
          77,
          33,
          107,
          60,
          147,
          132,
          207,
          208,
          35,
          38,
          195,
          53,
          31,
          97,
          59,
          31,
          88,
          51,
          28,
          46,
          60,
          30,
          48,
          72,
          28,
          30,
          125,
          26,
          105,
          57,
          48,
          56,
          33,
          30,
          30,
          33,
          30,
          30,
          37,
          50,
          55,
          100,
          32,
          30,
          103,
          86,
          89,
          128,
          101,
          284,
          30,
          22,
          181,
          60,
          536,
          86,
          79,
          94,
          166,
          190,
          47,
          142,
          168,
          49,
          44,
          58,
          45,
          116,
          34,
          59,
          43,
          30,
          25,
          787,
          170,
          99,
          110,
          50,
          119,
          62,
          29,
          26,
          106,
          38,
          77,
          107,
          70,
          304,
          78,
          47,
          91,
          369,
          59,
          31,
          321,
          140,
          47,
          74,
          79,
          85,
          75,
          72,
          34,
          208,
          279,
          57,
          84,
          119,
          289,
          148,
          58,
          216,
          46,
          36,
          116,
          310,
          93,
          31,
          63,
          298,
          74,
          73,
          145,
          70,
          39,
          57,
          538,
          192,
          93,
          528,
          279,
          62,
          230,
          557,
          64,
          167,
          66,
          192,
          88,
          55,
          104,
          273,
          161,
          62,
          93,
          124,
          83,
          57,
          117,
          31,
          94,
          150,
          1411,
          227,
          771,
          281,
          449,
          161,
          52,
          280,
          44,
          34,
          247,
          148,
          161,
          102,
          171,
          118,
          243,
          162,
          427,
          48,
          70,
          343,
          30,
          61,
          38,
          72,
          146,
          232,
          449,
          55,
          94,
          60,
          142,
          92,
          61,
          146,
          166,
          34,
          103,
          71,
          82,
          128,
          31,
          177,
          35,
          125,
          81,
          51,
          47,
          86,
          436,
          65,
          195,
          113,
          250,
          85,
          122,
          458,
          83,
          58,
          154,
          49,
          70,
          106,
          160,
          240,
          73,
          106,
          43,
          222,
          80,
          240,
          65,
          49,
          206,
          320,
          94,
          99,
          291,
          169,
          213,
          326,
          91,
          235,
          114,
          126,
          53,
          94,
          428,
          80,
          132,
          69,
          234,
          55,
          90,
          77,
          60,
          196,
          144,
          86,
          101,
          76,
          102,
          67,
          141,
          60,
          211,
          232,
          77,
          63,
          98,
          86,
          164,
          69,
          612,
          56,
          136,
          75,
          216,
          115,
          36,
          720,
          104,
          105,
          33,
          57,
          43,
          140,
          86,
          178,
          59,
          101,
          98,
          200,
          107,
          32,
          90,
          89,
          54,
          320,
          63,
          18,
          718,
          614,
          63,
          173,
          59,
          58,
          36,
          152,
          222,
          119,
          221,
          162,
          147,
          65,
          101,
          121,
          66,
          498,
          73,
          47,
          62,
          323,
          125,
          154,
          74,
          69,
          43,
          241,
          219,
          88,
          352,
          145,
          38,
          155,
          73,
          262,
          143,
          40,
          44,
          387,
          20,
          92,
          40,
          69,
          294,
          448,
          54,
          121,
          48,
          25,
          978,
          470,
          49,
          107,
          116,
          33,
          32,
          229,
          417,
          500,
          391,
          62,
          90,
          75,
          161,
          88,
          241,
          124,
          351,
          58,
          614,
          159,
          266,
          155,
          163,
          224,
          159,
          56,
          124,
          95,
          86,
          74,
          306,
          256,
          256,
          60,
          616,
          86,
          450,
          52,
          65,
          93,
          96,
          96,
          135,
          137,
          51,
          69,
          64,
          141,
          100,
          60,
          64,
          64,
          97,
          68,
          85,
          106,
          126,
          71,
          144,
          57,
          72,
          78,
          67,
          28,
          61,
          78,
          40,
          130,
          99,
          53,
          75,
          98,
          50,
          62,
          118,
          226,
          96,
          203,
          65,
          85,
          114,
          84,
          204,
          84,
          108,
          125,
          106,
          106,
          70,
          75,
          79,
          92,
          79,
          58,
          107,
          151,
          72,
          146,
          53,
          67,
          47,
          73,
          88,
          76,
          66,
          85,
          103,
          66,
          70,
          80,
          103,
          175,
          613,
          44,
          117,
          230,
          44,
          429,
          134,
          81,
          35,
          68,
          136,
          82,
          60,
          69,
          236,
          113,
          66,
          89,
          10833,
          46,
          199,
          2077,
          4470,
          110,
          173,
          201,
          324,
          767,
          2981,
          169,
          1438,
          1141,
          464,
          295,
          472,
          1101,
          147,
          231,
          808,
          489,
          2891,
          1505,
          716,
          728,
          160,
          882,
          5828,
          825,
          2499,
          492,
          795,
          2204,
          29,
          413,
          4019,
          3651,
          1294,
          247,
          248,
          949,
          102,
          750,
          2857,
          238,
          2424,
          880,
          749,
          1978,
          169,
          2191,
          1897,
          1460,
          504,
          931,
          522,
          130,
          2446,
          477,
          1037,
          2837,
          14346,
          501,
          1551,
          463,
          1388,
          1842,
          651,
          446,
          934,
          109,
          4579,
          281,
          2664,
          1123,
          308,
          612,
          400,
          700,
          133,
          497,
          956,
          794,
          4110,
          49,
          186,
          215,
          130,
          1101,
          7814,
          140,
          570,
          1144,
          1947,
          511,
          1342,
          8968,
          459,
          570,
          229,
          44,
          665,
          1375,
          752,
          114,
          2121,
          3323,
          545,
          126,
          1026,
          38,
          750,
          9342,
          37,
          6168,
          1679,
          4454,
          640,
          1221,
          2132,
          1368,
          39722,
          46,
          17468,
          120399,
          2443,
          4470,
          110,
          1541,
          173,
          201
         ]
        }
       ],
       "layout": {
        "coloraxis": {
         "colorbar": {
          "title": {
           "text": "lines"
          }
         },
         "colorscale": [
          [
           0,
           "rgb(252, 222, 156)"
          ],
          [
           0.16666666666666666,
           "rgb(250, 164, 118)"
          ],
          [
           0.3333333333333333,
           "rgb(240, 116, 110)"
          ],
          [
           0.5,
           "rgb(227, 79, 111)"
          ],
          [
           0.6666666666666666,
           "rgb(220, 57, 119)"
          ],
          [
           0.8333333333333334,
           "rgb(185, 37, 122)"
          ],
          [
           1,
           "rgb(124, 29, 111)"
          ]
         ]
        },
        "height": 800,
        "legend": {
         "tracegroupgap": 0
        },
        "margin": {
         "b": 25,
         "l": 25,
         "r": 25,
         "t": 50
        },
        "template": {
         "data": {
          "bar": [
           {
            "error_x": {
             "color": "#f2f5fa"
            },
            "error_y": {
             "color": "#f2f5fa"
            },
            "marker": {
             "line": {
              "color": "rgb(17,17,17)",
              "width": 0.5
             },
             "pattern": {
              "fillmode": "overlay",
              "size": 10,
              "solidity": 0.2
             }
            },
            "type": "bar"
           }
          ],
          "barpolar": [
           {
            "marker": {
             "line": {
              "color": "rgb(17,17,17)",
              "width": 0.5
             },
             "pattern": {
              "fillmode": "overlay",
              "size": 10,
              "solidity": 0.2
             }
            },
            "type": "barpolar"
           }
          ],
          "carpet": [
           {
            "aaxis": {
             "endlinecolor": "#A2B1C6",
             "gridcolor": "#506784",
             "linecolor": "#506784",
             "minorgridcolor": "#506784",
             "startlinecolor": "#A2B1C6"
            },
            "baxis": {
             "endlinecolor": "#A2B1C6",
             "gridcolor": "#506784",
             "linecolor": "#506784",
             "minorgridcolor": "#506784",
             "startlinecolor": "#A2B1C6"
            },
            "type": "carpet"
           }
          ],
          "choropleth": [
           {
            "colorbar": {
             "outlinewidth": 0,
             "ticks": ""
            },
            "type": "choropleth"
           }
          ],
          "contour": [
           {
            "colorbar": {
             "outlinewidth": 0,
             "ticks": ""
            },
            "colorscale": [
             [
              0,
              "#0d0887"
             ],
             [
              0.1111111111111111,
              "#46039f"
             ],
             [
              0.2222222222222222,
              "#7201a8"
             ],
             [
              0.3333333333333333,
              "#9c179e"
             ],
             [
              0.4444444444444444,
              "#bd3786"
             ],
             [
              0.5555555555555556,
              "#d8576b"
             ],
             [
              0.6666666666666666,
              "#ed7953"
             ],
             [
              0.7777777777777778,
              "#fb9f3a"
             ],
             [
              0.8888888888888888,
              "#fdca26"
             ],
             [
              1,
              "#f0f921"
             ]
            ],
            "type": "contour"
           }
          ],
          "contourcarpet": [
           {
            "colorbar": {
             "outlinewidth": 0,
             "ticks": ""
            },
            "type": "contourcarpet"
           }
          ],
          "heatmap": [
           {
            "colorbar": {
             "outlinewidth": 0,
             "ticks": ""
            },
            "colorscale": [
             [
              0,
              "#0d0887"
             ],
             [
              0.1111111111111111,
              "#46039f"
             ],
             [
              0.2222222222222222,
              "#7201a8"
             ],
             [
              0.3333333333333333,
              "#9c179e"
             ],
             [
              0.4444444444444444,
              "#bd3786"
             ],
             [
              0.5555555555555556,
              "#d8576b"
             ],
             [
              0.6666666666666666,
              "#ed7953"
             ],
             [
              0.7777777777777778,
              "#fb9f3a"
             ],
             [
              0.8888888888888888,
              "#fdca26"
             ],
             [
              1,
              "#f0f921"
             ]
            ],
            "type": "heatmap"
           }
          ],
          "heatmapgl": [
           {
            "colorbar": {
             "outlinewidth": 0,
             "ticks": ""
            },
            "colorscale": [
             [
              0,
              "#0d0887"
             ],
             [
              0.1111111111111111,
              "#46039f"
             ],
             [
              0.2222222222222222,
              "#7201a8"
             ],
             [
              0.3333333333333333,
              "#9c179e"
             ],
             [
              0.4444444444444444,
              "#bd3786"
             ],
             [
              0.5555555555555556,
              "#d8576b"
             ],
             [
              0.6666666666666666,
              "#ed7953"
             ],
             [
              0.7777777777777778,
              "#fb9f3a"
             ],
             [
              0.8888888888888888,
              "#fdca26"
             ],
             [
              1,
              "#f0f921"
             ]
            ],
            "type": "heatmapgl"
           }
          ],
          "histogram": [
           {
            "marker": {
             "pattern": {
              "fillmode": "overlay",
              "size": 10,
              "solidity": 0.2
             }
            },
            "type": "histogram"
           }
          ],
          "histogram2d": [
           {
            "colorbar": {
             "outlinewidth": 0,
             "ticks": ""
            },
            "colorscale": [
             [
              0,
              "#0d0887"
             ],
             [
              0.1111111111111111,
              "#46039f"
             ],
             [
              0.2222222222222222,
              "#7201a8"
             ],
             [
              0.3333333333333333,
              "#9c179e"
             ],
             [
              0.4444444444444444,
              "#bd3786"
             ],
             [
              0.5555555555555556,
              "#d8576b"
             ],
             [
              0.6666666666666666,
              "#ed7953"
             ],
             [
              0.7777777777777778,
              "#fb9f3a"
             ],
             [
              0.8888888888888888,
              "#fdca26"
             ],
             [
              1,
              "#f0f921"
             ]
            ],
            "type": "histogram2d"
           }
          ],
          "histogram2dcontour": [
           {
            "colorbar": {
             "outlinewidth": 0,
             "ticks": ""
            },
            "colorscale": [
             [
              0,
              "#0d0887"
             ],
             [
              0.1111111111111111,
              "#46039f"
             ],
             [
              0.2222222222222222,
              "#7201a8"
             ],
             [
              0.3333333333333333,
              "#9c179e"
             ],
             [
              0.4444444444444444,
              "#bd3786"
             ],
             [
              0.5555555555555556,
              "#d8576b"
             ],
             [
              0.6666666666666666,
              "#ed7953"
             ],
             [
              0.7777777777777778,
              "#fb9f3a"
             ],
             [
              0.8888888888888888,
              "#fdca26"
             ],
             [
              1,
              "#f0f921"
             ]
            ],
            "type": "histogram2dcontour"
           }
          ],
          "mesh3d": [
           {
            "colorbar": {
             "outlinewidth": 0,
             "ticks": ""
            },
            "type": "mesh3d"
           }
          ],
          "parcoords": [
           {
            "line": {
             "colorbar": {
              "outlinewidth": 0,
              "ticks": ""
             }
            },
            "type": "parcoords"
           }
          ],
          "pie": [
           {
            "automargin": true,
            "type": "pie"
           }
          ],
          "scatter": [
           {
            "marker": {
             "line": {
              "color": "#283442"
             }
            },
            "type": "scatter"
           }
          ],
          "scatter3d": [
           {
            "line": {
             "colorbar": {
              "outlinewidth": 0,
              "ticks": ""
             }
            },
            "marker": {
             "colorbar": {
              "outlinewidth": 0,
              "ticks": ""
             }
            },
            "type": "scatter3d"
           }
          ],
          "scattercarpet": [
           {
            "marker": {
             "colorbar": {
              "outlinewidth": 0,
              "ticks": ""
             }
            },
            "type": "scattercarpet"
           }
          ],
          "scattergeo": [
           {
            "marker": {
             "colorbar": {
              "outlinewidth": 0,
              "ticks": ""
             }
            },
            "type": "scattergeo"
           }
          ],
          "scattergl": [
           {
            "marker": {
             "line": {
              "color": "#283442"
             }
            },
            "type": "scattergl"
           }
          ],
          "scattermapbox": [
           {
            "marker": {
             "colorbar": {
              "outlinewidth": 0,
              "ticks": ""
             }
            },
            "type": "scattermapbox"
           }
          ],
          "scatterpolar": [
           {
            "marker": {
             "colorbar": {
              "outlinewidth": 0,
              "ticks": ""
             }
            },
            "type": "scatterpolar"
           }
          ],
          "scatterpolargl": [
           {
            "marker": {
             "colorbar": {
              "outlinewidth": 0,
              "ticks": ""
             }
            },
            "type": "scatterpolargl"
           }
          ],
          "scatterternary": [
           {
            "marker": {
             "colorbar": {
              "outlinewidth": 0,
              "ticks": ""
             }
            },
            "type": "scatterternary"
           }
          ],
          "surface": [
           {
            "colorbar": {
             "outlinewidth": 0,
             "ticks": ""
            },
            "colorscale": [
             [
              0,
              "#0d0887"
             ],
             [
              0.1111111111111111,
              "#46039f"
             ],
             [
              0.2222222222222222,
              "#7201a8"
             ],
             [
              0.3333333333333333,
              "#9c179e"
             ],
             [
              0.4444444444444444,
              "#bd3786"
             ],
             [
              0.5555555555555556,
              "#d8576b"
             ],
             [
              0.6666666666666666,
              "#ed7953"
             ],
             [
              0.7777777777777778,
              "#fb9f3a"
             ],
             [
              0.8888888888888888,
              "#fdca26"
             ],
             [
              1,
              "#f0f921"
             ]
            ],
            "type": "surface"
           }
          ],
          "table": [
           {
            "cells": {
             "fill": {
              "color": "#506784"
             },
             "line": {
              "color": "rgb(17,17,17)"
             }
            },
            "header": {
             "fill": {
              "color": "#2a3f5f"
             },
             "line": {
              "color": "rgb(17,17,17)"
             }
            },
            "type": "table"
           }
          ]
         },
         "layout": {
          "annotationdefaults": {
           "arrowcolor": "#f2f5fa",
           "arrowhead": 0,
           "arrowwidth": 1
          },
          "autotypenumbers": "strict",
          "coloraxis": {
           "colorbar": {
            "outlinewidth": 0,
            "ticks": ""
           }
          },
          "colorscale": {
           "diverging": [
            [
             0,
             "#8e0152"
            ],
            [
             0.1,
             "#c51b7d"
            ],
            [
             0.2,
             "#de77ae"
            ],
            [
             0.3,
             "#f1b6da"
            ],
            [
             0.4,
             "#fde0ef"
            ],
            [
             0.5,
             "#f7f7f7"
            ],
            [
             0.6,
             "#e6f5d0"
            ],
            [
             0.7,
             "#b8e186"
            ],
            [
             0.8,
             "#7fbc41"
            ],
            [
             0.9,
             "#4d9221"
            ],
            [
             1,
             "#276419"
            ]
           ],
           "sequential": [
            [
             0,
             "#0d0887"
            ],
            [
             0.1111111111111111,
             "#46039f"
            ],
            [
             0.2222222222222222,
             "#7201a8"
            ],
            [
             0.3333333333333333,
             "#9c179e"
            ],
            [
             0.4444444444444444,
             "#bd3786"
            ],
            [
             0.5555555555555556,
             "#d8576b"
            ],
            [
             0.6666666666666666,
             "#ed7953"
            ],
            [
             0.7777777777777778,
             "#fb9f3a"
            ],
            [
             0.8888888888888888,
             "#fdca26"
            ],
            [
             1,
             "#f0f921"
            ]
           ],
           "sequentialminus": [
            [
             0,
             "#0d0887"
            ],
            [
             0.1111111111111111,
             "#46039f"
            ],
            [
             0.2222222222222222,
             "#7201a8"
            ],
            [
             0.3333333333333333,
             "#9c179e"
            ],
            [
             0.4444444444444444,
             "#bd3786"
            ],
            [
             0.5555555555555556,
             "#d8576b"
            ],
            [
             0.6666666666666666,
             "#ed7953"
            ],
            [
             0.7777777777777778,
             "#fb9f3a"
            ],
            [
             0.8888888888888888,
             "#fdca26"
            ],
            [
             1,
             "#f0f921"
            ]
           ]
          },
          "colorway": [
           "#636efa",
           "#EF553B",
           "#00cc96",
           "#ab63fa",
           "#FFA15A",
           "#19d3f3",
           "#FF6692",
           "#B6E880",
           "#FF97FF",
           "#FECB52"
          ],
          "font": {
           "color": "#f2f5fa"
          },
          "geo": {
           "bgcolor": "rgb(17,17,17)",
           "lakecolor": "rgb(17,17,17)",
           "landcolor": "rgb(17,17,17)",
           "showlakes": true,
           "showland": true,
           "subunitcolor": "#506784"
          },
          "hoverlabel": {
           "align": "left"
          },
          "hovermode": "closest",
          "mapbox": {
           "style": "dark"
          },
          "paper_bgcolor": "rgb(17,17,17)",
          "plot_bgcolor": "rgb(17,17,17)",
          "polar": {
           "angularaxis": {
            "gridcolor": "#506784",
            "linecolor": "#506784",
            "ticks": ""
           },
           "bgcolor": "rgb(17,17,17)",
           "radialaxis": {
            "gridcolor": "#506784",
            "linecolor": "#506784",
            "ticks": ""
           }
          },
          "scene": {
           "xaxis": {
            "backgroundcolor": "rgb(17,17,17)",
            "gridcolor": "#506784",
            "gridwidth": 2,
            "linecolor": "#506784",
            "showbackground": true,
            "ticks": "",
            "zerolinecolor": "#C8D4E3"
           },
           "yaxis": {
            "backgroundcolor": "rgb(17,17,17)",
            "gridcolor": "#506784",
            "gridwidth": 2,
            "linecolor": "#506784",
            "showbackground": true,
            "ticks": "",
            "zerolinecolor": "#C8D4E3"
           },
           "zaxis": {
            "backgroundcolor": "rgb(17,17,17)",
            "gridcolor": "#506784",
            "gridwidth": 2,
            "linecolor": "#506784",
            "showbackground": true,
            "ticks": "",
            "zerolinecolor": "#C8D4E3"
           }
          },
          "shapedefaults": {
           "line": {
            "color": "#f2f5fa"
           }
          },
          "sliderdefaults": {
           "bgcolor": "#C8D4E3",
           "bordercolor": "rgb(17,17,17)",
           "borderwidth": 1,
           "tickwidth": 0
          },
          "ternary": {
           "aaxis": {
            "gridcolor": "#506784",
            "linecolor": "#506784",
            "ticks": ""
           },
           "baxis": {
            "gridcolor": "#506784",
            "linecolor": "#506784",
            "ticks": ""
           },
           "bgcolor": "rgb(17,17,17)",
           "caxis": {
            "gridcolor": "#506784",
            "linecolor": "#506784",
            "ticks": ""
           }
          },
          "title": {
           "x": 0.05
          },
          "updatemenudefaults": {
           "bgcolor": "#506784",
           "borderwidth": 0
          },
          "xaxis": {
           "automargin": true,
           "gridcolor": "#283442",
           "linecolor": "#506784",
           "ticks": "",
           "title": {
            "standoff": 15
           },
           "zerolinecolor": "#283442",
           "zerolinewidth": 2
          },
          "yaxis": {
           "automargin": true,
           "gridcolor": "#283442",
           "linecolor": "#506784",
           "ticks": "",
           "title": {
            "standoff": 15
           },
           "zerolinecolor": "#283442",
           "zerolinewidth": 2
          }
         }
        },
        "title": {
         "text": "Size of Code Files by Project and Directory"
        },
        "width": 1024
       }
      }
     },
     "metadata": {},
     "output_type": "display_data"
    }
   ],
   "source": [
    "# Sunburst diagram. Same data as a treemap, but different presentation\n",
    "fig = px.sunburst(df,\n",
    "                 path=['project','path','filename'],\n",
    "                 color='lines',\n",
    "                 title='Size of Code Files by Project and Directory',\n",
    "                 hover_data=['fullpath'],\n",
    "                 color_continuous_scale='sunsetdark',\n",
    "                 template=template,\n",
    "                 width=1024,\n",
    "                 height=800,\n",
    "                 values='lines')\n",
    "fig.update_layout(margin = dict(t=50, l=25, r=25, b=25))\n",
    "fig.show()"
   ]
  }
 ],
 "metadata": {
  "kernelspec": {
   "display_name": "Python 3",
   "language": "python",
   "name": "python3"
  },
  "language_info": {
   "codemirror_mode": {
    "name": "ipython",
    "version": 3
   },
   "file_extension": ".py",
   "mimetype": "text/x-python",
   "name": "python",
   "nbconvert_exporter": "python",
   "pygments_lexer": "ipython3",
   "version": "3.8.8"
  }
 },
 "nbformat": 4,
 "nbformat_minor": 0
}
