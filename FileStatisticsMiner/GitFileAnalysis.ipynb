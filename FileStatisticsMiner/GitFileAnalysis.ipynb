{
 "cells": [
  {
   "cell_type": "code",
   "execution_count": 2,
   "metadata": {
    "collapsed": false,
    "pycharm": {
     "name": "#%%\n"
    }
   },
   "outputs": [
    {
     "data": {
      "text/html": [
       "<div>\n",
       "<style scoped>\n",
       "    .dataframe tbody tr th:only-of-type {\n",
       "        vertical-align: middle;\n",
       "    }\n",
       "\n",
       "    .dataframe tbody tr th {\n",
       "        vertical-align: top;\n",
       "    }\n",
       "\n",
       "    .dataframe thead th {\n",
       "        text-align: right;\n",
       "    }\n",
       "</style>\n",
       "<table border=\"1\" class=\"dataframe\">\n",
       "  <thead>\n",
       "    <tr style=\"text-align: right;\">\n",
       "      <th></th>\n",
       "      <th>hash</th>\n",
       "      <th>message</th>\n",
       "      <th>author_name</th>\n",
       "      <th>author_date</th>\n",
       "      <th>in_main</th>\n",
       "      <th>is_merge</th>\n",
       "      <th>num_deletes</th>\n",
       "      <th>num_inserts</th>\n",
       "      <th>net_lines</th>\n",
       "      <th>num_files</th>\n",
       "      <th>branches</th>\n",
       "      <th>filename</th>\n",
       "      <th>parents</th>\n",
       "      <th>fullpath</th>\n",
       "    </tr>\n",
       "  </thead>\n",
       "  <tbody>\n",
       "    <tr>\n",
       "      <th>0</th>\n",
       "      <td>b59ba43934a3a6837410db51cf60157cf854e52d</td>\n",
       "      <td>openra first commit!\\n\\ngit-svn-id: svn://svn....</td>\n",
       "      <td>chrisf</td>\n",
       "      <td>2007-06-19 08:51:17+00:00</td>\n",
       "      <td>True</td>\n",
       "      <td>False</td>\n",
       "      <td>0</td>\n",
       "      <td>1350</td>\n",
       "      <td>1350</td>\n",
       "      <td>11</td>\n",
       "      <td>bleed</td>\n",
       "      <td>Blowfish.cs</td>\n",
       "      <td>NaN</td>\n",
       "      <td>MixBrowser\\Blowfish.cs</td>\n",
       "    </tr>\n",
       "    <tr>\n",
       "      <th>1</th>\n",
       "      <td>b59ba43934a3a6837410db51cf60157cf854e52d</td>\n",
       "      <td>openra first commit!\\n\\ngit-svn-id: svn://svn....</td>\n",
       "      <td>chrisf</td>\n",
       "      <td>2007-06-19 08:51:17+00:00</td>\n",
       "      <td>True</td>\n",
       "      <td>False</td>\n",
       "      <td>0</td>\n",
       "      <td>1350</td>\n",
       "      <td>1350</td>\n",
       "      <td>11</td>\n",
       "      <td>bleed</td>\n",
       "      <td>MM.DAT</td>\n",
       "      <td>NaN</td>\n",
       "      <td>MixBrowser\\MM.DAT</td>\n",
       "    </tr>\n",
       "    <tr>\n",
       "      <th>2</th>\n",
       "      <td>b59ba43934a3a6837410db51cf60157cf854e52d</td>\n",
       "      <td>openra first commit!\\n\\ngit-svn-id: svn://svn....</td>\n",
       "      <td>chrisf</td>\n",
       "      <td>2007-06-19 08:51:17+00:00</td>\n",
       "      <td>True</td>\n",
       "      <td>False</td>\n",
       "      <td>0</td>\n",
       "      <td>1350</td>\n",
       "      <td>1350</td>\n",
       "      <td>11</td>\n",
       "      <td>bleed</td>\n",
       "      <td>MixBrowser.csproj</td>\n",
       "      <td>NaN</td>\n",
       "      <td>MixBrowser\\MixBrowser.csproj</td>\n",
       "    </tr>\n",
       "    <tr>\n",
       "      <th>3</th>\n",
       "      <td>b59ba43934a3a6837410db51cf60157cf854e52d</td>\n",
       "      <td>openra first commit!\\n\\ngit-svn-id: svn://svn....</td>\n",
       "      <td>chrisf</td>\n",
       "      <td>2007-06-19 08:51:17+00:00</td>\n",
       "      <td>True</td>\n",
       "      <td>False</td>\n",
       "      <td>0</td>\n",
       "      <td>1350</td>\n",
       "      <td>1350</td>\n",
       "      <td>11</td>\n",
       "      <td>bleed</td>\n",
       "      <td>MixEntry.cs</td>\n",
       "      <td>NaN</td>\n",
       "      <td>MixBrowser\\MixEntry.cs</td>\n",
       "    </tr>\n",
       "    <tr>\n",
       "      <th>4</th>\n",
       "      <td>b59ba43934a3a6837410db51cf60157cf854e52d</td>\n",
       "      <td>openra first commit!\\n\\ngit-svn-id: svn://svn....</td>\n",
       "      <td>chrisf</td>\n",
       "      <td>2007-06-19 08:51:17+00:00</td>\n",
       "      <td>True</td>\n",
       "      <td>False</td>\n",
       "      <td>0</td>\n",
       "      <td>1350</td>\n",
       "      <td>1350</td>\n",
       "      <td>11</td>\n",
       "      <td>bleed</td>\n",
       "      <td>Program.cs</td>\n",
       "      <td>NaN</td>\n",
       "      <td>MixBrowser\\Program.cs</td>\n",
       "    </tr>\n",
       "  </tbody>\n",
       "</table>\n",
       "</div>"
      ],
      "text/plain": [
       "                                       hash  \\\n",
       "0  b59ba43934a3a6837410db51cf60157cf854e52d   \n",
       "1  b59ba43934a3a6837410db51cf60157cf854e52d   \n",
       "2  b59ba43934a3a6837410db51cf60157cf854e52d   \n",
       "3  b59ba43934a3a6837410db51cf60157cf854e52d   \n",
       "4  b59ba43934a3a6837410db51cf60157cf854e52d   \n",
       "\n",
       "                                             message author_name  \\\n",
       "0  openra first commit!\\n\\ngit-svn-id: svn://svn....      chrisf   \n",
       "1  openra first commit!\\n\\ngit-svn-id: svn://svn....      chrisf   \n",
       "2  openra first commit!\\n\\ngit-svn-id: svn://svn....      chrisf   \n",
       "3  openra first commit!\\n\\ngit-svn-id: svn://svn....      chrisf   \n",
       "4  openra first commit!\\n\\ngit-svn-id: svn://svn....      chrisf   \n",
       "\n",
       "                 author_date  in_main  is_merge  num_deletes  num_inserts  \\\n",
       "0  2007-06-19 08:51:17+00:00     True     False            0         1350   \n",
       "1  2007-06-19 08:51:17+00:00     True     False            0         1350   \n",
       "2  2007-06-19 08:51:17+00:00     True     False            0         1350   \n",
       "3  2007-06-19 08:51:17+00:00     True     False            0         1350   \n",
       "4  2007-06-19 08:51:17+00:00     True     False            0         1350   \n",
       "\n",
       "   net_lines  num_files branches           filename parents  \\\n",
       "0       1350         11    bleed        Blowfish.cs     NaN   \n",
       "1       1350         11    bleed             MM.DAT     NaN   \n",
       "2       1350         11    bleed  MixBrowser.csproj     NaN   \n",
       "3       1350         11    bleed        MixEntry.cs     NaN   \n",
       "4       1350         11    bleed         Program.cs     NaN   \n",
       "\n",
       "                       fullpath  \n",
       "0        MixBrowser\\Blowfish.cs  \n",
       "1             MixBrowser\\MM.DAT  \n",
       "2  MixBrowser\\MixBrowser.csproj  \n",
       "3        MixBrowser\\MixEntry.cs  \n",
       "4         MixBrowser\\Program.cs  "
      ]
     },
     "execution_count": 2,
     "metadata": {},
     "output_type": "execute_result"
    }
   ],
   "source": [
    "import pandas as pd\n",
    "import plotly.express as px\n",
    "\n",
    "df = pd.read_csv('OpenRA_FileCommits.csv')\n",
    "\n",
    "df.drop('Unnamed: 0', axis=1, inplace=True)\n",
    "\n",
    "df['fullpath'] = df['new_path']\n",
    "df.drop('project_name', axis=1, inplace=True)\n",
    "df.drop('project_path', axis=1, inplace=True)\n",
    "df.drop('new_path', axis=1, inplace=True)\n",
    "df.drop('old_path', axis=1, inplace=True)\n",
    "\n",
    "df.head()"
   ]
  },
  {
   "cell_type": "code",
   "execution_count": 3,
   "metadata": {},
   "outputs": [
    {
     "data": {
      "text/html": [
       "<div>\n",
       "<style scoped>\n",
       "    .dataframe tbody tr th:only-of-type {\n",
       "        vertical-align: middle;\n",
       "    }\n",
       "\n",
       "    .dataframe tbody tr th {\n",
       "        vertical-align: top;\n",
       "    }\n",
       "\n",
       "    .dataframe thead th {\n",
       "        text-align: right;\n",
       "    }\n",
       "</style>\n",
       "<table border=\"1\" class=\"dataframe\">\n",
       "  <thead>\n",
       "    <tr style=\"text-align: right;\">\n",
       "      <th></th>\n",
       "      <th>fullpath</th>\n",
       "      <th>project</th>\n",
       "      <th>path</th>\n",
       "      <th>filename</th>\n",
       "      <th>ext</th>\n",
       "      <th>lines</th>\n",
       "    </tr>\n",
       "  </thead>\n",
       "  <tbody>\n",
       "    <tr>\n",
       "      <th>0</th>\n",
       "      <td>OpenRA.Game\\Activities\\Activity.cs</td>\n",
       "      <td>OpenRA.Game</td>\n",
       "      <td>Activities</td>\n",
       "      <td>Activity.cs</td>\n",
       "      <td>.cs</td>\n",
       "      <td>291</td>\n",
       "    </tr>\n",
       "    <tr>\n",
       "      <th>1</th>\n",
       "      <td>OpenRA.Game\\Activities\\CallFunc.cs</td>\n",
       "      <td>OpenRA.Game</td>\n",
       "      <td>Activities</td>\n",
       "      <td>CallFunc.cs</td>\n",
       "      <td>.cs</td>\n",
       "      <td>33</td>\n",
       "    </tr>\n",
       "    <tr>\n",
       "      <th>2</th>\n",
       "      <td>OpenRA.Game\\Actor.cs</td>\n",
       "      <td>OpenRA.Game</td>\n",
       "      <td>.</td>\n",
       "      <td>Actor.cs</td>\n",
       "      <td>.cs</td>\n",
       "      <td>645</td>\n",
       "    </tr>\n",
       "    <tr>\n",
       "      <th>3</th>\n",
       "      <td>OpenRA.Game\\CPos.cs</td>\n",
       "      <td>OpenRA.Game</td>\n",
       "      <td>.</td>\n",
       "      <td>CPos.cs</td>\n",
       "      <td>.cs</td>\n",
       "      <td>150</td>\n",
       "    </tr>\n",
       "    <tr>\n",
       "      <th>4</th>\n",
       "      <td>OpenRA.Game\\CryptoUtil.cs</td>\n",
       "      <td>OpenRA.Game</td>\n",
       "      <td>.</td>\n",
       "      <td>CryptoUtil.cs</td>\n",
       "      <td>.cs</td>\n",
       "      <td>261</td>\n",
       "    </tr>\n",
       "  </tbody>\n",
       "</table>\n",
       "</div>"
      ],
      "text/plain": [
       "                             fullpath      project        path       filename  \\\n",
       "0  OpenRA.Game\\Activities\\Activity.cs  OpenRA.Game  Activities    Activity.cs   \n",
       "1  OpenRA.Game\\Activities\\CallFunc.cs  OpenRA.Game  Activities    CallFunc.cs   \n",
       "2                OpenRA.Game\\Actor.cs  OpenRA.Game           .       Actor.cs   \n",
       "3                 OpenRA.Game\\CPos.cs  OpenRA.Game           .        CPos.cs   \n",
       "4           OpenRA.Game\\CryptoUtil.cs  OpenRA.Game           .  CryptoUtil.cs   \n",
       "\n",
       "   ext  lines  \n",
       "0  .cs    291  \n",
       "1  .cs     33  \n",
       "2  .cs    645  \n",
       "3  .cs    150  \n",
       "4  .cs    261  "
      ]
     },
     "execution_count": 3,
     "metadata": {},
     "output_type": "execute_result"
    }
   ],
   "source": [
    "df_files = pd.read_csv('filesizes.csv')\n",
    "\n",
    "df_files.drop('Unnamed: 0', axis=1, inplace=True)\n",
    "\n",
    "def fix_file_path(row):\n",
    "    if row['path'] == '.':\n",
    "        row['fullpath'] = row['project'] + '\\\\' + row['filename']\n",
    "    else:\n",
    "        row['fullpath'] = row['project'] + '\\\\' + row['path'] + '\\\\' + row['filename']\n",
    "    return row\n",
    "\n",
    "df_files = df_files.apply(fix_file_path, axis=1)\n",
    "\n",
    "df_files.head()"
   ]
  },
  {
   "cell_type": "code",
   "execution_count": 4,
   "metadata": {},
   "outputs": [
    {
     "data": {
      "text/html": [
       "<div>\n",
       "<style scoped>\n",
       "    .dataframe tbody tr th:only-of-type {\n",
       "        vertical-align: middle;\n",
       "    }\n",
       "\n",
       "    .dataframe tbody tr th {\n",
       "        vertical-align: top;\n",
       "    }\n",
       "\n",
       "    .dataframe thead th {\n",
       "        text-align: right;\n",
       "    }\n",
       "</style>\n",
       "<table border=\"1\" class=\"dataframe\">\n",
       "  <thead>\n",
       "    <tr style=\"text-align: right;\">\n",
       "      <th></th>\n",
       "      <th>hash</th>\n",
       "      <th>message</th>\n",
       "      <th>author_name</th>\n",
       "      <th>author_date</th>\n",
       "      <th>in_main</th>\n",
       "      <th>is_merge</th>\n",
       "      <th>num_deletes</th>\n",
       "      <th>num_inserts</th>\n",
       "      <th>net_lines</th>\n",
       "      <th>num_files</th>\n",
       "      <th>branches</th>\n",
       "      <th>filename_x</th>\n",
       "      <th>parents</th>\n",
       "      <th>fullpath</th>\n",
       "      <th>project</th>\n",
       "      <th>path</th>\n",
       "      <th>filename_y</th>\n",
       "      <th>ext</th>\n",
       "      <th>lines</th>\n",
       "    </tr>\n",
       "  </thead>\n",
       "  <tbody>\n",
       "    <tr>\n",
       "      <th>0</th>\n",
       "      <td>7881deca304e27f9cb20304c81731433954bec4f</td>\n",
       "      <td>Everything is now OpenRA, not OpenRa</td>\n",
       "      <td>alzeih</td>\n",
       "      <td>2010-02-27 21:10:22+13:00</td>\n",
       "      <td>True</td>\n",
       "      <td>False</td>\n",
       "      <td>21</td>\n",
       "      <td>26919</td>\n",
       "      <td>26898</td>\n",
       "      <td>299</td>\n",
       "      <td>bleed</td>\n",
       "      <td>Actor.cs</td>\n",
       "      <td>11b926a42295e232676383c8909a0a1bcb0a101d</td>\n",
       "      <td>OpenRA.Game\\Actor.cs</td>\n",
       "      <td>OpenRA.Game</td>\n",
       "      <td>.</td>\n",
       "      <td>Actor.cs</td>\n",
       "      <td>.cs</td>\n",
       "      <td>645</td>\n",
       "    </tr>\n",
       "    <tr>\n",
       "      <th>1</th>\n",
       "      <td>8e5a5552c4fc078a44672294ed14570375037f78</td>\n",
       "      <td>Killed a bunch of logging statements</td>\n",
       "      <td>alzeih</td>\n",
       "      <td>2010-03-18 19:50:11+13:00</td>\n",
       "      <td>True</td>\n",
       "      <td>False</td>\n",
       "      <td>17</td>\n",
       "      <td>1</td>\n",
       "      <td>-16</td>\n",
       "      <td>10</td>\n",
       "      <td>bleed</td>\n",
       "      <td>Actor.cs</td>\n",
       "      <td>ec544489945ed0e895cf618583e2190f4e72f386</td>\n",
       "      <td>OpenRA.Game\\Actor.cs</td>\n",
       "      <td>OpenRA.Game</td>\n",
       "      <td>.</td>\n",
       "      <td>Actor.cs</td>\n",
       "      <td>.cs</td>\n",
       "      <td>645</td>\n",
       "    </tr>\n",
       "    <tr>\n",
       "      <th>2</th>\n",
       "      <td>faa8f54e7cd71ef3dcc4c526baa8b6639e1a49ed</td>\n",
       "      <td>impose the hack on WALLs, not everything-else</td>\n",
       "      <td>Chris Forbes</td>\n",
       "      <td>2010-03-27 10:05:01+13:00</td>\n",
       "      <td>True</td>\n",
       "      <td>False</td>\n",
       "      <td>41</td>\n",
       "      <td>33</td>\n",
       "      <td>-8</td>\n",
       "      <td>6</td>\n",
       "      <td>bleed</td>\n",
       "      <td>Actor.cs</td>\n",
       "      <td>dd6f61a29f8cc3059231f3d22470c664c151d819</td>\n",
       "      <td>OpenRA.Game\\Actor.cs</td>\n",
       "      <td>OpenRA.Game</td>\n",
       "      <td>.</td>\n",
       "      <td>Actor.cs</td>\n",
       "      <td>.cs</td>\n",
       "      <td>645</td>\n",
       "    </tr>\n",
       "    <tr>\n",
       "      <th>3</th>\n",
       "      <td>13e6711a3b679a8522de76d2724c70798b3f40cb</td>\n",
       "      <td>further unhacking to localise extended damage ...</td>\n",
       "      <td>Chris Forbes</td>\n",
       "      <td>2010-03-27 10:11:24+13:00</td>\n",
       "      <td>True</td>\n",
       "      <td>False</td>\n",
       "      <td>27</td>\n",
       "      <td>27</td>\n",
       "      <td>0</td>\n",
       "      <td>4</td>\n",
       "      <td>bleed</td>\n",
       "      <td>Actor.cs</td>\n",
       "      <td>faa8f54e7cd71ef3dcc4c526baa8b6639e1a49ed</td>\n",
       "      <td>OpenRA.Game\\Actor.cs</td>\n",
       "      <td>OpenRA.Game</td>\n",
       "      <td>.</td>\n",
       "      <td>Actor.cs</td>\n",
       "      <td>.cs</td>\n",
       "      <td>645</td>\n",
       "    </tr>\n",
       "    <tr>\n",
       "      <th>4</th>\n",
       "      <td>d2ad90aa5b54e4bdb87b0f5215ba046bd0f2af2d</td>\n",
       "      <td>saner planes, part 1</td>\n",
       "      <td>Chris Forbes</td>\n",
       "      <td>2010-03-27 00:23:24+13:00</td>\n",
       "      <td>True</td>\n",
       "      <td>False</td>\n",
       "      <td>2</td>\n",
       "      <td>54</td>\n",
       "      <td>52</td>\n",
       "      <td>4</td>\n",
       "      <td>bleed</td>\n",
       "      <td>Actor.cs</td>\n",
       "      <td>092c9bede0e15099e6583c532fb1c536f15419e7</td>\n",
       "      <td>OpenRA.Game\\Actor.cs</td>\n",
       "      <td>OpenRA.Game</td>\n",
       "      <td>.</td>\n",
       "      <td>Actor.cs</td>\n",
       "      <td>.cs</td>\n",
       "      <td>645</td>\n",
       "    </tr>\n",
       "  </tbody>\n",
       "</table>\n",
       "</div>"
      ],
      "text/plain": [
       "                                       hash  \\\n",
       "0  7881deca304e27f9cb20304c81731433954bec4f   \n",
       "1  8e5a5552c4fc078a44672294ed14570375037f78   \n",
       "2  faa8f54e7cd71ef3dcc4c526baa8b6639e1a49ed   \n",
       "3  13e6711a3b679a8522de76d2724c70798b3f40cb   \n",
       "4  d2ad90aa5b54e4bdb87b0f5215ba046bd0f2af2d   \n",
       "\n",
       "                                             message   author_name  \\\n",
       "0               Everything is now OpenRA, not OpenRa        alzeih   \n",
       "1               Killed a bunch of logging statements        alzeih   \n",
       "2      impose the hack on WALLs, not everything-else  Chris Forbes   \n",
       "3  further unhacking to localise extended damage ...  Chris Forbes   \n",
       "4                               saner planes, part 1  Chris Forbes   \n",
       "\n",
       "                 author_date  in_main  is_merge  num_deletes  num_inserts  \\\n",
       "0  2010-02-27 21:10:22+13:00     True     False           21        26919   \n",
       "1  2010-03-18 19:50:11+13:00     True     False           17            1   \n",
       "2  2010-03-27 10:05:01+13:00     True     False           41           33   \n",
       "3  2010-03-27 10:11:24+13:00     True     False           27           27   \n",
       "4  2010-03-27 00:23:24+13:00     True     False            2           54   \n",
       "\n",
       "   net_lines  num_files branches filename_x  \\\n",
       "0      26898        299    bleed   Actor.cs   \n",
       "1        -16         10    bleed   Actor.cs   \n",
       "2         -8          6    bleed   Actor.cs   \n",
       "3          0          4    bleed   Actor.cs   \n",
       "4         52          4    bleed   Actor.cs   \n",
       "\n",
       "                                    parents              fullpath  \\\n",
       "0  11b926a42295e232676383c8909a0a1bcb0a101d  OpenRA.Game\\Actor.cs   \n",
       "1  ec544489945ed0e895cf618583e2190f4e72f386  OpenRA.Game\\Actor.cs   \n",
       "2  dd6f61a29f8cc3059231f3d22470c664c151d819  OpenRA.Game\\Actor.cs   \n",
       "3  faa8f54e7cd71ef3dcc4c526baa8b6639e1a49ed  OpenRA.Game\\Actor.cs   \n",
       "4  092c9bede0e15099e6583c532fb1c536f15419e7  OpenRA.Game\\Actor.cs   \n",
       "\n",
       "       project path filename_y  ext  lines  \n",
       "0  OpenRA.Game    .   Actor.cs  .cs    645  \n",
       "1  OpenRA.Game    .   Actor.cs  .cs    645  \n",
       "2  OpenRA.Game    .   Actor.cs  .cs    645  \n",
       "3  OpenRA.Game    .   Actor.cs  .cs    645  \n",
       "4  OpenRA.Game    .   Actor.cs  .cs    645  "
      ]
     },
     "execution_count": 4,
     "metadata": {},
     "output_type": "execute_result"
    }
   ],
   "source": [
    "df_merged = pd.merge(df, df_files, left_on='fullpath', right_on='fullpath')\n",
    "\n",
    "df_merged.head()"
   ]
  },
  {
   "cell_type": "code",
   "execution_count": 5,
   "metadata": {},
   "outputs": [],
   "source": [
    "# Define common variables for plotly\n",
    "from Theming import theme, template"
   ]
  },
  {
   "cell_type": "code",
   "execution_count": 13,
   "metadata": {},
   "outputs": [
    {
     "data": {
      "text/html": [
       "<div>\n",
       "<style scoped>\n",
       "    .dataframe tbody tr th:only-of-type {\n",
       "        vertical-align: middle;\n",
       "    }\n",
       "\n",
       "    .dataframe tbody tr th {\n",
       "        vertical-align: top;\n",
       "    }\n",
       "\n",
       "    .dataframe thead th {\n",
       "        text-align: right;\n",
       "    }\n",
       "</style>\n",
       "<table border=\"1\" class=\"dataframe\">\n",
       "  <thead>\n",
       "    <tr style=\"text-align: right;\">\n",
       "      <th></th>\n",
       "      <th></th>\n",
       "      <th></th>\n",
       "      <th></th>\n",
       "      <th>avg_net</th>\n",
       "      <th>commits</th>\n",
       "    </tr>\n",
       "    <tr>\n",
       "      <th>fullpath</th>\n",
       "      <th>project</th>\n",
       "      <th>path</th>\n",
       "      <th>filename_y</th>\n",
       "      <th></th>\n",
       "      <th></th>\n",
       "    </tr>\n",
       "  </thead>\n",
       "  <tbody>\n",
       "    <tr>\n",
       "      <th>OpenRA.Game\\Activities\\Activity.cs</th>\n",
       "      <th>OpenRA.Game</th>\n",
       "      <th>Activities</th>\n",
       "      <th>Activity.cs</th>\n",
       "      <td>21.125000</td>\n",
       "      <td>48</td>\n",
       "    </tr>\n",
       "    <tr>\n",
       "      <th>OpenRA.Game\\Activities\\CallFunc.cs</th>\n",
       "      <th>OpenRA.Game</th>\n",
       "      <th>Activities</th>\n",
       "      <th>CallFunc.cs</th>\n",
       "      <td>59.928571</td>\n",
       "      <td>14</td>\n",
       "    </tr>\n",
       "    <tr>\n",
       "      <th>OpenRA.Game\\Actor.cs</th>\n",
       "      <th>OpenRA.Game</th>\n",
       "      <th>.</th>\n",
       "      <th>Actor.cs</th>\n",
       "      <td>133.613953</td>\n",
       "      <td>215</td>\n",
       "    </tr>\n",
       "    <tr>\n",
       "      <th>OpenRA.Game\\CPos.cs</th>\n",
       "      <th>OpenRA.Game</th>\n",
       "      <th>.</th>\n",
       "      <th>CPos.cs</th>\n",
       "      <td>32.928571</td>\n",
       "      <td>42</td>\n",
       "    </tr>\n",
       "    <tr>\n",
       "      <th>OpenRA.Game\\CVec.cs</th>\n",
       "      <th>OpenRA.Game</th>\n",
       "      <th>.</th>\n",
       "      <th>CVec.cs</th>\n",
       "      <td>64.678571</td>\n",
       "      <td>28</td>\n",
       "    </tr>\n",
       "  </tbody>\n",
       "</table>\n",
       "</div>"
      ],
      "text/plain": [
       "                                                                          avg_net  \\\n",
       "fullpath                           project     path       filename_y                \n",
       "OpenRA.Game\\Activities\\Activity.cs OpenRA.Game Activities Activity.cs   21.125000   \n",
       "OpenRA.Game\\Activities\\CallFunc.cs OpenRA.Game Activities CallFunc.cs   59.928571   \n",
       "OpenRA.Game\\Actor.cs               OpenRA.Game .          Actor.cs     133.613953   \n",
       "OpenRA.Game\\CPos.cs                OpenRA.Game .          CPos.cs       32.928571   \n",
       "OpenRA.Game\\CVec.cs                OpenRA.Game .          CVec.cs       64.678571   \n",
       "\n",
       "                                                                       commits  \n",
       "fullpath                           project     path       filename_y            \n",
       "OpenRA.Game\\Activities\\Activity.cs OpenRA.Game Activities Activity.cs       48  \n",
       "OpenRA.Game\\Activities\\CallFunc.cs OpenRA.Game Activities CallFunc.cs       14  \n",
       "OpenRA.Game\\Actor.cs               OpenRA.Game .          Actor.cs         215  \n",
       "OpenRA.Game\\CPos.cs                OpenRA.Game .          CPos.cs           42  \n",
       "OpenRA.Game\\CVec.cs                OpenRA.Game .          CVec.cs           28  "
      ]
     },
     "execution_count": 13,
     "metadata": {},
     "output_type": "execute_result"
    }
   ],
   "source": [
    "df_grouped = df_merged.groupby(['fullpath', 'project', 'path', 'filename_y']).agg(\n",
    "    avg_net=('net_lines','mean'),\n",
    "    commits=('author_date', 'count')\n",
    ")\n",
    "df_grouped.head()"
   ]
  },
  {
   "cell_type": "code",
   "execution_count": 14,
   "metadata": {
    "collapsed": false,
    "pycharm": {
     "name": "#%%\n"
    }
   },
   "outputs": [
    {
     "data": {
      "application/vnd.plotly.v1+json": {
       "config": {
        "plotlyServerURL": "https://plot.ly"
       },
       "data": [
        {
         "alignmentgroup": "True",
         "bingroup": "x",
         "hovertemplate": "color=OpenRA.Game<br>avg_net=%{x}<br>count=%{y}<extra></extra>",
         "legendgroup": "OpenRA.Game",
         "marker": {
          "color": "rgb(95, 70, 144)",
          "pattern": {
           "shape": ""
          }
         },
         "name": "OpenRA.Game",
         "offsetgroup": "OpenRA.Game",
         "orientation": "v",
         "showlegend": true,
         "type": "histogram",
         "x": [
          21.125,
          59.92857142857143,
          133.6139534883721,
          32.92857142857143,
          64.67857142857143,
          66.88888888888889,
          -70.33333333333333,
          144,
          1330.9444444444443,
          -25.875,
          1145.2857142857142,
          6.115384615384615,
          366.40579710144925,
          27.785714285714285,
          31.555555555555557,
          -6.5,
          86.68181818181819,
          -11.122448979591837,
          -16.75862068965517,
          66,
          -33.73809523809524,
          8.75,
          29.86571879936809,
          31.37142857142857,
          337.0135135135135,
          -82.6923076923077,
          16.78125,
          5.2272727272727275,
          242.5855855855856,
          37.61538461538461,
          447,
          42.38709677419355,
          518.8,
          -2.357142857142857,
          -18.31578947368421,
          754.3548387096774,
          517.9782608695652,
          20.53846153846154,
          -28.75,
          -0.85,
          -5.8,
          2.090909090909091,
          52.73809523809524,
          -17.565217391304348,
          35.65909090909091,
          74.83333333333333,
          -25.88888888888889,
          321.7073170731707,
          442.22222222222223,
          413.12280701754383,
          548.2888888888889,
          292.6463414634146,
          1.6545454545454545,
          39.793103448275865,
          322.37974683544303,
          27,
          55.23076923076923,
          25.692307692307693,
          346.8333333333333,
          35.904761904761905,
          20.333333333333332,
          76,
          151.1306818181818,
          114.8171206225681,
          17,
          -56.90909090909091,
          21,
          113.46153846153847,
          25.842105263157894,
          12.375,
          71.21428571428571,
          19.823529411764707,
          39.42857142857143,
          -37.04545454545455,
          -56.84615384615385,
          146.75,
          112.75,
          24.25925925925926,
          0.3235294117647059,
          38.583333333333336,
          34.15625,
          11.6,
          38.458333333333336,
          19.742616033755276,
          -2.973684210526316,
          -5.833333333333333,
          70.83333333333333,
          74.47058823529412,
          2.6666666666666665,
          55.73684210526316,
          -130.83333333333334,
          38.93333333333333,
          69,
          41.07142857142857,
          9.527272727272727,
          6.380116959064328,
          323.84722222222223,
          -17,
          79.81818181818181,
          -15.244444444444444,
          85.2,
          48.291666666666664,
          6,
          335.72115384615387,
          621.175,
          228.5321100917431,
          8.563636363636364,
          17.307692307692307,
          24.822033898305083,
          6.714285714285714,
          98,
          150.38728323699422,
          12,
          1041.625,
          185.0808823529412,
          200.22222222222223,
          172.9375,
          77.23076923076923,
          93.25,
          40.1764705882353,
          199,
          -101.44444444444444,
          -10,
          -70.66666666666667,
          14.666666666666666,
          39.333333333333336,
          41.916666666666664,
          19.5,
          -107.125,
          73.63636363636364,
          -7.25,
          -7.1875,
          43.3,
          -66.8,
          -135.25,
          60.625,
          -41.81818181818182,
          47.22222222222222,
          8.071428571428571,
          -34.142857142857146,
          30.90909090909091,
          6.333333333333333,
          38.666666666666664,
          -64.07142857142857,
          -0.9523809523809523,
          29.430555555555557,
          118.82352941176471,
          62.1578947368421,
          131.13333333333333,
          119.11764705882354,
          167.83333333333334,
          200.75,
          65.9,
          72.82608695652173,
          -63.52,
          -169.6,
          83,
          -63.857142857142854,
          4.489189189189189,
          72.27777777777777,
          4.045714285714285,
          15.275862068965518,
          81.33333333333333,
          31.565217391304348,
          16.72222222222222,
          147.66666666666666,
          12.75,
          33,
          -2.5714285714285716,
          21,
          21,
          61.4,
          24.88888888888889,
          82,
          809.0333333333333,
          97.18181818181819,
          63,
          14.5,
          19.043478260869566,
          443.44642857142856,
          -44.57142857142857,
          399.52542372881356,
          27,
          34.5,
          1.3061224489795917,
          42.529411764705884,
          30.6,
          -22.916666666666668,
          19.846153846153847,
          68.44902386117137,
          30.25,
          -83.85714285714286,
          -71.57142857142857,
          -95.16666666666667,
          40,
          -12.208333333333334,
          -23.565217391304348,
          44.96153846153846,
          17.208333333333332,
          39.58620689655172,
          8,
          1.6184971098265897,
          -65.23913043478261,
          91.73550724637681,
          166.57142857142858,
          4.4
         ],
         "xaxis": "x",
         "yaxis": "y"
        },
        {
         "alignmentgroup": "True",
         "bingroup": "x",
         "hovertemplate": "color=OpenRA.Launcher<br>avg_net=%{x}<br>count=%{y}<extra></extra>",
         "legendgroup": "OpenRA.Launcher",
         "marker": {
          "color": "rgb(29, 105, 150)",
          "pattern": {
           "shape": ""
          }
         },
         "name": "OpenRA.Launcher",
         "offsetgroup": "OpenRA.Launcher",
         "orientation": "v",
         "showlegend": true,
         "type": "histogram",
         "x": [
          726.5714285714286
         ],
         "xaxis": "x",
         "yaxis": "y"
        },
        {
         "alignmentgroup": "True",
         "bingroup": "x",
         "hovertemplate": "color=OpenRA.Mods.Cnc<br>avg_net=%{x}<br>count=%{y}<extra></extra>",
         "legendgroup": "OpenRA.Mods.Cnc",
         "marker": {
          "color": "rgb(56, 166, 165)",
          "pattern": {
           "shape": ""
          }
         },
         "name": "OpenRA.Mods.Cnc",
         "offsetgroup": "OpenRA.Mods.Cnc",
         "orientation": "v",
         "showlegend": true,
         "type": "histogram",
         "x": [
          22.6875,
          -12.2,
          -26.7,
          26.473684210526315,
          -32.5,
          -3.3076923076923075,
          -98.28571428571429,
          -186.66666666666666,
          11.558441558441558,
          6.666666666666667,
          -23.666666666666668,
          -16,
          -86.625,
          16,
          2.875,
          0.3333333333333333,
          -0.7777777777777778,
          -6.666666666666667,
          -6.666666666666667,
          -14.666666666666666,
          1.3333333333333333,
          -116.8,
          19.142857142857142,
          210,
          1.3333333333333333,
          2,
          1.2857142857142858,
          -98.57142857142857,
          69,
          -101.14285714285714,
          -52.888888888888886,
          -140.125,
          24.428571428571427,
          -62.25,
          -7.538461538461538,
          4.933333333333334,
          33.75,
          -40.111111111111114,
          136.66666666666666,
          -15.5,
          12.2,
          -74.125,
          -2.4,
          -92.4,
          -85.14285714285714,
          -85.14285714285714,
          -18.363636363636363,
          8.833333333333334,
          8.481481481481481,
          55.5,
          -68.57142857142857,
          28.476190476190474,
          -13.216216216216216,
          -79.4,
          59.25,
          -22.307692307692307,
          -11.4,
          27,
          67.55555555555556,
          -23.666666666666668,
          4.463414634146342,
          30.066666666666666,
          27.80392156862745,
          32.107142857142854,
          10.666666666666666,
          24.976190476190474,
          -122.14285714285714,
          26.833333333333332,
          44.8,
          -88.85714285714286,
          0,
          -64.08333333333333,
          77.88,
          -63.5,
          -110.22222222222223,
          -195.25,
          -58.38461538461539,
          -113.66666666666667,
          -54,
          76,
          106
         ],
         "xaxis": "x",
         "yaxis": "y"
        },
        {
         "alignmentgroup": "True",
         "bingroup": "x",
         "hovertemplate": "color=OpenRA.Mods.Common<br>avg_net=%{x}<br>count=%{y}<extra></extra>",
         "legendgroup": "OpenRA.Mods.Common",
         "marker": {
          "color": "rgb(15, 133, 84)",
          "pattern": {
           "shape": ""
          }
         },
         "name": "OpenRA.Mods.Common",
         "offsetgroup": "OpenRA.Mods.Common",
         "orientation": "v",
         "showlegend": true,
         "type": "histogram",
         "x": [
          23.2,
          33.53333333333333,
          25.26829268292683,
          52.42424242424242,
          -4.6,
          43.857142857142854,
          -4.666666666666667,
          14.6,
          78.36363636363636,
          28.209302325581394,
          5.153846153846154,
          32.91428571428571,
          38.42857142857143,
          35.88,
          73.38095238095238,
          15.82857142857143,
          76.28571428571429,
          101.33333333333333,
          42.53333333333333,
          -4.7,
          28.285714285714285,
          45.05,
          100.18181818181819,
          55.55,
          24.5,
          23.96,
          48.65714285714286,
          65.4,
          27.257142857142856,
          14.65,
          27,
          48,
          137,
          -58.36363636363637,
          81.46666666666667,
          42.22222222222222,
          13.944444444444445,
          54.53333333333333,
          81.93333333333334,
          10,
          152.12,
          109.38888888888889,
          135.82142857142858,
          132.53333333333333,
          157.42857142857142,
          40.34782608695652,
          109.55555555555556,
          -4.181818181818182,
          44.72727272727273,
          27.142857142857142,
          31.033333333333335,
          12.545454545454545,
          -32,
          -19.166666666666668,
          6.4,
          -17.25,
          5,
          -8.285714285714286,
          -1.3636363636363635,
          -34.142857142857146,
          -9.625,
          123,
          11.727272727272727,
          -129.66666666666666,
          52.93333333333333,
          57,
          -64.5,
          37.61538461538461,
          9.546875,
          -54.1,
          -39,
          -20.166666666666668,
          -64.5,
          74,
          8.48,
          -64.5,
          -20.75,
          -67.5,
          -87.625,
          -100.14285714285714,
          100.625,
          -111.5,
          29.416666666666668,
          -53.5,
          -28.714285714285715,
          83.72222222222223,
          47.64705882352941,
          107.41666666666667,
          79.7,
          63.4,
          69.3913043478261,
          42.07142857142857,
          -7.636363636363637,
          -61.785714285714285,
          16.642857142857142,
          5.9375,
          1.0909090909090908,
          83.4,
          50.666666666666664,
          28.9,
          45.27272727272727,
          18.692307692307693,
          35.11764705882353,
          -27,
          -2.3333333333333335,
          37,
          55.94117647058823,
          27.142857142857142,
          -9.666666666666666,
          46.26315789473684,
          16.333333333333332,
          -7.25,
          45.642857142857146,
          0.6363636363636364,
          50.333333333333336,
          57.9375,
          -0.2727272727272727,
          43.5,
          63.55555555555556,
          37.5,
          47.89473684210526,
          67.55555555555556,
          28.930232558139537,
          37.74074074074074,
          -9.8,
          -18.5,
          47.6875,
          21.8,
          73.94117647058823,
          49.31578947368421,
          68.82352941176471,
          -48.166666666666664,
          49.8,
          26.944444444444443,
          16.625,
          16.786666666666665,
          57.65217391304348,
          34.17391304347826,
          24.666666666666668,
          127.53846153846153,
          114.42857142857143,
          30.634146341463413,
          36.48148148148148,
          82.61538461538461,
          -7.46875,
          10.703703703703704,
          4.16,
          -6.791666666666667,
          3.6875,
          7.1454545454545455,
          -25.857142857142858,
          3.8333333333333335,
          21.88235294117647,
          -16.055555555555557,
          90.13333333333334,
          43.41463414634146,
          21.423728813559322,
          17.96969696969697,
          29.90909090909091,
          12.884615384615385,
          51.46153846153846,
          -107.33333333333333,
          -10.55,
          42.61904761904762,
          -73.57142857142857,
          -74.6,
          -74.22222222222223,
          -112.33333333333333,
          -126,
          41.61666666666667,
          -10.75,
          29.25,
          -165.16666666666666,
          24.857142857142858,
          68.92,
          -0.1,
          14.54320987654321,
          50.5,
          39.265306122448976,
          -5,
          -50.785714285714285,
          39.166666666666664,
          24.420454545454547,
          20.333333333333332,
          -18.916666666666668,
          29.34375,
          55.46666666666667,
          30.875,
          -7.111111111111111,
          12.5,
          1.7391304347826086,
          -34.666666666666664,
          71.55,
          31.558139534883722,
          -15.863636363636363,
          -45.1,
          37.674418604651166,
          49.38461538461539,
          23,
          72.22222222222223,
          26.92063492063492,
          19.674418604651162,
          6.666666666666667,
          33.869565217391305,
          49.0625,
          72.92857142857143,
          29,
          40.714285714285715,
          66.1304347826087,
          32.68421052631579,
          50.65384615384615,
          47.1,
          45.6,
          68.57894736842105,
          -23.5,
          124.28571428571429,
          -17.647058823529413,
          160.25,
          16.632653061224488,
          -10.235294117647058,
          21.166666666666668,
          15.4375,
          -61.142857142857146,
          37.291666666666664,
          66.30555555555556,
          95.3,
          47.93577981651376,
          35.351351351351354,
          -25.043478260869566,
          94.81818181818181,
          14.711538461538462,
          4.571428571428571,
          105.1,
          31.037037037037038,
          150.66666666666666,
          -39.5,
          18.176470588235293,
          30.17241379310345,
          8,
          9.5,
          29.666666666666668,
          96.18181818181819,
          21.5,
          78.6086956521739,
          45.285714285714285,
          38.666666666666664,
          68.27272727272727,
          -6.5,
          28.181818181818183,
          86.66666666666667,
          28.59016393442623,
          57.57142857142857,
          67.96666666666667,
          91.53846153846153,
          17.2,
          10.866666666666667,
          92.61538461538461,
          91.14285714285714,
          -78.07692307692308,
          61.166666666666664,
          59.4,
          50.5,
          104.41935483870968,
          23.555555555555557,
          -9.5,
          18.333333333333332,
          9.75,
          -19.583333333333332,
          10.8,
          -11.5,
          29.357142857142858,
          69.45454545454545,
          40.666666666666664,
          -214.25,
          29.09090909090909,
          66.6,
          57.041666666666664,
          71.88888888888889,
          45.541666666666664,
          5.722222222222222,
          44.375,
          161.66666666666666,
          55.32142857142857,
          54.28,
          23.64,
          -63.07692307692308,
          57.666666666666664,
          40,
          71.72,
          -99,
          15,
          23.421875,
          6.666666666666667,
          93.27272727272727,
          48.10526315789474,
          37.08,
          19.1484375,
          -132.1,
          -50.32142857142857,
          56.6,
          -130.6,
          35.75,
          -42.22222222222222,
          7.142857142857143,
          24.82857142857143,
          32.333333333333336,
          -124.85714285714286,
          -66.84615384615384,
          95.54545454545455,
          12.588235294117647,
          7.774193548387097,
          -59.375,
          -42.07142857142857,
          7.212121212121212,
          -78.75,
          -75.45454545454545,
          35.05,
          37.28333333333333,
          1.875,
          -47.3,
          -35.72727272727273,
          -64,
          -78.28571428571429,
          -78.28571428571429,
          -78.28571428571429,
          -73.2,
          -56.57142857142857,
          -108.83333333333333,
          30.307692307692307,
          -1.4090909090909092,
          6.833333333333333,
          -75.38461538461539,
          -108.66666666666667,
          13.5,
          11.625,
          23.895522388059703,
          35.19047619047619,
          40.46875,
          34.25,
          56.53846153846154,
          37.333333333333336,
          -1.2666666666666666,
          51.208333333333336,
          9.791666666666666,
          14.333333333333334,
          16.069767441860463,
          3,
          6.638888888888889,
          10,
          80.05882352941177,
          148.3,
          27,
          39.68421052631579,
          113.78571428571429,
          114.88888888888889,
          161.83333333333334,
          -0.2647058823529412,
          53.36842105263158,
          17.28125,
          242.76470588235293,
          75.28571428571429,
          30.333333333333332,
          113,
          116.76470588235294,
          102.46153846153847,
          75.55555555555556,
          -62.6,
          85.92857142857143,
          169.89473684210526,
          102.1,
          91.27272727272727,
          99.4,
          45.375,
          61.46153846153846,
          85.33333333333333,
          -62.5,
          149.2,
          122.91176470588235,
          150.2,
          118.22222222222223,
          117.6923076923077,
          20.985507246376812,
          35.724137931034484,
          64.91666666666667,
          61.583333333333336,
          113.22222222222223,
          37.72727272727273,
          84.35,
          22.666666666666668,
          105.7,
          31.571428571428573,
          107,
          130.16666666666666,
          213.15384615384616,
          94.8,
          34.5,
          38.486486486486484,
          36.4,
          47.535714285714285,
          29.666666666666668,
          75.38888888888889,
          -54.666666666666664,
          24.753846153846155,
          -43.705882352941174,
          69.66666666666667,
          27.673076923076923,
          69.66666666666667,
          61.1875
         ],
         "xaxis": "x",
         "yaxis": "y"
        },
        {
         "alignmentgroup": "True",
         "bingroup": "x",
         "hovertemplate": "color=OpenRA.Mods.D2k<br>avg_net=%{x}<br>count=%{y}<extra></extra>",
         "legendgroup": "OpenRA.Mods.D2k",
         "marker": {
          "color": "rgb(115, 175, 72)",
          "pattern": {
           "shape": ""
          }
         },
         "name": "OpenRA.Mods.D2k",
         "offsetgroup": "OpenRA.Mods.D2k",
         "orientation": "v",
         "showlegend": true,
         "type": "histogram",
         "x": [
          41.88636363636363,
          74.41666666666667,
          -122.88888888888889,
          19.45,
          60.515151515151516,
          -9.076923076923077,
          23.142857142857142,
          24.166666666666668,
          65.27777777777777,
          47.61904761904762,
          22
         ],
         "xaxis": "x",
         "yaxis": "y"
        },
        {
         "alignmentgroup": "True",
         "bingroup": "x",
         "hovertemplate": "color=OpenRA.Platforms.Default<br>avg_net=%{x}<br>count=%{y}<extra></extra>",
         "legendgroup": "OpenRA.Platforms.Default",
         "marker": {
          "color": "rgb(237, 173, 8)",
          "pattern": {
           "shape": ""
          }
         },
         "name": "OpenRA.Platforms.Default",
         "offsetgroup": "OpenRA.Platforms.Default",
         "orientation": "v",
         "showlegend": true,
         "type": "histogram",
         "x": [
          80.22727272727273,
          -95.83333333333333,
          120.16666666666667,
          38,
          310.2,
          95.45454545454545,
          -6,
          32.58974358974359,
          24.708333333333332,
          82.57142857142857,
          12.933333333333334,
          16.70212765957447,
          60.36363636363637,
          47.111111111111114,
          150.91666666666666,
          36.111111111111114,
          110.0909090909091
         ],
         "xaxis": "x",
         "yaxis": "y"
        },
        {
         "alignmentgroup": "True",
         "bingroup": "x",
         "hovertemplate": "color=OpenRA.Server<br>avg_net=%{x}<br>count=%{y}<extra></extra>",
         "legendgroup": "OpenRA.Server",
         "marker": {
          "color": "rgb(225, 124, 5)",
          "pattern": {
           "shape": ""
          }
         },
         "name": "OpenRA.Server",
         "offsetgroup": "OpenRA.Server",
         "orientation": "v",
         "showlegend": true,
         "type": "histogram",
         "x": [
          27.571428571428573
         ],
         "xaxis": "x",
         "yaxis": "y"
        },
        {
         "alignmentgroup": "True",
         "bingroup": "x",
         "hovertemplate": "color=OpenRA.Test<br>avg_net=%{x}<br>count=%{y}<extra></extra>",
         "legendgroup": "OpenRA.Test",
         "marker": {
          "color": "rgb(204, 80, 62)",
          "pattern": {
           "shape": ""
          }
         },
         "name": "OpenRA.Test",
         "offsetgroup": "OpenRA.Test",
         "orientation": "v",
         "showlegend": true,
         "type": "histogram",
         "x": [
          116.77777777777777,
          482.25,
          -38.857142857142854,
          84.58333333333333,
          447.44444444444446,
          886,
          877.9285714285714,
          8.5,
          153.7,
          123,
          -18.714285714285715,
          145.2
         ],
         "xaxis": "x",
         "yaxis": "y"
        },
        {
         "alignmentgroup": "True",
         "bingroup": "x",
         "hovertemplate": "color=OpenRA.Utility<br>avg_net=%{x}<br>count=%{y}<extra></extra>",
         "legendgroup": "OpenRA.Utility",
         "marker": {
          "color": "rgb(148, 52, 110)",
          "pattern": {
           "shape": ""
          }
         },
         "name": "OpenRA.Utility",
         "offsetgroup": "OpenRA.Utility",
         "orientation": "v",
         "showlegend": true,
         "type": "histogram",
         "x": [
          -19.389705882352942
         ],
         "xaxis": "x",
         "yaxis": "y"
        },
        {
         "alignmentgroup": "True",
         "bingroup": "x",
         "hovertemplate": "color=OpenRA.WindowsLauncher<br>avg_net=%{x}<br>count=%{y}<extra></extra>",
         "legendgroup": "OpenRA.WindowsLauncher",
         "marker": {
          "color": "rgb(111, 64, 112)",
          "pattern": {
           "shape": ""
          }
         },
         "name": "OpenRA.WindowsLauncher",
         "offsetgroup": "OpenRA.WindowsLauncher",
         "orientation": "v",
         "showlegend": true,
         "type": "histogram",
         "x": [
          13.333333333333334
         ],
         "xaxis": "x",
         "yaxis": "y"
        }
       ],
       "layout": {
        "barmode": "relative",
        "legend": {
         "title": {
          "text": "color"
         },
         "tracegroupgap": 0
        },
        "template": {
         "data": {
          "bar": [
           {
            "error_x": {
             "color": "#f2f5fa"
            },
            "error_y": {
             "color": "#f2f5fa"
            },
            "marker": {
             "line": {
              "color": "rgb(17,17,17)",
              "width": 0.5
             },
             "pattern": {
              "fillmode": "overlay",
              "size": 10,
              "solidity": 0.2
             }
            },
            "type": "bar"
           }
          ],
          "barpolar": [
           {
            "marker": {
             "line": {
              "color": "rgb(17,17,17)",
              "width": 0.5
             },
             "pattern": {
              "fillmode": "overlay",
              "size": 10,
              "solidity": 0.2
             }
            },
            "type": "barpolar"
           }
          ],
          "carpet": [
           {
            "aaxis": {
             "endlinecolor": "#A2B1C6",
             "gridcolor": "#506784",
             "linecolor": "#506784",
             "minorgridcolor": "#506784",
             "startlinecolor": "#A2B1C6"
            },
            "baxis": {
             "endlinecolor": "#A2B1C6",
             "gridcolor": "#506784",
             "linecolor": "#506784",
             "minorgridcolor": "#506784",
             "startlinecolor": "#A2B1C6"
            },
            "type": "carpet"
           }
          ],
          "choropleth": [
           {
            "colorbar": {
             "outlinewidth": 0,
             "ticks": ""
            },
            "type": "choropleth"
           }
          ],
          "contour": [
           {
            "colorbar": {
             "outlinewidth": 0,
             "ticks": ""
            },
            "colorscale": [
             [
              0,
              "#0d0887"
             ],
             [
              0.1111111111111111,
              "#46039f"
             ],
             [
              0.2222222222222222,
              "#7201a8"
             ],
             [
              0.3333333333333333,
              "#9c179e"
             ],
             [
              0.4444444444444444,
              "#bd3786"
             ],
             [
              0.5555555555555556,
              "#d8576b"
             ],
             [
              0.6666666666666666,
              "#ed7953"
             ],
             [
              0.7777777777777778,
              "#fb9f3a"
             ],
             [
              0.8888888888888888,
              "#fdca26"
             ],
             [
              1,
              "#f0f921"
             ]
            ],
            "type": "contour"
           }
          ],
          "contourcarpet": [
           {
            "colorbar": {
             "outlinewidth": 0,
             "ticks": ""
            },
            "type": "contourcarpet"
           }
          ],
          "heatmap": [
           {
            "colorbar": {
             "outlinewidth": 0,
             "ticks": ""
            },
            "colorscale": [
             [
              0,
              "#0d0887"
             ],
             [
              0.1111111111111111,
              "#46039f"
             ],
             [
              0.2222222222222222,
              "#7201a8"
             ],
             [
              0.3333333333333333,
              "#9c179e"
             ],
             [
              0.4444444444444444,
              "#bd3786"
             ],
             [
              0.5555555555555556,
              "#d8576b"
             ],
             [
              0.6666666666666666,
              "#ed7953"
             ],
             [
              0.7777777777777778,
              "#fb9f3a"
             ],
             [
              0.8888888888888888,
              "#fdca26"
             ],
             [
              1,
              "#f0f921"
             ]
            ],
            "type": "heatmap"
           }
          ],
          "heatmapgl": [
           {
            "colorbar": {
             "outlinewidth": 0,
             "ticks": ""
            },
            "colorscale": [
             [
              0,
              "#0d0887"
             ],
             [
              0.1111111111111111,
              "#46039f"
             ],
             [
              0.2222222222222222,
              "#7201a8"
             ],
             [
              0.3333333333333333,
              "#9c179e"
             ],
             [
              0.4444444444444444,
              "#bd3786"
             ],
             [
              0.5555555555555556,
              "#d8576b"
             ],
             [
              0.6666666666666666,
              "#ed7953"
             ],
             [
              0.7777777777777778,
              "#fb9f3a"
             ],
             [
              0.8888888888888888,
              "#fdca26"
             ],
             [
              1,
              "#f0f921"
             ]
            ],
            "type": "heatmapgl"
           }
          ],
          "histogram": [
           {
            "marker": {
             "pattern": {
              "fillmode": "overlay",
              "size": 10,
              "solidity": 0.2
             }
            },
            "type": "histogram"
           }
          ],
          "histogram2d": [
           {
            "colorbar": {
             "outlinewidth": 0,
             "ticks": ""
            },
            "colorscale": [
             [
              0,
              "#0d0887"
             ],
             [
              0.1111111111111111,
              "#46039f"
             ],
             [
              0.2222222222222222,
              "#7201a8"
             ],
             [
              0.3333333333333333,
              "#9c179e"
             ],
             [
              0.4444444444444444,
              "#bd3786"
             ],
             [
              0.5555555555555556,
              "#d8576b"
             ],
             [
              0.6666666666666666,
              "#ed7953"
             ],
             [
              0.7777777777777778,
              "#fb9f3a"
             ],
             [
              0.8888888888888888,
              "#fdca26"
             ],
             [
              1,
              "#f0f921"
             ]
            ],
            "type": "histogram2d"
           }
          ],
          "histogram2dcontour": [
           {
            "colorbar": {
             "outlinewidth": 0,
             "ticks": ""
            },
            "colorscale": [
             [
              0,
              "#0d0887"
             ],
             [
              0.1111111111111111,
              "#46039f"
             ],
             [
              0.2222222222222222,
              "#7201a8"
             ],
             [
              0.3333333333333333,
              "#9c179e"
             ],
             [
              0.4444444444444444,
              "#bd3786"
             ],
             [
              0.5555555555555556,
              "#d8576b"
             ],
             [
              0.6666666666666666,
              "#ed7953"
             ],
             [
              0.7777777777777778,
              "#fb9f3a"
             ],
             [
              0.8888888888888888,
              "#fdca26"
             ],
             [
              1,
              "#f0f921"
             ]
            ],
            "type": "histogram2dcontour"
           }
          ],
          "mesh3d": [
           {
            "colorbar": {
             "outlinewidth": 0,
             "ticks": ""
            },
            "type": "mesh3d"
           }
          ],
          "parcoords": [
           {
            "line": {
             "colorbar": {
              "outlinewidth": 0,
              "ticks": ""
             }
            },
            "type": "parcoords"
           }
          ],
          "pie": [
           {
            "automargin": true,
            "type": "pie"
           }
          ],
          "scatter": [
           {
            "marker": {
             "line": {
              "color": "#283442"
             }
            },
            "type": "scatter"
           }
          ],
          "scatter3d": [
           {
            "line": {
             "colorbar": {
              "outlinewidth": 0,
              "ticks": ""
             }
            },
            "marker": {
             "colorbar": {
              "outlinewidth": 0,
              "ticks": ""
             }
            },
            "type": "scatter3d"
           }
          ],
          "scattercarpet": [
           {
            "marker": {
             "colorbar": {
              "outlinewidth": 0,
              "ticks": ""
             }
            },
            "type": "scattercarpet"
           }
          ],
          "scattergeo": [
           {
            "marker": {
             "colorbar": {
              "outlinewidth": 0,
              "ticks": ""
             }
            },
            "type": "scattergeo"
           }
          ],
          "scattergl": [
           {
            "marker": {
             "line": {
              "color": "#283442"
             }
            },
            "type": "scattergl"
           }
          ],
          "scattermapbox": [
           {
            "marker": {
             "colorbar": {
              "outlinewidth": 0,
              "ticks": ""
             }
            },
            "type": "scattermapbox"
           }
          ],
          "scatterpolar": [
           {
            "marker": {
             "colorbar": {
              "outlinewidth": 0,
              "ticks": ""
             }
            },
            "type": "scatterpolar"
           }
          ],
          "scatterpolargl": [
           {
            "marker": {
             "colorbar": {
              "outlinewidth": 0,
              "ticks": ""
             }
            },
            "type": "scatterpolargl"
           }
          ],
          "scatterternary": [
           {
            "marker": {
             "colorbar": {
              "outlinewidth": 0,
              "ticks": ""
             }
            },
            "type": "scatterternary"
           }
          ],
          "surface": [
           {
            "colorbar": {
             "outlinewidth": 0,
             "ticks": ""
            },
            "colorscale": [
             [
              0,
              "#0d0887"
             ],
             [
              0.1111111111111111,
              "#46039f"
             ],
             [
              0.2222222222222222,
              "#7201a8"
             ],
             [
              0.3333333333333333,
              "#9c179e"
             ],
             [
              0.4444444444444444,
              "#bd3786"
             ],
             [
              0.5555555555555556,
              "#d8576b"
             ],
             [
              0.6666666666666666,
              "#ed7953"
             ],
             [
              0.7777777777777778,
              "#fb9f3a"
             ],
             [
              0.8888888888888888,
              "#fdca26"
             ],
             [
              1,
              "#f0f921"
             ]
            ],
            "type": "surface"
           }
          ],
          "table": [
           {
            "cells": {
             "fill": {
              "color": "#506784"
             },
             "line": {
              "color": "rgb(17,17,17)"
             }
            },
            "header": {
             "fill": {
              "color": "#2a3f5f"
             },
             "line": {
              "color": "rgb(17,17,17)"
             }
            },
            "type": "table"
           }
          ]
         },
         "layout": {
          "annotationdefaults": {
           "arrowcolor": "#f2f5fa",
           "arrowhead": 0,
           "arrowwidth": 1
          },
          "autotypenumbers": "strict",
          "coloraxis": {
           "colorbar": {
            "outlinewidth": 0,
            "ticks": ""
           }
          },
          "colorscale": {
           "diverging": [
            [
             0,
             "#8e0152"
            ],
            [
             0.1,
             "#c51b7d"
            ],
            [
             0.2,
             "#de77ae"
            ],
            [
             0.3,
             "#f1b6da"
            ],
            [
             0.4,
             "#fde0ef"
            ],
            [
             0.5,
             "#f7f7f7"
            ],
            [
             0.6,
             "#e6f5d0"
            ],
            [
             0.7,
             "#b8e186"
            ],
            [
             0.8,
             "#7fbc41"
            ],
            [
             0.9,
             "#4d9221"
            ],
            [
             1,
             "#276419"
            ]
           ],
           "sequential": [
            [
             0,
             "#0d0887"
            ],
            [
             0.1111111111111111,
             "#46039f"
            ],
            [
             0.2222222222222222,
             "#7201a8"
            ],
            [
             0.3333333333333333,
             "#9c179e"
            ],
            [
             0.4444444444444444,
             "#bd3786"
            ],
            [
             0.5555555555555556,
             "#d8576b"
            ],
            [
             0.6666666666666666,
             "#ed7953"
            ],
            [
             0.7777777777777778,
             "#fb9f3a"
            ],
            [
             0.8888888888888888,
             "#fdca26"
            ],
            [
             1,
             "#f0f921"
            ]
           ],
           "sequentialminus": [
            [
             0,
             "#0d0887"
            ],
            [
             0.1111111111111111,
             "#46039f"
            ],
            [
             0.2222222222222222,
             "#7201a8"
            ],
            [
             0.3333333333333333,
             "#9c179e"
            ],
            [
             0.4444444444444444,
             "#bd3786"
            ],
            [
             0.5555555555555556,
             "#d8576b"
            ],
            [
             0.6666666666666666,
             "#ed7953"
            ],
            [
             0.7777777777777778,
             "#fb9f3a"
            ],
            [
             0.8888888888888888,
             "#fdca26"
            ],
            [
             1,
             "#f0f921"
            ]
           ]
          },
          "colorway": [
           "#636efa",
           "#EF553B",
           "#00cc96",
           "#ab63fa",
           "#FFA15A",
           "#19d3f3",
           "#FF6692",
           "#B6E880",
           "#FF97FF",
           "#FECB52"
          ],
          "font": {
           "color": "#f2f5fa"
          },
          "geo": {
           "bgcolor": "rgb(17,17,17)",
           "lakecolor": "rgb(17,17,17)",
           "landcolor": "rgb(17,17,17)",
           "showlakes": true,
           "showland": true,
           "subunitcolor": "#506784"
          },
          "hoverlabel": {
           "align": "left"
          },
          "hovermode": "closest",
          "mapbox": {
           "style": "dark"
          },
          "paper_bgcolor": "rgb(17,17,17)",
          "plot_bgcolor": "rgb(17,17,17)",
          "polar": {
           "angularaxis": {
            "gridcolor": "#506784",
            "linecolor": "#506784",
            "ticks": ""
           },
           "bgcolor": "rgb(17,17,17)",
           "radialaxis": {
            "gridcolor": "#506784",
            "linecolor": "#506784",
            "ticks": ""
           }
          },
          "scene": {
           "xaxis": {
            "backgroundcolor": "rgb(17,17,17)",
            "gridcolor": "#506784",
            "gridwidth": 2,
            "linecolor": "#506784",
            "showbackground": true,
            "ticks": "",
            "zerolinecolor": "#C8D4E3"
           },
           "yaxis": {
            "backgroundcolor": "rgb(17,17,17)",
            "gridcolor": "#506784",
            "gridwidth": 2,
            "linecolor": "#506784",
            "showbackground": true,
            "ticks": "",
            "zerolinecolor": "#C8D4E3"
           },
           "zaxis": {
            "backgroundcolor": "rgb(17,17,17)",
            "gridcolor": "#506784",
            "gridwidth": 2,
            "linecolor": "#506784",
            "showbackground": true,
            "ticks": "",
            "zerolinecolor": "#C8D4E3"
           }
          },
          "shapedefaults": {
           "line": {
            "color": "#f2f5fa"
           }
          },
          "sliderdefaults": {
           "bgcolor": "#C8D4E3",
           "bordercolor": "rgb(17,17,17)",
           "borderwidth": 1,
           "tickwidth": 0
          },
          "ternary": {
           "aaxis": {
            "gridcolor": "#506784",
            "linecolor": "#506784",
            "ticks": ""
           },
           "baxis": {
            "gridcolor": "#506784",
            "linecolor": "#506784",
            "ticks": ""
           },
           "bgcolor": "rgb(17,17,17)",
           "caxis": {
            "gridcolor": "#506784",
            "linecolor": "#506784",
            "ticks": ""
           }
          },
          "title": {
           "x": 0.05
          },
          "updatemenudefaults": {
           "bgcolor": "#506784",
           "borderwidth": 0
          },
          "xaxis": {
           "automargin": true,
           "gridcolor": "#283442",
           "linecolor": "#506784",
           "ticks": "",
           "title": {
            "standoff": 15
           },
           "zerolinecolor": "#283442",
           "zerolinewidth": 2
          },
          "yaxis": {
           "automargin": true,
           "gridcolor": "#283442",
           "linecolor": "#506784",
           "ticks": "",
           "title": {
            "standoff": 15
           },
           "zerolinecolor": "#283442",
           "zerolinewidth": 2
          }
         }
        },
        "title": {
         "text": "Average Net Lines"
        },
        "xaxis": {
         "anchor": "y",
         "domain": [
          0,
          1
         ],
         "title": {
          "text": "avg_net"
         }
        },
        "yaxis": {
         "anchor": "x",
         "domain": [
          0,
          1
         ],
         "title": {
          "text": "count"
         }
        }
       }
      }
     },
     "metadata": {},
     "output_type": "display_data"
    }
   ],
   "source": [
    "# Histogram of lines of code\n",
    "fig = px.histogram(df_grouped,\n",
    "                   x=\"avg_net\",\n",
    "                   color=df_grouped.index.get_level_values(1),\n",
    "                   title='Average Net Lines',\n",
    "                   labels={'lines': 'Lines of Code'},\n",
    "                   template=template,\n",
    "                   color_discrete_sequence=theme)\n",
    "fig.show()"
   ]
  },
  {
   "cell_type": "code",
   "execution_count": 15,
   "metadata": {
    "collapsed": false,
    "pycharm": {
     "name": "#%%\n"
    }
   },
   "outputs": [
    {
     "data": {
      "application/vnd.plotly.v1+json": {
       "config": {
        "plotlyServerURL": "https://plot.ly"
       },
       "data": [
        {
         "alignmentgroup": "True",
         "boxpoints": "suspectedoutliers",
         "hovertemplate": "color=OpenRA.Game<br>avg_net=%{x}<extra></extra>",
         "jitter": 1,
         "legendgroup": "OpenRA.Game",
         "marker": {
          "color": "rgb(95, 70, 144)"
         },
         "name": "OpenRA.Game",
         "notched": false,
         "offsetgroup": "OpenRA.Game",
         "orientation": "h",
         "quartilemethod": "linear",
         "showlegend": true,
         "type": "box",
         "x": [
          21.125,
          59.92857142857143,
          133.6139534883721,
          32.92857142857143,
          64.67857142857143,
          66.88888888888889,
          -70.33333333333333,
          144,
          1330.9444444444443,
          -25.875,
          1145.2857142857142,
          6.115384615384615,
          366.40579710144925,
          27.785714285714285,
          31.555555555555557,
          -6.5,
          86.68181818181819,
          -11.122448979591837,
          -16.75862068965517,
          66,
          -33.73809523809524,
          8.75,
          29.86571879936809,
          31.37142857142857,
          337.0135135135135,
          -82.6923076923077,
          16.78125,
          5.2272727272727275,
          242.5855855855856,
          37.61538461538461,
          447,
          42.38709677419355,
          518.8,
          -2.357142857142857,
          -18.31578947368421,
          754.3548387096774,
          517.9782608695652,
          20.53846153846154,
          -28.75,
          -0.85,
          -5.8,
          2.090909090909091,
          52.73809523809524,
          -17.565217391304348,
          35.65909090909091,
          74.83333333333333,
          -25.88888888888889,
          321.7073170731707,
          442.22222222222223,
          413.12280701754383,
          548.2888888888889,
          292.6463414634146,
          1.6545454545454545,
          39.793103448275865,
          322.37974683544303,
          27,
          55.23076923076923,
          25.692307692307693,
          346.8333333333333,
          35.904761904761905,
          20.333333333333332,
          76,
          151.1306818181818,
          114.8171206225681,
          17,
          -56.90909090909091,
          21,
          113.46153846153847,
          25.842105263157894,
          12.375,
          71.21428571428571,
          19.823529411764707,
          39.42857142857143,
          -37.04545454545455,
          -56.84615384615385,
          146.75,
          112.75,
          24.25925925925926,
          0.3235294117647059,
          38.583333333333336,
          34.15625,
          11.6,
          38.458333333333336,
          19.742616033755276,
          -2.973684210526316,
          -5.833333333333333,
          70.83333333333333,
          74.47058823529412,
          2.6666666666666665,
          55.73684210526316,
          -130.83333333333334,
          38.93333333333333,
          69,
          41.07142857142857,
          9.527272727272727,
          6.380116959064328,
          323.84722222222223,
          -17,
          79.81818181818181,
          -15.244444444444444,
          85.2,
          48.291666666666664,
          6,
          335.72115384615387,
          621.175,
          228.5321100917431,
          8.563636363636364,
          17.307692307692307,
          24.822033898305083,
          6.714285714285714,
          98,
          150.38728323699422,
          12,
          1041.625,
          185.0808823529412,
          200.22222222222223,
          172.9375,
          77.23076923076923,
          93.25,
          40.1764705882353,
          199,
          -101.44444444444444,
          -10,
          -70.66666666666667,
          14.666666666666666,
          39.333333333333336,
          41.916666666666664,
          19.5,
          -107.125,
          73.63636363636364,
          -7.25,
          -7.1875,
          43.3,
          -66.8,
          -135.25,
          60.625,
          -41.81818181818182,
          47.22222222222222,
          8.071428571428571,
          -34.142857142857146,
          30.90909090909091,
          6.333333333333333,
          38.666666666666664,
          -64.07142857142857,
          -0.9523809523809523,
          29.430555555555557,
          118.82352941176471,
          62.1578947368421,
          131.13333333333333,
          119.11764705882354,
          167.83333333333334,
          200.75,
          65.9,
          72.82608695652173,
          -63.52,
          -169.6,
          83,
          -63.857142857142854,
          4.489189189189189,
          72.27777777777777,
          4.045714285714285,
          15.275862068965518,
          81.33333333333333,
          31.565217391304348,
          16.72222222222222,
          147.66666666666666,
          12.75,
          33,
          -2.5714285714285716,
          21,
          21,
          61.4,
          24.88888888888889,
          82,
          809.0333333333333,
          97.18181818181819,
          63,
          14.5,
          19.043478260869566,
          443.44642857142856,
          -44.57142857142857,
          399.52542372881356,
          27,
          34.5,
          1.3061224489795917,
          42.529411764705884,
          30.6,
          -22.916666666666668,
          19.846153846153847,
          68.44902386117137,
          30.25,
          -83.85714285714286,
          -71.57142857142857,
          -95.16666666666667,
          40,
          -12.208333333333334,
          -23.565217391304348,
          44.96153846153846,
          17.208333333333332,
          39.58620689655172,
          8,
          1.6184971098265897,
          -65.23913043478261,
          91.73550724637681,
          166.57142857142858,
          4.4
         ],
         "x0": " ",
         "xaxis": "x",
         "y0": " ",
         "yaxis": "y"
        },
        {
         "alignmentgroup": "True",
         "boxpoints": "suspectedoutliers",
         "hovertemplate": "color=OpenRA.Launcher<br>avg_net=%{x}<extra></extra>",
         "jitter": 1,
         "legendgroup": "OpenRA.Launcher",
         "marker": {
          "color": "rgb(29, 105, 150)"
         },
         "name": "OpenRA.Launcher",
         "notched": false,
         "offsetgroup": "OpenRA.Launcher",
         "orientation": "h",
         "quartilemethod": "linear",
         "showlegend": true,
         "type": "box",
         "x": [
          726.5714285714286
         ],
         "x0": " ",
         "xaxis": "x",
         "y0": " ",
         "yaxis": "y"
        },
        {
         "alignmentgroup": "True",
         "boxpoints": "suspectedoutliers",
         "hovertemplate": "color=OpenRA.Mods.Cnc<br>avg_net=%{x}<extra></extra>",
         "jitter": 1,
         "legendgroup": "OpenRA.Mods.Cnc",
         "marker": {
          "color": "rgb(56, 166, 165)"
         },
         "name": "OpenRA.Mods.Cnc",
         "notched": false,
         "offsetgroup": "OpenRA.Mods.Cnc",
         "orientation": "h",
         "quartilemethod": "linear",
         "showlegend": true,
         "type": "box",
         "x": [
          22.6875,
          -12.2,
          -26.7,
          26.473684210526315,
          -32.5,
          -3.3076923076923075,
          -98.28571428571429,
          -186.66666666666666,
          11.558441558441558,
          6.666666666666667,
          -23.666666666666668,
          -16,
          -86.625,
          16,
          2.875,
          0.3333333333333333,
          -0.7777777777777778,
          -6.666666666666667,
          -6.666666666666667,
          -14.666666666666666,
          1.3333333333333333,
          -116.8,
          19.142857142857142,
          210,
          1.3333333333333333,
          2,
          1.2857142857142858,
          -98.57142857142857,
          69,
          -101.14285714285714,
          -52.888888888888886,
          -140.125,
          24.428571428571427,
          -62.25,
          -7.538461538461538,
          4.933333333333334,
          33.75,
          -40.111111111111114,
          136.66666666666666,
          -15.5,
          12.2,
          -74.125,
          -2.4,
          -92.4,
          -85.14285714285714,
          -85.14285714285714,
          -18.363636363636363,
          8.833333333333334,
          8.481481481481481,
          55.5,
          -68.57142857142857,
          28.476190476190474,
          -13.216216216216216,
          -79.4,
          59.25,
          -22.307692307692307,
          -11.4,
          27,
          67.55555555555556,
          -23.666666666666668,
          4.463414634146342,
          30.066666666666666,
          27.80392156862745,
          32.107142857142854,
          10.666666666666666,
          24.976190476190474,
          -122.14285714285714,
          26.833333333333332,
          44.8,
          -88.85714285714286,
          0,
          -64.08333333333333,
          77.88,
          -63.5,
          -110.22222222222223,
          -195.25,
          -58.38461538461539,
          -113.66666666666667,
          -54,
          76,
          106
         ],
         "x0": " ",
         "xaxis": "x",
         "y0": " ",
         "yaxis": "y"
        },
        {
         "alignmentgroup": "True",
         "boxpoints": "suspectedoutliers",
         "hovertemplate": "color=OpenRA.Mods.Common<br>avg_net=%{x}<extra></extra>",
         "jitter": 1,
         "legendgroup": "OpenRA.Mods.Common",
         "marker": {
          "color": "rgb(15, 133, 84)"
         },
         "name": "OpenRA.Mods.Common",
         "notched": false,
         "offsetgroup": "OpenRA.Mods.Common",
         "orientation": "h",
         "quartilemethod": "linear",
         "showlegend": true,
         "type": "box",
         "x": [
          23.2,
          33.53333333333333,
          25.26829268292683,
          52.42424242424242,
          -4.6,
          43.857142857142854,
          -4.666666666666667,
          14.6,
          78.36363636363636,
          28.209302325581394,
          5.153846153846154,
          32.91428571428571,
          38.42857142857143,
          35.88,
          73.38095238095238,
          15.82857142857143,
          76.28571428571429,
          101.33333333333333,
          42.53333333333333,
          -4.7,
          28.285714285714285,
          45.05,
          100.18181818181819,
          55.55,
          24.5,
          23.96,
          48.65714285714286,
          65.4,
          27.257142857142856,
          14.65,
          27,
          48,
          137,
          -58.36363636363637,
          81.46666666666667,
          42.22222222222222,
          13.944444444444445,
          54.53333333333333,
          81.93333333333334,
          10,
          152.12,
          109.38888888888889,
          135.82142857142858,
          132.53333333333333,
          157.42857142857142,
          40.34782608695652,
          109.55555555555556,
          -4.181818181818182,
          44.72727272727273,
          27.142857142857142,
          31.033333333333335,
          12.545454545454545,
          -32,
          -19.166666666666668,
          6.4,
          -17.25,
          5,
          -8.285714285714286,
          -1.3636363636363635,
          -34.142857142857146,
          -9.625,
          123,
          11.727272727272727,
          -129.66666666666666,
          52.93333333333333,
          57,
          -64.5,
          37.61538461538461,
          9.546875,
          -54.1,
          -39,
          -20.166666666666668,
          -64.5,
          74,
          8.48,
          -64.5,
          -20.75,
          -67.5,
          -87.625,
          -100.14285714285714,
          100.625,
          -111.5,
          29.416666666666668,
          -53.5,
          -28.714285714285715,
          83.72222222222223,
          47.64705882352941,
          107.41666666666667,
          79.7,
          63.4,
          69.3913043478261,
          42.07142857142857,
          -7.636363636363637,
          -61.785714285714285,
          16.642857142857142,
          5.9375,
          1.0909090909090908,
          83.4,
          50.666666666666664,
          28.9,
          45.27272727272727,
          18.692307692307693,
          35.11764705882353,
          -27,
          -2.3333333333333335,
          37,
          55.94117647058823,
          27.142857142857142,
          -9.666666666666666,
          46.26315789473684,
          16.333333333333332,
          -7.25,
          45.642857142857146,
          0.6363636363636364,
          50.333333333333336,
          57.9375,
          -0.2727272727272727,
          43.5,
          63.55555555555556,
          37.5,
          47.89473684210526,
          67.55555555555556,
          28.930232558139537,
          37.74074074074074,
          -9.8,
          -18.5,
          47.6875,
          21.8,
          73.94117647058823,
          49.31578947368421,
          68.82352941176471,
          -48.166666666666664,
          49.8,
          26.944444444444443,
          16.625,
          16.786666666666665,
          57.65217391304348,
          34.17391304347826,
          24.666666666666668,
          127.53846153846153,
          114.42857142857143,
          30.634146341463413,
          36.48148148148148,
          82.61538461538461,
          -7.46875,
          10.703703703703704,
          4.16,
          -6.791666666666667,
          3.6875,
          7.1454545454545455,
          -25.857142857142858,
          3.8333333333333335,
          21.88235294117647,
          -16.055555555555557,
          90.13333333333334,
          43.41463414634146,
          21.423728813559322,
          17.96969696969697,
          29.90909090909091,
          12.884615384615385,
          51.46153846153846,
          -107.33333333333333,
          -10.55,
          42.61904761904762,
          -73.57142857142857,
          -74.6,
          -74.22222222222223,
          -112.33333333333333,
          -126,
          41.61666666666667,
          -10.75,
          29.25,
          -165.16666666666666,
          24.857142857142858,
          68.92,
          -0.1,
          14.54320987654321,
          50.5,
          39.265306122448976,
          -5,
          -50.785714285714285,
          39.166666666666664,
          24.420454545454547,
          20.333333333333332,
          -18.916666666666668,
          29.34375,
          55.46666666666667,
          30.875,
          -7.111111111111111,
          12.5,
          1.7391304347826086,
          -34.666666666666664,
          71.55,
          31.558139534883722,
          -15.863636363636363,
          -45.1,
          37.674418604651166,
          49.38461538461539,
          23,
          72.22222222222223,
          26.92063492063492,
          19.674418604651162,
          6.666666666666667,
          33.869565217391305,
          49.0625,
          72.92857142857143,
          29,
          40.714285714285715,
          66.1304347826087,
          32.68421052631579,
          50.65384615384615,
          47.1,
          45.6,
          68.57894736842105,
          -23.5,
          124.28571428571429,
          -17.647058823529413,
          160.25,
          16.632653061224488,
          -10.235294117647058,
          21.166666666666668,
          15.4375,
          -61.142857142857146,
          37.291666666666664,
          66.30555555555556,
          95.3,
          47.93577981651376,
          35.351351351351354,
          -25.043478260869566,
          94.81818181818181,
          14.711538461538462,
          4.571428571428571,
          105.1,
          31.037037037037038,
          150.66666666666666,
          -39.5,
          18.176470588235293,
          30.17241379310345,
          8,
          9.5,
          29.666666666666668,
          96.18181818181819,
          21.5,
          78.6086956521739,
          45.285714285714285,
          38.666666666666664,
          68.27272727272727,
          -6.5,
          28.181818181818183,
          86.66666666666667,
          28.59016393442623,
          57.57142857142857,
          67.96666666666667,
          91.53846153846153,
          17.2,
          10.866666666666667,
          92.61538461538461,
          91.14285714285714,
          -78.07692307692308,
          61.166666666666664,
          59.4,
          50.5,
          104.41935483870968,
          23.555555555555557,
          -9.5,
          18.333333333333332,
          9.75,
          -19.583333333333332,
          10.8,
          -11.5,
          29.357142857142858,
          69.45454545454545,
          40.666666666666664,
          -214.25,
          29.09090909090909,
          66.6,
          57.041666666666664,
          71.88888888888889,
          45.541666666666664,
          5.722222222222222,
          44.375,
          161.66666666666666,
          55.32142857142857,
          54.28,
          23.64,
          -63.07692307692308,
          57.666666666666664,
          40,
          71.72,
          -99,
          15,
          23.421875,
          6.666666666666667,
          93.27272727272727,
          48.10526315789474,
          37.08,
          19.1484375,
          -132.1,
          -50.32142857142857,
          56.6,
          -130.6,
          35.75,
          -42.22222222222222,
          7.142857142857143,
          24.82857142857143,
          32.333333333333336,
          -124.85714285714286,
          -66.84615384615384,
          95.54545454545455,
          12.588235294117647,
          7.774193548387097,
          -59.375,
          -42.07142857142857,
          7.212121212121212,
          -78.75,
          -75.45454545454545,
          35.05,
          37.28333333333333,
          1.875,
          -47.3,
          -35.72727272727273,
          -64,
          -78.28571428571429,
          -78.28571428571429,
          -78.28571428571429,
          -73.2,
          -56.57142857142857,
          -108.83333333333333,
          30.307692307692307,
          -1.4090909090909092,
          6.833333333333333,
          -75.38461538461539,
          -108.66666666666667,
          13.5,
          11.625,
          23.895522388059703,
          35.19047619047619,
          40.46875,
          34.25,
          56.53846153846154,
          37.333333333333336,
          -1.2666666666666666,
          51.208333333333336,
          9.791666666666666,
          14.333333333333334,
          16.069767441860463,
          3,
          6.638888888888889,
          10,
          80.05882352941177,
          148.3,
          27,
          39.68421052631579,
          113.78571428571429,
          114.88888888888889,
          161.83333333333334,
          -0.2647058823529412,
          53.36842105263158,
          17.28125,
          242.76470588235293,
          75.28571428571429,
          30.333333333333332,
          113,
          116.76470588235294,
          102.46153846153847,
          75.55555555555556,
          -62.6,
          85.92857142857143,
          169.89473684210526,
          102.1,
          91.27272727272727,
          99.4,
          45.375,
          61.46153846153846,
          85.33333333333333,
          -62.5,
          149.2,
          122.91176470588235,
          150.2,
          118.22222222222223,
          117.6923076923077,
          20.985507246376812,
          35.724137931034484,
          64.91666666666667,
          61.583333333333336,
          113.22222222222223,
          37.72727272727273,
          84.35,
          22.666666666666668,
          105.7,
          31.571428571428573,
          107,
          130.16666666666666,
          213.15384615384616,
          94.8,
          34.5,
          38.486486486486484,
          36.4,
          47.535714285714285,
          29.666666666666668,
          75.38888888888889,
          -54.666666666666664,
          24.753846153846155,
          -43.705882352941174,
          69.66666666666667,
          27.673076923076923,
          69.66666666666667,
          61.1875
         ],
         "x0": " ",
         "xaxis": "x",
         "y0": " ",
         "yaxis": "y"
        },
        {
         "alignmentgroup": "True",
         "boxpoints": "suspectedoutliers",
         "hovertemplate": "color=OpenRA.Mods.D2k<br>avg_net=%{x}<extra></extra>",
         "jitter": 1,
         "legendgroup": "OpenRA.Mods.D2k",
         "marker": {
          "color": "rgb(115, 175, 72)"
         },
         "name": "OpenRA.Mods.D2k",
         "notched": false,
         "offsetgroup": "OpenRA.Mods.D2k",
         "orientation": "h",
         "quartilemethod": "linear",
         "showlegend": true,
         "type": "box",
         "x": [
          41.88636363636363,
          74.41666666666667,
          -122.88888888888889,
          19.45,
          60.515151515151516,
          -9.076923076923077,
          23.142857142857142,
          24.166666666666668,
          65.27777777777777,
          47.61904761904762,
          22
         ],
         "x0": " ",
         "xaxis": "x",
         "y0": " ",
         "yaxis": "y"
        },
        {
         "alignmentgroup": "True",
         "boxpoints": "suspectedoutliers",
         "hovertemplate": "color=OpenRA.Platforms.Default<br>avg_net=%{x}<extra></extra>",
         "jitter": 1,
         "legendgroup": "OpenRA.Platforms.Default",
         "marker": {
          "color": "rgb(237, 173, 8)"
         },
         "name": "OpenRA.Platforms.Default",
         "notched": false,
         "offsetgroup": "OpenRA.Platforms.Default",
         "orientation": "h",
         "quartilemethod": "linear",
         "showlegend": true,
         "type": "box",
         "x": [
          80.22727272727273,
          -95.83333333333333,
          120.16666666666667,
          38,
          310.2,
          95.45454545454545,
          -6,
          32.58974358974359,
          24.708333333333332,
          82.57142857142857,
          12.933333333333334,
          16.70212765957447,
          60.36363636363637,
          47.111111111111114,
          150.91666666666666,
          36.111111111111114,
          110.0909090909091
         ],
         "x0": " ",
         "xaxis": "x",
         "y0": " ",
         "yaxis": "y"
        },
        {
         "alignmentgroup": "True",
         "boxpoints": "suspectedoutliers",
         "hovertemplate": "color=OpenRA.Server<br>avg_net=%{x}<extra></extra>",
         "jitter": 1,
         "legendgroup": "OpenRA.Server",
         "marker": {
          "color": "rgb(225, 124, 5)"
         },
         "name": "OpenRA.Server",
         "notched": false,
         "offsetgroup": "OpenRA.Server",
         "orientation": "h",
         "quartilemethod": "linear",
         "showlegend": true,
         "type": "box",
         "x": [
          27.571428571428573
         ],
         "x0": " ",
         "xaxis": "x",
         "y0": " ",
         "yaxis": "y"
        },
        {
         "alignmentgroup": "True",
         "boxpoints": "suspectedoutliers",
         "hovertemplate": "color=OpenRA.Test<br>avg_net=%{x}<extra></extra>",
         "jitter": 1,
         "legendgroup": "OpenRA.Test",
         "marker": {
          "color": "rgb(204, 80, 62)"
         },
         "name": "OpenRA.Test",
         "notched": false,
         "offsetgroup": "OpenRA.Test",
         "orientation": "h",
         "quartilemethod": "linear",
         "showlegend": true,
         "type": "box",
         "x": [
          116.77777777777777,
          482.25,
          -38.857142857142854,
          84.58333333333333,
          447.44444444444446,
          886,
          877.9285714285714,
          8.5,
          153.7,
          123,
          -18.714285714285715,
          145.2
         ],
         "x0": " ",
         "xaxis": "x",
         "y0": " ",
         "yaxis": "y"
        },
        {
         "alignmentgroup": "True",
         "boxpoints": "suspectedoutliers",
         "hovertemplate": "color=OpenRA.Utility<br>avg_net=%{x}<extra></extra>",
         "jitter": 1,
         "legendgroup": "OpenRA.Utility",
         "marker": {
          "color": "rgb(148, 52, 110)"
         },
         "name": "OpenRA.Utility",
         "notched": false,
         "offsetgroup": "OpenRA.Utility",
         "orientation": "h",
         "quartilemethod": "linear",
         "showlegend": true,
         "type": "box",
         "x": [
          -19.389705882352942
         ],
         "x0": " ",
         "xaxis": "x",
         "y0": " ",
         "yaxis": "y"
        },
        {
         "alignmentgroup": "True",
         "boxpoints": "suspectedoutliers",
         "hovertemplate": "color=OpenRA.WindowsLauncher<br>avg_net=%{x}<extra></extra>",
         "jitter": 1,
         "legendgroup": "OpenRA.WindowsLauncher",
         "marker": {
          "color": "rgb(111, 64, 112)"
         },
         "name": "OpenRA.WindowsLauncher",
         "notched": false,
         "offsetgroup": "OpenRA.WindowsLauncher",
         "orientation": "h",
         "quartilemethod": "linear",
         "showlegend": true,
         "type": "box",
         "x": [
          13.333333333333334
         ],
         "x0": " ",
         "xaxis": "x",
         "y0": " ",
         "yaxis": "y"
        }
       ],
       "layout": {
        "boxmode": "group",
        "height": 275,
        "legend": {
         "title": {
          "text": "color"
         },
         "tracegroupgap": 0
        },
        "template": {
         "data": {
          "bar": [
           {
            "error_x": {
             "color": "#f2f5fa"
            },
            "error_y": {
             "color": "#f2f5fa"
            },
            "marker": {
             "line": {
              "color": "rgb(17,17,17)",
              "width": 0.5
             },
             "pattern": {
              "fillmode": "overlay",
              "size": 10,
              "solidity": 0.2
             }
            },
            "type": "bar"
           }
          ],
          "barpolar": [
           {
            "marker": {
             "line": {
              "color": "rgb(17,17,17)",
              "width": 0.5
             },
             "pattern": {
              "fillmode": "overlay",
              "size": 10,
              "solidity": 0.2
             }
            },
            "type": "barpolar"
           }
          ],
          "carpet": [
           {
            "aaxis": {
             "endlinecolor": "#A2B1C6",
             "gridcolor": "#506784",
             "linecolor": "#506784",
             "minorgridcolor": "#506784",
             "startlinecolor": "#A2B1C6"
            },
            "baxis": {
             "endlinecolor": "#A2B1C6",
             "gridcolor": "#506784",
             "linecolor": "#506784",
             "minorgridcolor": "#506784",
             "startlinecolor": "#A2B1C6"
            },
            "type": "carpet"
           }
          ],
          "choropleth": [
           {
            "colorbar": {
             "outlinewidth": 0,
             "ticks": ""
            },
            "type": "choropleth"
           }
          ],
          "contour": [
           {
            "colorbar": {
             "outlinewidth": 0,
             "ticks": ""
            },
            "colorscale": [
             [
              0,
              "#0d0887"
             ],
             [
              0.1111111111111111,
              "#46039f"
             ],
             [
              0.2222222222222222,
              "#7201a8"
             ],
             [
              0.3333333333333333,
              "#9c179e"
             ],
             [
              0.4444444444444444,
              "#bd3786"
             ],
             [
              0.5555555555555556,
              "#d8576b"
             ],
             [
              0.6666666666666666,
              "#ed7953"
             ],
             [
              0.7777777777777778,
              "#fb9f3a"
             ],
             [
              0.8888888888888888,
              "#fdca26"
             ],
             [
              1,
              "#f0f921"
             ]
            ],
            "type": "contour"
           }
          ],
          "contourcarpet": [
           {
            "colorbar": {
             "outlinewidth": 0,
             "ticks": ""
            },
            "type": "contourcarpet"
           }
          ],
          "heatmap": [
           {
            "colorbar": {
             "outlinewidth": 0,
             "ticks": ""
            },
            "colorscale": [
             [
              0,
              "#0d0887"
             ],
             [
              0.1111111111111111,
              "#46039f"
             ],
             [
              0.2222222222222222,
              "#7201a8"
             ],
             [
              0.3333333333333333,
              "#9c179e"
             ],
             [
              0.4444444444444444,
              "#bd3786"
             ],
             [
              0.5555555555555556,
              "#d8576b"
             ],
             [
              0.6666666666666666,
              "#ed7953"
             ],
             [
              0.7777777777777778,
              "#fb9f3a"
             ],
             [
              0.8888888888888888,
              "#fdca26"
             ],
             [
              1,
              "#f0f921"
             ]
            ],
            "type": "heatmap"
           }
          ],
          "heatmapgl": [
           {
            "colorbar": {
             "outlinewidth": 0,
             "ticks": ""
            },
            "colorscale": [
             [
              0,
              "#0d0887"
             ],
             [
              0.1111111111111111,
              "#46039f"
             ],
             [
              0.2222222222222222,
              "#7201a8"
             ],
             [
              0.3333333333333333,
              "#9c179e"
             ],
             [
              0.4444444444444444,
              "#bd3786"
             ],
             [
              0.5555555555555556,
              "#d8576b"
             ],
             [
              0.6666666666666666,
              "#ed7953"
             ],
             [
              0.7777777777777778,
              "#fb9f3a"
             ],
             [
              0.8888888888888888,
              "#fdca26"
             ],
             [
              1,
              "#f0f921"
             ]
            ],
            "type": "heatmapgl"
           }
          ],
          "histogram": [
           {
            "marker": {
             "pattern": {
              "fillmode": "overlay",
              "size": 10,
              "solidity": 0.2
             }
            },
            "type": "histogram"
           }
          ],
          "histogram2d": [
           {
            "colorbar": {
             "outlinewidth": 0,
             "ticks": ""
            },
            "colorscale": [
             [
              0,
              "#0d0887"
             ],
             [
              0.1111111111111111,
              "#46039f"
             ],
             [
              0.2222222222222222,
              "#7201a8"
             ],
             [
              0.3333333333333333,
              "#9c179e"
             ],
             [
              0.4444444444444444,
              "#bd3786"
             ],
             [
              0.5555555555555556,
              "#d8576b"
             ],
             [
              0.6666666666666666,
              "#ed7953"
             ],
             [
              0.7777777777777778,
              "#fb9f3a"
             ],
             [
              0.8888888888888888,
              "#fdca26"
             ],
             [
              1,
              "#f0f921"
             ]
            ],
            "type": "histogram2d"
           }
          ],
          "histogram2dcontour": [
           {
            "colorbar": {
             "outlinewidth": 0,
             "ticks": ""
            },
            "colorscale": [
             [
              0,
              "#0d0887"
             ],
             [
              0.1111111111111111,
              "#46039f"
             ],
             [
              0.2222222222222222,
              "#7201a8"
             ],
             [
              0.3333333333333333,
              "#9c179e"
             ],
             [
              0.4444444444444444,
              "#bd3786"
             ],
             [
              0.5555555555555556,
              "#d8576b"
             ],
             [
              0.6666666666666666,
              "#ed7953"
             ],
             [
              0.7777777777777778,
              "#fb9f3a"
             ],
             [
              0.8888888888888888,
              "#fdca26"
             ],
             [
              1,
              "#f0f921"
             ]
            ],
            "type": "histogram2dcontour"
           }
          ],
          "mesh3d": [
           {
            "colorbar": {
             "outlinewidth": 0,
             "ticks": ""
            },
            "type": "mesh3d"
           }
          ],
          "parcoords": [
           {
            "line": {
             "colorbar": {
              "outlinewidth": 0,
              "ticks": ""
             }
            },
            "type": "parcoords"
           }
          ],
          "pie": [
           {
            "automargin": true,
            "type": "pie"
           }
          ],
          "scatter": [
           {
            "marker": {
             "line": {
              "color": "#283442"
             }
            },
            "type": "scatter"
           }
          ],
          "scatter3d": [
           {
            "line": {
             "colorbar": {
              "outlinewidth": 0,
              "ticks": ""
             }
            },
            "marker": {
             "colorbar": {
              "outlinewidth": 0,
              "ticks": ""
             }
            },
            "type": "scatter3d"
           }
          ],
          "scattercarpet": [
           {
            "marker": {
             "colorbar": {
              "outlinewidth": 0,
              "ticks": ""
             }
            },
            "type": "scattercarpet"
           }
          ],
          "scattergeo": [
           {
            "marker": {
             "colorbar": {
              "outlinewidth": 0,
              "ticks": ""
             }
            },
            "type": "scattergeo"
           }
          ],
          "scattergl": [
           {
            "marker": {
             "line": {
              "color": "#283442"
             }
            },
            "type": "scattergl"
           }
          ],
          "scattermapbox": [
           {
            "marker": {
             "colorbar": {
              "outlinewidth": 0,
              "ticks": ""
             }
            },
            "type": "scattermapbox"
           }
          ],
          "scatterpolar": [
           {
            "marker": {
             "colorbar": {
              "outlinewidth": 0,
              "ticks": ""
             }
            },
            "type": "scatterpolar"
           }
          ],
          "scatterpolargl": [
           {
            "marker": {
             "colorbar": {
              "outlinewidth": 0,
              "ticks": ""
             }
            },
            "type": "scatterpolargl"
           }
          ],
          "scatterternary": [
           {
            "marker": {
             "colorbar": {
              "outlinewidth": 0,
              "ticks": ""
             }
            },
            "type": "scatterternary"
           }
          ],
          "surface": [
           {
            "colorbar": {
             "outlinewidth": 0,
             "ticks": ""
            },
            "colorscale": [
             [
              0,
              "#0d0887"
             ],
             [
              0.1111111111111111,
              "#46039f"
             ],
             [
              0.2222222222222222,
              "#7201a8"
             ],
             [
              0.3333333333333333,
              "#9c179e"
             ],
             [
              0.4444444444444444,
              "#bd3786"
             ],
             [
              0.5555555555555556,
              "#d8576b"
             ],
             [
              0.6666666666666666,
              "#ed7953"
             ],
             [
              0.7777777777777778,
              "#fb9f3a"
             ],
             [
              0.8888888888888888,
              "#fdca26"
             ],
             [
              1,
              "#f0f921"
             ]
            ],
            "type": "surface"
           }
          ],
          "table": [
           {
            "cells": {
             "fill": {
              "color": "#506784"
             },
             "line": {
              "color": "rgb(17,17,17)"
             }
            },
            "header": {
             "fill": {
              "color": "#2a3f5f"
             },
             "line": {
              "color": "rgb(17,17,17)"
             }
            },
            "type": "table"
           }
          ]
         },
         "layout": {
          "annotationdefaults": {
           "arrowcolor": "#f2f5fa",
           "arrowhead": 0,
           "arrowwidth": 1
          },
          "autotypenumbers": "strict",
          "coloraxis": {
           "colorbar": {
            "outlinewidth": 0,
            "ticks": ""
           }
          },
          "colorscale": {
           "diverging": [
            [
             0,
             "#8e0152"
            ],
            [
             0.1,
             "#c51b7d"
            ],
            [
             0.2,
             "#de77ae"
            ],
            [
             0.3,
             "#f1b6da"
            ],
            [
             0.4,
             "#fde0ef"
            ],
            [
             0.5,
             "#f7f7f7"
            ],
            [
             0.6,
             "#e6f5d0"
            ],
            [
             0.7,
             "#b8e186"
            ],
            [
             0.8,
             "#7fbc41"
            ],
            [
             0.9,
             "#4d9221"
            ],
            [
             1,
             "#276419"
            ]
           ],
           "sequential": [
            [
             0,
             "#0d0887"
            ],
            [
             0.1111111111111111,
             "#46039f"
            ],
            [
             0.2222222222222222,
             "#7201a8"
            ],
            [
             0.3333333333333333,
             "#9c179e"
            ],
            [
             0.4444444444444444,
             "#bd3786"
            ],
            [
             0.5555555555555556,
             "#d8576b"
            ],
            [
             0.6666666666666666,
             "#ed7953"
            ],
            [
             0.7777777777777778,
             "#fb9f3a"
            ],
            [
             0.8888888888888888,
             "#fdca26"
            ],
            [
             1,
             "#f0f921"
            ]
           ],
           "sequentialminus": [
            [
             0,
             "#0d0887"
            ],
            [
             0.1111111111111111,
             "#46039f"
            ],
            [
             0.2222222222222222,
             "#7201a8"
            ],
            [
             0.3333333333333333,
             "#9c179e"
            ],
            [
             0.4444444444444444,
             "#bd3786"
            ],
            [
             0.5555555555555556,
             "#d8576b"
            ],
            [
             0.6666666666666666,
             "#ed7953"
            ],
            [
             0.7777777777777778,
             "#fb9f3a"
            ],
            [
             0.8888888888888888,
             "#fdca26"
            ],
            [
             1,
             "#f0f921"
            ]
           ]
          },
          "colorway": [
           "#636efa",
           "#EF553B",
           "#00cc96",
           "#ab63fa",
           "#FFA15A",
           "#19d3f3",
           "#FF6692",
           "#B6E880",
           "#FF97FF",
           "#FECB52"
          ],
          "font": {
           "color": "#f2f5fa"
          },
          "geo": {
           "bgcolor": "rgb(17,17,17)",
           "lakecolor": "rgb(17,17,17)",
           "landcolor": "rgb(17,17,17)",
           "showlakes": true,
           "showland": true,
           "subunitcolor": "#506784"
          },
          "hoverlabel": {
           "align": "left"
          },
          "hovermode": "closest",
          "mapbox": {
           "style": "dark"
          },
          "paper_bgcolor": "rgb(17,17,17)",
          "plot_bgcolor": "rgb(17,17,17)",
          "polar": {
           "angularaxis": {
            "gridcolor": "#506784",
            "linecolor": "#506784",
            "ticks": ""
           },
           "bgcolor": "rgb(17,17,17)",
           "radialaxis": {
            "gridcolor": "#506784",
            "linecolor": "#506784",
            "ticks": ""
           }
          },
          "scene": {
           "xaxis": {
            "backgroundcolor": "rgb(17,17,17)",
            "gridcolor": "#506784",
            "gridwidth": 2,
            "linecolor": "#506784",
            "showbackground": true,
            "ticks": "",
            "zerolinecolor": "#C8D4E3"
           },
           "yaxis": {
            "backgroundcolor": "rgb(17,17,17)",
            "gridcolor": "#506784",
            "gridwidth": 2,
            "linecolor": "#506784",
            "showbackground": true,
            "ticks": "",
            "zerolinecolor": "#C8D4E3"
           },
           "zaxis": {
            "backgroundcolor": "rgb(17,17,17)",
            "gridcolor": "#506784",
            "gridwidth": 2,
            "linecolor": "#506784",
            "showbackground": true,
            "ticks": "",
            "zerolinecolor": "#C8D4E3"
           }
          },
          "shapedefaults": {
           "line": {
            "color": "#f2f5fa"
           }
          },
          "sliderdefaults": {
           "bgcolor": "#C8D4E3",
           "bordercolor": "rgb(17,17,17)",
           "borderwidth": 1,
           "tickwidth": 0
          },
          "ternary": {
           "aaxis": {
            "gridcolor": "#506784",
            "linecolor": "#506784",
            "ticks": ""
           },
           "baxis": {
            "gridcolor": "#506784",
            "linecolor": "#506784",
            "ticks": ""
           },
           "bgcolor": "rgb(17,17,17)",
           "caxis": {
            "gridcolor": "#506784",
            "linecolor": "#506784",
            "ticks": ""
           }
          },
          "title": {
           "x": 0.05
          },
          "updatemenudefaults": {
           "bgcolor": "#506784",
           "borderwidth": 0
          },
          "xaxis": {
           "automargin": true,
           "gridcolor": "#283442",
           "linecolor": "#506784",
           "ticks": "",
           "title": {
            "standoff": 15
           },
           "zerolinecolor": "#283442",
           "zerolinewidth": 2
          },
          "yaxis": {
           "automargin": true,
           "gridcolor": "#283442",
           "linecolor": "#506784",
           "ticks": "",
           "title": {
            "standoff": 15
           },
           "zerolinecolor": "#283442",
           "zerolinewidth": 2
          }
         }
        },
        "title": {
         "text": "Distribution of Lines of Code"
        },
        "xaxis": {
         "anchor": "y",
         "domain": [
          0,
          1
         ],
         "title": {
          "text": "avg_net"
         }
        },
        "yaxis": {
         "anchor": "x",
         "domain": [
          0,
          1
         ]
        }
       }
      }
     },
     "metadata": {},
     "output_type": "display_data"
    }
   ],
   "source": [
    "# Overall box plot for all code\n",
    "fig = px.box(df_grouped,\n",
    "             title='Distribution of Lines of Code',\n",
    "             x='avg_net',\n",
    "             color=df_grouped.index.get_level_values(1),\n",
    "             height=275,\n",
    "             template=template,\n",
    "             color_discrete_sequence=theme,\n",
    "             #hover_data=['project','path','filename'],\n",
    "             labels={\n",
    "                 'project': 'Project',\n",
    "                 'lines': 'Lines of Code',\n",
    "             },\n",
    "             points='suspectedoutliers')\n",
    "fig.update_traces(quartilemethod='linear', jitter=1)\n",
    "fig.show()"
   ]
  },
  {
   "cell_type": "code",
   "execution_count": 16,
   "metadata": {
    "collapsed": false,
    "pycharm": {
     "name": "#%%\n"
    }
   },
   "outputs": [
    {
     "data": {
      "application/vnd.plotly.v1+json": {
       "config": {
        "plotlyServerURL": "https://plot.ly"
       },
       "data": [
        {
         "alignmentgroup": "True",
         "boxpoints": "suspectedoutliers",
         "hovertemplate": "color=OpenRA.Game<br>avg_net=%{x}<br>y=%{y}<extra></extra>",
         "jitter": 0.5,
         "legendgroup": "OpenRA.Game",
         "marker": {
          "color": "rgb(95, 70, 144)"
         },
         "name": "OpenRA.Game",
         "notched": false,
         "offsetgroup": "OpenRA.Game",
         "orientation": "h",
         "quartilemethod": "linear",
         "showlegend": true,
         "type": "box",
         "x": [
          21.125,
          59.92857142857143,
          133.6139534883721,
          32.92857142857143,
          64.67857142857143,
          66.88888888888889,
          -70.33333333333333,
          144,
          1330.9444444444443,
          -25.875,
          1145.2857142857142,
          6.115384615384615,
          366.40579710144925,
          27.785714285714285,
          31.555555555555557,
          -6.5,
          86.68181818181819,
          -11.122448979591837,
          -16.75862068965517,
          66,
          -33.73809523809524,
          8.75,
          29.86571879936809,
          31.37142857142857,
          337.0135135135135,
          -82.6923076923077,
          16.78125,
          5.2272727272727275,
          242.5855855855856,
          37.61538461538461,
          447,
          42.38709677419355,
          518.8,
          -2.357142857142857,
          -18.31578947368421,
          754.3548387096774,
          517.9782608695652,
          20.53846153846154,
          -28.75,
          -0.85,
          -5.8,
          2.090909090909091,
          52.73809523809524,
          -17.565217391304348,
          35.65909090909091,
          74.83333333333333,
          -25.88888888888889,
          321.7073170731707,
          442.22222222222223,
          413.12280701754383,
          548.2888888888889,
          292.6463414634146,
          1.6545454545454545,
          39.793103448275865,
          322.37974683544303,
          27,
          55.23076923076923,
          25.692307692307693,
          346.8333333333333,
          35.904761904761905,
          20.333333333333332,
          76,
          151.1306818181818,
          114.8171206225681,
          17,
          -56.90909090909091,
          21,
          113.46153846153847,
          25.842105263157894,
          12.375,
          71.21428571428571,
          19.823529411764707,
          39.42857142857143,
          -37.04545454545455,
          -56.84615384615385,
          146.75,
          112.75,
          24.25925925925926,
          0.3235294117647059,
          38.583333333333336,
          34.15625,
          11.6,
          38.458333333333336,
          19.742616033755276,
          -2.973684210526316,
          -5.833333333333333,
          70.83333333333333,
          74.47058823529412,
          2.6666666666666665,
          55.73684210526316,
          -130.83333333333334,
          38.93333333333333,
          69,
          41.07142857142857,
          9.527272727272727,
          6.380116959064328,
          323.84722222222223,
          -17,
          79.81818181818181,
          -15.244444444444444,
          85.2,
          48.291666666666664,
          6,
          335.72115384615387,
          621.175,
          228.5321100917431,
          8.563636363636364,
          17.307692307692307,
          24.822033898305083,
          6.714285714285714,
          98,
          150.38728323699422,
          12,
          1041.625,
          185.0808823529412,
          200.22222222222223,
          172.9375,
          77.23076923076923,
          93.25,
          40.1764705882353,
          199,
          -101.44444444444444,
          -10,
          -70.66666666666667,
          14.666666666666666,
          39.333333333333336,
          41.916666666666664,
          19.5,
          -107.125,
          73.63636363636364,
          -7.25,
          -7.1875,
          43.3,
          -66.8,
          -135.25,
          60.625,
          -41.81818181818182,
          47.22222222222222,
          8.071428571428571,
          -34.142857142857146,
          30.90909090909091,
          6.333333333333333,
          38.666666666666664,
          -64.07142857142857,
          -0.9523809523809523,
          29.430555555555557,
          118.82352941176471,
          62.1578947368421,
          131.13333333333333,
          119.11764705882354,
          167.83333333333334,
          200.75,
          65.9,
          72.82608695652173,
          -63.52,
          -169.6,
          83,
          -63.857142857142854,
          4.489189189189189,
          72.27777777777777,
          4.045714285714285,
          15.275862068965518,
          81.33333333333333,
          31.565217391304348,
          16.72222222222222,
          147.66666666666666,
          12.75,
          33,
          -2.5714285714285716,
          21,
          21,
          61.4,
          24.88888888888889,
          82,
          809.0333333333333,
          97.18181818181819,
          63,
          14.5,
          19.043478260869566,
          443.44642857142856,
          -44.57142857142857,
          399.52542372881356,
          27,
          34.5,
          1.3061224489795917,
          42.529411764705884,
          30.6,
          -22.916666666666668,
          19.846153846153847,
          68.44902386117137,
          30.25,
          -83.85714285714286,
          -71.57142857142857,
          -95.16666666666667,
          40,
          -12.208333333333334,
          -23.565217391304348,
          44.96153846153846,
          17.208333333333332,
          39.58620689655172,
          8,
          1.6184971098265897,
          -65.23913043478261,
          91.73550724637681,
          166.57142857142858,
          4.4
         ],
         "x0": " ",
         "xaxis": "x",
         "y": [
          "OpenRA.Game",
          "OpenRA.Game",
          "OpenRA.Game",
          "OpenRA.Game",
          "OpenRA.Game",
          "OpenRA.Game",
          "OpenRA.Game",
          "OpenRA.Game",
          "OpenRA.Game",
          "OpenRA.Game",
          "OpenRA.Game",
          "OpenRA.Game",
          "OpenRA.Game",
          "OpenRA.Game",
          "OpenRA.Game",
          "OpenRA.Game",
          "OpenRA.Game",
          "OpenRA.Game",
          "OpenRA.Game",
          "OpenRA.Game",
          "OpenRA.Game",
          "OpenRA.Game",
          "OpenRA.Game",
          "OpenRA.Game",
          "OpenRA.Game",
          "OpenRA.Game",
          "OpenRA.Game",
          "OpenRA.Game",
          "OpenRA.Game",
          "OpenRA.Game",
          "OpenRA.Game",
          "OpenRA.Game",
          "OpenRA.Game",
          "OpenRA.Game",
          "OpenRA.Game",
          "OpenRA.Game",
          "OpenRA.Game",
          "OpenRA.Game",
          "OpenRA.Game",
          "OpenRA.Game",
          "OpenRA.Game",
          "OpenRA.Game",
          "OpenRA.Game",
          "OpenRA.Game",
          "OpenRA.Game",
          "OpenRA.Game",
          "OpenRA.Game",
          "OpenRA.Game",
          "OpenRA.Game",
          "OpenRA.Game",
          "OpenRA.Game",
          "OpenRA.Game",
          "OpenRA.Game",
          "OpenRA.Game",
          "OpenRA.Game",
          "OpenRA.Game",
          "OpenRA.Game",
          "OpenRA.Game",
          "OpenRA.Game",
          "OpenRA.Game",
          "OpenRA.Game",
          "OpenRA.Game",
          "OpenRA.Game",
          "OpenRA.Game",
          "OpenRA.Game",
          "OpenRA.Game",
          "OpenRA.Game",
          "OpenRA.Game",
          "OpenRA.Game",
          "OpenRA.Game",
          "OpenRA.Game",
          "OpenRA.Game",
          "OpenRA.Game",
          "OpenRA.Game",
          "OpenRA.Game",
          "OpenRA.Game",
          "OpenRA.Game",
          "OpenRA.Game",
          "OpenRA.Game",
          "OpenRA.Game",
          "OpenRA.Game",
          "OpenRA.Game",
          "OpenRA.Game",
          "OpenRA.Game",
          "OpenRA.Game",
          "OpenRA.Game",
          "OpenRA.Game",
          "OpenRA.Game",
          "OpenRA.Game",
          "OpenRA.Game",
          "OpenRA.Game",
          "OpenRA.Game",
          "OpenRA.Game",
          "OpenRA.Game",
          "OpenRA.Game",
          "OpenRA.Game",
          "OpenRA.Game",
          "OpenRA.Game",
          "OpenRA.Game",
          "OpenRA.Game",
          "OpenRA.Game",
          "OpenRA.Game",
          "OpenRA.Game",
          "OpenRA.Game",
          "OpenRA.Game",
          "OpenRA.Game",
          "OpenRA.Game",
          "OpenRA.Game",
          "OpenRA.Game",
          "OpenRA.Game",
          "OpenRA.Game",
          "OpenRA.Game",
          "OpenRA.Game",
          "OpenRA.Game",
          "OpenRA.Game",
          "OpenRA.Game",
          "OpenRA.Game",
          "OpenRA.Game",
          "OpenRA.Game",
          "OpenRA.Game",
          "OpenRA.Game",
          "OpenRA.Game",
          "OpenRA.Game",
          "OpenRA.Game",
          "OpenRA.Game",
          "OpenRA.Game",
          "OpenRA.Game",
          "OpenRA.Game",
          "OpenRA.Game",
          "OpenRA.Game",
          "OpenRA.Game",
          "OpenRA.Game",
          "OpenRA.Game",
          "OpenRA.Game",
          "OpenRA.Game",
          "OpenRA.Game",
          "OpenRA.Game",
          "OpenRA.Game",
          "OpenRA.Game",
          "OpenRA.Game",
          "OpenRA.Game",
          "OpenRA.Game",
          "OpenRA.Game",
          "OpenRA.Game",
          "OpenRA.Game",
          "OpenRA.Game",
          "OpenRA.Game",
          "OpenRA.Game",
          "OpenRA.Game",
          "OpenRA.Game",
          "OpenRA.Game",
          "OpenRA.Game",
          "OpenRA.Game",
          "OpenRA.Game",
          "OpenRA.Game",
          "OpenRA.Game",
          "OpenRA.Game",
          "OpenRA.Game",
          "OpenRA.Game",
          "OpenRA.Game",
          "OpenRA.Game",
          "OpenRA.Game",
          "OpenRA.Game",
          "OpenRA.Game",
          "OpenRA.Game",
          "OpenRA.Game",
          "OpenRA.Game",
          "OpenRA.Game",
          "OpenRA.Game",
          "OpenRA.Game",
          "OpenRA.Game",
          "OpenRA.Game",
          "OpenRA.Game",
          "OpenRA.Game",
          "OpenRA.Game",
          "OpenRA.Game",
          "OpenRA.Game",
          "OpenRA.Game",
          "OpenRA.Game",
          "OpenRA.Game",
          "OpenRA.Game",
          "OpenRA.Game",
          "OpenRA.Game",
          "OpenRA.Game",
          "OpenRA.Game",
          "OpenRA.Game",
          "OpenRA.Game",
          "OpenRA.Game",
          "OpenRA.Game",
          "OpenRA.Game",
          "OpenRA.Game",
          "OpenRA.Game",
          "OpenRA.Game",
          "OpenRA.Game",
          "OpenRA.Game",
          "OpenRA.Game",
          "OpenRA.Game",
          "OpenRA.Game",
          "OpenRA.Game",
          "OpenRA.Game",
          "OpenRA.Game",
          "OpenRA.Game",
          "OpenRA.Game",
          "OpenRA.Game",
          "OpenRA.Game",
          "OpenRA.Game"
         ],
         "y0": " ",
         "yaxis": "y"
        },
        {
         "alignmentgroup": "True",
         "boxpoints": "suspectedoutliers",
         "hovertemplate": "color=OpenRA.Launcher<br>avg_net=%{x}<br>y=%{y}<extra></extra>",
         "jitter": 0.5,
         "legendgroup": "OpenRA.Launcher",
         "marker": {
          "color": "rgb(29, 105, 150)"
         },
         "name": "OpenRA.Launcher",
         "notched": false,
         "offsetgroup": "OpenRA.Launcher",
         "orientation": "h",
         "quartilemethod": "linear",
         "showlegend": true,
         "type": "box",
         "x": [
          726.5714285714286
         ],
         "x0": " ",
         "xaxis": "x",
         "y": [
          "OpenRA.Launcher"
         ],
         "y0": " ",
         "yaxis": "y"
        },
        {
         "alignmentgroup": "True",
         "boxpoints": "suspectedoutliers",
         "hovertemplate": "color=OpenRA.Mods.Cnc<br>avg_net=%{x}<br>y=%{y}<extra></extra>",
         "jitter": 0.5,
         "legendgroup": "OpenRA.Mods.Cnc",
         "marker": {
          "color": "rgb(56, 166, 165)"
         },
         "name": "OpenRA.Mods.Cnc",
         "notched": false,
         "offsetgroup": "OpenRA.Mods.Cnc",
         "orientation": "h",
         "quartilemethod": "linear",
         "showlegend": true,
         "type": "box",
         "x": [
          22.6875,
          -12.2,
          -26.7,
          26.473684210526315,
          -32.5,
          -3.3076923076923075,
          -98.28571428571429,
          -186.66666666666666,
          11.558441558441558,
          6.666666666666667,
          -23.666666666666668,
          -16,
          -86.625,
          16,
          2.875,
          0.3333333333333333,
          -0.7777777777777778,
          -6.666666666666667,
          -6.666666666666667,
          -14.666666666666666,
          1.3333333333333333,
          -116.8,
          19.142857142857142,
          210,
          1.3333333333333333,
          2,
          1.2857142857142858,
          -98.57142857142857,
          69,
          -101.14285714285714,
          -52.888888888888886,
          -140.125,
          24.428571428571427,
          -62.25,
          -7.538461538461538,
          4.933333333333334,
          33.75,
          -40.111111111111114,
          136.66666666666666,
          -15.5,
          12.2,
          -74.125,
          -2.4,
          -92.4,
          -85.14285714285714,
          -85.14285714285714,
          -18.363636363636363,
          8.833333333333334,
          8.481481481481481,
          55.5,
          -68.57142857142857,
          28.476190476190474,
          -13.216216216216216,
          -79.4,
          59.25,
          -22.307692307692307,
          -11.4,
          27,
          67.55555555555556,
          -23.666666666666668,
          4.463414634146342,
          30.066666666666666,
          27.80392156862745,
          32.107142857142854,
          10.666666666666666,
          24.976190476190474,
          -122.14285714285714,
          26.833333333333332,
          44.8,
          -88.85714285714286,
          0,
          -64.08333333333333,
          77.88,
          -63.5,
          -110.22222222222223,
          -195.25,
          -58.38461538461539,
          -113.66666666666667,
          -54,
          76,
          106
         ],
         "x0": " ",
         "xaxis": "x",
         "y": [
          "OpenRA.Mods.Cnc",
          "OpenRA.Mods.Cnc",
          "OpenRA.Mods.Cnc",
          "OpenRA.Mods.Cnc",
          "OpenRA.Mods.Cnc",
          "OpenRA.Mods.Cnc",
          "OpenRA.Mods.Cnc",
          "OpenRA.Mods.Cnc",
          "OpenRA.Mods.Cnc",
          "OpenRA.Mods.Cnc",
          "OpenRA.Mods.Cnc",
          "OpenRA.Mods.Cnc",
          "OpenRA.Mods.Cnc",
          "OpenRA.Mods.Cnc",
          "OpenRA.Mods.Cnc",
          "OpenRA.Mods.Cnc",
          "OpenRA.Mods.Cnc",
          "OpenRA.Mods.Cnc",
          "OpenRA.Mods.Cnc",
          "OpenRA.Mods.Cnc",
          "OpenRA.Mods.Cnc",
          "OpenRA.Mods.Cnc",
          "OpenRA.Mods.Cnc",
          "OpenRA.Mods.Cnc",
          "OpenRA.Mods.Cnc",
          "OpenRA.Mods.Cnc",
          "OpenRA.Mods.Cnc",
          "OpenRA.Mods.Cnc",
          "OpenRA.Mods.Cnc",
          "OpenRA.Mods.Cnc",
          "OpenRA.Mods.Cnc",
          "OpenRA.Mods.Cnc",
          "OpenRA.Mods.Cnc",
          "OpenRA.Mods.Cnc",
          "OpenRA.Mods.Cnc",
          "OpenRA.Mods.Cnc",
          "OpenRA.Mods.Cnc",
          "OpenRA.Mods.Cnc",
          "OpenRA.Mods.Cnc",
          "OpenRA.Mods.Cnc",
          "OpenRA.Mods.Cnc",
          "OpenRA.Mods.Cnc",
          "OpenRA.Mods.Cnc",
          "OpenRA.Mods.Cnc",
          "OpenRA.Mods.Cnc",
          "OpenRA.Mods.Cnc",
          "OpenRA.Mods.Cnc",
          "OpenRA.Mods.Cnc",
          "OpenRA.Mods.Cnc",
          "OpenRA.Mods.Cnc",
          "OpenRA.Mods.Cnc",
          "OpenRA.Mods.Cnc",
          "OpenRA.Mods.Cnc",
          "OpenRA.Mods.Cnc",
          "OpenRA.Mods.Cnc",
          "OpenRA.Mods.Cnc",
          "OpenRA.Mods.Cnc",
          "OpenRA.Mods.Cnc",
          "OpenRA.Mods.Cnc",
          "OpenRA.Mods.Cnc",
          "OpenRA.Mods.Cnc",
          "OpenRA.Mods.Cnc",
          "OpenRA.Mods.Cnc",
          "OpenRA.Mods.Cnc",
          "OpenRA.Mods.Cnc",
          "OpenRA.Mods.Cnc",
          "OpenRA.Mods.Cnc",
          "OpenRA.Mods.Cnc",
          "OpenRA.Mods.Cnc",
          "OpenRA.Mods.Cnc",
          "OpenRA.Mods.Cnc",
          "OpenRA.Mods.Cnc",
          "OpenRA.Mods.Cnc",
          "OpenRA.Mods.Cnc",
          "OpenRA.Mods.Cnc",
          "OpenRA.Mods.Cnc",
          "OpenRA.Mods.Cnc",
          "OpenRA.Mods.Cnc",
          "OpenRA.Mods.Cnc",
          "OpenRA.Mods.Cnc",
          "OpenRA.Mods.Cnc"
         ],
         "y0": " ",
         "yaxis": "y"
        },
        {
         "alignmentgroup": "True",
         "boxpoints": "suspectedoutliers",
         "hovertemplate": "color=OpenRA.Mods.Common<br>avg_net=%{x}<br>y=%{y}<extra></extra>",
         "jitter": 0.5,
         "legendgroup": "OpenRA.Mods.Common",
         "marker": {
          "color": "rgb(15, 133, 84)"
         },
         "name": "OpenRA.Mods.Common",
         "notched": false,
         "offsetgroup": "OpenRA.Mods.Common",
         "orientation": "h",
         "quartilemethod": "linear",
         "showlegend": true,
         "type": "box",
         "x": [
          23.2,
          33.53333333333333,
          25.26829268292683,
          52.42424242424242,
          -4.6,
          43.857142857142854,
          -4.666666666666667,
          14.6,
          78.36363636363636,
          28.209302325581394,
          5.153846153846154,
          32.91428571428571,
          38.42857142857143,
          35.88,
          73.38095238095238,
          15.82857142857143,
          76.28571428571429,
          101.33333333333333,
          42.53333333333333,
          -4.7,
          28.285714285714285,
          45.05,
          100.18181818181819,
          55.55,
          24.5,
          23.96,
          48.65714285714286,
          65.4,
          27.257142857142856,
          14.65,
          27,
          48,
          137,
          -58.36363636363637,
          81.46666666666667,
          42.22222222222222,
          13.944444444444445,
          54.53333333333333,
          81.93333333333334,
          10,
          152.12,
          109.38888888888889,
          135.82142857142858,
          132.53333333333333,
          157.42857142857142,
          40.34782608695652,
          109.55555555555556,
          -4.181818181818182,
          44.72727272727273,
          27.142857142857142,
          31.033333333333335,
          12.545454545454545,
          -32,
          -19.166666666666668,
          6.4,
          -17.25,
          5,
          -8.285714285714286,
          -1.3636363636363635,
          -34.142857142857146,
          -9.625,
          123,
          11.727272727272727,
          -129.66666666666666,
          52.93333333333333,
          57,
          -64.5,
          37.61538461538461,
          9.546875,
          -54.1,
          -39,
          -20.166666666666668,
          -64.5,
          74,
          8.48,
          -64.5,
          -20.75,
          -67.5,
          -87.625,
          -100.14285714285714,
          100.625,
          -111.5,
          29.416666666666668,
          -53.5,
          -28.714285714285715,
          83.72222222222223,
          47.64705882352941,
          107.41666666666667,
          79.7,
          63.4,
          69.3913043478261,
          42.07142857142857,
          -7.636363636363637,
          -61.785714285714285,
          16.642857142857142,
          5.9375,
          1.0909090909090908,
          83.4,
          50.666666666666664,
          28.9,
          45.27272727272727,
          18.692307692307693,
          35.11764705882353,
          -27,
          -2.3333333333333335,
          37,
          55.94117647058823,
          27.142857142857142,
          -9.666666666666666,
          46.26315789473684,
          16.333333333333332,
          -7.25,
          45.642857142857146,
          0.6363636363636364,
          50.333333333333336,
          57.9375,
          -0.2727272727272727,
          43.5,
          63.55555555555556,
          37.5,
          47.89473684210526,
          67.55555555555556,
          28.930232558139537,
          37.74074074074074,
          -9.8,
          -18.5,
          47.6875,
          21.8,
          73.94117647058823,
          49.31578947368421,
          68.82352941176471,
          -48.166666666666664,
          49.8,
          26.944444444444443,
          16.625,
          16.786666666666665,
          57.65217391304348,
          34.17391304347826,
          24.666666666666668,
          127.53846153846153,
          114.42857142857143,
          30.634146341463413,
          36.48148148148148,
          82.61538461538461,
          -7.46875,
          10.703703703703704,
          4.16,
          -6.791666666666667,
          3.6875,
          7.1454545454545455,
          -25.857142857142858,
          3.8333333333333335,
          21.88235294117647,
          -16.055555555555557,
          90.13333333333334,
          43.41463414634146,
          21.423728813559322,
          17.96969696969697,
          29.90909090909091,
          12.884615384615385,
          51.46153846153846,
          -107.33333333333333,
          -10.55,
          42.61904761904762,
          -73.57142857142857,
          -74.6,
          -74.22222222222223,
          -112.33333333333333,
          -126,
          41.61666666666667,
          -10.75,
          29.25,
          -165.16666666666666,
          24.857142857142858,
          68.92,
          -0.1,
          14.54320987654321,
          50.5,
          39.265306122448976,
          -5,
          -50.785714285714285,
          39.166666666666664,
          24.420454545454547,
          20.333333333333332,
          -18.916666666666668,
          29.34375,
          55.46666666666667,
          30.875,
          -7.111111111111111,
          12.5,
          1.7391304347826086,
          -34.666666666666664,
          71.55,
          31.558139534883722,
          -15.863636363636363,
          -45.1,
          37.674418604651166,
          49.38461538461539,
          23,
          72.22222222222223,
          26.92063492063492,
          19.674418604651162,
          6.666666666666667,
          33.869565217391305,
          49.0625,
          72.92857142857143,
          29,
          40.714285714285715,
          66.1304347826087,
          32.68421052631579,
          50.65384615384615,
          47.1,
          45.6,
          68.57894736842105,
          -23.5,
          124.28571428571429,
          -17.647058823529413,
          160.25,
          16.632653061224488,
          -10.235294117647058,
          21.166666666666668,
          15.4375,
          -61.142857142857146,
          37.291666666666664,
          66.30555555555556,
          95.3,
          47.93577981651376,
          35.351351351351354,
          -25.043478260869566,
          94.81818181818181,
          14.711538461538462,
          4.571428571428571,
          105.1,
          31.037037037037038,
          150.66666666666666,
          -39.5,
          18.176470588235293,
          30.17241379310345,
          8,
          9.5,
          29.666666666666668,
          96.18181818181819,
          21.5,
          78.6086956521739,
          45.285714285714285,
          38.666666666666664,
          68.27272727272727,
          -6.5,
          28.181818181818183,
          86.66666666666667,
          28.59016393442623,
          57.57142857142857,
          67.96666666666667,
          91.53846153846153,
          17.2,
          10.866666666666667,
          92.61538461538461,
          91.14285714285714,
          -78.07692307692308,
          61.166666666666664,
          59.4,
          50.5,
          104.41935483870968,
          23.555555555555557,
          -9.5,
          18.333333333333332,
          9.75,
          -19.583333333333332,
          10.8,
          -11.5,
          29.357142857142858,
          69.45454545454545,
          40.666666666666664,
          -214.25,
          29.09090909090909,
          66.6,
          57.041666666666664,
          71.88888888888889,
          45.541666666666664,
          5.722222222222222,
          44.375,
          161.66666666666666,
          55.32142857142857,
          54.28,
          23.64,
          -63.07692307692308,
          57.666666666666664,
          40,
          71.72,
          -99,
          15,
          23.421875,
          6.666666666666667,
          93.27272727272727,
          48.10526315789474,
          37.08,
          19.1484375,
          -132.1,
          -50.32142857142857,
          56.6,
          -130.6,
          35.75,
          -42.22222222222222,
          7.142857142857143,
          24.82857142857143,
          32.333333333333336,
          -124.85714285714286,
          -66.84615384615384,
          95.54545454545455,
          12.588235294117647,
          7.774193548387097,
          -59.375,
          -42.07142857142857,
          7.212121212121212,
          -78.75,
          -75.45454545454545,
          35.05,
          37.28333333333333,
          1.875,
          -47.3,
          -35.72727272727273,
          -64,
          -78.28571428571429,
          -78.28571428571429,
          -78.28571428571429,
          -73.2,
          -56.57142857142857,
          -108.83333333333333,
          30.307692307692307,
          -1.4090909090909092,
          6.833333333333333,
          -75.38461538461539,
          -108.66666666666667,
          13.5,
          11.625,
          23.895522388059703,
          35.19047619047619,
          40.46875,
          34.25,
          56.53846153846154,
          37.333333333333336,
          -1.2666666666666666,
          51.208333333333336,
          9.791666666666666,
          14.333333333333334,
          16.069767441860463,
          3,
          6.638888888888889,
          10,
          80.05882352941177,
          148.3,
          27,
          39.68421052631579,
          113.78571428571429,
          114.88888888888889,
          161.83333333333334,
          -0.2647058823529412,
          53.36842105263158,
          17.28125,
          242.76470588235293,
          75.28571428571429,
          30.333333333333332,
          113,
          116.76470588235294,
          102.46153846153847,
          75.55555555555556,
          -62.6,
          85.92857142857143,
          169.89473684210526,
          102.1,
          91.27272727272727,
          99.4,
          45.375,
          61.46153846153846,
          85.33333333333333,
          -62.5,
          149.2,
          122.91176470588235,
          150.2,
          118.22222222222223,
          117.6923076923077,
          20.985507246376812,
          35.724137931034484,
          64.91666666666667,
          61.583333333333336,
          113.22222222222223,
          37.72727272727273,
          84.35,
          22.666666666666668,
          105.7,
          31.571428571428573,
          107,
          130.16666666666666,
          213.15384615384616,
          94.8,
          34.5,
          38.486486486486484,
          36.4,
          47.535714285714285,
          29.666666666666668,
          75.38888888888889,
          -54.666666666666664,
          24.753846153846155,
          -43.705882352941174,
          69.66666666666667,
          27.673076923076923,
          69.66666666666667,
          61.1875
         ],
         "x0": " ",
         "xaxis": "x",
         "y": [
          "OpenRA.Mods.Common",
          "OpenRA.Mods.Common",
          "OpenRA.Mods.Common",
          "OpenRA.Mods.Common",
          "OpenRA.Mods.Common",
          "OpenRA.Mods.Common",
          "OpenRA.Mods.Common",
          "OpenRA.Mods.Common",
          "OpenRA.Mods.Common",
          "OpenRA.Mods.Common",
          "OpenRA.Mods.Common",
          "OpenRA.Mods.Common",
          "OpenRA.Mods.Common",
          "OpenRA.Mods.Common",
          "OpenRA.Mods.Common",
          "OpenRA.Mods.Common",
          "OpenRA.Mods.Common",
          "OpenRA.Mods.Common",
          "OpenRA.Mods.Common",
          "OpenRA.Mods.Common",
          "OpenRA.Mods.Common",
          "OpenRA.Mods.Common",
          "OpenRA.Mods.Common",
          "OpenRA.Mods.Common",
          "OpenRA.Mods.Common",
          "OpenRA.Mods.Common",
          "OpenRA.Mods.Common",
          "OpenRA.Mods.Common",
          "OpenRA.Mods.Common",
          "OpenRA.Mods.Common",
          "OpenRA.Mods.Common",
          "OpenRA.Mods.Common",
          "OpenRA.Mods.Common",
          "OpenRA.Mods.Common",
          "OpenRA.Mods.Common",
          "OpenRA.Mods.Common",
          "OpenRA.Mods.Common",
          "OpenRA.Mods.Common",
          "OpenRA.Mods.Common",
          "OpenRA.Mods.Common",
          "OpenRA.Mods.Common",
          "OpenRA.Mods.Common",
          "OpenRA.Mods.Common",
          "OpenRA.Mods.Common",
          "OpenRA.Mods.Common",
          "OpenRA.Mods.Common",
          "OpenRA.Mods.Common",
          "OpenRA.Mods.Common",
          "OpenRA.Mods.Common",
          "OpenRA.Mods.Common",
          "OpenRA.Mods.Common",
          "OpenRA.Mods.Common",
          "OpenRA.Mods.Common",
          "OpenRA.Mods.Common",
          "OpenRA.Mods.Common",
          "OpenRA.Mods.Common",
          "OpenRA.Mods.Common",
          "OpenRA.Mods.Common",
          "OpenRA.Mods.Common",
          "OpenRA.Mods.Common",
          "OpenRA.Mods.Common",
          "OpenRA.Mods.Common",
          "OpenRA.Mods.Common",
          "OpenRA.Mods.Common",
          "OpenRA.Mods.Common",
          "OpenRA.Mods.Common",
          "OpenRA.Mods.Common",
          "OpenRA.Mods.Common",
          "OpenRA.Mods.Common",
          "OpenRA.Mods.Common",
          "OpenRA.Mods.Common",
          "OpenRA.Mods.Common",
          "OpenRA.Mods.Common",
          "OpenRA.Mods.Common",
          "OpenRA.Mods.Common",
          "OpenRA.Mods.Common",
          "OpenRA.Mods.Common",
          "OpenRA.Mods.Common",
          "OpenRA.Mods.Common",
          "OpenRA.Mods.Common",
          "OpenRA.Mods.Common",
          "OpenRA.Mods.Common",
          "OpenRA.Mods.Common",
          "OpenRA.Mods.Common",
          "OpenRA.Mods.Common",
          "OpenRA.Mods.Common",
          "OpenRA.Mods.Common",
          "OpenRA.Mods.Common",
          "OpenRA.Mods.Common",
          "OpenRA.Mods.Common",
          "OpenRA.Mods.Common",
          "OpenRA.Mods.Common",
          "OpenRA.Mods.Common",
          "OpenRA.Mods.Common",
          "OpenRA.Mods.Common",
          "OpenRA.Mods.Common",
          "OpenRA.Mods.Common",
          "OpenRA.Mods.Common",
          "OpenRA.Mods.Common",
          "OpenRA.Mods.Common",
          "OpenRA.Mods.Common",
          "OpenRA.Mods.Common",
          "OpenRA.Mods.Common",
          "OpenRA.Mods.Common",
          "OpenRA.Mods.Common",
          "OpenRA.Mods.Common",
          "OpenRA.Mods.Common",
          "OpenRA.Mods.Common",
          "OpenRA.Mods.Common",
          "OpenRA.Mods.Common",
          "OpenRA.Mods.Common",
          "OpenRA.Mods.Common",
          "OpenRA.Mods.Common",
          "OpenRA.Mods.Common",
          "OpenRA.Mods.Common",
          "OpenRA.Mods.Common",
          "OpenRA.Mods.Common",
          "OpenRA.Mods.Common",
          "OpenRA.Mods.Common",
          "OpenRA.Mods.Common",
          "OpenRA.Mods.Common",
          "OpenRA.Mods.Common",
          "OpenRA.Mods.Common",
          "OpenRA.Mods.Common",
          "OpenRA.Mods.Common",
          "OpenRA.Mods.Common",
          "OpenRA.Mods.Common",
          "OpenRA.Mods.Common",
          "OpenRA.Mods.Common",
          "OpenRA.Mods.Common",
          "OpenRA.Mods.Common",
          "OpenRA.Mods.Common",
          "OpenRA.Mods.Common",
          "OpenRA.Mods.Common",
          "OpenRA.Mods.Common",
          "OpenRA.Mods.Common",
          "OpenRA.Mods.Common",
          "OpenRA.Mods.Common",
          "OpenRA.Mods.Common",
          "OpenRA.Mods.Common",
          "OpenRA.Mods.Common",
          "OpenRA.Mods.Common",
          "OpenRA.Mods.Common",
          "OpenRA.Mods.Common",
          "OpenRA.Mods.Common",
          "OpenRA.Mods.Common",
          "OpenRA.Mods.Common",
          "OpenRA.Mods.Common",
          "OpenRA.Mods.Common",
          "OpenRA.Mods.Common",
          "OpenRA.Mods.Common",
          "OpenRA.Mods.Common",
          "OpenRA.Mods.Common",
          "OpenRA.Mods.Common",
          "OpenRA.Mods.Common",
          "OpenRA.Mods.Common",
          "OpenRA.Mods.Common",
          "OpenRA.Mods.Common",
          "OpenRA.Mods.Common",
          "OpenRA.Mods.Common",
          "OpenRA.Mods.Common",
          "OpenRA.Mods.Common",
          "OpenRA.Mods.Common",
          "OpenRA.Mods.Common",
          "OpenRA.Mods.Common",
          "OpenRA.Mods.Common",
          "OpenRA.Mods.Common",
          "OpenRA.Mods.Common",
          "OpenRA.Mods.Common",
          "OpenRA.Mods.Common",
          "OpenRA.Mods.Common",
          "OpenRA.Mods.Common",
          "OpenRA.Mods.Common",
          "OpenRA.Mods.Common",
          "OpenRA.Mods.Common",
          "OpenRA.Mods.Common",
          "OpenRA.Mods.Common",
          "OpenRA.Mods.Common",
          "OpenRA.Mods.Common",
          "OpenRA.Mods.Common",
          "OpenRA.Mods.Common",
          "OpenRA.Mods.Common",
          "OpenRA.Mods.Common",
          "OpenRA.Mods.Common",
          "OpenRA.Mods.Common",
          "OpenRA.Mods.Common",
          "OpenRA.Mods.Common",
          "OpenRA.Mods.Common",
          "OpenRA.Mods.Common",
          "OpenRA.Mods.Common",
          "OpenRA.Mods.Common",
          "OpenRA.Mods.Common",
          "OpenRA.Mods.Common",
          "OpenRA.Mods.Common",
          "OpenRA.Mods.Common",
          "OpenRA.Mods.Common",
          "OpenRA.Mods.Common",
          "OpenRA.Mods.Common",
          "OpenRA.Mods.Common",
          "OpenRA.Mods.Common",
          "OpenRA.Mods.Common",
          "OpenRA.Mods.Common",
          "OpenRA.Mods.Common",
          "OpenRA.Mods.Common",
          "OpenRA.Mods.Common",
          "OpenRA.Mods.Common",
          "OpenRA.Mods.Common",
          "OpenRA.Mods.Common",
          "OpenRA.Mods.Common",
          "OpenRA.Mods.Common",
          "OpenRA.Mods.Common",
          "OpenRA.Mods.Common",
          "OpenRA.Mods.Common",
          "OpenRA.Mods.Common",
          "OpenRA.Mods.Common",
          "OpenRA.Mods.Common",
          "OpenRA.Mods.Common",
          "OpenRA.Mods.Common",
          "OpenRA.Mods.Common",
          "OpenRA.Mods.Common",
          "OpenRA.Mods.Common",
          "OpenRA.Mods.Common",
          "OpenRA.Mods.Common",
          "OpenRA.Mods.Common",
          "OpenRA.Mods.Common",
          "OpenRA.Mods.Common",
          "OpenRA.Mods.Common",
          "OpenRA.Mods.Common",
          "OpenRA.Mods.Common",
          "OpenRA.Mods.Common",
          "OpenRA.Mods.Common",
          "OpenRA.Mods.Common",
          "OpenRA.Mods.Common",
          "OpenRA.Mods.Common",
          "OpenRA.Mods.Common",
          "OpenRA.Mods.Common",
          "OpenRA.Mods.Common",
          "OpenRA.Mods.Common",
          "OpenRA.Mods.Common",
          "OpenRA.Mods.Common",
          "OpenRA.Mods.Common",
          "OpenRA.Mods.Common",
          "OpenRA.Mods.Common",
          "OpenRA.Mods.Common",
          "OpenRA.Mods.Common",
          "OpenRA.Mods.Common",
          "OpenRA.Mods.Common",
          "OpenRA.Mods.Common",
          "OpenRA.Mods.Common",
          "OpenRA.Mods.Common",
          "OpenRA.Mods.Common",
          "OpenRA.Mods.Common",
          "OpenRA.Mods.Common",
          "OpenRA.Mods.Common",
          "OpenRA.Mods.Common",
          "OpenRA.Mods.Common",
          "OpenRA.Mods.Common",
          "OpenRA.Mods.Common",
          "OpenRA.Mods.Common",
          "OpenRA.Mods.Common",
          "OpenRA.Mods.Common",
          "OpenRA.Mods.Common",
          "OpenRA.Mods.Common",
          "OpenRA.Mods.Common",
          "OpenRA.Mods.Common",
          "OpenRA.Mods.Common",
          "OpenRA.Mods.Common",
          "OpenRA.Mods.Common",
          "OpenRA.Mods.Common",
          "OpenRA.Mods.Common",
          "OpenRA.Mods.Common",
          "OpenRA.Mods.Common",
          "OpenRA.Mods.Common",
          "OpenRA.Mods.Common",
          "OpenRA.Mods.Common",
          "OpenRA.Mods.Common",
          "OpenRA.Mods.Common",
          "OpenRA.Mods.Common",
          "OpenRA.Mods.Common",
          "OpenRA.Mods.Common",
          "OpenRA.Mods.Common",
          "OpenRA.Mods.Common",
          "OpenRA.Mods.Common",
          "OpenRA.Mods.Common",
          "OpenRA.Mods.Common",
          "OpenRA.Mods.Common",
          "OpenRA.Mods.Common",
          "OpenRA.Mods.Common",
          "OpenRA.Mods.Common",
          "OpenRA.Mods.Common",
          "OpenRA.Mods.Common",
          "OpenRA.Mods.Common",
          "OpenRA.Mods.Common",
          "OpenRA.Mods.Common",
          "OpenRA.Mods.Common",
          "OpenRA.Mods.Common",
          "OpenRA.Mods.Common",
          "OpenRA.Mods.Common",
          "OpenRA.Mods.Common",
          "OpenRA.Mods.Common",
          "OpenRA.Mods.Common",
          "OpenRA.Mods.Common",
          "OpenRA.Mods.Common",
          "OpenRA.Mods.Common",
          "OpenRA.Mods.Common",
          "OpenRA.Mods.Common",
          "OpenRA.Mods.Common",
          "OpenRA.Mods.Common",
          "OpenRA.Mods.Common",
          "OpenRA.Mods.Common",
          "OpenRA.Mods.Common",
          "OpenRA.Mods.Common",
          "OpenRA.Mods.Common",
          "OpenRA.Mods.Common",
          "OpenRA.Mods.Common",
          "OpenRA.Mods.Common",
          "OpenRA.Mods.Common",
          "OpenRA.Mods.Common",
          "OpenRA.Mods.Common",
          "OpenRA.Mods.Common",
          "OpenRA.Mods.Common",
          "OpenRA.Mods.Common",
          "OpenRA.Mods.Common",
          "OpenRA.Mods.Common",
          "OpenRA.Mods.Common",
          "OpenRA.Mods.Common",
          "OpenRA.Mods.Common",
          "OpenRA.Mods.Common",
          "OpenRA.Mods.Common",
          "OpenRA.Mods.Common",
          "OpenRA.Mods.Common",
          "OpenRA.Mods.Common",
          "OpenRA.Mods.Common",
          "OpenRA.Mods.Common",
          "OpenRA.Mods.Common",
          "OpenRA.Mods.Common",
          "OpenRA.Mods.Common",
          "OpenRA.Mods.Common",
          "OpenRA.Mods.Common",
          "OpenRA.Mods.Common",
          "OpenRA.Mods.Common",
          "OpenRA.Mods.Common",
          "OpenRA.Mods.Common",
          "OpenRA.Mods.Common",
          "OpenRA.Mods.Common",
          "OpenRA.Mods.Common",
          "OpenRA.Mods.Common",
          "OpenRA.Mods.Common",
          "OpenRA.Mods.Common",
          "OpenRA.Mods.Common",
          "OpenRA.Mods.Common",
          "OpenRA.Mods.Common",
          "OpenRA.Mods.Common",
          "OpenRA.Mods.Common",
          "OpenRA.Mods.Common",
          "OpenRA.Mods.Common",
          "OpenRA.Mods.Common",
          "OpenRA.Mods.Common",
          "OpenRA.Mods.Common",
          "OpenRA.Mods.Common",
          "OpenRA.Mods.Common",
          "OpenRA.Mods.Common",
          "OpenRA.Mods.Common",
          "OpenRA.Mods.Common",
          "OpenRA.Mods.Common",
          "OpenRA.Mods.Common",
          "OpenRA.Mods.Common",
          "OpenRA.Mods.Common",
          "OpenRA.Mods.Common",
          "OpenRA.Mods.Common",
          "OpenRA.Mods.Common",
          "OpenRA.Mods.Common",
          "OpenRA.Mods.Common",
          "OpenRA.Mods.Common",
          "OpenRA.Mods.Common",
          "OpenRA.Mods.Common",
          "OpenRA.Mods.Common",
          "OpenRA.Mods.Common",
          "OpenRA.Mods.Common",
          "OpenRA.Mods.Common",
          "OpenRA.Mods.Common",
          "OpenRA.Mods.Common",
          "OpenRA.Mods.Common",
          "OpenRA.Mods.Common",
          "OpenRA.Mods.Common",
          "OpenRA.Mods.Common",
          "OpenRA.Mods.Common",
          "OpenRA.Mods.Common",
          "OpenRA.Mods.Common",
          "OpenRA.Mods.Common",
          "OpenRA.Mods.Common",
          "OpenRA.Mods.Common",
          "OpenRA.Mods.Common",
          "OpenRA.Mods.Common",
          "OpenRA.Mods.Common",
          "OpenRA.Mods.Common",
          "OpenRA.Mods.Common",
          "OpenRA.Mods.Common",
          "OpenRA.Mods.Common",
          "OpenRA.Mods.Common",
          "OpenRA.Mods.Common",
          "OpenRA.Mods.Common",
          "OpenRA.Mods.Common",
          "OpenRA.Mods.Common",
          "OpenRA.Mods.Common",
          "OpenRA.Mods.Common",
          "OpenRA.Mods.Common",
          "OpenRA.Mods.Common"
         ],
         "y0": " ",
         "yaxis": "y"
        },
        {
         "alignmentgroup": "True",
         "boxpoints": "suspectedoutliers",
         "hovertemplate": "color=OpenRA.Mods.D2k<br>avg_net=%{x}<br>y=%{y}<extra></extra>",
         "jitter": 0.5,
         "legendgroup": "OpenRA.Mods.D2k",
         "marker": {
          "color": "rgb(115, 175, 72)"
         },
         "name": "OpenRA.Mods.D2k",
         "notched": false,
         "offsetgroup": "OpenRA.Mods.D2k",
         "orientation": "h",
         "quartilemethod": "linear",
         "showlegend": true,
         "type": "box",
         "x": [
          41.88636363636363,
          74.41666666666667,
          -122.88888888888889,
          19.45,
          60.515151515151516,
          -9.076923076923077,
          23.142857142857142,
          24.166666666666668,
          65.27777777777777,
          47.61904761904762,
          22
         ],
         "x0": " ",
         "xaxis": "x",
         "y": [
          "OpenRA.Mods.D2k",
          "OpenRA.Mods.D2k",
          "OpenRA.Mods.D2k",
          "OpenRA.Mods.D2k",
          "OpenRA.Mods.D2k",
          "OpenRA.Mods.D2k",
          "OpenRA.Mods.D2k",
          "OpenRA.Mods.D2k",
          "OpenRA.Mods.D2k",
          "OpenRA.Mods.D2k",
          "OpenRA.Mods.D2k"
         ],
         "y0": " ",
         "yaxis": "y"
        },
        {
         "alignmentgroup": "True",
         "boxpoints": "suspectedoutliers",
         "hovertemplate": "color=OpenRA.Platforms.Default<br>avg_net=%{x}<br>y=%{y}<extra></extra>",
         "jitter": 0.5,
         "legendgroup": "OpenRA.Platforms.Default",
         "marker": {
          "color": "rgb(237, 173, 8)"
         },
         "name": "OpenRA.Platforms.Default",
         "notched": false,
         "offsetgroup": "OpenRA.Platforms.Default",
         "orientation": "h",
         "quartilemethod": "linear",
         "showlegend": true,
         "type": "box",
         "x": [
          80.22727272727273,
          -95.83333333333333,
          120.16666666666667,
          38,
          310.2,
          95.45454545454545,
          -6,
          32.58974358974359,
          24.708333333333332,
          82.57142857142857,
          12.933333333333334,
          16.70212765957447,
          60.36363636363637,
          47.111111111111114,
          150.91666666666666,
          36.111111111111114,
          110.0909090909091
         ],
         "x0": " ",
         "xaxis": "x",
         "y": [
          "OpenRA.Platforms.Default",
          "OpenRA.Platforms.Default",
          "OpenRA.Platforms.Default",
          "OpenRA.Platforms.Default",
          "OpenRA.Platforms.Default",
          "OpenRA.Platforms.Default",
          "OpenRA.Platforms.Default",
          "OpenRA.Platforms.Default",
          "OpenRA.Platforms.Default",
          "OpenRA.Platforms.Default",
          "OpenRA.Platforms.Default",
          "OpenRA.Platforms.Default",
          "OpenRA.Platforms.Default",
          "OpenRA.Platforms.Default",
          "OpenRA.Platforms.Default",
          "OpenRA.Platforms.Default",
          "OpenRA.Platforms.Default"
         ],
         "y0": " ",
         "yaxis": "y"
        },
        {
         "alignmentgroup": "True",
         "boxpoints": "suspectedoutliers",
         "hovertemplate": "color=OpenRA.Server<br>avg_net=%{x}<br>y=%{y}<extra></extra>",
         "jitter": 0.5,
         "legendgroup": "OpenRA.Server",
         "marker": {
          "color": "rgb(225, 124, 5)"
         },
         "name": "OpenRA.Server",
         "notched": false,
         "offsetgroup": "OpenRA.Server",
         "orientation": "h",
         "quartilemethod": "linear",
         "showlegend": true,
         "type": "box",
         "x": [
          27.571428571428573
         ],
         "x0": " ",
         "xaxis": "x",
         "y": [
          "OpenRA.Server"
         ],
         "y0": " ",
         "yaxis": "y"
        },
        {
         "alignmentgroup": "True",
         "boxpoints": "suspectedoutliers",
         "hovertemplate": "color=OpenRA.Test<br>avg_net=%{x}<br>y=%{y}<extra></extra>",
         "jitter": 0.5,
         "legendgroup": "OpenRA.Test",
         "marker": {
          "color": "rgb(204, 80, 62)"
         },
         "name": "OpenRA.Test",
         "notched": false,
         "offsetgroup": "OpenRA.Test",
         "orientation": "h",
         "quartilemethod": "linear",
         "showlegend": true,
         "type": "box",
         "x": [
          116.77777777777777,
          482.25,
          -38.857142857142854,
          84.58333333333333,
          447.44444444444446,
          886,
          877.9285714285714,
          8.5,
          153.7,
          123,
          -18.714285714285715,
          145.2
         ],
         "x0": " ",
         "xaxis": "x",
         "y": [
          "OpenRA.Test",
          "OpenRA.Test",
          "OpenRA.Test",
          "OpenRA.Test",
          "OpenRA.Test",
          "OpenRA.Test",
          "OpenRA.Test",
          "OpenRA.Test",
          "OpenRA.Test",
          "OpenRA.Test",
          "OpenRA.Test",
          "OpenRA.Test"
         ],
         "y0": " ",
         "yaxis": "y"
        },
        {
         "alignmentgroup": "True",
         "boxpoints": "suspectedoutliers",
         "hovertemplate": "color=OpenRA.Utility<br>avg_net=%{x}<br>y=%{y}<extra></extra>",
         "jitter": 0.5,
         "legendgroup": "OpenRA.Utility",
         "marker": {
          "color": "rgb(148, 52, 110)"
         },
         "name": "OpenRA.Utility",
         "notched": false,
         "offsetgroup": "OpenRA.Utility",
         "orientation": "h",
         "quartilemethod": "linear",
         "showlegend": true,
         "type": "box",
         "x": [
          -19.389705882352942
         ],
         "x0": " ",
         "xaxis": "x",
         "y": [
          "OpenRA.Utility"
         ],
         "y0": " ",
         "yaxis": "y"
        },
        {
         "alignmentgroup": "True",
         "boxpoints": "suspectedoutliers",
         "hovertemplate": "color=OpenRA.WindowsLauncher<br>avg_net=%{x}<br>y=%{y}<extra></extra>",
         "jitter": 0.5,
         "legendgroup": "OpenRA.WindowsLauncher",
         "marker": {
          "color": "rgb(111, 64, 112)"
         },
         "name": "OpenRA.WindowsLauncher",
         "notched": false,
         "offsetgroup": "OpenRA.WindowsLauncher",
         "orientation": "h",
         "quartilemethod": "linear",
         "showlegend": true,
         "type": "box",
         "x": [
          13.333333333333334
         ],
         "x0": " ",
         "xaxis": "x",
         "y": [
          "OpenRA.WindowsLauncher"
         ],
         "y0": " ",
         "yaxis": "y"
        }
       ],
       "layout": {
        "boxmode": "group",
        "legend": {
         "title": {
          "text": "color"
         },
         "tracegroupgap": 0
        },
        "showlegend": false,
        "template": {
         "data": {
          "bar": [
           {
            "error_x": {
             "color": "#f2f5fa"
            },
            "error_y": {
             "color": "#f2f5fa"
            },
            "marker": {
             "line": {
              "color": "rgb(17,17,17)",
              "width": 0.5
             },
             "pattern": {
              "fillmode": "overlay",
              "size": 10,
              "solidity": 0.2
             }
            },
            "type": "bar"
           }
          ],
          "barpolar": [
           {
            "marker": {
             "line": {
              "color": "rgb(17,17,17)",
              "width": 0.5
             },
             "pattern": {
              "fillmode": "overlay",
              "size": 10,
              "solidity": 0.2
             }
            },
            "type": "barpolar"
           }
          ],
          "carpet": [
           {
            "aaxis": {
             "endlinecolor": "#A2B1C6",
             "gridcolor": "#506784",
             "linecolor": "#506784",
             "minorgridcolor": "#506784",
             "startlinecolor": "#A2B1C6"
            },
            "baxis": {
             "endlinecolor": "#A2B1C6",
             "gridcolor": "#506784",
             "linecolor": "#506784",
             "minorgridcolor": "#506784",
             "startlinecolor": "#A2B1C6"
            },
            "type": "carpet"
           }
          ],
          "choropleth": [
           {
            "colorbar": {
             "outlinewidth": 0,
             "ticks": ""
            },
            "type": "choropleth"
           }
          ],
          "contour": [
           {
            "colorbar": {
             "outlinewidth": 0,
             "ticks": ""
            },
            "colorscale": [
             [
              0,
              "#0d0887"
             ],
             [
              0.1111111111111111,
              "#46039f"
             ],
             [
              0.2222222222222222,
              "#7201a8"
             ],
             [
              0.3333333333333333,
              "#9c179e"
             ],
             [
              0.4444444444444444,
              "#bd3786"
             ],
             [
              0.5555555555555556,
              "#d8576b"
             ],
             [
              0.6666666666666666,
              "#ed7953"
             ],
             [
              0.7777777777777778,
              "#fb9f3a"
             ],
             [
              0.8888888888888888,
              "#fdca26"
             ],
             [
              1,
              "#f0f921"
             ]
            ],
            "type": "contour"
           }
          ],
          "contourcarpet": [
           {
            "colorbar": {
             "outlinewidth": 0,
             "ticks": ""
            },
            "type": "contourcarpet"
           }
          ],
          "heatmap": [
           {
            "colorbar": {
             "outlinewidth": 0,
             "ticks": ""
            },
            "colorscale": [
             [
              0,
              "#0d0887"
             ],
             [
              0.1111111111111111,
              "#46039f"
             ],
             [
              0.2222222222222222,
              "#7201a8"
             ],
             [
              0.3333333333333333,
              "#9c179e"
             ],
             [
              0.4444444444444444,
              "#bd3786"
             ],
             [
              0.5555555555555556,
              "#d8576b"
             ],
             [
              0.6666666666666666,
              "#ed7953"
             ],
             [
              0.7777777777777778,
              "#fb9f3a"
             ],
             [
              0.8888888888888888,
              "#fdca26"
             ],
             [
              1,
              "#f0f921"
             ]
            ],
            "type": "heatmap"
           }
          ],
          "heatmapgl": [
           {
            "colorbar": {
             "outlinewidth": 0,
             "ticks": ""
            },
            "colorscale": [
             [
              0,
              "#0d0887"
             ],
             [
              0.1111111111111111,
              "#46039f"
             ],
             [
              0.2222222222222222,
              "#7201a8"
             ],
             [
              0.3333333333333333,
              "#9c179e"
             ],
             [
              0.4444444444444444,
              "#bd3786"
             ],
             [
              0.5555555555555556,
              "#d8576b"
             ],
             [
              0.6666666666666666,
              "#ed7953"
             ],
             [
              0.7777777777777778,
              "#fb9f3a"
             ],
             [
              0.8888888888888888,
              "#fdca26"
             ],
             [
              1,
              "#f0f921"
             ]
            ],
            "type": "heatmapgl"
           }
          ],
          "histogram": [
           {
            "marker": {
             "pattern": {
              "fillmode": "overlay",
              "size": 10,
              "solidity": 0.2
             }
            },
            "type": "histogram"
           }
          ],
          "histogram2d": [
           {
            "colorbar": {
             "outlinewidth": 0,
             "ticks": ""
            },
            "colorscale": [
             [
              0,
              "#0d0887"
             ],
             [
              0.1111111111111111,
              "#46039f"
             ],
             [
              0.2222222222222222,
              "#7201a8"
             ],
             [
              0.3333333333333333,
              "#9c179e"
             ],
             [
              0.4444444444444444,
              "#bd3786"
             ],
             [
              0.5555555555555556,
              "#d8576b"
             ],
             [
              0.6666666666666666,
              "#ed7953"
             ],
             [
              0.7777777777777778,
              "#fb9f3a"
             ],
             [
              0.8888888888888888,
              "#fdca26"
             ],
             [
              1,
              "#f0f921"
             ]
            ],
            "type": "histogram2d"
           }
          ],
          "histogram2dcontour": [
           {
            "colorbar": {
             "outlinewidth": 0,
             "ticks": ""
            },
            "colorscale": [
             [
              0,
              "#0d0887"
             ],
             [
              0.1111111111111111,
              "#46039f"
             ],
             [
              0.2222222222222222,
              "#7201a8"
             ],
             [
              0.3333333333333333,
              "#9c179e"
             ],
             [
              0.4444444444444444,
              "#bd3786"
             ],
             [
              0.5555555555555556,
              "#d8576b"
             ],
             [
              0.6666666666666666,
              "#ed7953"
             ],
             [
              0.7777777777777778,
              "#fb9f3a"
             ],
             [
              0.8888888888888888,
              "#fdca26"
             ],
             [
              1,
              "#f0f921"
             ]
            ],
            "type": "histogram2dcontour"
           }
          ],
          "mesh3d": [
           {
            "colorbar": {
             "outlinewidth": 0,
             "ticks": ""
            },
            "type": "mesh3d"
           }
          ],
          "parcoords": [
           {
            "line": {
             "colorbar": {
              "outlinewidth": 0,
              "ticks": ""
             }
            },
            "type": "parcoords"
           }
          ],
          "pie": [
           {
            "automargin": true,
            "type": "pie"
           }
          ],
          "scatter": [
           {
            "marker": {
             "line": {
              "color": "#283442"
             }
            },
            "type": "scatter"
           }
          ],
          "scatter3d": [
           {
            "line": {
             "colorbar": {
              "outlinewidth": 0,
              "ticks": ""
             }
            },
            "marker": {
             "colorbar": {
              "outlinewidth": 0,
              "ticks": ""
             }
            },
            "type": "scatter3d"
           }
          ],
          "scattercarpet": [
           {
            "marker": {
             "colorbar": {
              "outlinewidth": 0,
              "ticks": ""
             }
            },
            "type": "scattercarpet"
           }
          ],
          "scattergeo": [
           {
            "marker": {
             "colorbar": {
              "outlinewidth": 0,
              "ticks": ""
             }
            },
            "type": "scattergeo"
           }
          ],
          "scattergl": [
           {
            "marker": {
             "line": {
              "color": "#283442"
             }
            },
            "type": "scattergl"
           }
          ],
          "scattermapbox": [
           {
            "marker": {
             "colorbar": {
              "outlinewidth": 0,
              "ticks": ""
             }
            },
            "type": "scattermapbox"
           }
          ],
          "scatterpolar": [
           {
            "marker": {
             "colorbar": {
              "outlinewidth": 0,
              "ticks": ""
             }
            },
            "type": "scatterpolar"
           }
          ],
          "scatterpolargl": [
           {
            "marker": {
             "colorbar": {
              "outlinewidth": 0,
              "ticks": ""
             }
            },
            "type": "scatterpolargl"
           }
          ],
          "scatterternary": [
           {
            "marker": {
             "colorbar": {
              "outlinewidth": 0,
              "ticks": ""
             }
            },
            "type": "scatterternary"
           }
          ],
          "surface": [
           {
            "colorbar": {
             "outlinewidth": 0,
             "ticks": ""
            },
            "colorscale": [
             [
              0,
              "#0d0887"
             ],
             [
              0.1111111111111111,
              "#46039f"
             ],
             [
              0.2222222222222222,
              "#7201a8"
             ],
             [
              0.3333333333333333,
              "#9c179e"
             ],
             [
              0.4444444444444444,
              "#bd3786"
             ],
             [
              0.5555555555555556,
              "#d8576b"
             ],
             [
              0.6666666666666666,
              "#ed7953"
             ],
             [
              0.7777777777777778,
              "#fb9f3a"
             ],
             [
              0.8888888888888888,
              "#fdca26"
             ],
             [
              1,
              "#f0f921"
             ]
            ],
            "type": "surface"
           }
          ],
          "table": [
           {
            "cells": {
             "fill": {
              "color": "#506784"
             },
             "line": {
              "color": "rgb(17,17,17)"
             }
            },
            "header": {
             "fill": {
              "color": "#2a3f5f"
             },
             "line": {
              "color": "rgb(17,17,17)"
             }
            },
            "type": "table"
           }
          ]
         },
         "layout": {
          "annotationdefaults": {
           "arrowcolor": "#f2f5fa",
           "arrowhead": 0,
           "arrowwidth": 1
          },
          "autotypenumbers": "strict",
          "coloraxis": {
           "colorbar": {
            "outlinewidth": 0,
            "ticks": ""
           }
          },
          "colorscale": {
           "diverging": [
            [
             0,
             "#8e0152"
            ],
            [
             0.1,
             "#c51b7d"
            ],
            [
             0.2,
             "#de77ae"
            ],
            [
             0.3,
             "#f1b6da"
            ],
            [
             0.4,
             "#fde0ef"
            ],
            [
             0.5,
             "#f7f7f7"
            ],
            [
             0.6,
             "#e6f5d0"
            ],
            [
             0.7,
             "#b8e186"
            ],
            [
             0.8,
             "#7fbc41"
            ],
            [
             0.9,
             "#4d9221"
            ],
            [
             1,
             "#276419"
            ]
           ],
           "sequential": [
            [
             0,
             "#0d0887"
            ],
            [
             0.1111111111111111,
             "#46039f"
            ],
            [
             0.2222222222222222,
             "#7201a8"
            ],
            [
             0.3333333333333333,
             "#9c179e"
            ],
            [
             0.4444444444444444,
             "#bd3786"
            ],
            [
             0.5555555555555556,
             "#d8576b"
            ],
            [
             0.6666666666666666,
             "#ed7953"
            ],
            [
             0.7777777777777778,
             "#fb9f3a"
            ],
            [
             0.8888888888888888,
             "#fdca26"
            ],
            [
             1,
             "#f0f921"
            ]
           ],
           "sequentialminus": [
            [
             0,
             "#0d0887"
            ],
            [
             0.1111111111111111,
             "#46039f"
            ],
            [
             0.2222222222222222,
             "#7201a8"
            ],
            [
             0.3333333333333333,
             "#9c179e"
            ],
            [
             0.4444444444444444,
             "#bd3786"
            ],
            [
             0.5555555555555556,
             "#d8576b"
            ],
            [
             0.6666666666666666,
             "#ed7953"
            ],
            [
             0.7777777777777778,
             "#fb9f3a"
            ],
            [
             0.8888888888888888,
             "#fdca26"
            ],
            [
             1,
             "#f0f921"
            ]
           ]
          },
          "colorway": [
           "#636efa",
           "#EF553B",
           "#00cc96",
           "#ab63fa",
           "#FFA15A",
           "#19d3f3",
           "#FF6692",
           "#B6E880",
           "#FF97FF",
           "#FECB52"
          ],
          "font": {
           "color": "#f2f5fa"
          },
          "geo": {
           "bgcolor": "rgb(17,17,17)",
           "lakecolor": "rgb(17,17,17)",
           "landcolor": "rgb(17,17,17)",
           "showlakes": true,
           "showland": true,
           "subunitcolor": "#506784"
          },
          "hoverlabel": {
           "align": "left"
          },
          "hovermode": "closest",
          "mapbox": {
           "style": "dark"
          },
          "paper_bgcolor": "rgb(17,17,17)",
          "plot_bgcolor": "rgb(17,17,17)",
          "polar": {
           "angularaxis": {
            "gridcolor": "#506784",
            "linecolor": "#506784",
            "ticks": ""
           },
           "bgcolor": "rgb(17,17,17)",
           "radialaxis": {
            "gridcolor": "#506784",
            "linecolor": "#506784",
            "ticks": ""
           }
          },
          "scene": {
           "xaxis": {
            "backgroundcolor": "rgb(17,17,17)",
            "gridcolor": "#506784",
            "gridwidth": 2,
            "linecolor": "#506784",
            "showbackground": true,
            "ticks": "",
            "zerolinecolor": "#C8D4E3"
           },
           "yaxis": {
            "backgroundcolor": "rgb(17,17,17)",
            "gridcolor": "#506784",
            "gridwidth": 2,
            "linecolor": "#506784",
            "showbackground": true,
            "ticks": "",
            "zerolinecolor": "#C8D4E3"
           },
           "zaxis": {
            "backgroundcolor": "rgb(17,17,17)",
            "gridcolor": "#506784",
            "gridwidth": 2,
            "linecolor": "#506784",
            "showbackground": true,
            "ticks": "",
            "zerolinecolor": "#C8D4E3"
           }
          },
          "shapedefaults": {
           "line": {
            "color": "#f2f5fa"
           }
          },
          "sliderdefaults": {
           "bgcolor": "#C8D4E3",
           "bordercolor": "rgb(17,17,17)",
           "borderwidth": 1,
           "tickwidth": 0
          },
          "ternary": {
           "aaxis": {
            "gridcolor": "#506784",
            "linecolor": "#506784",
            "ticks": ""
           },
           "baxis": {
            "gridcolor": "#506784",
            "linecolor": "#506784",
            "ticks": ""
           },
           "bgcolor": "rgb(17,17,17)",
           "caxis": {
            "gridcolor": "#506784",
            "linecolor": "#506784",
            "ticks": ""
           }
          },
          "title": {
           "x": 0.05
          },
          "updatemenudefaults": {
           "bgcolor": "#506784",
           "borderwidth": 0
          },
          "xaxis": {
           "automargin": true,
           "gridcolor": "#283442",
           "linecolor": "#506784",
           "ticks": "",
           "title": {
            "standoff": 15
           },
           "zerolinecolor": "#283442",
           "zerolinewidth": 2
          },
          "yaxis": {
           "automargin": true,
           "gridcolor": "#283442",
           "linecolor": "#506784",
           "ticks": "",
           "title": {
            "standoff": 15
           },
           "zerolinecolor": "#283442",
           "zerolinewidth": 2
          }
         }
        },
        "title": {
         "text": "Distribution of Lines of Code by Project"
        },
        "xaxis": {
         "anchor": "y",
         "domain": [
          0,
          1
         ],
         "title": {
          "text": "avg_net"
         }
        },
        "yaxis": {
         "anchor": "x",
         "domain": [
          0,
          1
         ],
         "tickangle": 30,
         "tickfont": {
          "size": 10
         },
         "title": {
          "text": "y"
         }
        }
       }
      }
     },
     "metadata": {},
     "output_type": "display_data"
    }
   ],
   "source": [
    "# Box plot for distribution by projects\n",
    "fig = px.box(df_grouped,\n",
    "             x='avg_net',\n",
    "             y=df_grouped.index.get_level_values(1),\n",
    "#             hover_data=['path','filename'],\n",
    "             labels={\n",
    "               'project': 'Project',\n",
    "               'lines': 'Lines of Code',\n",
    "             },\n",
    "             title='Distribution of Lines of Code by Project',\n",
    "             points='suspectedoutliers',\n",
    "             template=template,\n",
    "             color_discrete_sequence=theme,\n",
    "             color=df_grouped.index.get_level_values(1))\n",
    "fig.update_traces(quartilemethod='linear', jitter=0.5)\n",
    "fig.update_layout(showlegend=False)\n",
    "fig.update_yaxes(tickangle=30, tickfont={'size': 10})\n",
    "fig.show()"
   ]
  },
  {
   "cell_type": "code",
   "execution_count": 23,
   "metadata": {},
   "outputs": [
    {
     "data": {
      "application/vnd.plotly.v1+json": {
       "config": {
        "plotlyServerURL": "https://plot.ly"
       },
       "data": [
        {
         "alignmentgroup": "True",
         "boxpoints": "suspectedoutliers",
         "hovertemplate": "color=OpenRA.Game<br>commits=%{x}<br>y=%{y}<extra></extra>",
         "jitter": 0.5,
         "legendgroup": "OpenRA.Game",
         "marker": {
          "color": "rgb(95, 70, 144)"
         },
         "name": "OpenRA.Game",
         "notched": false,
         "offsetgroup": "OpenRA.Game",
         "orientation": "h",
         "quartilemethod": "linear",
         "showlegend": true,
         "type": "box",
         "x": [
          48,
          14,
          215,
          42,
          28,
          9,
          3,
          8,
          18,
          8,
          21,
          26,
          69,
          70,
          36,
          16,
          22,
          49,
          29,
          14,
          42,
          4,
          633,
          35,
          74,
          39,
          32,
          22,
          111,
          13,
          56,
          31,
          45,
          14,
          57,
          31,
          46,
          13,
          12,
          20,
          20,
          11,
          42,
          23,
          44,
          24,
          9,
          82,
          54,
          57,
          45,
          82,
          55,
          29,
          79,
          27,
          39,
          26,
          72,
          21,
          3,
          2,
          176,
          257,
          8,
          11,
          2,
          13,
          19,
          8,
          14,
          17,
          14,
          22,
          13,
          8,
          16,
          81,
          34,
          24,
          32,
          5,
          24,
          237,
          76,
          12,
          24,
          17,
          84,
          19,
          6,
          15,
          4,
          14,
          55,
          171,
          72,
          2,
          11,
          45,
          15,
          24,
          1,
          104,
          40,
          109,
          55,
          26,
          118,
          63,
          1,
          173,
          58,
          24,
          136,
          54,
          160,
          13,
          8,
          17,
          1,
          9,
          18,
          12,
          12,
          12,
          12,
          6,
          8,
          11,
          16,
          16,
          10,
          10,
          4,
          16,
          11,
          9,
          14,
          7,
          22,
          18,
          21,
          14,
          21,
          72,
          17,
          38,
          15,
          17,
          12,
          12,
          20,
          23,
          50,
          20,
          2,
          28,
          370,
          18,
          175,
          58,
          18,
          23,
          18,
          3,
          4,
          15,
          7,
          2,
          2,
          15,
          27,
          13,
          30,
          11,
          10,
          2,
          23,
          56,
          21,
          59,
          2,
          6,
          49,
          17,
          20,
          36,
          65,
          461,
          4,
          7,
          7,
          6,
          16,
          24,
          23,
          26,
          24,
          29,
          27,
          173,
          46,
          276,
          140,
          5
         ],
         "x0": " ",
         "xaxis": "x",
         "y": [
          "OpenRA.Game",
          "OpenRA.Game",
          "OpenRA.Game",
          "OpenRA.Game",
          "OpenRA.Game",
          "OpenRA.Game",
          "OpenRA.Game",
          "OpenRA.Game",
          "OpenRA.Game",
          "OpenRA.Game",
          "OpenRA.Game",
          "OpenRA.Game",
          "OpenRA.Game",
          "OpenRA.Game",
          "OpenRA.Game",
          "OpenRA.Game",
          "OpenRA.Game",
          "OpenRA.Game",
          "OpenRA.Game",
          "OpenRA.Game",
          "OpenRA.Game",
          "OpenRA.Game",
          "OpenRA.Game",
          "OpenRA.Game",
          "OpenRA.Game",
          "OpenRA.Game",
          "OpenRA.Game",
          "OpenRA.Game",
          "OpenRA.Game",
          "OpenRA.Game",
          "OpenRA.Game",
          "OpenRA.Game",
          "OpenRA.Game",
          "OpenRA.Game",
          "OpenRA.Game",
          "OpenRA.Game",
          "OpenRA.Game",
          "OpenRA.Game",
          "OpenRA.Game",
          "OpenRA.Game",
          "OpenRA.Game",
          "OpenRA.Game",
          "OpenRA.Game",
          "OpenRA.Game",
          "OpenRA.Game",
          "OpenRA.Game",
          "OpenRA.Game",
          "OpenRA.Game",
          "OpenRA.Game",
          "OpenRA.Game",
          "OpenRA.Game",
          "OpenRA.Game",
          "OpenRA.Game",
          "OpenRA.Game",
          "OpenRA.Game",
          "OpenRA.Game",
          "OpenRA.Game",
          "OpenRA.Game",
          "OpenRA.Game",
          "OpenRA.Game",
          "OpenRA.Game",
          "OpenRA.Game",
          "OpenRA.Game",
          "OpenRA.Game",
          "OpenRA.Game",
          "OpenRA.Game",
          "OpenRA.Game",
          "OpenRA.Game",
          "OpenRA.Game",
          "OpenRA.Game",
          "OpenRA.Game",
          "OpenRA.Game",
          "OpenRA.Game",
          "OpenRA.Game",
          "OpenRA.Game",
          "OpenRA.Game",
          "OpenRA.Game",
          "OpenRA.Game",
          "OpenRA.Game",
          "OpenRA.Game",
          "OpenRA.Game",
          "OpenRA.Game",
          "OpenRA.Game",
          "OpenRA.Game",
          "OpenRA.Game",
          "OpenRA.Game",
          "OpenRA.Game",
          "OpenRA.Game",
          "OpenRA.Game",
          "OpenRA.Game",
          "OpenRA.Game",
          "OpenRA.Game",
          "OpenRA.Game",
          "OpenRA.Game",
          "OpenRA.Game",
          "OpenRA.Game",
          "OpenRA.Game",
          "OpenRA.Game",
          "OpenRA.Game",
          "OpenRA.Game",
          "OpenRA.Game",
          "OpenRA.Game",
          "OpenRA.Game",
          "OpenRA.Game",
          "OpenRA.Game",
          "OpenRA.Game",
          "OpenRA.Game",
          "OpenRA.Game",
          "OpenRA.Game",
          "OpenRA.Game",
          "OpenRA.Game",
          "OpenRA.Game",
          "OpenRA.Game",
          "OpenRA.Game",
          "OpenRA.Game",
          "OpenRA.Game",
          "OpenRA.Game",
          "OpenRA.Game",
          "OpenRA.Game",
          "OpenRA.Game",
          "OpenRA.Game",
          "OpenRA.Game",
          "OpenRA.Game",
          "OpenRA.Game",
          "OpenRA.Game",
          "OpenRA.Game",
          "OpenRA.Game",
          "OpenRA.Game",
          "OpenRA.Game",
          "OpenRA.Game",
          "OpenRA.Game",
          "OpenRA.Game",
          "OpenRA.Game",
          "OpenRA.Game",
          "OpenRA.Game",
          "OpenRA.Game",
          "OpenRA.Game",
          "OpenRA.Game",
          "OpenRA.Game",
          "OpenRA.Game",
          "OpenRA.Game",
          "OpenRA.Game",
          "OpenRA.Game",
          "OpenRA.Game",
          "OpenRA.Game",
          "OpenRA.Game",
          "OpenRA.Game",
          "OpenRA.Game",
          "OpenRA.Game",
          "OpenRA.Game",
          "OpenRA.Game",
          "OpenRA.Game",
          "OpenRA.Game",
          "OpenRA.Game",
          "OpenRA.Game",
          "OpenRA.Game",
          "OpenRA.Game",
          "OpenRA.Game",
          "OpenRA.Game",
          "OpenRA.Game",
          "OpenRA.Game",
          "OpenRA.Game",
          "OpenRA.Game",
          "OpenRA.Game",
          "OpenRA.Game",
          "OpenRA.Game",
          "OpenRA.Game",
          "OpenRA.Game",
          "OpenRA.Game",
          "OpenRA.Game",
          "OpenRA.Game",
          "OpenRA.Game",
          "OpenRA.Game",
          "OpenRA.Game",
          "OpenRA.Game",
          "OpenRA.Game",
          "OpenRA.Game",
          "OpenRA.Game",
          "OpenRA.Game",
          "OpenRA.Game",
          "OpenRA.Game",
          "OpenRA.Game",
          "OpenRA.Game",
          "OpenRA.Game",
          "OpenRA.Game",
          "OpenRA.Game",
          "OpenRA.Game",
          "OpenRA.Game",
          "OpenRA.Game",
          "OpenRA.Game",
          "OpenRA.Game",
          "OpenRA.Game",
          "OpenRA.Game",
          "OpenRA.Game",
          "OpenRA.Game",
          "OpenRA.Game",
          "OpenRA.Game",
          "OpenRA.Game",
          "OpenRA.Game",
          "OpenRA.Game",
          "OpenRA.Game",
          "OpenRA.Game",
          "OpenRA.Game",
          "OpenRA.Game",
          "OpenRA.Game",
          "OpenRA.Game"
         ],
         "y0": " ",
         "yaxis": "y"
        },
        {
         "alignmentgroup": "True",
         "boxpoints": "suspectedoutliers",
         "hovertemplate": "color=OpenRA.Launcher<br>commits=%{x}<br>y=%{y}<extra></extra>",
         "jitter": 0.5,
         "legendgroup": "OpenRA.Launcher",
         "marker": {
          "color": "rgb(29, 105, 150)"
         },
         "name": "OpenRA.Launcher",
         "notched": false,
         "offsetgroup": "OpenRA.Launcher",
         "orientation": "h",
         "quartilemethod": "linear",
         "showlegend": true,
         "type": "box",
         "x": [
          7
         ],
         "x0": " ",
         "xaxis": "x",
         "y": [
          "OpenRA.Launcher"
         ],
         "y0": " ",
         "yaxis": "y"
        },
        {
         "alignmentgroup": "True",
         "boxpoints": "suspectedoutliers",
         "hovertemplate": "color=OpenRA.Mods.Cnc<br>commits=%{x}<br>y=%{y}<extra></extra>",
         "jitter": 0.5,
         "legendgroup": "OpenRA.Mods.Cnc",
         "marker": {
          "color": "rgb(56, 166, 165)"
         },
         "name": "OpenRA.Mods.Cnc",
         "notched": false,
         "offsetgroup": "OpenRA.Mods.Cnc",
         "orientation": "h",
         "quartilemethod": "linear",
         "showlegend": true,
         "type": "box",
         "x": [
          16,
          30,
          20,
          19,
          12,
          13,
          7,
          6,
          77,
          9,
          6,
          7,
          8,
          6,
          8,
          6,
          9,
          6,
          6,
          3,
          3,
          5,
          7,
          1,
          3,
          7,
          7,
          7,
          2,
          14,
          9,
          8,
          7,
          4,
          13,
          15,
          12,
          9,
          3,
          14,
          15,
          8,
          5,
          10,
          7,
          7,
          11,
          6,
          27,
          4,
          7,
          21,
          37,
          5,
          4,
          13,
          10,
          10,
          9,
          6,
          41,
          15,
          51,
          28,
          9,
          42,
          7,
          6,
          5,
          7,
          3,
          12,
          25,
          12,
          9,
          8,
          13,
          6,
          9,
          2,
          2
         ],
         "x0": " ",
         "xaxis": "x",
         "y": [
          "OpenRA.Mods.Cnc",
          "OpenRA.Mods.Cnc",
          "OpenRA.Mods.Cnc",
          "OpenRA.Mods.Cnc",
          "OpenRA.Mods.Cnc",
          "OpenRA.Mods.Cnc",
          "OpenRA.Mods.Cnc",
          "OpenRA.Mods.Cnc",
          "OpenRA.Mods.Cnc",
          "OpenRA.Mods.Cnc",
          "OpenRA.Mods.Cnc",
          "OpenRA.Mods.Cnc",
          "OpenRA.Mods.Cnc",
          "OpenRA.Mods.Cnc",
          "OpenRA.Mods.Cnc",
          "OpenRA.Mods.Cnc",
          "OpenRA.Mods.Cnc",
          "OpenRA.Mods.Cnc",
          "OpenRA.Mods.Cnc",
          "OpenRA.Mods.Cnc",
          "OpenRA.Mods.Cnc",
          "OpenRA.Mods.Cnc",
          "OpenRA.Mods.Cnc",
          "OpenRA.Mods.Cnc",
          "OpenRA.Mods.Cnc",
          "OpenRA.Mods.Cnc",
          "OpenRA.Mods.Cnc",
          "OpenRA.Mods.Cnc",
          "OpenRA.Mods.Cnc",
          "OpenRA.Mods.Cnc",
          "OpenRA.Mods.Cnc",
          "OpenRA.Mods.Cnc",
          "OpenRA.Mods.Cnc",
          "OpenRA.Mods.Cnc",
          "OpenRA.Mods.Cnc",
          "OpenRA.Mods.Cnc",
          "OpenRA.Mods.Cnc",
          "OpenRA.Mods.Cnc",
          "OpenRA.Mods.Cnc",
          "OpenRA.Mods.Cnc",
          "OpenRA.Mods.Cnc",
          "OpenRA.Mods.Cnc",
          "OpenRA.Mods.Cnc",
          "OpenRA.Mods.Cnc",
          "OpenRA.Mods.Cnc",
          "OpenRA.Mods.Cnc",
          "OpenRA.Mods.Cnc",
          "OpenRA.Mods.Cnc",
          "OpenRA.Mods.Cnc",
          "OpenRA.Mods.Cnc",
          "OpenRA.Mods.Cnc",
          "OpenRA.Mods.Cnc",
          "OpenRA.Mods.Cnc",
          "OpenRA.Mods.Cnc",
          "OpenRA.Mods.Cnc",
          "OpenRA.Mods.Cnc",
          "OpenRA.Mods.Cnc",
          "OpenRA.Mods.Cnc",
          "OpenRA.Mods.Cnc",
          "OpenRA.Mods.Cnc",
          "OpenRA.Mods.Cnc",
          "OpenRA.Mods.Cnc",
          "OpenRA.Mods.Cnc",
          "OpenRA.Mods.Cnc",
          "OpenRA.Mods.Cnc",
          "OpenRA.Mods.Cnc",
          "OpenRA.Mods.Cnc",
          "OpenRA.Mods.Cnc",
          "OpenRA.Mods.Cnc",
          "OpenRA.Mods.Cnc",
          "OpenRA.Mods.Cnc",
          "OpenRA.Mods.Cnc",
          "OpenRA.Mods.Cnc",
          "OpenRA.Mods.Cnc",
          "OpenRA.Mods.Cnc",
          "OpenRA.Mods.Cnc",
          "OpenRA.Mods.Cnc",
          "OpenRA.Mods.Cnc",
          "OpenRA.Mods.Cnc",
          "OpenRA.Mods.Cnc",
          "OpenRA.Mods.Cnc"
         ],
         "y0": " ",
         "yaxis": "y"
        },
        {
         "alignmentgroup": "True",
         "boxpoints": "suspectedoutliers",
         "hovertemplate": "color=OpenRA.Mods.Common<br>commits=%{x}<br>y=%{y}<extra></extra>",
         "jitter": 0.5,
         "legendgroup": "OpenRA.Mods.Common",
         "marker": {
          "color": "rgb(15, 133, 84)"
         },
         "name": "OpenRA.Mods.Common",
         "notched": false,
         "offsetgroup": "OpenRA.Mods.Common",
         "orientation": "h",
         "quartilemethod": "linear",
         "showlegend": true,
         "type": "box",
         "x": [
          10,
          60,
          41,
          33,
          35,
          28,
          15,
          15,
          11,
          43,
          26,
          35,
          28,
          25,
          21,
          35,
          14,
          21,
          30,
          50,
          7,
          20,
          11,
          20,
          46,
          25,
          35,
          15,
          35,
          20,
          3,
          2,
          1,
          11,
          15,
          9,
          36,
          15,
          15,
          13,
          25,
          18,
          28,
          30,
          28,
          23,
          9,
          11,
          22,
          7,
          30,
          11,
          4,
          6,
          15,
          8,
          3,
          7,
          11,
          14,
          8,
          8,
          11,
          9,
          30,
          21,
          8,
          26,
          64,
          10,
          8,
          6,
          8,
          9,
          25,
          8,
          12,
          8,
          8,
          7,
          16,
          8,
          12,
          12,
          7,
          18,
          17,
          12,
          10,
          25,
          23,
          14,
          11,
          14,
          14,
          16,
          11,
          5,
          18,
          10,
          11,
          13,
          17,
          4,
          12,
          4,
          17,
          42,
          12,
          19,
          45,
          8,
          14,
          11,
          3,
          16,
          11,
          8,
          18,
          2,
          19,
          18,
          43,
          27,
          15,
          6,
          16,
          5,
          17,
          19,
          17,
          6,
          20,
          18,
          8,
          75,
          23,
          23,
          24,
          13,
          14,
          41,
          27,
          13,
          32,
          54,
          25,
          24,
          48,
          55,
          21,
          24,
          17,
          18,
          15,
          41,
          118,
          33,
          33,
          26,
          13,
          6,
          20,
          21,
          7,
          5,
          9,
          6,
          6,
          180,
          12,
          8,
          6,
          28,
          25,
          10,
          81,
          12,
          49,
          8,
          14,
          12,
          88,
          9,
          24,
          32,
          30,
          24,
          9,
          6,
          23,
          9,
          40,
          86,
          22,
          10,
          43,
          26,
          2,
          9,
          63,
          43,
          6,
          23,
          32,
          14,
          22,
          28,
          23,
          19,
          26,
          20,
          25,
          38,
          6,
          21,
          17,
          4,
          49,
          17,
          48,
          32,
          14,
          24,
          36,
          10,
          109,
          37,
          23,
          11,
          52,
          7,
          10,
          27,
          6,
          6,
          17,
          29,
          2,
          4,
          204,
          11,
          6,
          23,
          42,
          51,
          11,
          32,
          11,
          12,
          61,
          28,
          30,
          13,
          15,
          30,
          13,
          7,
          13,
          12,
          60,
          42,
          31,
          9,
          8,
          6,
          4,
          12,
          10,
          10,
          28,
          11,
          21,
          4,
          33,
          15,
          24,
          9,
          24,
          18,
          8,
          3,
          28,
          25,
          25,
          13,
          12,
          22,
          50,
          8,
          3,
          64,
          3,
          11,
          19,
          25,
          128,
          10,
          28,
          45,
          5,
          12,
          9,
          42,
          35,
          15,
          7,
          13,
          11,
          17,
          31,
          16,
          14,
          33,
          12,
          11,
          20,
          60,
          8,
          10,
          11,
          8,
          7,
          7,
          7,
          5,
          7,
          6,
          13,
          22,
          12,
          13,
          12,
          10,
          8,
          67,
          21,
          32,
          20,
          13,
          3,
          15,
          24,
          24,
          3,
          43,
          14,
          36,
          12,
          17,
          10,
          3,
          38,
          14,
          9,
          12,
          34,
          19,
          32,
          17,
          7,
          3,
          9,
          17,
          13,
          18,
          5,
          14,
          19,
          10,
          11,
          10,
          24,
          13,
          3,
          10,
          5,
          34,
          25,
          9,
          13,
          69,
          29,
          12,
          12,
          9,
          66,
          20,
          3,
          10,
          35,
          1,
          12,
          13,
          15,
          28,
          37,
          25,
          28,
          3,
          18,
          6,
          65,
          17,
          3,
          52,
          3,
          16
         ],
         "x0": " ",
         "xaxis": "x",
         "y": [
          "OpenRA.Mods.Common",
          "OpenRA.Mods.Common",
          "OpenRA.Mods.Common",
          "OpenRA.Mods.Common",
          "OpenRA.Mods.Common",
          "OpenRA.Mods.Common",
          "OpenRA.Mods.Common",
          "OpenRA.Mods.Common",
          "OpenRA.Mods.Common",
          "OpenRA.Mods.Common",
          "OpenRA.Mods.Common",
          "OpenRA.Mods.Common",
          "OpenRA.Mods.Common",
          "OpenRA.Mods.Common",
          "OpenRA.Mods.Common",
          "OpenRA.Mods.Common",
          "OpenRA.Mods.Common",
          "OpenRA.Mods.Common",
          "OpenRA.Mods.Common",
          "OpenRA.Mods.Common",
          "OpenRA.Mods.Common",
          "OpenRA.Mods.Common",
          "OpenRA.Mods.Common",
          "OpenRA.Mods.Common",
          "OpenRA.Mods.Common",
          "OpenRA.Mods.Common",
          "OpenRA.Mods.Common",
          "OpenRA.Mods.Common",
          "OpenRA.Mods.Common",
          "OpenRA.Mods.Common",
          "OpenRA.Mods.Common",
          "OpenRA.Mods.Common",
          "OpenRA.Mods.Common",
          "OpenRA.Mods.Common",
          "OpenRA.Mods.Common",
          "OpenRA.Mods.Common",
          "OpenRA.Mods.Common",
          "OpenRA.Mods.Common",
          "OpenRA.Mods.Common",
          "OpenRA.Mods.Common",
          "OpenRA.Mods.Common",
          "OpenRA.Mods.Common",
          "OpenRA.Mods.Common",
          "OpenRA.Mods.Common",
          "OpenRA.Mods.Common",
          "OpenRA.Mods.Common",
          "OpenRA.Mods.Common",
          "OpenRA.Mods.Common",
          "OpenRA.Mods.Common",
          "OpenRA.Mods.Common",
          "OpenRA.Mods.Common",
          "OpenRA.Mods.Common",
          "OpenRA.Mods.Common",
          "OpenRA.Mods.Common",
          "OpenRA.Mods.Common",
          "OpenRA.Mods.Common",
          "OpenRA.Mods.Common",
          "OpenRA.Mods.Common",
          "OpenRA.Mods.Common",
          "OpenRA.Mods.Common",
          "OpenRA.Mods.Common",
          "OpenRA.Mods.Common",
          "OpenRA.Mods.Common",
          "OpenRA.Mods.Common",
          "OpenRA.Mods.Common",
          "OpenRA.Mods.Common",
          "OpenRA.Mods.Common",
          "OpenRA.Mods.Common",
          "OpenRA.Mods.Common",
          "OpenRA.Mods.Common",
          "OpenRA.Mods.Common",
          "OpenRA.Mods.Common",
          "OpenRA.Mods.Common",
          "OpenRA.Mods.Common",
          "OpenRA.Mods.Common",
          "OpenRA.Mods.Common",
          "OpenRA.Mods.Common",
          "OpenRA.Mods.Common",
          "OpenRA.Mods.Common",
          "OpenRA.Mods.Common",
          "OpenRA.Mods.Common",
          "OpenRA.Mods.Common",
          "OpenRA.Mods.Common",
          "OpenRA.Mods.Common",
          "OpenRA.Mods.Common",
          "OpenRA.Mods.Common",
          "OpenRA.Mods.Common",
          "OpenRA.Mods.Common",
          "OpenRA.Mods.Common",
          "OpenRA.Mods.Common",
          "OpenRA.Mods.Common",
          "OpenRA.Mods.Common",
          "OpenRA.Mods.Common",
          "OpenRA.Mods.Common",
          "OpenRA.Mods.Common",
          "OpenRA.Mods.Common",
          "OpenRA.Mods.Common",
          "OpenRA.Mods.Common",
          "OpenRA.Mods.Common",
          "OpenRA.Mods.Common",
          "OpenRA.Mods.Common",
          "OpenRA.Mods.Common",
          "OpenRA.Mods.Common",
          "OpenRA.Mods.Common",
          "OpenRA.Mods.Common",
          "OpenRA.Mods.Common",
          "OpenRA.Mods.Common",
          "OpenRA.Mods.Common",
          "OpenRA.Mods.Common",
          "OpenRA.Mods.Common",
          "OpenRA.Mods.Common",
          "OpenRA.Mods.Common",
          "OpenRA.Mods.Common",
          "OpenRA.Mods.Common",
          "OpenRA.Mods.Common",
          "OpenRA.Mods.Common",
          "OpenRA.Mods.Common",
          "OpenRA.Mods.Common",
          "OpenRA.Mods.Common",
          "OpenRA.Mods.Common",
          "OpenRA.Mods.Common",
          "OpenRA.Mods.Common",
          "OpenRA.Mods.Common",
          "OpenRA.Mods.Common",
          "OpenRA.Mods.Common",
          "OpenRA.Mods.Common",
          "OpenRA.Mods.Common",
          "OpenRA.Mods.Common",
          "OpenRA.Mods.Common",
          "OpenRA.Mods.Common",
          "OpenRA.Mods.Common",
          "OpenRA.Mods.Common",
          "OpenRA.Mods.Common",
          "OpenRA.Mods.Common",
          "OpenRA.Mods.Common",
          "OpenRA.Mods.Common",
          "OpenRA.Mods.Common",
          "OpenRA.Mods.Common",
          "OpenRA.Mods.Common",
          "OpenRA.Mods.Common",
          "OpenRA.Mods.Common",
          "OpenRA.Mods.Common",
          "OpenRA.Mods.Common",
          "OpenRA.Mods.Common",
          "OpenRA.Mods.Common",
          "OpenRA.Mods.Common",
          "OpenRA.Mods.Common",
          "OpenRA.Mods.Common",
          "OpenRA.Mods.Common",
          "OpenRA.Mods.Common",
          "OpenRA.Mods.Common",
          "OpenRA.Mods.Common",
          "OpenRA.Mods.Common",
          "OpenRA.Mods.Common",
          "OpenRA.Mods.Common",
          "OpenRA.Mods.Common",
          "OpenRA.Mods.Common",
          "OpenRA.Mods.Common",
          "OpenRA.Mods.Common",
          "OpenRA.Mods.Common",
          "OpenRA.Mods.Common",
          "OpenRA.Mods.Common",
          "OpenRA.Mods.Common",
          "OpenRA.Mods.Common",
          "OpenRA.Mods.Common",
          "OpenRA.Mods.Common",
          "OpenRA.Mods.Common",
          "OpenRA.Mods.Common",
          "OpenRA.Mods.Common",
          "OpenRA.Mods.Common",
          "OpenRA.Mods.Common",
          "OpenRA.Mods.Common",
          "OpenRA.Mods.Common",
          "OpenRA.Mods.Common",
          "OpenRA.Mods.Common",
          "OpenRA.Mods.Common",
          "OpenRA.Mods.Common",
          "OpenRA.Mods.Common",
          "OpenRA.Mods.Common",
          "OpenRA.Mods.Common",
          "OpenRA.Mods.Common",
          "OpenRA.Mods.Common",
          "OpenRA.Mods.Common",
          "OpenRA.Mods.Common",
          "OpenRA.Mods.Common",
          "OpenRA.Mods.Common",
          "OpenRA.Mods.Common",
          "OpenRA.Mods.Common",
          "OpenRA.Mods.Common",
          "OpenRA.Mods.Common",
          "OpenRA.Mods.Common",
          "OpenRA.Mods.Common",
          "OpenRA.Mods.Common",
          "OpenRA.Mods.Common",
          "OpenRA.Mods.Common",
          "OpenRA.Mods.Common",
          "OpenRA.Mods.Common",
          "OpenRA.Mods.Common",
          "OpenRA.Mods.Common",
          "OpenRA.Mods.Common",
          "OpenRA.Mods.Common",
          "OpenRA.Mods.Common",
          "OpenRA.Mods.Common",
          "OpenRA.Mods.Common",
          "OpenRA.Mods.Common",
          "OpenRA.Mods.Common",
          "OpenRA.Mods.Common",
          "OpenRA.Mods.Common",
          "OpenRA.Mods.Common",
          "OpenRA.Mods.Common",
          "OpenRA.Mods.Common",
          "OpenRA.Mods.Common",
          "OpenRA.Mods.Common",
          "OpenRA.Mods.Common",
          "OpenRA.Mods.Common",
          "OpenRA.Mods.Common",
          "OpenRA.Mods.Common",
          "OpenRA.Mods.Common",
          "OpenRA.Mods.Common",
          "OpenRA.Mods.Common",
          "OpenRA.Mods.Common",
          "OpenRA.Mods.Common",
          "OpenRA.Mods.Common",
          "OpenRA.Mods.Common",
          "OpenRA.Mods.Common",
          "OpenRA.Mods.Common",
          "OpenRA.Mods.Common",
          "OpenRA.Mods.Common",
          "OpenRA.Mods.Common",
          "OpenRA.Mods.Common",
          "OpenRA.Mods.Common",
          "OpenRA.Mods.Common",
          "OpenRA.Mods.Common",
          "OpenRA.Mods.Common",
          "OpenRA.Mods.Common",
          "OpenRA.Mods.Common",
          "OpenRA.Mods.Common",
          "OpenRA.Mods.Common",
          "OpenRA.Mods.Common",
          "OpenRA.Mods.Common",
          "OpenRA.Mods.Common",
          "OpenRA.Mods.Common",
          "OpenRA.Mods.Common",
          "OpenRA.Mods.Common",
          "OpenRA.Mods.Common",
          "OpenRA.Mods.Common",
          "OpenRA.Mods.Common",
          "OpenRA.Mods.Common",
          "OpenRA.Mods.Common",
          "OpenRA.Mods.Common",
          "OpenRA.Mods.Common",
          "OpenRA.Mods.Common",
          "OpenRA.Mods.Common",
          "OpenRA.Mods.Common",
          "OpenRA.Mods.Common",
          "OpenRA.Mods.Common",
          "OpenRA.Mods.Common",
          "OpenRA.Mods.Common",
          "OpenRA.Mods.Common",
          "OpenRA.Mods.Common",
          "OpenRA.Mods.Common",
          "OpenRA.Mods.Common",
          "OpenRA.Mods.Common",
          "OpenRA.Mods.Common",
          "OpenRA.Mods.Common",
          "OpenRA.Mods.Common",
          "OpenRA.Mods.Common",
          "OpenRA.Mods.Common",
          "OpenRA.Mods.Common",
          "OpenRA.Mods.Common",
          "OpenRA.Mods.Common",
          "OpenRA.Mods.Common",
          "OpenRA.Mods.Common",
          "OpenRA.Mods.Common",
          "OpenRA.Mods.Common",
          "OpenRA.Mods.Common",
          "OpenRA.Mods.Common",
          "OpenRA.Mods.Common",
          "OpenRA.Mods.Common",
          "OpenRA.Mods.Common",
          "OpenRA.Mods.Common",
          "OpenRA.Mods.Common",
          "OpenRA.Mods.Common",
          "OpenRA.Mods.Common",
          "OpenRA.Mods.Common",
          "OpenRA.Mods.Common",
          "OpenRA.Mods.Common",
          "OpenRA.Mods.Common",
          "OpenRA.Mods.Common",
          "OpenRA.Mods.Common",
          "OpenRA.Mods.Common",
          "OpenRA.Mods.Common",
          "OpenRA.Mods.Common",
          "OpenRA.Mods.Common",
          "OpenRA.Mods.Common",
          "OpenRA.Mods.Common",
          "OpenRA.Mods.Common",
          "OpenRA.Mods.Common",
          "OpenRA.Mods.Common",
          "OpenRA.Mods.Common",
          "OpenRA.Mods.Common",
          "OpenRA.Mods.Common",
          "OpenRA.Mods.Common",
          "OpenRA.Mods.Common",
          "OpenRA.Mods.Common",
          "OpenRA.Mods.Common",
          "OpenRA.Mods.Common",
          "OpenRA.Mods.Common",
          "OpenRA.Mods.Common",
          "OpenRA.Mods.Common",
          "OpenRA.Mods.Common",
          "OpenRA.Mods.Common",
          "OpenRA.Mods.Common",
          "OpenRA.Mods.Common",
          "OpenRA.Mods.Common",
          "OpenRA.Mods.Common",
          "OpenRA.Mods.Common",
          "OpenRA.Mods.Common",
          "OpenRA.Mods.Common",
          "OpenRA.Mods.Common",
          "OpenRA.Mods.Common",
          "OpenRA.Mods.Common",
          "OpenRA.Mods.Common",
          "OpenRA.Mods.Common",
          "OpenRA.Mods.Common",
          "OpenRA.Mods.Common",
          "OpenRA.Mods.Common",
          "OpenRA.Mods.Common",
          "OpenRA.Mods.Common",
          "OpenRA.Mods.Common",
          "OpenRA.Mods.Common",
          "OpenRA.Mods.Common",
          "OpenRA.Mods.Common",
          "OpenRA.Mods.Common",
          "OpenRA.Mods.Common",
          "OpenRA.Mods.Common",
          "OpenRA.Mods.Common",
          "OpenRA.Mods.Common",
          "OpenRA.Mods.Common",
          "OpenRA.Mods.Common",
          "OpenRA.Mods.Common",
          "OpenRA.Mods.Common",
          "OpenRA.Mods.Common",
          "OpenRA.Mods.Common",
          "OpenRA.Mods.Common",
          "OpenRA.Mods.Common",
          "OpenRA.Mods.Common",
          "OpenRA.Mods.Common",
          "OpenRA.Mods.Common",
          "OpenRA.Mods.Common",
          "OpenRA.Mods.Common",
          "OpenRA.Mods.Common",
          "OpenRA.Mods.Common",
          "OpenRA.Mods.Common",
          "OpenRA.Mods.Common",
          "OpenRA.Mods.Common",
          "OpenRA.Mods.Common",
          "OpenRA.Mods.Common",
          "OpenRA.Mods.Common",
          "OpenRA.Mods.Common",
          "OpenRA.Mods.Common",
          "OpenRA.Mods.Common",
          "OpenRA.Mods.Common",
          "OpenRA.Mods.Common",
          "OpenRA.Mods.Common",
          "OpenRA.Mods.Common",
          "OpenRA.Mods.Common",
          "OpenRA.Mods.Common",
          "OpenRA.Mods.Common",
          "OpenRA.Mods.Common",
          "OpenRA.Mods.Common",
          "OpenRA.Mods.Common",
          "OpenRA.Mods.Common",
          "OpenRA.Mods.Common",
          "OpenRA.Mods.Common",
          "OpenRA.Mods.Common",
          "OpenRA.Mods.Common",
          "OpenRA.Mods.Common",
          "OpenRA.Mods.Common",
          "OpenRA.Mods.Common",
          "OpenRA.Mods.Common",
          "OpenRA.Mods.Common",
          "OpenRA.Mods.Common",
          "OpenRA.Mods.Common",
          "OpenRA.Mods.Common",
          "OpenRA.Mods.Common",
          "OpenRA.Mods.Common",
          "OpenRA.Mods.Common",
          "OpenRA.Mods.Common",
          "OpenRA.Mods.Common",
          "OpenRA.Mods.Common",
          "OpenRA.Mods.Common",
          "OpenRA.Mods.Common",
          "OpenRA.Mods.Common",
          "OpenRA.Mods.Common",
          "OpenRA.Mods.Common",
          "OpenRA.Mods.Common",
          "OpenRA.Mods.Common",
          "OpenRA.Mods.Common",
          "OpenRA.Mods.Common",
          "OpenRA.Mods.Common",
          "OpenRA.Mods.Common",
          "OpenRA.Mods.Common",
          "OpenRA.Mods.Common",
          "OpenRA.Mods.Common",
          "OpenRA.Mods.Common",
          "OpenRA.Mods.Common",
          "OpenRA.Mods.Common"
         ],
         "y0": " ",
         "yaxis": "y"
        },
        {
         "alignmentgroup": "True",
         "boxpoints": "suspectedoutliers",
         "hovertemplate": "color=OpenRA.Mods.D2k<br>commits=%{x}<br>y=%{y}<extra></extra>",
         "jitter": 0.5,
         "legendgroup": "OpenRA.Mods.D2k",
         "marker": {
          "color": "rgb(115, 175, 72)"
         },
         "name": "OpenRA.Mods.D2k",
         "notched": false,
         "offsetgroup": "OpenRA.Mods.D2k",
         "orientation": "h",
         "quartilemethod": "linear",
         "showlegend": true,
         "type": "box",
         "x": [
          44,
          12,
          9,
          20,
          33,
          13,
          28,
          36,
          36,
          21,
          9
         ],
         "x0": " ",
         "xaxis": "x",
         "y": [
          "OpenRA.Mods.D2k",
          "OpenRA.Mods.D2k",
          "OpenRA.Mods.D2k",
          "OpenRA.Mods.D2k",
          "OpenRA.Mods.D2k",
          "OpenRA.Mods.D2k",
          "OpenRA.Mods.D2k",
          "OpenRA.Mods.D2k",
          "OpenRA.Mods.D2k",
          "OpenRA.Mods.D2k",
          "OpenRA.Mods.D2k"
         ],
         "y0": " ",
         "yaxis": "y"
        },
        {
         "alignmentgroup": "True",
         "boxpoints": "suspectedoutliers",
         "hovertemplate": "color=OpenRA.Platforms.Default<br>commits=%{x}<br>y=%{y}<extra></extra>",
         "jitter": 0.5,
         "legendgroup": "OpenRA.Platforms.Default",
         "marker": {
          "color": "rgb(237, 173, 8)"
         },
         "name": "OpenRA.Platforms.Default",
         "notched": false,
         "offsetgroup": "OpenRA.Platforms.Default",
         "orientation": "h",
         "quartilemethod": "linear",
         "showlegend": true,
         "type": "box",
         "x": [
          22,
          6,
          24,
          6,
          5,
          11,
          36,
          39,
          24,
          14,
          30,
          47,
          33,
          27,
          12,
          18,
          22
         ],
         "x0": " ",
         "xaxis": "x",
         "y": [
          "OpenRA.Platforms.Default",
          "OpenRA.Platforms.Default",
          "OpenRA.Platforms.Default",
          "OpenRA.Platforms.Default",
          "OpenRA.Platforms.Default",
          "OpenRA.Platforms.Default",
          "OpenRA.Platforms.Default",
          "OpenRA.Platforms.Default",
          "OpenRA.Platforms.Default",
          "OpenRA.Platforms.Default",
          "OpenRA.Platforms.Default",
          "OpenRA.Platforms.Default",
          "OpenRA.Platforms.Default",
          "OpenRA.Platforms.Default",
          "OpenRA.Platforms.Default",
          "OpenRA.Platforms.Default",
          "OpenRA.Platforms.Default"
         ],
         "y0": " ",
         "yaxis": "y"
        },
        {
         "alignmentgroup": "True",
         "boxpoints": "suspectedoutliers",
         "hovertemplate": "color=OpenRA.Server<br>commits=%{x}<br>y=%{y}<extra></extra>",
         "jitter": 0.5,
         "legendgroup": "OpenRA.Server",
         "marker": {
          "color": "rgb(225, 124, 5)"
         },
         "name": "OpenRA.Server",
         "notched": false,
         "offsetgroup": "OpenRA.Server",
         "orientation": "h",
         "quartilemethod": "linear",
         "showlegend": true,
         "type": "box",
         "x": [
          28
         ],
         "x0": " ",
         "xaxis": "x",
         "y": [
          "OpenRA.Server"
         ],
         "y0": " ",
         "yaxis": "y"
        },
        {
         "alignmentgroup": "True",
         "boxpoints": "suspectedoutliers",
         "hovertemplate": "color=OpenRA.Test<br>commits=%{x}<br>y=%{y}<extra></extra>",
         "jitter": 0.5,
         "legendgroup": "OpenRA.Test",
         "marker": {
          "color": "rgb(204, 80, 62)"
         },
         "name": "OpenRA.Test",
         "notched": false,
         "offsetgroup": "OpenRA.Test",
         "orientation": "h",
         "quartilemethod": "linear",
         "showlegend": true,
         "type": "box",
         "x": [
          9,
          24,
          7,
          12,
          27,
          14,
          14,
          6,
          10,
          1,
          14,
          10
         ],
         "x0": " ",
         "xaxis": "x",
         "y": [
          "OpenRA.Test",
          "OpenRA.Test",
          "OpenRA.Test",
          "OpenRA.Test",
          "OpenRA.Test",
          "OpenRA.Test",
          "OpenRA.Test",
          "OpenRA.Test",
          "OpenRA.Test",
          "OpenRA.Test",
          "OpenRA.Test",
          "OpenRA.Test"
         ],
         "y0": " ",
         "yaxis": "y"
        },
        {
         "alignmentgroup": "True",
         "boxpoints": "suspectedoutliers",
         "hovertemplate": "color=OpenRA.Utility<br>commits=%{x}<br>y=%{y}<extra></extra>",
         "jitter": 0.5,
         "legendgroup": "OpenRA.Utility",
         "marker": {
          "color": "rgb(148, 52, 110)"
         },
         "name": "OpenRA.Utility",
         "notched": false,
         "offsetgroup": "OpenRA.Utility",
         "orientation": "h",
         "quartilemethod": "linear",
         "showlegend": true,
         "type": "box",
         "x": [
          136
         ],
         "x0": " ",
         "xaxis": "x",
         "y": [
          "OpenRA.Utility"
         ],
         "y0": " ",
         "yaxis": "y"
        },
        {
         "alignmentgroup": "True",
         "boxpoints": "suspectedoutliers",
         "hovertemplate": "color=OpenRA.WindowsLauncher<br>commits=%{x}<br>y=%{y}<extra></extra>",
         "jitter": 0.5,
         "legendgroup": "OpenRA.WindowsLauncher",
         "marker": {
          "color": "rgb(111, 64, 112)"
         },
         "name": "OpenRA.WindowsLauncher",
         "notched": false,
         "offsetgroup": "OpenRA.WindowsLauncher",
         "orientation": "h",
         "quartilemethod": "linear",
         "showlegend": true,
         "type": "box",
         "x": [
          3
         ],
         "x0": " ",
         "xaxis": "x",
         "y": [
          "OpenRA.WindowsLauncher"
         ],
         "y0": " ",
         "yaxis": "y"
        }
       ],
       "layout": {
        "boxmode": "group",
        "legend": {
         "title": {
          "text": "color"
         },
         "tracegroupgap": 0
        },
        "showlegend": false,
        "template": {
         "data": {
          "bar": [
           {
            "error_x": {
             "color": "#f2f5fa"
            },
            "error_y": {
             "color": "#f2f5fa"
            },
            "marker": {
             "line": {
              "color": "rgb(17,17,17)",
              "width": 0.5
             },
             "pattern": {
              "fillmode": "overlay",
              "size": 10,
              "solidity": 0.2
             }
            },
            "type": "bar"
           }
          ],
          "barpolar": [
           {
            "marker": {
             "line": {
              "color": "rgb(17,17,17)",
              "width": 0.5
             },
             "pattern": {
              "fillmode": "overlay",
              "size": 10,
              "solidity": 0.2
             }
            },
            "type": "barpolar"
           }
          ],
          "carpet": [
           {
            "aaxis": {
             "endlinecolor": "#A2B1C6",
             "gridcolor": "#506784",
             "linecolor": "#506784",
             "minorgridcolor": "#506784",
             "startlinecolor": "#A2B1C6"
            },
            "baxis": {
             "endlinecolor": "#A2B1C6",
             "gridcolor": "#506784",
             "linecolor": "#506784",
             "minorgridcolor": "#506784",
             "startlinecolor": "#A2B1C6"
            },
            "type": "carpet"
           }
          ],
          "choropleth": [
           {
            "colorbar": {
             "outlinewidth": 0,
             "ticks": ""
            },
            "type": "choropleth"
           }
          ],
          "contour": [
           {
            "colorbar": {
             "outlinewidth": 0,
             "ticks": ""
            },
            "colorscale": [
             [
              0,
              "#0d0887"
             ],
             [
              0.1111111111111111,
              "#46039f"
             ],
             [
              0.2222222222222222,
              "#7201a8"
             ],
             [
              0.3333333333333333,
              "#9c179e"
             ],
             [
              0.4444444444444444,
              "#bd3786"
             ],
             [
              0.5555555555555556,
              "#d8576b"
             ],
             [
              0.6666666666666666,
              "#ed7953"
             ],
             [
              0.7777777777777778,
              "#fb9f3a"
             ],
             [
              0.8888888888888888,
              "#fdca26"
             ],
             [
              1,
              "#f0f921"
             ]
            ],
            "type": "contour"
           }
          ],
          "contourcarpet": [
           {
            "colorbar": {
             "outlinewidth": 0,
             "ticks": ""
            },
            "type": "contourcarpet"
           }
          ],
          "heatmap": [
           {
            "colorbar": {
             "outlinewidth": 0,
             "ticks": ""
            },
            "colorscale": [
             [
              0,
              "#0d0887"
             ],
             [
              0.1111111111111111,
              "#46039f"
             ],
             [
              0.2222222222222222,
              "#7201a8"
             ],
             [
              0.3333333333333333,
              "#9c179e"
             ],
             [
              0.4444444444444444,
              "#bd3786"
             ],
             [
              0.5555555555555556,
              "#d8576b"
             ],
             [
              0.6666666666666666,
              "#ed7953"
             ],
             [
              0.7777777777777778,
              "#fb9f3a"
             ],
             [
              0.8888888888888888,
              "#fdca26"
             ],
             [
              1,
              "#f0f921"
             ]
            ],
            "type": "heatmap"
           }
          ],
          "heatmapgl": [
           {
            "colorbar": {
             "outlinewidth": 0,
             "ticks": ""
            },
            "colorscale": [
             [
              0,
              "#0d0887"
             ],
             [
              0.1111111111111111,
              "#46039f"
             ],
             [
              0.2222222222222222,
              "#7201a8"
             ],
             [
              0.3333333333333333,
              "#9c179e"
             ],
             [
              0.4444444444444444,
              "#bd3786"
             ],
             [
              0.5555555555555556,
              "#d8576b"
             ],
             [
              0.6666666666666666,
              "#ed7953"
             ],
             [
              0.7777777777777778,
              "#fb9f3a"
             ],
             [
              0.8888888888888888,
              "#fdca26"
             ],
             [
              1,
              "#f0f921"
             ]
            ],
            "type": "heatmapgl"
           }
          ],
          "histogram": [
           {
            "marker": {
             "pattern": {
              "fillmode": "overlay",
              "size": 10,
              "solidity": 0.2
             }
            },
            "type": "histogram"
           }
          ],
          "histogram2d": [
           {
            "colorbar": {
             "outlinewidth": 0,
             "ticks": ""
            },
            "colorscale": [
             [
              0,
              "#0d0887"
             ],
             [
              0.1111111111111111,
              "#46039f"
             ],
             [
              0.2222222222222222,
              "#7201a8"
             ],
             [
              0.3333333333333333,
              "#9c179e"
             ],
             [
              0.4444444444444444,
              "#bd3786"
             ],
             [
              0.5555555555555556,
              "#d8576b"
             ],
             [
              0.6666666666666666,
              "#ed7953"
             ],
             [
              0.7777777777777778,
              "#fb9f3a"
             ],
             [
              0.8888888888888888,
              "#fdca26"
             ],
             [
              1,
              "#f0f921"
             ]
            ],
            "type": "histogram2d"
           }
          ],
          "histogram2dcontour": [
           {
            "colorbar": {
             "outlinewidth": 0,
             "ticks": ""
            },
            "colorscale": [
             [
              0,
              "#0d0887"
             ],
             [
              0.1111111111111111,
              "#46039f"
             ],
             [
              0.2222222222222222,
              "#7201a8"
             ],
             [
              0.3333333333333333,
              "#9c179e"
             ],
             [
              0.4444444444444444,
              "#bd3786"
             ],
             [
              0.5555555555555556,
              "#d8576b"
             ],
             [
              0.6666666666666666,
              "#ed7953"
             ],
             [
              0.7777777777777778,
              "#fb9f3a"
             ],
             [
              0.8888888888888888,
              "#fdca26"
             ],
             [
              1,
              "#f0f921"
             ]
            ],
            "type": "histogram2dcontour"
           }
          ],
          "mesh3d": [
           {
            "colorbar": {
             "outlinewidth": 0,
             "ticks": ""
            },
            "type": "mesh3d"
           }
          ],
          "parcoords": [
           {
            "line": {
             "colorbar": {
              "outlinewidth": 0,
              "ticks": ""
             }
            },
            "type": "parcoords"
           }
          ],
          "pie": [
           {
            "automargin": true,
            "type": "pie"
           }
          ],
          "scatter": [
           {
            "marker": {
             "line": {
              "color": "#283442"
             }
            },
            "type": "scatter"
           }
          ],
          "scatter3d": [
           {
            "line": {
             "colorbar": {
              "outlinewidth": 0,
              "ticks": ""
             }
            },
            "marker": {
             "colorbar": {
              "outlinewidth": 0,
              "ticks": ""
             }
            },
            "type": "scatter3d"
           }
          ],
          "scattercarpet": [
           {
            "marker": {
             "colorbar": {
              "outlinewidth": 0,
              "ticks": ""
             }
            },
            "type": "scattercarpet"
           }
          ],
          "scattergeo": [
           {
            "marker": {
             "colorbar": {
              "outlinewidth": 0,
              "ticks": ""
             }
            },
            "type": "scattergeo"
           }
          ],
          "scattergl": [
           {
            "marker": {
             "line": {
              "color": "#283442"
             }
            },
            "type": "scattergl"
           }
          ],
          "scattermapbox": [
           {
            "marker": {
             "colorbar": {
              "outlinewidth": 0,
              "ticks": ""
             }
            },
            "type": "scattermapbox"
           }
          ],
          "scatterpolar": [
           {
            "marker": {
             "colorbar": {
              "outlinewidth": 0,
              "ticks": ""
             }
            },
            "type": "scatterpolar"
           }
          ],
          "scatterpolargl": [
           {
            "marker": {
             "colorbar": {
              "outlinewidth": 0,
              "ticks": ""
             }
            },
            "type": "scatterpolargl"
           }
          ],
          "scatterternary": [
           {
            "marker": {
             "colorbar": {
              "outlinewidth": 0,
              "ticks": ""
             }
            },
            "type": "scatterternary"
           }
          ],
          "surface": [
           {
            "colorbar": {
             "outlinewidth": 0,
             "ticks": ""
            },
            "colorscale": [
             [
              0,
              "#0d0887"
             ],
             [
              0.1111111111111111,
              "#46039f"
             ],
             [
              0.2222222222222222,
              "#7201a8"
             ],
             [
              0.3333333333333333,
              "#9c179e"
             ],
             [
              0.4444444444444444,
              "#bd3786"
             ],
             [
              0.5555555555555556,
              "#d8576b"
             ],
             [
              0.6666666666666666,
              "#ed7953"
             ],
             [
              0.7777777777777778,
              "#fb9f3a"
             ],
             [
              0.8888888888888888,
              "#fdca26"
             ],
             [
              1,
              "#f0f921"
             ]
            ],
            "type": "surface"
           }
          ],
          "table": [
           {
            "cells": {
             "fill": {
              "color": "#506784"
             },
             "line": {
              "color": "rgb(17,17,17)"
             }
            },
            "header": {
             "fill": {
              "color": "#2a3f5f"
             },
             "line": {
              "color": "rgb(17,17,17)"
             }
            },
            "type": "table"
           }
          ]
         },
         "layout": {
          "annotationdefaults": {
           "arrowcolor": "#f2f5fa",
           "arrowhead": 0,
           "arrowwidth": 1
          },
          "autotypenumbers": "strict",
          "coloraxis": {
           "colorbar": {
            "outlinewidth": 0,
            "ticks": ""
           }
          },
          "colorscale": {
           "diverging": [
            [
             0,
             "#8e0152"
            ],
            [
             0.1,
             "#c51b7d"
            ],
            [
             0.2,
             "#de77ae"
            ],
            [
             0.3,
             "#f1b6da"
            ],
            [
             0.4,
             "#fde0ef"
            ],
            [
             0.5,
             "#f7f7f7"
            ],
            [
             0.6,
             "#e6f5d0"
            ],
            [
             0.7,
             "#b8e186"
            ],
            [
             0.8,
             "#7fbc41"
            ],
            [
             0.9,
             "#4d9221"
            ],
            [
             1,
             "#276419"
            ]
           ],
           "sequential": [
            [
             0,
             "#0d0887"
            ],
            [
             0.1111111111111111,
             "#46039f"
            ],
            [
             0.2222222222222222,
             "#7201a8"
            ],
            [
             0.3333333333333333,
             "#9c179e"
            ],
            [
             0.4444444444444444,
             "#bd3786"
            ],
            [
             0.5555555555555556,
             "#d8576b"
            ],
            [
             0.6666666666666666,
             "#ed7953"
            ],
            [
             0.7777777777777778,
             "#fb9f3a"
            ],
            [
             0.8888888888888888,
             "#fdca26"
            ],
            [
             1,
             "#f0f921"
            ]
           ],
           "sequentialminus": [
            [
             0,
             "#0d0887"
            ],
            [
             0.1111111111111111,
             "#46039f"
            ],
            [
             0.2222222222222222,
             "#7201a8"
            ],
            [
             0.3333333333333333,
             "#9c179e"
            ],
            [
             0.4444444444444444,
             "#bd3786"
            ],
            [
             0.5555555555555556,
             "#d8576b"
            ],
            [
             0.6666666666666666,
             "#ed7953"
            ],
            [
             0.7777777777777778,
             "#fb9f3a"
            ],
            [
             0.8888888888888888,
             "#fdca26"
            ],
            [
             1,
             "#f0f921"
            ]
           ]
          },
          "colorway": [
           "#636efa",
           "#EF553B",
           "#00cc96",
           "#ab63fa",
           "#FFA15A",
           "#19d3f3",
           "#FF6692",
           "#B6E880",
           "#FF97FF",
           "#FECB52"
          ],
          "font": {
           "color": "#f2f5fa"
          },
          "geo": {
           "bgcolor": "rgb(17,17,17)",
           "lakecolor": "rgb(17,17,17)",
           "landcolor": "rgb(17,17,17)",
           "showlakes": true,
           "showland": true,
           "subunitcolor": "#506784"
          },
          "hoverlabel": {
           "align": "left"
          },
          "hovermode": "closest",
          "mapbox": {
           "style": "dark"
          },
          "paper_bgcolor": "rgb(17,17,17)",
          "plot_bgcolor": "rgb(17,17,17)",
          "polar": {
           "angularaxis": {
            "gridcolor": "#506784",
            "linecolor": "#506784",
            "ticks": ""
           },
           "bgcolor": "rgb(17,17,17)",
           "radialaxis": {
            "gridcolor": "#506784",
            "linecolor": "#506784",
            "ticks": ""
           }
          },
          "scene": {
           "xaxis": {
            "backgroundcolor": "rgb(17,17,17)",
            "gridcolor": "#506784",
            "gridwidth": 2,
            "linecolor": "#506784",
            "showbackground": true,
            "ticks": "",
            "zerolinecolor": "#C8D4E3"
           },
           "yaxis": {
            "backgroundcolor": "rgb(17,17,17)",
            "gridcolor": "#506784",
            "gridwidth": 2,
            "linecolor": "#506784",
            "showbackground": true,
            "ticks": "",
            "zerolinecolor": "#C8D4E3"
           },
           "zaxis": {
            "backgroundcolor": "rgb(17,17,17)",
            "gridcolor": "#506784",
            "gridwidth": 2,
            "linecolor": "#506784",
            "showbackground": true,
            "ticks": "",
            "zerolinecolor": "#C8D4E3"
           }
          },
          "shapedefaults": {
           "line": {
            "color": "#f2f5fa"
           }
          },
          "sliderdefaults": {
           "bgcolor": "#C8D4E3",
           "bordercolor": "rgb(17,17,17)",
           "borderwidth": 1,
           "tickwidth": 0
          },
          "ternary": {
           "aaxis": {
            "gridcolor": "#506784",
            "linecolor": "#506784",
            "ticks": ""
           },
           "baxis": {
            "gridcolor": "#506784",
            "linecolor": "#506784",
            "ticks": ""
           },
           "bgcolor": "rgb(17,17,17)",
           "caxis": {
            "gridcolor": "#506784",
            "linecolor": "#506784",
            "ticks": ""
           }
          },
          "title": {
           "x": 0.05
          },
          "updatemenudefaults": {
           "bgcolor": "#506784",
           "borderwidth": 0
          },
          "xaxis": {
           "automargin": true,
           "gridcolor": "#283442",
           "linecolor": "#506784",
           "ticks": "",
           "title": {
            "standoff": 15
           },
           "zerolinecolor": "#283442",
           "zerolinewidth": 2
          },
          "yaxis": {
           "automargin": true,
           "gridcolor": "#283442",
           "linecolor": "#506784",
           "ticks": "",
           "title": {
            "standoff": 15
           },
           "zerolinecolor": "#283442",
           "zerolinewidth": 2
          }
         }
        },
        "title": {
         "text": "Commits by File by Project"
        },
        "xaxis": {
         "anchor": "y",
         "domain": [
          0,
          1
         ],
         "title": {
          "text": "commits"
         }
        },
        "yaxis": {
         "anchor": "x",
         "domain": [
          0,
          1
         ],
         "tickangle": 30,
         "tickfont": {
          "size": 10
         },
         "title": {
          "text": "y"
         }
        }
       }
      }
     },
     "metadata": {},
     "output_type": "display_data"
    }
   ],
   "source": [
    "# Box plot for commits by projects\n",
    "fig = px.box(df_grouped,\n",
    "             x='commits',\n",
    "             y=df_grouped.index.get_level_values(1),\n",
    "#             hover_data=['path','filename'],\n",
    "             labels={\n",
    "               'project': 'Project',\n",
    "               'lines': 'Lines of Code',\n",
    "             },\n",
    "             title='Commits by File by Project',\n",
    "             points='suspectedoutliers',\n",
    "             template=template,\n",
    "             color_discrete_sequence=theme,\n",
    "             color=df_grouped.index.get_level_values(1))\n",
    "fig.update_traces(quartilemethod='linear', jitter=0.5)\n",
    "fig.update_layout(showlegend=False)\n",
    "fig.update_yaxes(tickangle=30, tickfont={'size': 10})\n",
    "fig.show()"
   ]
  },
  {
   "cell_type": "code",
   "execution_count": 21,
   "metadata": {
    "collapsed": false,
    "pycharm": {
     "name": "#%%\n"
    }
   },
   "outputs": [
    {
     "data": {
      "application/vnd.plotly.v1+json": {
       "config": {
        "plotlyServerURL": "https://plot.ly"
       },
       "data": [
        {
         "branchvalues": "total",
         "customdata": [
          [
           10
          ],
          [
           12
          ],
          [
           8
          ],
          [
           17
          ],
          [
           9
          ],
          [
           48
          ],
          [
           17
          ],
          [
           215
          ],
          [
           35
          ],
          [
           74
          ],
          [
           1
          ],
          [
           24
          ],
          [
           20
          ],
          [
           34
          ],
          [
           30
          ],
          [
           17
          ],
          [
           24
          ],
          [
           6
          ],
          [
           28
          ],
          [
           25
          ],
          [
           56
          ],
          [
           31
          ],
          [
           10
          ],
          [
           32
          ],
          [
           18
          ],
          [
           81
          ],
          [
           12
          ],
          [
           3
          ],
          [
           3
          ],
          [
           8
          ],
          [
           60
          ],
          [
           49
          ],
          [
           33
          ],
          [
           8
          ],
          [
           13
          ],
          [
           7
          ],
          [
           8
          ],
          [
           14
          ],
          [
           12
          ],
          [
           88
          ],
          [
           9
          ],
          [
           10
          ],
          [
           3
          ],
          [
           24
          ],
          [
           23
          ],
          [
           17
          ],
          [
           21
          ],
          [
           4
          ],
          [
           7
          ],
          [
           9
          ],
          [
           43
          ],
          [
           8
          ],
          [
           24
          ],
          [
           6
          ],
          [
           8
          ],
          [
           32
          ],
          [
           30
          ],
          [
           54
          ],
          [
           38
          ],
          [
           42
          ],
          [
           7
          ],
          [
           6
          ],
          [
           28
          ],
          [
           18
          ],
          [
           14
          ],
          [
           17
          ],
          [
           18
          ],
          [
           24
          ],
          [
           9
          ],
          [
           6
          ],
          [
           41
          ],
          [
           23
          ],
          [
           9
          ],
          [
           40
          ],
          [
           86
          ],
          [
           22
          ],
          [
           10
          ],
          [
           43
          ],
          [
           26
          ],
          [
           13
          ],
          [
           14
          ],
          [
           32
          ],
          [
           5
          ],
          [
           24
          ],
          [
           8
          ],
          [
           2
          ],
          [
           9
          ],
          [
           15
          ],
          [
           23
          ],
          [
           14
          ],
          [
           11
          ],
          [
           14
          ],
          [
           14
          ],
          [
           5
          ],
          [
           16
          ],
          [
           11
          ],
          [
           5
          ],
          [
           18
          ],
          [
           12
          ],
          [
           10
          ],
          [
           12
          ],
          [
           11
          ],
          [
           13
          ],
          [
           17
          ],
          [
           4
          ],
          [
           9
          ],
          [
           12
          ],
          [
           4
          ],
          [
           17
          ],
          [
           42
          ],
          [
           12
          ],
          [
           19
          ],
          [
           45
          ],
          [
           8
          ],
          [
           14
          ],
          [
           11
          ],
          [
           3
          ],
          [
           16
          ],
          [
           11
          ],
          [
           8
          ],
          [
           18
          ],
          [
           2
          ],
          [
           42
          ],
          [
           14
          ],
          [
           27
          ],
          [
           45
          ],
          [
           27
          ],
          [
           17
          ],
          [
           8
          ],
          [
           4
          ],
          [
           7
          ],
          [
           4
          ],
          [
           7
          ],
          [
           9
          ],
          [
           63
          ],
          [
           7
          ],
          [
           77
          ],
          [
           12
          ],
          [
           12
          ],
          [
           34
          ],
          [
           43
          ],
          [
           6
          ],
          [
           12
          ],
          [
           19
          ],
          [
           72
          ],
          [
           50
          ],
          [
           2
          ],
          [
           9
          ],
          [
           26
          ],
          [
           7
          ],
          [
           35
          ],
          [
           21
          ],
          [
           12
          ],
          [
           67
          ],
          [
           15
          ],
          [
           21
          ],
          [
           23
          ],
          [
           32
          ],
          [
           9
          ],
          [
           14
          ],
          [
           57
          ],
          [
           31
          ],
          [
           14
          ],
          [
           36
          ],
          [
           9
          ],
          [
           32
          ],
          [
           22
          ],
          [
           9
          ],
          [
           6
          ],
          [
           7
          ],
          [
           20
          ],
          [
           9
          ],
          [
           22
          ],
          [
           3
          ],
          [
           64
          ],
          [
           9
          ],
          [
           6
          ],
          [
           18
          ],
          [
           8
          ],
          [
           33
          ],
          [
           35
          ],
          [
           28
          ],
          [
           23
          ],
          [
           28
          ],
          [
           19
          ],
          [
           26
          ],
          [
           15
          ],
          [
           19
          ],
          [
           20
          ],
          [
           20
          ],
          [
           10
          ],
          [
           36
          ],
          [
           13
          ],
          [
           37
          ],
          [
           12
          ],
          [
           15
          ],
          [
           11
          ],
          [
           5
          ],
          [
           32
          ],
          [
           3
          ],
          [
           6
          ],
          [
           13
          ],
          [
           4
          ],
          [
           25
          ],
          [
           18
          ],
          [
           28
          ],
          [
           30
          ],
          [
           28
          ],
          [
           17
          ],
          [
           25
          ],
          [
           13
          ],
          [
           38
          ],
          [
           6
          ],
          [
           43
          ],
          [
           17
          ],
          [
           21
          ],
          [
           15
          ],
          [
           7
          ],
          [
           17
          ],
          [
           4
          ],
          [
           49
          ],
          [
           17
          ],
          [
           7
          ],
          [
           11
          ],
          [
           26
          ],
          [
           17
          ],
          [
           31
          ],
          [
           16
          ],
          [
           14
          ],
          [
           33
          ],
          [
           12
          ],
          [
           11
          ],
          [
           69
          ],
          [
           20
          ],
          [
           3
          ],
          [
           70
          ],
          [
           36
          ],
          [
           49
          ],
          [
           26
          ],
          [
           13
          ],
          [
           3
          ],
          [
           11
          ],
          [
           22
          ],
          [
           29
          ],
          [
           4
          ],
          [
           6
          ],
          [
           24
          ],
          [
           6
          ],
          [
           10
          ],
          [
           48
          ],
          [
           633
          ],
          [
           35
          ],
          [
           11
          ],
          [
           45
          ],
          [
           13
          ],
          [
           15
          ],
          [
           20
          ],
          [
           32
          ],
          [
           14
          ],
          [
           24
          ],
          [
           3
          ],
          [
           20
          ],
          [
           10
          ],
          [
           9
          ],
          [
           6
          ],
          [
           9
          ],
          [
           3
          ],
          [
           15
          ],
          [
           25
          ],
          [
           9
          ],
          [
           36
          ],
          [
           18
          ],
          [
           10
          ],
          [
           24
          ],
          [
           46
          ],
          [
           35
          ],
          [
           109
          ],
          [
           28
          ],
          [
           6
          ],
          [
           37
          ],
          [
           24
          ],
          [
           15
          ],
          [
           23
          ],
          [
           19
          ],
          [
           8
          ],
          [
           17
          ],
          [
           11
          ],
          [
           8
          ],
          [
           2
          ],
          [
           2
          ],
          [
           2
          ],
          [
           25
          ],
          [
           11
          ],
          [
           52
          ],
          [
           9
          ],
          [
           21
          ],
          [
           12
          ],
          [
           14
          ],
          [
           12
          ],
          [
           24
          ],
          [
           14
          ],
          [
           5
          ],
          [
           13
          ],
          [
           6
          ],
          [
           6
          ],
          [
           7
          ],
          [
           10
          ],
          [
           7
          ],
          [
           13
          ],
          [
           27
          ],
          [
           21
          ],
          [
           60
          ],
          [
           12
          ],
          [
           25
          ],
          [
           12
          ],
          [
           16
          ],
          [
           11
          ],
          [
           17
          ],
          [
           14
          ],
          [
           9
          ],
          [
           22
          ],
          [
           24
          ],
          [
           6
          ],
          [
           6
          ],
          [
           14
          ],
          [
           6
          ],
          [
           8
          ],
          [
           6
          ],
          [
           17
          ],
          [
           14
          ],
          [
           29
          ],
          [
           3
          ],
          [
           3
          ],
          [
           18
          ],
          [
           5
          ],
          [
           14
          ],
          [
           48
          ],
          [
           15
          ],
          [
           30
          ],
          [
           20
          ],
          [
           19
          ],
          [
           24
          ],
          [
           9
          ],
          [
           8
          ],
          [
           13
          ],
          [
           8
          ],
          [
           19
          ],
          [
           36
          ],
          [
           2
          ],
          [
           19
          ],
          [
           18
          ],
          [
           8
          ],
          [
           10
          ],
          [
           11
          ],
          [
           10
          ],
          [
           8
          ],
          [
           6
          ],
          [
           118
          ],
          [
           33
          ],
          [
           13
          ],
          [
           27
          ],
          [
           8
          ],
          [
           11
          ],
          [
           10
          ],
          [
           27
          ],
          [
           8
          ],
          [
           18
          ],
          [
           16
          ],
          [
           8
          ],
          [
           41
          ],
          [
           81
          ],
          [
           237
          ],
          [
           76
          ],
          [
           12
          ],
          [
           4
          ],
          [
           24
          ],
          [
           7
          ],
          [
           17
          ],
          [
           84
          ],
          [
           24
          ],
          [
           2
          ],
          [
           33
          ],
          [
           15
          ],
          [
           2
          ],
          [
           13
          ],
          [
           11
          ],
          [
           13
          ],
          [
           15
          ],
          [
           51
          ],
          [
           55
          ],
          [
           27
          ],
          [
           55
          ],
          [
           14
          ],
          [
           204
          ],
          [
           16
          ],
          [
           15
          ],
          [
           5
          ],
          [
           171
          ],
          [
           13
          ],
          [
           9
          ],
          [
           12
          ],
          [
           25
          ],
          [
           20
          ],
          [
           3
          ],
          [
           10
          ],
          [
           2
          ],
          [
           11
          ],
          [
           39
          ],
          [
           11
          ],
          [
           1
          ],
          [
           21
          ],
          [
           58
          ],
          [
           16
          ],
          [
           16
          ],
          [
           10
          ],
          [
           5
          ],
          [
           34
          ],
          [
           25
          ],
          [
           1
          ],
          [
           36
          ],
          [
           39
          ],
          [
           104
          ],
          [
           8
          ],
          [
           40
          ],
          [
           109
          ],
          [
           14
          ],
          [
           7
          ],
          [
           7
          ],
          [
           7
          ],
          [
           6
          ],
          [
           9
          ],
          [
           8
          ],
          [
           20
          ],
          [
           11
          ],
          [
           23
          ],
          [
           42
          ],
          [
           21
          ],
          [
           51
          ],
          [
           9
          ],
          [
           41
          ],
          [
           27
          ],
          [
           13
          ],
          [
           30
          ],
          [
           11
          ],
          [
           10
          ],
          [
           2
          ],
          [
           23
          ],
          [
           35
          ],
          [
           75
          ],
          [
           54
          ],
          [
           42
          ],
          [
           14
          ],
          [
           160
          ],
          [
           23
          ],
          [
           15
          ],
          [
           13
          ],
          [
           10
          ],
          [
           13
          ],
          [
           26
          ],
          [
           8
          ],
          [
           19
          ],
          [
           11
          ],
          [
           32
          ],
          [
           16
          ],
          [
           5
          ],
          [
           7
          ],
          [
           20
          ],
          [
           10
          ],
          [
           4
          ],
          [
           8
          ],
          [
           28
          ],
          [
           11
          ],
          [
           16
          ],
          [
           6
          ],
          [
           12
          ],
          [
           61
          ],
          [
           28
          ],
          [
           69
          ],
          [
           30
          ],
          [
           13
          ],
          [
           29
          ],
          [
           12
          ],
          [
           7
          ],
          [
           28
          ],
          [
           136
          ],
          [
           3
          ],
          [
           56
          ],
          [
           12
          ],
          [
           6
          ],
          [
           15
          ],
          [
           28
          ],
          [
           15
          ],
          [
           30
          ],
          [
           13
          ],
          [
           20
          ],
          [
           9
          ],
          [
           8
          ],
          [
           66
          ],
          [
           24
          ],
          [
           12
          ],
          [
           30
          ],
          [
           8
          ],
          [
           11
          ],
          [
           7
          ],
          [
           25
          ],
          [
           9
          ],
          [
           6
          ],
          [
           7
          ],
          [
           13
          ],
          [
           12
          ],
          [
           9
          ],
          [
           14
          ],
          [
           44
          ],
          [
           72
          ],
          [
           21
          ],
          [
           30
          ],
          [
           23
          ],
          [
           60
          ],
          [
           42
          ],
          [
           31
          ],
          [
           9
          ],
          [
           8
          ],
          [
           6
          ],
          [
           55
          ],
          [
           22
          ],
          [
           13
          ],
          [
           26
          ],
          [
           4
          ],
          [
           22
          ],
          [
           20
          ],
          [
           3
          ],
          [
           9
          ],
          [
           50
          ],
          [
           12
          ],
          [
           10
          ],
          [
           11
          ],
          [
           10
          ],
          [
           28
          ],
          [
           12
          ],
          [
           24
          ],
          [
           9
          ],
          [
           7
          ],
          [
           32
          ],
          [
           28
          ],
          [
           7
          ],
          [
           17
          ],
          [
           38
          ],
          [
           15
          ],
          [
           17
          ],
          [
           12
          ],
          [
           12
          ],
          [
           11
          ],
          [
           41
          ],
          [
           20
          ],
          [
           10
          ],
          [
           35
          ],
          [
           24
          ],
          [
           14
          ],
          [
           30
          ],
          [
           47
          ],
          [
           21
          ],
          [
           14
          ],
          [
           4
          ],
          [
           23
          ],
          [
           8
          ],
          [
           7
          ],
          [
           1
          ],
          [
           20
          ],
          [
           33
          ],
          [
           82
          ],
          [
           370
          ],
          [
           118
          ],
          [
           175
          ],
          [
           33
          ],
          [
           15
          ],
          [
           3
          ],
          [
           10
          ],
          [
           54
          ],
          [
           57
          ],
          [
           6
          ],
          [
           8
          ],
          [
           5
          ],
          [
           10
          ],
          [
           21
          ],
          [
           13
          ],
          [
           11
          ],
          [
           7
          ],
          [
           12
          ],
          [
           58
          ],
          [
           18
          ],
          [
           22
          ],
          [
           22
          ],
          [
           10
          ],
          [
           4
          ],
          [
           24
          ],
          [
           9
          ],
          [
           36
          ],
          [
           43
          ],
          [
           45
          ],
          [
           16
          ],
          [
           6
          ],
          [
           15
          ],
          [
           82
          ],
          [
           20
          ],
          [
           55
          ],
          [
           29
          ],
          [
           79
          ],
          [
           13
          ],
          [
           24
          ],
          [
           15
          ],
          [
           23
          ],
          [
           1
          ],
          [
           28
          ],
          [
           37
          ],
          [
           44
          ],
          [
           59
          ],
          [
           63
          ],
          [
           42
          ],
          [
           65
          ],
          [
           14
          ],
          [
           5
          ],
          [
           27
          ],
          [
           18
          ],
          [
           12
          ],
          [
           8
          ],
          [
           4
          ],
          [
           6
          ],
          [
           3
          ],
          [
           39
          ],
          [
           25
          ],
          [
           15
          ],
          [
           13
          ],
          [
           8
          ],
          [
           28
          ],
          [
           2
          ],
          [
           3
          ],
          [
           6
          ],
          [
           27
          ],
          [
           7
          ],
          [
           12
          ],
          [
           18
          ],
          [
           28
          ],
          [
           25
          ],
          [
           1
          ],
          [
           14
          ],
          [
           12
          ],
          [
           7
          ],
          [
           7
          ],
          [
           11
          ],
          [
           25
          ],
          [
           18
          ],
          [
           13
          ],
          [
           49
          ],
          [
           18
          ],
          [
           6
          ],
          [
           180
          ],
          [
           461
          ],
          [
           7
          ],
          [
           46
          ],
          [
           12
          ],
          [
           22
          ],
          [
           50
          ],
          [
           6
          ],
          [
           4
          ],
          [
           8
          ],
          [
           25
          ],
          [
           3
          ],
          [
           64
          ],
          [
           18
          ],
          [
           12
          ],
          [
           26
          ],
          [
           7
          ],
          [
           136
          ],
          [
           23
          ],
          [
           173
          ],
          [
           35
          ],
          [
           6
          ],
          [
           13
          ],
          [
           12
          ],
          [
           128
          ],
          [
           10
          ],
          [
           28
          ],
          [
           3
          ],
          [
           5
          ],
          [
           45
          ],
          [
           72
          ],
          [
           10
          ],
          [
           11
          ],
          [
           21
          ],
          [
           14
          ],
          [
           21
          ],
          [
           22
          ],
          [
           3
          ],
          [
           2
          ],
          [
           6
          ],
          [
           176
          ],
          [
           65
          ],
          [
           6
          ],
          [
           16
          ],
          [
           19
          ],
          [
           15
          ],
          [
           13
          ],
          [
           12
          ],
          [
           9
          ],
          [
           2
          ],
          [
           5
          ],
          [
           7
          ],
          [
           24
          ],
          [
           23
          ],
          [
           26
          ],
          [
           24
          ],
          [
           29
          ],
          [
           15
          ],
          [
           25
          ],
          [
           36
          ],
          [
           11
          ],
          [
           11
          ],
          [
           111
          ],
          [
           12
          ],
          [
           173
          ],
          [
           46
          ],
          [
           17
          ],
          [
           276
          ],
          [
           3
          ],
          [
           16
          ],
          [
           52
          ],
          [
           3
          ],
          [
           257
          ],
          [
           140
          ],
          [
           5
          ],
          [
           2
          ],
          [
           1
          ],
          [
           3
          ],
          [
           7
          ],
          [
           7
          ],
          [
           42
          ],
          [
           21
          ],
          [
           14
          ],
          [
           21
          ],
          [
           237.35133239831697
          ],
          [
           7
          ],
          [
           68.06818181818181
          ],
          [
           96.81865284974093
          ],
          [
           28.579787234042552
          ],
          [
           28
          ],
          [
           136
          ],
          [
           3
          ],
          [
           40.32258064516129
          ],
          [
           20.272727272727273
          ],
          [
           33.520805369127515
          ],
          [
           44
          ],
          [
           6.538461538461538
          ],
          [
           9
          ],
          [
           22.8
          ],
          [
           26.488372093023255
          ],
          [
           16.236363636363638
          ],
          [
           7.545454545454546
          ],
          [
           18.565217391304348
          ],
          [
           19.473684210526315
          ],
          [
           6.5058823529411764
          ],
          [
           9.82857142857143
          ],
          [
           38.82089552238806
          ],
          [
           9.85
          ],
          [
           9
          ],
          [
           74.9136690647482
          ],
          [
           97.31795511221945
          ],
          [
           11.4
          ],
          [
           26.162939297124602
          ],
          [
           18.073170731707318
          ],
          [
           15.36111111111111
          ],
          [
           20.1
          ],
          [
           12
          ],
          [
           31.197802197802197
          ],
          [
           118.34290271132376
          ],
          [
           97.73806752037252
          ],
          [
           16.695652173913043
          ],
          [
           10
          ],
          [
           119.2
          ],
          [
           37.3716814159292
          ],
          [
           9
          ],
          [
           28.159663865546218
          ],
          [
           14.706422018348624
          ],
          [
           13.4375
          ],
          [
           40.590106007067135
          ],
          [
           22.404580152671755
          ],
          [
           27.681318681318682
          ],
          [
           288.75409836065575
          ],
          [
           79.8952380952381
          ],
          [
           48.526315789473685
          ],
          [
           8.5
          ],
          [
           17.14814814814815
          ],
          [
           20
          ],
          [
           26.969111969111967
          ],
          [
           7.285714285714286
          ],
          [
           365.1602671118531
          ],
          [
           29.40909090909091
          ],
          [
           49.595454545454544
          ],
          [
           30.345454545454544
          ],
          [
           104.02409638554217
          ],
          [
           6.7
          ],
          [
           13.48076923076923
          ],
          [
           24.328214971209214
          ],
          [
           30.473684210526315
          ],
          [
           2
          ],
          [
           35.05572755417957
          ],
          [
           9
          ],
          [
           133.22764227642276
          ],
          [
           31.45505617977528
          ],
          [
           163.43974344548218
          ],
          [
           7
          ],
          [
           23.697286012526096
          ],
          [
           41.92668891702152
          ],
          [
           29.56704980842912
          ],
          [
           28.579787234042552
          ],
          [
           28
          ],
          [
           16.243243243243242
          ],
          [
           136
          ],
          [
           3
          ],
          [
           96.42933360693583
          ]
         ],
         "domain": {
          "x": [
           0,
           1
          ],
          "y": [
           0,
           1
          ]
         },
         "hovertemplate": "labels=%{label}<br>commits_sum=%{value}<br>parent=%{parent}<br>id=%{id}<br>commits=%{color}<extra></extra>",
         "ids": [
          "All Code/OpenRA.Mods.Common/./AIUtils.cs",
          "All Code/OpenRA.Mods.Common/Traits/AcceptsDeliveredCash.cs",
          "All Code/OpenRA.Mods.Common/Traits/AcceptsDeliveredExperience.cs",
          "All Code/OpenRA.Game/Primitives/ActionQueue.cs",
          "All Code/OpenRA.Test/OpenRA.Game/ActionQueueTest.cs",
          "All Code/OpenRA.Game/Activities/Activity.cs",
          "All Code/OpenRA.Game/Traits/ActivityUtils.cs",
          "All Code/OpenRA.Game/./Actor.cs",
          "All Code/OpenRA.Mods.Common/./ActorExts.cs",
          "All Code/OpenRA.Game/GameRules/ActorInfo.cs",
          "All Code/OpenRA.Game/Primitives/ActorInfoDictionary.cs",
          "All Code/OpenRA.Test/OpenRA.Game/ActorInfoTest.cs",
          "All Code/OpenRA.Mods.Common/./ActorInitializer.cs",
          "All Code/OpenRA.Game/Map/ActorInitializer.cs",
          "All Code/OpenRA.Mods.Common/Graphics/ActorPreview.cs",
          "All Code/OpenRA.Mods.Common/Widgets/ActorPreviewWidget.cs",
          "All Code/OpenRA.Game/Map/ActorReference.cs",
          "All Code/OpenRA.Mods.Common/Traits/ActorSpawner.cs",
          "All Code/OpenRA.Mods.Common/Traits/AffectsShroud.cs",
          "All Code/OpenRA.Mods.Common/Traits/AmmoPool.cs",
          "All Code/OpenRA.Game/Graphics/Animation.cs",
          "All Code/OpenRA.Game/Graphics/AnimationWithOffset.cs",
          "All Code/OpenRA.Mods.Common/Traits/AppearsOnMapPreview.cs",
          "All Code/OpenRA.Mods.Common/Projectiles/AreaBeam.cs",
          "All Code/OpenRA.Game/Support/Arguments.cs",
          "All Code/OpenRA.Mods.Common/Traits/Armament.cs",
          "All Code/OpenRA.Mods.Common/Traits/Armor.cs",
          "All Code/OpenRA.Game/Support/AssemblyLoader.cs",
          "All Code/OpenRA.Mods.Common/./AssetBrowser.cs",
          "All Code/OpenRA.Game/Effects/AsyncAction.cs",
          "All Code/OpenRA.Mods.Common/Activities/Attack.cs",
          "All Code/OpenRA.Mods.Common/Traits/AttackMove.cs",
          "All Code/OpenRA.Mods.D2k/Traits/AttackSwallow.cs",
          "All Code/OpenRA.Mods.Common/Traits/AttackWander.cs",
          "All Code/OpenRA.Mods.D2k/Traits/AttractsWorms.cs",
          "All Code/OpenRA.Mods.Cnc/AudioLoaders/AudLoader.cs",
          "All Code/OpenRA.Mods.Cnc/FileFormats/AudReader.cs",
          "All Code/OpenRA.Mods.Common/Traits/AutoCarryable.cs",
          "All Code/OpenRA.Mods.Common/Traits/AutoCarryall.cs",
          "All Code/OpenRA.Mods.Common/Traits/AutoTarget.cs",
          "All Code/OpenRA.Mods.Common/Traits/AutoTargetPriority.cs",
          "All Code/OpenRA.Mods.Common/Widgets/BackgroundWidget.cs",
          "All Code/OpenRA.Mods.Common/Widgets/BadgeWidget.cs",
          "All Code/OpenRA.Mods.Common/Pathfinder/BasePathSearch.cs",
          "All Code/OpenRA.Mods.Common/Effects/Beacon.cs",
          "All Code/OpenRA.Mods.Common/Orders/BeaconOrderGenerator.cs",
          "All Code/OpenRA.Mods.Common/Graphics/BeamRenderable.cs",
          "All Code/OpenRA.Game/Support/Benchmark.cs",
          "All Code/OpenRA.Mods.Cnc/FileSystem/BigFile.cs",
          "All Code/OpenRA.Game/Primitives/BitSet.cs",
          "All Code/OpenRA.Mods.Common/LoadScreens/BlankLoadScreen.cs",
          "All Code/OpenRA.Mods.Common/FileFormats/Blast.cs",
          "All Code/OpenRA.Mods.Common/Traits/BlocksProjectiles.cs",
          "All Code/OpenRA.Mods.Cnc/FileFormats/Blowfish.cs",
          "All Code/OpenRA.Mods.Cnc/FileFormats/BlowfishKeyProvider.cs",
          "All Code/OpenRA.Mods.Common/Traits/BodyOrientation.cs",
          "All Code/OpenRA.Mods.Common/Traits/Buildable.cs",
          "All Code/OpenRA.Mods.Common/Projectiles/Bullet.cs",
          "All Code/OpenRA.Mods.Common/Widgets/ButtonWidget.cs",
          "All Code/OpenRA.Game/./CPos.cs",
          "All Code/OpenRA.Test/OpenRA.Game/CPosTest.cs",
          "All Code/OpenRA.Mods.Cnc/FileFormats/CRC32.cs",
          "All Code/OpenRA.Game/./CVec.cs",
          "All Code/OpenRA.Game/Primitives/Cache.cs",
          "All Code/OpenRA.Game/Activities/CallFunc.cs",
          "All Code/OpenRA.Mods.Common/Scripting/CallLuaFunc.cs",
          "All Code/OpenRA.Mods.Common/HitShapes/Capsule.cs",
          "All Code/OpenRA.Mods.Common/Traits/Capturable.cs",
          "All Code/OpenRA.Mods.Common/Traits/CapturableProgressBar.cs",
          "All Code/OpenRA.Mods.Common/Traits/CapturableProgressBlink.cs",
          "All Code/OpenRA.Mods.Common/Activities/CaptureActor.cs",
          "All Code/OpenRA.Mods.Common/Traits/CaptureManager.cs",
          "All Code/OpenRA.Mods.Common/Traits/CaptureProgressBar.cs",
          "All Code/OpenRA.Mods.Common/Traits/Captures.cs",
          "All Code/OpenRA.Mods.Common/Traits/Cargo.cs",
          "All Code/OpenRA.Mods.Common/Traits/Carryable.cs",
          "All Code/OpenRA.Mods.Common/Traits/CarryableHarvester.cs",
          "All Code/OpenRA.Mods.Common/Traits/Carryall.cs",
          "All Code/OpenRA.Mods.Common/Traits/CashTrickler.cs",
          "All Code/OpenRA.Mods.Common/Pathfinder/CellInfo.cs",
          "All Code/OpenRA.Mods.Common/Pathfinder/CellInfoLayerPool.cs",
          "All Code/OpenRA.Game/Map/CellLayer.cs",
          "All Code/OpenRA.Game/Map/CellLayerBase.cs",
          "All Code/OpenRA.Game/Map/CellRegion.cs",
          "All Code/OpenRA.Mods.Common/Warheads/ChangeOwnerWarhead.cs",
          "All Code/OpenRA.Mods.Common/Traits/ChangesHealth.cs",
          "All Code/OpenRA.Mods.Common/Traits/ChangesTerrain.cs",
          "All Code/OpenRA.Mods.Common/Commands/ChatCommands.cs",
          "All Code/OpenRA.Mods.Common/Lint/CheckActorReferences.cs",
          "All Code/OpenRA.Mods.Common/Lint/CheckActors.cs",
          "All Code/OpenRA.Mods.Common/Lint/CheckAngle.cs",
          "All Code/OpenRA.Mods.Common/Lint/CheckChromeHotkeys.cs",
          "All Code/OpenRA.Mods.Common/Lint/CheckChromeLogic.cs",
          "All Code/OpenRA.Mods.Common/UtilityCommands/CheckConditionalTraitInterfaceOverrides.cs",
          "All Code/OpenRA.Mods.Common/Lint/CheckConditions.cs",
          "All Code/OpenRA.Mods.Common/Lint/CheckConflictingMouseBounds.cs",
          "All Code/OpenRA.Mods.Common/Lint/CheckCursors.cs",
          "All Code/OpenRA.Mods.Common/Lint/CheckDefaultVisibility.cs",
          "All Code/OpenRA.Mods.Common/UtilityCommands/CheckExplicitInterfacesCommand.cs",
          "All Code/OpenRA.Mods.Common/Lint/CheckHitShapes.cs",
          "All Code/OpenRA.Mods.D2k/Lint/CheckImportActors.cs",
          "All Code/OpenRA.Mods.Common/Lint/CheckLocomotorReferences.cs",
          "All Code/OpenRA.Mods.Common/Lint/CheckMapCordon.cs",
          "All Code/OpenRA.Mods.Common/Lint/CheckMapMetadata.cs",
          "All Code/OpenRA.Mods.Common/Lint/CheckMapTiles.cs",
          "All Code/OpenRA.Mods.Common/UtilityCommands/CheckMissingSprites.cs",
          "All Code/OpenRA.Mods.Common/Lint/CheckNotifications.cs",
          "All Code/OpenRA.Mods.Common/Lint/CheckOwners.cs",
          "All Code/OpenRA.Mods.Common/Lint/CheckPalettes.cs",
          "All Code/OpenRA.Mods.Common/Lint/CheckPlayers.cs",
          "All Code/OpenRA.Mods.Common/Lint/CheckRangeLimit.cs",
          "All Code/OpenRA.Mods.Common/Lint/CheckRevealFootprint.cs",
          "All Code/OpenRA.Mods.Common/Lint/CheckSequences.cs",
          "All Code/OpenRA.Mods.Common/Lint/CheckSpriteBodies.cs",
          "All Code/OpenRA.Mods.Common/Lint/CheckSyncAnnotations.cs",
          "All Code/OpenRA.Mods.Common/Lint/CheckTooltips.cs",
          "All Code/OpenRA.Mods.Common/Lint/CheckTraitLocation.cs",
          "All Code/OpenRA.Mods.Common/Lint/CheckTraitPrerequisites.cs",
          "All Code/OpenRA.Mods.Common/Lint/CheckUnknownTraitFields.cs",
          "All Code/OpenRA.Mods.Common/Lint/CheckUnknownWeaponFields.cs",
          "All Code/OpenRA.Mods.Common/Lint/CheckVoiceReferences.cs",
          "All Code/OpenRA.Mods.Common/Lint/CheckWorldAndPlayerInherits.cs",
          "All Code/OpenRA.Mods.Common/UtilityCommands/CheckYaml.cs",
          "All Code/OpenRA.Mods.Common/Widgets/CheckboxWidget.cs",
          "All Code/OpenRA.Game/Widgets/ChromeMetrics.cs",
          "All Code/OpenRA.Game/Graphics/ChromeProvider.cs",
          "All Code/OpenRA.Mods.Cnc/Traits/Chronoshiftable.cs",
          "All Code/OpenRA.Mods.Common/HitShapes/Circle.cs",
          "All Code/OpenRA.Mods.Common/Graphics/CircleAnnotationRenderable.cs",
          "All Code/OpenRA.Mods.Cnc/Traits/ClassicFacingBodyOrientation.cs",
          "All Code/OpenRA.Mods.Cnc/Graphics/ClassicSpriteSequence.cs",
          "All Code/OpenRA.Mods.Cnc/Graphics/ClassicTilesetSpecificSpriteSequence.cs",
          "All Code/OpenRA.Game/UtilityCommands/ClearInvalidModRegistrationsCommand.cs",
          "All Code/OpenRA.Mods.Common/Widgets/ClientTooltipRegionWidget.cs",
          "All Code/OpenRA.Mods.Common/Traits/Cloak.cs",
          "All Code/OpenRA.Mods.Cnc/Traits/Cloneable.cs",
          "All Code/OpenRA.Mods.Cnc/./CncLoadScreen.cs",
          "All Code/OpenRA.Game/Primitives/Color.cs",
          "All Code/OpenRA.Mods.Common/Widgets/ColorBlockWidget.cs",
          "All Code/OpenRA.Mods.Common/Widgets/ColorMixerWidget.cs",
          "All Code/OpenRA.Mods.Common/Traits/CombatDebugOverlay.cs",
          "All Code/OpenRA.Mods.Common/Traits/CommandBarBlacklist.cs",
          "All Code/OpenRA.Game/Primitives/ConcurrentCache.cs",
          "All Code/OpenRA.Mods.Common/Widgets/ConfirmationDialogs.cs",
          "All Code/OpenRA.Game/Network/Connection.cs",
          "All Code/OpenRA.Game/Server/Connection.cs",
          "All Code/OpenRA.Game/Network/ConnectionTarget.cs",
          "All Code/OpenRA.Mods.Common/Effects/ContrailFader.cs",
          "All Code/OpenRA.Mods.Common/Graphics/ContrailRenderable.cs",
          "All Code/OpenRA.Mods.Cnc/UtilityCommands/ConvertPngToShpCommand.cs",
          "All Code/OpenRA.Mods.Common/UtilityCommands/ConvertSpriteToPngCommand.cs",
          "All Code/OpenRA.Mods.Cnc/Traits/ConyardChronoReturn.cs",
          "All Code/OpenRA.Test/OpenRA.Game/CoordinateTest.cs",
          "All Code/OpenRA.Mods.Common/Warheads/CreateEffectWarhead.cs",
          "All Code/OpenRA.Mods.Common/UtilityCommands/CreateManPage.cs",
          "All Code/OpenRA.Mods.Common/Warheads/CreateResourceWarhead.cs",
          "All Code/OpenRA.Mods.Common/Traits/CreatesShroud.cs",
          "All Code/OpenRA.Mods.Common/Traits/Crushable.cs",
          "All Code/OpenRA.Game/./CryptoUtil.cs",
          "All Code/OpenRA.Game/Graphics/CursorManager.cs",
          "All Code/OpenRA.Game/Graphics/CursorProvider.cs",
          "All Code/OpenRA.Game/Graphics/CursorSequence.cs",
          "All Code/OpenRA.Mods.Common/Traits/CustomSellValue.cs",
          "All Code/OpenRA.Mods.D2k/UtilityCommands/D2kMapImporter.cs",
          "All Code/OpenRA.Mods.D2k/PackageLoaders/D2kSoundResources.cs",
          "All Code/OpenRA.Mods.Common/Warheads/DamageWarhead.cs",
          "All Code/OpenRA.Mods.Common/Traits/DamagedByTerrain.cs",
          "All Code/OpenRA.Mods.D2k/Warheads/DamagesConcreteWarhead.cs",
          "All Code/OpenRA.Mods.Common/SpriteLoaders/DdsLoader.cs",
          "All Code/OpenRA.Mods.Common/UtilityCommands/DebugChromeRegions.cs",
          "All Code/OpenRA.Game/Traits/DebugPauseState.cs",
          "All Code/OpenRA.Mods.Common/Commands/DebugVisualizationCommands.cs",
          "All Code/OpenRA.Platforms.Default/./DefaultPlatform.cs",
          "All Code/OpenRA.Game/./DefaultPlayer.cs",
          "All Code/OpenRA.Mods.Common/Graphics/DefaultSpriteSequence.cs",
          "All Code/OpenRA.Mods.Common/Terrain/DefaultTerrain.cs",
          "All Code/OpenRA.Mods.Common/Terrain/DefaultTileCache.cs",
          "All Code/OpenRA.Game/Effects/DelayedAction.cs",
          "All Code/OpenRA.Game/Effects/DelayedImpact.cs",
          "All Code/OpenRA.Mods.Common/Activities/DeliverResources.cs",
          "All Code/OpenRA.Mods.Common/Activities/DeliverUnit.cs",
          "All Code/OpenRA.Mods.Common/Traits/DeliversCash.cs",
          "All Code/OpenRA.Mods.Common/Traits/DeliversExperience.cs",
          "All Code/OpenRA.Mods.Common/Activities/Demolish.cs",
          "All Code/OpenRA.Mods.Common/Traits/Demolishable.cs",
          "All Code/OpenRA.Mods.Common/Traits/Demolition.cs",
          "All Code/OpenRA.Mods.Common/Activities/DeployForGrantedCondition.cs",
          "All Code/OpenRA.Mods.Common/Orders/DeployOrderTargeter.cs",
          "All Code/OpenRA.Mods.Common/Warheads/DestroyResourceWarhead.cs",
          "All Code/OpenRA.Mods.Common/Traits/DetectCloaked.cs",
          "All Code/OpenRA.Mods.Common/Graphics/DetectionCircleAnnotationRenderable.cs",
          "All Code/OpenRA.Mods.Common/Commands/DevCommands.cs",
          "All Code/OpenRA.Mods.Common/./DiscordService.cs",
          "All Code/OpenRA.Mods.Cnc/Traits/Disguise.cs",
          "All Code/OpenRA.Game/Primitives/DisposableAction.cs",
          "All Code/OpenRA.Mods.Common/Activities/DonateCash.cs",
          "All Code/OpenRA.Mods.Common/Activities/DonateExperience.cs",
          "All Code/OpenRA.Mods.Cnc/Traits/DrainPrerequisitePowerOnDamage.cs",
          "All Code/OpenRA.Mods.Common/Widgets/DropDownButtonWidget.cs",
          "All Code/OpenRA.Mods.Cnc/Projectiles/DropPodImpact.cs",
          "All Code/OpenRA.Platforms.Default/./DummySoundEngine.cs",
          "All Code/OpenRA.Mods.Common/UtilityCommands/DumpSequenceSheetsCommand.cs",
          "All Code/OpenRA.Mods.Cnc/Traits/EdibleByLeap.cs",
          "All Code/OpenRA.Mods.Common/EditorBrushes/EditorActorBrush.cs",
          "All Code/OpenRA.Mods.Common/EditorBrushes/EditorCopyPasteBrush.cs",
          "All Code/OpenRA.Mods.Common/EditorBrushes/EditorDefaultBrush.cs",
          "All Code/OpenRA.Mods.Common/EditorBrushes/EditorResourceBrush.cs",
          "All Code/OpenRA.Mods.Common/EditorBrushes/EditorTileBrush.cs",
          "All Code/OpenRA.Mods.Common/Widgets/EditorViewportControllerWidget.cs",
          "All Code/OpenRA.Mods.Common/Traits/EjectOnDeath.cs",
          "All Code/OpenRA.Mods.Cnc/Traits/EnergyWall.cs",
          "All Code/OpenRA.Mods.Common/Traits/EngineerRepair.cs",
          "All Code/OpenRA.Mods.Common/Traits/EngineerRepairable.cs",
          "All Code/OpenRA.Mods.Common/Activities/Enter.cs",
          "All Code/OpenRA.Mods.Common/Orders/EnterAlliedActorTargeter.cs",
          "All Code/OpenRA.Mods.Common/Traits/EntersTunnels.cs",
          "All Code/OpenRA.Game/Support/Evaluator.cs",
          "All Code/OpenRA.Game/Support/ExceptionHandler.cs",
          "All Code/OpenRA.Mods.Common/Traits/ExitsDebugOverlay.cs",
          "All Code/OpenRA.Mods.Common/Traits/ExperienceTrickler.cs",
          "All Code/OpenRA.Mods.Common/Traits/Explodes.cs",
          "All Code/OpenRA.Mods.Common/Traits/ExplosionOnDamageTransition.cs",
          "All Code/OpenRA.Mods.Common/Widgets/ExponentialSliderWidget.cs",
          "All Code/OpenRA.Mods.Common/UtilityCommands/Extensions.cs",
          "All Code/OpenRA.Game/./ExternalMods.cs",
          "All Code/OpenRA.Mods.Common/UtilityCommands/ExtractFilesCommand.cs",
          "All Code/OpenRA.Mods.Common/UtilityCommands/ExtractLuaDocsCommand.cs",
          "All Code/OpenRA.Mods.Common/UtilityCommands/ExtractMapRules.cs",
          "All Code/OpenRA.Mods.Common/UtilityCommands/ExtractSettingsDocsCommand.cs",
          "All Code/OpenRA.Mods.Common/UtilityCommands/ExtractTraitDocsCommand.cs",
          "All Code/OpenRA.Mods.Common/UtilityCommands/ExtractWeaponDocsCommand.cs",
          "All Code/OpenRA.Mods.Common/UtilityCommands/ExtractZeroBraneStudioLuaAPI.cs",
          "All Code/OpenRA.Game/./Exts.cs",
          "All Code/OpenRA.Game/Server/Exts.cs",
          "All Code/OpenRA.Mods.Common/FileFormats/FastByteReader.cs",
          "All Code/OpenRA.Game/./FieldLoader.cs",
          "All Code/OpenRA.Game/./FieldSaver.cs",
          "All Code/OpenRA.Game/FileSystem/FileSystem.cs",
          "All Code/OpenRA.Mods.Common/Activities/FindAndDeliverResources.cs",
          "All Code/OpenRA.Mods.Common/Warheads/FireClusterWarhead.cs",
          "All Code/OpenRA.Mods.Common/Warheads/FlashPaletteEffectWarhead.cs",
          "All Code/OpenRA.Mods.Common/Effects/FlashTarget.cs",
          "All Code/OpenRA.Mods.Common/Effects/FloatingText.cs",
          "All Code/OpenRA.Game/FileSystem/Folder.cs",
          "All Code/OpenRA.Game/./Fonts.cs",
          "All Code/OpenRA.Mods.Common/Orders/ForceModifiersOrderGenerator.cs",
          "All Code/OpenRA.Platforms.Default/./FrameBuffer.cs",
          "All Code/OpenRA.Platforms.Default/./FreeTypeFont.cs",
          "All Code/OpenRA.Mods.Cnc/Traits/FrozenUnderFogUpdatedByGps.cs",
          "All Code/OpenRA.Mods.Common/Traits/GainsExperience.cs",
          "All Code/OpenRA.Game/./Game.cs",
          "All Code/OpenRA.Game/./GameInformation.cs",
          "All Code/OpenRA.Game/Network/GameSave.cs",
          "All Code/OpenRA.Game/Network/GameServer.cs",
          "All Code/OpenRA.Game/./GameSpeed.cs",
          "All Code/OpenRA.Game/Network/GeoIP.cs",
          "All Code/OpenRA.Mods.Common/UtilityCommands/GetMapHashCommand.cs",
          "All Code/OpenRA.Mods.Common/Traits/GivesBounty.cs",
          "All Code/OpenRA.Mods.Common/Traits/GivesCashOnCapture.cs",
          "All Code/OpenRA.Mods.Common/Traits/GivesExperience.cs",
          "All Code/OpenRA.Mods.Cnc/UtilityCommands/Glob.cs",
          "All Code/OpenRA.Mods.Common/Orders/GlobalButtonOrderGenerator.cs",
          "All Code/OpenRA.Mods.Cnc/Traits/GpsDot.cs",
          "All Code/OpenRA.Mods.Cnc/Effects/GpsDotEffect.cs",
          "All Code/OpenRA.Mods.Cnc/Effects/GpsSatellite.cs",
          "All Code/OpenRA.Mods.Cnc/Traits/GpsWatcher.cs",
          "All Code/OpenRA.Mods.Common/Widgets/GradientColorBlockWidget.cs",
          "All Code/OpenRA.Mods.Common/Warheads/GrantExternalConditionWarhead.cs",
          "All Code/OpenRA.Mods.Common/Projectiles/GravityBomb.cs",
          "All Code/OpenRA.Mods.Common/Widgets/GridLayout.cs",
          "All Code/OpenRA.Mods.Common/Traits/Guard.cs",
          "All Code/OpenRA.Mods.Common/Orders/GuardOrderGenerator.cs",
          "All Code/OpenRA.Mods.Common/Traits/Guardable.cs",
          "All Code/OpenRA.Game/Network/Handshake.cs",
          "All Code/OpenRA.Game/Graphics/HardwarePalette.cs",
          "All Code/OpenRA.Mods.Common/Activities/HarvestResource.cs",
          "All Code/OpenRA.Mods.Common/Traits/Harvester.cs",
          "All Code/OpenRA.Mods.Common/Activities/HarvesterDockSequence.cs",
          "All Code/OpenRA.Mods.Cnc/Traits/HarvesterHuskModifier.cs",
          "All Code/OpenRA.Mods.Common/Traits/Health.cs",
          "All Code/OpenRA.Mods.Common/Warheads/HealthPercentageDamageWarhead.cs",
          "All Code/OpenRA.Mods.Common/Commands/HelpCommand.cs",
          "All Code/OpenRA.Mods.Common/Traits/HitShape.cs",
          "All Code/OpenRA.Game/Input/Hotkey.cs",
          "All Code/OpenRA.Game/./HotkeyDefinition.cs",
          "All Code/OpenRA.Mods.Common/Widgets/HotkeyEntryWidget.cs",
          "All Code/OpenRA.Game/./HotkeyManager.cs",
          "All Code/OpenRA.Game/Input/HotkeyReference.cs",
          "All Code/OpenRA.Game/Support/HttpClientFactory.cs",
          "All Code/OpenRA.Game/./HttpExtension.cs",
          "All Code/OpenRA.Game/Support/HttpQueryBuilder.cs",
          "All Code/OpenRA.Mods.Common/Activities/Hunt.cs",
          "All Code/OpenRA.Mods.Common/Traits/Huntable.cs",
          "All Code/OpenRA.Mods.Common/Traits/Husk.cs",
          "All Code/OpenRA.Mods.Cnc/FileFormats/HvaReader.cs",
          "All Code/OpenRA.Game/Effects/IEffect.cs",
          "All Code/OpenRA.Mods.Common/HitShapes/IHitShape.cs",
          "All Code/OpenRA.Game/Input/IInputHandler.cs",
          "All Code/OpenRA.Game/Primitives/IObservableCollection.cs",
          "All Code/OpenRA.Game/Orders/IOrderGenerator.cs",
          "All Code/OpenRA.Game/FileSystem/IPackage.cs",
          "All Code/OpenRA.Platforms.Default/./ITextureInternal.cs",
          "All Code/OpenRA.Game/./IUtilityCommand.cs",
          "All Code/OpenRA.Mods.Cnc/FileFormats/IdxEntry.cs",
          "All Code/OpenRA.Mods.Cnc/FileFormats/IdxReader.cs",
          "All Code/OpenRA.Mods.Common/Traits/IgnoresCloak.cs",
          "All Code/OpenRA.Mods.Common/Traits/IgnoresDisguise.cs",
          "All Code/OpenRA.Mods.Common/FileFormats/ImaAdpcmReader.cs",
          "All Code/OpenRA.Mods.Common/Widgets/ImageWidget.cs",
          "All Code/OpenRA.Mods.Common/Traits/Immobile.cs",
          "All Code/OpenRA.Mods.D2k/UtilityCommands/ImportD2kMapCommand.cs",
          "All Code/OpenRA.Mods.Common/UtilityCommands/ImportLegacyMapCommand.cs",
          "All Code/OpenRA.Mods.Cnc/UtilityCommands/ImportRedAlertLegacyMapCommand.cs",
          "All Code/OpenRA.Mods.Cnc/UtilityCommands/ImportTSMapCommand.cs",
          "All Code/OpenRA.Mods.Cnc/UtilityCommands/ImportTiberianDawnLegacyMapCommand.cs",
          "All Code/OpenRA.Mods.Cnc/Activities/Infiltrate.cs",
          "All Code/OpenRA.Mods.Common/FileFormats/IniFile.cs",
          "All Code/OpenRA.Game/Input/InputHandler.cs",
          "All Code/OpenRA.Mods.Common/FileFormats/InstallShieldCABCompression.cs",
          "All Code/OpenRA.Mods.Common/FileSystem/InstallShieldPackage.cs",
          "All Code/OpenRA.Game/./InstalledMods.cs",
          "All Code/OpenRA.Mods.Common/Projectiles/InstantHit.cs",
          "All Code/OpenRA.Game/Primitives/Int32Matrix4x4.cs",
          "All Code/OpenRA.Mods.Common/Traits/Interactable.cs",
          "All Code/OpenRA.Mods.Cnc/Projectiles/IonCannon.cs",
          "All Code/OpenRA.Mods.Common/Traits/IsometricSelectable.cs",
          "All Code/OpenRA.Mods.Common/Graphics/IsometricSelectionBarsAnnotationRenderable.cs",
          "All Code/OpenRA.Mods.Common/Graphics/IsometricSelectionBoxAnnotationRenderable.cs",
          "All Code/OpenRA.Mods.Common/Traits/JamsMissiles.cs",
          "All Code/OpenRA.Game/Input/Keycode.cs",
          "All Code/OpenRA.Mods.Common/Traits/KillsSelf.cs",
          "All Code/OpenRA.Mods.Cnc/FileFormats/LCWCompression.cs",
          "All Code/OpenRA.Mods.Cnc/FileFormats/LZOCompression.cs",
          "All Code/OpenRA.Mods.Common/Widgets/LabelWidget.cs",
          "All Code/OpenRA.Mods.Common/Widgets/LabelWithHighlightWidget.cs",
          "All Code/OpenRA.Mods.Common/Widgets/LabelWithTooltipWidget.cs",
          "All Code/OpenRA.Mods.Common/Projectiles/LaserZap.cs",
          "All Code/OpenRA.Game/Support/LaunchArguments.cs",
          "All Code/OpenRA.Mods.Cnc/Activities/LayMines.cs",
          "All Code/OpenRA.Mods.Cnc/Activities/Leap.cs",
          "All Code/OpenRA.Mods.Cnc/Activities/LeapAttack.cs",
          "All Code/OpenRA.Mods.Common/Warheads/LeaveSmudgeWarhead.cs",
          "All Code/OpenRA.Mods.Cnc/UtilityCommands/LegacyRulesImporter.cs",
          "All Code/OpenRA.Mods.Cnc/UtilityCommands/LegacySequenceImporter.cs",
          "All Code/OpenRA.Mods.Cnc/UtilityCommands/LegacyTilesetImporter.cs",
          "All Code/OpenRA.Mods.Common/Graphics/LineAnnotationRenderable.cs",
          "All Code/OpenRA.Mods.Common/Widgets/LineGraphWidget.cs",
          "All Code/OpenRA.Game/Traits/LintAttributes.cs",
          "All Code/OpenRA.Mods.Common/Traits/LintAttributes.cs",
          "All Code/OpenRA.Mods.Common/Lint/LintBuildablePrerequisites.cs",
          "All Code/OpenRA.Mods.Common/Lint/LintExts.cs",
          "All Code/OpenRA.Mods.Common/UtilityCommands/LintInterfaces.cs",
          "All Code/OpenRA.Mods.Common/UtilityCommands/ListInstallShieldCabContentsCommand.cs",
          "All Code/OpenRA.Mods.Common/UtilityCommands/ListInstallShieldContentsCommand.cs",
          "All Code/OpenRA.Mods.Common/Widgets/ListLayout.cs",
          "All Code/OpenRA.Mods.Common/UtilityCommands/ListMSCabContentsCommand.cs",
          "All Code/OpenRA.Mods.Cnc/UtilityCommands/ListMixContentsCommand.cs",
          "All Code/OpenRA.Mods.Common/ServerTraits/LobbyCommands.cs",
          "All Code/OpenRA.Mods.Common/ServerTraits/LobbySettingsNotification.cs",
          "All Code/OpenRA.Game/./LocalPlayerProfile.cs",
          "All Code/OpenRA.Game/Support/Log.cs",
          "All Code/OpenRA.Game/./LogProxy.cs",
          "All Code/OpenRA.Mods.Common/Widgets/LogicKeyListenerWidget.cs",
          "All Code/OpenRA.Mods.Common/Widgets/LogicTickerWidget.cs",
          "All Code/OpenRA.Mods.Common/LoadScreens/LogoStripeLoadScreen.cs",
          "All Code/OpenRA.Game/Primitives/LongBitSet.cs",
          "All Code/OpenRA.Mods.Common/Scripting/LuaScript.cs",
          "All Code/OpenRA.Game/./MPos.cs",
          "All Code/OpenRA.Mods.Common/FileFormats/MSCabCompression.cs",
          "All Code/OpenRA.Mods.Cnc/Traits/MadTank.cs",
          "All Code/OpenRA.Game/./Manifest.cs",
          "All Code/OpenRA.Game/Map/Map.cs",
          "All Code/OpenRA.Game/Map/MapCache.cs",
          "All Code/OpenRA.Game/Map/MapCoordsRegion.cs",
          "All Code/OpenRA.Mods.Common/Traits/MapEditorData.cs",
          "All Code/OpenRA.Game/Map/MapGrid.cs",
          "All Code/OpenRA.Mods.Common/Effects/MapNotificationEffect.cs",
          "All Code/OpenRA.Game/Map/MapPlayers.cs",
          "All Code/OpenRA.Game/Map/MapPreview.cs",
          "All Code/OpenRA.Mods.Common/Widgets/MapPreviewWidget.cs",
          "All Code/OpenRA.Game/Server/MapStatusCache.cs",
          "All Code/OpenRA.Mods.Common/ServerTraits/MasterServerPinger.cs",
          "All Code/OpenRA.Mods.Common/Scripting/Media.cs",
          "All Code/OpenRA.Mods.Cnc/FileSystem/MegFile.cs",
          "All Code/OpenRA.Mods.Common/Widgets/MenuButtonWidget.cs",
          "All Code/OpenRA.Game/Primitives/MergedStream.cs",
          "All Code/OpenRA.Game/Support/MersenneTwister.cs",
          "All Code/OpenRA.Mods.Cnc/Traits/Mine.cs",
          "All Code/OpenRA.Mods.Cnc/Traits/Minelayer.cs",
          "All Code/OpenRA.Game/./MiniYaml.cs",
          "All Code/OpenRA.Test/OpenRA.Game/MiniYamlTest.cs",
          "All Code/OpenRA.Mods.Common/Projectiles/Missile.cs",
          "All Code/OpenRA.Mods.Cnc/FileSystem/MixFile.cs",
          "All Code/OpenRA.Mods.Common/Traits/Mobile.cs",
          "All Code/OpenRA.Mods.Common/./ModContent.cs",
          "All Code/OpenRA.Mods.Common/LoadScreens/ModContentLoadScreen.cs",
          "All Code/OpenRA.Mods.Common/./ModCredits.cs",
          "All Code/OpenRA.Game/./ModData.cs",
          "All Code/OpenRA.Game/Graphics/Model.cs",
          "All Code/OpenRA.Mods.Common/Graphics/ModelActorPreview.cs",
          "All Code/OpenRA.Game/Graphics/ModelAnimation.cs",
          "All Code/OpenRA.Mods.Common/Graphics/ModelRenderable.cs",
          "All Code/OpenRA.Game/Graphics/ModelRenderer.cs",
          "All Code/OpenRA.Mods.Common/Widgets/ModelWidget.cs",
          "All Code/OpenRA.Mods.Common/Widgets/MouseAttachmentWidget.cs",
          "All Code/OpenRA.Mods.Common/AudioLoaders/Mp3Loader.cs",
          "All Code/OpenRA.Platforms.Default/./MultiTapDetection.cs",
          "All Code/OpenRA.Game/GameRules/MusicInfo.cs",
          "All Code/OpenRA.Mods.Common/Traits/MustBeDestroyed.cs",
          "All Code/OpenRA.Game/Network/Nat.cs",
          "All Code/OpenRA.Mods.Common/Projectiles/NukeLaunch.cs",
          "All Code/OpenRA.Game/./ObjectCreator.cs",
          "All Code/OpenRA.Game/Primitives/ObservableCollection.cs",
          "All Code/OpenRA.Game/Primitives/ObservableDictionary.cs",
          "All Code/OpenRA.Game/Primitives/ObservableList.cs",
          "All Code/OpenRA.Mods.Common/Widgets/ObserverArmyIconsWidget.cs",
          "All Code/OpenRA.Mods.Common/Widgets/ObserverProductionIconsWidget.cs",
          "All Code/OpenRA.Mods.Common/Widgets/ObserverSupportPowerIconsWidget.cs",
          "All Code/OpenRA.Mods.Common/AudioLoaders/OggLoader.cs",
          "All Code/OpenRA.Platforms.Default/./OpenAlSoundEngine.cs",
          "All Code/OpenRA.Platforms.Default/./OpenGL.cs",
          "All Code/OpenRA.Game/Network/Order.cs",
          "All Code/OpenRA.Mods.Common/Orders/OrderGenerator.cs",
          "All Code/OpenRA.Game/Network/OrderIO.cs",
          "All Code/OpenRA.Game/Network/OrderManager.cs",
          "All Code/OpenRA.Test/OpenRA.Game/OrderTest.cs",
          "All Code/OpenRA.Mods.Common/UtilityCommands/OutputResolvedRulesCommand.cs",
          "All Code/OpenRA.Mods.Common/UtilityCommands/OutputResolvedSequencesCommand.cs",
          "All Code/OpenRA.Mods.Common/UtilityCommands/OutputResolvedWeaponsCommand.cs",
          "All Code/OpenRA.Mods.Common/Traits/OwnerLostAction.cs",
          "All Code/OpenRA.Mods.Cnc/FileSystem/PackageEntry.cs",
          "All Code/OpenRA.Mods.Cnc/FileSystem/Pak.cs",
          "All Code/OpenRA.Game/Graphics/Palette.cs",
          "All Code/OpenRA.Game/Graphics/PaletteReference.cs",
          "All Code/OpenRA.Mods.Common/Traits/ParaDrop.cs",
          "All Code/OpenRA.Mods.Common/Traits/Parachutable.cs",
          "All Code/OpenRA.Mods.Common/Activities/Parachute.cs",
          "All Code/OpenRA.Mods.Common/Traits/Passenger.cs",
          "All Code/OpenRA.Mods.Common/Widgets/PasswordFieldWidget.cs",
          "All Code/OpenRA.Mods.Common/Pathfinder/PathGraph.cs",
          "All Code/OpenRA.Mods.Common/Pathfinder/PathSearch.cs",
          "All Code/OpenRA.Mods.Common/Widgets/PerfGraphWidget.cs",
          "All Code/OpenRA.Game/Support/PerfHistory.cs",
          "All Code/OpenRA.Game/Support/PerfItem.cs",
          "All Code/OpenRA.Game/Support/PerfSample.cs",
          "All Code/OpenRA.Game/Support/PerfTickLogger.cs",
          "All Code/OpenRA.Game/Support/PerfTimer.cs",
          "All Code/OpenRA.Mods.Common/Activities/PickupUnit.cs",
          "All Code/OpenRA.Mods.Common/Orders/PlaceBuildingOrderGenerator.cs",
          "All Code/OpenRA.Game/./Platform.cs",
          "All Code/OpenRA.Game/Graphics/PlatformInterfaces.cs",
          "All Code/OpenRA.Test/OpenRA.Game/PlatformTest.cs",
          "All Code/OpenRA.Game/./Player.cs",
          "All Code/OpenRA.Game/Graphics/PlayerColorRemap.cs",
          "All Code/OpenRA.Mods.Common/Commands/PlayerCommands.cs",
          "All Code/OpenRA.Game/./PlayerDatabase.cs",
          "All Code/OpenRA.Game/Primitives/PlayerDictionary.cs",
          "All Code/OpenRA.Mods.Common/./PlayerExtensions.cs",
          "All Code/OpenRA.Mods.Common/ServerTraits/PlayerPinger.cs",
          "All Code/OpenRA.Game/./PlayerProfile.cs",
          "All Code/OpenRA.Game/Map/PlayerReference.cs",
          "All Code/OpenRA.Mods.Common/Traits/Plug.cs",
          "All Code/OpenRA.Mods.Common/Traits/Pluggable.cs",
          "All Code/OpenRA.Game/FileFormats/Png.cs",
          "All Code/OpenRA.Mods.Common/UtilityCommands/PngSheetExportMetadataCommand.cs",
          "All Code/OpenRA.Mods.Common/UtilityCommands/PngSheetImportMetadataCommand.cs",
          "All Code/OpenRA.Mods.Common/SpriteLoaders/PngSheetLoader.cs",
          "All Code/OpenRA.Mods.Common/HitShapes/Polygon.cs",
          "All Code/OpenRA.Game/Primitives/Polygon.cs",
          "All Code/OpenRA.Mods.Common/Graphics/PolygonAnnotationRenderable.cs",
          "All Code/OpenRA.Mods.Cnc/Traits/PortableChrono.cs",
          "All Code/OpenRA.Mods.Common/Traits/PowerTooltip.cs",
          "All Code/OpenRA.Game/Primitives/PriorityQueue.cs",
          "All Code/OpenRA.Test/OpenRA.Game/PriorityQueueTest.cs",
          "All Code/OpenRA.Mods.Common/Traits/ProducibleWithLevel.cs",
          "All Code/OpenRA.Mods.Common/Traits/Production.cs",
          "All Code/OpenRA.Mods.Common/Traits/ProductionFromMapEdge.cs",
          "All Code/OpenRA.Mods.Common/Widgets/ProductionPaletteWidget.cs",
          "All Code/OpenRA.Mods.Common/Traits/ProductionParadrop.cs",
          "All Code/OpenRA.Mods.Common/Traits/ProductionQueueFromSelection.cs",
          "All Code/OpenRA.Mods.Common/Widgets/ProductionTabsWidget.cs",
          "All Code/OpenRA.Mods.Common/Widgets/ProductionTypeButtonWidget.cs",
          "All Code/OpenRA.Launcher/./Program.cs",
          "All Code/OpenRA.Server/./Program.cs",
          "All Code/OpenRA.Utility/./Program.cs",
          "All Code/OpenRA.WindowsLauncher/./Program.cs",
          "All Code/OpenRA.Game/Support/Program.cs",
          "All Code/OpenRA.Mods.Common/Widgets/ProgressBarWidget.cs",
          "All Code/OpenRA.Game/Map/ProjectedCellLayer.cs",
          "All Code/OpenRA.Game/Map/ProjectedCellRegion.cs",
          "All Code/OpenRA.Game/Server/ProtocolVersion.cs",
          "All Code/OpenRA.Mods.Common/Traits/ProximityCaptor.cs",
          "All Code/OpenRA.Mods.Common/Traits/ProximityCapturable.cs",
          "All Code/OpenRA.Mods.Common/Traits/QuantizeFacingsFromSequence.cs",
          "All Code/OpenRA.Mods.D2k/SpriteLoaders/R8Loader.cs",
          "All Code/OpenRA.Mods.Common/Widgets/RGBASpriteWidget.cs",
          "All Code/OpenRA.Mods.Common/FileFormats/RLEZerosCompression.cs",
          "All Code/OpenRA.Mods.Common/Widgets/RadarWidget.cs",
          "All Code/OpenRA.Mods.Common/Projectiles/Railgun.cs",
          "All Code/OpenRA.Mods.Common/Graphics/RailgunRenderable.cs",
          "All Code/OpenRA.Mods.Common/Effects/RallyPointIndicator.cs",
          "All Code/OpenRA.Mods.Common/Graphics/RangeCircleAnnotationRenderable.cs",
          "All Code/OpenRA.Game/Primitives/ReadOnlyAdapterStream.cs",
          "All Code/OpenRA.Mods.Common/Traits/Rearmable.cs",
          "All Code/OpenRA.Mods.Common/HitShapes/Rectangle.cs",
          "All Code/OpenRA.Game/Primitives/Rectangle.cs",
          "All Code/OpenRA.Mods.Common/UtilityCommands/RefreshMapCommand.cs",
          "All Code/OpenRA.Game/UtilityCommands/RegisterModCommand.cs",
          "All Code/OpenRA.Mods.Common/Traits/RejectsOrders.cs",
          "All Code/OpenRA.Mods.Common/Traits/ReloadAmmoPool.cs",
          "All Code/OpenRA.Mods.Cnc/UtilityCommands/RemapShpCommand.cs",
          "All Code/OpenRA.Mods.Common/Activities/RemoveSelf.cs",
          "All Code/OpenRA.Game/Graphics/Renderable.cs",
          "All Code/OpenRA.Game/./Renderer.cs",
          "All Code/OpenRA.Mods.Common/Activities/RepairBridge.cs",
          "All Code/OpenRA.Mods.Common/Activities/RepairBuilding.cs",
          "All Code/OpenRA.Mods.Common/Orders/RepairOrderGenerator.cs",
          "All Code/OpenRA.Mods.Common/Traits/Repairable.cs",
          "All Code/OpenRA.Mods.Common/Traits/RepairableNear.cs",
          "All Code/OpenRA.Mods.Common/Traits/RepairsBridges.cs",
          "All Code/OpenRA.Mods.Common/Traits/RepairsUnits.cs",
          "All Code/OpenRA.Mods.Common/Traits/Replaceable.cs",
          "All Code/OpenRA.Mods.Common/Traits/Replacement.cs",
          "All Code/OpenRA.Game/Network/ReplayConnection.cs",
          "All Code/OpenRA.Game/FileFormats/ReplayMetadata.cs",
          "All Code/OpenRA.Mods.Common/UtilityCommands/ReplayMetadataCommand.cs",
          "All Code/OpenRA.Game/Network/ReplayRecorder.cs",
          "All Code/OpenRA.Mods.Common/Traits/RequiresSpecificOwners.cs",
          "All Code/OpenRA.Mods.Common/UtilityCommands/ResizeMapCommand.cs",
          "All Code/OpenRA.Mods.Common/Widgets/ResourceBarWidget.cs",
          "All Code/OpenRA.Mods.Common/Widgets/ResourcePreviewWidget.cs",
          "All Code/OpenRA.Mods.Cnc/Traits/ResourcePurifier.cs",
          "All Code/OpenRA.Mods.Common/Activities/Resupply.cs",
          "All Code/OpenRA.Mods.Common/Traits/RevealOnDeath.cs",
          "All Code/OpenRA.Mods.Common/Traits/RevealOnFire.cs",
          "All Code/OpenRA.Mods.Common/Effects/RevealShroudEffect.cs",
          "All Code/OpenRA.Mods.Common/Traits/RevealsMap.cs",
          "All Code/OpenRA.Mods.Common/Traits/RevealsShroud.cs",
          "All Code/OpenRA.Mods.Common/UtilityCommands/Rgba2Hex.cs",
          "All Code/OpenRA.Game/Graphics/RgbaColorRenderer.cs",
          "All Code/OpenRA.Game/Graphics/RgbaSpriteRenderer.cs",
          "All Code/OpenRA.Mods.Common/Activities/RideTransport.cs",
          "All Code/OpenRA.Game/GameRules/Ruleset.cs",
          "All Code/OpenRA.Mods.D2k/Traits/Sandworm.cs",
          "All Code/OpenRA.Mods.Cnc/Effects/SatelliteLaunch.cs",
          "All Code/OpenRA.Game/Scripting/ScriptActorInterface.cs",
          "All Code/OpenRA.Game/Scripting/ScriptContext.cs",
          "All Code/OpenRA.Game/Scripting/ScriptMemberExts.cs",
          "All Code/OpenRA.Game/Scripting/ScriptMemberWrapper.cs",
          "All Code/OpenRA.Game/Scripting/ScriptObjectWrapper.cs",
          "All Code/OpenRA.Game/Scripting/ScriptPlayerInterface.cs",
          "All Code/OpenRA.Mods.Common/Traits/ScriptTags.cs",
          "All Code/OpenRA.Mods.Common/Scripting/ScriptTriggers.cs",
          "All Code/OpenRA.Game/Scripting/ScriptTypes.cs",
          "All Code/OpenRA.Mods.Common/Widgets/ScrollItemWidget.cs",
          "All Code/OpenRA.Mods.Common/Widgets/ScrollPanelWidget.cs",
          "All Code/OpenRA.Platforms.Default/./Sdl2GraphicsContext.cs",
          "All Code/OpenRA.Platforms.Default/./Sdl2HardwareCursor.cs",
          "All Code/OpenRA.Platforms.Default/./Sdl2Input.cs",
          "All Code/OpenRA.Platforms.Default/./Sdl2PlatformWindow.cs",
          "All Code/OpenRA.Mods.Common/Traits/SeedsResource.cs",
          "All Code/OpenRA.Game/Primitives/SegmentStream.cs",
          "All Code/OpenRA.Mods.Common/Traits/Selectable.cs",
          "All Code/OpenRA.Game/./SelectableExts.cs",
          "All Code/OpenRA.Mods.Common/Graphics/SelectionBarsAnnotationRenderable.cs",
          "All Code/OpenRA.Mods.Common/Graphics/SelectionBoxAnnotationRenderable.cs",
          "All Code/OpenRA.Mods.Common/Widgets/SelectionUtils.cs",
          "All Code/OpenRA.Mods.Common/Activities/Sell.cs",
          "All Code/OpenRA.Mods.Common/Traits/Sellable.cs",
          "All Code/OpenRA.Game/Graphics/SequenceProvider.cs",
          "All Code/OpenRA.Game/Server/Server.cs",
          "All Code/OpenRA.Game/Network/Session.cs",
          "All Code/OpenRA.Game/./Settings.cs",
          "All Code/OpenRA.Platforms.Default/./Shader.cs",
          "All Code/OpenRA.Mods.Common/Traits/ShakeOnDeath.cs",
          "All Code/OpenRA.Mods.Common/Warheads/ShakeScreenWarhead.cs",
          "All Code/OpenRA.Test/OpenRA.Mods.Common/ShapeTest.cs",
          "All Code/OpenRA.Game/Graphics/Sheet.cs",
          "All Code/OpenRA.Game/Graphics/SheetBuilder.cs",
          "All Code/OpenRA.Mods.Common/LoadScreens/SheetLoadScreen.cs",
          "All Code/OpenRA.Mods.Cnc/SpriteLoaders/ShpD2Loader.cs",
          "All Code/OpenRA.Mods.Cnc/SpriteLoaders/ShpRemasteredLoader.cs",
          "All Code/OpenRA.Mods.Cnc/SpriteLoaders/ShpTDLoader.cs",
          "All Code/OpenRA.Mods.Common/SpriteLoaders/ShpTSLoader.cs",
          "All Code/OpenRA.Mods.Common/./ShroudExts.cs",
          "All Code/OpenRA.Mods.Common/Activities/SimpleTeleport.cs",
          "All Code/OpenRA.Game/Primitives/Size.cs",
          "All Code/OpenRA.Mods.Common/Widgets/SliderWidget.cs",
          "All Code/OpenRA.Game/Sound/Sound.cs",
          "All Code/OpenRA.Game/Sound/SoundDevice.cs",
          "All Code/OpenRA.Game/GameRules/SoundInfo.cs",
          "All Code/OpenRA.Game/Primitives/SpatiallyPartitioned.cs",
          "All Code/OpenRA.Test/OpenRA.Game/SpatiallyPartitionedTest.cs",
          "All Code/OpenRA.Mods.Common/Effects/SpawnActorEffect.cs",
          "All Code/OpenRA.Mods.Common/Traits/SpawnActorOnDeath.cs",
          "All Code/OpenRA.Mods.Common/Traits/SpawnActorsOnSell.cs",
          "All Code/OpenRA.Mods.D2k/Traits/SpiceBloom.cs",
          "All Code/OpenRA.Mods.Common/Warheads/SpreadDamageWarhead.cs",
          "All Code/OpenRA.Game/Graphics/Sprite.cs",
          "All Code/OpenRA.Mods.Common/Graphics/SpriteActorPreview.cs",
          "All Code/OpenRA.Mods.Common/Effects/SpriteAnnotation.cs",
          "All Code/OpenRA.Mods.Common/Effects/SpriteEffect.cs",
          "All Code/OpenRA.Game/Graphics/SpriteFont.cs",
          "All Code/OpenRA.Mods.Common/Activities/SpriteHarvesterDockSequence.cs",
          "All Code/OpenRA.Game/Graphics/SpriteLoader.cs",
          "All Code/OpenRA.Game/Graphics/SpriteRenderable.cs",
          "All Code/OpenRA.Game/Graphics/SpriteRenderer.cs",
          "All Code/OpenRA.Mods.Common/Widgets/SpriteWidget.cs",
          "All Code/OpenRA.Mods.Common/Traits/StoresResources.cs",
          "All Code/OpenRA.Mods.Common/Widgets/StrategicProgressWidget.cs",
          "All Code/OpenRA.Game/./StreamExts.cs",
          "All Code/OpenRA.Test/OpenRA.Game/StreamExtsTests.cs",
          "All Code/OpenRA.Mods.Common/Widgets/SupportPowerTimerWidget.cs",
          "All Code/OpenRA.Mods.Common/Widgets/SupportPowersWidget.cs",
          "All Code/OpenRA.Mods.D2k/Activities/SwallowActor.cs",
          "All Code/OpenRA.Game/./Sync.cs",
          "All Code/OpenRA.Game/Network/SyncReport.cs",
          "All Code/OpenRA.Mods.Cnc/Traits/TDGunboat.cs",
          "All Code/OpenRA.Game/Traits/Target.cs",
          "All Code/OpenRA.Mods.Common/Warheads/TargetDamageWarhead.cs",
          "All Code/OpenRA.Mods.Common/./TargetExtensions.cs",
          "All Code/OpenRA.Game/Graphics/TargetLineRenderable.cs",
          "All Code/OpenRA.Mods.Common/Traits/Targetable.cs",
          "All Code/OpenRA.Mods.Cnc/Activities/Teleport.cs",
          "All Code/OpenRA.Mods.Common/Traits/TemporaryOwnerManager.cs",
          "All Code/OpenRA.Game/Map/TerrainInfo.cs",
          "All Code/OpenRA.Mods.Common/Terrain/TerrainInfo.cs",
          "All Code/OpenRA.Mods.Common/Traits/TerrainLightSource.cs",
          "All Code/OpenRA.Game/Graphics/TerrainSpriteLayer.cs",
          "All Code/OpenRA.Mods.Common/Widgets/TerrainTemplatePreviewWidget.cs",
          "All Code/OpenRA.Mods.Cnc/Projectiles/TeslaZap.cs",
          "All Code/OpenRA.Mods.Cnc/Graphics/TeslaZapRenderable.cs",
          "All Code/OpenRA.Mods.Common/Graphics/TextAnnotationRenderable.cs",
          "All Code/OpenRA.Mods.Common/Widgets/TextFieldWidget.cs",
          "All Code/OpenRA.Game/./TextNotification.cs",
          "All Code/OpenRA.Mods.Common/Widgets/TextNotificationsDisplayWidget.cs",
          "All Code/OpenRA.Game/./TextNotificationsManager.cs",
          "All Code/OpenRA.Platforms.Default/./Texture.cs",
          "All Code/OpenRA.Mods.Common/SpriteLoaders/TgaLoader.cs",
          "All Code/OpenRA.Platforms.Default/./ThreadAffine.cs",
          "All Code/OpenRA.Platforms.Default/./ThreadedGraphicsContext.cs",
          "All Code/OpenRA.Mods.Common/Traits/ThrowsParticle.cs",
          "All Code/OpenRA.Mods.Common/Traits/ThrowsShrapnel.cs",
          "All Code/OpenRA.Game/Network/TickTime.cs",
          "All Code/OpenRA.Game/Map/TileReference.cs",
          "All Code/OpenRA.Mods.Common/Graphics/TilesetSpecificSpriteSequence.cs",
          "All Code/OpenRA.Mods.Cnc/SpriteLoaders/TmpRALoader.cs",
          "All Code/OpenRA.Mods.Cnc/SpriteLoaders/TmpTDLoader.cs",
          "All Code/OpenRA.Mods.Cnc/SpriteLoaders/TmpTSLoader.cs",
          "All Code/OpenRA.Mods.Common/Traits/Tooltip.cs",
          "All Code/OpenRA.Mods.Common/Widgets/TooltipContainerWidget.cs",
          "All Code/OpenRA.Mods.Common/Traits/TooltipDescription.cs",
          "All Code/OpenRA.Game/./TraitDictionary.cs",
          "All Code/OpenRA.Game/Server/TraitInterfaces.cs",
          "All Code/OpenRA.Mods.Cnc/./TraitsInterfaces.cs",
          "All Code/OpenRA.Mods.Common/./TraitsInterfaces.cs",
          "All Code/OpenRA.Game/Traits/TraitsInterfaces.cs",
          "All Code/OpenRA.Mods.Cnc/Traits/TransferTimedExternalConditionOnTransform.cs",
          "All Code/OpenRA.Mods.Common/Activities/Transform.cs",
          "All Code/OpenRA.Mods.Common/Traits/TransformCrusherOnCrush.cs",
          "All Code/OpenRA.Mods.Common/Traits/TransformOnCapture.cs",
          "All Code/OpenRA.Mods.Common/Traits/Transforms.cs",
          "All Code/OpenRA.Mods.Cnc/Traits/TransformsNearResources.cs",
          "All Code/OpenRA.Game/./Translation.cs",
          "All Code/OpenRA.Mods.Common/Traits/TunnelEntrance.cs",
          "All Code/OpenRA.Mods.Common/Activities/Turn.cs",
          "All Code/OpenRA.Mods.Common/Traits/TurnOnIdle.cs",
          "All Code/OpenRA.Mods.Common/Traits/Turreted.cs",
          "All Code/OpenRA.Game/Primitives/TypeDictionary.cs",
          "All Code/OpenRA.Mods.Common/Graphics/UIModelRenderable.cs",
          "All Code/OpenRA.Game/Graphics/UISpriteRenderable.cs",
          "All Code/OpenRA.Mods.Common/Graphics/UITextRenderable.cs",
          "All Code/OpenRA.Game/Orders/UnitOrderGenerator.cs",
          "All Code/OpenRA.Mods.Common/Orders/UnitOrderTargeter.cs",
          "All Code/OpenRA.Game/Network/UnitOrders.cs",
          "All Code/OpenRA.Mods.Common/Activities/UnloadCargo.cs",
          "All Code/OpenRA.Game/UtilityCommands/UnregisterModCommand.cs",
          "All Code/OpenRA.Mods.Common/UtilityCommands/UpdateMapCommand.cs",
          "All Code/OpenRA.Mods.Common/UtilityCommands/UpdateModCommand.cs",
          "All Code/OpenRA.Mods.Common/UpdateRules/UpdatePath.cs",
          "All Code/OpenRA.Mods.Common/UpdateRules/UpdateRule.cs",
          "All Code/OpenRA.Mods.Common/UpdateRules/UpdateUtils.cs",
          "All Code/OpenRA.Mods.Common/Traits/UpdatesDerrickCount.cs",
          "All Code/OpenRA.Mods.Cnc/./Util.cs",
          "All Code/OpenRA.Mods.Common/./Util.cs",
          "All Code/OpenRA.Game/Graphics/Util.cs",
          "All Code/OpenRA.Mods.Common/UtilityCommands/Utilities.cs",
          "All Code/OpenRA.Mods.Common/Traits/Valued.cs",
          "All Code/OpenRA.Game/Support/VariableExpression.cs",
          "All Code/OpenRA.Test/OpenRA.Game/VariableExpressionTest.cs",
          "All Code/OpenRA.Game/Graphics/Vertex.cs",
          "All Code/OpenRA.Platforms.Default/./VertexBuffer.cs",
          "All Code/OpenRA.Game/Graphics/Video.cs",
          "All Code/OpenRA.Game/Graphics/VideoLoader.cs",
          "All Code/OpenRA.Mods.Common/Widgets/VideoPlayerWidget.cs",
          "All Code/OpenRA.Game/Graphics/Viewport.cs",
          "All Code/OpenRA.Mods.Common/Widgets/ViewportControllerWidget.cs",
          "All Code/OpenRA.Mods.Cnc/AudioLoaders/VocLoader.cs",
          "All Code/OpenRA.Game/./VoiceExts.cs",
          "All Code/OpenRA.Mods.Common/Traits/Voiced.cs",
          "All Code/OpenRA.Mods.Cnc/Graphics/Voxel.cs",
          "All Code/OpenRA.Mods.Cnc/Activities/VoxelHarvesterDockSequence.cs",
          "All Code/OpenRA.Mods.Cnc/Graphics/VoxelLoader.cs",
          "All Code/OpenRA.Mods.Cnc/Graphics/VoxelModelSequenceLoader.cs",
          "All Code/OpenRA.Mods.Cnc/VideoLoaders/VqaLoader.cs",
          "All Code/OpenRA.Mods.Cnc/FileFormats/VqaReader.cs",
          "All Code/OpenRA.Mods.Cnc/FileFormats/VxlReader.cs",
          "All Code/OpenRA.Game/./WAngle.cs",
          "All Code/OpenRA.Game/./WDist.cs",
          "All Code/OpenRA.Game/./WPos.cs",
          "All Code/OpenRA.Game/./WRot.cs",
          "All Code/OpenRA.Game/./WVec.cs",
          "All Code/OpenRA.Mods.Common/Activities/Wait.cs",
          "All Code/OpenRA.Mods.Common/Traits/Wanders.cs",
          "All Code/OpenRA.Mods.Common/Warheads/Warhead.cs",
          "All Code/OpenRA.Mods.Common/AudioLoaders/WavLoader.cs",
          "All Code/OpenRA.Mods.Common/FileFormats/WavReader.cs",
          "All Code/OpenRA.Game/GameRules/WeaponInfo.cs",
          "All Code/OpenRA.Mods.Common/./WebServices.cs",
          "All Code/OpenRA.Game/Widgets/Widget.cs",
          "All Code/OpenRA.Game/Widgets/WidgetLoader.cs",
          "All Code/OpenRA.Mods.Common/Widgets/WidgetUtils.cs",
          "All Code/OpenRA.Game/./World.cs",
          "All Code/OpenRA.Mods.Common/Widgets/WorldButtonWidget.cs",
          "All Code/OpenRA.Mods.Common/./WorldExtensions.cs",
          "All Code/OpenRA.Mods.Common/Widgets/WorldInteractionControllerWidget.cs",
          "All Code/OpenRA.Mods.Common/Widgets/WorldLabelWithTooltipWidget.cs",
          "All Code/OpenRA.Game/Graphics/WorldRenderer.cs",
          "All Code/OpenRA.Game/./WorldUtils.cs",
          "All Code/OpenRA.Game/./WorldViewportSizes.cs",
          "All Code/OpenRA.Mods.Cnc/VideoLoaders/WsaLoader.cs",
          "All Code/OpenRA.Mods.Cnc/FileFormats/WsaReader.cs",
          "All Code/OpenRA.Mods.Cnc/FileFormats/XORDeltaCompression.cs",
          "All Code/OpenRA.Mods.Cnc/FileFormats/XccGlobalDatabase.cs",
          "All Code/OpenRA.Mods.Cnc/FileFormats/XccLocalDatabase.cs",
          "All Code/OpenRA.Game/FileSystem/ZipFile.cs",
          "All Code/OpenRA.Game/Primitives/float2.cs",
          "All Code/OpenRA.Game/Primitives/float3.cs",
          "All Code/OpenRA.Game/Primitives/int2.cs",
          "All Code/OpenRA.Game/.",
          "All Code/OpenRA.Launcher/.",
          "All Code/OpenRA.Mods.Cnc/.",
          "All Code/OpenRA.Mods.Common/.",
          "All Code/OpenRA.Platforms.Default/.",
          "All Code/OpenRA.Server/.",
          "All Code/OpenRA.Utility/.",
          "All Code/OpenRA.WindowsLauncher/.",
          "All Code/OpenRA.Game/Activities",
          "All Code/OpenRA.Mods.Cnc/Activities",
          "All Code/OpenRA.Mods.Common/Activities",
          "All Code/OpenRA.Mods.D2k/Activities",
          "All Code/OpenRA.Mods.Cnc/AudioLoaders",
          "All Code/OpenRA.Mods.Common/AudioLoaders",
          "All Code/OpenRA.Mods.Common/Commands",
          "All Code/OpenRA.Mods.Common/EditorBrushes",
          "All Code/OpenRA.Game/Effects",
          "All Code/OpenRA.Mods.Cnc/Effects",
          "All Code/OpenRA.Mods.Common/Effects",
          "All Code/OpenRA.Game/FileFormats",
          "All Code/OpenRA.Mods.Cnc/FileFormats",
          "All Code/OpenRA.Mods.Common/FileFormats",
          "All Code/OpenRA.Game/FileSystem",
          "All Code/OpenRA.Mods.Cnc/FileSystem",
          "All Code/OpenRA.Mods.Common/FileSystem",
          "All Code/OpenRA.Game/GameRules",
          "All Code/OpenRA.Game/Graphics",
          "All Code/OpenRA.Mods.Cnc/Graphics",
          "All Code/OpenRA.Mods.Common/Graphics",
          "All Code/OpenRA.Mods.Common/HitShapes",
          "All Code/OpenRA.Game/Input",
          "All Code/OpenRA.Mods.Common/Lint",
          "All Code/OpenRA.Mods.D2k/Lint",
          "All Code/OpenRA.Mods.Common/LoadScreens",
          "All Code/OpenRA.Game/Map",
          "All Code/OpenRA.Game/Network",
          "All Code/OpenRA.Test/OpenRA.Game",
          "All Code/OpenRA.Test/OpenRA.Mods.Common",
          "All Code/OpenRA.Game/Orders",
          "All Code/OpenRA.Mods.Common/Orders",
          "All Code/OpenRA.Mods.D2k/PackageLoaders",
          "All Code/OpenRA.Mods.Common/Pathfinder",
          "All Code/OpenRA.Game/Primitives",
          "All Code/OpenRA.Mods.Cnc/Projectiles",
          "All Code/OpenRA.Mods.Common/Projectiles",
          "All Code/OpenRA.Game/Scripting",
          "All Code/OpenRA.Mods.Common/Scripting",
          "All Code/OpenRA.Game/Server",
          "All Code/OpenRA.Mods.Common/ServerTraits",
          "All Code/OpenRA.Game/Sound",
          "All Code/OpenRA.Mods.Cnc/SpriteLoaders",
          "All Code/OpenRA.Mods.Common/SpriteLoaders",
          "All Code/OpenRA.Mods.D2k/SpriteLoaders",
          "All Code/OpenRA.Game/Support",
          "All Code/OpenRA.Mods.Common/Terrain",
          "All Code/OpenRA.Game/Traits",
          "All Code/OpenRA.Mods.Cnc/Traits",
          "All Code/OpenRA.Mods.Common/Traits",
          "All Code/OpenRA.Mods.D2k/Traits",
          "All Code/OpenRA.Mods.Common/UpdateRules",
          "All Code/OpenRA.Game/UtilityCommands",
          "All Code/OpenRA.Mods.Cnc/UtilityCommands",
          "All Code/OpenRA.Mods.Common/UtilityCommands",
          "All Code/OpenRA.Mods.D2k/UtilityCommands",
          "All Code/OpenRA.Mods.Cnc/VideoLoaders",
          "All Code/OpenRA.Mods.Common/Warheads",
          "All Code/OpenRA.Mods.D2k/Warheads",
          "All Code/OpenRA.Game/Widgets",
          "All Code/OpenRA.Mods.Common/Widgets",
          "All Code/OpenRA.Game",
          "All Code/OpenRA.Launcher",
          "All Code/OpenRA.Mods.Cnc",
          "All Code/OpenRA.Mods.Common",
          "All Code/OpenRA.Mods.D2k",
          "All Code/OpenRA.Platforms.Default",
          "All Code/OpenRA.Server",
          "All Code/OpenRA.Test",
          "All Code/OpenRA.Utility",
          "All Code/OpenRA.WindowsLauncher",
          "All Code"
         ],
         "labels": [
          "AIUtils.cs",
          "AcceptsDeliveredCash.cs",
          "AcceptsDeliveredExperience.cs",
          "ActionQueue.cs",
          "ActionQueueTest.cs",
          "Activity.cs",
          "ActivityUtils.cs",
          "Actor.cs",
          "ActorExts.cs",
          "ActorInfo.cs",
          "ActorInfoDictionary.cs",
          "ActorInfoTest.cs",
          "ActorInitializer.cs",
          "ActorInitializer.cs",
          "ActorPreview.cs",
          "ActorPreviewWidget.cs",
          "ActorReference.cs",
          "ActorSpawner.cs",
          "AffectsShroud.cs",
          "AmmoPool.cs",
          "Animation.cs",
          "AnimationWithOffset.cs",
          "AppearsOnMapPreview.cs",
          "AreaBeam.cs",
          "Arguments.cs",
          "Armament.cs",
          "Armor.cs",
          "AssemblyLoader.cs",
          "AssetBrowser.cs",
          "AsyncAction.cs",
          "Attack.cs",
          "AttackMove.cs",
          "AttackSwallow.cs",
          "AttackWander.cs",
          "AttractsWorms.cs",
          "AudLoader.cs",
          "AudReader.cs",
          "AutoCarryable.cs",
          "AutoCarryall.cs",
          "AutoTarget.cs",
          "AutoTargetPriority.cs",
          "BackgroundWidget.cs",
          "BadgeWidget.cs",
          "BasePathSearch.cs",
          "Beacon.cs",
          "BeaconOrderGenerator.cs",
          "BeamRenderable.cs",
          "Benchmark.cs",
          "BigFile.cs",
          "BitSet.cs",
          "BlankLoadScreen.cs",
          "Blast.cs",
          "BlocksProjectiles.cs",
          "Blowfish.cs",
          "BlowfishKeyProvider.cs",
          "BodyOrientation.cs",
          "Buildable.cs",
          "Bullet.cs",
          "ButtonWidget.cs",
          "CPos.cs",
          "CPosTest.cs",
          "CRC32.cs",
          "CVec.cs",
          "Cache.cs",
          "CallFunc.cs",
          "CallLuaFunc.cs",
          "Capsule.cs",
          "Capturable.cs",
          "CapturableProgressBar.cs",
          "CapturableProgressBlink.cs",
          "CaptureActor.cs",
          "CaptureManager.cs",
          "CaptureProgressBar.cs",
          "Captures.cs",
          "Cargo.cs",
          "Carryable.cs",
          "CarryableHarvester.cs",
          "Carryall.cs",
          "CashTrickler.cs",
          "CellInfo.cs",
          "CellInfoLayerPool.cs",
          "CellLayer.cs",
          "CellLayerBase.cs",
          "CellRegion.cs",
          "ChangeOwnerWarhead.cs",
          "ChangesHealth.cs",
          "ChangesTerrain.cs",
          "ChatCommands.cs",
          "CheckActorReferences.cs",
          "CheckActors.cs",
          "CheckAngle.cs",
          "CheckChromeHotkeys.cs",
          "CheckChromeLogic.cs",
          "CheckConditionalTraitInterfaceOverrides.cs",
          "CheckConditions.cs",
          "CheckConflictingMouseBounds.cs",
          "CheckCursors.cs",
          "CheckDefaultVisibility.cs",
          "CheckExplicitInterfacesCommand.cs",
          "CheckHitShapes.cs",
          "CheckImportActors.cs",
          "CheckLocomotorReferences.cs",
          "CheckMapCordon.cs",
          "CheckMapMetadata.cs",
          "CheckMapTiles.cs",
          "CheckMissingSprites.cs",
          "CheckNotifications.cs",
          "CheckOwners.cs",
          "CheckPalettes.cs",
          "CheckPlayers.cs",
          "CheckRangeLimit.cs",
          "CheckRevealFootprint.cs",
          "CheckSequences.cs",
          "CheckSpriteBodies.cs",
          "CheckSyncAnnotations.cs",
          "CheckTooltips.cs",
          "CheckTraitLocation.cs",
          "CheckTraitPrerequisites.cs",
          "CheckUnknownTraitFields.cs",
          "CheckUnknownWeaponFields.cs",
          "CheckVoiceReferences.cs",
          "CheckWorldAndPlayerInherits.cs",
          "CheckYaml.cs",
          "CheckboxWidget.cs",
          "ChromeMetrics.cs",
          "ChromeProvider.cs",
          "Chronoshiftable.cs",
          "Circle.cs",
          "CircleAnnotationRenderable.cs",
          "ClassicFacingBodyOrientation.cs",
          "ClassicSpriteSequence.cs",
          "ClassicTilesetSpecificSpriteSequence.cs",
          "ClearInvalidModRegistrationsCommand.cs",
          "ClientTooltipRegionWidget.cs",
          "Cloak.cs",
          "Cloneable.cs",
          "CncLoadScreen.cs",
          "Color.cs",
          "ColorBlockWidget.cs",
          "ColorMixerWidget.cs",
          "CombatDebugOverlay.cs",
          "CommandBarBlacklist.cs",
          "ConcurrentCache.cs",
          "ConfirmationDialogs.cs",
          "Connection.cs",
          "Connection.cs",
          "ConnectionTarget.cs",
          "ContrailFader.cs",
          "ContrailRenderable.cs",
          "ConvertPngToShpCommand.cs",
          "ConvertSpriteToPngCommand.cs",
          "ConyardChronoReturn.cs",
          "CoordinateTest.cs",
          "CreateEffectWarhead.cs",
          "CreateManPage.cs",
          "CreateResourceWarhead.cs",
          "CreatesShroud.cs",
          "Crushable.cs",
          "CryptoUtil.cs",
          "CursorManager.cs",
          "CursorProvider.cs",
          "CursorSequence.cs",
          "CustomSellValue.cs",
          "D2kMapImporter.cs",
          "D2kSoundResources.cs",
          "DamageWarhead.cs",
          "DamagedByTerrain.cs",
          "DamagesConcreteWarhead.cs",
          "DdsLoader.cs",
          "DebugChromeRegions.cs",
          "DebugPauseState.cs",
          "DebugVisualizationCommands.cs",
          "DefaultPlatform.cs",
          "DefaultPlayer.cs",
          "DefaultSpriteSequence.cs",
          "DefaultTerrain.cs",
          "DefaultTileCache.cs",
          "DelayedAction.cs",
          "DelayedImpact.cs",
          "DeliverResources.cs",
          "DeliverUnit.cs",
          "DeliversCash.cs",
          "DeliversExperience.cs",
          "Demolish.cs",
          "Demolishable.cs",
          "Demolition.cs",
          "DeployForGrantedCondition.cs",
          "DeployOrderTargeter.cs",
          "DestroyResourceWarhead.cs",
          "DetectCloaked.cs",
          "DetectionCircleAnnotationRenderable.cs",
          "DevCommands.cs",
          "DiscordService.cs",
          "Disguise.cs",
          "DisposableAction.cs",
          "DonateCash.cs",
          "DonateExperience.cs",
          "DrainPrerequisitePowerOnDamage.cs",
          "DropDownButtonWidget.cs",
          "DropPodImpact.cs",
          "DummySoundEngine.cs",
          "DumpSequenceSheetsCommand.cs",
          "EdibleByLeap.cs",
          "EditorActorBrush.cs",
          "EditorCopyPasteBrush.cs",
          "EditorDefaultBrush.cs",
          "EditorResourceBrush.cs",
          "EditorTileBrush.cs",
          "EditorViewportControllerWidget.cs",
          "EjectOnDeath.cs",
          "EnergyWall.cs",
          "EngineerRepair.cs",
          "EngineerRepairable.cs",
          "Enter.cs",
          "EnterAlliedActorTargeter.cs",
          "EntersTunnels.cs",
          "Evaluator.cs",
          "ExceptionHandler.cs",
          "ExitsDebugOverlay.cs",
          "ExperienceTrickler.cs",
          "Explodes.cs",
          "ExplosionOnDamageTransition.cs",
          "ExponentialSliderWidget.cs",
          "Extensions.cs",
          "ExternalMods.cs",
          "ExtractFilesCommand.cs",
          "ExtractLuaDocsCommand.cs",
          "ExtractMapRules.cs",
          "ExtractSettingsDocsCommand.cs",
          "ExtractTraitDocsCommand.cs",
          "ExtractWeaponDocsCommand.cs",
          "ExtractZeroBraneStudioLuaAPI.cs",
          "Exts.cs",
          "Exts.cs",
          "FastByteReader.cs",
          "FieldLoader.cs",
          "FieldSaver.cs",
          "FileSystem.cs",
          "FindAndDeliverResources.cs",
          "FireClusterWarhead.cs",
          "FlashPaletteEffectWarhead.cs",
          "FlashTarget.cs",
          "FloatingText.cs",
          "Folder.cs",
          "Fonts.cs",
          "ForceModifiersOrderGenerator.cs",
          "FrameBuffer.cs",
          "FreeTypeFont.cs",
          "FrozenUnderFogUpdatedByGps.cs",
          "GainsExperience.cs",
          "Game.cs",
          "GameInformation.cs",
          "GameSave.cs",
          "GameServer.cs",
          "GameSpeed.cs",
          "GeoIP.cs",
          "GetMapHashCommand.cs",
          "GivesBounty.cs",
          "GivesCashOnCapture.cs",
          "GivesExperience.cs",
          "Glob.cs",
          "GlobalButtonOrderGenerator.cs",
          "GpsDot.cs",
          "GpsDotEffect.cs",
          "GpsSatellite.cs",
          "GpsWatcher.cs",
          "GradientColorBlockWidget.cs",
          "GrantExternalConditionWarhead.cs",
          "GravityBomb.cs",
          "GridLayout.cs",
          "Guard.cs",
          "GuardOrderGenerator.cs",
          "Guardable.cs",
          "Handshake.cs",
          "HardwarePalette.cs",
          "HarvestResource.cs",
          "Harvester.cs",
          "HarvesterDockSequence.cs",
          "HarvesterHuskModifier.cs",
          "Health.cs",
          "HealthPercentageDamageWarhead.cs",
          "HelpCommand.cs",
          "HitShape.cs",
          "Hotkey.cs",
          "HotkeyDefinition.cs",
          "HotkeyEntryWidget.cs",
          "HotkeyManager.cs",
          "HotkeyReference.cs",
          "HttpClientFactory.cs",
          "HttpExtension.cs",
          "HttpQueryBuilder.cs",
          "Hunt.cs",
          "Huntable.cs",
          "Husk.cs",
          "HvaReader.cs",
          "IEffect.cs",
          "IHitShape.cs",
          "IInputHandler.cs",
          "IObservableCollection.cs",
          "IOrderGenerator.cs",
          "IPackage.cs",
          "ITextureInternal.cs",
          "IUtilityCommand.cs",
          "IdxEntry.cs",
          "IdxReader.cs",
          "IgnoresCloak.cs",
          "IgnoresDisguise.cs",
          "ImaAdpcmReader.cs",
          "ImageWidget.cs",
          "Immobile.cs",
          "ImportD2kMapCommand.cs",
          "ImportLegacyMapCommand.cs",
          "ImportRedAlertLegacyMapCommand.cs",
          "ImportTSMapCommand.cs",
          "ImportTiberianDawnLegacyMapCommand.cs",
          "Infiltrate.cs",
          "IniFile.cs",
          "InputHandler.cs",
          "InstallShieldCABCompression.cs",
          "InstallShieldPackage.cs",
          "InstalledMods.cs",
          "InstantHit.cs",
          "Int32Matrix4x4.cs",
          "Interactable.cs",
          "IonCannon.cs",
          "IsometricSelectable.cs",
          "IsometricSelectionBarsAnnotationRenderable.cs",
          "IsometricSelectionBoxAnnotationRenderable.cs",
          "JamsMissiles.cs",
          "Keycode.cs",
          "KillsSelf.cs",
          "LCWCompression.cs",
          "LZOCompression.cs",
          "LabelWidget.cs",
          "LabelWithHighlightWidget.cs",
          "LabelWithTooltipWidget.cs",
          "LaserZap.cs",
          "LaunchArguments.cs",
          "LayMines.cs",
          "Leap.cs",
          "LeapAttack.cs",
          "LeaveSmudgeWarhead.cs",
          "LegacyRulesImporter.cs",
          "LegacySequenceImporter.cs",
          "LegacyTilesetImporter.cs",
          "LineAnnotationRenderable.cs",
          "LineGraphWidget.cs",
          "LintAttributes.cs",
          "LintAttributes.cs",
          "LintBuildablePrerequisites.cs",
          "LintExts.cs",
          "LintInterfaces.cs",
          "ListInstallShieldCabContentsCommand.cs",
          "ListInstallShieldContentsCommand.cs",
          "ListLayout.cs",
          "ListMSCabContentsCommand.cs",
          "ListMixContentsCommand.cs",
          "LobbyCommands.cs",
          "LobbySettingsNotification.cs",
          "LocalPlayerProfile.cs",
          "Log.cs",
          "LogProxy.cs",
          "LogicKeyListenerWidget.cs",
          "LogicTickerWidget.cs",
          "LogoStripeLoadScreen.cs",
          "LongBitSet.cs",
          "LuaScript.cs",
          "MPos.cs",
          "MSCabCompression.cs",
          "MadTank.cs",
          "Manifest.cs",
          "Map.cs",
          "MapCache.cs",
          "MapCoordsRegion.cs",
          "MapEditorData.cs",
          "MapGrid.cs",
          "MapNotificationEffect.cs",
          "MapPlayers.cs",
          "MapPreview.cs",
          "MapPreviewWidget.cs",
          "MapStatusCache.cs",
          "MasterServerPinger.cs",
          "Media.cs",
          "MegFile.cs",
          "MenuButtonWidget.cs",
          "MergedStream.cs",
          "MersenneTwister.cs",
          "Mine.cs",
          "Minelayer.cs",
          "MiniYaml.cs",
          "MiniYamlTest.cs",
          "Missile.cs",
          "MixFile.cs",
          "Mobile.cs",
          "ModContent.cs",
          "ModContentLoadScreen.cs",
          "ModCredits.cs",
          "ModData.cs",
          "Model.cs",
          "ModelActorPreview.cs",
          "ModelAnimation.cs",
          "ModelRenderable.cs",
          "ModelRenderer.cs",
          "ModelWidget.cs",
          "MouseAttachmentWidget.cs",
          "Mp3Loader.cs",
          "MultiTapDetection.cs",
          "MusicInfo.cs",
          "MustBeDestroyed.cs",
          "Nat.cs",
          "NukeLaunch.cs",
          "ObjectCreator.cs",
          "ObservableCollection.cs",
          "ObservableDictionary.cs",
          "ObservableList.cs",
          "ObserverArmyIconsWidget.cs",
          "ObserverProductionIconsWidget.cs",
          "ObserverSupportPowerIconsWidget.cs",
          "OggLoader.cs",
          "OpenAlSoundEngine.cs",
          "OpenGL.cs",
          "Order.cs",
          "OrderGenerator.cs",
          "OrderIO.cs",
          "OrderManager.cs",
          "OrderTest.cs",
          "OutputResolvedRulesCommand.cs",
          "OutputResolvedSequencesCommand.cs",
          "OutputResolvedWeaponsCommand.cs",
          "OwnerLostAction.cs",
          "PackageEntry.cs",
          "Pak.cs",
          "Palette.cs",
          "PaletteReference.cs",
          "ParaDrop.cs",
          "Parachutable.cs",
          "Parachute.cs",
          "Passenger.cs",
          "PasswordFieldWidget.cs",
          "PathGraph.cs",
          "PathSearch.cs",
          "PerfGraphWidget.cs",
          "PerfHistory.cs",
          "PerfItem.cs",
          "PerfSample.cs",
          "PerfTickLogger.cs",
          "PerfTimer.cs",
          "PickupUnit.cs",
          "PlaceBuildingOrderGenerator.cs",
          "Platform.cs",
          "PlatformInterfaces.cs",
          "PlatformTest.cs",
          "Player.cs",
          "PlayerColorRemap.cs",
          "PlayerCommands.cs",
          "PlayerDatabase.cs",
          "PlayerDictionary.cs",
          "PlayerExtensions.cs",
          "PlayerPinger.cs",
          "PlayerProfile.cs",
          "PlayerReference.cs",
          "Plug.cs",
          "Pluggable.cs",
          "Png.cs",
          "PngSheetExportMetadataCommand.cs",
          "PngSheetImportMetadataCommand.cs",
          "PngSheetLoader.cs",
          "Polygon.cs",
          "Polygon.cs",
          "PolygonAnnotationRenderable.cs",
          "PortableChrono.cs",
          "PowerTooltip.cs",
          "PriorityQueue.cs",
          "PriorityQueueTest.cs",
          "ProducibleWithLevel.cs",
          "Production.cs",
          "ProductionFromMapEdge.cs",
          "ProductionPaletteWidget.cs",
          "ProductionParadrop.cs",
          "ProductionQueueFromSelection.cs",
          "ProductionTabsWidget.cs",
          "ProductionTypeButtonWidget.cs",
          "Program.cs",
          "Program.cs",
          "Program.cs",
          "Program.cs",
          "Program.cs",
          "ProgressBarWidget.cs",
          "ProjectedCellLayer.cs",
          "ProjectedCellRegion.cs",
          "ProtocolVersion.cs",
          "ProximityCaptor.cs",
          "ProximityCapturable.cs",
          "QuantizeFacingsFromSequence.cs",
          "R8Loader.cs",
          "RGBASpriteWidget.cs",
          "RLEZerosCompression.cs",
          "RadarWidget.cs",
          "Railgun.cs",
          "RailgunRenderable.cs",
          "RallyPointIndicator.cs",
          "RangeCircleAnnotationRenderable.cs",
          "ReadOnlyAdapterStream.cs",
          "Rearmable.cs",
          "Rectangle.cs",
          "Rectangle.cs",
          "RefreshMapCommand.cs",
          "RegisterModCommand.cs",
          "RejectsOrders.cs",
          "ReloadAmmoPool.cs",
          "RemapShpCommand.cs",
          "RemoveSelf.cs",
          "Renderable.cs",
          "Renderer.cs",
          "RepairBridge.cs",
          "RepairBuilding.cs",
          "RepairOrderGenerator.cs",
          "Repairable.cs",
          "RepairableNear.cs",
          "RepairsBridges.cs",
          "RepairsUnits.cs",
          "Replaceable.cs",
          "Replacement.cs",
          "ReplayConnection.cs",
          "ReplayMetadata.cs",
          "ReplayMetadataCommand.cs",
          "ReplayRecorder.cs",
          "RequiresSpecificOwners.cs",
          "ResizeMapCommand.cs",
          "ResourceBarWidget.cs",
          "ResourcePreviewWidget.cs",
          "ResourcePurifier.cs",
          "Resupply.cs",
          "RevealOnDeath.cs",
          "RevealOnFire.cs",
          "RevealShroudEffect.cs",
          "RevealsMap.cs",
          "RevealsShroud.cs",
          "Rgba2Hex.cs",
          "RgbaColorRenderer.cs",
          "RgbaSpriteRenderer.cs",
          "RideTransport.cs",
          "Ruleset.cs",
          "Sandworm.cs",
          "SatelliteLaunch.cs",
          "ScriptActorInterface.cs",
          "ScriptContext.cs",
          "ScriptMemberExts.cs",
          "ScriptMemberWrapper.cs",
          "ScriptObjectWrapper.cs",
          "ScriptPlayerInterface.cs",
          "ScriptTags.cs",
          "ScriptTriggers.cs",
          "ScriptTypes.cs",
          "ScrollItemWidget.cs",
          "ScrollPanelWidget.cs",
          "Sdl2GraphicsContext.cs",
          "Sdl2HardwareCursor.cs",
          "Sdl2Input.cs",
          "Sdl2PlatformWindow.cs",
          "SeedsResource.cs",
          "SegmentStream.cs",
          "Selectable.cs",
          "SelectableExts.cs",
          "SelectionBarsAnnotationRenderable.cs",
          "SelectionBoxAnnotationRenderable.cs",
          "SelectionUtils.cs",
          "Sell.cs",
          "Sellable.cs",
          "SequenceProvider.cs",
          "Server.cs",
          "Session.cs",
          "Settings.cs",
          "Shader.cs",
          "ShakeOnDeath.cs",
          "ShakeScreenWarhead.cs",
          "ShapeTest.cs",
          "Sheet.cs",
          "SheetBuilder.cs",
          "SheetLoadScreen.cs",
          "ShpD2Loader.cs",
          "ShpRemasteredLoader.cs",
          "ShpTDLoader.cs",
          "ShpTSLoader.cs",
          "ShroudExts.cs",
          "SimpleTeleport.cs",
          "Size.cs",
          "SliderWidget.cs",
          "Sound.cs",
          "SoundDevice.cs",
          "SoundInfo.cs",
          "SpatiallyPartitioned.cs",
          "SpatiallyPartitionedTest.cs",
          "SpawnActorEffect.cs",
          "SpawnActorOnDeath.cs",
          "SpawnActorsOnSell.cs",
          "SpiceBloom.cs",
          "SpreadDamageWarhead.cs",
          "Sprite.cs",
          "SpriteActorPreview.cs",
          "SpriteAnnotation.cs",
          "SpriteEffect.cs",
          "SpriteFont.cs",
          "SpriteHarvesterDockSequence.cs",
          "SpriteLoader.cs",
          "SpriteRenderable.cs",
          "SpriteRenderer.cs",
          "SpriteWidget.cs",
          "StoresResources.cs",
          "StrategicProgressWidget.cs",
          "StreamExts.cs",
          "StreamExtsTests.cs",
          "SupportPowerTimerWidget.cs",
          "SupportPowersWidget.cs",
          "SwallowActor.cs",
          "Sync.cs",
          "SyncReport.cs",
          "TDGunboat.cs",
          "Target.cs",
          "TargetDamageWarhead.cs",
          "TargetExtensions.cs",
          "TargetLineRenderable.cs",
          "Targetable.cs",
          "Teleport.cs",
          "TemporaryOwnerManager.cs",
          "TerrainInfo.cs",
          "TerrainInfo.cs",
          "TerrainLightSource.cs",
          "TerrainSpriteLayer.cs",
          "TerrainTemplatePreviewWidget.cs",
          "TeslaZap.cs",
          "TeslaZapRenderable.cs",
          "TextAnnotationRenderable.cs",
          "TextFieldWidget.cs",
          "TextNotification.cs",
          "TextNotificationsDisplayWidget.cs",
          "TextNotificationsManager.cs",
          "Texture.cs",
          "TgaLoader.cs",
          "ThreadAffine.cs",
          "ThreadedGraphicsContext.cs",
          "ThrowsParticle.cs",
          "ThrowsShrapnel.cs",
          "TickTime.cs",
          "TileReference.cs",
          "TilesetSpecificSpriteSequence.cs",
          "TmpRALoader.cs",
          "TmpTDLoader.cs",
          "TmpTSLoader.cs",
          "Tooltip.cs",
          "TooltipContainerWidget.cs",
          "TooltipDescription.cs",
          "TraitDictionary.cs",
          "TraitInterfaces.cs",
          "TraitsInterfaces.cs",
          "TraitsInterfaces.cs",
          "TraitsInterfaces.cs",
          "TransferTimedExternalConditionOnTransform.cs",
          "Transform.cs",
          "TransformCrusherOnCrush.cs",
          "TransformOnCapture.cs",
          "Transforms.cs",
          "TransformsNearResources.cs",
          "Translation.cs",
          "TunnelEntrance.cs",
          "Turn.cs",
          "TurnOnIdle.cs",
          "Turreted.cs",
          "TypeDictionary.cs",
          "UIModelRenderable.cs",
          "UISpriteRenderable.cs",
          "UITextRenderable.cs",
          "UnitOrderGenerator.cs",
          "UnitOrderTargeter.cs",
          "UnitOrders.cs",
          "UnloadCargo.cs",
          "UnregisterModCommand.cs",
          "UpdateMapCommand.cs",
          "UpdateModCommand.cs",
          "UpdatePath.cs",
          "UpdateRule.cs",
          "UpdateUtils.cs",
          "UpdatesDerrickCount.cs",
          "Util.cs",
          "Util.cs",
          "Util.cs",
          "Utilities.cs",
          "Valued.cs",
          "VariableExpression.cs",
          "VariableExpressionTest.cs",
          "Vertex.cs",
          "VertexBuffer.cs",
          "Video.cs",
          "VideoLoader.cs",
          "VideoPlayerWidget.cs",
          "Viewport.cs",
          "ViewportControllerWidget.cs",
          "VocLoader.cs",
          "VoiceExts.cs",
          "Voiced.cs",
          "Voxel.cs",
          "VoxelHarvesterDockSequence.cs",
          "VoxelLoader.cs",
          "VoxelModelSequenceLoader.cs",
          "VqaLoader.cs",
          "VqaReader.cs",
          "VxlReader.cs",
          "WAngle.cs",
          "WDist.cs",
          "WPos.cs",
          "WRot.cs",
          "WVec.cs",
          "Wait.cs",
          "Wanders.cs",
          "Warhead.cs",
          "WavLoader.cs",
          "WavReader.cs",
          "WeaponInfo.cs",
          "WebServices.cs",
          "Widget.cs",
          "WidgetLoader.cs",
          "WidgetUtils.cs",
          "World.cs",
          "WorldButtonWidget.cs",
          "WorldExtensions.cs",
          "WorldInteractionControllerWidget.cs",
          "WorldLabelWithTooltipWidget.cs",
          "WorldRenderer.cs",
          "WorldUtils.cs",
          "WorldViewportSizes.cs",
          "WsaLoader.cs",
          "WsaReader.cs",
          "XORDeltaCompression.cs",
          "XccGlobalDatabase.cs",
          "XccLocalDatabase.cs",
          "ZipFile.cs",
          "float2.cs",
          "float3.cs",
          "int2.cs",
          ".",
          ".",
          ".",
          ".",
          ".",
          ".",
          ".",
          ".",
          "Activities",
          "Activities",
          "Activities",
          "Activities",
          "AudioLoaders",
          "AudioLoaders",
          "Commands",
          "EditorBrushes",
          "Effects",
          "Effects",
          "Effects",
          "FileFormats",
          "FileFormats",
          "FileFormats",
          "FileSystem",
          "FileSystem",
          "FileSystem",
          "GameRules",
          "Graphics",
          "Graphics",
          "Graphics",
          "HitShapes",
          "Input",
          "Lint",
          "Lint",
          "LoadScreens",
          "Map",
          "Network",
          "OpenRA.Game",
          "OpenRA.Mods.Common",
          "Orders",
          "Orders",
          "PackageLoaders",
          "Pathfinder",
          "Primitives",
          "Projectiles",
          "Projectiles",
          "Scripting",
          "Scripting",
          "Server",
          "ServerTraits",
          "Sound",
          "SpriteLoaders",
          "SpriteLoaders",
          "SpriteLoaders",
          "Support",
          "Terrain",
          "Traits",
          "Traits",
          "Traits",
          "Traits",
          "UpdateRules",
          "UtilityCommands",
          "UtilityCommands",
          "UtilityCommands",
          "UtilityCommands",
          "VideoLoaders",
          "Warheads",
          "Warheads",
          "Widgets",
          "Widgets",
          "OpenRA.Game",
          "OpenRA.Launcher",
          "OpenRA.Mods.Cnc",
          "OpenRA.Mods.Common",
          "OpenRA.Mods.D2k",
          "OpenRA.Platforms.Default",
          "OpenRA.Server",
          "OpenRA.Test",
          "OpenRA.Utility",
          "OpenRA.WindowsLauncher",
          "All Code"
         ],
         "marker": {
          "coloraxis": "coloraxis",
          "colors": [
           10,
           12,
           8,
           17,
           9,
           48,
           17,
           215,
           35,
           74,
           1,
           24,
           20,
           34,
           30,
           17,
           24,
           6,
           28,
           25,
           56,
           31,
           10,
           32,
           18,
           81,
           12,
           3,
           3,
           8,
           60,
           49,
           33,
           8,
           13,
           7,
           8,
           14,
           12,
           88,
           9,
           10,
           3,
           24,
           23,
           17,
           21,
           4,
           7,
           9,
           43,
           8,
           24,
           6,
           8,
           32,
           30,
           54,
           38,
           42,
           7,
           6,
           28,
           18,
           14,
           17,
           18,
           24,
           9,
           6,
           41,
           23,
           9,
           40,
           86,
           22,
           10,
           43,
           26,
           13,
           14,
           32,
           5,
           24,
           8,
           2,
           9,
           15,
           23,
           14,
           11,
           14,
           14,
           5,
           16,
           11,
           5,
           18,
           12,
           10,
           12,
           11,
           13,
           17,
           4,
           9,
           12,
           4,
           17,
           42,
           12,
           19,
           45,
           8,
           14,
           11,
           3,
           16,
           11,
           8,
           18,
           2,
           42,
           14,
           27,
           45,
           27,
           17,
           8,
           4,
           7,
           4,
           7,
           9,
           63,
           7,
           77,
           12,
           12,
           34,
           43,
           6,
           12,
           19,
           72,
           50,
           2,
           9,
           26,
           7,
           35,
           21,
           12,
           67,
           15,
           21,
           23,
           32,
           9,
           14,
           57,
           31,
           14,
           36,
           9,
           32,
           22,
           9,
           6,
           7,
           20,
           9,
           22,
           3,
           64,
           9,
           6,
           18,
           8,
           33,
           35,
           28,
           23,
           28,
           19,
           26,
           15,
           19,
           20,
           20,
           10,
           36,
           13,
           37,
           12,
           15,
           11,
           5,
           32,
           3,
           6,
           13,
           4,
           25,
           18,
           28,
           30,
           28,
           17,
           25,
           13,
           38,
           6,
           43,
           17,
           21,
           15,
           7,
           17,
           4,
           49,
           17,
           7,
           11,
           26,
           17,
           31,
           16,
           14,
           33,
           12,
           11,
           69,
           20,
           3,
           70,
           36,
           49,
           26,
           13,
           3,
           11,
           22,
           29,
           4,
           6,
           24,
           6,
           10,
           48,
           633,
           35,
           11,
           45,
           13,
           15,
           20,
           32,
           14,
           24,
           3,
           20,
           10,
           9,
           6,
           9,
           3,
           15,
           25,
           9,
           36,
           18,
           10,
           24,
           46,
           35,
           109,
           28,
           6,
           37,
           24,
           15,
           23,
           19,
           8,
           17,
           11,
           8,
           2,
           2,
           2,
           25,
           11,
           52,
           9,
           21,
           12,
           14,
           12,
           24,
           14,
           5,
           13,
           6,
           6,
           7,
           10,
           7,
           13,
           27,
           21,
           60,
           12,
           25,
           12,
           16,
           11,
           17,
           14,
           9,
           22,
           24,
           6,
           6,
           14,
           6,
           8,
           6,
           17,
           14,
           29,
           3,
           3,
           18,
           5,
           14,
           48,
           15,
           30,
           20,
           19,
           24,
           9,
           8,
           13,
           8,
           19,
           36,
           2,
           19,
           18,
           8,
           10,
           11,
           10,
           8,
           6,
           118,
           33,
           13,
           27,
           8,
           11,
           10,
           27,
           8,
           18,
           16,
           8,
           41,
           81,
           237,
           76,
           12,
           4,
           24,
           7,
           17,
           84,
           24,
           2,
           33,
           15,
           2,
           13,
           11,
           13,
           15,
           51,
           55,
           27,
           55,
           14,
           204,
           16,
           15,
           5,
           171,
           13,
           9,
           12,
           25,
           20,
           3,
           10,
           2,
           11,
           39,
           11,
           1,
           21,
           58,
           16,
           16,
           10,
           5,
           34,
           25,
           1,
           36,
           39,
           104,
           8,
           40,
           109,
           14,
           7,
           7,
           7,
           6,
           9,
           8,
           20,
           11,
           23,
           42,
           21,
           51,
           9,
           41,
           27,
           13,
           30,
           11,
           10,
           2,
           23,
           35,
           75,
           54,
           42,
           14,
           160,
           23,
           15,
           13,
           10,
           13,
           26,
           8,
           19,
           11,
           32,
           16,
           5,
           7,
           20,
           10,
           4,
           8,
           28,
           11,
           16,
           6,
           12,
           61,
           28,
           69,
           30,
           13,
           29,
           12,
           7,
           28,
           136,
           3,
           56,
           12,
           6,
           15,
           28,
           15,
           30,
           13,
           20,
           9,
           8,
           66,
           24,
           12,
           30,
           8,
           11,
           7,
           25,
           9,
           6,
           7,
           13,
           12,
           9,
           14,
           44,
           72,
           21,
           30,
           23,
           60,
           42,
           31,
           9,
           8,
           6,
           55,
           22,
           13,
           26,
           4,
           22,
           20,
           3,
           9,
           50,
           12,
           10,
           11,
           10,
           28,
           12,
           24,
           9,
           7,
           32,
           28,
           7,
           17,
           38,
           15,
           17,
           12,
           12,
           11,
           41,
           20,
           10,
           35,
           24,
           14,
           30,
           47,
           21,
           14,
           4,
           23,
           8,
           7,
           1,
           20,
           33,
           82,
           370,
           118,
           175,
           33,
           15,
           3,
           10,
           54,
           57,
           6,
           8,
           5,
           10,
           21,
           13,
           11,
           7,
           12,
           58,
           18,
           22,
           22,
           10,
           4,
           24,
           9,
           36,
           43,
           45,
           16,
           6,
           15,
           82,
           20,
           55,
           29,
           79,
           13,
           24,
           15,
           23,
           1,
           28,
           37,
           44,
           59,
           63,
           42,
           65,
           14,
           5,
           27,
           18,
           12,
           8,
           4,
           6,
           3,
           39,
           25,
           15,
           13,
           8,
           28,
           2,
           3,
           6,
           27,
           7,
           12,
           18,
           28,
           25,
           1,
           14,
           12,
           7,
           7,
           11,
           25,
           18,
           13,
           49,
           18,
           6,
           180,
           461,
           7,
           46,
           12,
           22,
           50,
           6,
           4,
           8,
           25,
           3,
           64,
           18,
           12,
           26,
           7,
           136,
           23,
           173,
           35,
           6,
           13,
           12,
           128,
           10,
           28,
           3,
           5,
           45,
           72,
           10,
           11,
           21,
           14,
           21,
           22,
           3,
           2,
           6,
           176,
           65,
           6,
           16,
           19,
           15,
           13,
           12,
           9,
           2,
           5,
           7,
           24,
           23,
           26,
           24,
           29,
           15,
           25,
           36,
           11,
           11,
           111,
           12,
           173,
           46,
           17,
           276,
           3,
           16,
           52,
           3,
           257,
           140,
           5,
           2,
           1,
           3,
           7,
           7,
           42,
           21,
           14,
           21,
           237.35133239831697,
           7,
           68.06818181818181,
           96.81865284974093,
           28.579787234042552,
           28,
           136,
           3,
           40.32258064516129,
           20.272727272727273,
           33.520805369127515,
           44,
           6.538461538461538,
           9,
           22.8,
           26.488372093023255,
           16.236363636363638,
           7.545454545454546,
           18.565217391304348,
           19.473684210526315,
           6.5058823529411764,
           9.82857142857143,
           38.82089552238806,
           9.85,
           9,
           74.9136690647482,
           97.31795511221945,
           11.4,
           26.162939297124602,
           18.073170731707318,
           15.36111111111111,
           20.1,
           12,
           31.197802197802197,
           118.34290271132376,
           97.73806752037252,
           16.695652173913043,
           10,
           119.2,
           37.3716814159292,
           9,
           28.159663865546218,
           14.706422018348624,
           13.4375,
           40.590106007067135,
           22.404580152671755,
           27.681318681318682,
           288.75409836065575,
           79.8952380952381,
           48.526315789473685,
           8.5,
           17.14814814814815,
           20,
           26.969111969111967,
           7.285714285714286,
           365.1602671118531,
           29.40909090909091,
           49.595454545454544,
           30.345454545454544,
           104.02409638554217,
           6.7,
           13.48076923076923,
           24.328214971209214,
           30.473684210526315,
           2,
           35.05572755417957,
           9,
           133.22764227642276,
           31.45505617977528,
           163.43974344548218,
           7,
           23.697286012526096,
           41.92668891702152,
           29.56704980842912,
           28.579787234042552,
           28,
           16.243243243243242,
           136,
           3,
           96.42933360693583
          ]
         },
         "name": "",
         "parents": [
          "All Code/OpenRA.Mods.Common/.",
          "All Code/OpenRA.Mods.Common/Traits",
          "All Code/OpenRA.Mods.Common/Traits",
          "All Code/OpenRA.Game/Primitives",
          "All Code/OpenRA.Test/OpenRA.Game",
          "All Code/OpenRA.Game/Activities",
          "All Code/OpenRA.Game/Traits",
          "All Code/OpenRA.Game/.",
          "All Code/OpenRA.Mods.Common/.",
          "All Code/OpenRA.Game/GameRules",
          "All Code/OpenRA.Game/Primitives",
          "All Code/OpenRA.Test/OpenRA.Game",
          "All Code/OpenRA.Mods.Common/.",
          "All Code/OpenRA.Game/Map",
          "All Code/OpenRA.Mods.Common/Graphics",
          "All Code/OpenRA.Mods.Common/Widgets",
          "All Code/OpenRA.Game/Map",
          "All Code/OpenRA.Mods.Common/Traits",
          "All Code/OpenRA.Mods.Common/Traits",
          "All Code/OpenRA.Mods.Common/Traits",
          "All Code/OpenRA.Game/Graphics",
          "All Code/OpenRA.Game/Graphics",
          "All Code/OpenRA.Mods.Common/Traits",
          "All Code/OpenRA.Mods.Common/Projectiles",
          "All Code/OpenRA.Game/Support",
          "All Code/OpenRA.Mods.Common/Traits",
          "All Code/OpenRA.Mods.Common/Traits",
          "All Code/OpenRA.Game/Support",
          "All Code/OpenRA.Mods.Common/.",
          "All Code/OpenRA.Game/Effects",
          "All Code/OpenRA.Mods.Common/Activities",
          "All Code/OpenRA.Mods.Common/Traits",
          "All Code/OpenRA.Mods.D2k/Traits",
          "All Code/OpenRA.Mods.Common/Traits",
          "All Code/OpenRA.Mods.D2k/Traits",
          "All Code/OpenRA.Mods.Cnc/AudioLoaders",
          "All Code/OpenRA.Mods.Cnc/FileFormats",
          "All Code/OpenRA.Mods.Common/Traits",
          "All Code/OpenRA.Mods.Common/Traits",
          "All Code/OpenRA.Mods.Common/Traits",
          "All Code/OpenRA.Mods.Common/Traits",
          "All Code/OpenRA.Mods.Common/Widgets",
          "All Code/OpenRA.Mods.Common/Widgets",
          "All Code/OpenRA.Mods.Common/Pathfinder",
          "All Code/OpenRA.Mods.Common/Effects",
          "All Code/OpenRA.Mods.Common/Orders",
          "All Code/OpenRA.Mods.Common/Graphics",
          "All Code/OpenRA.Game/Support",
          "All Code/OpenRA.Mods.Cnc/FileSystem",
          "All Code/OpenRA.Game/Primitives",
          "All Code/OpenRA.Mods.Common/LoadScreens",
          "All Code/OpenRA.Mods.Common/FileFormats",
          "All Code/OpenRA.Mods.Common/Traits",
          "All Code/OpenRA.Mods.Cnc/FileFormats",
          "All Code/OpenRA.Mods.Cnc/FileFormats",
          "All Code/OpenRA.Mods.Common/Traits",
          "All Code/OpenRA.Mods.Common/Traits",
          "All Code/OpenRA.Mods.Common/Projectiles",
          "All Code/OpenRA.Mods.Common/Widgets",
          "All Code/OpenRA.Game/.",
          "All Code/OpenRA.Test/OpenRA.Game",
          "All Code/OpenRA.Mods.Cnc/FileFormats",
          "All Code/OpenRA.Game/.",
          "All Code/OpenRA.Game/Primitives",
          "All Code/OpenRA.Game/Activities",
          "All Code/OpenRA.Mods.Common/Scripting",
          "All Code/OpenRA.Mods.Common/HitShapes",
          "All Code/OpenRA.Mods.Common/Traits",
          "All Code/OpenRA.Mods.Common/Traits",
          "All Code/OpenRA.Mods.Common/Traits",
          "All Code/OpenRA.Mods.Common/Activities",
          "All Code/OpenRA.Mods.Common/Traits",
          "All Code/OpenRA.Mods.Common/Traits",
          "All Code/OpenRA.Mods.Common/Traits",
          "All Code/OpenRA.Mods.Common/Traits",
          "All Code/OpenRA.Mods.Common/Traits",
          "All Code/OpenRA.Mods.Common/Traits",
          "All Code/OpenRA.Mods.Common/Traits",
          "All Code/OpenRA.Mods.Common/Traits",
          "All Code/OpenRA.Mods.Common/Pathfinder",
          "All Code/OpenRA.Mods.Common/Pathfinder",
          "All Code/OpenRA.Game/Map",
          "All Code/OpenRA.Game/Map",
          "All Code/OpenRA.Game/Map",
          "All Code/OpenRA.Mods.Common/Warheads",
          "All Code/OpenRA.Mods.Common/Traits",
          "All Code/OpenRA.Mods.Common/Traits",
          "All Code/OpenRA.Mods.Common/Commands",
          "All Code/OpenRA.Mods.Common/Lint",
          "All Code/OpenRA.Mods.Common/Lint",
          "All Code/OpenRA.Mods.Common/Lint",
          "All Code/OpenRA.Mods.Common/Lint",
          "All Code/OpenRA.Mods.Common/Lint",
          "All Code/OpenRA.Mods.Common/UtilityCommands",
          "All Code/OpenRA.Mods.Common/Lint",
          "All Code/OpenRA.Mods.Common/Lint",
          "All Code/OpenRA.Mods.Common/Lint",
          "All Code/OpenRA.Mods.Common/Lint",
          "All Code/OpenRA.Mods.Common/UtilityCommands",
          "All Code/OpenRA.Mods.Common/Lint",
          "All Code/OpenRA.Mods.D2k/Lint",
          "All Code/OpenRA.Mods.Common/Lint",
          "All Code/OpenRA.Mods.Common/Lint",
          "All Code/OpenRA.Mods.Common/Lint",
          "All Code/OpenRA.Mods.Common/Lint",
          "All Code/OpenRA.Mods.Common/UtilityCommands",
          "All Code/OpenRA.Mods.Common/Lint",
          "All Code/OpenRA.Mods.Common/Lint",
          "All Code/OpenRA.Mods.Common/Lint",
          "All Code/OpenRA.Mods.Common/Lint",
          "All Code/OpenRA.Mods.Common/Lint",
          "All Code/OpenRA.Mods.Common/Lint",
          "All Code/OpenRA.Mods.Common/Lint",
          "All Code/OpenRA.Mods.Common/Lint",
          "All Code/OpenRA.Mods.Common/Lint",
          "All Code/OpenRA.Mods.Common/Lint",
          "All Code/OpenRA.Mods.Common/Lint",
          "All Code/OpenRA.Mods.Common/Lint",
          "All Code/OpenRA.Mods.Common/Lint",
          "All Code/OpenRA.Mods.Common/Lint",
          "All Code/OpenRA.Mods.Common/Lint",
          "All Code/OpenRA.Mods.Common/Lint",
          "All Code/OpenRA.Mods.Common/UtilityCommands",
          "All Code/OpenRA.Mods.Common/Widgets",
          "All Code/OpenRA.Game/Widgets",
          "All Code/OpenRA.Game/Graphics",
          "All Code/OpenRA.Mods.Cnc/Traits",
          "All Code/OpenRA.Mods.Common/HitShapes",
          "All Code/OpenRA.Mods.Common/Graphics",
          "All Code/OpenRA.Mods.Cnc/Traits",
          "All Code/OpenRA.Mods.Cnc/Graphics",
          "All Code/OpenRA.Mods.Cnc/Graphics",
          "All Code/OpenRA.Game/UtilityCommands",
          "All Code/OpenRA.Mods.Common/Widgets",
          "All Code/OpenRA.Mods.Common/Traits",
          "All Code/OpenRA.Mods.Cnc/Traits",
          "All Code/OpenRA.Mods.Cnc/.",
          "All Code/OpenRA.Game/Primitives",
          "All Code/OpenRA.Mods.Common/Widgets",
          "All Code/OpenRA.Mods.Common/Widgets",
          "All Code/OpenRA.Mods.Common/Traits",
          "All Code/OpenRA.Mods.Common/Traits",
          "All Code/OpenRA.Game/Primitives",
          "All Code/OpenRA.Mods.Common/Widgets",
          "All Code/OpenRA.Game/Network",
          "All Code/OpenRA.Game/Server",
          "All Code/OpenRA.Game/Network",
          "All Code/OpenRA.Mods.Common/Effects",
          "All Code/OpenRA.Mods.Common/Graphics",
          "All Code/OpenRA.Mods.Cnc/UtilityCommands",
          "All Code/OpenRA.Mods.Common/UtilityCommands",
          "All Code/OpenRA.Mods.Cnc/Traits",
          "All Code/OpenRA.Test/OpenRA.Game",
          "All Code/OpenRA.Mods.Common/Warheads",
          "All Code/OpenRA.Mods.Common/UtilityCommands",
          "All Code/OpenRA.Mods.Common/Warheads",
          "All Code/OpenRA.Mods.Common/Traits",
          "All Code/OpenRA.Mods.Common/Traits",
          "All Code/OpenRA.Game/.",
          "All Code/OpenRA.Game/Graphics",
          "All Code/OpenRA.Game/Graphics",
          "All Code/OpenRA.Game/Graphics",
          "All Code/OpenRA.Mods.Common/Traits",
          "All Code/OpenRA.Mods.D2k/UtilityCommands",
          "All Code/OpenRA.Mods.D2k/PackageLoaders",
          "All Code/OpenRA.Mods.Common/Warheads",
          "All Code/OpenRA.Mods.Common/Traits",
          "All Code/OpenRA.Mods.D2k/Warheads",
          "All Code/OpenRA.Mods.Common/SpriteLoaders",
          "All Code/OpenRA.Mods.Common/UtilityCommands",
          "All Code/OpenRA.Game/Traits",
          "All Code/OpenRA.Mods.Common/Commands",
          "All Code/OpenRA.Platforms.Default/.",
          "All Code/OpenRA.Game/.",
          "All Code/OpenRA.Mods.Common/Graphics",
          "All Code/OpenRA.Mods.Common/Terrain",
          "All Code/OpenRA.Mods.Common/Terrain",
          "All Code/OpenRA.Game/Effects",
          "All Code/OpenRA.Game/Effects",
          "All Code/OpenRA.Mods.Common/Activities",
          "All Code/OpenRA.Mods.Common/Activities",
          "All Code/OpenRA.Mods.Common/Traits",
          "All Code/OpenRA.Mods.Common/Traits",
          "All Code/OpenRA.Mods.Common/Activities",
          "All Code/OpenRA.Mods.Common/Traits",
          "All Code/OpenRA.Mods.Common/Traits",
          "All Code/OpenRA.Mods.Common/Activities",
          "All Code/OpenRA.Mods.Common/Orders",
          "All Code/OpenRA.Mods.Common/Warheads",
          "All Code/OpenRA.Mods.Common/Traits",
          "All Code/OpenRA.Mods.Common/Graphics",
          "All Code/OpenRA.Mods.Common/Commands",
          "All Code/OpenRA.Mods.Common/.",
          "All Code/OpenRA.Mods.Cnc/Traits",
          "All Code/OpenRA.Game/Primitives",
          "All Code/OpenRA.Mods.Common/Activities",
          "All Code/OpenRA.Mods.Common/Activities",
          "All Code/OpenRA.Mods.Cnc/Traits",
          "All Code/OpenRA.Mods.Common/Widgets",
          "All Code/OpenRA.Mods.Cnc/Projectiles",
          "All Code/OpenRA.Platforms.Default/.",
          "All Code/OpenRA.Mods.Common/UtilityCommands",
          "All Code/OpenRA.Mods.Cnc/Traits",
          "All Code/OpenRA.Mods.Common/EditorBrushes",
          "All Code/OpenRA.Mods.Common/EditorBrushes",
          "All Code/OpenRA.Mods.Common/EditorBrushes",
          "All Code/OpenRA.Mods.Common/EditorBrushes",
          "All Code/OpenRA.Mods.Common/EditorBrushes",
          "All Code/OpenRA.Mods.Common/Widgets",
          "All Code/OpenRA.Mods.Common/Traits",
          "All Code/OpenRA.Mods.Cnc/Traits",
          "All Code/OpenRA.Mods.Common/Traits",
          "All Code/OpenRA.Mods.Common/Traits",
          "All Code/OpenRA.Mods.Common/Activities",
          "All Code/OpenRA.Mods.Common/Orders",
          "All Code/OpenRA.Mods.Common/Traits",
          "All Code/OpenRA.Game/Support",
          "All Code/OpenRA.Game/Support",
          "All Code/OpenRA.Mods.Common/Traits",
          "All Code/OpenRA.Mods.Common/Traits",
          "All Code/OpenRA.Mods.Common/Traits",
          "All Code/OpenRA.Mods.Common/Traits",
          "All Code/OpenRA.Mods.Common/Widgets",
          "All Code/OpenRA.Mods.Common/UtilityCommands",
          "All Code/OpenRA.Game/.",
          "All Code/OpenRA.Mods.Common/UtilityCommands",
          "All Code/OpenRA.Mods.Common/UtilityCommands",
          "All Code/OpenRA.Mods.Common/UtilityCommands",
          "All Code/OpenRA.Mods.Common/UtilityCommands",
          "All Code/OpenRA.Mods.Common/UtilityCommands",
          "All Code/OpenRA.Mods.Common/UtilityCommands",
          "All Code/OpenRA.Mods.Common/UtilityCommands",
          "All Code/OpenRA.Game/.",
          "All Code/OpenRA.Game/Server",
          "All Code/OpenRA.Mods.Common/FileFormats",
          "All Code/OpenRA.Game/.",
          "All Code/OpenRA.Game/.",
          "All Code/OpenRA.Game/FileSystem",
          "All Code/OpenRA.Mods.Common/Activities",
          "All Code/OpenRA.Mods.Common/Warheads",
          "All Code/OpenRA.Mods.Common/Warheads",
          "All Code/OpenRA.Mods.Common/Effects",
          "All Code/OpenRA.Mods.Common/Effects",
          "All Code/OpenRA.Game/FileSystem",
          "All Code/OpenRA.Game/.",
          "All Code/OpenRA.Mods.Common/Orders",
          "All Code/OpenRA.Platforms.Default/.",
          "All Code/OpenRA.Platforms.Default/.",
          "All Code/OpenRA.Mods.Cnc/Traits",
          "All Code/OpenRA.Mods.Common/Traits",
          "All Code/OpenRA.Game/.",
          "All Code/OpenRA.Game/.",
          "All Code/OpenRA.Game/Network",
          "All Code/OpenRA.Game/Network",
          "All Code/OpenRA.Game/.",
          "All Code/OpenRA.Game/Network",
          "All Code/OpenRA.Mods.Common/UtilityCommands",
          "All Code/OpenRA.Mods.Common/Traits",
          "All Code/OpenRA.Mods.Common/Traits",
          "All Code/OpenRA.Mods.Common/Traits",
          "All Code/OpenRA.Mods.Cnc/UtilityCommands",
          "All Code/OpenRA.Mods.Common/Orders",
          "All Code/OpenRA.Mods.Cnc/Traits",
          "All Code/OpenRA.Mods.Cnc/Effects",
          "All Code/OpenRA.Mods.Cnc/Effects",
          "All Code/OpenRA.Mods.Cnc/Traits",
          "All Code/OpenRA.Mods.Common/Widgets",
          "All Code/OpenRA.Mods.Common/Warheads",
          "All Code/OpenRA.Mods.Common/Projectiles",
          "All Code/OpenRA.Mods.Common/Widgets",
          "All Code/OpenRA.Mods.Common/Traits",
          "All Code/OpenRA.Mods.Common/Orders",
          "All Code/OpenRA.Mods.Common/Traits",
          "All Code/OpenRA.Game/Network",
          "All Code/OpenRA.Game/Graphics",
          "All Code/OpenRA.Mods.Common/Activities",
          "All Code/OpenRA.Mods.Common/Traits",
          "All Code/OpenRA.Mods.Common/Activities",
          "All Code/OpenRA.Mods.Cnc/Traits",
          "All Code/OpenRA.Mods.Common/Traits",
          "All Code/OpenRA.Mods.Common/Warheads",
          "All Code/OpenRA.Mods.Common/Commands",
          "All Code/OpenRA.Mods.Common/Traits",
          "All Code/OpenRA.Game/Input",
          "All Code/OpenRA.Game/.",
          "All Code/OpenRA.Mods.Common/Widgets",
          "All Code/OpenRA.Game/.",
          "All Code/OpenRA.Game/Input",
          "All Code/OpenRA.Game/Support",
          "All Code/OpenRA.Game/.",
          "All Code/OpenRA.Game/Support",
          "All Code/OpenRA.Mods.Common/Activities",
          "All Code/OpenRA.Mods.Common/Traits",
          "All Code/OpenRA.Mods.Common/Traits",
          "All Code/OpenRA.Mods.Cnc/FileFormats",
          "All Code/OpenRA.Game/Effects",
          "All Code/OpenRA.Mods.Common/HitShapes",
          "All Code/OpenRA.Game/Input",
          "All Code/OpenRA.Game/Primitives",
          "All Code/OpenRA.Game/Orders",
          "All Code/OpenRA.Game/FileSystem",
          "All Code/OpenRA.Platforms.Default/.",
          "All Code/OpenRA.Game/.",
          "All Code/OpenRA.Mods.Cnc/FileFormats",
          "All Code/OpenRA.Mods.Cnc/FileFormats",
          "All Code/OpenRA.Mods.Common/Traits",
          "All Code/OpenRA.Mods.Common/Traits",
          "All Code/OpenRA.Mods.Common/FileFormats",
          "All Code/OpenRA.Mods.Common/Widgets",
          "All Code/OpenRA.Mods.Common/Traits",
          "All Code/OpenRA.Mods.D2k/UtilityCommands",
          "All Code/OpenRA.Mods.Common/UtilityCommands",
          "All Code/OpenRA.Mods.Cnc/UtilityCommands",
          "All Code/OpenRA.Mods.Cnc/UtilityCommands",
          "All Code/OpenRA.Mods.Cnc/UtilityCommands",
          "All Code/OpenRA.Mods.Cnc/Activities",
          "All Code/OpenRA.Mods.Common/FileFormats",
          "All Code/OpenRA.Game/Input",
          "All Code/OpenRA.Mods.Common/FileFormats",
          "All Code/OpenRA.Mods.Common/FileSystem",
          "All Code/OpenRA.Game/.",
          "All Code/OpenRA.Mods.Common/Projectiles",
          "All Code/OpenRA.Game/Primitives",
          "All Code/OpenRA.Mods.Common/Traits",
          "All Code/OpenRA.Mods.Cnc/Projectiles",
          "All Code/OpenRA.Mods.Common/Traits",
          "All Code/OpenRA.Mods.Common/Graphics",
          "All Code/OpenRA.Mods.Common/Graphics",
          "All Code/OpenRA.Mods.Common/Traits",
          "All Code/OpenRA.Game/Input",
          "All Code/OpenRA.Mods.Common/Traits",
          "All Code/OpenRA.Mods.Cnc/FileFormats",
          "All Code/OpenRA.Mods.Cnc/FileFormats",
          "All Code/OpenRA.Mods.Common/Widgets",
          "All Code/OpenRA.Mods.Common/Widgets",
          "All Code/OpenRA.Mods.Common/Widgets",
          "All Code/OpenRA.Mods.Common/Projectiles",
          "All Code/OpenRA.Game/Support",
          "All Code/OpenRA.Mods.Cnc/Activities",
          "All Code/OpenRA.Mods.Cnc/Activities",
          "All Code/OpenRA.Mods.Cnc/Activities",
          "All Code/OpenRA.Mods.Common/Warheads",
          "All Code/OpenRA.Mods.Cnc/UtilityCommands",
          "All Code/OpenRA.Mods.Cnc/UtilityCommands",
          "All Code/OpenRA.Mods.Cnc/UtilityCommands",
          "All Code/OpenRA.Mods.Common/Graphics",
          "All Code/OpenRA.Mods.Common/Widgets",
          "All Code/OpenRA.Game/Traits",
          "All Code/OpenRA.Mods.Common/Traits",
          "All Code/OpenRA.Mods.Common/Lint",
          "All Code/OpenRA.Mods.Common/Lint",
          "All Code/OpenRA.Mods.Common/UtilityCommands",
          "All Code/OpenRA.Mods.Common/UtilityCommands",
          "All Code/OpenRA.Mods.Common/UtilityCommands",
          "All Code/OpenRA.Mods.Common/Widgets",
          "All Code/OpenRA.Mods.Common/UtilityCommands",
          "All Code/OpenRA.Mods.Cnc/UtilityCommands",
          "All Code/OpenRA.Mods.Common/ServerTraits",
          "All Code/OpenRA.Mods.Common/ServerTraits",
          "All Code/OpenRA.Game/.",
          "All Code/OpenRA.Game/Support",
          "All Code/OpenRA.Game/.",
          "All Code/OpenRA.Mods.Common/Widgets",
          "All Code/OpenRA.Mods.Common/Widgets",
          "All Code/OpenRA.Mods.Common/LoadScreens",
          "All Code/OpenRA.Game/Primitives",
          "All Code/OpenRA.Mods.Common/Scripting",
          "All Code/OpenRA.Game/.",
          "All Code/OpenRA.Mods.Common/FileFormats",
          "All Code/OpenRA.Mods.Cnc/Traits",
          "All Code/OpenRA.Game/.",
          "All Code/OpenRA.Game/Map",
          "All Code/OpenRA.Game/Map",
          "All Code/OpenRA.Game/Map",
          "All Code/OpenRA.Mods.Common/Traits",
          "All Code/OpenRA.Game/Map",
          "All Code/OpenRA.Mods.Common/Effects",
          "All Code/OpenRA.Game/Map",
          "All Code/OpenRA.Game/Map",
          "All Code/OpenRA.Mods.Common/Widgets",
          "All Code/OpenRA.Game/Server",
          "All Code/OpenRA.Mods.Common/ServerTraits",
          "All Code/OpenRA.Mods.Common/Scripting",
          "All Code/OpenRA.Mods.Cnc/FileSystem",
          "All Code/OpenRA.Mods.Common/Widgets",
          "All Code/OpenRA.Game/Primitives",
          "All Code/OpenRA.Game/Support",
          "All Code/OpenRA.Mods.Cnc/Traits",
          "All Code/OpenRA.Mods.Cnc/Traits",
          "All Code/OpenRA.Game/.",
          "All Code/OpenRA.Test/OpenRA.Game",
          "All Code/OpenRA.Mods.Common/Projectiles",
          "All Code/OpenRA.Mods.Cnc/FileSystem",
          "All Code/OpenRA.Mods.Common/Traits",
          "All Code/OpenRA.Mods.Common/.",
          "All Code/OpenRA.Mods.Common/LoadScreens",
          "All Code/OpenRA.Mods.Common/.",
          "All Code/OpenRA.Game/.",
          "All Code/OpenRA.Game/Graphics",
          "All Code/OpenRA.Mods.Common/Graphics",
          "All Code/OpenRA.Game/Graphics",
          "All Code/OpenRA.Mods.Common/Graphics",
          "All Code/OpenRA.Game/Graphics",
          "All Code/OpenRA.Mods.Common/Widgets",
          "All Code/OpenRA.Mods.Common/Widgets",
          "All Code/OpenRA.Mods.Common/AudioLoaders",
          "All Code/OpenRA.Platforms.Default/.",
          "All Code/OpenRA.Game/GameRules",
          "All Code/OpenRA.Mods.Common/Traits",
          "All Code/OpenRA.Game/Network",
          "All Code/OpenRA.Mods.Common/Projectiles",
          "All Code/OpenRA.Game/.",
          "All Code/OpenRA.Game/Primitives",
          "All Code/OpenRA.Game/Primitives",
          "All Code/OpenRA.Game/Primitives",
          "All Code/OpenRA.Mods.Common/Widgets",
          "All Code/OpenRA.Mods.Common/Widgets",
          "All Code/OpenRA.Mods.Common/Widgets",
          "All Code/OpenRA.Mods.Common/AudioLoaders",
          "All Code/OpenRA.Platforms.Default/.",
          "All Code/OpenRA.Platforms.Default/.",
          "All Code/OpenRA.Game/Network",
          "All Code/OpenRA.Mods.Common/Orders",
          "All Code/OpenRA.Game/Network",
          "All Code/OpenRA.Game/Network",
          "All Code/OpenRA.Test/OpenRA.Game",
          "All Code/OpenRA.Mods.Common/UtilityCommands",
          "All Code/OpenRA.Mods.Common/UtilityCommands",
          "All Code/OpenRA.Mods.Common/UtilityCommands",
          "All Code/OpenRA.Mods.Common/Traits",
          "All Code/OpenRA.Mods.Cnc/FileSystem",
          "All Code/OpenRA.Mods.Cnc/FileSystem",
          "All Code/OpenRA.Game/Graphics",
          "All Code/OpenRA.Game/Graphics",
          "All Code/OpenRA.Mods.Common/Traits",
          "All Code/OpenRA.Mods.Common/Traits",
          "All Code/OpenRA.Mods.Common/Activities",
          "All Code/OpenRA.Mods.Common/Traits",
          "All Code/OpenRA.Mods.Common/Widgets",
          "All Code/OpenRA.Mods.Common/Pathfinder",
          "All Code/OpenRA.Mods.Common/Pathfinder",
          "All Code/OpenRA.Mods.Common/Widgets",
          "All Code/OpenRA.Game/Support",
          "All Code/OpenRA.Game/Support",
          "All Code/OpenRA.Game/Support",
          "All Code/OpenRA.Game/Support",
          "All Code/OpenRA.Game/Support",
          "All Code/OpenRA.Mods.Common/Activities",
          "All Code/OpenRA.Mods.Common/Orders",
          "All Code/OpenRA.Game/.",
          "All Code/OpenRA.Game/Graphics",
          "All Code/OpenRA.Test/OpenRA.Game",
          "All Code/OpenRA.Game/.",
          "All Code/OpenRA.Game/Graphics",
          "All Code/OpenRA.Mods.Common/Commands",
          "All Code/OpenRA.Game/.",
          "All Code/OpenRA.Game/Primitives",
          "All Code/OpenRA.Mods.Common/.",
          "All Code/OpenRA.Mods.Common/ServerTraits",
          "All Code/OpenRA.Game/.",
          "All Code/OpenRA.Game/Map",
          "All Code/OpenRA.Mods.Common/Traits",
          "All Code/OpenRA.Mods.Common/Traits",
          "All Code/OpenRA.Game/FileFormats",
          "All Code/OpenRA.Mods.Common/UtilityCommands",
          "All Code/OpenRA.Mods.Common/UtilityCommands",
          "All Code/OpenRA.Mods.Common/SpriteLoaders",
          "All Code/OpenRA.Mods.Common/HitShapes",
          "All Code/OpenRA.Game/Primitives",
          "All Code/OpenRA.Mods.Common/Graphics",
          "All Code/OpenRA.Mods.Cnc/Traits",
          "All Code/OpenRA.Mods.Common/Traits",
          "All Code/OpenRA.Game/Primitives",
          "All Code/OpenRA.Test/OpenRA.Game",
          "All Code/OpenRA.Mods.Common/Traits",
          "All Code/OpenRA.Mods.Common/Traits",
          "All Code/OpenRA.Mods.Common/Traits",
          "All Code/OpenRA.Mods.Common/Widgets",
          "All Code/OpenRA.Mods.Common/Traits",
          "All Code/OpenRA.Mods.Common/Traits",
          "All Code/OpenRA.Mods.Common/Widgets",
          "All Code/OpenRA.Mods.Common/Widgets",
          "All Code/OpenRA.Launcher/.",
          "All Code/OpenRA.Server/.",
          "All Code/OpenRA.Utility/.",
          "All Code/OpenRA.WindowsLauncher/.",
          "All Code/OpenRA.Game/Support",
          "All Code/OpenRA.Mods.Common/Widgets",
          "All Code/OpenRA.Game/Map",
          "All Code/OpenRA.Game/Map",
          "All Code/OpenRA.Game/Server",
          "All Code/OpenRA.Mods.Common/Traits",
          "All Code/OpenRA.Mods.Common/Traits",
          "All Code/OpenRA.Mods.Common/Traits",
          "All Code/OpenRA.Mods.D2k/SpriteLoaders",
          "All Code/OpenRA.Mods.Common/Widgets",
          "All Code/OpenRA.Mods.Common/FileFormats",
          "All Code/OpenRA.Mods.Common/Widgets",
          "All Code/OpenRA.Mods.Common/Projectiles",
          "All Code/OpenRA.Mods.Common/Graphics",
          "All Code/OpenRA.Mods.Common/Effects",
          "All Code/OpenRA.Mods.Common/Graphics",
          "All Code/OpenRA.Game/Primitives",
          "All Code/OpenRA.Mods.Common/Traits",
          "All Code/OpenRA.Mods.Common/HitShapes",
          "All Code/OpenRA.Game/Primitives",
          "All Code/OpenRA.Mods.Common/UtilityCommands",
          "All Code/OpenRA.Game/UtilityCommands",
          "All Code/OpenRA.Mods.Common/Traits",
          "All Code/OpenRA.Mods.Common/Traits",
          "All Code/OpenRA.Mods.Cnc/UtilityCommands",
          "All Code/OpenRA.Mods.Common/Activities",
          "All Code/OpenRA.Game/Graphics",
          "All Code/OpenRA.Game/.",
          "All Code/OpenRA.Mods.Common/Activities",
          "All Code/OpenRA.Mods.Common/Activities",
          "All Code/OpenRA.Mods.Common/Orders",
          "All Code/OpenRA.Mods.Common/Traits",
          "All Code/OpenRA.Mods.Common/Traits",
          "All Code/OpenRA.Mods.Common/Traits",
          "All Code/OpenRA.Mods.Common/Traits",
          "All Code/OpenRA.Mods.Common/Traits",
          "All Code/OpenRA.Mods.Common/Traits",
          "All Code/OpenRA.Game/Network",
          "All Code/OpenRA.Game/FileFormats",
          "All Code/OpenRA.Mods.Common/UtilityCommands",
          "All Code/OpenRA.Game/Network",
          "All Code/OpenRA.Mods.Common/Traits",
          "All Code/OpenRA.Mods.Common/UtilityCommands",
          "All Code/OpenRA.Mods.Common/Widgets",
          "All Code/OpenRA.Mods.Common/Widgets",
          "All Code/OpenRA.Mods.Cnc/Traits",
          "All Code/OpenRA.Mods.Common/Activities",
          "All Code/OpenRA.Mods.Common/Traits",
          "All Code/OpenRA.Mods.Common/Traits",
          "All Code/OpenRA.Mods.Common/Effects",
          "All Code/OpenRA.Mods.Common/Traits",
          "All Code/OpenRA.Mods.Common/Traits",
          "All Code/OpenRA.Mods.Common/UtilityCommands",
          "All Code/OpenRA.Game/Graphics",
          "All Code/OpenRA.Game/Graphics",
          "All Code/OpenRA.Mods.Common/Activities",
          "All Code/OpenRA.Game/GameRules",
          "All Code/OpenRA.Mods.D2k/Traits",
          "All Code/OpenRA.Mods.Cnc/Effects",
          "All Code/OpenRA.Game/Scripting",
          "All Code/OpenRA.Game/Scripting",
          "All Code/OpenRA.Game/Scripting",
          "All Code/OpenRA.Game/Scripting",
          "All Code/OpenRA.Game/Scripting",
          "All Code/OpenRA.Game/Scripting",
          "All Code/OpenRA.Mods.Common/Traits",
          "All Code/OpenRA.Mods.Common/Scripting",
          "All Code/OpenRA.Game/Scripting",
          "All Code/OpenRA.Mods.Common/Widgets",
          "All Code/OpenRA.Mods.Common/Widgets",
          "All Code/OpenRA.Platforms.Default/.",
          "All Code/OpenRA.Platforms.Default/.",
          "All Code/OpenRA.Platforms.Default/.",
          "All Code/OpenRA.Platforms.Default/.",
          "All Code/OpenRA.Mods.Common/Traits",
          "All Code/OpenRA.Game/Primitives",
          "All Code/OpenRA.Mods.Common/Traits",
          "All Code/OpenRA.Game/.",
          "All Code/OpenRA.Mods.Common/Graphics",
          "All Code/OpenRA.Mods.Common/Graphics",
          "All Code/OpenRA.Mods.Common/Widgets",
          "All Code/OpenRA.Mods.Common/Activities",
          "All Code/OpenRA.Mods.Common/Traits",
          "All Code/OpenRA.Game/Graphics",
          "All Code/OpenRA.Game/Server",
          "All Code/OpenRA.Game/Network",
          "All Code/OpenRA.Game/.",
          "All Code/OpenRA.Platforms.Default/.",
          "All Code/OpenRA.Mods.Common/Traits",
          "All Code/OpenRA.Mods.Common/Warheads",
          "All Code/OpenRA.Test/OpenRA.Mods.Common",
          "All Code/OpenRA.Game/Graphics",
          "All Code/OpenRA.Game/Graphics",
          "All Code/OpenRA.Mods.Common/LoadScreens",
          "All Code/OpenRA.Mods.Cnc/SpriteLoaders",
          "All Code/OpenRA.Mods.Cnc/SpriteLoaders",
          "All Code/OpenRA.Mods.Cnc/SpriteLoaders",
          "All Code/OpenRA.Mods.Common/SpriteLoaders",
          "All Code/OpenRA.Mods.Common/.",
          "All Code/OpenRA.Mods.Common/Activities",
          "All Code/OpenRA.Game/Primitives",
          "All Code/OpenRA.Mods.Common/Widgets",
          "All Code/OpenRA.Game/Sound",
          "All Code/OpenRA.Game/Sound",
          "All Code/OpenRA.Game/GameRules",
          "All Code/OpenRA.Game/Primitives",
          "All Code/OpenRA.Test/OpenRA.Game",
          "All Code/OpenRA.Mods.Common/Effects",
          "All Code/OpenRA.Mods.Common/Traits",
          "All Code/OpenRA.Mods.Common/Traits",
          "All Code/OpenRA.Mods.D2k/Traits",
          "All Code/OpenRA.Mods.Common/Warheads",
          "All Code/OpenRA.Game/Graphics",
          "All Code/OpenRA.Mods.Common/Graphics",
          "All Code/OpenRA.Mods.Common/Effects",
          "All Code/OpenRA.Mods.Common/Effects",
          "All Code/OpenRA.Game/Graphics",
          "All Code/OpenRA.Mods.Common/Activities",
          "All Code/OpenRA.Game/Graphics",
          "All Code/OpenRA.Game/Graphics",
          "All Code/OpenRA.Game/Graphics",
          "All Code/OpenRA.Mods.Common/Widgets",
          "All Code/OpenRA.Mods.Common/Traits",
          "All Code/OpenRA.Mods.Common/Widgets",
          "All Code/OpenRA.Game/.",
          "All Code/OpenRA.Test/OpenRA.Game",
          "All Code/OpenRA.Mods.Common/Widgets",
          "All Code/OpenRA.Mods.Common/Widgets",
          "All Code/OpenRA.Mods.D2k/Activities",
          "All Code/OpenRA.Game/.",
          "All Code/OpenRA.Game/Network",
          "All Code/OpenRA.Mods.Cnc/Traits",
          "All Code/OpenRA.Game/Traits",
          "All Code/OpenRA.Mods.Common/Warheads",
          "All Code/OpenRA.Mods.Common/.",
          "All Code/OpenRA.Game/Graphics",
          "All Code/OpenRA.Mods.Common/Traits",
          "All Code/OpenRA.Mods.Cnc/Activities",
          "All Code/OpenRA.Mods.Common/Traits",
          "All Code/OpenRA.Game/Map",
          "All Code/OpenRA.Mods.Common/Terrain",
          "All Code/OpenRA.Mods.Common/Traits",
          "All Code/OpenRA.Game/Graphics",
          "All Code/OpenRA.Mods.Common/Widgets",
          "All Code/OpenRA.Mods.Cnc/Projectiles",
          "All Code/OpenRA.Mods.Cnc/Graphics",
          "All Code/OpenRA.Mods.Common/Graphics",
          "All Code/OpenRA.Mods.Common/Widgets",
          "All Code/OpenRA.Game/.",
          "All Code/OpenRA.Mods.Common/Widgets",
          "All Code/OpenRA.Game/.",
          "All Code/OpenRA.Platforms.Default/.",
          "All Code/OpenRA.Mods.Common/SpriteLoaders",
          "All Code/OpenRA.Platforms.Default/.",
          "All Code/OpenRA.Platforms.Default/.",
          "All Code/OpenRA.Mods.Common/Traits",
          "All Code/OpenRA.Mods.Common/Traits",
          "All Code/OpenRA.Game/Network",
          "All Code/OpenRA.Game/Map",
          "All Code/OpenRA.Mods.Common/Graphics",
          "All Code/OpenRA.Mods.Cnc/SpriteLoaders",
          "All Code/OpenRA.Mods.Cnc/SpriteLoaders",
          "All Code/OpenRA.Mods.Cnc/SpriteLoaders",
          "All Code/OpenRA.Mods.Common/Traits",
          "All Code/OpenRA.Mods.Common/Widgets",
          "All Code/OpenRA.Mods.Common/Traits",
          "All Code/OpenRA.Game/.",
          "All Code/OpenRA.Game/Server",
          "All Code/OpenRA.Mods.Cnc/.",
          "All Code/OpenRA.Mods.Common/.",
          "All Code/OpenRA.Game/Traits",
          "All Code/OpenRA.Mods.Cnc/Traits",
          "All Code/OpenRA.Mods.Common/Activities",
          "All Code/OpenRA.Mods.Common/Traits",
          "All Code/OpenRA.Mods.Common/Traits",
          "All Code/OpenRA.Mods.Common/Traits",
          "All Code/OpenRA.Mods.Cnc/Traits",
          "All Code/OpenRA.Game/.",
          "All Code/OpenRA.Mods.Common/Traits",
          "All Code/OpenRA.Mods.Common/Activities",
          "All Code/OpenRA.Mods.Common/Traits",
          "All Code/OpenRA.Mods.Common/Traits",
          "All Code/OpenRA.Game/Primitives",
          "All Code/OpenRA.Mods.Common/Graphics",
          "All Code/OpenRA.Game/Graphics",
          "All Code/OpenRA.Mods.Common/Graphics",
          "All Code/OpenRA.Game/Orders",
          "All Code/OpenRA.Mods.Common/Orders",
          "All Code/OpenRA.Game/Network",
          "All Code/OpenRA.Mods.Common/Activities",
          "All Code/OpenRA.Game/UtilityCommands",
          "All Code/OpenRA.Mods.Common/UtilityCommands",
          "All Code/OpenRA.Mods.Common/UtilityCommands",
          "All Code/OpenRA.Mods.Common/UpdateRules",
          "All Code/OpenRA.Mods.Common/UpdateRules",
          "All Code/OpenRA.Mods.Common/UpdateRules",
          "All Code/OpenRA.Mods.Common/Traits",
          "All Code/OpenRA.Mods.Cnc/.",
          "All Code/OpenRA.Mods.Common/.",
          "All Code/OpenRA.Game/Graphics",
          "All Code/OpenRA.Mods.Common/UtilityCommands",
          "All Code/OpenRA.Mods.Common/Traits",
          "All Code/OpenRA.Game/Support",
          "All Code/OpenRA.Test/OpenRA.Game",
          "All Code/OpenRA.Game/Graphics",
          "All Code/OpenRA.Platforms.Default/.",
          "All Code/OpenRA.Game/Graphics",
          "All Code/OpenRA.Game/Graphics",
          "All Code/OpenRA.Mods.Common/Widgets",
          "All Code/OpenRA.Game/Graphics",
          "All Code/OpenRA.Mods.Common/Widgets",
          "All Code/OpenRA.Mods.Cnc/AudioLoaders",
          "All Code/OpenRA.Game/.",
          "All Code/OpenRA.Mods.Common/Traits",
          "All Code/OpenRA.Mods.Cnc/Graphics",
          "All Code/OpenRA.Mods.Cnc/Activities",
          "All Code/OpenRA.Mods.Cnc/Graphics",
          "All Code/OpenRA.Mods.Cnc/Graphics",
          "All Code/OpenRA.Mods.Cnc/VideoLoaders",
          "All Code/OpenRA.Mods.Cnc/FileFormats",
          "All Code/OpenRA.Mods.Cnc/FileFormats",
          "All Code/OpenRA.Game/.",
          "All Code/OpenRA.Game/.",
          "All Code/OpenRA.Game/.",
          "All Code/OpenRA.Game/.",
          "All Code/OpenRA.Game/.",
          "All Code/OpenRA.Mods.Common/Activities",
          "All Code/OpenRA.Mods.Common/Traits",
          "All Code/OpenRA.Mods.Common/Warheads",
          "All Code/OpenRA.Mods.Common/AudioLoaders",
          "All Code/OpenRA.Mods.Common/FileFormats",
          "All Code/OpenRA.Game/GameRules",
          "All Code/OpenRA.Mods.Common/.",
          "All Code/OpenRA.Game/Widgets",
          "All Code/OpenRA.Game/Widgets",
          "All Code/OpenRA.Mods.Common/Widgets",
          "All Code/OpenRA.Game/.",
          "All Code/OpenRA.Mods.Common/Widgets",
          "All Code/OpenRA.Mods.Common/.",
          "All Code/OpenRA.Mods.Common/Widgets",
          "All Code/OpenRA.Mods.Common/Widgets",
          "All Code/OpenRA.Game/Graphics",
          "All Code/OpenRA.Game/.",
          "All Code/OpenRA.Game/.",
          "All Code/OpenRA.Mods.Cnc/VideoLoaders",
          "All Code/OpenRA.Mods.Cnc/FileFormats",
          "All Code/OpenRA.Mods.Cnc/FileFormats",
          "All Code/OpenRA.Mods.Cnc/FileFormats",
          "All Code/OpenRA.Mods.Cnc/FileFormats",
          "All Code/OpenRA.Game/FileSystem",
          "All Code/OpenRA.Game/Primitives",
          "All Code/OpenRA.Game/Primitives",
          "All Code/OpenRA.Game/Primitives",
          "All Code/OpenRA.Game",
          "All Code/OpenRA.Launcher",
          "All Code/OpenRA.Mods.Cnc",
          "All Code/OpenRA.Mods.Common",
          "All Code/OpenRA.Platforms.Default",
          "All Code/OpenRA.Server",
          "All Code/OpenRA.Utility",
          "All Code/OpenRA.WindowsLauncher",
          "All Code/OpenRA.Game",
          "All Code/OpenRA.Mods.Cnc",
          "All Code/OpenRA.Mods.Common",
          "All Code/OpenRA.Mods.D2k",
          "All Code/OpenRA.Mods.Cnc",
          "All Code/OpenRA.Mods.Common",
          "All Code/OpenRA.Mods.Common",
          "All Code/OpenRA.Mods.Common",
          "All Code/OpenRA.Game",
          "All Code/OpenRA.Mods.Cnc",
          "All Code/OpenRA.Mods.Common",
          "All Code/OpenRA.Game",
          "All Code/OpenRA.Mods.Cnc",
          "All Code/OpenRA.Mods.Common",
          "All Code/OpenRA.Game",
          "All Code/OpenRA.Mods.Cnc",
          "All Code/OpenRA.Mods.Common",
          "All Code/OpenRA.Game",
          "All Code/OpenRA.Game",
          "All Code/OpenRA.Mods.Cnc",
          "All Code/OpenRA.Mods.Common",
          "All Code/OpenRA.Mods.Common",
          "All Code/OpenRA.Game",
          "All Code/OpenRA.Mods.Common",
          "All Code/OpenRA.Mods.D2k",
          "All Code/OpenRA.Mods.Common",
          "All Code/OpenRA.Game",
          "All Code/OpenRA.Game",
          "All Code/OpenRA.Test",
          "All Code/OpenRA.Test",
          "All Code/OpenRA.Game",
          "All Code/OpenRA.Mods.Common",
          "All Code/OpenRA.Mods.D2k",
          "All Code/OpenRA.Mods.Common",
          "All Code/OpenRA.Game",
          "All Code/OpenRA.Mods.Cnc",
          "All Code/OpenRA.Mods.Common",
          "All Code/OpenRA.Game",
          "All Code/OpenRA.Mods.Common",
          "All Code/OpenRA.Game",
          "All Code/OpenRA.Mods.Common",
          "All Code/OpenRA.Game",
          "All Code/OpenRA.Mods.Cnc",
          "All Code/OpenRA.Mods.Common",
          "All Code/OpenRA.Mods.D2k",
          "All Code/OpenRA.Game",
          "All Code/OpenRA.Mods.Common",
          "All Code/OpenRA.Game",
          "All Code/OpenRA.Mods.Cnc",
          "All Code/OpenRA.Mods.Common",
          "All Code/OpenRA.Mods.D2k",
          "All Code/OpenRA.Mods.Common",
          "All Code/OpenRA.Game",
          "All Code/OpenRA.Mods.Cnc",
          "All Code/OpenRA.Mods.Common",
          "All Code/OpenRA.Mods.D2k",
          "All Code/OpenRA.Mods.Cnc",
          "All Code/OpenRA.Mods.Common",
          "All Code/OpenRA.Mods.D2k",
          "All Code/OpenRA.Game",
          "All Code/OpenRA.Mods.Common",
          "All Code",
          "All Code",
          "All Code",
          "All Code",
          "All Code",
          "All Code",
          "All Code",
          "All Code",
          "All Code",
          "All Code",
          ""
         ],
         "type": "treemap",
         "values": [
          10,
          12,
          8,
          17,
          9,
          48,
          17,
          215,
          35,
          74,
          1,
          24,
          20,
          34,
          30,
          17,
          24,
          6,
          28,
          25,
          56,
          31,
          10,
          32,
          18,
          81,
          12,
          3,
          3,
          8,
          60,
          49,
          33,
          8,
          13,
          7,
          8,
          14,
          12,
          88,
          9,
          10,
          3,
          24,
          23,
          17,
          21,
          4,
          7,
          9,
          43,
          8,
          24,
          6,
          8,
          32,
          30,
          54,
          38,
          42,
          7,
          6,
          28,
          18,
          14,
          17,
          18,
          24,
          9,
          6,
          41,
          23,
          9,
          40,
          86,
          22,
          10,
          43,
          26,
          13,
          14,
          32,
          5,
          24,
          8,
          2,
          9,
          15,
          23,
          14,
          11,
          14,
          14,
          5,
          16,
          11,
          5,
          18,
          12,
          10,
          12,
          11,
          13,
          17,
          4,
          9,
          12,
          4,
          17,
          42,
          12,
          19,
          45,
          8,
          14,
          11,
          3,
          16,
          11,
          8,
          18,
          2,
          42,
          14,
          27,
          45,
          27,
          17,
          8,
          4,
          7,
          4,
          7,
          9,
          63,
          7,
          77,
          12,
          12,
          34,
          43,
          6,
          12,
          19,
          72,
          50,
          2,
          9,
          26,
          7,
          35,
          21,
          12,
          67,
          15,
          21,
          23,
          32,
          9,
          14,
          57,
          31,
          14,
          36,
          9,
          32,
          22,
          9,
          6,
          7,
          20,
          9,
          22,
          3,
          64,
          9,
          6,
          18,
          8,
          33,
          35,
          28,
          23,
          28,
          19,
          26,
          15,
          19,
          20,
          20,
          10,
          36,
          13,
          37,
          12,
          15,
          11,
          5,
          32,
          3,
          6,
          13,
          4,
          25,
          18,
          28,
          30,
          28,
          17,
          25,
          13,
          38,
          6,
          43,
          17,
          21,
          15,
          7,
          17,
          4,
          49,
          17,
          7,
          11,
          26,
          17,
          31,
          16,
          14,
          33,
          12,
          11,
          69,
          20,
          3,
          70,
          36,
          49,
          26,
          13,
          3,
          11,
          22,
          29,
          4,
          6,
          24,
          6,
          10,
          48,
          633,
          35,
          11,
          45,
          13,
          15,
          20,
          32,
          14,
          24,
          3,
          20,
          10,
          9,
          6,
          9,
          3,
          15,
          25,
          9,
          36,
          18,
          10,
          24,
          46,
          35,
          109,
          28,
          6,
          37,
          24,
          15,
          23,
          19,
          8,
          17,
          11,
          8,
          2,
          2,
          2,
          25,
          11,
          52,
          9,
          21,
          12,
          14,
          12,
          24,
          14,
          5,
          13,
          6,
          6,
          7,
          10,
          7,
          13,
          27,
          21,
          60,
          12,
          25,
          12,
          16,
          11,
          17,
          14,
          9,
          22,
          24,
          6,
          6,
          14,
          6,
          8,
          6,
          17,
          14,
          29,
          3,
          3,
          18,
          5,
          14,
          48,
          15,
          30,
          20,
          19,
          24,
          9,
          8,
          13,
          8,
          19,
          36,
          2,
          19,
          18,
          8,
          10,
          11,
          10,
          8,
          6,
          118,
          33,
          13,
          27,
          8,
          11,
          10,
          27,
          8,
          18,
          16,
          8,
          41,
          81,
          237,
          76,
          12,
          4,
          24,
          7,
          17,
          84,
          24,
          2,
          33,
          15,
          2,
          13,
          11,
          13,
          15,
          51,
          55,
          27,
          55,
          14,
          204,
          16,
          15,
          5,
          171,
          13,
          9,
          12,
          25,
          20,
          3,
          10,
          2,
          11,
          39,
          11,
          1,
          21,
          58,
          16,
          16,
          10,
          5,
          34,
          25,
          1,
          36,
          39,
          104,
          8,
          40,
          109,
          14,
          7,
          7,
          7,
          6,
          9,
          8,
          20,
          11,
          23,
          42,
          21,
          51,
          9,
          41,
          27,
          13,
          30,
          11,
          10,
          2,
          23,
          35,
          75,
          54,
          42,
          14,
          160,
          23,
          15,
          13,
          10,
          13,
          26,
          8,
          19,
          11,
          32,
          16,
          5,
          7,
          20,
          10,
          4,
          8,
          28,
          11,
          16,
          6,
          12,
          61,
          28,
          69,
          30,
          13,
          29,
          12,
          7,
          28,
          136,
          3,
          56,
          12,
          6,
          15,
          28,
          15,
          30,
          13,
          20,
          9,
          8,
          66,
          24,
          12,
          30,
          8,
          11,
          7,
          25,
          9,
          6,
          7,
          13,
          12,
          9,
          14,
          44,
          72,
          21,
          30,
          23,
          60,
          42,
          31,
          9,
          8,
          6,
          55,
          22,
          13,
          26,
          4,
          22,
          20,
          3,
          9,
          50,
          12,
          10,
          11,
          10,
          28,
          12,
          24,
          9,
          7,
          32,
          28,
          7,
          17,
          38,
          15,
          17,
          12,
          12,
          11,
          41,
          20,
          10,
          35,
          24,
          14,
          30,
          47,
          21,
          14,
          4,
          23,
          8,
          7,
          1,
          20,
          33,
          82,
          370,
          118,
          175,
          33,
          15,
          3,
          10,
          54,
          57,
          6,
          8,
          5,
          10,
          21,
          13,
          11,
          7,
          12,
          58,
          18,
          22,
          22,
          10,
          4,
          24,
          9,
          36,
          43,
          45,
          16,
          6,
          15,
          82,
          20,
          55,
          29,
          79,
          13,
          24,
          15,
          23,
          1,
          28,
          37,
          44,
          59,
          63,
          42,
          65,
          14,
          5,
          27,
          18,
          12,
          8,
          4,
          6,
          3,
          39,
          25,
          15,
          13,
          8,
          28,
          2,
          3,
          6,
          27,
          7,
          12,
          18,
          28,
          25,
          1,
          14,
          12,
          7,
          7,
          11,
          25,
          18,
          13,
          49,
          18,
          6,
          180,
          461,
          7,
          46,
          12,
          22,
          50,
          6,
          4,
          8,
          25,
          3,
          64,
          18,
          12,
          26,
          7,
          136,
          23,
          173,
          35,
          6,
          13,
          12,
          128,
          10,
          28,
          3,
          5,
          45,
          72,
          10,
          11,
          21,
          14,
          21,
          22,
          3,
          2,
          6,
          176,
          65,
          6,
          16,
          19,
          15,
          13,
          12,
          9,
          2,
          5,
          7,
          24,
          23,
          26,
          24,
          29,
          15,
          25,
          36,
          11,
          11,
          111,
          12,
          173,
          46,
          17,
          276,
          3,
          16,
          52,
          3,
          257,
          140,
          5,
          2,
          1,
          3,
          7,
          7,
          42,
          21,
          14,
          21,
          2852,
          7,
          88,
          386,
          376,
          28,
          136,
          3,
          62,
          110,
          745,
          44,
          13,
          14,
          90,
          129,
          55,
          22,
          138,
          38,
          85,
          70,
          134,
          40,
          9,
          278,
          1604,
          60,
          313,
          82,
          72,
          460,
          12,
          91,
          627,
          859,
          138,
          10,
          160,
          226,
          9,
          119,
          327,
          32,
          283,
          131,
          91,
          488,
          210,
          76,
          48,
          54,
          20,
          259,
          21,
          599,
          352,
          3080,
          110,
          166,
          20,
          104,
          521,
          57,
          4,
          323,
          9,
          246,
          1068,
          8887,
          7,
          958,
          8689,
          261,
          376,
          28,
          148,
          136,
          3,
          19493
         ]
        }
       ],
       "layout": {
        "coloraxis": {
         "colorbar": {
          "title": {
           "text": "commits"
          }
         },
         "colorscale": [
          [
           0,
           "rgb(23, 28, 66)"
          ],
          [
           0.09090909090909091,
           "rgb(41, 58, 143)"
          ],
          [
           0.18181818181818182,
           "rgb(11, 102, 189)"
          ],
          [
           0.2727272727272727,
           "rgb(69, 144, 185)"
          ],
          [
           0.36363636363636365,
           "rgb(142, 181, 194)"
          ],
          [
           0.45454545454545453,
           "rgb(210, 216, 219)"
          ],
          [
           0.5454545454545454,
           "rgb(230, 210, 204)"
          ],
          [
           0.6363636363636364,
           "rgb(213, 157, 137)"
          ],
          [
           0.7272727272727273,
           "rgb(196, 101, 72)"
          ],
          [
           0.8181818181818182,
           "rgb(172, 43, 36)"
          ],
          [
           0.9090909090909091,
           "rgb(120, 14, 40)"
          ],
          [
           1,
           "rgb(60, 9, 17)"
          ]
         ]
        },
        "height": 800,
        "legend": {
         "tracegroupgap": 0
        },
        "margin": {
         "b": 25,
         "l": 25,
         "r": 25,
         "t": 50
        },
        "template": {
         "data": {
          "bar": [
           {
            "error_x": {
             "color": "#f2f5fa"
            },
            "error_y": {
             "color": "#f2f5fa"
            },
            "marker": {
             "line": {
              "color": "rgb(17,17,17)",
              "width": 0.5
             },
             "pattern": {
              "fillmode": "overlay",
              "size": 10,
              "solidity": 0.2
             }
            },
            "type": "bar"
           }
          ],
          "barpolar": [
           {
            "marker": {
             "line": {
              "color": "rgb(17,17,17)",
              "width": 0.5
             },
             "pattern": {
              "fillmode": "overlay",
              "size": 10,
              "solidity": 0.2
             }
            },
            "type": "barpolar"
           }
          ],
          "carpet": [
           {
            "aaxis": {
             "endlinecolor": "#A2B1C6",
             "gridcolor": "#506784",
             "linecolor": "#506784",
             "minorgridcolor": "#506784",
             "startlinecolor": "#A2B1C6"
            },
            "baxis": {
             "endlinecolor": "#A2B1C6",
             "gridcolor": "#506784",
             "linecolor": "#506784",
             "minorgridcolor": "#506784",
             "startlinecolor": "#A2B1C6"
            },
            "type": "carpet"
           }
          ],
          "choropleth": [
           {
            "colorbar": {
             "outlinewidth": 0,
             "ticks": ""
            },
            "type": "choropleth"
           }
          ],
          "contour": [
           {
            "colorbar": {
             "outlinewidth": 0,
             "ticks": ""
            },
            "colorscale": [
             [
              0,
              "#0d0887"
             ],
             [
              0.1111111111111111,
              "#46039f"
             ],
             [
              0.2222222222222222,
              "#7201a8"
             ],
             [
              0.3333333333333333,
              "#9c179e"
             ],
             [
              0.4444444444444444,
              "#bd3786"
             ],
             [
              0.5555555555555556,
              "#d8576b"
             ],
             [
              0.6666666666666666,
              "#ed7953"
             ],
             [
              0.7777777777777778,
              "#fb9f3a"
             ],
             [
              0.8888888888888888,
              "#fdca26"
             ],
             [
              1,
              "#f0f921"
             ]
            ],
            "type": "contour"
           }
          ],
          "contourcarpet": [
           {
            "colorbar": {
             "outlinewidth": 0,
             "ticks": ""
            },
            "type": "contourcarpet"
           }
          ],
          "heatmap": [
           {
            "colorbar": {
             "outlinewidth": 0,
             "ticks": ""
            },
            "colorscale": [
             [
              0,
              "#0d0887"
             ],
             [
              0.1111111111111111,
              "#46039f"
             ],
             [
              0.2222222222222222,
              "#7201a8"
             ],
             [
              0.3333333333333333,
              "#9c179e"
             ],
             [
              0.4444444444444444,
              "#bd3786"
             ],
             [
              0.5555555555555556,
              "#d8576b"
             ],
             [
              0.6666666666666666,
              "#ed7953"
             ],
             [
              0.7777777777777778,
              "#fb9f3a"
             ],
             [
              0.8888888888888888,
              "#fdca26"
             ],
             [
              1,
              "#f0f921"
             ]
            ],
            "type": "heatmap"
           }
          ],
          "heatmapgl": [
           {
            "colorbar": {
             "outlinewidth": 0,
             "ticks": ""
            },
            "colorscale": [
             [
              0,
              "#0d0887"
             ],
             [
              0.1111111111111111,
              "#46039f"
             ],
             [
              0.2222222222222222,
              "#7201a8"
             ],
             [
              0.3333333333333333,
              "#9c179e"
             ],
             [
              0.4444444444444444,
              "#bd3786"
             ],
             [
              0.5555555555555556,
              "#d8576b"
             ],
             [
              0.6666666666666666,
              "#ed7953"
             ],
             [
              0.7777777777777778,
              "#fb9f3a"
             ],
             [
              0.8888888888888888,
              "#fdca26"
             ],
             [
              1,
              "#f0f921"
             ]
            ],
            "type": "heatmapgl"
           }
          ],
          "histogram": [
           {
            "marker": {
             "pattern": {
              "fillmode": "overlay",
              "size": 10,
              "solidity": 0.2
             }
            },
            "type": "histogram"
           }
          ],
          "histogram2d": [
           {
            "colorbar": {
             "outlinewidth": 0,
             "ticks": ""
            },
            "colorscale": [
             [
              0,
              "#0d0887"
             ],
             [
              0.1111111111111111,
              "#46039f"
             ],
             [
              0.2222222222222222,
              "#7201a8"
             ],
             [
              0.3333333333333333,
              "#9c179e"
             ],
             [
              0.4444444444444444,
              "#bd3786"
             ],
             [
              0.5555555555555556,
              "#d8576b"
             ],
             [
              0.6666666666666666,
              "#ed7953"
             ],
             [
              0.7777777777777778,
              "#fb9f3a"
             ],
             [
              0.8888888888888888,
              "#fdca26"
             ],
             [
              1,
              "#f0f921"
             ]
            ],
            "type": "histogram2d"
           }
          ],
          "histogram2dcontour": [
           {
            "colorbar": {
             "outlinewidth": 0,
             "ticks": ""
            },
            "colorscale": [
             [
              0,
              "#0d0887"
             ],
             [
              0.1111111111111111,
              "#46039f"
             ],
             [
              0.2222222222222222,
              "#7201a8"
             ],
             [
              0.3333333333333333,
              "#9c179e"
             ],
             [
              0.4444444444444444,
              "#bd3786"
             ],
             [
              0.5555555555555556,
              "#d8576b"
             ],
             [
              0.6666666666666666,
              "#ed7953"
             ],
             [
              0.7777777777777778,
              "#fb9f3a"
             ],
             [
              0.8888888888888888,
              "#fdca26"
             ],
             [
              1,
              "#f0f921"
             ]
            ],
            "type": "histogram2dcontour"
           }
          ],
          "mesh3d": [
           {
            "colorbar": {
             "outlinewidth": 0,
             "ticks": ""
            },
            "type": "mesh3d"
           }
          ],
          "parcoords": [
           {
            "line": {
             "colorbar": {
              "outlinewidth": 0,
              "ticks": ""
             }
            },
            "type": "parcoords"
           }
          ],
          "pie": [
           {
            "automargin": true,
            "type": "pie"
           }
          ],
          "scatter": [
           {
            "marker": {
             "line": {
              "color": "#283442"
             }
            },
            "type": "scatter"
           }
          ],
          "scatter3d": [
           {
            "line": {
             "colorbar": {
              "outlinewidth": 0,
              "ticks": ""
             }
            },
            "marker": {
             "colorbar": {
              "outlinewidth": 0,
              "ticks": ""
             }
            },
            "type": "scatter3d"
           }
          ],
          "scattercarpet": [
           {
            "marker": {
             "colorbar": {
              "outlinewidth": 0,
              "ticks": ""
             }
            },
            "type": "scattercarpet"
           }
          ],
          "scattergeo": [
           {
            "marker": {
             "colorbar": {
              "outlinewidth": 0,
              "ticks": ""
             }
            },
            "type": "scattergeo"
           }
          ],
          "scattergl": [
           {
            "marker": {
             "line": {
              "color": "#283442"
             }
            },
            "type": "scattergl"
           }
          ],
          "scattermapbox": [
           {
            "marker": {
             "colorbar": {
              "outlinewidth": 0,
              "ticks": ""
             }
            },
            "type": "scattermapbox"
           }
          ],
          "scatterpolar": [
           {
            "marker": {
             "colorbar": {
              "outlinewidth": 0,
              "ticks": ""
             }
            },
            "type": "scatterpolar"
           }
          ],
          "scatterpolargl": [
           {
            "marker": {
             "colorbar": {
              "outlinewidth": 0,
              "ticks": ""
             }
            },
            "type": "scatterpolargl"
           }
          ],
          "scatterternary": [
           {
            "marker": {
             "colorbar": {
              "outlinewidth": 0,
              "ticks": ""
             }
            },
            "type": "scatterternary"
           }
          ],
          "surface": [
           {
            "colorbar": {
             "outlinewidth": 0,
             "ticks": ""
            },
            "colorscale": [
             [
              0,
              "#0d0887"
             ],
             [
              0.1111111111111111,
              "#46039f"
             ],
             [
              0.2222222222222222,
              "#7201a8"
             ],
             [
              0.3333333333333333,
              "#9c179e"
             ],
             [
              0.4444444444444444,
              "#bd3786"
             ],
             [
              0.5555555555555556,
              "#d8576b"
             ],
             [
              0.6666666666666666,
              "#ed7953"
             ],
             [
              0.7777777777777778,
              "#fb9f3a"
             ],
             [
              0.8888888888888888,
              "#fdca26"
             ],
             [
              1,
              "#f0f921"
             ]
            ],
            "type": "surface"
           }
          ],
          "table": [
           {
            "cells": {
             "fill": {
              "color": "#506784"
             },
             "line": {
              "color": "rgb(17,17,17)"
             }
            },
            "header": {
             "fill": {
              "color": "#2a3f5f"
             },
             "line": {
              "color": "rgb(17,17,17)"
             }
            },
            "type": "table"
           }
          ]
         },
         "layout": {
          "annotationdefaults": {
           "arrowcolor": "#f2f5fa",
           "arrowhead": 0,
           "arrowwidth": 1
          },
          "autotypenumbers": "strict",
          "coloraxis": {
           "colorbar": {
            "outlinewidth": 0,
            "ticks": ""
           }
          },
          "colorscale": {
           "diverging": [
            [
             0,
             "#8e0152"
            ],
            [
             0.1,
             "#c51b7d"
            ],
            [
             0.2,
             "#de77ae"
            ],
            [
             0.3,
             "#f1b6da"
            ],
            [
             0.4,
             "#fde0ef"
            ],
            [
             0.5,
             "#f7f7f7"
            ],
            [
             0.6,
             "#e6f5d0"
            ],
            [
             0.7,
             "#b8e186"
            ],
            [
             0.8,
             "#7fbc41"
            ],
            [
             0.9,
             "#4d9221"
            ],
            [
             1,
             "#276419"
            ]
           ],
           "sequential": [
            [
             0,
             "#0d0887"
            ],
            [
             0.1111111111111111,
             "#46039f"
            ],
            [
             0.2222222222222222,
             "#7201a8"
            ],
            [
             0.3333333333333333,
             "#9c179e"
            ],
            [
             0.4444444444444444,
             "#bd3786"
            ],
            [
             0.5555555555555556,
             "#d8576b"
            ],
            [
             0.6666666666666666,
             "#ed7953"
            ],
            [
             0.7777777777777778,
             "#fb9f3a"
            ],
            [
             0.8888888888888888,
             "#fdca26"
            ],
            [
             1,
             "#f0f921"
            ]
           ],
           "sequentialminus": [
            [
             0,
             "#0d0887"
            ],
            [
             0.1111111111111111,
             "#46039f"
            ],
            [
             0.2222222222222222,
             "#7201a8"
            ],
            [
             0.3333333333333333,
             "#9c179e"
            ],
            [
             0.4444444444444444,
             "#bd3786"
            ],
            [
             0.5555555555555556,
             "#d8576b"
            ],
            [
             0.6666666666666666,
             "#ed7953"
            ],
            [
             0.7777777777777778,
             "#fb9f3a"
            ],
            [
             0.8888888888888888,
             "#fdca26"
            ],
            [
             1,
             "#f0f921"
            ]
           ]
          },
          "colorway": [
           "#636efa",
           "#EF553B",
           "#00cc96",
           "#ab63fa",
           "#FFA15A",
           "#19d3f3",
           "#FF6692",
           "#B6E880",
           "#FF97FF",
           "#FECB52"
          ],
          "font": {
           "color": "#f2f5fa"
          },
          "geo": {
           "bgcolor": "rgb(17,17,17)",
           "lakecolor": "rgb(17,17,17)",
           "landcolor": "rgb(17,17,17)",
           "showlakes": true,
           "showland": true,
           "subunitcolor": "#506784"
          },
          "hoverlabel": {
           "align": "left"
          },
          "hovermode": "closest",
          "mapbox": {
           "style": "dark"
          },
          "paper_bgcolor": "rgb(17,17,17)",
          "plot_bgcolor": "rgb(17,17,17)",
          "polar": {
           "angularaxis": {
            "gridcolor": "#506784",
            "linecolor": "#506784",
            "ticks": ""
           },
           "bgcolor": "rgb(17,17,17)",
           "radialaxis": {
            "gridcolor": "#506784",
            "linecolor": "#506784",
            "ticks": ""
           }
          },
          "scene": {
           "xaxis": {
            "backgroundcolor": "rgb(17,17,17)",
            "gridcolor": "#506784",
            "gridwidth": 2,
            "linecolor": "#506784",
            "showbackground": true,
            "ticks": "",
            "zerolinecolor": "#C8D4E3"
           },
           "yaxis": {
            "backgroundcolor": "rgb(17,17,17)",
            "gridcolor": "#506784",
            "gridwidth": 2,
            "linecolor": "#506784",
            "showbackground": true,
            "ticks": "",
            "zerolinecolor": "#C8D4E3"
           },
           "zaxis": {
            "backgroundcolor": "rgb(17,17,17)",
            "gridcolor": "#506784",
            "gridwidth": 2,
            "linecolor": "#506784",
            "showbackground": true,
            "ticks": "",
            "zerolinecolor": "#C8D4E3"
           }
          },
          "shapedefaults": {
           "line": {
            "color": "#f2f5fa"
           }
          },
          "sliderdefaults": {
           "bgcolor": "#C8D4E3",
           "bordercolor": "rgb(17,17,17)",
           "borderwidth": 1,
           "tickwidth": 0
          },
          "ternary": {
           "aaxis": {
            "gridcolor": "#506784",
            "linecolor": "#506784",
            "ticks": ""
           },
           "baxis": {
            "gridcolor": "#506784",
            "linecolor": "#506784",
            "ticks": ""
           },
           "bgcolor": "rgb(17,17,17)",
           "caxis": {
            "gridcolor": "#506784",
            "linecolor": "#506784",
            "ticks": ""
           }
          },
          "title": {
           "x": 0.05
          },
          "updatemenudefaults": {
           "bgcolor": "#506784",
           "borderwidth": 0
          },
          "xaxis": {
           "automargin": true,
           "gridcolor": "#283442",
           "linecolor": "#506784",
           "ticks": "",
           "title": {
            "standoff": 15
           },
           "zerolinecolor": "#283442",
           "zerolinewidth": 2
          },
          "yaxis": {
           "automargin": true,
           "gridcolor": "#283442",
           "linecolor": "#506784",
           "ticks": "",
           "title": {
            "standoff": 15
           },
           "zerolinecolor": "#283442",
           "zerolinewidth": 2
          }
         }
        },
        "title": {
         "text": "Commits by Area of Code"
        }
       }
      }
     },
     "metadata": {},
     "output_type": "display_data"
    }
   ],
   "source": [
    "# Cool color scales: matter, icefire, darkmint, picnic, temps, balance, tempo\n",
    "\n",
    "# TODO: Using Graph Objects here would allow for a more dynamic hierarchy\n",
    "\n",
    "fig = px.treemap(df_grouped,\n",
    "                 path=[px.Constant('All Code'),df_grouped.index.get_level_values(1),df_grouped.index.get_level_values(2),df_grouped.index.get_level_values(3)],\n",
    "                 color='commits',\n",
    "                 title='Commits by Area of Code',\n",
    "                 #hover_name='filename',\n",
    "                 #hover_data=['fullpath'],\n",
    "                 color_continuous_scale='balance',\n",
    "                 template=template,\n",
    "                 height=800,\n",
    "                 values='commits')\n",
    "fig.update_layout(margin = dict(t=50, l=25, r=25, b=25))\n",
    "fig.show()"
   ]
  },
  {
   "cell_type": "code",
   "execution_count": 25,
   "metadata": {
    "collapsed": false,
    "pycharm": {
     "name": "#%%\n"
    }
   },
   "outputs": [
    {
     "data": {
      "application/vnd.plotly.v1+json": {
       "config": {
        "plotlyServerURL": "https://plot.ly"
       },
       "data": [
        {
         "branchvalues": "total",
         "customdata": [
          [
           10
          ],
          [
           12
          ],
          [
           8
          ],
          [
           17
          ],
          [
           9
          ],
          [
           48
          ],
          [
           17
          ],
          [
           215
          ],
          [
           35
          ],
          [
           74
          ],
          [
           1
          ],
          [
           24
          ],
          [
           20
          ],
          [
           34
          ],
          [
           30
          ],
          [
           17
          ],
          [
           24
          ],
          [
           6
          ],
          [
           28
          ],
          [
           25
          ],
          [
           56
          ],
          [
           31
          ],
          [
           10
          ],
          [
           32
          ],
          [
           18
          ],
          [
           81
          ],
          [
           12
          ],
          [
           3
          ],
          [
           3
          ],
          [
           8
          ],
          [
           60
          ],
          [
           49
          ],
          [
           33
          ],
          [
           8
          ],
          [
           13
          ],
          [
           7
          ],
          [
           8
          ],
          [
           14
          ],
          [
           12
          ],
          [
           88
          ],
          [
           9
          ],
          [
           10
          ],
          [
           3
          ],
          [
           24
          ],
          [
           23
          ],
          [
           17
          ],
          [
           21
          ],
          [
           4
          ],
          [
           7
          ],
          [
           9
          ],
          [
           43
          ],
          [
           8
          ],
          [
           24
          ],
          [
           6
          ],
          [
           8
          ],
          [
           32
          ],
          [
           30
          ],
          [
           54
          ],
          [
           38
          ],
          [
           42
          ],
          [
           7
          ],
          [
           6
          ],
          [
           28
          ],
          [
           18
          ],
          [
           14
          ],
          [
           17
          ],
          [
           18
          ],
          [
           24
          ],
          [
           9
          ],
          [
           6
          ],
          [
           41
          ],
          [
           23
          ],
          [
           9
          ],
          [
           40
          ],
          [
           86
          ],
          [
           22
          ],
          [
           10
          ],
          [
           43
          ],
          [
           26
          ],
          [
           13
          ],
          [
           14
          ],
          [
           32
          ],
          [
           5
          ],
          [
           24
          ],
          [
           8
          ],
          [
           2
          ],
          [
           9
          ],
          [
           15
          ],
          [
           23
          ],
          [
           14
          ],
          [
           11
          ],
          [
           14
          ],
          [
           14
          ],
          [
           5
          ],
          [
           16
          ],
          [
           11
          ],
          [
           5
          ],
          [
           18
          ],
          [
           12
          ],
          [
           10
          ],
          [
           12
          ],
          [
           11
          ],
          [
           13
          ],
          [
           17
          ],
          [
           4
          ],
          [
           9
          ],
          [
           12
          ],
          [
           4
          ],
          [
           17
          ],
          [
           42
          ],
          [
           12
          ],
          [
           19
          ],
          [
           45
          ],
          [
           8
          ],
          [
           14
          ],
          [
           11
          ],
          [
           3
          ],
          [
           16
          ],
          [
           11
          ],
          [
           8
          ],
          [
           18
          ],
          [
           2
          ],
          [
           42
          ],
          [
           14
          ],
          [
           27
          ],
          [
           45
          ],
          [
           27
          ],
          [
           17
          ],
          [
           8
          ],
          [
           4
          ],
          [
           7
          ],
          [
           4
          ],
          [
           7
          ],
          [
           9
          ],
          [
           63
          ],
          [
           7
          ],
          [
           77
          ],
          [
           12
          ],
          [
           12
          ],
          [
           34
          ],
          [
           43
          ],
          [
           6
          ],
          [
           12
          ],
          [
           19
          ],
          [
           72
          ],
          [
           50
          ],
          [
           2
          ],
          [
           9
          ],
          [
           26
          ],
          [
           7
          ],
          [
           35
          ],
          [
           21
          ],
          [
           12
          ],
          [
           67
          ],
          [
           15
          ],
          [
           21
          ],
          [
           23
          ],
          [
           32
          ],
          [
           9
          ],
          [
           14
          ],
          [
           57
          ],
          [
           31
          ],
          [
           14
          ],
          [
           36
          ],
          [
           9
          ],
          [
           32
          ],
          [
           22
          ],
          [
           9
          ],
          [
           6
          ],
          [
           7
          ],
          [
           20
          ],
          [
           9
          ],
          [
           22
          ],
          [
           3
          ],
          [
           64
          ],
          [
           9
          ],
          [
           6
          ],
          [
           18
          ],
          [
           8
          ],
          [
           33
          ],
          [
           35
          ],
          [
           28
          ],
          [
           23
          ],
          [
           28
          ],
          [
           19
          ],
          [
           26
          ],
          [
           15
          ],
          [
           19
          ],
          [
           20
          ],
          [
           20
          ],
          [
           10
          ],
          [
           36
          ],
          [
           13
          ],
          [
           37
          ],
          [
           12
          ],
          [
           15
          ],
          [
           11
          ],
          [
           5
          ],
          [
           32
          ],
          [
           3
          ],
          [
           6
          ],
          [
           13
          ],
          [
           4
          ],
          [
           25
          ],
          [
           18
          ],
          [
           28
          ],
          [
           30
          ],
          [
           28
          ],
          [
           17
          ],
          [
           25
          ],
          [
           13
          ],
          [
           38
          ],
          [
           6
          ],
          [
           43
          ],
          [
           17
          ],
          [
           21
          ],
          [
           15
          ],
          [
           7
          ],
          [
           17
          ],
          [
           4
          ],
          [
           49
          ],
          [
           17
          ],
          [
           7
          ],
          [
           11
          ],
          [
           26
          ],
          [
           17
          ],
          [
           31
          ],
          [
           16
          ],
          [
           14
          ],
          [
           33
          ],
          [
           12
          ],
          [
           11
          ],
          [
           69
          ],
          [
           20
          ],
          [
           3
          ],
          [
           70
          ],
          [
           36
          ],
          [
           49
          ],
          [
           26
          ],
          [
           13
          ],
          [
           3
          ],
          [
           11
          ],
          [
           22
          ],
          [
           29
          ],
          [
           4
          ],
          [
           6
          ],
          [
           24
          ],
          [
           6
          ],
          [
           10
          ],
          [
           48
          ],
          [
           633
          ],
          [
           35
          ],
          [
           11
          ],
          [
           45
          ],
          [
           13
          ],
          [
           15
          ],
          [
           20
          ],
          [
           32
          ],
          [
           14
          ],
          [
           24
          ],
          [
           3
          ],
          [
           20
          ],
          [
           10
          ],
          [
           9
          ],
          [
           6
          ],
          [
           9
          ],
          [
           3
          ],
          [
           15
          ],
          [
           25
          ],
          [
           9
          ],
          [
           36
          ],
          [
           18
          ],
          [
           10
          ],
          [
           24
          ],
          [
           46
          ],
          [
           35
          ],
          [
           109
          ],
          [
           28
          ],
          [
           6
          ],
          [
           37
          ],
          [
           24
          ],
          [
           15
          ],
          [
           23
          ],
          [
           19
          ],
          [
           8
          ],
          [
           17
          ],
          [
           11
          ],
          [
           8
          ],
          [
           2
          ],
          [
           2
          ],
          [
           2
          ],
          [
           25
          ],
          [
           11
          ],
          [
           52
          ],
          [
           9
          ],
          [
           21
          ],
          [
           12
          ],
          [
           14
          ],
          [
           12
          ],
          [
           24
          ],
          [
           14
          ],
          [
           5
          ],
          [
           13
          ],
          [
           6
          ],
          [
           6
          ],
          [
           7
          ],
          [
           10
          ],
          [
           7
          ],
          [
           13
          ],
          [
           27
          ],
          [
           21
          ],
          [
           60
          ],
          [
           12
          ],
          [
           25
          ],
          [
           12
          ],
          [
           16
          ],
          [
           11
          ],
          [
           17
          ],
          [
           14
          ],
          [
           9
          ],
          [
           22
          ],
          [
           24
          ],
          [
           6
          ],
          [
           6
          ],
          [
           14
          ],
          [
           6
          ],
          [
           8
          ],
          [
           6
          ],
          [
           17
          ],
          [
           14
          ],
          [
           29
          ],
          [
           3
          ],
          [
           3
          ],
          [
           18
          ],
          [
           5
          ],
          [
           14
          ],
          [
           48
          ],
          [
           15
          ],
          [
           30
          ],
          [
           20
          ],
          [
           19
          ],
          [
           24
          ],
          [
           9
          ],
          [
           8
          ],
          [
           13
          ],
          [
           8
          ],
          [
           19
          ],
          [
           36
          ],
          [
           2
          ],
          [
           19
          ],
          [
           18
          ],
          [
           8
          ],
          [
           10
          ],
          [
           11
          ],
          [
           10
          ],
          [
           8
          ],
          [
           6
          ],
          [
           118
          ],
          [
           33
          ],
          [
           13
          ],
          [
           27
          ],
          [
           8
          ],
          [
           11
          ],
          [
           10
          ],
          [
           27
          ],
          [
           8
          ],
          [
           18
          ],
          [
           16
          ],
          [
           8
          ],
          [
           41
          ],
          [
           81
          ],
          [
           237
          ],
          [
           76
          ],
          [
           12
          ],
          [
           4
          ],
          [
           24
          ],
          [
           7
          ],
          [
           17
          ],
          [
           84
          ],
          [
           24
          ],
          [
           2
          ],
          [
           33
          ],
          [
           15
          ],
          [
           2
          ],
          [
           13
          ],
          [
           11
          ],
          [
           13
          ],
          [
           15
          ],
          [
           51
          ],
          [
           55
          ],
          [
           27
          ],
          [
           55
          ],
          [
           14
          ],
          [
           204
          ],
          [
           16
          ],
          [
           15
          ],
          [
           5
          ],
          [
           171
          ],
          [
           13
          ],
          [
           9
          ],
          [
           12
          ],
          [
           25
          ],
          [
           20
          ],
          [
           3
          ],
          [
           10
          ],
          [
           2
          ],
          [
           11
          ],
          [
           39
          ],
          [
           11
          ],
          [
           1
          ],
          [
           21
          ],
          [
           58
          ],
          [
           16
          ],
          [
           16
          ],
          [
           10
          ],
          [
           5
          ],
          [
           34
          ],
          [
           25
          ],
          [
           1
          ],
          [
           36
          ],
          [
           39
          ],
          [
           104
          ],
          [
           8
          ],
          [
           40
          ],
          [
           109
          ],
          [
           14
          ],
          [
           7
          ],
          [
           7
          ],
          [
           7
          ],
          [
           6
          ],
          [
           9
          ],
          [
           8
          ],
          [
           20
          ],
          [
           11
          ],
          [
           23
          ],
          [
           42
          ],
          [
           21
          ],
          [
           51
          ],
          [
           9
          ],
          [
           41
          ],
          [
           27
          ],
          [
           13
          ],
          [
           30
          ],
          [
           11
          ],
          [
           10
          ],
          [
           2
          ],
          [
           23
          ],
          [
           35
          ],
          [
           75
          ],
          [
           54
          ],
          [
           42
          ],
          [
           14
          ],
          [
           160
          ],
          [
           23
          ],
          [
           15
          ],
          [
           13
          ],
          [
           10
          ],
          [
           13
          ],
          [
           26
          ],
          [
           8
          ],
          [
           19
          ],
          [
           11
          ],
          [
           32
          ],
          [
           16
          ],
          [
           5
          ],
          [
           7
          ],
          [
           20
          ],
          [
           10
          ],
          [
           4
          ],
          [
           8
          ],
          [
           28
          ],
          [
           11
          ],
          [
           16
          ],
          [
           6
          ],
          [
           12
          ],
          [
           61
          ],
          [
           28
          ],
          [
           69
          ],
          [
           30
          ],
          [
           13
          ],
          [
           29
          ],
          [
           12
          ],
          [
           7
          ],
          [
           28
          ],
          [
           136
          ],
          [
           3
          ],
          [
           56
          ],
          [
           12
          ],
          [
           6
          ],
          [
           15
          ],
          [
           28
          ],
          [
           15
          ],
          [
           30
          ],
          [
           13
          ],
          [
           20
          ],
          [
           9
          ],
          [
           8
          ],
          [
           66
          ],
          [
           24
          ],
          [
           12
          ],
          [
           30
          ],
          [
           8
          ],
          [
           11
          ],
          [
           7
          ],
          [
           25
          ],
          [
           9
          ],
          [
           6
          ],
          [
           7
          ],
          [
           13
          ],
          [
           12
          ],
          [
           9
          ],
          [
           14
          ],
          [
           44
          ],
          [
           72
          ],
          [
           21
          ],
          [
           30
          ],
          [
           23
          ],
          [
           60
          ],
          [
           42
          ],
          [
           31
          ],
          [
           9
          ],
          [
           8
          ],
          [
           6
          ],
          [
           55
          ],
          [
           22
          ],
          [
           13
          ],
          [
           26
          ],
          [
           4
          ],
          [
           22
          ],
          [
           20
          ],
          [
           3
          ],
          [
           9
          ],
          [
           50
          ],
          [
           12
          ],
          [
           10
          ],
          [
           11
          ],
          [
           10
          ],
          [
           28
          ],
          [
           12
          ],
          [
           24
          ],
          [
           9
          ],
          [
           7
          ],
          [
           32
          ],
          [
           28
          ],
          [
           7
          ],
          [
           17
          ],
          [
           38
          ],
          [
           15
          ],
          [
           17
          ],
          [
           12
          ],
          [
           12
          ],
          [
           11
          ],
          [
           41
          ],
          [
           20
          ],
          [
           10
          ],
          [
           35
          ],
          [
           24
          ],
          [
           14
          ],
          [
           30
          ],
          [
           47
          ],
          [
           21
          ],
          [
           14
          ],
          [
           4
          ],
          [
           23
          ],
          [
           8
          ],
          [
           7
          ],
          [
           1
          ],
          [
           20
          ],
          [
           33
          ],
          [
           82
          ],
          [
           370
          ],
          [
           118
          ],
          [
           175
          ],
          [
           33
          ],
          [
           15
          ],
          [
           3
          ],
          [
           10
          ],
          [
           54
          ],
          [
           57
          ],
          [
           6
          ],
          [
           8
          ],
          [
           5
          ],
          [
           10
          ],
          [
           21
          ],
          [
           13
          ],
          [
           11
          ],
          [
           7
          ],
          [
           12
          ],
          [
           58
          ],
          [
           18
          ],
          [
           22
          ],
          [
           22
          ],
          [
           10
          ],
          [
           4
          ],
          [
           24
          ],
          [
           9
          ],
          [
           36
          ],
          [
           43
          ],
          [
           45
          ],
          [
           16
          ],
          [
           6
          ],
          [
           15
          ],
          [
           82
          ],
          [
           20
          ],
          [
           55
          ],
          [
           29
          ],
          [
           79
          ],
          [
           13
          ],
          [
           24
          ],
          [
           15
          ],
          [
           23
          ],
          [
           1
          ],
          [
           28
          ],
          [
           37
          ],
          [
           44
          ],
          [
           59
          ],
          [
           63
          ],
          [
           42
          ],
          [
           65
          ],
          [
           14
          ],
          [
           5
          ],
          [
           27
          ],
          [
           18
          ],
          [
           12
          ],
          [
           8
          ],
          [
           4
          ],
          [
           6
          ],
          [
           3
          ],
          [
           39
          ],
          [
           25
          ],
          [
           15
          ],
          [
           13
          ],
          [
           8
          ],
          [
           28
          ],
          [
           2
          ],
          [
           3
          ],
          [
           6
          ],
          [
           27
          ],
          [
           7
          ],
          [
           12
          ],
          [
           18
          ],
          [
           28
          ],
          [
           25
          ],
          [
           1
          ],
          [
           14
          ],
          [
           12
          ],
          [
           7
          ],
          [
           7
          ],
          [
           11
          ],
          [
           25
          ],
          [
           18
          ],
          [
           13
          ],
          [
           49
          ],
          [
           18
          ],
          [
           6
          ],
          [
           180
          ],
          [
           461
          ],
          [
           7
          ],
          [
           46
          ],
          [
           12
          ],
          [
           22
          ],
          [
           50
          ],
          [
           6
          ],
          [
           4
          ],
          [
           8
          ],
          [
           25
          ],
          [
           3
          ],
          [
           64
          ],
          [
           18
          ],
          [
           12
          ],
          [
           26
          ],
          [
           7
          ],
          [
           136
          ],
          [
           23
          ],
          [
           173
          ],
          [
           35
          ],
          [
           6
          ],
          [
           13
          ],
          [
           12
          ],
          [
           128
          ],
          [
           10
          ],
          [
           28
          ],
          [
           3
          ],
          [
           5
          ],
          [
           45
          ],
          [
           72
          ],
          [
           10
          ],
          [
           11
          ],
          [
           21
          ],
          [
           14
          ],
          [
           21
          ],
          [
           22
          ],
          [
           3
          ],
          [
           2
          ],
          [
           6
          ],
          [
           176
          ],
          [
           65
          ],
          [
           6
          ],
          [
           16
          ],
          [
           19
          ],
          [
           15
          ],
          [
           13
          ],
          [
           12
          ],
          [
           9
          ],
          [
           2
          ],
          [
           5
          ],
          [
           7
          ],
          [
           24
          ],
          [
           23
          ],
          [
           26
          ],
          [
           24
          ],
          [
           29
          ],
          [
           15
          ],
          [
           25
          ],
          [
           36
          ],
          [
           11
          ],
          [
           11
          ],
          [
           111
          ],
          [
           12
          ],
          [
           173
          ],
          [
           46
          ],
          [
           17
          ],
          [
           276
          ],
          [
           3
          ],
          [
           16
          ],
          [
           52
          ],
          [
           3
          ],
          [
           257
          ],
          [
           140
          ],
          [
           5
          ],
          [
           2
          ],
          [
           1
          ],
          [
           3
          ],
          [
           7
          ],
          [
           7
          ],
          [
           42
          ],
          [
           21
          ],
          [
           14
          ],
          [
           21
          ],
          [
           237.35133239831697
          ],
          [
           7
          ],
          [
           68.06818181818181
          ],
          [
           96.81865284974093
          ],
          [
           28.579787234042552
          ],
          [
           28
          ],
          [
           136
          ],
          [
           3
          ],
          [
           40.32258064516129
          ],
          [
           20.272727272727273
          ],
          [
           33.520805369127515
          ],
          [
           44
          ],
          [
           6.538461538461538
          ],
          [
           9
          ],
          [
           22.8
          ],
          [
           26.488372093023255
          ],
          [
           16.236363636363638
          ],
          [
           7.545454545454546
          ],
          [
           18.565217391304348
          ],
          [
           19.473684210526315
          ],
          [
           6.5058823529411764
          ],
          [
           9.82857142857143
          ],
          [
           38.82089552238806
          ],
          [
           9.85
          ],
          [
           9
          ],
          [
           74.9136690647482
          ],
          [
           97.31795511221945
          ],
          [
           11.4
          ],
          [
           26.162939297124602
          ],
          [
           18.073170731707318
          ],
          [
           15.36111111111111
          ],
          [
           20.1
          ],
          [
           12
          ],
          [
           31.197802197802197
          ],
          [
           118.34290271132376
          ],
          [
           97.73806752037252
          ],
          [
           16.695652173913043
          ],
          [
           10
          ],
          [
           119.2
          ],
          [
           37.3716814159292
          ],
          [
           9
          ],
          [
           28.159663865546218
          ],
          [
           14.706422018348624
          ],
          [
           13.4375
          ],
          [
           40.590106007067135
          ],
          [
           22.404580152671755
          ],
          [
           27.681318681318682
          ],
          [
           288.75409836065575
          ],
          [
           79.8952380952381
          ],
          [
           48.526315789473685
          ],
          [
           8.5
          ],
          [
           17.14814814814815
          ],
          [
           20
          ],
          [
           26.969111969111967
          ],
          [
           7.285714285714286
          ],
          [
           365.1602671118531
          ],
          [
           29.40909090909091
          ],
          [
           49.595454545454544
          ],
          [
           30.345454545454544
          ],
          [
           104.02409638554217
          ],
          [
           6.7
          ],
          [
           13.48076923076923
          ],
          [
           24.328214971209214
          ],
          [
           30.473684210526315
          ],
          [
           2
          ],
          [
           35.05572755417957
          ],
          [
           9
          ],
          [
           133.22764227642276
          ],
          [
           31.45505617977528
          ],
          [
           163.43974344548218
          ],
          [
           7
          ],
          [
           23.697286012526096
          ],
          [
           41.92668891702152
          ],
          [
           29.56704980842912
          ],
          [
           28.579787234042552
          ],
          [
           28
          ],
          [
           16.243243243243242
          ],
          [
           136
          ],
          [
           3
          ]
         ],
         "domain": {
          "x": [
           0,
           1
          ],
          "y": [
           0,
           1
          ]
         },
         "hovertemplate": "labels=%{label}<br>commits_sum=%{value}<br>parent=%{parent}<br>id=%{id}<br>commits=%{color}<extra></extra>",
         "ids": [
          "OpenRA.Mods.Common/./AIUtils.cs",
          "OpenRA.Mods.Common/Traits/AcceptsDeliveredCash.cs",
          "OpenRA.Mods.Common/Traits/AcceptsDeliveredExperience.cs",
          "OpenRA.Game/Primitives/ActionQueue.cs",
          "OpenRA.Test/OpenRA.Game/ActionQueueTest.cs",
          "OpenRA.Game/Activities/Activity.cs",
          "OpenRA.Game/Traits/ActivityUtils.cs",
          "OpenRA.Game/./Actor.cs",
          "OpenRA.Mods.Common/./ActorExts.cs",
          "OpenRA.Game/GameRules/ActorInfo.cs",
          "OpenRA.Game/Primitives/ActorInfoDictionary.cs",
          "OpenRA.Test/OpenRA.Game/ActorInfoTest.cs",
          "OpenRA.Mods.Common/./ActorInitializer.cs",
          "OpenRA.Game/Map/ActorInitializer.cs",
          "OpenRA.Mods.Common/Graphics/ActorPreview.cs",
          "OpenRA.Mods.Common/Widgets/ActorPreviewWidget.cs",
          "OpenRA.Game/Map/ActorReference.cs",
          "OpenRA.Mods.Common/Traits/ActorSpawner.cs",
          "OpenRA.Mods.Common/Traits/AffectsShroud.cs",
          "OpenRA.Mods.Common/Traits/AmmoPool.cs",
          "OpenRA.Game/Graphics/Animation.cs",
          "OpenRA.Game/Graphics/AnimationWithOffset.cs",
          "OpenRA.Mods.Common/Traits/AppearsOnMapPreview.cs",
          "OpenRA.Mods.Common/Projectiles/AreaBeam.cs",
          "OpenRA.Game/Support/Arguments.cs",
          "OpenRA.Mods.Common/Traits/Armament.cs",
          "OpenRA.Mods.Common/Traits/Armor.cs",
          "OpenRA.Game/Support/AssemblyLoader.cs",
          "OpenRA.Mods.Common/./AssetBrowser.cs",
          "OpenRA.Game/Effects/AsyncAction.cs",
          "OpenRA.Mods.Common/Activities/Attack.cs",
          "OpenRA.Mods.Common/Traits/AttackMove.cs",
          "OpenRA.Mods.D2k/Traits/AttackSwallow.cs",
          "OpenRA.Mods.Common/Traits/AttackWander.cs",
          "OpenRA.Mods.D2k/Traits/AttractsWorms.cs",
          "OpenRA.Mods.Cnc/AudioLoaders/AudLoader.cs",
          "OpenRA.Mods.Cnc/FileFormats/AudReader.cs",
          "OpenRA.Mods.Common/Traits/AutoCarryable.cs",
          "OpenRA.Mods.Common/Traits/AutoCarryall.cs",
          "OpenRA.Mods.Common/Traits/AutoTarget.cs",
          "OpenRA.Mods.Common/Traits/AutoTargetPriority.cs",
          "OpenRA.Mods.Common/Widgets/BackgroundWidget.cs",
          "OpenRA.Mods.Common/Widgets/BadgeWidget.cs",
          "OpenRA.Mods.Common/Pathfinder/BasePathSearch.cs",
          "OpenRA.Mods.Common/Effects/Beacon.cs",
          "OpenRA.Mods.Common/Orders/BeaconOrderGenerator.cs",
          "OpenRA.Mods.Common/Graphics/BeamRenderable.cs",
          "OpenRA.Game/Support/Benchmark.cs",
          "OpenRA.Mods.Cnc/FileSystem/BigFile.cs",
          "OpenRA.Game/Primitives/BitSet.cs",
          "OpenRA.Mods.Common/LoadScreens/BlankLoadScreen.cs",
          "OpenRA.Mods.Common/FileFormats/Blast.cs",
          "OpenRA.Mods.Common/Traits/BlocksProjectiles.cs",
          "OpenRA.Mods.Cnc/FileFormats/Blowfish.cs",
          "OpenRA.Mods.Cnc/FileFormats/BlowfishKeyProvider.cs",
          "OpenRA.Mods.Common/Traits/BodyOrientation.cs",
          "OpenRA.Mods.Common/Traits/Buildable.cs",
          "OpenRA.Mods.Common/Projectiles/Bullet.cs",
          "OpenRA.Mods.Common/Widgets/ButtonWidget.cs",
          "OpenRA.Game/./CPos.cs",
          "OpenRA.Test/OpenRA.Game/CPosTest.cs",
          "OpenRA.Mods.Cnc/FileFormats/CRC32.cs",
          "OpenRA.Game/./CVec.cs",
          "OpenRA.Game/Primitives/Cache.cs",
          "OpenRA.Game/Activities/CallFunc.cs",
          "OpenRA.Mods.Common/Scripting/CallLuaFunc.cs",
          "OpenRA.Mods.Common/HitShapes/Capsule.cs",
          "OpenRA.Mods.Common/Traits/Capturable.cs",
          "OpenRA.Mods.Common/Traits/CapturableProgressBar.cs",
          "OpenRA.Mods.Common/Traits/CapturableProgressBlink.cs",
          "OpenRA.Mods.Common/Activities/CaptureActor.cs",
          "OpenRA.Mods.Common/Traits/CaptureManager.cs",
          "OpenRA.Mods.Common/Traits/CaptureProgressBar.cs",
          "OpenRA.Mods.Common/Traits/Captures.cs",
          "OpenRA.Mods.Common/Traits/Cargo.cs",
          "OpenRA.Mods.Common/Traits/Carryable.cs",
          "OpenRA.Mods.Common/Traits/CarryableHarvester.cs",
          "OpenRA.Mods.Common/Traits/Carryall.cs",
          "OpenRA.Mods.Common/Traits/CashTrickler.cs",
          "OpenRA.Mods.Common/Pathfinder/CellInfo.cs",
          "OpenRA.Mods.Common/Pathfinder/CellInfoLayerPool.cs",
          "OpenRA.Game/Map/CellLayer.cs",
          "OpenRA.Game/Map/CellLayerBase.cs",
          "OpenRA.Game/Map/CellRegion.cs",
          "OpenRA.Mods.Common/Warheads/ChangeOwnerWarhead.cs",
          "OpenRA.Mods.Common/Traits/ChangesHealth.cs",
          "OpenRA.Mods.Common/Traits/ChangesTerrain.cs",
          "OpenRA.Mods.Common/Commands/ChatCommands.cs",
          "OpenRA.Mods.Common/Lint/CheckActorReferences.cs",
          "OpenRA.Mods.Common/Lint/CheckActors.cs",
          "OpenRA.Mods.Common/Lint/CheckAngle.cs",
          "OpenRA.Mods.Common/Lint/CheckChromeHotkeys.cs",
          "OpenRA.Mods.Common/Lint/CheckChromeLogic.cs",
          "OpenRA.Mods.Common/UtilityCommands/CheckConditionalTraitInterfaceOverrides.cs",
          "OpenRA.Mods.Common/Lint/CheckConditions.cs",
          "OpenRA.Mods.Common/Lint/CheckConflictingMouseBounds.cs",
          "OpenRA.Mods.Common/Lint/CheckCursors.cs",
          "OpenRA.Mods.Common/Lint/CheckDefaultVisibility.cs",
          "OpenRA.Mods.Common/UtilityCommands/CheckExplicitInterfacesCommand.cs",
          "OpenRA.Mods.Common/Lint/CheckHitShapes.cs",
          "OpenRA.Mods.D2k/Lint/CheckImportActors.cs",
          "OpenRA.Mods.Common/Lint/CheckLocomotorReferences.cs",
          "OpenRA.Mods.Common/Lint/CheckMapCordon.cs",
          "OpenRA.Mods.Common/Lint/CheckMapMetadata.cs",
          "OpenRA.Mods.Common/Lint/CheckMapTiles.cs",
          "OpenRA.Mods.Common/UtilityCommands/CheckMissingSprites.cs",
          "OpenRA.Mods.Common/Lint/CheckNotifications.cs",
          "OpenRA.Mods.Common/Lint/CheckOwners.cs",
          "OpenRA.Mods.Common/Lint/CheckPalettes.cs",
          "OpenRA.Mods.Common/Lint/CheckPlayers.cs",
          "OpenRA.Mods.Common/Lint/CheckRangeLimit.cs",
          "OpenRA.Mods.Common/Lint/CheckRevealFootprint.cs",
          "OpenRA.Mods.Common/Lint/CheckSequences.cs",
          "OpenRA.Mods.Common/Lint/CheckSpriteBodies.cs",
          "OpenRA.Mods.Common/Lint/CheckSyncAnnotations.cs",
          "OpenRA.Mods.Common/Lint/CheckTooltips.cs",
          "OpenRA.Mods.Common/Lint/CheckTraitLocation.cs",
          "OpenRA.Mods.Common/Lint/CheckTraitPrerequisites.cs",
          "OpenRA.Mods.Common/Lint/CheckUnknownTraitFields.cs",
          "OpenRA.Mods.Common/Lint/CheckUnknownWeaponFields.cs",
          "OpenRA.Mods.Common/Lint/CheckVoiceReferences.cs",
          "OpenRA.Mods.Common/Lint/CheckWorldAndPlayerInherits.cs",
          "OpenRA.Mods.Common/UtilityCommands/CheckYaml.cs",
          "OpenRA.Mods.Common/Widgets/CheckboxWidget.cs",
          "OpenRA.Game/Widgets/ChromeMetrics.cs",
          "OpenRA.Game/Graphics/ChromeProvider.cs",
          "OpenRA.Mods.Cnc/Traits/Chronoshiftable.cs",
          "OpenRA.Mods.Common/HitShapes/Circle.cs",
          "OpenRA.Mods.Common/Graphics/CircleAnnotationRenderable.cs",
          "OpenRA.Mods.Cnc/Traits/ClassicFacingBodyOrientation.cs",
          "OpenRA.Mods.Cnc/Graphics/ClassicSpriteSequence.cs",
          "OpenRA.Mods.Cnc/Graphics/ClassicTilesetSpecificSpriteSequence.cs",
          "OpenRA.Game/UtilityCommands/ClearInvalidModRegistrationsCommand.cs",
          "OpenRA.Mods.Common/Widgets/ClientTooltipRegionWidget.cs",
          "OpenRA.Mods.Common/Traits/Cloak.cs",
          "OpenRA.Mods.Cnc/Traits/Cloneable.cs",
          "OpenRA.Mods.Cnc/./CncLoadScreen.cs",
          "OpenRA.Game/Primitives/Color.cs",
          "OpenRA.Mods.Common/Widgets/ColorBlockWidget.cs",
          "OpenRA.Mods.Common/Widgets/ColorMixerWidget.cs",
          "OpenRA.Mods.Common/Traits/CombatDebugOverlay.cs",
          "OpenRA.Mods.Common/Traits/CommandBarBlacklist.cs",
          "OpenRA.Game/Primitives/ConcurrentCache.cs",
          "OpenRA.Mods.Common/Widgets/ConfirmationDialogs.cs",
          "OpenRA.Game/Network/Connection.cs",
          "OpenRA.Game/Server/Connection.cs",
          "OpenRA.Game/Network/ConnectionTarget.cs",
          "OpenRA.Mods.Common/Effects/ContrailFader.cs",
          "OpenRA.Mods.Common/Graphics/ContrailRenderable.cs",
          "OpenRA.Mods.Cnc/UtilityCommands/ConvertPngToShpCommand.cs",
          "OpenRA.Mods.Common/UtilityCommands/ConvertSpriteToPngCommand.cs",
          "OpenRA.Mods.Cnc/Traits/ConyardChronoReturn.cs",
          "OpenRA.Test/OpenRA.Game/CoordinateTest.cs",
          "OpenRA.Mods.Common/Warheads/CreateEffectWarhead.cs",
          "OpenRA.Mods.Common/UtilityCommands/CreateManPage.cs",
          "OpenRA.Mods.Common/Warheads/CreateResourceWarhead.cs",
          "OpenRA.Mods.Common/Traits/CreatesShroud.cs",
          "OpenRA.Mods.Common/Traits/Crushable.cs",
          "OpenRA.Game/./CryptoUtil.cs",
          "OpenRA.Game/Graphics/CursorManager.cs",
          "OpenRA.Game/Graphics/CursorProvider.cs",
          "OpenRA.Game/Graphics/CursorSequence.cs",
          "OpenRA.Mods.Common/Traits/CustomSellValue.cs",
          "OpenRA.Mods.D2k/UtilityCommands/D2kMapImporter.cs",
          "OpenRA.Mods.D2k/PackageLoaders/D2kSoundResources.cs",
          "OpenRA.Mods.Common/Warheads/DamageWarhead.cs",
          "OpenRA.Mods.Common/Traits/DamagedByTerrain.cs",
          "OpenRA.Mods.D2k/Warheads/DamagesConcreteWarhead.cs",
          "OpenRA.Mods.Common/SpriteLoaders/DdsLoader.cs",
          "OpenRA.Mods.Common/UtilityCommands/DebugChromeRegions.cs",
          "OpenRA.Game/Traits/DebugPauseState.cs",
          "OpenRA.Mods.Common/Commands/DebugVisualizationCommands.cs",
          "OpenRA.Platforms.Default/./DefaultPlatform.cs",
          "OpenRA.Game/./DefaultPlayer.cs",
          "OpenRA.Mods.Common/Graphics/DefaultSpriteSequence.cs",
          "OpenRA.Mods.Common/Terrain/DefaultTerrain.cs",
          "OpenRA.Mods.Common/Terrain/DefaultTileCache.cs",
          "OpenRA.Game/Effects/DelayedAction.cs",
          "OpenRA.Game/Effects/DelayedImpact.cs",
          "OpenRA.Mods.Common/Activities/DeliverResources.cs",
          "OpenRA.Mods.Common/Activities/DeliverUnit.cs",
          "OpenRA.Mods.Common/Traits/DeliversCash.cs",
          "OpenRA.Mods.Common/Traits/DeliversExperience.cs",
          "OpenRA.Mods.Common/Activities/Demolish.cs",
          "OpenRA.Mods.Common/Traits/Demolishable.cs",
          "OpenRA.Mods.Common/Traits/Demolition.cs",
          "OpenRA.Mods.Common/Activities/DeployForGrantedCondition.cs",
          "OpenRA.Mods.Common/Orders/DeployOrderTargeter.cs",
          "OpenRA.Mods.Common/Warheads/DestroyResourceWarhead.cs",
          "OpenRA.Mods.Common/Traits/DetectCloaked.cs",
          "OpenRA.Mods.Common/Graphics/DetectionCircleAnnotationRenderable.cs",
          "OpenRA.Mods.Common/Commands/DevCommands.cs",
          "OpenRA.Mods.Common/./DiscordService.cs",
          "OpenRA.Mods.Cnc/Traits/Disguise.cs",
          "OpenRA.Game/Primitives/DisposableAction.cs",
          "OpenRA.Mods.Common/Activities/DonateCash.cs",
          "OpenRA.Mods.Common/Activities/DonateExperience.cs",
          "OpenRA.Mods.Cnc/Traits/DrainPrerequisitePowerOnDamage.cs",
          "OpenRA.Mods.Common/Widgets/DropDownButtonWidget.cs",
          "OpenRA.Mods.Cnc/Projectiles/DropPodImpact.cs",
          "OpenRA.Platforms.Default/./DummySoundEngine.cs",
          "OpenRA.Mods.Common/UtilityCommands/DumpSequenceSheetsCommand.cs",
          "OpenRA.Mods.Cnc/Traits/EdibleByLeap.cs",
          "OpenRA.Mods.Common/EditorBrushes/EditorActorBrush.cs",
          "OpenRA.Mods.Common/EditorBrushes/EditorCopyPasteBrush.cs",
          "OpenRA.Mods.Common/EditorBrushes/EditorDefaultBrush.cs",
          "OpenRA.Mods.Common/EditorBrushes/EditorResourceBrush.cs",
          "OpenRA.Mods.Common/EditorBrushes/EditorTileBrush.cs",
          "OpenRA.Mods.Common/Widgets/EditorViewportControllerWidget.cs",
          "OpenRA.Mods.Common/Traits/EjectOnDeath.cs",
          "OpenRA.Mods.Cnc/Traits/EnergyWall.cs",
          "OpenRA.Mods.Common/Traits/EngineerRepair.cs",
          "OpenRA.Mods.Common/Traits/EngineerRepairable.cs",
          "OpenRA.Mods.Common/Activities/Enter.cs",
          "OpenRA.Mods.Common/Orders/EnterAlliedActorTargeter.cs",
          "OpenRA.Mods.Common/Traits/EntersTunnels.cs",
          "OpenRA.Game/Support/Evaluator.cs",
          "OpenRA.Game/Support/ExceptionHandler.cs",
          "OpenRA.Mods.Common/Traits/ExitsDebugOverlay.cs",
          "OpenRA.Mods.Common/Traits/ExperienceTrickler.cs",
          "OpenRA.Mods.Common/Traits/Explodes.cs",
          "OpenRA.Mods.Common/Traits/ExplosionOnDamageTransition.cs",
          "OpenRA.Mods.Common/Widgets/ExponentialSliderWidget.cs",
          "OpenRA.Mods.Common/UtilityCommands/Extensions.cs",
          "OpenRA.Game/./ExternalMods.cs",
          "OpenRA.Mods.Common/UtilityCommands/ExtractFilesCommand.cs",
          "OpenRA.Mods.Common/UtilityCommands/ExtractLuaDocsCommand.cs",
          "OpenRA.Mods.Common/UtilityCommands/ExtractMapRules.cs",
          "OpenRA.Mods.Common/UtilityCommands/ExtractSettingsDocsCommand.cs",
          "OpenRA.Mods.Common/UtilityCommands/ExtractTraitDocsCommand.cs",
          "OpenRA.Mods.Common/UtilityCommands/ExtractWeaponDocsCommand.cs",
          "OpenRA.Mods.Common/UtilityCommands/ExtractZeroBraneStudioLuaAPI.cs",
          "OpenRA.Game/./Exts.cs",
          "OpenRA.Game/Server/Exts.cs",
          "OpenRA.Mods.Common/FileFormats/FastByteReader.cs",
          "OpenRA.Game/./FieldLoader.cs",
          "OpenRA.Game/./FieldSaver.cs",
          "OpenRA.Game/FileSystem/FileSystem.cs",
          "OpenRA.Mods.Common/Activities/FindAndDeliverResources.cs",
          "OpenRA.Mods.Common/Warheads/FireClusterWarhead.cs",
          "OpenRA.Mods.Common/Warheads/FlashPaletteEffectWarhead.cs",
          "OpenRA.Mods.Common/Effects/FlashTarget.cs",
          "OpenRA.Mods.Common/Effects/FloatingText.cs",
          "OpenRA.Game/FileSystem/Folder.cs",
          "OpenRA.Game/./Fonts.cs",
          "OpenRA.Mods.Common/Orders/ForceModifiersOrderGenerator.cs",
          "OpenRA.Platforms.Default/./FrameBuffer.cs",
          "OpenRA.Platforms.Default/./FreeTypeFont.cs",
          "OpenRA.Mods.Cnc/Traits/FrozenUnderFogUpdatedByGps.cs",
          "OpenRA.Mods.Common/Traits/GainsExperience.cs",
          "OpenRA.Game/./Game.cs",
          "OpenRA.Game/./GameInformation.cs",
          "OpenRA.Game/Network/GameSave.cs",
          "OpenRA.Game/Network/GameServer.cs",
          "OpenRA.Game/./GameSpeed.cs",
          "OpenRA.Game/Network/GeoIP.cs",
          "OpenRA.Mods.Common/UtilityCommands/GetMapHashCommand.cs",
          "OpenRA.Mods.Common/Traits/GivesBounty.cs",
          "OpenRA.Mods.Common/Traits/GivesCashOnCapture.cs",
          "OpenRA.Mods.Common/Traits/GivesExperience.cs",
          "OpenRA.Mods.Cnc/UtilityCommands/Glob.cs",
          "OpenRA.Mods.Common/Orders/GlobalButtonOrderGenerator.cs",
          "OpenRA.Mods.Cnc/Traits/GpsDot.cs",
          "OpenRA.Mods.Cnc/Effects/GpsDotEffect.cs",
          "OpenRA.Mods.Cnc/Effects/GpsSatellite.cs",
          "OpenRA.Mods.Cnc/Traits/GpsWatcher.cs",
          "OpenRA.Mods.Common/Widgets/GradientColorBlockWidget.cs",
          "OpenRA.Mods.Common/Warheads/GrantExternalConditionWarhead.cs",
          "OpenRA.Mods.Common/Projectiles/GravityBomb.cs",
          "OpenRA.Mods.Common/Widgets/GridLayout.cs",
          "OpenRA.Mods.Common/Traits/Guard.cs",
          "OpenRA.Mods.Common/Orders/GuardOrderGenerator.cs",
          "OpenRA.Mods.Common/Traits/Guardable.cs",
          "OpenRA.Game/Network/Handshake.cs",
          "OpenRA.Game/Graphics/HardwarePalette.cs",
          "OpenRA.Mods.Common/Activities/HarvestResource.cs",
          "OpenRA.Mods.Common/Traits/Harvester.cs",
          "OpenRA.Mods.Common/Activities/HarvesterDockSequence.cs",
          "OpenRA.Mods.Cnc/Traits/HarvesterHuskModifier.cs",
          "OpenRA.Mods.Common/Traits/Health.cs",
          "OpenRA.Mods.Common/Warheads/HealthPercentageDamageWarhead.cs",
          "OpenRA.Mods.Common/Commands/HelpCommand.cs",
          "OpenRA.Mods.Common/Traits/HitShape.cs",
          "OpenRA.Game/Input/Hotkey.cs",
          "OpenRA.Game/./HotkeyDefinition.cs",
          "OpenRA.Mods.Common/Widgets/HotkeyEntryWidget.cs",
          "OpenRA.Game/./HotkeyManager.cs",
          "OpenRA.Game/Input/HotkeyReference.cs",
          "OpenRA.Game/Support/HttpClientFactory.cs",
          "OpenRA.Game/./HttpExtension.cs",
          "OpenRA.Game/Support/HttpQueryBuilder.cs",
          "OpenRA.Mods.Common/Activities/Hunt.cs",
          "OpenRA.Mods.Common/Traits/Huntable.cs",
          "OpenRA.Mods.Common/Traits/Husk.cs",
          "OpenRA.Mods.Cnc/FileFormats/HvaReader.cs",
          "OpenRA.Game/Effects/IEffect.cs",
          "OpenRA.Mods.Common/HitShapes/IHitShape.cs",
          "OpenRA.Game/Input/IInputHandler.cs",
          "OpenRA.Game/Primitives/IObservableCollection.cs",
          "OpenRA.Game/Orders/IOrderGenerator.cs",
          "OpenRA.Game/FileSystem/IPackage.cs",
          "OpenRA.Platforms.Default/./ITextureInternal.cs",
          "OpenRA.Game/./IUtilityCommand.cs",
          "OpenRA.Mods.Cnc/FileFormats/IdxEntry.cs",
          "OpenRA.Mods.Cnc/FileFormats/IdxReader.cs",
          "OpenRA.Mods.Common/Traits/IgnoresCloak.cs",
          "OpenRA.Mods.Common/Traits/IgnoresDisguise.cs",
          "OpenRA.Mods.Common/FileFormats/ImaAdpcmReader.cs",
          "OpenRA.Mods.Common/Widgets/ImageWidget.cs",
          "OpenRA.Mods.Common/Traits/Immobile.cs",
          "OpenRA.Mods.D2k/UtilityCommands/ImportD2kMapCommand.cs",
          "OpenRA.Mods.Common/UtilityCommands/ImportLegacyMapCommand.cs",
          "OpenRA.Mods.Cnc/UtilityCommands/ImportRedAlertLegacyMapCommand.cs",
          "OpenRA.Mods.Cnc/UtilityCommands/ImportTSMapCommand.cs",
          "OpenRA.Mods.Cnc/UtilityCommands/ImportTiberianDawnLegacyMapCommand.cs",
          "OpenRA.Mods.Cnc/Activities/Infiltrate.cs",
          "OpenRA.Mods.Common/FileFormats/IniFile.cs",
          "OpenRA.Game/Input/InputHandler.cs",
          "OpenRA.Mods.Common/FileFormats/InstallShieldCABCompression.cs",
          "OpenRA.Mods.Common/FileSystem/InstallShieldPackage.cs",
          "OpenRA.Game/./InstalledMods.cs",
          "OpenRA.Mods.Common/Projectiles/InstantHit.cs",
          "OpenRA.Game/Primitives/Int32Matrix4x4.cs",
          "OpenRA.Mods.Common/Traits/Interactable.cs",
          "OpenRA.Mods.Cnc/Projectiles/IonCannon.cs",
          "OpenRA.Mods.Common/Traits/IsometricSelectable.cs",
          "OpenRA.Mods.Common/Graphics/IsometricSelectionBarsAnnotationRenderable.cs",
          "OpenRA.Mods.Common/Graphics/IsometricSelectionBoxAnnotationRenderable.cs",
          "OpenRA.Mods.Common/Traits/JamsMissiles.cs",
          "OpenRA.Game/Input/Keycode.cs",
          "OpenRA.Mods.Common/Traits/KillsSelf.cs",
          "OpenRA.Mods.Cnc/FileFormats/LCWCompression.cs",
          "OpenRA.Mods.Cnc/FileFormats/LZOCompression.cs",
          "OpenRA.Mods.Common/Widgets/LabelWidget.cs",
          "OpenRA.Mods.Common/Widgets/LabelWithHighlightWidget.cs",
          "OpenRA.Mods.Common/Widgets/LabelWithTooltipWidget.cs",
          "OpenRA.Mods.Common/Projectiles/LaserZap.cs",
          "OpenRA.Game/Support/LaunchArguments.cs",
          "OpenRA.Mods.Cnc/Activities/LayMines.cs",
          "OpenRA.Mods.Cnc/Activities/Leap.cs",
          "OpenRA.Mods.Cnc/Activities/LeapAttack.cs",
          "OpenRA.Mods.Common/Warheads/LeaveSmudgeWarhead.cs",
          "OpenRA.Mods.Cnc/UtilityCommands/LegacyRulesImporter.cs",
          "OpenRA.Mods.Cnc/UtilityCommands/LegacySequenceImporter.cs",
          "OpenRA.Mods.Cnc/UtilityCommands/LegacyTilesetImporter.cs",
          "OpenRA.Mods.Common/Graphics/LineAnnotationRenderable.cs",
          "OpenRA.Mods.Common/Widgets/LineGraphWidget.cs",
          "OpenRA.Game/Traits/LintAttributes.cs",
          "OpenRA.Mods.Common/Traits/LintAttributes.cs",
          "OpenRA.Mods.Common/Lint/LintBuildablePrerequisites.cs",
          "OpenRA.Mods.Common/Lint/LintExts.cs",
          "OpenRA.Mods.Common/UtilityCommands/LintInterfaces.cs",
          "OpenRA.Mods.Common/UtilityCommands/ListInstallShieldCabContentsCommand.cs",
          "OpenRA.Mods.Common/UtilityCommands/ListInstallShieldContentsCommand.cs",
          "OpenRA.Mods.Common/Widgets/ListLayout.cs",
          "OpenRA.Mods.Common/UtilityCommands/ListMSCabContentsCommand.cs",
          "OpenRA.Mods.Cnc/UtilityCommands/ListMixContentsCommand.cs",
          "OpenRA.Mods.Common/ServerTraits/LobbyCommands.cs",
          "OpenRA.Mods.Common/ServerTraits/LobbySettingsNotification.cs",
          "OpenRA.Game/./LocalPlayerProfile.cs",
          "OpenRA.Game/Support/Log.cs",
          "OpenRA.Game/./LogProxy.cs",
          "OpenRA.Mods.Common/Widgets/LogicKeyListenerWidget.cs",
          "OpenRA.Mods.Common/Widgets/LogicTickerWidget.cs",
          "OpenRA.Mods.Common/LoadScreens/LogoStripeLoadScreen.cs",
          "OpenRA.Game/Primitives/LongBitSet.cs",
          "OpenRA.Mods.Common/Scripting/LuaScript.cs",
          "OpenRA.Game/./MPos.cs",
          "OpenRA.Mods.Common/FileFormats/MSCabCompression.cs",
          "OpenRA.Mods.Cnc/Traits/MadTank.cs",
          "OpenRA.Game/./Manifest.cs",
          "OpenRA.Game/Map/Map.cs",
          "OpenRA.Game/Map/MapCache.cs",
          "OpenRA.Game/Map/MapCoordsRegion.cs",
          "OpenRA.Mods.Common/Traits/MapEditorData.cs",
          "OpenRA.Game/Map/MapGrid.cs",
          "OpenRA.Mods.Common/Effects/MapNotificationEffect.cs",
          "OpenRA.Game/Map/MapPlayers.cs",
          "OpenRA.Game/Map/MapPreview.cs",
          "OpenRA.Mods.Common/Widgets/MapPreviewWidget.cs",
          "OpenRA.Game/Server/MapStatusCache.cs",
          "OpenRA.Mods.Common/ServerTraits/MasterServerPinger.cs",
          "OpenRA.Mods.Common/Scripting/Media.cs",
          "OpenRA.Mods.Cnc/FileSystem/MegFile.cs",
          "OpenRA.Mods.Common/Widgets/MenuButtonWidget.cs",
          "OpenRA.Game/Primitives/MergedStream.cs",
          "OpenRA.Game/Support/MersenneTwister.cs",
          "OpenRA.Mods.Cnc/Traits/Mine.cs",
          "OpenRA.Mods.Cnc/Traits/Minelayer.cs",
          "OpenRA.Game/./MiniYaml.cs",
          "OpenRA.Test/OpenRA.Game/MiniYamlTest.cs",
          "OpenRA.Mods.Common/Projectiles/Missile.cs",
          "OpenRA.Mods.Cnc/FileSystem/MixFile.cs",
          "OpenRA.Mods.Common/Traits/Mobile.cs",
          "OpenRA.Mods.Common/./ModContent.cs",
          "OpenRA.Mods.Common/LoadScreens/ModContentLoadScreen.cs",
          "OpenRA.Mods.Common/./ModCredits.cs",
          "OpenRA.Game/./ModData.cs",
          "OpenRA.Game/Graphics/Model.cs",
          "OpenRA.Mods.Common/Graphics/ModelActorPreview.cs",
          "OpenRA.Game/Graphics/ModelAnimation.cs",
          "OpenRA.Mods.Common/Graphics/ModelRenderable.cs",
          "OpenRA.Game/Graphics/ModelRenderer.cs",
          "OpenRA.Mods.Common/Widgets/ModelWidget.cs",
          "OpenRA.Mods.Common/Widgets/MouseAttachmentWidget.cs",
          "OpenRA.Mods.Common/AudioLoaders/Mp3Loader.cs",
          "OpenRA.Platforms.Default/./MultiTapDetection.cs",
          "OpenRA.Game/GameRules/MusicInfo.cs",
          "OpenRA.Mods.Common/Traits/MustBeDestroyed.cs",
          "OpenRA.Game/Network/Nat.cs",
          "OpenRA.Mods.Common/Projectiles/NukeLaunch.cs",
          "OpenRA.Game/./ObjectCreator.cs",
          "OpenRA.Game/Primitives/ObservableCollection.cs",
          "OpenRA.Game/Primitives/ObservableDictionary.cs",
          "OpenRA.Game/Primitives/ObservableList.cs",
          "OpenRA.Mods.Common/Widgets/ObserverArmyIconsWidget.cs",
          "OpenRA.Mods.Common/Widgets/ObserverProductionIconsWidget.cs",
          "OpenRA.Mods.Common/Widgets/ObserverSupportPowerIconsWidget.cs",
          "OpenRA.Mods.Common/AudioLoaders/OggLoader.cs",
          "OpenRA.Platforms.Default/./OpenAlSoundEngine.cs",
          "OpenRA.Platforms.Default/./OpenGL.cs",
          "OpenRA.Game/Network/Order.cs",
          "OpenRA.Mods.Common/Orders/OrderGenerator.cs",
          "OpenRA.Game/Network/OrderIO.cs",
          "OpenRA.Game/Network/OrderManager.cs",
          "OpenRA.Test/OpenRA.Game/OrderTest.cs",
          "OpenRA.Mods.Common/UtilityCommands/OutputResolvedRulesCommand.cs",
          "OpenRA.Mods.Common/UtilityCommands/OutputResolvedSequencesCommand.cs",
          "OpenRA.Mods.Common/UtilityCommands/OutputResolvedWeaponsCommand.cs",
          "OpenRA.Mods.Common/Traits/OwnerLostAction.cs",
          "OpenRA.Mods.Cnc/FileSystem/PackageEntry.cs",
          "OpenRA.Mods.Cnc/FileSystem/Pak.cs",
          "OpenRA.Game/Graphics/Palette.cs",
          "OpenRA.Game/Graphics/PaletteReference.cs",
          "OpenRA.Mods.Common/Traits/ParaDrop.cs",
          "OpenRA.Mods.Common/Traits/Parachutable.cs",
          "OpenRA.Mods.Common/Activities/Parachute.cs",
          "OpenRA.Mods.Common/Traits/Passenger.cs",
          "OpenRA.Mods.Common/Widgets/PasswordFieldWidget.cs",
          "OpenRA.Mods.Common/Pathfinder/PathGraph.cs",
          "OpenRA.Mods.Common/Pathfinder/PathSearch.cs",
          "OpenRA.Mods.Common/Widgets/PerfGraphWidget.cs",
          "OpenRA.Game/Support/PerfHistory.cs",
          "OpenRA.Game/Support/PerfItem.cs",
          "OpenRA.Game/Support/PerfSample.cs",
          "OpenRA.Game/Support/PerfTickLogger.cs",
          "OpenRA.Game/Support/PerfTimer.cs",
          "OpenRA.Mods.Common/Activities/PickupUnit.cs",
          "OpenRA.Mods.Common/Orders/PlaceBuildingOrderGenerator.cs",
          "OpenRA.Game/./Platform.cs",
          "OpenRA.Game/Graphics/PlatformInterfaces.cs",
          "OpenRA.Test/OpenRA.Game/PlatformTest.cs",
          "OpenRA.Game/./Player.cs",
          "OpenRA.Game/Graphics/PlayerColorRemap.cs",
          "OpenRA.Mods.Common/Commands/PlayerCommands.cs",
          "OpenRA.Game/./PlayerDatabase.cs",
          "OpenRA.Game/Primitives/PlayerDictionary.cs",
          "OpenRA.Mods.Common/./PlayerExtensions.cs",
          "OpenRA.Mods.Common/ServerTraits/PlayerPinger.cs",
          "OpenRA.Game/./PlayerProfile.cs",
          "OpenRA.Game/Map/PlayerReference.cs",
          "OpenRA.Mods.Common/Traits/Plug.cs",
          "OpenRA.Mods.Common/Traits/Pluggable.cs",
          "OpenRA.Game/FileFormats/Png.cs",
          "OpenRA.Mods.Common/UtilityCommands/PngSheetExportMetadataCommand.cs",
          "OpenRA.Mods.Common/UtilityCommands/PngSheetImportMetadataCommand.cs",
          "OpenRA.Mods.Common/SpriteLoaders/PngSheetLoader.cs",
          "OpenRA.Mods.Common/HitShapes/Polygon.cs",
          "OpenRA.Game/Primitives/Polygon.cs",
          "OpenRA.Mods.Common/Graphics/PolygonAnnotationRenderable.cs",
          "OpenRA.Mods.Cnc/Traits/PortableChrono.cs",
          "OpenRA.Mods.Common/Traits/PowerTooltip.cs",
          "OpenRA.Game/Primitives/PriorityQueue.cs",
          "OpenRA.Test/OpenRA.Game/PriorityQueueTest.cs",
          "OpenRA.Mods.Common/Traits/ProducibleWithLevel.cs",
          "OpenRA.Mods.Common/Traits/Production.cs",
          "OpenRA.Mods.Common/Traits/ProductionFromMapEdge.cs",
          "OpenRA.Mods.Common/Widgets/ProductionPaletteWidget.cs",
          "OpenRA.Mods.Common/Traits/ProductionParadrop.cs",
          "OpenRA.Mods.Common/Traits/ProductionQueueFromSelection.cs",
          "OpenRA.Mods.Common/Widgets/ProductionTabsWidget.cs",
          "OpenRA.Mods.Common/Widgets/ProductionTypeButtonWidget.cs",
          "OpenRA.Launcher/./Program.cs",
          "OpenRA.Server/./Program.cs",
          "OpenRA.Utility/./Program.cs",
          "OpenRA.WindowsLauncher/./Program.cs",
          "OpenRA.Game/Support/Program.cs",
          "OpenRA.Mods.Common/Widgets/ProgressBarWidget.cs",
          "OpenRA.Game/Map/ProjectedCellLayer.cs",
          "OpenRA.Game/Map/ProjectedCellRegion.cs",
          "OpenRA.Game/Server/ProtocolVersion.cs",
          "OpenRA.Mods.Common/Traits/ProximityCaptor.cs",
          "OpenRA.Mods.Common/Traits/ProximityCapturable.cs",
          "OpenRA.Mods.Common/Traits/QuantizeFacingsFromSequence.cs",
          "OpenRA.Mods.D2k/SpriteLoaders/R8Loader.cs",
          "OpenRA.Mods.Common/Widgets/RGBASpriteWidget.cs",
          "OpenRA.Mods.Common/FileFormats/RLEZerosCompression.cs",
          "OpenRA.Mods.Common/Widgets/RadarWidget.cs",
          "OpenRA.Mods.Common/Projectiles/Railgun.cs",
          "OpenRA.Mods.Common/Graphics/RailgunRenderable.cs",
          "OpenRA.Mods.Common/Effects/RallyPointIndicator.cs",
          "OpenRA.Mods.Common/Graphics/RangeCircleAnnotationRenderable.cs",
          "OpenRA.Game/Primitives/ReadOnlyAdapterStream.cs",
          "OpenRA.Mods.Common/Traits/Rearmable.cs",
          "OpenRA.Mods.Common/HitShapes/Rectangle.cs",
          "OpenRA.Game/Primitives/Rectangle.cs",
          "OpenRA.Mods.Common/UtilityCommands/RefreshMapCommand.cs",
          "OpenRA.Game/UtilityCommands/RegisterModCommand.cs",
          "OpenRA.Mods.Common/Traits/RejectsOrders.cs",
          "OpenRA.Mods.Common/Traits/ReloadAmmoPool.cs",
          "OpenRA.Mods.Cnc/UtilityCommands/RemapShpCommand.cs",
          "OpenRA.Mods.Common/Activities/RemoveSelf.cs",
          "OpenRA.Game/Graphics/Renderable.cs",
          "OpenRA.Game/./Renderer.cs",
          "OpenRA.Mods.Common/Activities/RepairBridge.cs",
          "OpenRA.Mods.Common/Activities/RepairBuilding.cs",
          "OpenRA.Mods.Common/Orders/RepairOrderGenerator.cs",
          "OpenRA.Mods.Common/Traits/Repairable.cs",
          "OpenRA.Mods.Common/Traits/RepairableNear.cs",
          "OpenRA.Mods.Common/Traits/RepairsBridges.cs",
          "OpenRA.Mods.Common/Traits/RepairsUnits.cs",
          "OpenRA.Mods.Common/Traits/Replaceable.cs",
          "OpenRA.Mods.Common/Traits/Replacement.cs",
          "OpenRA.Game/Network/ReplayConnection.cs",
          "OpenRA.Game/FileFormats/ReplayMetadata.cs",
          "OpenRA.Mods.Common/UtilityCommands/ReplayMetadataCommand.cs",
          "OpenRA.Game/Network/ReplayRecorder.cs",
          "OpenRA.Mods.Common/Traits/RequiresSpecificOwners.cs",
          "OpenRA.Mods.Common/UtilityCommands/ResizeMapCommand.cs",
          "OpenRA.Mods.Common/Widgets/ResourceBarWidget.cs",
          "OpenRA.Mods.Common/Widgets/ResourcePreviewWidget.cs",
          "OpenRA.Mods.Cnc/Traits/ResourcePurifier.cs",
          "OpenRA.Mods.Common/Activities/Resupply.cs",
          "OpenRA.Mods.Common/Traits/RevealOnDeath.cs",
          "OpenRA.Mods.Common/Traits/RevealOnFire.cs",
          "OpenRA.Mods.Common/Effects/RevealShroudEffect.cs",
          "OpenRA.Mods.Common/Traits/RevealsMap.cs",
          "OpenRA.Mods.Common/Traits/RevealsShroud.cs",
          "OpenRA.Mods.Common/UtilityCommands/Rgba2Hex.cs",
          "OpenRA.Game/Graphics/RgbaColorRenderer.cs",
          "OpenRA.Game/Graphics/RgbaSpriteRenderer.cs",
          "OpenRA.Mods.Common/Activities/RideTransport.cs",
          "OpenRA.Game/GameRules/Ruleset.cs",
          "OpenRA.Mods.D2k/Traits/Sandworm.cs",
          "OpenRA.Mods.Cnc/Effects/SatelliteLaunch.cs",
          "OpenRA.Game/Scripting/ScriptActorInterface.cs",
          "OpenRA.Game/Scripting/ScriptContext.cs",
          "OpenRA.Game/Scripting/ScriptMemberExts.cs",
          "OpenRA.Game/Scripting/ScriptMemberWrapper.cs",
          "OpenRA.Game/Scripting/ScriptObjectWrapper.cs",
          "OpenRA.Game/Scripting/ScriptPlayerInterface.cs",
          "OpenRA.Mods.Common/Traits/ScriptTags.cs",
          "OpenRA.Mods.Common/Scripting/ScriptTriggers.cs",
          "OpenRA.Game/Scripting/ScriptTypes.cs",
          "OpenRA.Mods.Common/Widgets/ScrollItemWidget.cs",
          "OpenRA.Mods.Common/Widgets/ScrollPanelWidget.cs",
          "OpenRA.Platforms.Default/./Sdl2GraphicsContext.cs",
          "OpenRA.Platforms.Default/./Sdl2HardwareCursor.cs",
          "OpenRA.Platforms.Default/./Sdl2Input.cs",
          "OpenRA.Platforms.Default/./Sdl2PlatformWindow.cs",
          "OpenRA.Mods.Common/Traits/SeedsResource.cs",
          "OpenRA.Game/Primitives/SegmentStream.cs",
          "OpenRA.Mods.Common/Traits/Selectable.cs",
          "OpenRA.Game/./SelectableExts.cs",
          "OpenRA.Mods.Common/Graphics/SelectionBarsAnnotationRenderable.cs",
          "OpenRA.Mods.Common/Graphics/SelectionBoxAnnotationRenderable.cs",
          "OpenRA.Mods.Common/Widgets/SelectionUtils.cs",
          "OpenRA.Mods.Common/Activities/Sell.cs",
          "OpenRA.Mods.Common/Traits/Sellable.cs",
          "OpenRA.Game/Graphics/SequenceProvider.cs",
          "OpenRA.Game/Server/Server.cs",
          "OpenRA.Game/Network/Session.cs",
          "OpenRA.Game/./Settings.cs",
          "OpenRA.Platforms.Default/./Shader.cs",
          "OpenRA.Mods.Common/Traits/ShakeOnDeath.cs",
          "OpenRA.Mods.Common/Warheads/ShakeScreenWarhead.cs",
          "OpenRA.Test/OpenRA.Mods.Common/ShapeTest.cs",
          "OpenRA.Game/Graphics/Sheet.cs",
          "OpenRA.Game/Graphics/SheetBuilder.cs",
          "OpenRA.Mods.Common/LoadScreens/SheetLoadScreen.cs",
          "OpenRA.Mods.Cnc/SpriteLoaders/ShpD2Loader.cs",
          "OpenRA.Mods.Cnc/SpriteLoaders/ShpRemasteredLoader.cs",
          "OpenRA.Mods.Cnc/SpriteLoaders/ShpTDLoader.cs",
          "OpenRA.Mods.Common/SpriteLoaders/ShpTSLoader.cs",
          "OpenRA.Mods.Common/./ShroudExts.cs",
          "OpenRA.Mods.Common/Activities/SimpleTeleport.cs",
          "OpenRA.Game/Primitives/Size.cs",
          "OpenRA.Mods.Common/Widgets/SliderWidget.cs",
          "OpenRA.Game/Sound/Sound.cs",
          "OpenRA.Game/Sound/SoundDevice.cs",
          "OpenRA.Game/GameRules/SoundInfo.cs",
          "OpenRA.Game/Primitives/SpatiallyPartitioned.cs",
          "OpenRA.Test/OpenRA.Game/SpatiallyPartitionedTest.cs",
          "OpenRA.Mods.Common/Effects/SpawnActorEffect.cs",
          "OpenRA.Mods.Common/Traits/SpawnActorOnDeath.cs",
          "OpenRA.Mods.Common/Traits/SpawnActorsOnSell.cs",
          "OpenRA.Mods.D2k/Traits/SpiceBloom.cs",
          "OpenRA.Mods.Common/Warheads/SpreadDamageWarhead.cs",
          "OpenRA.Game/Graphics/Sprite.cs",
          "OpenRA.Mods.Common/Graphics/SpriteActorPreview.cs",
          "OpenRA.Mods.Common/Effects/SpriteAnnotation.cs",
          "OpenRA.Mods.Common/Effects/SpriteEffect.cs",
          "OpenRA.Game/Graphics/SpriteFont.cs",
          "OpenRA.Mods.Common/Activities/SpriteHarvesterDockSequence.cs",
          "OpenRA.Game/Graphics/SpriteLoader.cs",
          "OpenRA.Game/Graphics/SpriteRenderable.cs",
          "OpenRA.Game/Graphics/SpriteRenderer.cs",
          "OpenRA.Mods.Common/Widgets/SpriteWidget.cs",
          "OpenRA.Mods.Common/Traits/StoresResources.cs",
          "OpenRA.Mods.Common/Widgets/StrategicProgressWidget.cs",
          "OpenRA.Game/./StreamExts.cs",
          "OpenRA.Test/OpenRA.Game/StreamExtsTests.cs",
          "OpenRA.Mods.Common/Widgets/SupportPowerTimerWidget.cs",
          "OpenRA.Mods.Common/Widgets/SupportPowersWidget.cs",
          "OpenRA.Mods.D2k/Activities/SwallowActor.cs",
          "OpenRA.Game/./Sync.cs",
          "OpenRA.Game/Network/SyncReport.cs",
          "OpenRA.Mods.Cnc/Traits/TDGunboat.cs",
          "OpenRA.Game/Traits/Target.cs",
          "OpenRA.Mods.Common/Warheads/TargetDamageWarhead.cs",
          "OpenRA.Mods.Common/./TargetExtensions.cs",
          "OpenRA.Game/Graphics/TargetLineRenderable.cs",
          "OpenRA.Mods.Common/Traits/Targetable.cs",
          "OpenRA.Mods.Cnc/Activities/Teleport.cs",
          "OpenRA.Mods.Common/Traits/TemporaryOwnerManager.cs",
          "OpenRA.Game/Map/TerrainInfo.cs",
          "OpenRA.Mods.Common/Terrain/TerrainInfo.cs",
          "OpenRA.Mods.Common/Traits/TerrainLightSource.cs",
          "OpenRA.Game/Graphics/TerrainSpriteLayer.cs",
          "OpenRA.Mods.Common/Widgets/TerrainTemplatePreviewWidget.cs",
          "OpenRA.Mods.Cnc/Projectiles/TeslaZap.cs",
          "OpenRA.Mods.Cnc/Graphics/TeslaZapRenderable.cs",
          "OpenRA.Mods.Common/Graphics/TextAnnotationRenderable.cs",
          "OpenRA.Mods.Common/Widgets/TextFieldWidget.cs",
          "OpenRA.Game/./TextNotification.cs",
          "OpenRA.Mods.Common/Widgets/TextNotificationsDisplayWidget.cs",
          "OpenRA.Game/./TextNotificationsManager.cs",
          "OpenRA.Platforms.Default/./Texture.cs",
          "OpenRA.Mods.Common/SpriteLoaders/TgaLoader.cs",
          "OpenRA.Platforms.Default/./ThreadAffine.cs",
          "OpenRA.Platforms.Default/./ThreadedGraphicsContext.cs",
          "OpenRA.Mods.Common/Traits/ThrowsParticle.cs",
          "OpenRA.Mods.Common/Traits/ThrowsShrapnel.cs",
          "OpenRA.Game/Network/TickTime.cs",
          "OpenRA.Game/Map/TileReference.cs",
          "OpenRA.Mods.Common/Graphics/TilesetSpecificSpriteSequence.cs",
          "OpenRA.Mods.Cnc/SpriteLoaders/TmpRALoader.cs",
          "OpenRA.Mods.Cnc/SpriteLoaders/TmpTDLoader.cs",
          "OpenRA.Mods.Cnc/SpriteLoaders/TmpTSLoader.cs",
          "OpenRA.Mods.Common/Traits/Tooltip.cs",
          "OpenRA.Mods.Common/Widgets/TooltipContainerWidget.cs",
          "OpenRA.Mods.Common/Traits/TooltipDescription.cs",
          "OpenRA.Game/./TraitDictionary.cs",
          "OpenRA.Game/Server/TraitInterfaces.cs",
          "OpenRA.Mods.Cnc/./TraitsInterfaces.cs",
          "OpenRA.Mods.Common/./TraitsInterfaces.cs",
          "OpenRA.Game/Traits/TraitsInterfaces.cs",
          "OpenRA.Mods.Cnc/Traits/TransferTimedExternalConditionOnTransform.cs",
          "OpenRA.Mods.Common/Activities/Transform.cs",
          "OpenRA.Mods.Common/Traits/TransformCrusherOnCrush.cs",
          "OpenRA.Mods.Common/Traits/TransformOnCapture.cs",
          "OpenRA.Mods.Common/Traits/Transforms.cs",
          "OpenRA.Mods.Cnc/Traits/TransformsNearResources.cs",
          "OpenRA.Game/./Translation.cs",
          "OpenRA.Mods.Common/Traits/TunnelEntrance.cs",
          "OpenRA.Mods.Common/Activities/Turn.cs",
          "OpenRA.Mods.Common/Traits/TurnOnIdle.cs",
          "OpenRA.Mods.Common/Traits/Turreted.cs",
          "OpenRA.Game/Primitives/TypeDictionary.cs",
          "OpenRA.Mods.Common/Graphics/UIModelRenderable.cs",
          "OpenRA.Game/Graphics/UISpriteRenderable.cs",
          "OpenRA.Mods.Common/Graphics/UITextRenderable.cs",
          "OpenRA.Game/Orders/UnitOrderGenerator.cs",
          "OpenRA.Mods.Common/Orders/UnitOrderTargeter.cs",
          "OpenRA.Game/Network/UnitOrders.cs",
          "OpenRA.Mods.Common/Activities/UnloadCargo.cs",
          "OpenRA.Game/UtilityCommands/UnregisterModCommand.cs",
          "OpenRA.Mods.Common/UtilityCommands/UpdateMapCommand.cs",
          "OpenRA.Mods.Common/UtilityCommands/UpdateModCommand.cs",
          "OpenRA.Mods.Common/UpdateRules/UpdatePath.cs",
          "OpenRA.Mods.Common/UpdateRules/UpdateRule.cs",
          "OpenRA.Mods.Common/UpdateRules/UpdateUtils.cs",
          "OpenRA.Mods.Common/Traits/UpdatesDerrickCount.cs",
          "OpenRA.Mods.Cnc/./Util.cs",
          "OpenRA.Mods.Common/./Util.cs",
          "OpenRA.Game/Graphics/Util.cs",
          "OpenRA.Mods.Common/UtilityCommands/Utilities.cs",
          "OpenRA.Mods.Common/Traits/Valued.cs",
          "OpenRA.Game/Support/VariableExpression.cs",
          "OpenRA.Test/OpenRA.Game/VariableExpressionTest.cs",
          "OpenRA.Game/Graphics/Vertex.cs",
          "OpenRA.Platforms.Default/./VertexBuffer.cs",
          "OpenRA.Game/Graphics/Video.cs",
          "OpenRA.Game/Graphics/VideoLoader.cs",
          "OpenRA.Mods.Common/Widgets/VideoPlayerWidget.cs",
          "OpenRA.Game/Graphics/Viewport.cs",
          "OpenRA.Mods.Common/Widgets/ViewportControllerWidget.cs",
          "OpenRA.Mods.Cnc/AudioLoaders/VocLoader.cs",
          "OpenRA.Game/./VoiceExts.cs",
          "OpenRA.Mods.Common/Traits/Voiced.cs",
          "OpenRA.Mods.Cnc/Graphics/Voxel.cs",
          "OpenRA.Mods.Cnc/Activities/VoxelHarvesterDockSequence.cs",
          "OpenRA.Mods.Cnc/Graphics/VoxelLoader.cs",
          "OpenRA.Mods.Cnc/Graphics/VoxelModelSequenceLoader.cs",
          "OpenRA.Mods.Cnc/VideoLoaders/VqaLoader.cs",
          "OpenRA.Mods.Cnc/FileFormats/VqaReader.cs",
          "OpenRA.Mods.Cnc/FileFormats/VxlReader.cs",
          "OpenRA.Game/./WAngle.cs",
          "OpenRA.Game/./WDist.cs",
          "OpenRA.Game/./WPos.cs",
          "OpenRA.Game/./WRot.cs",
          "OpenRA.Game/./WVec.cs",
          "OpenRA.Mods.Common/Activities/Wait.cs",
          "OpenRA.Mods.Common/Traits/Wanders.cs",
          "OpenRA.Mods.Common/Warheads/Warhead.cs",
          "OpenRA.Mods.Common/AudioLoaders/WavLoader.cs",
          "OpenRA.Mods.Common/FileFormats/WavReader.cs",
          "OpenRA.Game/GameRules/WeaponInfo.cs",
          "OpenRA.Mods.Common/./WebServices.cs",
          "OpenRA.Game/Widgets/Widget.cs",
          "OpenRA.Game/Widgets/WidgetLoader.cs",
          "OpenRA.Mods.Common/Widgets/WidgetUtils.cs",
          "OpenRA.Game/./World.cs",
          "OpenRA.Mods.Common/Widgets/WorldButtonWidget.cs",
          "OpenRA.Mods.Common/./WorldExtensions.cs",
          "OpenRA.Mods.Common/Widgets/WorldInteractionControllerWidget.cs",
          "OpenRA.Mods.Common/Widgets/WorldLabelWithTooltipWidget.cs",
          "OpenRA.Game/Graphics/WorldRenderer.cs",
          "OpenRA.Game/./WorldUtils.cs",
          "OpenRA.Game/./WorldViewportSizes.cs",
          "OpenRA.Mods.Cnc/VideoLoaders/WsaLoader.cs",
          "OpenRA.Mods.Cnc/FileFormats/WsaReader.cs",
          "OpenRA.Mods.Cnc/FileFormats/XORDeltaCompression.cs",
          "OpenRA.Mods.Cnc/FileFormats/XccGlobalDatabase.cs",
          "OpenRA.Mods.Cnc/FileFormats/XccLocalDatabase.cs",
          "OpenRA.Game/FileSystem/ZipFile.cs",
          "OpenRA.Game/Primitives/float2.cs",
          "OpenRA.Game/Primitives/float3.cs",
          "OpenRA.Game/Primitives/int2.cs",
          "OpenRA.Game/.",
          "OpenRA.Launcher/.",
          "OpenRA.Mods.Cnc/.",
          "OpenRA.Mods.Common/.",
          "OpenRA.Platforms.Default/.",
          "OpenRA.Server/.",
          "OpenRA.Utility/.",
          "OpenRA.WindowsLauncher/.",
          "OpenRA.Game/Activities",
          "OpenRA.Mods.Cnc/Activities",
          "OpenRA.Mods.Common/Activities",
          "OpenRA.Mods.D2k/Activities",
          "OpenRA.Mods.Cnc/AudioLoaders",
          "OpenRA.Mods.Common/AudioLoaders",
          "OpenRA.Mods.Common/Commands",
          "OpenRA.Mods.Common/EditorBrushes",
          "OpenRA.Game/Effects",
          "OpenRA.Mods.Cnc/Effects",
          "OpenRA.Mods.Common/Effects",
          "OpenRA.Game/FileFormats",
          "OpenRA.Mods.Cnc/FileFormats",
          "OpenRA.Mods.Common/FileFormats",
          "OpenRA.Game/FileSystem",
          "OpenRA.Mods.Cnc/FileSystem",
          "OpenRA.Mods.Common/FileSystem",
          "OpenRA.Game/GameRules",
          "OpenRA.Game/Graphics",
          "OpenRA.Mods.Cnc/Graphics",
          "OpenRA.Mods.Common/Graphics",
          "OpenRA.Mods.Common/HitShapes",
          "OpenRA.Game/Input",
          "OpenRA.Mods.Common/Lint",
          "OpenRA.Mods.D2k/Lint",
          "OpenRA.Mods.Common/LoadScreens",
          "OpenRA.Game/Map",
          "OpenRA.Game/Network",
          "OpenRA.Test/OpenRA.Game",
          "OpenRA.Test/OpenRA.Mods.Common",
          "OpenRA.Game/Orders",
          "OpenRA.Mods.Common/Orders",
          "OpenRA.Mods.D2k/PackageLoaders",
          "OpenRA.Mods.Common/Pathfinder",
          "OpenRA.Game/Primitives",
          "OpenRA.Mods.Cnc/Projectiles",
          "OpenRA.Mods.Common/Projectiles",
          "OpenRA.Game/Scripting",
          "OpenRA.Mods.Common/Scripting",
          "OpenRA.Game/Server",
          "OpenRA.Mods.Common/ServerTraits",
          "OpenRA.Game/Sound",
          "OpenRA.Mods.Cnc/SpriteLoaders",
          "OpenRA.Mods.Common/SpriteLoaders",
          "OpenRA.Mods.D2k/SpriteLoaders",
          "OpenRA.Game/Support",
          "OpenRA.Mods.Common/Terrain",
          "OpenRA.Game/Traits",
          "OpenRA.Mods.Cnc/Traits",
          "OpenRA.Mods.Common/Traits",
          "OpenRA.Mods.D2k/Traits",
          "OpenRA.Mods.Common/UpdateRules",
          "OpenRA.Game/UtilityCommands",
          "OpenRA.Mods.Cnc/UtilityCommands",
          "OpenRA.Mods.Common/UtilityCommands",
          "OpenRA.Mods.D2k/UtilityCommands",
          "OpenRA.Mods.Cnc/VideoLoaders",
          "OpenRA.Mods.Common/Warheads",
          "OpenRA.Mods.D2k/Warheads",
          "OpenRA.Game/Widgets",
          "OpenRA.Mods.Common/Widgets",
          "OpenRA.Game",
          "OpenRA.Launcher",
          "OpenRA.Mods.Cnc",
          "OpenRA.Mods.Common",
          "OpenRA.Mods.D2k",
          "OpenRA.Platforms.Default",
          "OpenRA.Server",
          "OpenRA.Test",
          "OpenRA.Utility",
          "OpenRA.WindowsLauncher"
         ],
         "labels": [
          "AIUtils.cs",
          "AcceptsDeliveredCash.cs",
          "AcceptsDeliveredExperience.cs",
          "ActionQueue.cs",
          "ActionQueueTest.cs",
          "Activity.cs",
          "ActivityUtils.cs",
          "Actor.cs",
          "ActorExts.cs",
          "ActorInfo.cs",
          "ActorInfoDictionary.cs",
          "ActorInfoTest.cs",
          "ActorInitializer.cs",
          "ActorInitializer.cs",
          "ActorPreview.cs",
          "ActorPreviewWidget.cs",
          "ActorReference.cs",
          "ActorSpawner.cs",
          "AffectsShroud.cs",
          "AmmoPool.cs",
          "Animation.cs",
          "AnimationWithOffset.cs",
          "AppearsOnMapPreview.cs",
          "AreaBeam.cs",
          "Arguments.cs",
          "Armament.cs",
          "Armor.cs",
          "AssemblyLoader.cs",
          "AssetBrowser.cs",
          "AsyncAction.cs",
          "Attack.cs",
          "AttackMove.cs",
          "AttackSwallow.cs",
          "AttackWander.cs",
          "AttractsWorms.cs",
          "AudLoader.cs",
          "AudReader.cs",
          "AutoCarryable.cs",
          "AutoCarryall.cs",
          "AutoTarget.cs",
          "AutoTargetPriority.cs",
          "BackgroundWidget.cs",
          "BadgeWidget.cs",
          "BasePathSearch.cs",
          "Beacon.cs",
          "BeaconOrderGenerator.cs",
          "BeamRenderable.cs",
          "Benchmark.cs",
          "BigFile.cs",
          "BitSet.cs",
          "BlankLoadScreen.cs",
          "Blast.cs",
          "BlocksProjectiles.cs",
          "Blowfish.cs",
          "BlowfishKeyProvider.cs",
          "BodyOrientation.cs",
          "Buildable.cs",
          "Bullet.cs",
          "ButtonWidget.cs",
          "CPos.cs",
          "CPosTest.cs",
          "CRC32.cs",
          "CVec.cs",
          "Cache.cs",
          "CallFunc.cs",
          "CallLuaFunc.cs",
          "Capsule.cs",
          "Capturable.cs",
          "CapturableProgressBar.cs",
          "CapturableProgressBlink.cs",
          "CaptureActor.cs",
          "CaptureManager.cs",
          "CaptureProgressBar.cs",
          "Captures.cs",
          "Cargo.cs",
          "Carryable.cs",
          "CarryableHarvester.cs",
          "Carryall.cs",
          "CashTrickler.cs",
          "CellInfo.cs",
          "CellInfoLayerPool.cs",
          "CellLayer.cs",
          "CellLayerBase.cs",
          "CellRegion.cs",
          "ChangeOwnerWarhead.cs",
          "ChangesHealth.cs",
          "ChangesTerrain.cs",
          "ChatCommands.cs",
          "CheckActorReferences.cs",
          "CheckActors.cs",
          "CheckAngle.cs",
          "CheckChromeHotkeys.cs",
          "CheckChromeLogic.cs",
          "CheckConditionalTraitInterfaceOverrides.cs",
          "CheckConditions.cs",
          "CheckConflictingMouseBounds.cs",
          "CheckCursors.cs",
          "CheckDefaultVisibility.cs",
          "CheckExplicitInterfacesCommand.cs",
          "CheckHitShapes.cs",
          "CheckImportActors.cs",
          "CheckLocomotorReferences.cs",
          "CheckMapCordon.cs",
          "CheckMapMetadata.cs",
          "CheckMapTiles.cs",
          "CheckMissingSprites.cs",
          "CheckNotifications.cs",
          "CheckOwners.cs",
          "CheckPalettes.cs",
          "CheckPlayers.cs",
          "CheckRangeLimit.cs",
          "CheckRevealFootprint.cs",
          "CheckSequences.cs",
          "CheckSpriteBodies.cs",
          "CheckSyncAnnotations.cs",
          "CheckTooltips.cs",
          "CheckTraitLocation.cs",
          "CheckTraitPrerequisites.cs",
          "CheckUnknownTraitFields.cs",
          "CheckUnknownWeaponFields.cs",
          "CheckVoiceReferences.cs",
          "CheckWorldAndPlayerInherits.cs",
          "CheckYaml.cs",
          "CheckboxWidget.cs",
          "ChromeMetrics.cs",
          "ChromeProvider.cs",
          "Chronoshiftable.cs",
          "Circle.cs",
          "CircleAnnotationRenderable.cs",
          "ClassicFacingBodyOrientation.cs",
          "ClassicSpriteSequence.cs",
          "ClassicTilesetSpecificSpriteSequence.cs",
          "ClearInvalidModRegistrationsCommand.cs",
          "ClientTooltipRegionWidget.cs",
          "Cloak.cs",
          "Cloneable.cs",
          "CncLoadScreen.cs",
          "Color.cs",
          "ColorBlockWidget.cs",
          "ColorMixerWidget.cs",
          "CombatDebugOverlay.cs",
          "CommandBarBlacklist.cs",
          "ConcurrentCache.cs",
          "ConfirmationDialogs.cs",
          "Connection.cs",
          "Connection.cs",
          "ConnectionTarget.cs",
          "ContrailFader.cs",
          "ContrailRenderable.cs",
          "ConvertPngToShpCommand.cs",
          "ConvertSpriteToPngCommand.cs",
          "ConyardChronoReturn.cs",
          "CoordinateTest.cs",
          "CreateEffectWarhead.cs",
          "CreateManPage.cs",
          "CreateResourceWarhead.cs",
          "CreatesShroud.cs",
          "Crushable.cs",
          "CryptoUtil.cs",
          "CursorManager.cs",
          "CursorProvider.cs",
          "CursorSequence.cs",
          "CustomSellValue.cs",
          "D2kMapImporter.cs",
          "D2kSoundResources.cs",
          "DamageWarhead.cs",
          "DamagedByTerrain.cs",
          "DamagesConcreteWarhead.cs",
          "DdsLoader.cs",
          "DebugChromeRegions.cs",
          "DebugPauseState.cs",
          "DebugVisualizationCommands.cs",
          "DefaultPlatform.cs",
          "DefaultPlayer.cs",
          "DefaultSpriteSequence.cs",
          "DefaultTerrain.cs",
          "DefaultTileCache.cs",
          "DelayedAction.cs",
          "DelayedImpact.cs",
          "DeliverResources.cs",
          "DeliverUnit.cs",
          "DeliversCash.cs",
          "DeliversExperience.cs",
          "Demolish.cs",
          "Demolishable.cs",
          "Demolition.cs",
          "DeployForGrantedCondition.cs",
          "DeployOrderTargeter.cs",
          "DestroyResourceWarhead.cs",
          "DetectCloaked.cs",
          "DetectionCircleAnnotationRenderable.cs",
          "DevCommands.cs",
          "DiscordService.cs",
          "Disguise.cs",
          "DisposableAction.cs",
          "DonateCash.cs",
          "DonateExperience.cs",
          "DrainPrerequisitePowerOnDamage.cs",
          "DropDownButtonWidget.cs",
          "DropPodImpact.cs",
          "DummySoundEngine.cs",
          "DumpSequenceSheetsCommand.cs",
          "EdibleByLeap.cs",
          "EditorActorBrush.cs",
          "EditorCopyPasteBrush.cs",
          "EditorDefaultBrush.cs",
          "EditorResourceBrush.cs",
          "EditorTileBrush.cs",
          "EditorViewportControllerWidget.cs",
          "EjectOnDeath.cs",
          "EnergyWall.cs",
          "EngineerRepair.cs",
          "EngineerRepairable.cs",
          "Enter.cs",
          "EnterAlliedActorTargeter.cs",
          "EntersTunnels.cs",
          "Evaluator.cs",
          "ExceptionHandler.cs",
          "ExitsDebugOverlay.cs",
          "ExperienceTrickler.cs",
          "Explodes.cs",
          "ExplosionOnDamageTransition.cs",
          "ExponentialSliderWidget.cs",
          "Extensions.cs",
          "ExternalMods.cs",
          "ExtractFilesCommand.cs",
          "ExtractLuaDocsCommand.cs",
          "ExtractMapRules.cs",
          "ExtractSettingsDocsCommand.cs",
          "ExtractTraitDocsCommand.cs",
          "ExtractWeaponDocsCommand.cs",
          "ExtractZeroBraneStudioLuaAPI.cs",
          "Exts.cs",
          "Exts.cs",
          "FastByteReader.cs",
          "FieldLoader.cs",
          "FieldSaver.cs",
          "FileSystem.cs",
          "FindAndDeliverResources.cs",
          "FireClusterWarhead.cs",
          "FlashPaletteEffectWarhead.cs",
          "FlashTarget.cs",
          "FloatingText.cs",
          "Folder.cs",
          "Fonts.cs",
          "ForceModifiersOrderGenerator.cs",
          "FrameBuffer.cs",
          "FreeTypeFont.cs",
          "FrozenUnderFogUpdatedByGps.cs",
          "GainsExperience.cs",
          "Game.cs",
          "GameInformation.cs",
          "GameSave.cs",
          "GameServer.cs",
          "GameSpeed.cs",
          "GeoIP.cs",
          "GetMapHashCommand.cs",
          "GivesBounty.cs",
          "GivesCashOnCapture.cs",
          "GivesExperience.cs",
          "Glob.cs",
          "GlobalButtonOrderGenerator.cs",
          "GpsDot.cs",
          "GpsDotEffect.cs",
          "GpsSatellite.cs",
          "GpsWatcher.cs",
          "GradientColorBlockWidget.cs",
          "GrantExternalConditionWarhead.cs",
          "GravityBomb.cs",
          "GridLayout.cs",
          "Guard.cs",
          "GuardOrderGenerator.cs",
          "Guardable.cs",
          "Handshake.cs",
          "HardwarePalette.cs",
          "HarvestResource.cs",
          "Harvester.cs",
          "HarvesterDockSequence.cs",
          "HarvesterHuskModifier.cs",
          "Health.cs",
          "HealthPercentageDamageWarhead.cs",
          "HelpCommand.cs",
          "HitShape.cs",
          "Hotkey.cs",
          "HotkeyDefinition.cs",
          "HotkeyEntryWidget.cs",
          "HotkeyManager.cs",
          "HotkeyReference.cs",
          "HttpClientFactory.cs",
          "HttpExtension.cs",
          "HttpQueryBuilder.cs",
          "Hunt.cs",
          "Huntable.cs",
          "Husk.cs",
          "HvaReader.cs",
          "IEffect.cs",
          "IHitShape.cs",
          "IInputHandler.cs",
          "IObservableCollection.cs",
          "IOrderGenerator.cs",
          "IPackage.cs",
          "ITextureInternal.cs",
          "IUtilityCommand.cs",
          "IdxEntry.cs",
          "IdxReader.cs",
          "IgnoresCloak.cs",
          "IgnoresDisguise.cs",
          "ImaAdpcmReader.cs",
          "ImageWidget.cs",
          "Immobile.cs",
          "ImportD2kMapCommand.cs",
          "ImportLegacyMapCommand.cs",
          "ImportRedAlertLegacyMapCommand.cs",
          "ImportTSMapCommand.cs",
          "ImportTiberianDawnLegacyMapCommand.cs",
          "Infiltrate.cs",
          "IniFile.cs",
          "InputHandler.cs",
          "InstallShieldCABCompression.cs",
          "InstallShieldPackage.cs",
          "InstalledMods.cs",
          "InstantHit.cs",
          "Int32Matrix4x4.cs",
          "Interactable.cs",
          "IonCannon.cs",
          "IsometricSelectable.cs",
          "IsometricSelectionBarsAnnotationRenderable.cs",
          "IsometricSelectionBoxAnnotationRenderable.cs",
          "JamsMissiles.cs",
          "Keycode.cs",
          "KillsSelf.cs",
          "LCWCompression.cs",
          "LZOCompression.cs",
          "LabelWidget.cs",
          "LabelWithHighlightWidget.cs",
          "LabelWithTooltipWidget.cs",
          "LaserZap.cs",
          "LaunchArguments.cs",
          "LayMines.cs",
          "Leap.cs",
          "LeapAttack.cs",
          "LeaveSmudgeWarhead.cs",
          "LegacyRulesImporter.cs",
          "LegacySequenceImporter.cs",
          "LegacyTilesetImporter.cs",
          "LineAnnotationRenderable.cs",
          "LineGraphWidget.cs",
          "LintAttributes.cs",
          "LintAttributes.cs",
          "LintBuildablePrerequisites.cs",
          "LintExts.cs",
          "LintInterfaces.cs",
          "ListInstallShieldCabContentsCommand.cs",
          "ListInstallShieldContentsCommand.cs",
          "ListLayout.cs",
          "ListMSCabContentsCommand.cs",
          "ListMixContentsCommand.cs",
          "LobbyCommands.cs",
          "LobbySettingsNotification.cs",
          "LocalPlayerProfile.cs",
          "Log.cs",
          "LogProxy.cs",
          "LogicKeyListenerWidget.cs",
          "LogicTickerWidget.cs",
          "LogoStripeLoadScreen.cs",
          "LongBitSet.cs",
          "LuaScript.cs",
          "MPos.cs",
          "MSCabCompression.cs",
          "MadTank.cs",
          "Manifest.cs",
          "Map.cs",
          "MapCache.cs",
          "MapCoordsRegion.cs",
          "MapEditorData.cs",
          "MapGrid.cs",
          "MapNotificationEffect.cs",
          "MapPlayers.cs",
          "MapPreview.cs",
          "MapPreviewWidget.cs",
          "MapStatusCache.cs",
          "MasterServerPinger.cs",
          "Media.cs",
          "MegFile.cs",
          "MenuButtonWidget.cs",
          "MergedStream.cs",
          "MersenneTwister.cs",
          "Mine.cs",
          "Minelayer.cs",
          "MiniYaml.cs",
          "MiniYamlTest.cs",
          "Missile.cs",
          "MixFile.cs",
          "Mobile.cs",
          "ModContent.cs",
          "ModContentLoadScreen.cs",
          "ModCredits.cs",
          "ModData.cs",
          "Model.cs",
          "ModelActorPreview.cs",
          "ModelAnimation.cs",
          "ModelRenderable.cs",
          "ModelRenderer.cs",
          "ModelWidget.cs",
          "MouseAttachmentWidget.cs",
          "Mp3Loader.cs",
          "MultiTapDetection.cs",
          "MusicInfo.cs",
          "MustBeDestroyed.cs",
          "Nat.cs",
          "NukeLaunch.cs",
          "ObjectCreator.cs",
          "ObservableCollection.cs",
          "ObservableDictionary.cs",
          "ObservableList.cs",
          "ObserverArmyIconsWidget.cs",
          "ObserverProductionIconsWidget.cs",
          "ObserverSupportPowerIconsWidget.cs",
          "OggLoader.cs",
          "OpenAlSoundEngine.cs",
          "OpenGL.cs",
          "Order.cs",
          "OrderGenerator.cs",
          "OrderIO.cs",
          "OrderManager.cs",
          "OrderTest.cs",
          "OutputResolvedRulesCommand.cs",
          "OutputResolvedSequencesCommand.cs",
          "OutputResolvedWeaponsCommand.cs",
          "OwnerLostAction.cs",
          "PackageEntry.cs",
          "Pak.cs",
          "Palette.cs",
          "PaletteReference.cs",
          "ParaDrop.cs",
          "Parachutable.cs",
          "Parachute.cs",
          "Passenger.cs",
          "PasswordFieldWidget.cs",
          "PathGraph.cs",
          "PathSearch.cs",
          "PerfGraphWidget.cs",
          "PerfHistory.cs",
          "PerfItem.cs",
          "PerfSample.cs",
          "PerfTickLogger.cs",
          "PerfTimer.cs",
          "PickupUnit.cs",
          "PlaceBuildingOrderGenerator.cs",
          "Platform.cs",
          "PlatformInterfaces.cs",
          "PlatformTest.cs",
          "Player.cs",
          "PlayerColorRemap.cs",
          "PlayerCommands.cs",
          "PlayerDatabase.cs",
          "PlayerDictionary.cs",
          "PlayerExtensions.cs",
          "PlayerPinger.cs",
          "PlayerProfile.cs",
          "PlayerReference.cs",
          "Plug.cs",
          "Pluggable.cs",
          "Png.cs",
          "PngSheetExportMetadataCommand.cs",
          "PngSheetImportMetadataCommand.cs",
          "PngSheetLoader.cs",
          "Polygon.cs",
          "Polygon.cs",
          "PolygonAnnotationRenderable.cs",
          "PortableChrono.cs",
          "PowerTooltip.cs",
          "PriorityQueue.cs",
          "PriorityQueueTest.cs",
          "ProducibleWithLevel.cs",
          "Production.cs",
          "ProductionFromMapEdge.cs",
          "ProductionPaletteWidget.cs",
          "ProductionParadrop.cs",
          "ProductionQueueFromSelection.cs",
          "ProductionTabsWidget.cs",
          "ProductionTypeButtonWidget.cs",
          "Program.cs",
          "Program.cs",
          "Program.cs",
          "Program.cs",
          "Program.cs",
          "ProgressBarWidget.cs",
          "ProjectedCellLayer.cs",
          "ProjectedCellRegion.cs",
          "ProtocolVersion.cs",
          "ProximityCaptor.cs",
          "ProximityCapturable.cs",
          "QuantizeFacingsFromSequence.cs",
          "R8Loader.cs",
          "RGBASpriteWidget.cs",
          "RLEZerosCompression.cs",
          "RadarWidget.cs",
          "Railgun.cs",
          "RailgunRenderable.cs",
          "RallyPointIndicator.cs",
          "RangeCircleAnnotationRenderable.cs",
          "ReadOnlyAdapterStream.cs",
          "Rearmable.cs",
          "Rectangle.cs",
          "Rectangle.cs",
          "RefreshMapCommand.cs",
          "RegisterModCommand.cs",
          "RejectsOrders.cs",
          "ReloadAmmoPool.cs",
          "RemapShpCommand.cs",
          "RemoveSelf.cs",
          "Renderable.cs",
          "Renderer.cs",
          "RepairBridge.cs",
          "RepairBuilding.cs",
          "RepairOrderGenerator.cs",
          "Repairable.cs",
          "RepairableNear.cs",
          "RepairsBridges.cs",
          "RepairsUnits.cs",
          "Replaceable.cs",
          "Replacement.cs",
          "ReplayConnection.cs",
          "ReplayMetadata.cs",
          "ReplayMetadataCommand.cs",
          "ReplayRecorder.cs",
          "RequiresSpecificOwners.cs",
          "ResizeMapCommand.cs",
          "ResourceBarWidget.cs",
          "ResourcePreviewWidget.cs",
          "ResourcePurifier.cs",
          "Resupply.cs",
          "RevealOnDeath.cs",
          "RevealOnFire.cs",
          "RevealShroudEffect.cs",
          "RevealsMap.cs",
          "RevealsShroud.cs",
          "Rgba2Hex.cs",
          "RgbaColorRenderer.cs",
          "RgbaSpriteRenderer.cs",
          "RideTransport.cs",
          "Ruleset.cs",
          "Sandworm.cs",
          "SatelliteLaunch.cs",
          "ScriptActorInterface.cs",
          "ScriptContext.cs",
          "ScriptMemberExts.cs",
          "ScriptMemberWrapper.cs",
          "ScriptObjectWrapper.cs",
          "ScriptPlayerInterface.cs",
          "ScriptTags.cs",
          "ScriptTriggers.cs",
          "ScriptTypes.cs",
          "ScrollItemWidget.cs",
          "ScrollPanelWidget.cs",
          "Sdl2GraphicsContext.cs",
          "Sdl2HardwareCursor.cs",
          "Sdl2Input.cs",
          "Sdl2PlatformWindow.cs",
          "SeedsResource.cs",
          "SegmentStream.cs",
          "Selectable.cs",
          "SelectableExts.cs",
          "SelectionBarsAnnotationRenderable.cs",
          "SelectionBoxAnnotationRenderable.cs",
          "SelectionUtils.cs",
          "Sell.cs",
          "Sellable.cs",
          "SequenceProvider.cs",
          "Server.cs",
          "Session.cs",
          "Settings.cs",
          "Shader.cs",
          "ShakeOnDeath.cs",
          "ShakeScreenWarhead.cs",
          "ShapeTest.cs",
          "Sheet.cs",
          "SheetBuilder.cs",
          "SheetLoadScreen.cs",
          "ShpD2Loader.cs",
          "ShpRemasteredLoader.cs",
          "ShpTDLoader.cs",
          "ShpTSLoader.cs",
          "ShroudExts.cs",
          "SimpleTeleport.cs",
          "Size.cs",
          "SliderWidget.cs",
          "Sound.cs",
          "SoundDevice.cs",
          "SoundInfo.cs",
          "SpatiallyPartitioned.cs",
          "SpatiallyPartitionedTest.cs",
          "SpawnActorEffect.cs",
          "SpawnActorOnDeath.cs",
          "SpawnActorsOnSell.cs",
          "SpiceBloom.cs",
          "SpreadDamageWarhead.cs",
          "Sprite.cs",
          "SpriteActorPreview.cs",
          "SpriteAnnotation.cs",
          "SpriteEffect.cs",
          "SpriteFont.cs",
          "SpriteHarvesterDockSequence.cs",
          "SpriteLoader.cs",
          "SpriteRenderable.cs",
          "SpriteRenderer.cs",
          "SpriteWidget.cs",
          "StoresResources.cs",
          "StrategicProgressWidget.cs",
          "StreamExts.cs",
          "StreamExtsTests.cs",
          "SupportPowerTimerWidget.cs",
          "SupportPowersWidget.cs",
          "SwallowActor.cs",
          "Sync.cs",
          "SyncReport.cs",
          "TDGunboat.cs",
          "Target.cs",
          "TargetDamageWarhead.cs",
          "TargetExtensions.cs",
          "TargetLineRenderable.cs",
          "Targetable.cs",
          "Teleport.cs",
          "TemporaryOwnerManager.cs",
          "TerrainInfo.cs",
          "TerrainInfo.cs",
          "TerrainLightSource.cs",
          "TerrainSpriteLayer.cs",
          "TerrainTemplatePreviewWidget.cs",
          "TeslaZap.cs",
          "TeslaZapRenderable.cs",
          "TextAnnotationRenderable.cs",
          "TextFieldWidget.cs",
          "TextNotification.cs",
          "TextNotificationsDisplayWidget.cs",
          "TextNotificationsManager.cs",
          "Texture.cs",
          "TgaLoader.cs",
          "ThreadAffine.cs",
          "ThreadedGraphicsContext.cs",
          "ThrowsParticle.cs",
          "ThrowsShrapnel.cs",
          "TickTime.cs",
          "TileReference.cs",
          "TilesetSpecificSpriteSequence.cs",
          "TmpRALoader.cs",
          "TmpTDLoader.cs",
          "TmpTSLoader.cs",
          "Tooltip.cs",
          "TooltipContainerWidget.cs",
          "TooltipDescription.cs",
          "TraitDictionary.cs",
          "TraitInterfaces.cs",
          "TraitsInterfaces.cs",
          "TraitsInterfaces.cs",
          "TraitsInterfaces.cs",
          "TransferTimedExternalConditionOnTransform.cs",
          "Transform.cs",
          "TransformCrusherOnCrush.cs",
          "TransformOnCapture.cs",
          "Transforms.cs",
          "TransformsNearResources.cs",
          "Translation.cs",
          "TunnelEntrance.cs",
          "Turn.cs",
          "TurnOnIdle.cs",
          "Turreted.cs",
          "TypeDictionary.cs",
          "UIModelRenderable.cs",
          "UISpriteRenderable.cs",
          "UITextRenderable.cs",
          "UnitOrderGenerator.cs",
          "UnitOrderTargeter.cs",
          "UnitOrders.cs",
          "UnloadCargo.cs",
          "UnregisterModCommand.cs",
          "UpdateMapCommand.cs",
          "UpdateModCommand.cs",
          "UpdatePath.cs",
          "UpdateRule.cs",
          "UpdateUtils.cs",
          "UpdatesDerrickCount.cs",
          "Util.cs",
          "Util.cs",
          "Util.cs",
          "Utilities.cs",
          "Valued.cs",
          "VariableExpression.cs",
          "VariableExpressionTest.cs",
          "Vertex.cs",
          "VertexBuffer.cs",
          "Video.cs",
          "VideoLoader.cs",
          "VideoPlayerWidget.cs",
          "Viewport.cs",
          "ViewportControllerWidget.cs",
          "VocLoader.cs",
          "VoiceExts.cs",
          "Voiced.cs",
          "Voxel.cs",
          "VoxelHarvesterDockSequence.cs",
          "VoxelLoader.cs",
          "VoxelModelSequenceLoader.cs",
          "VqaLoader.cs",
          "VqaReader.cs",
          "VxlReader.cs",
          "WAngle.cs",
          "WDist.cs",
          "WPos.cs",
          "WRot.cs",
          "WVec.cs",
          "Wait.cs",
          "Wanders.cs",
          "Warhead.cs",
          "WavLoader.cs",
          "WavReader.cs",
          "WeaponInfo.cs",
          "WebServices.cs",
          "Widget.cs",
          "WidgetLoader.cs",
          "WidgetUtils.cs",
          "World.cs",
          "WorldButtonWidget.cs",
          "WorldExtensions.cs",
          "WorldInteractionControllerWidget.cs",
          "WorldLabelWithTooltipWidget.cs",
          "WorldRenderer.cs",
          "WorldUtils.cs",
          "WorldViewportSizes.cs",
          "WsaLoader.cs",
          "WsaReader.cs",
          "XORDeltaCompression.cs",
          "XccGlobalDatabase.cs",
          "XccLocalDatabase.cs",
          "ZipFile.cs",
          "float2.cs",
          "float3.cs",
          "int2.cs",
          ".",
          ".",
          ".",
          ".",
          ".",
          ".",
          ".",
          ".",
          "Activities",
          "Activities",
          "Activities",
          "Activities",
          "AudioLoaders",
          "AudioLoaders",
          "Commands",
          "EditorBrushes",
          "Effects",
          "Effects",
          "Effects",
          "FileFormats",
          "FileFormats",
          "FileFormats",
          "FileSystem",
          "FileSystem",
          "FileSystem",
          "GameRules",
          "Graphics",
          "Graphics",
          "Graphics",
          "HitShapes",
          "Input",
          "Lint",
          "Lint",
          "LoadScreens",
          "Map",
          "Network",
          "OpenRA.Game",
          "OpenRA.Mods.Common",
          "Orders",
          "Orders",
          "PackageLoaders",
          "Pathfinder",
          "Primitives",
          "Projectiles",
          "Projectiles",
          "Scripting",
          "Scripting",
          "Server",
          "ServerTraits",
          "Sound",
          "SpriteLoaders",
          "SpriteLoaders",
          "SpriteLoaders",
          "Support",
          "Terrain",
          "Traits",
          "Traits",
          "Traits",
          "Traits",
          "UpdateRules",
          "UtilityCommands",
          "UtilityCommands",
          "UtilityCommands",
          "UtilityCommands",
          "VideoLoaders",
          "Warheads",
          "Warheads",
          "Widgets",
          "Widgets",
          "OpenRA.Game",
          "OpenRA.Launcher",
          "OpenRA.Mods.Cnc",
          "OpenRA.Mods.Common",
          "OpenRA.Mods.D2k",
          "OpenRA.Platforms.Default",
          "OpenRA.Server",
          "OpenRA.Test",
          "OpenRA.Utility",
          "OpenRA.WindowsLauncher"
         ],
         "marker": {
          "coloraxis": "coloraxis",
          "colors": [
           10,
           12,
           8,
           17,
           9,
           48,
           17,
           215,
           35,
           74,
           1,
           24,
           20,
           34,
           30,
           17,
           24,
           6,
           28,
           25,
           56,
           31,
           10,
           32,
           18,
           81,
           12,
           3,
           3,
           8,
           60,
           49,
           33,
           8,
           13,
           7,
           8,
           14,
           12,
           88,
           9,
           10,
           3,
           24,
           23,
           17,
           21,
           4,
           7,
           9,
           43,
           8,
           24,
           6,
           8,
           32,
           30,
           54,
           38,
           42,
           7,
           6,
           28,
           18,
           14,
           17,
           18,
           24,
           9,
           6,
           41,
           23,
           9,
           40,
           86,
           22,
           10,
           43,
           26,
           13,
           14,
           32,
           5,
           24,
           8,
           2,
           9,
           15,
           23,
           14,
           11,
           14,
           14,
           5,
           16,
           11,
           5,
           18,
           12,
           10,
           12,
           11,
           13,
           17,
           4,
           9,
           12,
           4,
           17,
           42,
           12,
           19,
           45,
           8,
           14,
           11,
           3,
           16,
           11,
           8,
           18,
           2,
           42,
           14,
           27,
           45,
           27,
           17,
           8,
           4,
           7,
           4,
           7,
           9,
           63,
           7,
           77,
           12,
           12,
           34,
           43,
           6,
           12,
           19,
           72,
           50,
           2,
           9,
           26,
           7,
           35,
           21,
           12,
           67,
           15,
           21,
           23,
           32,
           9,
           14,
           57,
           31,
           14,
           36,
           9,
           32,
           22,
           9,
           6,
           7,
           20,
           9,
           22,
           3,
           64,
           9,
           6,
           18,
           8,
           33,
           35,
           28,
           23,
           28,
           19,
           26,
           15,
           19,
           20,
           20,
           10,
           36,
           13,
           37,
           12,
           15,
           11,
           5,
           32,
           3,
           6,
           13,
           4,
           25,
           18,
           28,
           30,
           28,
           17,
           25,
           13,
           38,
           6,
           43,
           17,
           21,
           15,
           7,
           17,
           4,
           49,
           17,
           7,
           11,
           26,
           17,
           31,
           16,
           14,
           33,
           12,
           11,
           69,
           20,
           3,
           70,
           36,
           49,
           26,
           13,
           3,
           11,
           22,
           29,
           4,
           6,
           24,
           6,
           10,
           48,
           633,
           35,
           11,
           45,
           13,
           15,
           20,
           32,
           14,
           24,
           3,
           20,
           10,
           9,
           6,
           9,
           3,
           15,
           25,
           9,
           36,
           18,
           10,
           24,
           46,
           35,
           109,
           28,
           6,
           37,
           24,
           15,
           23,
           19,
           8,
           17,
           11,
           8,
           2,
           2,
           2,
           25,
           11,
           52,
           9,
           21,
           12,
           14,
           12,
           24,
           14,
           5,
           13,
           6,
           6,
           7,
           10,
           7,
           13,
           27,
           21,
           60,
           12,
           25,
           12,
           16,
           11,
           17,
           14,
           9,
           22,
           24,
           6,
           6,
           14,
           6,
           8,
           6,
           17,
           14,
           29,
           3,
           3,
           18,
           5,
           14,
           48,
           15,
           30,
           20,
           19,
           24,
           9,
           8,
           13,
           8,
           19,
           36,
           2,
           19,
           18,
           8,
           10,
           11,
           10,
           8,
           6,
           118,
           33,
           13,
           27,
           8,
           11,
           10,
           27,
           8,
           18,
           16,
           8,
           41,
           81,
           237,
           76,
           12,
           4,
           24,
           7,
           17,
           84,
           24,
           2,
           33,
           15,
           2,
           13,
           11,
           13,
           15,
           51,
           55,
           27,
           55,
           14,
           204,
           16,
           15,
           5,
           171,
           13,
           9,
           12,
           25,
           20,
           3,
           10,
           2,
           11,
           39,
           11,
           1,
           21,
           58,
           16,
           16,
           10,
           5,
           34,
           25,
           1,
           36,
           39,
           104,
           8,
           40,
           109,
           14,
           7,
           7,
           7,
           6,
           9,
           8,
           20,
           11,
           23,
           42,
           21,
           51,
           9,
           41,
           27,
           13,
           30,
           11,
           10,
           2,
           23,
           35,
           75,
           54,
           42,
           14,
           160,
           23,
           15,
           13,
           10,
           13,
           26,
           8,
           19,
           11,
           32,
           16,
           5,
           7,
           20,
           10,
           4,
           8,
           28,
           11,
           16,
           6,
           12,
           61,
           28,
           69,
           30,
           13,
           29,
           12,
           7,
           28,
           136,
           3,
           56,
           12,
           6,
           15,
           28,
           15,
           30,
           13,
           20,
           9,
           8,
           66,
           24,
           12,
           30,
           8,
           11,
           7,
           25,
           9,
           6,
           7,
           13,
           12,
           9,
           14,
           44,
           72,
           21,
           30,
           23,
           60,
           42,
           31,
           9,
           8,
           6,
           55,
           22,
           13,
           26,
           4,
           22,
           20,
           3,
           9,
           50,
           12,
           10,
           11,
           10,
           28,
           12,
           24,
           9,
           7,
           32,
           28,
           7,
           17,
           38,
           15,
           17,
           12,
           12,
           11,
           41,
           20,
           10,
           35,
           24,
           14,
           30,
           47,
           21,
           14,
           4,
           23,
           8,
           7,
           1,
           20,
           33,
           82,
           370,
           118,
           175,
           33,
           15,
           3,
           10,
           54,
           57,
           6,
           8,
           5,
           10,
           21,
           13,
           11,
           7,
           12,
           58,
           18,
           22,
           22,
           10,
           4,
           24,
           9,
           36,
           43,
           45,
           16,
           6,
           15,
           82,
           20,
           55,
           29,
           79,
           13,
           24,
           15,
           23,
           1,
           28,
           37,
           44,
           59,
           63,
           42,
           65,
           14,
           5,
           27,
           18,
           12,
           8,
           4,
           6,
           3,
           39,
           25,
           15,
           13,
           8,
           28,
           2,
           3,
           6,
           27,
           7,
           12,
           18,
           28,
           25,
           1,
           14,
           12,
           7,
           7,
           11,
           25,
           18,
           13,
           49,
           18,
           6,
           180,
           461,
           7,
           46,
           12,
           22,
           50,
           6,
           4,
           8,
           25,
           3,
           64,
           18,
           12,
           26,
           7,
           136,
           23,
           173,
           35,
           6,
           13,
           12,
           128,
           10,
           28,
           3,
           5,
           45,
           72,
           10,
           11,
           21,
           14,
           21,
           22,
           3,
           2,
           6,
           176,
           65,
           6,
           16,
           19,
           15,
           13,
           12,
           9,
           2,
           5,
           7,
           24,
           23,
           26,
           24,
           29,
           15,
           25,
           36,
           11,
           11,
           111,
           12,
           173,
           46,
           17,
           276,
           3,
           16,
           52,
           3,
           257,
           140,
           5,
           2,
           1,
           3,
           7,
           7,
           42,
           21,
           14,
           21,
           237.35133239831697,
           7,
           68.06818181818181,
           96.81865284974093,
           28.579787234042552,
           28,
           136,
           3,
           40.32258064516129,
           20.272727272727273,
           33.520805369127515,
           44,
           6.538461538461538,
           9,
           22.8,
           26.488372093023255,
           16.236363636363638,
           7.545454545454546,
           18.565217391304348,
           19.473684210526315,
           6.5058823529411764,
           9.82857142857143,
           38.82089552238806,
           9.85,
           9,
           74.9136690647482,
           97.31795511221945,
           11.4,
           26.162939297124602,
           18.073170731707318,
           15.36111111111111,
           20.1,
           12,
           31.197802197802197,
           118.34290271132376,
           97.73806752037252,
           16.695652173913043,
           10,
           119.2,
           37.3716814159292,
           9,
           28.159663865546218,
           14.706422018348624,
           13.4375,
           40.590106007067135,
           22.404580152671755,
           27.681318681318682,
           288.75409836065575,
           79.8952380952381,
           48.526315789473685,
           8.5,
           17.14814814814815,
           20,
           26.969111969111967,
           7.285714285714286,
           365.1602671118531,
           29.40909090909091,
           49.595454545454544,
           30.345454545454544,
           104.02409638554217,
           6.7,
           13.48076923076923,
           24.328214971209214,
           30.473684210526315,
           2,
           35.05572755417957,
           9,
           133.22764227642276,
           31.45505617977528,
           163.43974344548218,
           7,
           23.697286012526096,
           41.92668891702152,
           29.56704980842912,
           28.579787234042552,
           28,
           16.243243243243242,
           136,
           3
          ]
         },
         "name": "",
         "parents": [
          "OpenRA.Mods.Common/.",
          "OpenRA.Mods.Common/Traits",
          "OpenRA.Mods.Common/Traits",
          "OpenRA.Game/Primitives",
          "OpenRA.Test/OpenRA.Game",
          "OpenRA.Game/Activities",
          "OpenRA.Game/Traits",
          "OpenRA.Game/.",
          "OpenRA.Mods.Common/.",
          "OpenRA.Game/GameRules",
          "OpenRA.Game/Primitives",
          "OpenRA.Test/OpenRA.Game",
          "OpenRA.Mods.Common/.",
          "OpenRA.Game/Map",
          "OpenRA.Mods.Common/Graphics",
          "OpenRA.Mods.Common/Widgets",
          "OpenRA.Game/Map",
          "OpenRA.Mods.Common/Traits",
          "OpenRA.Mods.Common/Traits",
          "OpenRA.Mods.Common/Traits",
          "OpenRA.Game/Graphics",
          "OpenRA.Game/Graphics",
          "OpenRA.Mods.Common/Traits",
          "OpenRA.Mods.Common/Projectiles",
          "OpenRA.Game/Support",
          "OpenRA.Mods.Common/Traits",
          "OpenRA.Mods.Common/Traits",
          "OpenRA.Game/Support",
          "OpenRA.Mods.Common/.",
          "OpenRA.Game/Effects",
          "OpenRA.Mods.Common/Activities",
          "OpenRA.Mods.Common/Traits",
          "OpenRA.Mods.D2k/Traits",
          "OpenRA.Mods.Common/Traits",
          "OpenRA.Mods.D2k/Traits",
          "OpenRA.Mods.Cnc/AudioLoaders",
          "OpenRA.Mods.Cnc/FileFormats",
          "OpenRA.Mods.Common/Traits",
          "OpenRA.Mods.Common/Traits",
          "OpenRA.Mods.Common/Traits",
          "OpenRA.Mods.Common/Traits",
          "OpenRA.Mods.Common/Widgets",
          "OpenRA.Mods.Common/Widgets",
          "OpenRA.Mods.Common/Pathfinder",
          "OpenRA.Mods.Common/Effects",
          "OpenRA.Mods.Common/Orders",
          "OpenRA.Mods.Common/Graphics",
          "OpenRA.Game/Support",
          "OpenRA.Mods.Cnc/FileSystem",
          "OpenRA.Game/Primitives",
          "OpenRA.Mods.Common/LoadScreens",
          "OpenRA.Mods.Common/FileFormats",
          "OpenRA.Mods.Common/Traits",
          "OpenRA.Mods.Cnc/FileFormats",
          "OpenRA.Mods.Cnc/FileFormats",
          "OpenRA.Mods.Common/Traits",
          "OpenRA.Mods.Common/Traits",
          "OpenRA.Mods.Common/Projectiles",
          "OpenRA.Mods.Common/Widgets",
          "OpenRA.Game/.",
          "OpenRA.Test/OpenRA.Game",
          "OpenRA.Mods.Cnc/FileFormats",
          "OpenRA.Game/.",
          "OpenRA.Game/Primitives",
          "OpenRA.Game/Activities",
          "OpenRA.Mods.Common/Scripting",
          "OpenRA.Mods.Common/HitShapes",
          "OpenRA.Mods.Common/Traits",
          "OpenRA.Mods.Common/Traits",
          "OpenRA.Mods.Common/Traits",
          "OpenRA.Mods.Common/Activities",
          "OpenRA.Mods.Common/Traits",
          "OpenRA.Mods.Common/Traits",
          "OpenRA.Mods.Common/Traits",
          "OpenRA.Mods.Common/Traits",
          "OpenRA.Mods.Common/Traits",
          "OpenRA.Mods.Common/Traits",
          "OpenRA.Mods.Common/Traits",
          "OpenRA.Mods.Common/Traits",
          "OpenRA.Mods.Common/Pathfinder",
          "OpenRA.Mods.Common/Pathfinder",
          "OpenRA.Game/Map",
          "OpenRA.Game/Map",
          "OpenRA.Game/Map",
          "OpenRA.Mods.Common/Warheads",
          "OpenRA.Mods.Common/Traits",
          "OpenRA.Mods.Common/Traits",
          "OpenRA.Mods.Common/Commands",
          "OpenRA.Mods.Common/Lint",
          "OpenRA.Mods.Common/Lint",
          "OpenRA.Mods.Common/Lint",
          "OpenRA.Mods.Common/Lint",
          "OpenRA.Mods.Common/Lint",
          "OpenRA.Mods.Common/UtilityCommands",
          "OpenRA.Mods.Common/Lint",
          "OpenRA.Mods.Common/Lint",
          "OpenRA.Mods.Common/Lint",
          "OpenRA.Mods.Common/Lint",
          "OpenRA.Mods.Common/UtilityCommands",
          "OpenRA.Mods.Common/Lint",
          "OpenRA.Mods.D2k/Lint",
          "OpenRA.Mods.Common/Lint",
          "OpenRA.Mods.Common/Lint",
          "OpenRA.Mods.Common/Lint",
          "OpenRA.Mods.Common/Lint",
          "OpenRA.Mods.Common/UtilityCommands",
          "OpenRA.Mods.Common/Lint",
          "OpenRA.Mods.Common/Lint",
          "OpenRA.Mods.Common/Lint",
          "OpenRA.Mods.Common/Lint",
          "OpenRA.Mods.Common/Lint",
          "OpenRA.Mods.Common/Lint",
          "OpenRA.Mods.Common/Lint",
          "OpenRA.Mods.Common/Lint",
          "OpenRA.Mods.Common/Lint",
          "OpenRA.Mods.Common/Lint",
          "OpenRA.Mods.Common/Lint",
          "OpenRA.Mods.Common/Lint",
          "OpenRA.Mods.Common/Lint",
          "OpenRA.Mods.Common/Lint",
          "OpenRA.Mods.Common/Lint",
          "OpenRA.Mods.Common/Lint",
          "OpenRA.Mods.Common/UtilityCommands",
          "OpenRA.Mods.Common/Widgets",
          "OpenRA.Game/Widgets",
          "OpenRA.Game/Graphics",
          "OpenRA.Mods.Cnc/Traits",
          "OpenRA.Mods.Common/HitShapes",
          "OpenRA.Mods.Common/Graphics",
          "OpenRA.Mods.Cnc/Traits",
          "OpenRA.Mods.Cnc/Graphics",
          "OpenRA.Mods.Cnc/Graphics",
          "OpenRA.Game/UtilityCommands",
          "OpenRA.Mods.Common/Widgets",
          "OpenRA.Mods.Common/Traits",
          "OpenRA.Mods.Cnc/Traits",
          "OpenRA.Mods.Cnc/.",
          "OpenRA.Game/Primitives",
          "OpenRA.Mods.Common/Widgets",
          "OpenRA.Mods.Common/Widgets",
          "OpenRA.Mods.Common/Traits",
          "OpenRA.Mods.Common/Traits",
          "OpenRA.Game/Primitives",
          "OpenRA.Mods.Common/Widgets",
          "OpenRA.Game/Network",
          "OpenRA.Game/Server",
          "OpenRA.Game/Network",
          "OpenRA.Mods.Common/Effects",
          "OpenRA.Mods.Common/Graphics",
          "OpenRA.Mods.Cnc/UtilityCommands",
          "OpenRA.Mods.Common/UtilityCommands",
          "OpenRA.Mods.Cnc/Traits",
          "OpenRA.Test/OpenRA.Game",
          "OpenRA.Mods.Common/Warheads",
          "OpenRA.Mods.Common/UtilityCommands",
          "OpenRA.Mods.Common/Warheads",
          "OpenRA.Mods.Common/Traits",
          "OpenRA.Mods.Common/Traits",
          "OpenRA.Game/.",
          "OpenRA.Game/Graphics",
          "OpenRA.Game/Graphics",
          "OpenRA.Game/Graphics",
          "OpenRA.Mods.Common/Traits",
          "OpenRA.Mods.D2k/UtilityCommands",
          "OpenRA.Mods.D2k/PackageLoaders",
          "OpenRA.Mods.Common/Warheads",
          "OpenRA.Mods.Common/Traits",
          "OpenRA.Mods.D2k/Warheads",
          "OpenRA.Mods.Common/SpriteLoaders",
          "OpenRA.Mods.Common/UtilityCommands",
          "OpenRA.Game/Traits",
          "OpenRA.Mods.Common/Commands",
          "OpenRA.Platforms.Default/.",
          "OpenRA.Game/.",
          "OpenRA.Mods.Common/Graphics",
          "OpenRA.Mods.Common/Terrain",
          "OpenRA.Mods.Common/Terrain",
          "OpenRA.Game/Effects",
          "OpenRA.Game/Effects",
          "OpenRA.Mods.Common/Activities",
          "OpenRA.Mods.Common/Activities",
          "OpenRA.Mods.Common/Traits",
          "OpenRA.Mods.Common/Traits",
          "OpenRA.Mods.Common/Activities",
          "OpenRA.Mods.Common/Traits",
          "OpenRA.Mods.Common/Traits",
          "OpenRA.Mods.Common/Activities",
          "OpenRA.Mods.Common/Orders",
          "OpenRA.Mods.Common/Warheads",
          "OpenRA.Mods.Common/Traits",
          "OpenRA.Mods.Common/Graphics",
          "OpenRA.Mods.Common/Commands",
          "OpenRA.Mods.Common/.",
          "OpenRA.Mods.Cnc/Traits",
          "OpenRA.Game/Primitives",
          "OpenRA.Mods.Common/Activities",
          "OpenRA.Mods.Common/Activities",
          "OpenRA.Mods.Cnc/Traits",
          "OpenRA.Mods.Common/Widgets",
          "OpenRA.Mods.Cnc/Projectiles",
          "OpenRA.Platforms.Default/.",
          "OpenRA.Mods.Common/UtilityCommands",
          "OpenRA.Mods.Cnc/Traits",
          "OpenRA.Mods.Common/EditorBrushes",
          "OpenRA.Mods.Common/EditorBrushes",
          "OpenRA.Mods.Common/EditorBrushes",
          "OpenRA.Mods.Common/EditorBrushes",
          "OpenRA.Mods.Common/EditorBrushes",
          "OpenRA.Mods.Common/Widgets",
          "OpenRA.Mods.Common/Traits",
          "OpenRA.Mods.Cnc/Traits",
          "OpenRA.Mods.Common/Traits",
          "OpenRA.Mods.Common/Traits",
          "OpenRA.Mods.Common/Activities",
          "OpenRA.Mods.Common/Orders",
          "OpenRA.Mods.Common/Traits",
          "OpenRA.Game/Support",
          "OpenRA.Game/Support",
          "OpenRA.Mods.Common/Traits",
          "OpenRA.Mods.Common/Traits",
          "OpenRA.Mods.Common/Traits",
          "OpenRA.Mods.Common/Traits",
          "OpenRA.Mods.Common/Widgets",
          "OpenRA.Mods.Common/UtilityCommands",
          "OpenRA.Game/.",
          "OpenRA.Mods.Common/UtilityCommands",
          "OpenRA.Mods.Common/UtilityCommands",
          "OpenRA.Mods.Common/UtilityCommands",
          "OpenRA.Mods.Common/UtilityCommands",
          "OpenRA.Mods.Common/UtilityCommands",
          "OpenRA.Mods.Common/UtilityCommands",
          "OpenRA.Mods.Common/UtilityCommands",
          "OpenRA.Game/.",
          "OpenRA.Game/Server",
          "OpenRA.Mods.Common/FileFormats",
          "OpenRA.Game/.",
          "OpenRA.Game/.",
          "OpenRA.Game/FileSystem",
          "OpenRA.Mods.Common/Activities",
          "OpenRA.Mods.Common/Warheads",
          "OpenRA.Mods.Common/Warheads",
          "OpenRA.Mods.Common/Effects",
          "OpenRA.Mods.Common/Effects",
          "OpenRA.Game/FileSystem",
          "OpenRA.Game/.",
          "OpenRA.Mods.Common/Orders",
          "OpenRA.Platforms.Default/.",
          "OpenRA.Platforms.Default/.",
          "OpenRA.Mods.Cnc/Traits",
          "OpenRA.Mods.Common/Traits",
          "OpenRA.Game/.",
          "OpenRA.Game/.",
          "OpenRA.Game/Network",
          "OpenRA.Game/Network",
          "OpenRA.Game/.",
          "OpenRA.Game/Network",
          "OpenRA.Mods.Common/UtilityCommands",
          "OpenRA.Mods.Common/Traits",
          "OpenRA.Mods.Common/Traits",
          "OpenRA.Mods.Common/Traits",
          "OpenRA.Mods.Cnc/UtilityCommands",
          "OpenRA.Mods.Common/Orders",
          "OpenRA.Mods.Cnc/Traits",
          "OpenRA.Mods.Cnc/Effects",
          "OpenRA.Mods.Cnc/Effects",
          "OpenRA.Mods.Cnc/Traits",
          "OpenRA.Mods.Common/Widgets",
          "OpenRA.Mods.Common/Warheads",
          "OpenRA.Mods.Common/Projectiles",
          "OpenRA.Mods.Common/Widgets",
          "OpenRA.Mods.Common/Traits",
          "OpenRA.Mods.Common/Orders",
          "OpenRA.Mods.Common/Traits",
          "OpenRA.Game/Network",
          "OpenRA.Game/Graphics",
          "OpenRA.Mods.Common/Activities",
          "OpenRA.Mods.Common/Traits",
          "OpenRA.Mods.Common/Activities",
          "OpenRA.Mods.Cnc/Traits",
          "OpenRA.Mods.Common/Traits",
          "OpenRA.Mods.Common/Warheads",
          "OpenRA.Mods.Common/Commands",
          "OpenRA.Mods.Common/Traits",
          "OpenRA.Game/Input",
          "OpenRA.Game/.",
          "OpenRA.Mods.Common/Widgets",
          "OpenRA.Game/.",
          "OpenRA.Game/Input",
          "OpenRA.Game/Support",
          "OpenRA.Game/.",
          "OpenRA.Game/Support",
          "OpenRA.Mods.Common/Activities",
          "OpenRA.Mods.Common/Traits",
          "OpenRA.Mods.Common/Traits",
          "OpenRA.Mods.Cnc/FileFormats",
          "OpenRA.Game/Effects",
          "OpenRA.Mods.Common/HitShapes",
          "OpenRA.Game/Input",
          "OpenRA.Game/Primitives",
          "OpenRA.Game/Orders",
          "OpenRA.Game/FileSystem",
          "OpenRA.Platforms.Default/.",
          "OpenRA.Game/.",
          "OpenRA.Mods.Cnc/FileFormats",
          "OpenRA.Mods.Cnc/FileFormats",
          "OpenRA.Mods.Common/Traits",
          "OpenRA.Mods.Common/Traits",
          "OpenRA.Mods.Common/FileFormats",
          "OpenRA.Mods.Common/Widgets",
          "OpenRA.Mods.Common/Traits",
          "OpenRA.Mods.D2k/UtilityCommands",
          "OpenRA.Mods.Common/UtilityCommands",
          "OpenRA.Mods.Cnc/UtilityCommands",
          "OpenRA.Mods.Cnc/UtilityCommands",
          "OpenRA.Mods.Cnc/UtilityCommands",
          "OpenRA.Mods.Cnc/Activities",
          "OpenRA.Mods.Common/FileFormats",
          "OpenRA.Game/Input",
          "OpenRA.Mods.Common/FileFormats",
          "OpenRA.Mods.Common/FileSystem",
          "OpenRA.Game/.",
          "OpenRA.Mods.Common/Projectiles",
          "OpenRA.Game/Primitives",
          "OpenRA.Mods.Common/Traits",
          "OpenRA.Mods.Cnc/Projectiles",
          "OpenRA.Mods.Common/Traits",
          "OpenRA.Mods.Common/Graphics",
          "OpenRA.Mods.Common/Graphics",
          "OpenRA.Mods.Common/Traits",
          "OpenRA.Game/Input",
          "OpenRA.Mods.Common/Traits",
          "OpenRA.Mods.Cnc/FileFormats",
          "OpenRA.Mods.Cnc/FileFormats",
          "OpenRA.Mods.Common/Widgets",
          "OpenRA.Mods.Common/Widgets",
          "OpenRA.Mods.Common/Widgets",
          "OpenRA.Mods.Common/Projectiles",
          "OpenRA.Game/Support",
          "OpenRA.Mods.Cnc/Activities",
          "OpenRA.Mods.Cnc/Activities",
          "OpenRA.Mods.Cnc/Activities",
          "OpenRA.Mods.Common/Warheads",
          "OpenRA.Mods.Cnc/UtilityCommands",
          "OpenRA.Mods.Cnc/UtilityCommands",
          "OpenRA.Mods.Cnc/UtilityCommands",
          "OpenRA.Mods.Common/Graphics",
          "OpenRA.Mods.Common/Widgets",
          "OpenRA.Game/Traits",
          "OpenRA.Mods.Common/Traits",
          "OpenRA.Mods.Common/Lint",
          "OpenRA.Mods.Common/Lint",
          "OpenRA.Mods.Common/UtilityCommands",
          "OpenRA.Mods.Common/UtilityCommands",
          "OpenRA.Mods.Common/UtilityCommands",
          "OpenRA.Mods.Common/Widgets",
          "OpenRA.Mods.Common/UtilityCommands",
          "OpenRA.Mods.Cnc/UtilityCommands",
          "OpenRA.Mods.Common/ServerTraits",
          "OpenRA.Mods.Common/ServerTraits",
          "OpenRA.Game/.",
          "OpenRA.Game/Support",
          "OpenRA.Game/.",
          "OpenRA.Mods.Common/Widgets",
          "OpenRA.Mods.Common/Widgets",
          "OpenRA.Mods.Common/LoadScreens",
          "OpenRA.Game/Primitives",
          "OpenRA.Mods.Common/Scripting",
          "OpenRA.Game/.",
          "OpenRA.Mods.Common/FileFormats",
          "OpenRA.Mods.Cnc/Traits",
          "OpenRA.Game/.",
          "OpenRA.Game/Map",
          "OpenRA.Game/Map",
          "OpenRA.Game/Map",
          "OpenRA.Mods.Common/Traits",
          "OpenRA.Game/Map",
          "OpenRA.Mods.Common/Effects",
          "OpenRA.Game/Map",
          "OpenRA.Game/Map",
          "OpenRA.Mods.Common/Widgets",
          "OpenRA.Game/Server",
          "OpenRA.Mods.Common/ServerTraits",
          "OpenRA.Mods.Common/Scripting",
          "OpenRA.Mods.Cnc/FileSystem",
          "OpenRA.Mods.Common/Widgets",
          "OpenRA.Game/Primitives",
          "OpenRA.Game/Support",
          "OpenRA.Mods.Cnc/Traits",
          "OpenRA.Mods.Cnc/Traits",
          "OpenRA.Game/.",
          "OpenRA.Test/OpenRA.Game",
          "OpenRA.Mods.Common/Projectiles",
          "OpenRA.Mods.Cnc/FileSystem",
          "OpenRA.Mods.Common/Traits",
          "OpenRA.Mods.Common/.",
          "OpenRA.Mods.Common/LoadScreens",
          "OpenRA.Mods.Common/.",
          "OpenRA.Game/.",
          "OpenRA.Game/Graphics",
          "OpenRA.Mods.Common/Graphics",
          "OpenRA.Game/Graphics",
          "OpenRA.Mods.Common/Graphics",
          "OpenRA.Game/Graphics",
          "OpenRA.Mods.Common/Widgets",
          "OpenRA.Mods.Common/Widgets",
          "OpenRA.Mods.Common/AudioLoaders",
          "OpenRA.Platforms.Default/.",
          "OpenRA.Game/GameRules",
          "OpenRA.Mods.Common/Traits",
          "OpenRA.Game/Network",
          "OpenRA.Mods.Common/Projectiles",
          "OpenRA.Game/.",
          "OpenRA.Game/Primitives",
          "OpenRA.Game/Primitives",
          "OpenRA.Game/Primitives",
          "OpenRA.Mods.Common/Widgets",
          "OpenRA.Mods.Common/Widgets",
          "OpenRA.Mods.Common/Widgets",
          "OpenRA.Mods.Common/AudioLoaders",
          "OpenRA.Platforms.Default/.",
          "OpenRA.Platforms.Default/.",
          "OpenRA.Game/Network",
          "OpenRA.Mods.Common/Orders",
          "OpenRA.Game/Network",
          "OpenRA.Game/Network",
          "OpenRA.Test/OpenRA.Game",
          "OpenRA.Mods.Common/UtilityCommands",
          "OpenRA.Mods.Common/UtilityCommands",
          "OpenRA.Mods.Common/UtilityCommands",
          "OpenRA.Mods.Common/Traits",
          "OpenRA.Mods.Cnc/FileSystem",
          "OpenRA.Mods.Cnc/FileSystem",
          "OpenRA.Game/Graphics",
          "OpenRA.Game/Graphics",
          "OpenRA.Mods.Common/Traits",
          "OpenRA.Mods.Common/Traits",
          "OpenRA.Mods.Common/Activities",
          "OpenRA.Mods.Common/Traits",
          "OpenRA.Mods.Common/Widgets",
          "OpenRA.Mods.Common/Pathfinder",
          "OpenRA.Mods.Common/Pathfinder",
          "OpenRA.Mods.Common/Widgets",
          "OpenRA.Game/Support",
          "OpenRA.Game/Support",
          "OpenRA.Game/Support",
          "OpenRA.Game/Support",
          "OpenRA.Game/Support",
          "OpenRA.Mods.Common/Activities",
          "OpenRA.Mods.Common/Orders",
          "OpenRA.Game/.",
          "OpenRA.Game/Graphics",
          "OpenRA.Test/OpenRA.Game",
          "OpenRA.Game/.",
          "OpenRA.Game/Graphics",
          "OpenRA.Mods.Common/Commands",
          "OpenRA.Game/.",
          "OpenRA.Game/Primitives",
          "OpenRA.Mods.Common/.",
          "OpenRA.Mods.Common/ServerTraits",
          "OpenRA.Game/.",
          "OpenRA.Game/Map",
          "OpenRA.Mods.Common/Traits",
          "OpenRA.Mods.Common/Traits",
          "OpenRA.Game/FileFormats",
          "OpenRA.Mods.Common/UtilityCommands",
          "OpenRA.Mods.Common/UtilityCommands",
          "OpenRA.Mods.Common/SpriteLoaders",
          "OpenRA.Mods.Common/HitShapes",
          "OpenRA.Game/Primitives",
          "OpenRA.Mods.Common/Graphics",
          "OpenRA.Mods.Cnc/Traits",
          "OpenRA.Mods.Common/Traits",
          "OpenRA.Game/Primitives",
          "OpenRA.Test/OpenRA.Game",
          "OpenRA.Mods.Common/Traits",
          "OpenRA.Mods.Common/Traits",
          "OpenRA.Mods.Common/Traits",
          "OpenRA.Mods.Common/Widgets",
          "OpenRA.Mods.Common/Traits",
          "OpenRA.Mods.Common/Traits",
          "OpenRA.Mods.Common/Widgets",
          "OpenRA.Mods.Common/Widgets",
          "OpenRA.Launcher/.",
          "OpenRA.Server/.",
          "OpenRA.Utility/.",
          "OpenRA.WindowsLauncher/.",
          "OpenRA.Game/Support",
          "OpenRA.Mods.Common/Widgets",
          "OpenRA.Game/Map",
          "OpenRA.Game/Map",
          "OpenRA.Game/Server",
          "OpenRA.Mods.Common/Traits",
          "OpenRA.Mods.Common/Traits",
          "OpenRA.Mods.Common/Traits",
          "OpenRA.Mods.D2k/SpriteLoaders",
          "OpenRA.Mods.Common/Widgets",
          "OpenRA.Mods.Common/FileFormats",
          "OpenRA.Mods.Common/Widgets",
          "OpenRA.Mods.Common/Projectiles",
          "OpenRA.Mods.Common/Graphics",
          "OpenRA.Mods.Common/Effects",
          "OpenRA.Mods.Common/Graphics",
          "OpenRA.Game/Primitives",
          "OpenRA.Mods.Common/Traits",
          "OpenRA.Mods.Common/HitShapes",
          "OpenRA.Game/Primitives",
          "OpenRA.Mods.Common/UtilityCommands",
          "OpenRA.Game/UtilityCommands",
          "OpenRA.Mods.Common/Traits",
          "OpenRA.Mods.Common/Traits",
          "OpenRA.Mods.Cnc/UtilityCommands",
          "OpenRA.Mods.Common/Activities",
          "OpenRA.Game/Graphics",
          "OpenRA.Game/.",
          "OpenRA.Mods.Common/Activities",
          "OpenRA.Mods.Common/Activities",
          "OpenRA.Mods.Common/Orders",
          "OpenRA.Mods.Common/Traits",
          "OpenRA.Mods.Common/Traits",
          "OpenRA.Mods.Common/Traits",
          "OpenRA.Mods.Common/Traits",
          "OpenRA.Mods.Common/Traits",
          "OpenRA.Mods.Common/Traits",
          "OpenRA.Game/Network",
          "OpenRA.Game/FileFormats",
          "OpenRA.Mods.Common/UtilityCommands",
          "OpenRA.Game/Network",
          "OpenRA.Mods.Common/Traits",
          "OpenRA.Mods.Common/UtilityCommands",
          "OpenRA.Mods.Common/Widgets",
          "OpenRA.Mods.Common/Widgets",
          "OpenRA.Mods.Cnc/Traits",
          "OpenRA.Mods.Common/Activities",
          "OpenRA.Mods.Common/Traits",
          "OpenRA.Mods.Common/Traits",
          "OpenRA.Mods.Common/Effects",
          "OpenRA.Mods.Common/Traits",
          "OpenRA.Mods.Common/Traits",
          "OpenRA.Mods.Common/UtilityCommands",
          "OpenRA.Game/Graphics",
          "OpenRA.Game/Graphics",
          "OpenRA.Mods.Common/Activities",
          "OpenRA.Game/GameRules",
          "OpenRA.Mods.D2k/Traits",
          "OpenRA.Mods.Cnc/Effects",
          "OpenRA.Game/Scripting",
          "OpenRA.Game/Scripting",
          "OpenRA.Game/Scripting",
          "OpenRA.Game/Scripting",
          "OpenRA.Game/Scripting",
          "OpenRA.Game/Scripting",
          "OpenRA.Mods.Common/Traits",
          "OpenRA.Mods.Common/Scripting",
          "OpenRA.Game/Scripting",
          "OpenRA.Mods.Common/Widgets",
          "OpenRA.Mods.Common/Widgets",
          "OpenRA.Platforms.Default/.",
          "OpenRA.Platforms.Default/.",
          "OpenRA.Platforms.Default/.",
          "OpenRA.Platforms.Default/.",
          "OpenRA.Mods.Common/Traits",
          "OpenRA.Game/Primitives",
          "OpenRA.Mods.Common/Traits",
          "OpenRA.Game/.",
          "OpenRA.Mods.Common/Graphics",
          "OpenRA.Mods.Common/Graphics",
          "OpenRA.Mods.Common/Widgets",
          "OpenRA.Mods.Common/Activities",
          "OpenRA.Mods.Common/Traits",
          "OpenRA.Game/Graphics",
          "OpenRA.Game/Server",
          "OpenRA.Game/Network",
          "OpenRA.Game/.",
          "OpenRA.Platforms.Default/.",
          "OpenRA.Mods.Common/Traits",
          "OpenRA.Mods.Common/Warheads",
          "OpenRA.Test/OpenRA.Mods.Common",
          "OpenRA.Game/Graphics",
          "OpenRA.Game/Graphics",
          "OpenRA.Mods.Common/LoadScreens",
          "OpenRA.Mods.Cnc/SpriteLoaders",
          "OpenRA.Mods.Cnc/SpriteLoaders",
          "OpenRA.Mods.Cnc/SpriteLoaders",
          "OpenRA.Mods.Common/SpriteLoaders",
          "OpenRA.Mods.Common/.",
          "OpenRA.Mods.Common/Activities",
          "OpenRA.Game/Primitives",
          "OpenRA.Mods.Common/Widgets",
          "OpenRA.Game/Sound",
          "OpenRA.Game/Sound",
          "OpenRA.Game/GameRules",
          "OpenRA.Game/Primitives",
          "OpenRA.Test/OpenRA.Game",
          "OpenRA.Mods.Common/Effects",
          "OpenRA.Mods.Common/Traits",
          "OpenRA.Mods.Common/Traits",
          "OpenRA.Mods.D2k/Traits",
          "OpenRA.Mods.Common/Warheads",
          "OpenRA.Game/Graphics",
          "OpenRA.Mods.Common/Graphics",
          "OpenRA.Mods.Common/Effects",
          "OpenRA.Mods.Common/Effects",
          "OpenRA.Game/Graphics",
          "OpenRA.Mods.Common/Activities",
          "OpenRA.Game/Graphics",
          "OpenRA.Game/Graphics",
          "OpenRA.Game/Graphics",
          "OpenRA.Mods.Common/Widgets",
          "OpenRA.Mods.Common/Traits",
          "OpenRA.Mods.Common/Widgets",
          "OpenRA.Game/.",
          "OpenRA.Test/OpenRA.Game",
          "OpenRA.Mods.Common/Widgets",
          "OpenRA.Mods.Common/Widgets",
          "OpenRA.Mods.D2k/Activities",
          "OpenRA.Game/.",
          "OpenRA.Game/Network",
          "OpenRA.Mods.Cnc/Traits",
          "OpenRA.Game/Traits",
          "OpenRA.Mods.Common/Warheads",
          "OpenRA.Mods.Common/.",
          "OpenRA.Game/Graphics",
          "OpenRA.Mods.Common/Traits",
          "OpenRA.Mods.Cnc/Activities",
          "OpenRA.Mods.Common/Traits",
          "OpenRA.Game/Map",
          "OpenRA.Mods.Common/Terrain",
          "OpenRA.Mods.Common/Traits",
          "OpenRA.Game/Graphics",
          "OpenRA.Mods.Common/Widgets",
          "OpenRA.Mods.Cnc/Projectiles",
          "OpenRA.Mods.Cnc/Graphics",
          "OpenRA.Mods.Common/Graphics",
          "OpenRA.Mods.Common/Widgets",
          "OpenRA.Game/.",
          "OpenRA.Mods.Common/Widgets",
          "OpenRA.Game/.",
          "OpenRA.Platforms.Default/.",
          "OpenRA.Mods.Common/SpriteLoaders",
          "OpenRA.Platforms.Default/.",
          "OpenRA.Platforms.Default/.",
          "OpenRA.Mods.Common/Traits",
          "OpenRA.Mods.Common/Traits",
          "OpenRA.Game/Network",
          "OpenRA.Game/Map",
          "OpenRA.Mods.Common/Graphics",
          "OpenRA.Mods.Cnc/SpriteLoaders",
          "OpenRA.Mods.Cnc/SpriteLoaders",
          "OpenRA.Mods.Cnc/SpriteLoaders",
          "OpenRA.Mods.Common/Traits",
          "OpenRA.Mods.Common/Widgets",
          "OpenRA.Mods.Common/Traits",
          "OpenRA.Game/.",
          "OpenRA.Game/Server",
          "OpenRA.Mods.Cnc/.",
          "OpenRA.Mods.Common/.",
          "OpenRA.Game/Traits",
          "OpenRA.Mods.Cnc/Traits",
          "OpenRA.Mods.Common/Activities",
          "OpenRA.Mods.Common/Traits",
          "OpenRA.Mods.Common/Traits",
          "OpenRA.Mods.Common/Traits",
          "OpenRA.Mods.Cnc/Traits",
          "OpenRA.Game/.",
          "OpenRA.Mods.Common/Traits",
          "OpenRA.Mods.Common/Activities",
          "OpenRA.Mods.Common/Traits",
          "OpenRA.Mods.Common/Traits",
          "OpenRA.Game/Primitives",
          "OpenRA.Mods.Common/Graphics",
          "OpenRA.Game/Graphics",
          "OpenRA.Mods.Common/Graphics",
          "OpenRA.Game/Orders",
          "OpenRA.Mods.Common/Orders",
          "OpenRA.Game/Network",
          "OpenRA.Mods.Common/Activities",
          "OpenRA.Game/UtilityCommands",
          "OpenRA.Mods.Common/UtilityCommands",
          "OpenRA.Mods.Common/UtilityCommands",
          "OpenRA.Mods.Common/UpdateRules",
          "OpenRA.Mods.Common/UpdateRules",
          "OpenRA.Mods.Common/UpdateRules",
          "OpenRA.Mods.Common/Traits",
          "OpenRA.Mods.Cnc/.",
          "OpenRA.Mods.Common/.",
          "OpenRA.Game/Graphics",
          "OpenRA.Mods.Common/UtilityCommands",
          "OpenRA.Mods.Common/Traits",
          "OpenRA.Game/Support",
          "OpenRA.Test/OpenRA.Game",
          "OpenRA.Game/Graphics",
          "OpenRA.Platforms.Default/.",
          "OpenRA.Game/Graphics",
          "OpenRA.Game/Graphics",
          "OpenRA.Mods.Common/Widgets",
          "OpenRA.Game/Graphics",
          "OpenRA.Mods.Common/Widgets",
          "OpenRA.Mods.Cnc/AudioLoaders",
          "OpenRA.Game/.",
          "OpenRA.Mods.Common/Traits",
          "OpenRA.Mods.Cnc/Graphics",
          "OpenRA.Mods.Cnc/Activities",
          "OpenRA.Mods.Cnc/Graphics",
          "OpenRA.Mods.Cnc/Graphics",
          "OpenRA.Mods.Cnc/VideoLoaders",
          "OpenRA.Mods.Cnc/FileFormats",
          "OpenRA.Mods.Cnc/FileFormats",
          "OpenRA.Game/.",
          "OpenRA.Game/.",
          "OpenRA.Game/.",
          "OpenRA.Game/.",
          "OpenRA.Game/.",
          "OpenRA.Mods.Common/Activities",
          "OpenRA.Mods.Common/Traits",
          "OpenRA.Mods.Common/Warheads",
          "OpenRA.Mods.Common/AudioLoaders",
          "OpenRA.Mods.Common/FileFormats",
          "OpenRA.Game/GameRules",
          "OpenRA.Mods.Common/.",
          "OpenRA.Game/Widgets",
          "OpenRA.Game/Widgets",
          "OpenRA.Mods.Common/Widgets",
          "OpenRA.Game/.",
          "OpenRA.Mods.Common/Widgets",
          "OpenRA.Mods.Common/.",
          "OpenRA.Mods.Common/Widgets",
          "OpenRA.Mods.Common/Widgets",
          "OpenRA.Game/Graphics",
          "OpenRA.Game/.",
          "OpenRA.Game/.",
          "OpenRA.Mods.Cnc/VideoLoaders",
          "OpenRA.Mods.Cnc/FileFormats",
          "OpenRA.Mods.Cnc/FileFormats",
          "OpenRA.Mods.Cnc/FileFormats",
          "OpenRA.Mods.Cnc/FileFormats",
          "OpenRA.Game/FileSystem",
          "OpenRA.Game/Primitives",
          "OpenRA.Game/Primitives",
          "OpenRA.Game/Primitives",
          "OpenRA.Game",
          "OpenRA.Launcher",
          "OpenRA.Mods.Cnc",
          "OpenRA.Mods.Common",
          "OpenRA.Platforms.Default",
          "OpenRA.Server",
          "OpenRA.Utility",
          "OpenRA.WindowsLauncher",
          "OpenRA.Game",
          "OpenRA.Mods.Cnc",
          "OpenRA.Mods.Common",
          "OpenRA.Mods.D2k",
          "OpenRA.Mods.Cnc",
          "OpenRA.Mods.Common",
          "OpenRA.Mods.Common",
          "OpenRA.Mods.Common",
          "OpenRA.Game",
          "OpenRA.Mods.Cnc",
          "OpenRA.Mods.Common",
          "OpenRA.Game",
          "OpenRA.Mods.Cnc",
          "OpenRA.Mods.Common",
          "OpenRA.Game",
          "OpenRA.Mods.Cnc",
          "OpenRA.Mods.Common",
          "OpenRA.Game",
          "OpenRA.Game",
          "OpenRA.Mods.Cnc",
          "OpenRA.Mods.Common",
          "OpenRA.Mods.Common",
          "OpenRA.Game",
          "OpenRA.Mods.Common",
          "OpenRA.Mods.D2k",
          "OpenRA.Mods.Common",
          "OpenRA.Game",
          "OpenRA.Game",
          "OpenRA.Test",
          "OpenRA.Test",
          "OpenRA.Game",
          "OpenRA.Mods.Common",
          "OpenRA.Mods.D2k",
          "OpenRA.Mods.Common",
          "OpenRA.Game",
          "OpenRA.Mods.Cnc",
          "OpenRA.Mods.Common",
          "OpenRA.Game",
          "OpenRA.Mods.Common",
          "OpenRA.Game",
          "OpenRA.Mods.Common",
          "OpenRA.Game",
          "OpenRA.Mods.Cnc",
          "OpenRA.Mods.Common",
          "OpenRA.Mods.D2k",
          "OpenRA.Game",
          "OpenRA.Mods.Common",
          "OpenRA.Game",
          "OpenRA.Mods.Cnc",
          "OpenRA.Mods.Common",
          "OpenRA.Mods.D2k",
          "OpenRA.Mods.Common",
          "OpenRA.Game",
          "OpenRA.Mods.Cnc",
          "OpenRA.Mods.Common",
          "OpenRA.Mods.D2k",
          "OpenRA.Mods.Cnc",
          "OpenRA.Mods.Common",
          "OpenRA.Mods.D2k",
          "OpenRA.Game",
          "OpenRA.Mods.Common",
          "",
          "",
          "",
          "",
          "",
          "",
          "",
          "",
          "",
          ""
         ],
         "type": "sunburst",
         "values": [
          10,
          12,
          8,
          17,
          9,
          48,
          17,
          215,
          35,
          74,
          1,
          24,
          20,
          34,
          30,
          17,
          24,
          6,
          28,
          25,
          56,
          31,
          10,
          32,
          18,
          81,
          12,
          3,
          3,
          8,
          60,
          49,
          33,
          8,
          13,
          7,
          8,
          14,
          12,
          88,
          9,
          10,
          3,
          24,
          23,
          17,
          21,
          4,
          7,
          9,
          43,
          8,
          24,
          6,
          8,
          32,
          30,
          54,
          38,
          42,
          7,
          6,
          28,
          18,
          14,
          17,
          18,
          24,
          9,
          6,
          41,
          23,
          9,
          40,
          86,
          22,
          10,
          43,
          26,
          13,
          14,
          32,
          5,
          24,
          8,
          2,
          9,
          15,
          23,
          14,
          11,
          14,
          14,
          5,
          16,
          11,
          5,
          18,
          12,
          10,
          12,
          11,
          13,
          17,
          4,
          9,
          12,
          4,
          17,
          42,
          12,
          19,
          45,
          8,
          14,
          11,
          3,
          16,
          11,
          8,
          18,
          2,
          42,
          14,
          27,
          45,
          27,
          17,
          8,
          4,
          7,
          4,
          7,
          9,
          63,
          7,
          77,
          12,
          12,
          34,
          43,
          6,
          12,
          19,
          72,
          50,
          2,
          9,
          26,
          7,
          35,
          21,
          12,
          67,
          15,
          21,
          23,
          32,
          9,
          14,
          57,
          31,
          14,
          36,
          9,
          32,
          22,
          9,
          6,
          7,
          20,
          9,
          22,
          3,
          64,
          9,
          6,
          18,
          8,
          33,
          35,
          28,
          23,
          28,
          19,
          26,
          15,
          19,
          20,
          20,
          10,
          36,
          13,
          37,
          12,
          15,
          11,
          5,
          32,
          3,
          6,
          13,
          4,
          25,
          18,
          28,
          30,
          28,
          17,
          25,
          13,
          38,
          6,
          43,
          17,
          21,
          15,
          7,
          17,
          4,
          49,
          17,
          7,
          11,
          26,
          17,
          31,
          16,
          14,
          33,
          12,
          11,
          69,
          20,
          3,
          70,
          36,
          49,
          26,
          13,
          3,
          11,
          22,
          29,
          4,
          6,
          24,
          6,
          10,
          48,
          633,
          35,
          11,
          45,
          13,
          15,
          20,
          32,
          14,
          24,
          3,
          20,
          10,
          9,
          6,
          9,
          3,
          15,
          25,
          9,
          36,
          18,
          10,
          24,
          46,
          35,
          109,
          28,
          6,
          37,
          24,
          15,
          23,
          19,
          8,
          17,
          11,
          8,
          2,
          2,
          2,
          25,
          11,
          52,
          9,
          21,
          12,
          14,
          12,
          24,
          14,
          5,
          13,
          6,
          6,
          7,
          10,
          7,
          13,
          27,
          21,
          60,
          12,
          25,
          12,
          16,
          11,
          17,
          14,
          9,
          22,
          24,
          6,
          6,
          14,
          6,
          8,
          6,
          17,
          14,
          29,
          3,
          3,
          18,
          5,
          14,
          48,
          15,
          30,
          20,
          19,
          24,
          9,
          8,
          13,
          8,
          19,
          36,
          2,
          19,
          18,
          8,
          10,
          11,
          10,
          8,
          6,
          118,
          33,
          13,
          27,
          8,
          11,
          10,
          27,
          8,
          18,
          16,
          8,
          41,
          81,
          237,
          76,
          12,
          4,
          24,
          7,
          17,
          84,
          24,
          2,
          33,
          15,
          2,
          13,
          11,
          13,
          15,
          51,
          55,
          27,
          55,
          14,
          204,
          16,
          15,
          5,
          171,
          13,
          9,
          12,
          25,
          20,
          3,
          10,
          2,
          11,
          39,
          11,
          1,
          21,
          58,
          16,
          16,
          10,
          5,
          34,
          25,
          1,
          36,
          39,
          104,
          8,
          40,
          109,
          14,
          7,
          7,
          7,
          6,
          9,
          8,
          20,
          11,
          23,
          42,
          21,
          51,
          9,
          41,
          27,
          13,
          30,
          11,
          10,
          2,
          23,
          35,
          75,
          54,
          42,
          14,
          160,
          23,
          15,
          13,
          10,
          13,
          26,
          8,
          19,
          11,
          32,
          16,
          5,
          7,
          20,
          10,
          4,
          8,
          28,
          11,
          16,
          6,
          12,
          61,
          28,
          69,
          30,
          13,
          29,
          12,
          7,
          28,
          136,
          3,
          56,
          12,
          6,
          15,
          28,
          15,
          30,
          13,
          20,
          9,
          8,
          66,
          24,
          12,
          30,
          8,
          11,
          7,
          25,
          9,
          6,
          7,
          13,
          12,
          9,
          14,
          44,
          72,
          21,
          30,
          23,
          60,
          42,
          31,
          9,
          8,
          6,
          55,
          22,
          13,
          26,
          4,
          22,
          20,
          3,
          9,
          50,
          12,
          10,
          11,
          10,
          28,
          12,
          24,
          9,
          7,
          32,
          28,
          7,
          17,
          38,
          15,
          17,
          12,
          12,
          11,
          41,
          20,
          10,
          35,
          24,
          14,
          30,
          47,
          21,
          14,
          4,
          23,
          8,
          7,
          1,
          20,
          33,
          82,
          370,
          118,
          175,
          33,
          15,
          3,
          10,
          54,
          57,
          6,
          8,
          5,
          10,
          21,
          13,
          11,
          7,
          12,
          58,
          18,
          22,
          22,
          10,
          4,
          24,
          9,
          36,
          43,
          45,
          16,
          6,
          15,
          82,
          20,
          55,
          29,
          79,
          13,
          24,
          15,
          23,
          1,
          28,
          37,
          44,
          59,
          63,
          42,
          65,
          14,
          5,
          27,
          18,
          12,
          8,
          4,
          6,
          3,
          39,
          25,
          15,
          13,
          8,
          28,
          2,
          3,
          6,
          27,
          7,
          12,
          18,
          28,
          25,
          1,
          14,
          12,
          7,
          7,
          11,
          25,
          18,
          13,
          49,
          18,
          6,
          180,
          461,
          7,
          46,
          12,
          22,
          50,
          6,
          4,
          8,
          25,
          3,
          64,
          18,
          12,
          26,
          7,
          136,
          23,
          173,
          35,
          6,
          13,
          12,
          128,
          10,
          28,
          3,
          5,
          45,
          72,
          10,
          11,
          21,
          14,
          21,
          22,
          3,
          2,
          6,
          176,
          65,
          6,
          16,
          19,
          15,
          13,
          12,
          9,
          2,
          5,
          7,
          24,
          23,
          26,
          24,
          29,
          15,
          25,
          36,
          11,
          11,
          111,
          12,
          173,
          46,
          17,
          276,
          3,
          16,
          52,
          3,
          257,
          140,
          5,
          2,
          1,
          3,
          7,
          7,
          42,
          21,
          14,
          21,
          2852,
          7,
          88,
          386,
          376,
          28,
          136,
          3,
          62,
          110,
          745,
          44,
          13,
          14,
          90,
          129,
          55,
          22,
          138,
          38,
          85,
          70,
          134,
          40,
          9,
          278,
          1604,
          60,
          313,
          82,
          72,
          460,
          12,
          91,
          627,
          859,
          138,
          10,
          160,
          226,
          9,
          119,
          327,
          32,
          283,
          131,
          91,
          488,
          210,
          76,
          48,
          54,
          20,
          259,
          21,
          599,
          352,
          3080,
          110,
          166,
          20,
          104,
          521,
          57,
          4,
          323,
          9,
          246,
          1068,
          8887,
          7,
          958,
          8689,
          261,
          376,
          28,
          148,
          136,
          3
         ]
        }
       ],
       "layout": {
        "coloraxis": {
         "colorbar": {
          "title": {
           "text": "commits"
          }
         },
         "colorscale": [
          [
           0,
           "rgb(252, 222, 156)"
          ],
          [
           0.16666666666666666,
           "rgb(250, 164, 118)"
          ],
          [
           0.3333333333333333,
           "rgb(240, 116, 110)"
          ],
          [
           0.5,
           "rgb(227, 79, 111)"
          ],
          [
           0.6666666666666666,
           "rgb(220, 57, 119)"
          ],
          [
           0.8333333333333334,
           "rgb(185, 37, 122)"
          ],
          [
           1,
           "rgb(124, 29, 111)"
          ]
         ]
        },
        "height": 800,
        "legend": {
         "tracegroupgap": 0
        },
        "margin": {
         "b": 25,
         "l": 25,
         "r": 25,
         "t": 50
        },
        "template": {
         "data": {
          "bar": [
           {
            "error_x": {
             "color": "#f2f5fa"
            },
            "error_y": {
             "color": "#f2f5fa"
            },
            "marker": {
             "line": {
              "color": "rgb(17,17,17)",
              "width": 0.5
             },
             "pattern": {
              "fillmode": "overlay",
              "size": 10,
              "solidity": 0.2
             }
            },
            "type": "bar"
           }
          ],
          "barpolar": [
           {
            "marker": {
             "line": {
              "color": "rgb(17,17,17)",
              "width": 0.5
             },
             "pattern": {
              "fillmode": "overlay",
              "size": 10,
              "solidity": 0.2
             }
            },
            "type": "barpolar"
           }
          ],
          "carpet": [
           {
            "aaxis": {
             "endlinecolor": "#A2B1C6",
             "gridcolor": "#506784",
             "linecolor": "#506784",
             "minorgridcolor": "#506784",
             "startlinecolor": "#A2B1C6"
            },
            "baxis": {
             "endlinecolor": "#A2B1C6",
             "gridcolor": "#506784",
             "linecolor": "#506784",
             "minorgridcolor": "#506784",
             "startlinecolor": "#A2B1C6"
            },
            "type": "carpet"
           }
          ],
          "choropleth": [
           {
            "colorbar": {
             "outlinewidth": 0,
             "ticks": ""
            },
            "type": "choropleth"
           }
          ],
          "contour": [
           {
            "colorbar": {
             "outlinewidth": 0,
             "ticks": ""
            },
            "colorscale": [
             [
              0,
              "#0d0887"
             ],
             [
              0.1111111111111111,
              "#46039f"
             ],
             [
              0.2222222222222222,
              "#7201a8"
             ],
             [
              0.3333333333333333,
              "#9c179e"
             ],
             [
              0.4444444444444444,
              "#bd3786"
             ],
             [
              0.5555555555555556,
              "#d8576b"
             ],
             [
              0.6666666666666666,
              "#ed7953"
             ],
             [
              0.7777777777777778,
              "#fb9f3a"
             ],
             [
              0.8888888888888888,
              "#fdca26"
             ],
             [
              1,
              "#f0f921"
             ]
            ],
            "type": "contour"
           }
          ],
          "contourcarpet": [
           {
            "colorbar": {
             "outlinewidth": 0,
             "ticks": ""
            },
            "type": "contourcarpet"
           }
          ],
          "heatmap": [
           {
            "colorbar": {
             "outlinewidth": 0,
             "ticks": ""
            },
            "colorscale": [
             [
              0,
              "#0d0887"
             ],
             [
              0.1111111111111111,
              "#46039f"
             ],
             [
              0.2222222222222222,
              "#7201a8"
             ],
             [
              0.3333333333333333,
              "#9c179e"
             ],
             [
              0.4444444444444444,
              "#bd3786"
             ],
             [
              0.5555555555555556,
              "#d8576b"
             ],
             [
              0.6666666666666666,
              "#ed7953"
             ],
             [
              0.7777777777777778,
              "#fb9f3a"
             ],
             [
              0.8888888888888888,
              "#fdca26"
             ],
             [
              1,
              "#f0f921"
             ]
            ],
            "type": "heatmap"
           }
          ],
          "heatmapgl": [
           {
            "colorbar": {
             "outlinewidth": 0,
             "ticks": ""
            },
            "colorscale": [
             [
              0,
              "#0d0887"
             ],
             [
              0.1111111111111111,
              "#46039f"
             ],
             [
              0.2222222222222222,
              "#7201a8"
             ],
             [
              0.3333333333333333,
              "#9c179e"
             ],
             [
              0.4444444444444444,
              "#bd3786"
             ],
             [
              0.5555555555555556,
              "#d8576b"
             ],
             [
              0.6666666666666666,
              "#ed7953"
             ],
             [
              0.7777777777777778,
              "#fb9f3a"
             ],
             [
              0.8888888888888888,
              "#fdca26"
             ],
             [
              1,
              "#f0f921"
             ]
            ],
            "type": "heatmapgl"
           }
          ],
          "histogram": [
           {
            "marker": {
             "pattern": {
              "fillmode": "overlay",
              "size": 10,
              "solidity": 0.2
             }
            },
            "type": "histogram"
           }
          ],
          "histogram2d": [
           {
            "colorbar": {
             "outlinewidth": 0,
             "ticks": ""
            },
            "colorscale": [
             [
              0,
              "#0d0887"
             ],
             [
              0.1111111111111111,
              "#46039f"
             ],
             [
              0.2222222222222222,
              "#7201a8"
             ],
             [
              0.3333333333333333,
              "#9c179e"
             ],
             [
              0.4444444444444444,
              "#bd3786"
             ],
             [
              0.5555555555555556,
              "#d8576b"
             ],
             [
              0.6666666666666666,
              "#ed7953"
             ],
             [
              0.7777777777777778,
              "#fb9f3a"
             ],
             [
              0.8888888888888888,
              "#fdca26"
             ],
             [
              1,
              "#f0f921"
             ]
            ],
            "type": "histogram2d"
           }
          ],
          "histogram2dcontour": [
           {
            "colorbar": {
             "outlinewidth": 0,
             "ticks": ""
            },
            "colorscale": [
             [
              0,
              "#0d0887"
             ],
             [
              0.1111111111111111,
              "#46039f"
             ],
             [
              0.2222222222222222,
              "#7201a8"
             ],
             [
              0.3333333333333333,
              "#9c179e"
             ],
             [
              0.4444444444444444,
              "#bd3786"
             ],
             [
              0.5555555555555556,
              "#d8576b"
             ],
             [
              0.6666666666666666,
              "#ed7953"
             ],
             [
              0.7777777777777778,
              "#fb9f3a"
             ],
             [
              0.8888888888888888,
              "#fdca26"
             ],
             [
              1,
              "#f0f921"
             ]
            ],
            "type": "histogram2dcontour"
           }
          ],
          "mesh3d": [
           {
            "colorbar": {
             "outlinewidth": 0,
             "ticks": ""
            },
            "type": "mesh3d"
           }
          ],
          "parcoords": [
           {
            "line": {
             "colorbar": {
              "outlinewidth": 0,
              "ticks": ""
             }
            },
            "type": "parcoords"
           }
          ],
          "pie": [
           {
            "automargin": true,
            "type": "pie"
           }
          ],
          "scatter": [
           {
            "marker": {
             "line": {
              "color": "#283442"
             }
            },
            "type": "scatter"
           }
          ],
          "scatter3d": [
           {
            "line": {
             "colorbar": {
              "outlinewidth": 0,
              "ticks": ""
             }
            },
            "marker": {
             "colorbar": {
              "outlinewidth": 0,
              "ticks": ""
             }
            },
            "type": "scatter3d"
           }
          ],
          "scattercarpet": [
           {
            "marker": {
             "colorbar": {
              "outlinewidth": 0,
              "ticks": ""
             }
            },
            "type": "scattercarpet"
           }
          ],
          "scattergeo": [
           {
            "marker": {
             "colorbar": {
              "outlinewidth": 0,
              "ticks": ""
             }
            },
            "type": "scattergeo"
           }
          ],
          "scattergl": [
           {
            "marker": {
             "line": {
              "color": "#283442"
             }
            },
            "type": "scattergl"
           }
          ],
          "scattermapbox": [
           {
            "marker": {
             "colorbar": {
              "outlinewidth": 0,
              "ticks": ""
             }
            },
            "type": "scattermapbox"
           }
          ],
          "scatterpolar": [
           {
            "marker": {
             "colorbar": {
              "outlinewidth": 0,
              "ticks": ""
             }
            },
            "type": "scatterpolar"
           }
          ],
          "scatterpolargl": [
           {
            "marker": {
             "colorbar": {
              "outlinewidth": 0,
              "ticks": ""
             }
            },
            "type": "scatterpolargl"
           }
          ],
          "scatterternary": [
           {
            "marker": {
             "colorbar": {
              "outlinewidth": 0,
              "ticks": ""
             }
            },
            "type": "scatterternary"
           }
          ],
          "surface": [
           {
            "colorbar": {
             "outlinewidth": 0,
             "ticks": ""
            },
            "colorscale": [
             [
              0,
              "#0d0887"
             ],
             [
              0.1111111111111111,
              "#46039f"
             ],
             [
              0.2222222222222222,
              "#7201a8"
             ],
             [
              0.3333333333333333,
              "#9c179e"
             ],
             [
              0.4444444444444444,
              "#bd3786"
             ],
             [
              0.5555555555555556,
              "#d8576b"
             ],
             [
              0.6666666666666666,
              "#ed7953"
             ],
             [
              0.7777777777777778,
              "#fb9f3a"
             ],
             [
              0.8888888888888888,
              "#fdca26"
             ],
             [
              1,
              "#f0f921"
             ]
            ],
            "type": "surface"
           }
          ],
          "table": [
           {
            "cells": {
             "fill": {
              "color": "#506784"
             },
             "line": {
              "color": "rgb(17,17,17)"
             }
            },
            "header": {
             "fill": {
              "color": "#2a3f5f"
             },
             "line": {
              "color": "rgb(17,17,17)"
             }
            },
            "type": "table"
           }
          ]
         },
         "layout": {
          "annotationdefaults": {
           "arrowcolor": "#f2f5fa",
           "arrowhead": 0,
           "arrowwidth": 1
          },
          "autotypenumbers": "strict",
          "coloraxis": {
           "colorbar": {
            "outlinewidth": 0,
            "ticks": ""
           }
          },
          "colorscale": {
           "diverging": [
            [
             0,
             "#8e0152"
            ],
            [
             0.1,
             "#c51b7d"
            ],
            [
             0.2,
             "#de77ae"
            ],
            [
             0.3,
             "#f1b6da"
            ],
            [
             0.4,
             "#fde0ef"
            ],
            [
             0.5,
             "#f7f7f7"
            ],
            [
             0.6,
             "#e6f5d0"
            ],
            [
             0.7,
             "#b8e186"
            ],
            [
             0.8,
             "#7fbc41"
            ],
            [
             0.9,
             "#4d9221"
            ],
            [
             1,
             "#276419"
            ]
           ],
           "sequential": [
            [
             0,
             "#0d0887"
            ],
            [
             0.1111111111111111,
             "#46039f"
            ],
            [
             0.2222222222222222,
             "#7201a8"
            ],
            [
             0.3333333333333333,
             "#9c179e"
            ],
            [
             0.4444444444444444,
             "#bd3786"
            ],
            [
             0.5555555555555556,
             "#d8576b"
            ],
            [
             0.6666666666666666,
             "#ed7953"
            ],
            [
             0.7777777777777778,
             "#fb9f3a"
            ],
            [
             0.8888888888888888,
             "#fdca26"
            ],
            [
             1,
             "#f0f921"
            ]
           ],
           "sequentialminus": [
            [
             0,
             "#0d0887"
            ],
            [
             0.1111111111111111,
             "#46039f"
            ],
            [
             0.2222222222222222,
             "#7201a8"
            ],
            [
             0.3333333333333333,
             "#9c179e"
            ],
            [
             0.4444444444444444,
             "#bd3786"
            ],
            [
             0.5555555555555556,
             "#d8576b"
            ],
            [
             0.6666666666666666,
             "#ed7953"
            ],
            [
             0.7777777777777778,
             "#fb9f3a"
            ],
            [
             0.8888888888888888,
             "#fdca26"
            ],
            [
             1,
             "#f0f921"
            ]
           ]
          },
          "colorway": [
           "#636efa",
           "#EF553B",
           "#00cc96",
           "#ab63fa",
           "#FFA15A",
           "#19d3f3",
           "#FF6692",
           "#B6E880",
           "#FF97FF",
           "#FECB52"
          ],
          "font": {
           "color": "#f2f5fa"
          },
          "geo": {
           "bgcolor": "rgb(17,17,17)",
           "lakecolor": "rgb(17,17,17)",
           "landcolor": "rgb(17,17,17)",
           "showlakes": true,
           "showland": true,
           "subunitcolor": "#506784"
          },
          "hoverlabel": {
           "align": "left"
          },
          "hovermode": "closest",
          "mapbox": {
           "style": "dark"
          },
          "paper_bgcolor": "rgb(17,17,17)",
          "plot_bgcolor": "rgb(17,17,17)",
          "polar": {
           "angularaxis": {
            "gridcolor": "#506784",
            "linecolor": "#506784",
            "ticks": ""
           },
           "bgcolor": "rgb(17,17,17)",
           "radialaxis": {
            "gridcolor": "#506784",
            "linecolor": "#506784",
            "ticks": ""
           }
          },
          "scene": {
           "xaxis": {
            "backgroundcolor": "rgb(17,17,17)",
            "gridcolor": "#506784",
            "gridwidth": 2,
            "linecolor": "#506784",
            "showbackground": true,
            "ticks": "",
            "zerolinecolor": "#C8D4E3"
           },
           "yaxis": {
            "backgroundcolor": "rgb(17,17,17)",
            "gridcolor": "#506784",
            "gridwidth": 2,
            "linecolor": "#506784",
            "showbackground": true,
            "ticks": "",
            "zerolinecolor": "#C8D4E3"
           },
           "zaxis": {
            "backgroundcolor": "rgb(17,17,17)",
            "gridcolor": "#506784",
            "gridwidth": 2,
            "linecolor": "#506784",
            "showbackground": true,
            "ticks": "",
            "zerolinecolor": "#C8D4E3"
           }
          },
          "shapedefaults": {
           "line": {
            "color": "#f2f5fa"
           }
          },
          "sliderdefaults": {
           "bgcolor": "#C8D4E3",
           "bordercolor": "rgb(17,17,17)",
           "borderwidth": 1,
           "tickwidth": 0
          },
          "ternary": {
           "aaxis": {
            "gridcolor": "#506784",
            "linecolor": "#506784",
            "ticks": ""
           },
           "baxis": {
            "gridcolor": "#506784",
            "linecolor": "#506784",
            "ticks": ""
           },
           "bgcolor": "rgb(17,17,17)",
           "caxis": {
            "gridcolor": "#506784",
            "linecolor": "#506784",
            "ticks": ""
           }
          },
          "title": {
           "x": 0.05
          },
          "updatemenudefaults": {
           "bgcolor": "#506784",
           "borderwidth": 0
          },
          "xaxis": {
           "automargin": true,
           "gridcolor": "#283442",
           "linecolor": "#506784",
           "ticks": "",
           "title": {
            "standoff": 15
           },
           "zerolinecolor": "#283442",
           "zerolinewidth": 2
          },
          "yaxis": {
           "automargin": true,
           "gridcolor": "#283442",
           "linecolor": "#506784",
           "ticks": "",
           "title": {
            "standoff": 15
           },
           "zerolinecolor": "#283442",
           "zerolinewidth": 2
          }
         }
        },
        "title": {
         "text": "Files receiving frequent commits"
        },
        "width": 1024
       }
      }
     },
     "metadata": {},
     "output_type": "display_data"
    }
   ],
   "source": [
    "# Sunburst diagram. Same data as a treemap, but different presentation\n",
    "fig = px.sunburst(df_grouped,\n",
    "                 path=[df_grouped.index.get_level_values(1),df_grouped.index.get_level_values(2),df_grouped.index.get_level_values(3)],\n",
    "                 color='commits',\n",
    "                 title='Files receiving frequent commits',\n",
    "                 #hover_data=['fullpath'],\n",
    "                 color_continuous_scale='sunsetdark',\n",
    "                 template=template,\n",
    "                 width=1024,\n",
    "                 height=800,\n",
    "                 values='commits')\n",
    "fig.update_layout(margin = dict(t=50, l=25, r=25, b=25))\n",
    "fig.show()"
   ]
  }
 ],
 "metadata": {
  "kernelspec": {
   "display_name": "Python 3",
   "language": "python",
   "name": "python3"
  },
  "language_info": {
   "codemirror_mode": {
    "name": "ipython",
    "version": 3
   },
   "file_extension": ".py",
   "mimetype": "text/x-python",
   "name": "python",
   "nbconvert_exporter": "python",
   "pygments_lexer": "ipython3",
   "version": "3.8.8"
  }
 },
 "nbformat": 4,
 "nbformat_minor": 0
}
